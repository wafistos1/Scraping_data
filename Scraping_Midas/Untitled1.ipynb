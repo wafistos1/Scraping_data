{
 "cells": [
  {
   "cell_type": "code",
   "execution_count": 4,
   "id": "dac322e2",
   "metadata": {},
   "outputs": [],
   "source": [
    "import time\n",
    "import os\n",
    "from fake_useragent import UserAgent\n",
    "from random import randint\n",
    "import pandas as pd\n",
    "import re\n",
    "import numpy as np"
   ]
  },
  {
   "cell_type": "code",
   "execution_count": null,
   "id": "4f8d2c50",
   "metadata": {},
   "outputs": [],
   "source": []
  },
  {
   "cell_type": "code",
   "execution_count": 2,
   "id": "91e852fc",
   "metadata": {},
   "outputs": [],
   "source": [
    "df1 = pd.read_excel('update_office_furniture.xlsx')"
   ]
  },
  {
   "cell_type": "code",
   "execution_count": null,
   "id": "0c03fa5e",
   "metadata": {},
   "outputs": [],
   "source": []
  },
  {
   "cell_type": "code",
   "execution_count": 3,
   "id": "574d2ed4",
   "metadata": {},
   "outputs": [],
   "source": [
    "df2 = pd.read_excel('update_accessories.xlsx')"
   ]
  },
  {
   "cell_type": "code",
   "execution_count": 7,
   "id": "54c0570f",
   "metadata": {},
   "outputs": [],
   "source": [
    "df3 = pd.read_excel('update_home_furniture.xlsx')"
   ]
  },
  {
   "cell_type": "code",
   "execution_count": null,
   "id": "c014e86b",
   "metadata": {},
   "outputs": [],
   "source": []
  },
  {
   "cell_type": "code",
   "execution_count": 8,
   "id": "c6817d15",
   "metadata": {},
   "outputs": [],
   "source": [
    "df = pd.concat([df1, df2, df3])"
   ]
  },
  {
   "cell_type": "code",
   "execution_count": null,
   "id": "0d5e6d5a",
   "metadata": {},
   "outputs": [],
   "source": []
  },
  {
   "cell_type": "code",
   "execution_count": 9,
   "id": "5de9ace0",
   "metadata": {},
   "outputs": [
    {
     "data": {
      "text/html": [
       "<div>\n",
       "<style scoped>\n",
       "    .dataframe tbody tr th:only-of-type {\n",
       "        vertical-align: middle;\n",
       "    }\n",
       "\n",
       "    .dataframe tbody tr th {\n",
       "        vertical-align: top;\n",
       "    }\n",
       "\n",
       "    .dataframe thead th {\n",
       "        text-align: right;\n",
       "    }\n",
       "</style>\n",
       "<table border=\"1\" class=\"dataframe\">\n",
       "  <thead>\n",
       "    <tr style=\"text-align: right;\">\n",
       "      <th></th>\n",
       "      <th>Unnamed: 0</th>\n",
       "      <th>Sku</th>\n",
       "      <th>In Stock</th>\n",
       "      <th>Price</th>\n",
       "      <th>Price was</th>\n",
       "      <th>Link url</th>\n",
       "    </tr>\n",
       "  </thead>\n",
       "  <tbody>\n",
       "    <tr>\n",
       "      <th>0</th>\n",
       "      <td>0</td>\n",
       "      <td>99851</td>\n",
       "      <td>متوفر</td>\n",
       "      <td>358.00</td>\n",
       "      <td>447.50</td>\n",
       "      <td>https://midasfurniture.com/ksa_ar/visitor-chai...</td>\n",
       "    </tr>\n",
       "    <tr>\n",
       "      <th>1</th>\n",
       "      <td>1</td>\n",
       "      <td>99848</td>\n",
       "      <td>متوفر</td>\n",
       "      <td>726.00</td>\n",
       "      <td>907.50</td>\n",
       "      <td>https://midasfurniture.com/ksa_ar/meeting-tabl...</td>\n",
       "    </tr>\n",
       "    <tr>\n",
       "      <th>2</th>\n",
       "      <td>2</td>\n",
       "      <td>99832</td>\n",
       "      <td>متوفر</td>\n",
       "      <td>1,265.00</td>\n",
       "      <td>1,581.25</td>\n",
       "      <td>https://midasfurniture.com/ksa_ar/cabinet.html</td>\n",
       "    </tr>\n",
       "    <tr>\n",
       "      <th>3</th>\n",
       "      <td>3</td>\n",
       "      <td>99829</td>\n",
       "      <td>متوفر</td>\n",
       "      <td>2,022.00</td>\n",
       "      <td>2,527.50</td>\n",
       "      <td>https://midasfurniture.com/ksa_ar/romero-desk....</td>\n",
       "    </tr>\n",
       "    <tr>\n",
       "      <th>4</th>\n",
       "      <td>4</td>\n",
       "      <td>87650</td>\n",
       "      <td>متوفر</td>\n",
       "      <td>248.00</td>\n",
       "      <td>310.00</td>\n",
       "      <td>https://midasfurniture.com/ksa_ar/hudson-visit...</td>\n",
       "    </tr>\n",
       "    <tr>\n",
       "      <th>...</th>\n",
       "      <td>...</td>\n",
       "      <td>...</td>\n",
       "      <td>...</td>\n",
       "      <td>...</td>\n",
       "      <td>...</td>\n",
       "      <td>...</td>\n",
       "    </tr>\n",
       "    <tr>\n",
       "      <th>2840</th>\n",
       "      <td>2840</td>\n",
       "      <td>128627</td>\n",
       "      <td>متوفر</td>\n",
       "      <td>1,436.00</td>\n",
       "      <td>1,795.00</td>\n",
       "      <td>https://midasfurniture.com/ksa_ar/todora-chair...</td>\n",
       "    </tr>\n",
       "    <tr>\n",
       "      <th>2841</th>\n",
       "      <td>2841</td>\n",
       "      <td>128626</td>\n",
       "      <td>متوفر</td>\n",
       "      <td>1,668.00</td>\n",
       "      <td>2,085.00</td>\n",
       "      <td>https://midasfurniture.com/ksa_ar/ferlin-chair...</td>\n",
       "    </tr>\n",
       "    <tr>\n",
       "      <th>2842</th>\n",
       "      <td>2842</td>\n",
       "      <td>128628</td>\n",
       "      <td>متوفر</td>\n",
       "      <td>1,168.00</td>\n",
       "      <td>1,460.00</td>\n",
       "      <td>https://midasfurniture.com/ksa_ar/andover-chai...</td>\n",
       "    </tr>\n",
       "    <tr>\n",
       "      <th>2843</th>\n",
       "      <td>2843</td>\n",
       "      <td>128315</td>\n",
       "      <td>متوفر</td>\n",
       "      <td>5,800.00</td>\n",
       "      <td>7,250.00</td>\n",
       "      <td>https://midasfurniture.com/ksa_ar/clovelly-sof...</td>\n",
       "    </tr>\n",
       "    <tr>\n",
       "      <th>2844</th>\n",
       "      <td>2844</td>\n",
       "      <td>128035</td>\n",
       "      <td>متوفر</td>\n",
       "      <td>852.00</td>\n",
       "      <td>1,065.00</td>\n",
       "      <td>https://midasfurniture.com/ksa_ar/petros-end-t...</td>\n",
       "    </tr>\n",
       "  </tbody>\n",
       "</table>\n",
       "<p>7683 rows × 6 columns</p>\n",
       "</div>"
      ],
      "text/plain": [
       "      Unnamed: 0     Sku In Stock     Price Price was  \\\n",
       "0              0   99851    متوفر    358.00    447.50   \n",
       "1              1   99848    متوفر    726.00    907.50   \n",
       "2              2   99832    متوفر  1,265.00  1,581.25   \n",
       "3              3   99829    متوفر  2,022.00  2,527.50   \n",
       "4              4   87650    متوفر    248.00    310.00   \n",
       "...          ...     ...      ...       ...       ...   \n",
       "2840        2840  128627    متوفر  1,436.00  1,795.00   \n",
       "2841        2841  128626    متوفر  1,668.00  2,085.00   \n",
       "2842        2842  128628    متوفر  1,168.00  1,460.00   \n",
       "2843        2843  128315    متوفر  5,800.00  7,250.00   \n",
       "2844        2844  128035    متوفر    852.00  1,065.00   \n",
       "\n",
       "                                               Link url  \n",
       "0     https://midasfurniture.com/ksa_ar/visitor-chai...  \n",
       "1     https://midasfurniture.com/ksa_ar/meeting-tabl...  \n",
       "2        https://midasfurniture.com/ksa_ar/cabinet.html  \n",
       "3     https://midasfurniture.com/ksa_ar/romero-desk....  \n",
       "4     https://midasfurniture.com/ksa_ar/hudson-visit...  \n",
       "...                                                 ...  \n",
       "2840  https://midasfurniture.com/ksa_ar/todora-chair...  \n",
       "2841  https://midasfurniture.com/ksa_ar/ferlin-chair...  \n",
       "2842  https://midasfurniture.com/ksa_ar/andover-chai...  \n",
       "2843  https://midasfurniture.com/ksa_ar/clovelly-sof...  \n",
       "2844  https://midasfurniture.com/ksa_ar/petros-end-t...  \n",
       "\n",
       "[7683 rows x 6 columns]"
      ]
     },
     "execution_count": 9,
     "metadata": {},
     "output_type": "execute_result"
    }
   ],
   "source": [
    "df\n"
   ]
  },
  {
   "cell_type": "code",
   "execution_count": 10,
   "id": "b44aa26e",
   "metadata": {},
   "outputs": [],
   "source": [
    "df.to_excel('update_06_06_2021_midas.xlsx')"
   ]
  },
  {
   "cell_type": "code",
   "execution_count": 11,
   "id": "62392e4a",
   "metadata": {},
   "outputs": [],
   "source": [
    "df4 = df.loc[df['In Stock'] == 'متوفر']"
   ]
  },
  {
   "cell_type": "code",
   "execution_count": 13,
   "id": "f3b05006",
   "metadata": {},
   "outputs": [],
   "source": [
    "df4.to_excel('updat_06_06_2021_midas_only_available.xlsx')"
   ]
  },
  {
   "cell_type": "code",
   "execution_count": null,
   "id": "e21f0a87",
   "metadata": {},
   "outputs": [],
   "source": []
  },
  {
   "cell_type": "code",
   "execution_count": null,
   "id": "7c8eecc1",
   "metadata": {},
   "outputs": [],
   "source": []
  },
  {
   "cell_type": "code",
   "execution_count": null,
   "id": "3e5200a5",
   "metadata": {},
   "outputs": [],
   "source": []
  }
 ],
 "metadata": {
  "kernelspec": {
   "display_name": "Python 3",
   "language": "python",
   "name": "python3"
  },
  "language_info": {
   "codemirror_mode": {
    "name": "ipython",
    "version": 3
   },
   "file_extension": ".py",
   "mimetype": "text/x-python",
   "name": "python",
   "nbconvert_exporter": "python",
   "pygments_lexer": "ipython3",
   "version": "3.8.8"
  }
 },
 "nbformat": 4,
 "nbformat_minor": 5
}
