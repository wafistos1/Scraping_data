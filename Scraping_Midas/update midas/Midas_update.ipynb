{
 "cells": [
  {
   "cell_type": "code",
   "execution_count": 1,
   "id": "d2ceb777",
   "metadata": {},
   "outputs": [],
   "source": [
    "#imports here\n",
    "from selenium import webdriver\n",
    "from selenium.webdriver.common.keys import Keys\n",
    "from selenium.webdriver.support import expected_conditions as EC\n",
    "from selenium.webdriver.common.by import By\n",
    "from selenium.webdriver.support.wait import WebDriverWait\n",
    "from selenium.webdriver.firefox.options import Options\n",
    "import time\n",
    "import os\n",
    "from fake_useragent import UserAgent\n",
    "from random import randint\n",
    "import pandas as pd\n",
    "import numpy as np\n",
    "import re\n",
    "from datetime import datetime\n",
    "from datetime import timedelta\n",
    "from bs4 import BeautifulSoup\n",
    "from urllib.parse import urljoin\n",
    "import requests\n",
    "from sqlalchemy.exc import IntegrityError\n",
    "import string\n",
    "from collections import Counter"
   ]
  },
  {
   "cell_type": "markdown",
   "id": "0f30edf7",
   "metadata": {},
   "source": [
    "# Save result on sqlite data"
   ]
  },
  {
   "cell_type": "code",
   "execution_count": 39,
   "id": "3e2d8338",
   "metadata": {
    "scrolled": true
   },
   "outputs": [
    {
     "ename": "ResourceClosedError",
     "evalue": "This result object does not return rows. It has been closed automatically.",
     "output_type": "error",
     "traceback": [
      "\u001b[0;31m---------------------------------------------------------------------------\u001b[0m",
      "\u001b[0;31mResourceClosedError\u001b[0m                       Traceback (most recent call last)",
      "\u001b[0;32m<ipython-input-39-f064ed560730>\u001b[0m in \u001b[0;36m<module>\u001b[0;34m\u001b[0m\n\u001b[1;32m      2\u001b[0m \u001b[0;31m# rows = db.query('select * from links')\u001b[0m\u001b[0;34m\u001b[0m\u001b[0;34m\u001b[0m\u001b[0;34m\u001b[0m\u001b[0m\n\u001b[1;32m      3\u001b[0m \u001b[0;34m\u001b[0m\u001b[0m\n\u001b[0;32m----> 4\u001b[0;31m db.query('''CREATE TABLE IF NOT EXISTS links1 (\n\u001b[0m\u001b[1;32m      5\u001b[0m             \u001b[0murl\u001b[0m \u001b[0mtext\u001b[0m \u001b[0mPRIMARY\u001b[0m \u001b[0mKEY\u001b[0m\u001b[0;34m,\u001b[0m\u001b[0;34m\u001b[0m\u001b[0;34m\u001b[0m\u001b[0m\n\u001b[1;32m      6\u001b[0m             \u001b[0mcreated_at\u001b[0m \u001b[0mdatetime\u001b[0m\u001b[0;34m,\u001b[0m\u001b[0;34m\u001b[0m\u001b[0;34m\u001b[0m\u001b[0m\n",
      "\u001b[0;32m~/anaconda3/lib/python3.8/site-packages/records.py\u001b[0m in \u001b[0;36mquery\u001b[0;34m(self, query, fetchall, **params)\u001b[0m\n\u001b[1;32m    298\u001b[0m         \"\"\"\n\u001b[1;32m    299\u001b[0m         \u001b[0;32mwith\u001b[0m \u001b[0mself\u001b[0m\u001b[0;34m.\u001b[0m\u001b[0mget_connection\u001b[0m\u001b[0;34m(\u001b[0m\u001b[0;34m)\u001b[0m \u001b[0;32mas\u001b[0m \u001b[0mconn\u001b[0m\u001b[0;34m:\u001b[0m\u001b[0;34m\u001b[0m\u001b[0;34m\u001b[0m\u001b[0m\n\u001b[0;32m--> 300\u001b[0;31m             \u001b[0;32mreturn\u001b[0m \u001b[0mconn\u001b[0m\u001b[0;34m.\u001b[0m\u001b[0mquery\u001b[0m\u001b[0;34m(\u001b[0m\u001b[0mquery\u001b[0m\u001b[0;34m,\u001b[0m \u001b[0mfetchall\u001b[0m\u001b[0;34m,\u001b[0m \u001b[0;34m**\u001b[0m\u001b[0mparams\u001b[0m\u001b[0;34m)\u001b[0m\u001b[0;34m\u001b[0m\u001b[0;34m\u001b[0m\u001b[0m\n\u001b[0m\u001b[1;32m    301\u001b[0m \u001b[0;34m\u001b[0m\u001b[0m\n\u001b[1;32m    302\u001b[0m     \u001b[0;32mdef\u001b[0m \u001b[0mbulk_query\u001b[0m\u001b[0;34m(\u001b[0m\u001b[0mself\u001b[0m\u001b[0;34m,\u001b[0m \u001b[0mquery\u001b[0m\u001b[0;34m,\u001b[0m \u001b[0;34m*\u001b[0m\u001b[0mmultiparams\u001b[0m\u001b[0;34m)\u001b[0m\u001b[0;34m:\u001b[0m\u001b[0;34m\u001b[0m\u001b[0;34m\u001b[0m\u001b[0m\n",
      "\u001b[0;32m~/anaconda3/lib/python3.8/site-packages/records.py\u001b[0m in \u001b[0;36mquery\u001b[0;34m(self, query, fetchall, **params)\u001b[0m\n\u001b[1;32m    363\u001b[0m \u001b[0;34m\u001b[0m\u001b[0m\n\u001b[1;32m    364\u001b[0m         \u001b[0;31m# Row-by-row Record generator.\u001b[0m\u001b[0;34m\u001b[0m\u001b[0;34m\u001b[0m\u001b[0;34m\u001b[0m\u001b[0m\n\u001b[0;32m--> 365\u001b[0;31m         \u001b[0mrow_gen\u001b[0m \u001b[0;34m=\u001b[0m \u001b[0;34m(\u001b[0m\u001b[0mRecord\u001b[0m\u001b[0;34m(\u001b[0m\u001b[0mcursor\u001b[0m\u001b[0;34m.\u001b[0m\u001b[0mkeys\u001b[0m\u001b[0;34m(\u001b[0m\u001b[0;34m)\u001b[0m\u001b[0;34m,\u001b[0m \u001b[0mrow\u001b[0m\u001b[0;34m)\u001b[0m \u001b[0;32mfor\u001b[0m \u001b[0mrow\u001b[0m \u001b[0;32min\u001b[0m \u001b[0mcursor\u001b[0m\u001b[0;34m)\u001b[0m\u001b[0;34m\u001b[0m\u001b[0;34m\u001b[0m\u001b[0m\n\u001b[0m\u001b[1;32m    366\u001b[0m \u001b[0;34m\u001b[0m\u001b[0m\n\u001b[1;32m    367\u001b[0m         \u001b[0;31m# Convert psycopg2 results to RecordCollection.\u001b[0m\u001b[0;34m\u001b[0m\u001b[0;34m\u001b[0m\u001b[0;34m\u001b[0m\u001b[0m\n",
      "\u001b[0;32m~/anaconda3/lib/python3.8/site-packages/sqlalchemy/engine/result.py\u001b[0m in \u001b[0;36m__iter__\u001b[0;34m(self)\u001b[0m\n\u001b[1;32m    931\u001b[0m \u001b[0;34m\u001b[0m\u001b[0m\n\u001b[1;32m    932\u001b[0m     \u001b[0;32mdef\u001b[0m \u001b[0m__iter__\u001b[0m\u001b[0;34m(\u001b[0m\u001b[0mself\u001b[0m\u001b[0;34m)\u001b[0m\u001b[0;34m:\u001b[0m\u001b[0;34m\u001b[0m\u001b[0;34m\u001b[0m\u001b[0m\n\u001b[0;32m--> 933\u001b[0;31m         \u001b[0;32mreturn\u001b[0m \u001b[0mself\u001b[0m\u001b[0;34m.\u001b[0m\u001b[0m_iter_impl\u001b[0m\u001b[0;34m(\u001b[0m\u001b[0;34m)\u001b[0m\u001b[0;34m\u001b[0m\u001b[0;34m\u001b[0m\u001b[0m\n\u001b[0m\u001b[1;32m    934\u001b[0m \u001b[0;34m\u001b[0m\u001b[0m\n\u001b[1;32m    935\u001b[0m     \u001b[0;32mdef\u001b[0m \u001b[0m__next__\u001b[0m\u001b[0;34m(\u001b[0m\u001b[0mself\u001b[0m\u001b[0;34m)\u001b[0m\u001b[0;34m:\u001b[0m\u001b[0;34m\u001b[0m\u001b[0;34m\u001b[0m\u001b[0m\n",
      "\u001b[0;32m~/anaconda3/lib/python3.8/site-packages/sqlalchemy/engine/result.py\u001b[0m in \u001b[0;36m_iter_impl\u001b[0;34m(self)\u001b[0m\n\u001b[1;32m    634\u001b[0m \u001b[0;34m\u001b[0m\u001b[0m\n\u001b[1;32m    635\u001b[0m     \u001b[0;32mdef\u001b[0m \u001b[0m_iter_impl\u001b[0m\u001b[0;34m(\u001b[0m\u001b[0mself\u001b[0m\u001b[0;34m)\u001b[0m\u001b[0;34m:\u001b[0m\u001b[0;34m\u001b[0m\u001b[0;34m\u001b[0m\u001b[0m\n\u001b[0;32m--> 636\u001b[0;31m         \u001b[0;32mreturn\u001b[0m \u001b[0mself\u001b[0m\u001b[0;34m.\u001b[0m\u001b[0m_iterator_getter\u001b[0m\u001b[0;34m(\u001b[0m\u001b[0mself\u001b[0m\u001b[0;34m)\u001b[0m\u001b[0;34m\u001b[0m\u001b[0;34m\u001b[0m\u001b[0m\n\u001b[0m\u001b[1;32m    637\u001b[0m \u001b[0;34m\u001b[0m\u001b[0m\n\u001b[1;32m    638\u001b[0m     \u001b[0;32mdef\u001b[0m \u001b[0m_next_impl\u001b[0m\u001b[0;34m(\u001b[0m\u001b[0mself\u001b[0m\u001b[0;34m)\u001b[0m\u001b[0;34m:\u001b[0m\u001b[0;34m\u001b[0m\u001b[0;34m\u001b[0m\u001b[0m\n",
      "\u001b[0;32m~/anaconda3/lib/python3.8/site-packages/sqlalchemy/util/langhelpers.py\u001b[0m in \u001b[0;36m__get__\u001b[0;34m(self, obj, cls)\u001b[0m\n\u001b[1;32m   1162\u001b[0m             \u001b[0;32mif\u001b[0m \u001b[0mobj\u001b[0m \u001b[0;32mis\u001b[0m \u001b[0;32mNone\u001b[0m\u001b[0;34m:\u001b[0m\u001b[0;34m\u001b[0m\u001b[0;34m\u001b[0m\u001b[0m\n\u001b[1;32m   1163\u001b[0m                 \u001b[0;32mreturn\u001b[0m \u001b[0mself\u001b[0m\u001b[0;34m\u001b[0m\u001b[0;34m\u001b[0m\u001b[0m\n\u001b[0;32m-> 1164\u001b[0;31m             \u001b[0mobj\u001b[0m\u001b[0;34m.\u001b[0m\u001b[0m__dict__\u001b[0m\u001b[0;34m[\u001b[0m\u001b[0mself\u001b[0m\u001b[0;34m.\u001b[0m\u001b[0m__name__\u001b[0m\u001b[0;34m]\u001b[0m \u001b[0;34m=\u001b[0m \u001b[0mresult\u001b[0m \u001b[0;34m=\u001b[0m \u001b[0mself\u001b[0m\u001b[0;34m.\u001b[0m\u001b[0mfget\u001b[0m\u001b[0;34m(\u001b[0m\u001b[0mobj\u001b[0m\u001b[0;34m)\u001b[0m\u001b[0;34m\u001b[0m\u001b[0;34m\u001b[0m\u001b[0m\n\u001b[0m\u001b[1;32m   1165\u001b[0m             \u001b[0mobj\u001b[0m\u001b[0;34m.\u001b[0m\u001b[0m_memoized_keys\u001b[0m \u001b[0;34m|=\u001b[0m \u001b[0;34m{\u001b[0m\u001b[0mself\u001b[0m\u001b[0;34m.\u001b[0m\u001b[0m__name__\u001b[0m\u001b[0;34m}\u001b[0m\u001b[0;34m\u001b[0m\u001b[0;34m\u001b[0m\u001b[0m\n\u001b[1;32m   1166\u001b[0m             \u001b[0;32mreturn\u001b[0m \u001b[0mresult\u001b[0m\u001b[0;34m\u001b[0m\u001b[0;34m\u001b[0m\u001b[0m\n",
      "\u001b[0;32m~/anaconda3/lib/python3.8/site-packages/sqlalchemy/engine/result.py\u001b[0m in \u001b[0;36m_iterator_getter\u001b[0;34m(self)\u001b[0m\n\u001b[1;32m    358\u001b[0m     \u001b[0;32mdef\u001b[0m \u001b[0m_iterator_getter\u001b[0m\u001b[0;34m(\u001b[0m\u001b[0mself\u001b[0m\u001b[0;34m)\u001b[0m\u001b[0;34m:\u001b[0m\u001b[0;34m\u001b[0m\u001b[0;34m\u001b[0m\u001b[0m\n\u001b[1;32m    359\u001b[0m \u001b[0;34m\u001b[0m\u001b[0m\n\u001b[0;32m--> 360\u001b[0;31m         \u001b[0mmake_row\u001b[0m \u001b[0;34m=\u001b[0m \u001b[0mself\u001b[0m\u001b[0;34m.\u001b[0m\u001b[0m_row_getter\u001b[0m\u001b[0;34m\u001b[0m\u001b[0;34m\u001b[0m\u001b[0m\n\u001b[0m\u001b[1;32m    361\u001b[0m \u001b[0;34m\u001b[0m\u001b[0m\n\u001b[1;32m    362\u001b[0m         \u001b[0mpost_creational_filter\u001b[0m \u001b[0;34m=\u001b[0m \u001b[0mself\u001b[0m\u001b[0;34m.\u001b[0m\u001b[0m_post_creational_filter\u001b[0m\u001b[0;34m\u001b[0m\u001b[0;34m\u001b[0m\u001b[0m\n",
      "\u001b[0;32m~/anaconda3/lib/python3.8/site-packages/sqlalchemy/util/langhelpers.py\u001b[0m in \u001b[0;36m__get__\u001b[0;34m(self, obj, cls)\u001b[0m\n\u001b[1;32m   1162\u001b[0m             \u001b[0;32mif\u001b[0m \u001b[0mobj\u001b[0m \u001b[0;32mis\u001b[0m \u001b[0;32mNone\u001b[0m\u001b[0;34m:\u001b[0m\u001b[0;34m\u001b[0m\u001b[0;34m\u001b[0m\u001b[0m\n\u001b[1;32m   1163\u001b[0m                 \u001b[0;32mreturn\u001b[0m \u001b[0mself\u001b[0m\u001b[0;34m\u001b[0m\u001b[0;34m\u001b[0m\u001b[0m\n\u001b[0;32m-> 1164\u001b[0;31m             \u001b[0mobj\u001b[0m\u001b[0;34m.\u001b[0m\u001b[0m__dict__\u001b[0m\u001b[0;34m[\u001b[0m\u001b[0mself\u001b[0m\u001b[0;34m.\u001b[0m\u001b[0m__name__\u001b[0m\u001b[0;34m]\u001b[0m \u001b[0;34m=\u001b[0m \u001b[0mresult\u001b[0m \u001b[0;34m=\u001b[0m \u001b[0mself\u001b[0m\u001b[0;34m.\u001b[0m\u001b[0mfget\u001b[0m\u001b[0;34m(\u001b[0m\u001b[0mobj\u001b[0m\u001b[0;34m)\u001b[0m\u001b[0;34m\u001b[0m\u001b[0;34m\u001b[0m\u001b[0m\n\u001b[0m\u001b[1;32m   1165\u001b[0m             \u001b[0mobj\u001b[0m\u001b[0;34m.\u001b[0m\u001b[0m_memoized_keys\u001b[0m \u001b[0;34m|=\u001b[0m \u001b[0;34m{\u001b[0m\u001b[0mself\u001b[0m\u001b[0;34m.\u001b[0m\u001b[0m__name__\u001b[0m\u001b[0;34m}\u001b[0m\u001b[0;34m\u001b[0m\u001b[0;34m\u001b[0m\u001b[0m\n\u001b[1;32m   1166\u001b[0m             \u001b[0;32mreturn\u001b[0m \u001b[0mresult\u001b[0m\u001b[0;34m\u001b[0m\u001b[0;34m\u001b[0m\u001b[0m\n",
      "\u001b[0;32m~/anaconda3/lib/python3.8/site-packages/sqlalchemy/engine/result.py\u001b[0m in \u001b[0;36m_row_getter\u001b[0;34m(self)\u001b[0m\n\u001b[1;32m    317\u001b[0m         \u001b[0mmetadata\u001b[0m \u001b[0;34m=\u001b[0m \u001b[0mself\u001b[0m\u001b[0;34m.\u001b[0m\u001b[0m_metadata\u001b[0m\u001b[0;34m\u001b[0m\u001b[0;34m\u001b[0m\u001b[0m\n\u001b[1;32m    318\u001b[0m \u001b[0;34m\u001b[0m\u001b[0m\n\u001b[0;32m--> 319\u001b[0;31m         \u001b[0mkeymap\u001b[0m \u001b[0;34m=\u001b[0m \u001b[0mmetadata\u001b[0m\u001b[0;34m.\u001b[0m\u001b[0m_keymap\u001b[0m\u001b[0;34m\u001b[0m\u001b[0;34m\u001b[0m\u001b[0m\n\u001b[0m\u001b[1;32m    320\u001b[0m         \u001b[0mprocessors\u001b[0m \u001b[0;34m=\u001b[0m \u001b[0mmetadata\u001b[0m\u001b[0;34m.\u001b[0m\u001b[0m_processors\u001b[0m\u001b[0;34m\u001b[0m\u001b[0;34m\u001b[0m\u001b[0m\n\u001b[1;32m    321\u001b[0m         \u001b[0mtf\u001b[0m \u001b[0;34m=\u001b[0m \u001b[0mmetadata\u001b[0m\u001b[0;34m.\u001b[0m\u001b[0m_tuplefilter\u001b[0m\u001b[0;34m\u001b[0m\u001b[0;34m\u001b[0m\u001b[0m\n",
      "\u001b[0;32m~/anaconda3/lib/python3.8/site-packages/sqlalchemy/engine/cursor.py\u001b[0m in \u001b[0;36m_keymap\u001b[0;34m(self)\u001b[0m\n\u001b[1;32m   1195\u001b[0m     \u001b[0;34m@\u001b[0m\u001b[0mproperty\u001b[0m\u001b[0;34m\u001b[0m\u001b[0;34m\u001b[0m\u001b[0m\n\u001b[1;32m   1196\u001b[0m     \u001b[0;32mdef\u001b[0m \u001b[0m_keymap\u001b[0m\u001b[0;34m(\u001b[0m\u001b[0mself\u001b[0m\u001b[0;34m)\u001b[0m\u001b[0;34m:\u001b[0m\u001b[0;34m\u001b[0m\u001b[0;34m\u001b[0m\u001b[0m\n\u001b[0;32m-> 1197\u001b[0;31m         \u001b[0mself\u001b[0m\u001b[0;34m.\u001b[0m\u001b[0m_we_dont_return_rows\u001b[0m\u001b[0;34m(\u001b[0m\u001b[0;34m)\u001b[0m\u001b[0;34m\u001b[0m\u001b[0;34m\u001b[0m\u001b[0m\n\u001b[0m\u001b[1;32m   1198\u001b[0m \u001b[0;34m\u001b[0m\u001b[0m\n\u001b[1;32m   1199\u001b[0m     \u001b[0;34m@\u001b[0m\u001b[0mproperty\u001b[0m\u001b[0;34m\u001b[0m\u001b[0;34m\u001b[0m\u001b[0m\n",
      "\u001b[0;32m~/anaconda3/lib/python3.8/site-packages/sqlalchemy/engine/cursor.py\u001b[0m in \u001b[0;36m_we_dont_return_rows\u001b[0;34m(self, err)\u001b[0m\n\u001b[1;32m   1176\u001b[0m \u001b[0;34m\u001b[0m\u001b[0m\n\u001b[1;32m   1177\u001b[0m     \u001b[0;32mdef\u001b[0m \u001b[0m_we_dont_return_rows\u001b[0m\u001b[0;34m(\u001b[0m\u001b[0mself\u001b[0m\u001b[0;34m,\u001b[0m \u001b[0merr\u001b[0m\u001b[0;34m=\u001b[0m\u001b[0;32mNone\u001b[0m\u001b[0;34m)\u001b[0m\u001b[0;34m:\u001b[0m\u001b[0;34m\u001b[0m\u001b[0;34m\u001b[0m\u001b[0m\n\u001b[0;32m-> 1178\u001b[0;31m         util.raise_(\n\u001b[0m\u001b[1;32m   1179\u001b[0m             exc.ResourceClosedError(\n\u001b[1;32m   1180\u001b[0m                 \u001b[0;34m\"This result object does not return rows. \"\u001b[0m\u001b[0;34m\u001b[0m\u001b[0;34m\u001b[0m\u001b[0m\n",
      "\u001b[0;32m~/anaconda3/lib/python3.8/site-packages/sqlalchemy/util/compat.py\u001b[0m in \u001b[0;36mraise_\u001b[0;34m(***failed resolving arguments***)\u001b[0m\n\u001b[1;32m    209\u001b[0m \u001b[0;34m\u001b[0m\u001b[0m\n\u001b[1;32m    210\u001b[0m         \u001b[0;32mtry\u001b[0m\u001b[0;34m:\u001b[0m\u001b[0;34m\u001b[0m\u001b[0;34m\u001b[0m\u001b[0m\n\u001b[0;32m--> 211\u001b[0;31m             \u001b[0;32mraise\u001b[0m \u001b[0mexception\u001b[0m\u001b[0;34m\u001b[0m\u001b[0;34m\u001b[0m\u001b[0m\n\u001b[0m\u001b[1;32m    212\u001b[0m         \u001b[0;32mfinally\u001b[0m\u001b[0;34m:\u001b[0m\u001b[0;34m\u001b[0m\u001b[0;34m\u001b[0m\u001b[0m\n\u001b[1;32m    213\u001b[0m             \u001b[0;31m# credit to\u001b[0m\u001b[0;34m\u001b[0m\u001b[0;34m\u001b[0m\u001b[0;34m\u001b[0m\u001b[0m\n",
      "\u001b[0;31mResourceClosedError\u001b[0m: This result object does not return rows. It has been closed automatically."
     ]
    }
   ],
   "source": [
    "\n",
    "db = records.Database('sqlite:///Midas_database.db')\n",
    "# rows = db.query('select * from links') \n",
    "\n",
    "db.query('''CREATE TABLE IF NOT EXISTS links1 (\n",
    "            url text PRIMARY KEY,\n",
    "            created_at datetime,\n",
    "            visited_at datetime NULL)''')\n"
   ]
  },
  {
   "cell_type": "code",
   "execution_count": 126,
   "id": "c3680807",
   "metadata": {},
   "outputs": [],
   "source": [
    "df_categories =  pd.read_excel('/home/wafistos/Documents/Projects/scaping_wafi/Scraping_Midas/update midas/link_all_product_midas_cats_titi1-26-08-2021-22-23-28.xlsx')"
   ]
  },
  {
   "cell_type": "code",
   "execution_count": 118,
   "id": "7584feda",
   "metadata": {},
   "outputs": [
    {
     "data": {
      "text/plain": [
       "Index(['Unnamed: 0', 'liste', 'cat1', 'cat2', 'cat3', 'Unnamed: 5',\n",
       "       'Unnamed: 6'],\n",
       "      dtype='object')"
      ]
     },
     "execution_count": 118,
     "metadata": {},
     "output_type": "execute_result"
    }
   ],
   "source": [
    "df_categories.columns"
   ]
  },
  {
   "cell_type": "code",
   "execution_count": 128,
   "id": "06698a74",
   "metadata": {},
   "outputs": [],
   "source": [
    "list_categories = []\n",
    "for row in list_accesoires:\n",
    "    list_categories.append({'url': row[0],'count': row[1], 'cat1': row[2], 'cat2': row[3], 'cat3': row[4]}, )\n",
    "    "
   ]
  },
  {
   "cell_type": "code",
   "execution_count": 129,
   "id": "1ab0e1f4",
   "metadata": {},
   "outputs": [
    {
     "data": {
      "text/plain": [
       "[{'url': 'https://midasfurniture.com/ksa_ar/home-furniture/living-rooms/sectional-sofa/page/',\n",
       "  'count': 5,\n",
       "  'cat1': ' أثاث منزلي',\n",
       "  'cat2': 'غرف المعيشة',\n",
       "  'cat3': ' كنب زاوية'},\n",
       " {'url': 'https://midasfurniture.com/ksa_ar/home-furniture/living-rooms/sofa-sets/page/',\n",
       "  'count': 7,\n",
       "  'cat1': 'أثاث منزلي',\n",
       "  'cat2': 'غرف المعيشة',\n",
       "  'cat3': ' أطقم كنب'},\n",
       " {'url': 'https://midasfurniture.com/ksa_ar/home-furniture/living-rooms/sofas-love-seats/page/',\n",
       "  'count': 5,\n",
       "  'cat1': 'أثاث منزلي',\n",
       "  'cat2': 'غرف المعيشة',\n",
       "  'cat3': 'كنب ثلاث مقاعد و مقعدين'},\n",
       " {'url': 'https://midasfurniture.com/ksa_ar/home-furniture/living-rooms/sofa-beds/page/',\n",
       "  'count': 2,\n",
       "  'cat1': 'أثاث منزلي',\n",
       "  'cat2': 'غرف المعيشة',\n",
       "  'cat3': ' كنب سرير'},\n",
       " {'url': 'https://midasfurniture.com/ksa_ar/home-furniture/living-rooms/chairs/page/',\n",
       "  'count': 8,\n",
       "  'cat1': 'أثاث منزلي',\n",
       "  'cat2': 'غرف المعيشة',\n",
       "  'cat3': ' كراسي'},\n",
       " {'url': 'https://midasfurniture.com/ksa_ar/home-furniture/living-rooms/bench-and-ottoman/page/',\n",
       "  'count': 9,\n",
       "  'cat1': 'أثاث منزلي',\n",
       "  'cat2': 'غرف المعيشة',\n",
       "  'cat3': 'بنش و أوتومان'},\n",
       " {'url': 'https://midasfurniture.com/ksa_ar/home-furniture/living-rooms/center-side-tables/page/',\n",
       "  'count': 4,\n",
       "  'cat1': 'أثاث منزلي',\n",
       "  'cat2': 'غرف المعيشة',\n",
       "  'cat3': 'أطقم طاولات'},\n",
       " {'url': 'https://midasfurniture.com/ksa_ar/home-furniture/living-rooms/center-tables/page/',\n",
       "  'count': 7,\n",
       "  'cat1': 'أثاث منزلي',\n",
       "  'cat2': ' غرف المعيشة',\n",
       "  'cat3': ' طاولات وسط'},\n",
       " {'url': 'https://midasfurniture.com/ksa_ar/home-furniture/living-rooms/end-tables/page/',\n",
       "  'count': 12,\n",
       "  'cat1': 'أثاث منزلي',\n",
       "  'cat2': ' غرف المعيشة',\n",
       "  'cat3': 'طاولات جانبية'},\n",
       " {'url': 'https://midasfurniture.com/ksa_ar/home-furniture/living-rooms/consoles/page/',\n",
       "  'count': 6,\n",
       "  'cat1': 'أثاث منزلي',\n",
       "  'cat2': ' غرف المعيشة',\n",
       "  'cat3': ' طاولات كونسول'},\n",
       " {'url': 'https://midasfurniture.com/ksa_ar/home-furniture/living-rooms/nested-tables/page/',\n",
       "  'count': 3,\n",
       "  'cat1': 'أثاث منزلي',\n",
       "  'cat2': 'غرف المعيشة',\n",
       "  'cat3': 'طاولات متداخلة'},\n",
       " {'url': 'https://midasfurniture.com/ksa_ar/home-furniture/living-rooms/stands/page/',\n",
       "  'count': 3,\n",
       "  'cat1': 'أثاث منزلي',\n",
       "  'cat2': 'غرف المعيشة',\n",
       "  'cat3': 'ستاندات'},\n",
       " {'url': 'https://midasfurniture.com/ksa_ar/home-furniture/living-rooms/tv-units/page/',\n",
       "  'count': 7,\n",
       "  'cat1': 'أثاث منزلي',\n",
       "  'cat2': 'غرف المعيشة',\n",
       "  'cat3': ' مكتبات وطاولات تلفزيون'},\n",
       " {'url': 'https://midasfurniture.com/ksa_ar/home-furniture/living-rooms/cabinets/page/',\n",
       "  'count': 4,\n",
       "  'cat1': 'أثاث منزلي',\n",
       "  'cat2': 'غرف المعيشة',\n",
       "  'cat3': 'خزائن'},\n",
       " {'url': 'https://midasfurniture.com/ksa_ar/home-furniture/living-rooms/shoe-cabinets/page/',\n",
       "  'count': 2,\n",
       "  'cat1': 'أثاث منزلي',\n",
       "  'cat2': 'غرف المعيشة',\n",
       "  'cat3': 'خزائن الأحذية'},\n",
       " {'url': 'https://midasfurniture.com/ksa_ar/home-furniture/living-rooms/shelves/page/',\n",
       "  'count': 4,\n",
       "  'cat1': 'أثاث منزلي',\n",
       "  'cat2': 'غرف المعيشة',\n",
       "  'cat3': 'مكتبات ووحدات رفوف'},\n",
       " {'url': 'https://midasfurniture.com/ksa_ar/home-furniture/living-rooms/chaise-lounge/page/',\n",
       "  'count': 2,\n",
       "  'cat1': 'أثاث منزلي',\n",
       "  'cat2': 'غرف المعيشة',\n",
       "  'cat3': 'شيزلونج'},\n",
       " {'url': 'https://midasfurniture.com/ksa_ar/home-furniture/bedroom-sets/king-size-bedroom-sets/page/',\n",
       "  'count': 6,\n",
       "  'cat1': 'أثاث منزلي',\n",
       "  'cat2': 'غرف نوم',\n",
       "  'cat3': 'أطقم غرف النوم حجم ملكى'},\n",
       " {'url': 'https://midasfurniture.com/ksa_ar/home-furniture/bedroom-sets/queen-size-bedroom-sets/page/',\n",
       "  'count': 2,\n",
       "  'cat1': 'أثاث منزلي',\n",
       "  'cat2': 'غرف نوم',\n",
       "  'cat3': 'أطقم غرف النوم حجم كوين'},\n",
       " {'url': 'https://midasfurniture.com/ksa_ar/home-furniture/bedroom-sets/beds/page/',\n",
       "  'count': 2,\n",
       "  'cat1': 'أثاث منزلي',\n",
       "  'cat2': 'غرف نوم',\n",
       "  'cat3': 'سرير'},\n",
       " {'url': 'https://midasfurniture.com/ksa_ar/home-furniture/bedroom-sets/night-stands/page/',\n",
       "  'count': 2,\n",
       "  'cat1': 'أثاث منزلي',\n",
       "  'cat2': 'غرف نوم',\n",
       "  'cat3': ' كومودينو'},\n",
       " {'url': 'https://midasfurniture.com/ksa_ar/home-furniture/bedroom-sets/dresser/page/',\n",
       "  'count': 2,\n",
       "  'cat1': 'أثاث منزلي',\n",
       "  'cat2': 'غرف نوم',\n",
       "  'cat3': 'تسريحة'},\n",
       " {'url': 'https://midasfurniture.com/ksa_ar/home-furniture/bedroom-sets/chest-of-drawers/page/',\n",
       "  'count': 4,\n",
       "  'cat1': 'أثاث منزلي',\n",
       "  'cat2': 'غرف نوم',\n",
       "  'cat3': 'وحدة ادراج'},\n",
       " {'url': 'https://midasfurniture.com/ksa_ar/home-furniture/bedroom-sets/wardrobes/page/',\n",
       "  'count': 3,\n",
       "  'cat1': 'أثاث منزلي',\n",
       "  'cat2': 'غرف نوم',\n",
       "  'cat3': ' خزانة ملابس'},\n",
       " {'url': 'https://midasfurniture.com/ksa_ar/home-furniture/bedroom-sets/jewellery-chest/page/',\n",
       "  'count': 2,\n",
       "  'cat1': 'أثاث منزلي',\n",
       "  'cat2': 'غرف نوم',\n",
       "  'cat3': 'وحدة أدراج مجوهرات'},\n",
       " {'url': 'https://midasfurniture.com/ksa_ar/home-furniture/dining-rooms/dining-table-sets/page/',\n",
       "  'count': 5,\n",
       "  'cat1': 'أثاث منزلي',\n",
       "  'cat2': 'غرف الطعام',\n",
       "  'cat3': 'أطقم غرف الطعام'},\n",
       " {'url': 'https://midasfurniture.com/ksa_ar/home-furniture/dining-rooms/dining-tables/page/',\n",
       "  'count': 4,\n",
       "  'cat1': 'أثاث منزلي',\n",
       "  'cat2': 'غرف الطعام',\n",
       "  'cat3': 'طاولة طعام'},\n",
       " {'url': 'https://midasfurniture.com/ksa_ar/home-furniture/dining-rooms/dining-chairs/page/',\n",
       "  'count': 4,\n",
       "  'cat1': 'أثاث منزلي',\n",
       "  'cat2': 'غرف الطعام',\n",
       "  'cat3': 'كراسي الطعام'},\n",
       " {'url': 'https://midasfurniture.com/ksa_ar/home-furniture/dining-rooms/buffet/page/',\n",
       "  'count': 4,\n",
       "  'cat1': 'أثاث منزلي',\n",
       "  'cat2': 'غرف الطعام',\n",
       "  'cat3': 'بوفيه وقاعدة بوفيه'},\n",
       " {'url': 'https://midasfurniture.com/ksa_ar/home-furniture/dining-rooms/high-dining-table-sets/page/',\n",
       "  'count': 3,\n",
       "  'cat1': 'أثاث منزلي',\n",
       "  'cat2': 'غرف الطعام',\n",
       "  'cat3': 'أطقم طاولات طعام مرتفعة'},\n",
       " {'url': 'https://midasfurniture.com/ksa_ar/home-furniture/dining-rooms/high-stool-chairs/page/',\n",
       "  'count': 3,\n",
       "  'cat1': 'أثاث منزلي',\n",
       "  'cat2': 'غرف الطعام',\n",
       "  'cat3': 'كراسي مرتفعة'},\n",
       " {'url': 'https://midasfurniture.com/ksa_ar/home-furniture/dining-rooms/counter-tables/page/',\n",
       "  'count': 2,\n",
       "  'cat1': 'أثاث منزلي',\n",
       "  'cat2': 'غرف الطعام',\n",
       "  'cat3': 'طاولات متعددة الإستخدامات'},\n",
       " {'url': 'https://midasfurniture.com/ksa_ar/home-furniture/recliners/rocker-recliner/page/',\n",
       "  'count': 4,\n",
       "  'cat1': 'أثاث منزلي',\n",
       "  'cat2': 'كراسي استرخاء',\n",
       "  'cat3': 'كرسي استرخاء هزاز'},\n",
       " {'url': 'https://midasfurniture.com/ksa_ar/home-furniture/recliners/recliner/page/',\n",
       "  'count': 3,\n",
       "  'cat1': 'أثاث منزلي',\n",
       "  'cat2': ' كراسي استرخاء',\n",
       "  'cat3': 'كرسي استرخاء'},\n",
       " {'url': 'https://midasfurniture.com/ksa_ar/home-furniture/recliners/sofa-recliner/page/',\n",
       "  'count': 2,\n",
       "  'cat1': 'أثاث منزلي',\n",
       "  'cat2': 'كراسي استرخاء',\n",
       "  'cat3': 'كنبة استرخاء'},\n",
       " {'url': 'https://midasfurniture.com/ksa_ar/home-furniture/recliners/power-massage-recliner/page/',\n",
       "  'count': 2,\n",
       "  'cat1': 'أثاث منزلي',\n",
       "  'cat2': 'كراسي استرخاء',\n",
       "  'cat3': 'كراسى استرخاء كهربائى و مساج'},\n",
       " {'url': 'https://midasfurniture.com/ksa_ar/home-furniture/kids-room/bedroom-set/page/',\n",
       "  'count': 2,\n",
       "  'cat1': 'أثاث منزلي',\n",
       "  'cat2': 'غرف الأطفال',\n",
       "  'cat3': 'أطقم غرف النوم'},\n",
       " {'url': 'https://midasfurniture.com/ksa_ar/home-furniture/kids-room/beds/page/',\n",
       "  'count': 2,\n",
       "  'cat1': 'أثاث منزلي',\n",
       "  'cat2': 'غرف الأطفال',\n",
       "  'cat3': ' سرير'},\n",
       " {'url': 'https://midasfurniture.com/ksa_ar/home-furniture/kids-room/night-stands/page/',\n",
       "  'count': 2,\n",
       "  'cat1': 'أثاث منزلي',\n",
       "  'cat2': 'غرف الأطفال',\n",
       "  'cat3': 'كومودينو'},\n",
       " {'url': 'https://midasfurniture.com/ksa_ar/home-furniture/kids-room/dressers/page/',\n",
       "  'count': 2,\n",
       "  'cat1': 'أثاث منزلي',\n",
       "  'cat2': 'غرف الأطفال',\n",
       "  'cat3': 'تسريحة'},\n",
       " {'url': 'https://midasfurniture.com/ksa_ar/home-furniture/kids-room/chest-of-drawers/page/',\n",
       "  'count': 2,\n",
       "  'cat1': 'أثاث منزلي',\n",
       "  'cat2': 'غرف الأطفال',\n",
       "  'cat3': 'وحدة أدراج'},\n",
       " {'url': 'https://midasfurniture.com/ksa_ar/home-furniture/kids-room/wardrobes/page/',\n",
       "  'count': 2,\n",
       "  'cat1': 'أثاث منزلي',\n",
       "  'cat2': 'غرف الأطفال',\n",
       "  'cat3': 'خزانة ملابس'},\n",
       " {'url': 'https://midasfurniture.com/ksa_ar/home-furniture/kids-room/study-desk-chairs/page/',\n",
       "  'count': 2,\n",
       "  'cat1': 'أثاث منزلي',\n",
       "  'cat2': 'غرف الأطفال',\n",
       "  'cat3': 'مكتب دراسة و كرسي'},\n",
       " {'url': 'https://midasfurniture.com/ksa_ar/home-furniture/kids-room/bookcases-shelves/page/',\n",
       "  'count': 2,\n",
       "  'cat1': 'أثاث منزلي',\n",
       "  'cat2': 'غرف الأطفال',\n",
       "  'cat3': 'مكتبات و أرفف'},\n",
       " {'url': 'https://midasfurniture.com/ksa_ar/home-furniture/home-office/desks/page/',\n",
       "  'count': 4,\n",
       "  'cat1': 'أثاث منزلي',\n",
       "  'cat2': 'مكاتب منزلية',\n",
       "  'cat3': 'مكاتب'},\n",
       " {'url': 'https://midasfurniture.com/ksa_ar/home-furniture/home-office/chairs/page/',\n",
       "  'count': 2,\n",
       "  'cat1': 'أثاث منزلي',\n",
       "  'cat2': 'مكاتب منزلية',\n",
       "  'cat3': 'كراسي'},\n",
       " {'url': 'https://midasfurniture.com/ksa_ar/home-furniture/mattresses/super-king-size-200-200cm/page/',\n",
       "  'count': 2,\n",
       "  'cat1': 'أثاث منزلي',\n",
       "  'cat2': 'فرشات السرير',\n",
       "  'cat3': 'فرشات مقاس 200×200 سم'},\n",
       " {'url': 'https://midasfurniture.com/ksa_ar/home-furniture/mattresses/super-king-size-193-203cm/page/',\n",
       "  'count': 2,\n",
       "  'cat1': 'أثاث منزلي',\n",
       "  'cat2': 'فرشات السرير',\n",
       "  'cat3': ' فرشات مقاس 193×203 سم'},\n",
       " {'url': 'https://midasfurniture.com/ksa_ar/home-furniture/mattresses/king-size-180-200cm/page/',\n",
       "  'count': 2,\n",
       "  'cat1': 'أثاث منزلي',\n",
       "  'cat2': 'فرشات السرير',\n",
       "  'cat3': 'فرشات مقاس 180×200 سم'},\n",
       " {'url': 'https://midasfurniture.com/ksa_ar/home-furniture/mattresses/queen-size-150-200cm/page/',\n",
       "  'count': 2,\n",
       "  'cat1': 'أثاث منزلي',\n",
       "  'cat2': 'فرشات السرير',\n",
       "  'cat3': 'فرشات مقاس 150×200 سم'},\n",
       " {'url': 'https://midasfurniture.com/ksa_ar/home-furniture/mattresses/queen-size-160x200cm/page/',\n",
       "  'count': 2,\n",
       "  'cat1': 'أثاث منزلي',\n",
       "  'cat2': 'فرشات السرير',\n",
       "  'cat3': ' فرشات مقاس 160×200 سم'},\n",
       " {'url': 'https://midasfurniture.com/ksa_ar/home-furniture/mattresses/full-size-135-190/page/',\n",
       "  'count': 2,\n",
       "  'cat1': 'أثاث منزلي',\n",
       "  'cat2': 'فرشات السرير',\n",
       "  'cat3': 'فرشات مقاس 135×190 سم'},\n",
       " {'url': 'https://midasfurniture.com/ksa_ar/home-furniture/mattresses/twin-size-120-200cm/page/',\n",
       "  'count': 2,\n",
       "  'cat1': 'أثاث منزلي ',\n",
       "  'cat2': 'فرشات السرير',\n",
       "  'cat3': 'فرشات مقاس 120×200 سم'},\n",
       " {'url': 'https://midasfurniture.com/ksa_ar/home-furniture/mattresses/single-size-90-100x190cm/page/',\n",
       "  'count': 2,\n",
       "  'cat1': 'أثاث منزلي',\n",
       "  'cat2': 'فرشات السرير',\n",
       "  'cat3': 'فرشات مقاس 90 & 100 سم'},\n",
       " {'url': 'https://midasfurniture.com/ksa_ar/home-furniture/gaming-chairs/page/',\n",
       "  'count': 2,\n",
       "  'cat1': '',\n",
       "  'cat2': 'أثاث منزلي',\n",
       "  'cat3': 'طاولات وكراسى الألعاب'},\n",
       " {'url': 'https://midasfurniture.com/ksa_ar/home-furniture/pet-furniture/page/',\n",
       "  'count': 2,\n",
       "  'cat1': '',\n",
       "  'cat2': 'أثاث منزلي',\n",
       "  'cat3': ' أثاث الحيوانات الأليفة'},\n",
       " {'url': 'https://midasfurniture.com/ksa_ar/home-furniture/outdoor-furniture/page/',\n",
       "  'count': 3,\n",
       "  'cat1': '',\n",
       "  'cat2': 'أثاث منزلي',\n",
       "  'cat3': 'أثاث خارجي'},\n",
       " {'url': 'https://midasfurniture.com/ksa_ar/office-furniture/office-chairs/high-back/page/',\n",
       "  'count': 2,\n",
       "  'cat1': 'ظهر مرتفع',\n",
       "  'cat2': 'أثاث مكتبي',\n",
       "  'cat3': 'كراسي المكتب'},\n",
       " {'url': 'https://midasfurniture.com/ksa_ar/office-furniture/office-chairs/medium-back/page/',\n",
       "  'count': 2,\n",
       "  'cat1': 'ظهر متوسط',\n",
       "  'cat2': 'أثاث مكتبي',\n",
       "  'cat3': 'كراسي المكتب'},\n",
       " {'url': 'https://midasfurniture.com/ksa_ar/office-furniture/office-chairs/low-back/page/',\n",
       "  'count': 2,\n",
       "  'cat1': 'ظهر منخفض',\n",
       "  'cat2': 'أثاث مكتبي',\n",
       "  'cat3': 'كراسي المكتب'},\n",
       " {'url': 'https://midasfurniture.com/ksa_ar/office-furniture/visitor-chairs/page/',\n",
       "  'count': 3,\n",
       "  'cat1': '',\n",
       "  'cat2': 'أثاث مكتبي',\n",
       "  'cat3': 'كرسي زائر'},\n",
       " {'url': 'https://midasfurniture.com/ksa_ar/office-furniture/desks-office-systems/page/',\n",
       "  'count': 4,\n",
       "  'cat1': '',\n",
       "  'cat2': 'أثاث مكتبي',\n",
       "  'cat3': 'مكاتب و مجموعة مكتبية'},\n",
       " {'url': 'https://midasfurniture.com/ksa_ar/office-furniture/office-sofas/page/',\n",
       "  'count': 3,\n",
       "  'cat1': '',\n",
       "  'cat2': 'أثاث مكتبي',\n",
       "  'cat3': 'كنبات المكتب'},\n",
       " {'url': 'https://midasfurniture.com/ksa_ar/office-furniture/cabinets/page/',\n",
       "  'count': 2,\n",
       "  'cat1': '',\n",
       "  'cat2': 'أثاث مكتبي',\n",
       "  'cat3': 'خزائن'},\n",
       " {'url': 'https://midasfurniture.com/ksa_ar/office-furniture/meeting-center-end-tables/page/',\n",
       "  'count': 3,\n",
       "  'cat1': '',\n",
       "  'cat2': 'أثاث مكتبي',\n",
       "  'cat3': ' طاولات الاجتماعات و الوسط و الطاولات الجانبية'},\n",
       " {'url': 'https://midasfurniture.com/ksa_ar/office-furniture/office-accessories/page/',\n",
       "  'count': 2,\n",
       "  'cat1': '',\n",
       "  'cat2': 'أثاث مكتبي',\n",
       "  'cat3': 'إكسسوارات المكاتب'},\n",
       " {'url': 'https://midasfurniture.com/ksa_ar/accessories/kitchen-and-dining/dinner-sets.html/page/',\n",
       "  'count': 2,\n",
       "  'cat1': 'أطقم العشاء',\n",
       "  'cat2': 'إكسسوارات',\n",
       "  'cat3': 'أدوات المطبخ'},\n",
       " {'url': 'https://midasfurniture.com/ksa_ar/accessories/kitchen-and-dining/dinner-and-serving-plates/page/',\n",
       "  'count': 4,\n",
       "  'cat1': 'صحون التقديم',\n",
       "  'cat2': 'إكسسوارات',\n",
       "  'cat3': 'أدوات المطبخ'},\n",
       " {'url': 'https://midasfurniture.com/ksa_ar/accessories/kitchen-and-dining/bowls/page/',\n",
       "  'count': 5,\n",
       "  'cat1': ' أوعية تقديم',\n",
       "  'cat2': 'إكسسوارات',\n",
       "  'cat3': 'أدوات المطبخ'},\n",
       " {'url': 'https://midasfurniture.com/ksa_ar/accessories/kitchen-and-dining/condiment-storage/page/',\n",
       "  'count': 2,\n",
       "  'cat1': 'تخزين البهارات',\n",
       "  'cat2': 'إكسسوارات',\n",
       "  'cat3': 'أدوات المطبخ'},\n",
       " {'url': 'https://midasfurniture.com/ksa_ar/accessories/kitchen-and-dining/cups-and-saucers/page/',\n",
       "  'count': 4,\n",
       "  'cat1': 'فناجين وأطباق الشاى والقهوة',\n",
       "  'cat2': 'إكسسوارات',\n",
       "  'cat3': 'أدوات المطبخ'},\n",
       " {'url': 'https://midasfurniture.com/ksa_ar/accessories/kitchen-and-dining/tea-and-sugar-pots/page/',\n",
       "  'count': 2,\n",
       "  'cat1': 'ابريق شاي وسكر',\n",
       "  'cat2': 'إكسسوارات',\n",
       "  'cat3': 'أدوات المطبخ'},\n",
       " {'url': 'https://midasfurniture.com/ksa_ar/accessories/kitchen-and-dining/trays.html',\n",
       "  'count': 4,\n",
       "  'cat1': ' الصواني',\n",
       "  'cat2': 'إكسسوارات',\n",
       "  'cat3': 'أدوات المطبخ'},\n",
       " {'url': 'https://midasfurniture.com/ksa_ar/accessories/kitchen-and-dining/tiered-stand/page/',\n",
       "  'count': 3,\n",
       "  'cat1': 'حامل تقديم',\n",
       "  'cat2': 'إكسسوارات',\n",
       "  'cat3': 'أدوات المطبخ'},\n",
       " {'url': 'https://midasfurniture.com/ksa_ar/accessories/kitchen-and-dining/baskets/page/',\n",
       "  'count': 2,\n",
       "  'cat1': 'سلة',\n",
       "  'cat2': 'إكسسوارات',\n",
       "  'cat3': 'أدوات المطبخ'},\n",
       " {'url': 'https://midasfurniture.com/ksa_ar/accessories/kitchen-and-dining/jars/page/',\n",
       "  'count': 3,\n",
       "  'cat1': 'مرطبان',\n",
       "  'cat2': 'إكسسوارات',\n",
       "  'cat3': 'أدوات المطبخ'},\n",
       " {'url': 'https://midasfurniture.com/ksa_ar/accessories/kitchen-and-dining/cutlery-sets/page/',\n",
       "  'count': 2,\n",
       "  'cat1': 'أدوات تناول الطعام',\n",
       "  'cat2': 'إكسسوارات',\n",
       "  'cat3': 'أدوات المطبخ'},\n",
       " {'url': 'https://midasfurniture.com/ksa_ar/accessories/kitchen-and-dining/napkin-rings-and-holders/page/',\n",
       "  'count': 2,\n",
       "  'cat1': 'مسكة منديل',\n",
       "  'cat2': 'إكسسوارات',\n",
       "  'cat3': 'أدوات المطبخ'},\n",
       " {'url': 'https://midasfurniture.com/ksa_ar/accessories/kitchen-and-dining/drinking-glasses-jugs/page/',\n",
       "  'count': 3,\n",
       "  'cat1': 'أواني زجاجية وأباريق',\n",
       "  'cat2': 'إكسسوارات',\n",
       "  'cat3': 'أدوات المطبخ'},\n",
       " {'url': 'https://midasfurniture.com/ksa_ar/accessories/table-linen/table-runners/page/',\n",
       "  'count': 6,\n",
       "  'cat1': 'مفرش طاولة',\n",
       "  'cat2': 'إكسسوارات',\n",
       "  'cat3': 'مفرش طاولة'},\n",
       " {'url': 'https://midasfurniture.com/ksa_ar/accessories/table-linen/place-mats/page/',\n",
       "  'count': 7,\n",
       "  'cat1': 'حصيرة تحت الأطباق',\n",
       "  'cat2': 'إكسسوارات',\n",
       "  'cat3': 'مفرش طاولة'},\n",
       " {'url': 'https://midasfurniture.com/ksa_ar/accessories/serving-trolleys/page/',\n",
       "  'count': 3,\n",
       "  'cat1': '',\n",
       "  'cat2': 'إكسسوارات',\n",
       "  'cat3': 'عربات التقديم'},\n",
       " {'url': 'https://midasfurniture.com/ksa_ar/accessories/bathroom/page/',\n",
       "  'count': 2,\n",
       "  'cat1': 'صحن صابون',\n",
       "  'cat2': 'إكسسوارات',\n",
       "  'cat3': 'اكسسوارات الحمام'},\n",
       " {'url': 'https://midasfurniture.com/ksa_ar/accessories/bathroom/soap-dispenser/page/',\n",
       "  'count': 2,\n",
       "  'cat1': 'موزع صابون',\n",
       "  'cat2': 'إكسسوارات',\n",
       "  'cat3': 'اكسسوارات الحمام'},\n",
       " {'url': 'https://midasfurniture.com/ksa_ar/accessories/bathroom/tumbler-and-tooth-brush-holders/page/',\n",
       "  'count': 2,\n",
       "  'cat1': 'حامل فرشاة الأسنان',\n",
       "  'cat2': 'إكسسوارات',\n",
       "  'cat3': 'اكسسوارات الحمام'},\n",
       " {'url': 'https://midasfurniture.com/ksa_ar/accessories/bathroom/toilet-paper-and-brush-holder/page/',\n",
       "  'count': 2,\n",
       "  'cat1': 'حامل ورق رول و فرشاة',\n",
       "  'cat2': 'إكسسوارات',\n",
       "  'cat3': 'اكسسوارات الحمام'},\n",
       " {'url': 'https://midasfurniture.com/ksa_ar/accessories/bathroom/towel-holder-and-racks/page/',\n",
       "  'count': 2,\n",
       "  'cat1': 'حامل مناشف',\n",
       "  'cat2': 'إكسسوارات',\n",
       "  'cat3': 'اكسسوارات الحمام'},\n",
       " {'url': 'https://midasfurniture.com/ksa_ar/accessories/bathroom/towels/page/',\n",
       "  'count': 2,\n",
       "  'cat1': 'منشفة',\n",
       "  'cat2': 'إكسسوارات',\n",
       "  'cat3': 'اكسسوارات الحمام'},\n",
       " {'url': 'https://midasfurniture.com/ksa_ar/accessories/bathroom/laundry-baskets/page/',\n",
       "  'count': 2,\n",
       "  'cat1': 'سلال غسيل',\n",
       "  'cat2': 'إكسسوارات',\n",
       "  'cat3': 'اكسسوارات الحمام'},\n",
       " {'url': 'https://midasfurniture.com/ksa_ar/accessories/bathroom/tissue-box/page/',\n",
       "  'count': 2,\n",
       "  'cat1': 'صندوق محارم',\n",
       "  'cat2': 'إكسسوارات',\n",
       "  'cat3': 'اكسسوارات الحمام'},\n",
       " {'url': 'https://midasfurniture.com/ksa_ar/accessories/bathroom/waste-bins/page/',\n",
       "  'count': 2,\n",
       "  'cat1': 'سلة مهملات',\n",
       "  'cat2': 'إكسسوارات',\n",
       "  'cat3': 'اكسسوارات الحمام'},\n",
       " {'url': 'https://midasfurniture.com/ksa_ar/accessories/bathroom/bathroom-mats/page/',\n",
       "  'count': 2,\n",
       "  'cat1': 'سجاد الحمام',\n",
       "  'cat2': 'إكسسوارات',\n",
       "  'cat3': 'اكسسوارات الحمام'},\n",
       " {'url': 'https://midasfurniture.com/ksa_ar/accessories/candle-holders/page/',\n",
       "  'count': 11,\n",
       "  'cat1': '',\n",
       "  'cat2': 'إكسسوارات',\n",
       "  'cat3': 'شمعدان'},\n",
       " {'url': 'https://midasfurniture.com/ksa_ar/accessories/vases-and-flowers/page/',\n",
       "  'count': 12,\n",
       "  'cat1': '',\n",
       "  'cat2': 'إكسسوارات',\n",
       "  'cat3': 'مزهريات و أحواض نبات'},\n",
       " {'url': 'https://midasfurniture.com/ksa_ar/accessories/artificial-flowers-and-trees/page/',\n",
       "  'count': 10,\n",
       "  'cat1': 'الزهور والنباتات',\n",
       "  'cat2': 'إكسسوارات',\n",
       "  'cat3': 'ورود ونباتات'},\n",
       " {'url': 'https://midasfurniture.com/ksa_ar/accessories/artificial-flowers-and-trees/trees/page/',\n",
       "  'count': 2,\n",
       "  'cat1': 'الأشجار',\n",
       "  'cat2': 'إكسسوارات',\n",
       "  'cat3': 'ورود ونباتات'},\n",
       " {'url': 'https://midasfurniture.com/ksa_ar/accessories/lighting/table-lamps/page/',\n",
       "  'count': 7,\n",
       "  'cat1': 'إكسسوارات',\n",
       "  'cat2': 'الإضاءة',\n",
       "  'cat3': 'أباجورة طاولة'},\n",
       " {'url': 'https://midasfurniture.com/ksa_ar/accessories/lighting/hanging-and-ceiling-lamps/page/',\n",
       "  'count': 4,\n",
       "  'cat1': 'إكسسوارات',\n",
       "  'cat2': 'الإضاءة',\n",
       "  'cat3': 'ثريا سقف'},\n",
       " {'url': 'https://midasfurniture.com/ksa_ar/accessories/lighting/floor-lamps/page/',\n",
       "  'count': 2,\n",
       "  'cat1': 'إكسسوارات',\n",
       "  'cat2': 'الإضاءة',\n",
       "  'cat3': 'أباجورة أرضية'},\n",
       " {'url': 'https://midasfurniture.com/ksa_ar/accessories/lighting/wall-lamp/page/',\n",
       "  'count': 3,\n",
       "  'cat1': 'إكسسوارات',\n",
       "  'cat2': 'الإضاءة',\n",
       "  'cat3': 'اباجورة حائط'},\n",
       " {'url': 'https://midasfurniture.com/ksa_ar/accessories/photo-frames/page/',\n",
       "  'count': 3,\n",
       "  'cat1': '',\n",
       "  'cat2': 'إكسسوارات',\n",
       "  'cat3': 'براويز الصور'},\n",
       " {'url': 'https://midasfurniture.com/ksa_ar/accessories/wall-arts-and-paintings/page/',\n",
       "  'count': 17,\n",
       "  'cat1': '',\n",
       "  'cat2': 'إكسسوارات',\n",
       "  'cat3': 'اللوحات وديكور الحائط'},\n",
       " {'url': 'https://midasfurniture.com/ksa_ar/accessories/mirrors/page/',\n",
       "  'count': 7,\n",
       "  'cat1': '',\n",
       "  'cat2': 'إكسسوارات',\n",
       "  'cat3': 'المرايا'},\n",
       " {'url': 'https://midasfurniture.com/ksa_ar/accessories/coat-hangers-screens/page/',\n",
       "  'count': 3,\n",
       "  'cat1': '',\n",
       "  'cat2': 'إكسسوارات',\n",
       "  'cat3': 'علاقات الملابس والفواصل'},\n",
       " {'url': 'https://midasfurniture.com/ksa_ar/accessories/clocks/page/',\n",
       "  'count': 3,\n",
       "  'cat1': '',\n",
       "  'cat2': 'إكسسوارات',\n",
       "  'cat3': 'الساعات'},\n",
       " {'url': 'https://midasfurniture.com/ksa_ar/accessories/jewellery-organisers-box/page/',\n",
       "  'count': 2,\n",
       "  'cat1': '',\n",
       "  'cat2': 'إكسسوارات',\n",
       "  'cat3': 'صناديق للمجوهرات'},\n",
       " {'url': 'https://midasfurniture.com/ksa_ar/accessories/deco-figurines-and-objects/page/',\n",
       "  'count': 8,\n",
       "  'cat1': '',\n",
       "  'cat2': 'إكسسوارات',\n",
       "  'cat3': 'قطع فنية وديكورات'},\n",
       " {'url': 'https://midasfurniture.com/ksa_ar/accessories/ashtrays/page/',\n",
       "  'count': 2,\n",
       "  'cat1': '',\n",
       "  'cat2': 'إكسسوارات',\n",
       "  'cat3': 'منفضة سجائر'},\n",
       " {'url': 'https://midasfurniture.com/ksa_ar/accessories/soft-furnishings/bedding-set/page/',\n",
       "  'count': 2,\n",
       "  'cat1': 'إكسسوارات',\n",
       "  'cat2': 'وسائد وأغطية',\n",
       "  'cat3': 'أطقم مفارش السرير'},\n",
       " {'url': 'https://midasfurniture.com/ksa_ar/accessories/soft-furnishings/cushions/page/',\n",
       "  'count': 20,\n",
       "  'cat1': 'إكسسوارات',\n",
       "  'cat2': 'وسائد وأغطية',\n",
       "  'cat3': 'وسائد'},\n",
       " {'url': 'https://midasfurniture.com/ksa_ar/accessories/soft-furnishings/throws/page/',\n",
       "  'count': 2,\n",
       "  'cat1': 'إكسسوارات',\n",
       "  'cat2': 'وسائد وأغطية',\n",
       "  'cat3': 'شال'},\n",
       " {'url': 'https://midasfurniture.com/ksa_ar/accessories/soft-furnishings/sleeping-pillows.html',\n",
       "  'count': 2,\n",
       "  'cat1': 'إكسسوارات',\n",
       "  'cat2': 'وسائد وأغطية',\n",
       "  'cat3': 'مخدة سرير'},\n",
       " {'url': 'https://midasfurniture.com/ksa_ar/accessories/doormats/page/',\n",
       "  'count': 2,\n",
       "  'cat1': '',\n",
       "  'cat2': 'إكسسوارات',\n",
       "  'cat3': 'دواسات الباب'},\n",
       " {'url': 'https://midasfurniture.com/ksa_ar/accessories/safes/page/',\n",
       "  'count': 3,\n",
       "  'cat1': '',\n",
       "  'cat2': 'إكسسوارات',\n",
       "  'cat3': 'خزنات'},\n",
       " {'url': 'https://midasfurniture.com/ksa_ar/luxury-accessories/mugs/page/',\n",
       "  'count': 2,\n",
       "  'cat1': '',\n",
       "  'cat2': 'إكسسوارات',\n",
       "  'cat3': 'فاخرة أكواب'},\n",
       " {'url': 'https://midasfurniture.com/ksa_ar/luxury-accessories/cups-and-saucer-sets/page/',\n",
       "  'count': 3,\n",
       "  'cat1': '',\n",
       "  'cat2': 'إكسسوارات فاخرة',\n",
       "  'cat3': 'أطقم فناجين مع أطباق'},\n",
       " {'url': 'https://midasfurniture.com/ksa_ar/luxury-accessories/cups-and-saucers/page/',\n",
       "  'count': 2,\n",
       "  'cat1': '',\n",
       "  'cat2': 'إكسسوارات فاخرة',\n",
       "  'cat3': 'فناجين وأطباق'},\n",
       " {'url': 'https://midasfurniture.com/ksa_ar/luxury-accessories/dinnerware/page/',\n",
       "  'count': 3,\n",
       "  'cat1': '',\n",
       "  'cat2': 'إكسسوارات فاخرة',\n",
       "  'cat3': 'أوانى طعام'},\n",
       " {'url': 'https://midasfurniture.com/ksa_ar/luxury-accessories/drinking-dispenser/page/',\n",
       "  'count': 2,\n",
       "  'cat1': '',\n",
       "  'cat2': 'إكسسوارات فاخرة',\n",
       "  'cat3': 'موزعات المشروبات'},\n",
       " {'url': 'https://midasfurniture.com/ksa_ar/luxury-accessories/drinking-glasses-sets/page/',\n",
       "  'count': 2,\n",
       "  'cat1': '',\n",
       "  'cat2': 'إكسسوارات فاخرة',\n",
       "  'cat3': 'أطقم أكواب المشروبات'},\n",
       " {'url': 'https://midasfurniture.com/ksa_ar/luxury-accessories/serving-bowls/page/',\n",
       "  'count': 3,\n",
       "  'cat1': '',\n",
       "  'cat2': 'إكسسوارات فاخرة',\n",
       "  'cat3': 'أوعية تقديم'},\n",
       " {'url': 'https://midasfurniture.com/ksa_ar/luxury-accessories/condiment-storage/page/',\n",
       "  'count': 2,\n",
       "  'cat1': '',\n",
       "  'cat2': 'إكسسوارات فاخرة',\n",
       "  'cat3': 'أوعية تخزين البهارات'},\n",
       " {'url': 'https://midasfurniture.com/ksa_ar/luxury-accessories/napkin-rings-and-holders/page/',\n",
       "  'count': 2,\n",
       "  'cat1': '',\n",
       "  'cat2': 'إكسسوارات فاخرة',\n",
       "  'cat3': 'حامل مناديل المائدة'},\n",
       " {'url': 'https://midasfurniture.com/ksa_ar/luxury-accessories/trays/page/',\n",
       "  'count': 2,\n",
       "  'cat1': '',\n",
       "  'cat2': 'إكسسوارات فاخرة',\n",
       "  'cat3': 'صوانى'},\n",
       " {'url': 'https://midasfurniture.com/ksa_ar/luxury-accessories/dinner-sets/page/',\n",
       "  'count': 2,\n",
       "  'cat1': '',\n",
       "  'cat2': 'إكسسوارات فاخرة',\n",
       "  'cat3': 'أطقم أوانى الطعام'}]"
      ]
     },
     "execution_count": 129,
     "metadata": {},
     "output_type": "execute_result"
    }
   ],
   "source": [
    "list_categories"
   ]
  },
  {
   "cell_type": "code",
   "execution_count": 131,
   "id": "70472f95",
   "metadata": {},
   "outputs": [],
   "source": [
    "textfile = open(\"cats.txt\", \"w\")\n",
    "for element in list_categories:\n",
    "\n",
    "    textfile.write(f'{element} , \\n')\n",
    "\n",
    "textfile.close()\n"
   ]
  },
  {
   "cell_type": "code",
   "execution_count": 27,
   "id": "69ea3bff",
   "metadata": {},
   "outputs": [],
   "source": [
    "for r in rows:\n",
    "    print(r.url)"
   ]
  },
  {
   "cell_type": "code",
   "execution_count": 13,
   "id": "531dd07c",
   "metadata": {
    "scrolled": true
   },
   "outputs": [
    {
     "ename": "OperationalError",
     "evalue": "(sqlite3.OperationalError) database is locked\n[SQL: CREATE TABLE IF NOT EXISTS numbers (url text, number integer,\n            PRIMARY KEY (url, number))]\n(Background on this error at: http://sqlalche.me/e/14/e3q8)",
     "output_type": "error",
     "traceback": [
      "\u001b[0;31m---------------------------------------------------------------------------\u001b[0m",
      "\u001b[0;31mOperationalError\u001b[0m                          Traceback (most recent call last)",
      "\u001b[0;32m~/anaconda3/lib/python3.8/site-packages/sqlalchemy/engine/base.py\u001b[0m in \u001b[0;36m_execute_context\u001b[0;34m(self, dialect, constructor, statement, parameters, execution_options, *args, **kw)\u001b[0m\n\u001b[1;32m   1769\u001b[0m                 \u001b[0;32mif\u001b[0m \u001b[0;32mnot\u001b[0m \u001b[0mevt_handled\u001b[0m\u001b[0;34m:\u001b[0m\u001b[0;34m\u001b[0m\u001b[0;34m\u001b[0m\u001b[0m\n\u001b[0;32m-> 1770\u001b[0;31m                     self.dialect.do_execute(\n\u001b[0m\u001b[1;32m   1771\u001b[0m                         \u001b[0mcursor\u001b[0m\u001b[0;34m,\u001b[0m \u001b[0mstatement\u001b[0m\u001b[0;34m,\u001b[0m \u001b[0mparameters\u001b[0m\u001b[0;34m,\u001b[0m \u001b[0mcontext\u001b[0m\u001b[0;34m\u001b[0m\u001b[0;34m\u001b[0m\u001b[0m\n",
      "\u001b[0;32m~/anaconda3/lib/python3.8/site-packages/sqlalchemy/engine/default.py\u001b[0m in \u001b[0;36mdo_execute\u001b[0;34m(self, cursor, statement, parameters, context)\u001b[0m\n\u001b[1;32m    716\u001b[0m     \u001b[0;32mdef\u001b[0m \u001b[0mdo_execute\u001b[0m\u001b[0;34m(\u001b[0m\u001b[0mself\u001b[0m\u001b[0;34m,\u001b[0m \u001b[0mcursor\u001b[0m\u001b[0;34m,\u001b[0m \u001b[0mstatement\u001b[0m\u001b[0;34m,\u001b[0m \u001b[0mparameters\u001b[0m\u001b[0;34m,\u001b[0m \u001b[0mcontext\u001b[0m\u001b[0;34m=\u001b[0m\u001b[0;32mNone\u001b[0m\u001b[0;34m)\u001b[0m\u001b[0;34m:\u001b[0m\u001b[0;34m\u001b[0m\u001b[0;34m\u001b[0m\u001b[0m\n\u001b[0;32m--> 717\u001b[0;31m         \u001b[0mcursor\u001b[0m\u001b[0;34m.\u001b[0m\u001b[0mexecute\u001b[0m\u001b[0;34m(\u001b[0m\u001b[0mstatement\u001b[0m\u001b[0;34m,\u001b[0m \u001b[0mparameters\u001b[0m\u001b[0;34m)\u001b[0m\u001b[0;34m\u001b[0m\u001b[0;34m\u001b[0m\u001b[0m\n\u001b[0m\u001b[1;32m    718\u001b[0m \u001b[0;34m\u001b[0m\u001b[0m\n",
      "\u001b[0;31mOperationalError\u001b[0m: database is locked",
      "\nThe above exception was the direct cause of the following exception:\n",
      "\u001b[0;31mOperationalError\u001b[0m                          Traceback (most recent call last)",
      "\u001b[0;32m<ipython-input-13-907d50fd6066>\u001b[0m in \u001b[0;36m<module>\u001b[0;34m\u001b[0m\n\u001b[1;32m      5\u001b[0m \u001b[0;31m#             visited_at datetime NULL)''')\u001b[0m\u001b[0;34m\u001b[0m\u001b[0;34m\u001b[0m\u001b[0;34m\u001b[0m\u001b[0m\n\u001b[1;32m      6\u001b[0m \u001b[0;34m\u001b[0m\u001b[0m\n\u001b[0;32m----> 7\u001b[0;31m db.query('''CREATE TABLE IF NOT EXISTS numbers (url text, number integer,\n\u001b[0m\u001b[1;32m      8\u001b[0m             PRIMARY KEY (url, number))''')\n\u001b[1;32m      9\u001b[0m \u001b[0;34m\u001b[0m\u001b[0m\n",
      "\u001b[0;32m~/anaconda3/lib/python3.8/site-packages/records.py\u001b[0m in \u001b[0;36mquery\u001b[0;34m(self, query, fetchall, **params)\u001b[0m\n\u001b[1;32m    298\u001b[0m         \"\"\"\n\u001b[1;32m    299\u001b[0m         \u001b[0;32mwith\u001b[0m \u001b[0mself\u001b[0m\u001b[0;34m.\u001b[0m\u001b[0mget_connection\u001b[0m\u001b[0;34m(\u001b[0m\u001b[0;34m)\u001b[0m \u001b[0;32mas\u001b[0m \u001b[0mconn\u001b[0m\u001b[0;34m:\u001b[0m\u001b[0;34m\u001b[0m\u001b[0;34m\u001b[0m\u001b[0m\n\u001b[0;32m--> 300\u001b[0;31m             \u001b[0;32mreturn\u001b[0m \u001b[0mconn\u001b[0m\u001b[0;34m.\u001b[0m\u001b[0mquery\u001b[0m\u001b[0;34m(\u001b[0m\u001b[0mquery\u001b[0m\u001b[0;34m,\u001b[0m \u001b[0mfetchall\u001b[0m\u001b[0;34m,\u001b[0m \u001b[0;34m**\u001b[0m\u001b[0mparams\u001b[0m\u001b[0;34m)\u001b[0m\u001b[0;34m\u001b[0m\u001b[0;34m\u001b[0m\u001b[0m\n\u001b[0m\u001b[1;32m    301\u001b[0m \u001b[0;34m\u001b[0m\u001b[0m\n\u001b[1;32m    302\u001b[0m     \u001b[0;32mdef\u001b[0m \u001b[0mbulk_query\u001b[0m\u001b[0;34m(\u001b[0m\u001b[0mself\u001b[0m\u001b[0;34m,\u001b[0m \u001b[0mquery\u001b[0m\u001b[0;34m,\u001b[0m \u001b[0;34m*\u001b[0m\u001b[0mmultiparams\u001b[0m\u001b[0;34m)\u001b[0m\u001b[0;34m:\u001b[0m\u001b[0;34m\u001b[0m\u001b[0;34m\u001b[0m\u001b[0m\n",
      "\u001b[0;32m~/anaconda3/lib/python3.8/site-packages/records.py\u001b[0m in \u001b[0;36mquery\u001b[0;34m(self, query, fetchall, **params)\u001b[0m\n\u001b[1;32m    360\u001b[0m \u001b[0;34m\u001b[0m\u001b[0m\n\u001b[1;32m    361\u001b[0m         \u001b[0;31m# Execute the given query.\u001b[0m\u001b[0;34m\u001b[0m\u001b[0;34m\u001b[0m\u001b[0;34m\u001b[0m\u001b[0m\n\u001b[0;32m--> 362\u001b[0;31m         \u001b[0mcursor\u001b[0m \u001b[0;34m=\u001b[0m \u001b[0mself\u001b[0m\u001b[0;34m.\u001b[0m\u001b[0m_conn\u001b[0m\u001b[0;34m.\u001b[0m\u001b[0mexecute\u001b[0m\u001b[0;34m(\u001b[0m\u001b[0mtext\u001b[0m\u001b[0;34m(\u001b[0m\u001b[0mquery\u001b[0m\u001b[0;34m)\u001b[0m\u001b[0;34m,\u001b[0m \u001b[0;34m**\u001b[0m\u001b[0mparams\u001b[0m\u001b[0;34m)\u001b[0m \u001b[0;31m# TODO: PARAMS GO HERE\u001b[0m\u001b[0;34m\u001b[0m\u001b[0;34m\u001b[0m\u001b[0m\n\u001b[0m\u001b[1;32m    363\u001b[0m \u001b[0;34m\u001b[0m\u001b[0m\n\u001b[1;32m    364\u001b[0m         \u001b[0;31m# Row-by-row Record generator.\u001b[0m\u001b[0;34m\u001b[0m\u001b[0;34m\u001b[0m\u001b[0;34m\u001b[0m\u001b[0m\n",
      "\u001b[0;32m~/anaconda3/lib/python3.8/site-packages/sqlalchemy/engine/base.py\u001b[0m in \u001b[0;36mexecute\u001b[0;34m(self, statement, *multiparams, **params)\u001b[0m\n\u001b[1;32m   1260\u001b[0m             )\n\u001b[1;32m   1261\u001b[0m         \u001b[0;32melse\u001b[0m\u001b[0;34m:\u001b[0m\u001b[0;34m\u001b[0m\u001b[0;34m\u001b[0m\u001b[0m\n\u001b[0;32m-> 1262\u001b[0;31m             \u001b[0;32mreturn\u001b[0m \u001b[0mmeth\u001b[0m\u001b[0;34m(\u001b[0m\u001b[0mself\u001b[0m\u001b[0;34m,\u001b[0m \u001b[0mmultiparams\u001b[0m\u001b[0;34m,\u001b[0m \u001b[0mparams\u001b[0m\u001b[0;34m,\u001b[0m \u001b[0m_EMPTY_EXECUTION_OPTS\u001b[0m\u001b[0;34m)\u001b[0m\u001b[0;34m\u001b[0m\u001b[0;34m\u001b[0m\u001b[0m\n\u001b[0m\u001b[1;32m   1263\u001b[0m \u001b[0;34m\u001b[0m\u001b[0m\n\u001b[1;32m   1264\u001b[0m     \u001b[0;32mdef\u001b[0m \u001b[0m_execute_function\u001b[0m\u001b[0;34m(\u001b[0m\u001b[0mself\u001b[0m\u001b[0;34m,\u001b[0m \u001b[0mfunc\u001b[0m\u001b[0;34m,\u001b[0m \u001b[0mmultiparams\u001b[0m\u001b[0;34m,\u001b[0m \u001b[0mparams\u001b[0m\u001b[0;34m,\u001b[0m \u001b[0mexecution_options\u001b[0m\u001b[0;34m)\u001b[0m\u001b[0;34m:\u001b[0m\u001b[0;34m\u001b[0m\u001b[0;34m\u001b[0m\u001b[0m\n",
      "\u001b[0;32m~/anaconda3/lib/python3.8/site-packages/sqlalchemy/sql/elements.py\u001b[0m in \u001b[0;36m_execute_on_connection\u001b[0;34m(self, connection, multiparams, params, execution_options, _force)\u001b[0m\n\u001b[1;32m    327\u001b[0m     ):\n\u001b[1;32m    328\u001b[0m         \u001b[0;32mif\u001b[0m \u001b[0m_force\u001b[0m \u001b[0;32mor\u001b[0m \u001b[0mself\u001b[0m\u001b[0;34m.\u001b[0m\u001b[0msupports_execution\u001b[0m\u001b[0;34m:\u001b[0m\u001b[0;34m\u001b[0m\u001b[0;34m\u001b[0m\u001b[0m\n\u001b[0;32m--> 329\u001b[0;31m             return connection._execute_clauseelement(\n\u001b[0m\u001b[1;32m    330\u001b[0m                 \u001b[0mself\u001b[0m\u001b[0;34m,\u001b[0m \u001b[0mmultiparams\u001b[0m\u001b[0;34m,\u001b[0m \u001b[0mparams\u001b[0m\u001b[0;34m,\u001b[0m \u001b[0mexecution_options\u001b[0m\u001b[0;34m\u001b[0m\u001b[0;34m\u001b[0m\u001b[0m\n\u001b[1;32m    331\u001b[0m             )\n",
      "\u001b[0;32m~/anaconda3/lib/python3.8/site-packages/sqlalchemy/engine/base.py\u001b[0m in \u001b[0;36m_execute_clauseelement\u001b[0;34m(self, elem, multiparams, params, execution_options)\u001b[0m\n\u001b[1;32m   1449\u001b[0m             \u001b[0mlinting\u001b[0m\u001b[0;34m=\u001b[0m\u001b[0mself\u001b[0m\u001b[0;34m.\u001b[0m\u001b[0mdialect\u001b[0m\u001b[0;34m.\u001b[0m\u001b[0mcompiler_linting\u001b[0m \u001b[0;34m|\u001b[0m \u001b[0mcompiler\u001b[0m\u001b[0;34m.\u001b[0m\u001b[0mWARN_LINTING\u001b[0m\u001b[0;34m,\u001b[0m\u001b[0;34m\u001b[0m\u001b[0;34m\u001b[0m\u001b[0m\n\u001b[1;32m   1450\u001b[0m         )\n\u001b[0;32m-> 1451\u001b[0;31m         ret = self._execute_context(\n\u001b[0m\u001b[1;32m   1452\u001b[0m             \u001b[0mdialect\u001b[0m\u001b[0;34m,\u001b[0m\u001b[0;34m\u001b[0m\u001b[0;34m\u001b[0m\u001b[0m\n\u001b[1;32m   1453\u001b[0m             \u001b[0mdialect\u001b[0m\u001b[0;34m.\u001b[0m\u001b[0mexecution_ctx_cls\u001b[0m\u001b[0;34m.\u001b[0m\u001b[0m_init_compiled\u001b[0m\u001b[0;34m,\u001b[0m\u001b[0;34m\u001b[0m\u001b[0;34m\u001b[0m\u001b[0m\n",
      "\u001b[0;32m~/anaconda3/lib/python3.8/site-packages/sqlalchemy/engine/base.py\u001b[0m in \u001b[0;36m_execute_context\u001b[0;34m(self, dialect, constructor, statement, parameters, execution_options, *args, **kw)\u001b[0m\n\u001b[1;32m   1811\u001b[0m \u001b[0;34m\u001b[0m\u001b[0m\n\u001b[1;32m   1812\u001b[0m         \u001b[0;32mexcept\u001b[0m \u001b[0mBaseException\u001b[0m \u001b[0;32mas\u001b[0m \u001b[0me\u001b[0m\u001b[0;34m:\u001b[0m\u001b[0;34m\u001b[0m\u001b[0;34m\u001b[0m\u001b[0m\n\u001b[0;32m-> 1813\u001b[0;31m             self._handle_dbapi_exception(\n\u001b[0m\u001b[1;32m   1814\u001b[0m                 \u001b[0me\u001b[0m\u001b[0;34m,\u001b[0m \u001b[0mstatement\u001b[0m\u001b[0;34m,\u001b[0m \u001b[0mparameters\u001b[0m\u001b[0;34m,\u001b[0m \u001b[0mcursor\u001b[0m\u001b[0;34m,\u001b[0m \u001b[0mcontext\u001b[0m\u001b[0;34m\u001b[0m\u001b[0;34m\u001b[0m\u001b[0m\n\u001b[1;32m   1815\u001b[0m             )\n",
      "\u001b[0;32m~/anaconda3/lib/python3.8/site-packages/sqlalchemy/engine/base.py\u001b[0m in \u001b[0;36m_handle_dbapi_exception\u001b[0;34m(self, e, statement, parameters, cursor, context)\u001b[0m\n\u001b[1;32m   1992\u001b[0m                 \u001b[0mutil\u001b[0m\u001b[0;34m.\u001b[0m\u001b[0mraise_\u001b[0m\u001b[0;34m(\u001b[0m\u001b[0mnewraise\u001b[0m\u001b[0;34m,\u001b[0m \u001b[0mwith_traceback\u001b[0m\u001b[0;34m=\u001b[0m\u001b[0mexc_info\u001b[0m\u001b[0;34m[\u001b[0m\u001b[0;36m2\u001b[0m\u001b[0;34m]\u001b[0m\u001b[0;34m,\u001b[0m \u001b[0mfrom_\u001b[0m\u001b[0;34m=\u001b[0m\u001b[0me\u001b[0m\u001b[0;34m)\u001b[0m\u001b[0;34m\u001b[0m\u001b[0;34m\u001b[0m\u001b[0m\n\u001b[1;32m   1993\u001b[0m             \u001b[0;32melif\u001b[0m \u001b[0mshould_wrap\u001b[0m\u001b[0;34m:\u001b[0m\u001b[0;34m\u001b[0m\u001b[0;34m\u001b[0m\u001b[0m\n\u001b[0;32m-> 1994\u001b[0;31m                 util.raise_(\n\u001b[0m\u001b[1;32m   1995\u001b[0m                     \u001b[0msqlalchemy_exception\u001b[0m\u001b[0;34m,\u001b[0m \u001b[0mwith_traceback\u001b[0m\u001b[0;34m=\u001b[0m\u001b[0mexc_info\u001b[0m\u001b[0;34m[\u001b[0m\u001b[0;36m2\u001b[0m\u001b[0;34m]\u001b[0m\u001b[0;34m,\u001b[0m \u001b[0mfrom_\u001b[0m\u001b[0;34m=\u001b[0m\u001b[0me\u001b[0m\u001b[0;34m\u001b[0m\u001b[0;34m\u001b[0m\u001b[0m\n\u001b[1;32m   1996\u001b[0m                 )\n",
      "\u001b[0;32m~/anaconda3/lib/python3.8/site-packages/sqlalchemy/util/compat.py\u001b[0m in \u001b[0;36mraise_\u001b[0;34m(***failed resolving arguments***)\u001b[0m\n\u001b[1;32m    209\u001b[0m \u001b[0;34m\u001b[0m\u001b[0m\n\u001b[1;32m    210\u001b[0m         \u001b[0;32mtry\u001b[0m\u001b[0;34m:\u001b[0m\u001b[0;34m\u001b[0m\u001b[0;34m\u001b[0m\u001b[0m\n\u001b[0;32m--> 211\u001b[0;31m             \u001b[0;32mraise\u001b[0m \u001b[0mexception\u001b[0m\u001b[0;34m\u001b[0m\u001b[0;34m\u001b[0m\u001b[0m\n\u001b[0m\u001b[1;32m    212\u001b[0m         \u001b[0;32mfinally\u001b[0m\u001b[0;34m:\u001b[0m\u001b[0;34m\u001b[0m\u001b[0;34m\u001b[0m\u001b[0m\n\u001b[1;32m    213\u001b[0m             \u001b[0;31m# credit to\u001b[0m\u001b[0;34m\u001b[0m\u001b[0;34m\u001b[0m\u001b[0;34m\u001b[0m\u001b[0m\n",
      "\u001b[0;32m~/anaconda3/lib/python3.8/site-packages/sqlalchemy/engine/base.py\u001b[0m in \u001b[0;36m_execute_context\u001b[0;34m(self, dialect, constructor, statement, parameters, execution_options, *args, **kw)\u001b[0m\n\u001b[1;32m   1768\u001b[0m                             \u001b[0;32mbreak\u001b[0m\u001b[0;34m\u001b[0m\u001b[0;34m\u001b[0m\u001b[0m\n\u001b[1;32m   1769\u001b[0m                 \u001b[0;32mif\u001b[0m \u001b[0;32mnot\u001b[0m \u001b[0mevt_handled\u001b[0m\u001b[0;34m:\u001b[0m\u001b[0;34m\u001b[0m\u001b[0;34m\u001b[0m\u001b[0m\n\u001b[0;32m-> 1770\u001b[0;31m                     self.dialect.do_execute(\n\u001b[0m\u001b[1;32m   1771\u001b[0m                         \u001b[0mcursor\u001b[0m\u001b[0;34m,\u001b[0m \u001b[0mstatement\u001b[0m\u001b[0;34m,\u001b[0m \u001b[0mparameters\u001b[0m\u001b[0;34m,\u001b[0m \u001b[0mcontext\u001b[0m\u001b[0;34m\u001b[0m\u001b[0;34m\u001b[0m\u001b[0m\n\u001b[1;32m   1772\u001b[0m                     )\n",
      "\u001b[0;32m~/anaconda3/lib/python3.8/site-packages/sqlalchemy/engine/default.py\u001b[0m in \u001b[0;36mdo_execute\u001b[0;34m(self, cursor, statement, parameters, context)\u001b[0m\n\u001b[1;32m    715\u001b[0m \u001b[0;34m\u001b[0m\u001b[0m\n\u001b[1;32m    716\u001b[0m     \u001b[0;32mdef\u001b[0m \u001b[0mdo_execute\u001b[0m\u001b[0;34m(\u001b[0m\u001b[0mself\u001b[0m\u001b[0;34m,\u001b[0m \u001b[0mcursor\u001b[0m\u001b[0;34m,\u001b[0m \u001b[0mstatement\u001b[0m\u001b[0;34m,\u001b[0m \u001b[0mparameters\u001b[0m\u001b[0;34m,\u001b[0m \u001b[0mcontext\u001b[0m\u001b[0;34m=\u001b[0m\u001b[0;32mNone\u001b[0m\u001b[0;34m)\u001b[0m\u001b[0;34m:\u001b[0m\u001b[0;34m\u001b[0m\u001b[0;34m\u001b[0m\u001b[0m\n\u001b[0;32m--> 717\u001b[0;31m         \u001b[0mcursor\u001b[0m\u001b[0;34m.\u001b[0m\u001b[0mexecute\u001b[0m\u001b[0;34m(\u001b[0m\u001b[0mstatement\u001b[0m\u001b[0;34m,\u001b[0m \u001b[0mparameters\u001b[0m\u001b[0;34m)\u001b[0m\u001b[0;34m\u001b[0m\u001b[0;34m\u001b[0m\u001b[0m\n\u001b[0m\u001b[1;32m    718\u001b[0m \u001b[0;34m\u001b[0m\u001b[0m\n\u001b[1;32m    719\u001b[0m     \u001b[0;32mdef\u001b[0m \u001b[0mdo_execute_no_params\u001b[0m\u001b[0;34m(\u001b[0m\u001b[0mself\u001b[0m\u001b[0;34m,\u001b[0m \u001b[0mcursor\u001b[0m\u001b[0;34m,\u001b[0m \u001b[0mstatement\u001b[0m\u001b[0;34m,\u001b[0m \u001b[0mcontext\u001b[0m\u001b[0;34m=\u001b[0m\u001b[0;32mNone\u001b[0m\u001b[0;34m)\u001b[0m\u001b[0;34m:\u001b[0m\u001b[0;34m\u001b[0m\u001b[0;34m\u001b[0m\u001b[0m\n",
      "\u001b[0;31mOperationalError\u001b[0m: (sqlite3.OperationalError) database is locked\n[SQL: CREATE TABLE IF NOT EXISTS numbers (url text, number integer,\n            PRIMARY KEY (url, number))]\n(Background on this error at: http://sqlalche.me/e/14/e3q8)"
     ]
    }
   ],
   "source": [
    "\n",
    "db = records.Database('sqlite:///Midas_database.db')\n",
    "# db.query('''CREATE TABLE IF NOT EXISTS links (\n",
    "#             url text PRIMARY KEY,\n",
    "#             created_at datetime,\n",
    "#             visited_at datetime NULL)''')\n",
    "\n",
    "db.query('''CREATE TABLE IF NOT EXISTS numbers (url text, number integer,\n",
    "            PRIMARY KEY (url, number))''')\n",
    "\n",
    "\n",
    "def store_link(url):\n",
    "    try:\n",
    "        db.query('''INSERT INTO links (url, created_at)\n",
    "                    VALUES (:url, CURRENT_TIMESTAMP)''', url=url)\n",
    "    except IntegrityError as ie:\n",
    "        # This link already exists, do nothing\n",
    "        pass\n",
    "\n",
    "    \n",
    "def store_number(url, number):\n",
    "    try:\n",
    "        db.query('''INSERT INTO numbers (url, number)\n",
    "                    VALUES (:url, :number)''', url=url, number=number)\n",
    "    except IntegrityError as ie:\n",
    "        # This number already exists, do nothing\n",
    "        pass\n",
    "    \n",
    "    \n",
    "def mark_visited(url):\n",
    "    db.query('''UPDATE links SET visited_at=CURRENT_TIMESTAMP\n",
    "                WHERE url=:url''', url=url)\n",
    "    \n",
    "    \n",
    "def get_random_unvisited_link():\n",
    "    link = db.query('''SELECT * FROM links\n",
    "                        WHERE visited_at IS NULL\n",
    "                        ORDER BY RANDOM() LIMIT 1''').first()\n",
    "    return None if link is None else link.url\n",
    "\n"
   ]
  },
  {
   "cell_type": "code",
   "execution_count": null,
   "id": "63e43e41",
   "metadata": {},
   "outputs": [],
   "source": []
  },
  {
   "cell_type": "code",
   "execution_count": 58,
   "id": "2f77fe17",
   "metadata": {},
   "outputs": [],
   "source": [
    "articles = []\n",
    "for i in range(1, 5):\n",
    "    url = f'https://midasfurniture.com/ksa_ar/home-furniture/living-rooms/sectional-sofa/page/{i}.html'\n",
    "    r = requests.get(url)\n",
    "    html_soup = BeautifulSoup(r.text, 'html.parser')\n",
    "    \n",
    "    \n",
    "\n",
    "    products = driver.find_elements_by_class_name('product-image')\n",
    "    links = html_soup.find_all('a', class_='product-image')\n",
    "    for link in links:\n",
    "        articles.append(link.get('href'))\n"
   ]
  },
  {
   "cell_type": "markdown",
   "id": "db0c1b59",
   "metadata": {},
   "source": [
    "# Scrape all url with BS4"
   ]
  },
  {
   "cell_type": "code",
   "execution_count": 141,
   "id": "c2858fa9",
   "metadata": {},
   "outputs": [
    {
     "name": "stdout",
     "output_type": "stream",
     "text": [
      "Count: 0\n",
      "27\n",
      "54\n",
      "81\n",
      "92\n",
      "Count: 1\n",
      "119\n",
      "146\n",
      "173\n",
      "200\n",
      "227\n",
      "251\n",
      "Count: 2\n",
      "278\n",
      "305\n",
      "332\n",
      "339\n",
      "Count: 3\n",
      "353\n",
      "Count: 4\n",
      "380\n",
      "407\n",
      "434\n",
      "461\n",
      "488\n",
      "515\n",
      "526\n",
      "Count: 5\n",
      "553\n",
      "580\n",
      "607\n",
      "634\n",
      "661\n",
      "688\n",
      "715\n",
      "720\n",
      "Count: 6\n",
      "747\n",
      "774\n",
      "794\n",
      "Count: 7\n",
      "821\n",
      "848\n",
      "875\n",
      "902\n",
      "929\n",
      "943\n",
      "Count: 8\n",
      "970\n",
      "997\n",
      "1024\n",
      "1051\n",
      "1078\n",
      "1105\n",
      "1132\n",
      "1159\n",
      "1186\n",
      "1213\n",
      "1216\n",
      "Count: 9\n",
      "1243\n",
      "1270\n",
      "1297\n",
      "1324\n",
      "1350\n",
      "Count: 10\n",
      "1377\n",
      "1386\n",
      "Count: 11\n",
      "1413\n",
      "1429\n",
      "Count: 12\n",
      "1456\n",
      "1483\n",
      "1510\n",
      "1537\n",
      "1564\n",
      "1582\n",
      "Count: 13\n",
      "1609\n",
      "1636\n",
      "1639\n",
      "Count: 14\n",
      "1661\n",
      "Count: 15\n",
      "1688\n",
      "1715\n",
      "1731\n",
      "Count: 16\n",
      "1736\n",
      "Count: 17\n",
      "1763\n",
      "1790\n",
      "1817\n",
      "1844\n",
      "1850\n",
      "Count: 18\n",
      "1860\n",
      "Count: 19\n",
      "1879\n",
      "Count: 20\n",
      "1890\n",
      "Count: 21\n",
      "1905\n",
      "Count: 22\n",
      "1915\n",
      "1939\n",
      "1963\n",
      "Count: 23\n",
      "1990\n",
      "1997\n",
      "Count: 24\n",
      "2003\n",
      "Count: 25\n",
      "2030\n",
      "2057\n",
      "2084\n",
      "2103\n",
      "Count: 26\n",
      "2130\n",
      "2157\n",
      "2164\n",
      "Count: 27\n",
      "2191\n",
      "2218\n",
      "2244\n",
      "Count: 28\n",
      "2271\n",
      "2298\n",
      "2304\n",
      "Count: 29\n",
      "2331\n",
      "2332\n",
      "Count: 30\n",
      "2359\n",
      "2363\n",
      "Count: 31\n",
      "2388\n",
      "Count: 32\n",
      "2415\n",
      "2442\n",
      "2456\n",
      "Count: 33\n",
      "2483\n",
      "2484\n",
      "Count: 34\n",
      "2500\n",
      "Count: 35\n",
      "2508\n",
      "Count: 36\n",
      "2516\n",
      "Count: 37\n",
      "2533\n",
      "Count: 38\n",
      "2537\n",
      "Count: 39\n",
      "2540\n",
      "Count: 40\n",
      "2543\n",
      "Count: 41\n",
      "2545\n",
      "Count: 42\n",
      "2550\n",
      "Count: 43\n",
      "2553\n",
      "Count: 44\n",
      "2580\n",
      "2607\n",
      "2626\n",
      "Count: 45\n",
      "2637\n",
      "Count: 46\n",
      "2638\n",
      "Count: 47\n",
      "2648\n",
      "Count: 48\n",
      "2657\n",
      "Count: 49\n",
      "2667\n",
      "Count: 50\n",
      "2668\n",
      "Count: 51\n",
      "2671\n",
      "Count: 52\n",
      "2677\n",
      "Count: 53\n",
      "2681\n",
      "Count: 54\n",
      "2687\n",
      "Count: 55\n",
      "2696\n",
      "Count: 56\n",
      "2723\n",
      "2728\n",
      "Count: 57\n",
      "2749\n",
      "Count: 58\n",
      "2756\n",
      "Count: 59\n",
      "2761\n",
      "Count: 60\n",
      "2788\n",
      "2798\n",
      "Count: 61\n",
      "2825\n",
      "2852\n",
      "2862\n",
      "Count: 62\n",
      "2889\n",
      "2909\n",
      "Count: 63\n",
      "2934\n",
      "Count: 64\n",
      "2961\n",
      "2971\n",
      "Count: 65\n",
      "2975\n",
      "Count: 66\n",
      "2975\n",
      "Count: 67\n",
      "3002\n",
      "3029\n",
      "3046\n",
      "Count: 68\n",
      "3073\n",
      "3100\n",
      "3127\n",
      "3138\n",
      "Count: 69\n",
      "3144\n",
      "Count: 70\n",
      "3171\n",
      "3198\n",
      "3223\n",
      "Count: 71\n",
      "3226\n",
      "Count: 72\n",
      "3226\n",
      "3226\n",
      "3226\n",
      "Count: 73\n",
      "3253\n",
      "3255\n",
      "Count: 74\n"
     ]
    },
    {
     "ename": "KeyError",
     "evalue": "'cat2'",
     "output_type": "error",
     "traceback": [
      "\u001b[0;31m---------------------------------------------------------------------------\u001b[0m",
      "\u001b[0;31mKeyError\u001b[0m                                  Traceback (most recent call last)",
      "\u001b[0;32m<ipython-input-141-b6058f964c45>\u001b[0m in \u001b[0;36m<module>\u001b[0;34m\u001b[0m\n\u001b[1;32m     22\u001b[0m             \u001b[0mlinks_products\u001b[0m\u001b[0;34m.\u001b[0m\u001b[0mappend\u001b[0m\u001b[0;34m(\u001b[0m\u001b[0mlink\u001b[0m\u001b[0;34m.\u001b[0m\u001b[0mget\u001b[0m\u001b[0;34m(\u001b[0m\u001b[0;34m'href'\u001b[0m\u001b[0;34m)\u001b[0m\u001b[0;34m)\u001b[0m\u001b[0;34m\u001b[0m\u001b[0;34m\u001b[0m\u001b[0m\n\u001b[1;32m     23\u001b[0m             \u001b[0mlist_cat1\u001b[0m\u001b[0;34m.\u001b[0m\u001b[0mappend\u001b[0m\u001b[0;34m(\u001b[0m\u001b[0mtoto\u001b[0m\u001b[0;34m[\u001b[0m\u001b[0;34m'cat1'\u001b[0m\u001b[0;34m]\u001b[0m\u001b[0;34m)\u001b[0m\u001b[0;34m\u001b[0m\u001b[0;34m\u001b[0m\u001b[0m\n\u001b[0;32m---> 24\u001b[0;31m             \u001b[0mlist_cat2\u001b[0m\u001b[0;34m.\u001b[0m\u001b[0mappend\u001b[0m\u001b[0;34m(\u001b[0m\u001b[0mtoto\u001b[0m\u001b[0;34m[\u001b[0m\u001b[0;34m'cat2'\u001b[0m\u001b[0;34m]\u001b[0m\u001b[0;34m)\u001b[0m\u001b[0;34m\u001b[0m\u001b[0;34m\u001b[0m\u001b[0m\n\u001b[0m\u001b[1;32m     25\u001b[0m             \u001b[0mlist_cat3\u001b[0m\u001b[0;34m.\u001b[0m\u001b[0mappend\u001b[0m\u001b[0;34m(\u001b[0m\u001b[0mtoto\u001b[0m\u001b[0;34m[\u001b[0m\u001b[0;34m'cat3'\u001b[0m\u001b[0;34m]\u001b[0m\u001b[0;34m)\u001b[0m\u001b[0;34m\u001b[0m\u001b[0;34m\u001b[0m\u001b[0m\n\u001b[1;32m     26\u001b[0m \u001b[0;31m#             time.sleep(0.5)\u001b[0m\u001b[0;34m\u001b[0m\u001b[0;34m\u001b[0m\u001b[0;34m\u001b[0m\u001b[0m\n",
      "\u001b[0;31mKeyError\u001b[0m: 'cat2'"
     ]
    }
   ],
   "source": [
    "links_products = []\n",
    "\n",
    "links_products = []\n",
    "list_cat1 = []\n",
    "list_cat2 = []\n",
    "list_cat3 = []\n",
    "for i, toto in enumerate(list_dic_cats):\n",
    "    print('Count:', i)\n",
    "    for i in range(1, toto['count']):\n",
    "    \n",
    "        url = (f'{toto[\"url\"]}{i}.html')\n",
    "#         url = f'https://midasfurniture.com/ksa_ar/home-furniture/living-rooms/sectional-sofa/page/{i}.html'\n",
    "        r = requests.get(url)\n",
    "        html_soup = BeautifulSoup(r.text, 'html.parser')\n",
    "#         print(f'{toto[0]}{i}.html')\n",
    "\n",
    "#         products = driver.find_elements_by_class_name('product-image')\n",
    "\n",
    "        links = html_soup.find_all('a', class_='product-image')\n",
    "        #Forloop to get all url products\n",
    "        for link in links:\n",
    "            links_products.append(link.get('href'))\n",
    "            list_cat1.append(toto['cat1'])\n",
    "            list_cat2.append(toto['cat2'])\n",
    "            list_cat3.append(toto['cat3'])\n",
    "#             time.sleep(0.5)\n",
    "#         time.sleep(1)\n",
    "        print(len(links_products))\n",
    "       \n",
    "#Save link in excel files\n",
    "link_living_rooms = {\n",
    "    'liste': links_products,\n",
    "    'cat1': list_cat1,\n",
    "    'cat2': list_cat2,\n",
    "    'cat3': list_cat3,\n",
    "}\n",
    "now = datetime.now()\n",
    "dt_string = now.strftime(\"%d-%m-%Y-%H-%M-%S\")\n",
    "liste_link_living_rooms = pd.DataFrame(link_living_rooms)\n",
    "liste_link_living_rooms.to_excel(f'link_all_product_midas_cats_titi1-{dt_string}.xlsx')"
   ]
  },
  {
   "cell_type": "code",
   "execution_count": null,
   "id": "4787674a",
   "metadata": {},
   "outputs": [],
   "source": []
  },
  {
   "cell_type": "code",
   "execution_count": null,
   "id": "a61928ed",
   "metadata": {},
   "outputs": [],
   "source": []
  },
  {
   "cell_type": "code",
   "execution_count": 60,
   "id": "0b2ca94f",
   "metadata": {},
   "outputs": [
    {
     "data": {
      "text/plain": [
       "92"
      ]
     },
     "execution_count": 60,
     "metadata": {},
     "output_type": "execute_result"
    }
   ],
   "source": [
    "len(articles)"
   ]
  },
  {
   "cell_type": "code",
   "execution_count": null,
   "id": "9b5eefc2",
   "metadata": {},
   "outputs": [],
   "source": [
    "    \n",
    "        driver.get(f'{toto[0]}{i}.html')\n",
    "        print(f'{toto[0]}{i}.html')\n",
    "\n",
    "        products = driver.find_elements_by_class_name('product-image')"
   ]
  },
  {
   "cell_type": "code",
   "execution_count": 52,
   "id": "c66a7a49",
   "metadata": {},
   "outputs": [
    {
     "data": {
      "text/plain": [
       "27"
      ]
     },
     "execution_count": 52,
     "metadata": {},
     "output_type": "execute_result"
    }
   ],
   "source": [
    "\n",
    "len(links)"
   ]
  },
  {
   "cell_type": "code",
   "execution_count": 53,
   "id": "3f49dcfc",
   "metadata": {},
   "outputs": [
    {
     "name": "stdout",
     "output_type": "stream",
     "text": [
      "https://midasfurniture.com/ksa_ar/accrington-sectional-sofa.html\n",
      "https://midasfurniture.com/ksa_ar/lobelia.html\n",
      "https://midasfurniture.com/ksa_ar/tambo.html\n",
      "https://midasfurniture.com/ksa_ar/tracling.html\n",
      "https://midasfurniture.com/ksa_ar/maier-sectional-sofa.html\n",
      "https://midasfurniture.com/ksa_ar/luxora.html\n",
      "https://midasfurniture.com/ksa_ar/enola-sectional-sofa-with-chaise.html\n",
      "https://midasfurniture.com/ksa_ar/kumasi-sectional-sofa.html\n",
      "https://midasfurniture.com/ksa_ar/eltmann.html\n",
      "https://midasfurniture.com/ksa_ar/jayceon-sectional-sofa-with-chaise.html\n",
      "https://midasfurniture.com/ksa_ar/dovan.html\n",
      "https://midasfurniture.com/ksa_ar/savesto.html\n",
      "https://midasfurniture.com/ksa_ar/comfy-sectional-recliner-sofa.html\n",
      "https://midasfurniture.com/ksa_ar/ballinasloe-sectional-sofa.html\n",
      "https://midasfurniture.com/ksa_ar/altari-sectional-sofa.html\n",
      "https://midasfurniture.com/ksa_ar/coulee-point-sectional-sofa.html\n",
      "https://midasfurniture.com/ksa_ar/santasia-sectional-sofa.html\n",
      "https://midasfurniture.com/ksa_ar/urbino-sectional-sofa-recliner.html\n",
      "https://midasfurniture.com/ksa_ar/nantahala-sectional-recliner-sofa.html\n",
      "https://midasfurniture.com/ksa_ar/kellway-sectional-sofa.html\n",
      "https://midasfurniture.com/ksa_ar/bovarian-sectional-sofa.html\n",
      "https://midasfurniture.com/ksa_ar/maxalto-sectional-sofa.html\n",
      "https://midasfurniture.com/ksa_ar/brassville-recliner-sectional-sofa.html\n",
      "https://midasfurniture.com/ksa_ar/baskove-sectional-sofa.html\n",
      "https://midasfurniture.com/ksa_ar/nuria-sectional-sofa.html\n",
      "https://midasfurniture.com/ksa_ar/movirado-sectional-recliner-sofa.html\n",
      "https://midasfurniture.com/ksa_ar/solowood-sectional-sofa.html\n"
     ]
    }
   ],
   "source": []
  },
  {
   "cell_type": "code",
   "execution_count": null,
   "id": "f4718d63",
   "metadata": {},
   "outputs": [],
   "source": []
  },
  {
   "cell_type": "code",
   "execution_count": null,
   "id": "2e1f72e4",
   "metadata": {},
   "outputs": [],
   "source": [
    "\n",
    "aaa"
   ]
  },
  {
   "cell_type": "markdown",
   "id": "085647f6",
   "metadata": {},
   "source": [
    "# Firefox "
   ]
  },
  {
   "cell_type": "code",
   "execution_count": 2,
   "id": "1e4ef702",
   "metadata": {
    "scrolled": true
   },
   "outputs": [
    {
     "name": "stdout",
     "output_type": "stream",
     "text": [
      "Found a new page: https://midasfurniture.com/ar/\n",
      "Found a new page: https://midasfurniture.com/ksa_ar/\n",
      "Found a new page: https://midasfurniture.com/qtr_ar/\n",
      "Found a new page: https://midasfurniture.com/jo_ar/\n",
      "Found a new page: https://midasfurniture.com/egy_ar/\n",
      "Found a new page: https://midasfurniture.com/bhr_ar/\n",
      "Found a new page: https://midasfurniture.com/ae_ar/\n",
      "Found a new page: https://midasfurniture.com/ae_en/\n",
      "Found a new page: https://midasfurniture.com/en/\n",
      "Found a new page: https://midasfurniture.com/ksa_en/\n",
      "Found a new page: https://midasfurniture.com/qtr_en/\n",
      "Found a new page: https://midasfurniture.com/jo_en/\n",
      "Found a new page: https://midasfurniture.com/egy_en/\n",
      "Found a new page: https://midasfurniture.com/bhr_en/\n",
      "Found a new page: https://midasfurniture.com/\n",
      "Found a new page: https://my.matterport.com/show/?m=R6F563qpKNG\n",
      "Found a new page: https://midasfurniture.com/en/customer/account/login/referer/aHR0cHM6Ly9taWRhc2Z1cm5pdHVyZS5jb20vZW4vP19fX1NJRD1V/\n",
      "Found a new page: https://midasfurniture.com/ar/customer/account/login/referer/aHR0cHM6Ly9taWRhc2Z1cm5pdHVyZS5jb20vZW4vP19fX1NJRD1V/\n",
      "Found a new page: https://midasfurniture.com/ar/home-furniture.html/\n",
      "Found a new page: https://midasfurniture.com/en/home-furniture.html/\n",
      "Found a new page: https://midasfurniture.com/en/customer/account/login/referer/aHR0cHM6Ly9taWRhc2Z1cm5pdHVyZS5jb20vZW4vaG9tZS1mdXJuaXR1cmUuaHRtbD9fX19TSUQ9VQ,,/\n",
      "Found a new page: https://midasfurniture.com/ar/customer/account/login/referer/aHR0cHM6Ly9taWRhc2Z1cm5pdHVyZS5jb20vZW4vaG9tZS1mdXJuaXR1cmUuaHRtbD9fX19TSUQ9VQ,,/\n",
      "Found a new page: https://midasfurniture.com/ar/home-furniture/living-rooms.html\n",
      "Found a new page: https://midasfurniture.com/en/home-furniture/living-rooms.html?gclid=EAIaIQobChMIrJitnsLJ8gIVStntCh07KAHgEAEYASAAEgJBavD_BwE\n",
      "Found a new page: https://midasfurniture.com/en/customer/account/login/referer/aHR0cHM6Ly9taWRhc2Z1cm5pdHVyZS5jb20vZW4vaG9tZS1mdXJuaXR1cmUvbGl2aW5nLXJvb21zLmh0bWw_X19fU0lEPVU,/\n",
      "Found a new page: https://midasfurniture.com/ar/customer/account/login/referer/aHR0cHM6Ly9taWRhc2Z1cm5pdHVyZS5jb20vZW4vaG9tZS1mdXJuaXR1cmUvbGl2aW5nLXJvb21zLmh0bWw_X19fU0lEPVU,/\n",
      "Found a new page: https://midasfurniture.com/ar/home-furniture/living-rooms/sectional-sofa.html\n",
      "Found a new page: https://midasfurniture.com/en/home-furniture/living-rooms/sectional-sofa.html\n",
      "Found a new page: https://midasfurniture.com/en/customer/account/login/referer/aHR0cHM6Ly9taWRhc2Z1cm5pdHVyZS5jb20vZW4vaG9tZS1mdXJuaXR1cmUvbGl2aW5nLXJvb21zL3NlY3Rpb25hbC1zb2ZhLmh0bWw_X19fU0lEPVU,/\n",
      "Found a new page: https://midasfurniture.com/ar/customer/account/login/referer/aHR0cHM6Ly9taWRhc2Z1cm5pdHVyZS5jb20vZW4vaG9tZS1mdXJuaXR1cmUvbGl2aW5nLXJvb21zL3NlY3Rpb25hbC1zb2ZhLmh0bWw_X19fU0lEPVU,/\n",
      "Found a new page: https://midasfurniture.com/ar/home-furniture/living-rooms/sofa-sets.html\n",
      "Found a new page: https://midasfurniture.com/en/home-furniture/living-rooms/sofa-sets.html\n",
      "Found a new page: https://midasfurniture.com/en/customer/account/login/referer/aHR0cHM6Ly9taWRhc2Z1cm5pdHVyZS5jb20vZW4vaG9tZS1mdXJuaXR1cmUvbGl2aW5nLXJvb21zL3NvZmEtc2V0cy5odG1sP19fX1NJRD1V/\n",
      "Found a new page: https://midasfurniture.com/ar/customer/account/login/referer/aHR0cHM6Ly9taWRhc2Z1cm5pdHVyZS5jb20vZW4vaG9tZS1mdXJuaXR1cmUvbGl2aW5nLXJvb21zL3NvZmEtc2V0cy5odG1sP19fX1NJRD1V/\n",
      "Found a new page: https://midasfurniture.com/ar/home-furniture/living-rooms/sofas-love-seats.html\n",
      "Found a new page: https://midasfurniture.com/en/home-furniture/living-rooms/sofas-love-seats.html\n",
      "Found a new page: https://midasfurniture.com/en/customer/account/login/referer/aHR0cHM6Ly9taWRhc2Z1cm5pdHVyZS5jb20vZW4vaG9tZS1mdXJuaXR1cmUvbGl2aW5nLXJvb21zL3NvZmFzLWxvdmUtc2VhdHMuaHRtbD9fX19TSUQ9VQ,,/\n",
      "Found a new page: https://midasfurniture.com/ar/customer/account/login/referer/aHR0cHM6Ly9taWRhc2Z1cm5pdHVyZS5jb20vZW4vaG9tZS1mdXJuaXR1cmUvbGl2aW5nLXJvb21zL3NvZmFzLWxvdmUtc2VhdHMuaHRtbD9fX19TSUQ9VQ,,/\n",
      "Found a new page: https://midasfurniture.com/ar/checkout/cart/?___SID=U\n",
      "Found a new page: https://midasfurniture.com/en/checkout/cart/\n",
      "Found a new page: https://midasfurniture.com/ar/checkout/cart/\n",
      "Found a new page: https://midasfurniture.com/ar/customer/account/login/referer/aHR0cHM6Ly9taWRhc2Z1cm5pdHVyZS5jb20vYXIvY2hlY2tvdXQvY2FydC9pbmRleC8_X19fU0lEPVU,/\n",
      "Found a new page: https://midasfurniture.com/en/customer/account/login/referer/aHR0cHM6Ly9taWRhc2Z1cm5pdHVyZS5jb20vYXIvY2hlY2tvdXQvY2FydC9pbmRleC8_X19fU0lEPVU,/\n",
      "Found a new page: https://midasfurniture.com/en/checkout/cart/?___SID=U\n",
      "Found a new page: https://midasfurniture.com/en/customer/account/login/referer/aHR0cHM6Ly9taWRhc2Z1cm5pdHVyZS5jb20vZW4vY2hlY2tvdXQvY2FydC9pbmRleC8_X19fU0lEPVU,/\n",
      "Found a new page: https://midasfurniture.com/ar/customer/account/login/referer/aHR0cHM6Ly9taWRhc2Z1cm5pdHVyZS5jb20vZW4vY2hlY2tvdXQvY2FydC9pbmRleC8_X19fU0lEPVU,/\n",
      "Found a new page: https://midasfurniture.com/ar/home-furniture/living-rooms/sofa-beds.html\n",
      "Found a new page: https://midasfurniture.com/ar/customer/account/login/referer/aHR0cHM6Ly9taWRhc2Z1cm5pdHVyZS5jb20vYXIvaG9tZS1mdXJuaXR1cmUvbGl2aW5nLXJvb21zL3NvZmEtYmVkcy5odG1sP19fX1NJRD1V/\n",
      "Found a new page: https://midasfurniture.com/en/customer/account/login/referer/aHR0cHM6Ly9taWRhc2Z1cm5pdHVyZS5jb20vYXIvaG9tZS1mdXJuaXR1cmUvbGl2aW5nLXJvb21zL3NvZmEtYmVkcy5odG1sP19fX1NJRD1V/\n",
      "Found a new page: https://midasfurniture.com/en/home-furniture/living-rooms.html\n",
      "Found a new page: https://midasfurniture.com/en/home-furniture/living-rooms/sofa-beds.html\n",
      "Found a new page: https://midasfurniture.com/en/customer/account/login/referer/aHR0cHM6Ly9taWRhc2Z1cm5pdHVyZS5jb20vZW4vaG9tZS1mdXJuaXR1cmUvbGl2aW5nLXJvb21zL3NvZmEtYmVkcy5odG1sP19fX1NJRD1V/\n",
      "Found a new page: https://midasfurniture.com/ar/customer/account/login/referer/aHR0cHM6Ly9taWRhc2Z1cm5pdHVyZS5jb20vZW4vaG9tZS1mdXJuaXR1cmUvbGl2aW5nLXJvb21zL3NvZmEtYmVkcy5odG1sP19fX1NJRD1V/\n",
      "Found a new page: https://midasfurniture.com/ar/home-furniture/living-rooms/chairs.html\n",
      "Found a new page: https://midasfurniture.com/en/home-furniture/living-rooms/chairs.html\n",
      "Found a new page: https://midasfurniture.com/en/customer/account/login/referer/aHR0cHM6Ly9taWRhc2Z1cm5pdHVyZS5jb20vZW4vaG9tZS1mdXJuaXR1cmUvbGl2aW5nLXJvb21zL2NoYWlycy5odG1sP19fX1NJRD1V/\n",
      "Found a new page: https://midasfurniture.com/ar/customer/account/login/referer/aHR0cHM6Ly9taWRhc2Z1cm5pdHVyZS5jb20vZW4vaG9tZS1mdXJuaXR1cmUvbGl2aW5nLXJvb21zL2NoYWlycy5odG1sP19fX1NJRD1V/\n",
      "Found a new page: https://midasfurniture.com/ar/home-furniture/living-rooms/bench-and-ottoman.html\n",
      "Found a new page: https://midasfurniture.com/en/home-furniture/living-rooms/bench-and-ottoman.html\n",
      "Found a new page: https://midasfurniture.com/en/customer/account/login/referer/aHR0cHM6Ly9taWRhc2Z1cm5pdHVyZS5jb20vZW4vaG9tZS1mdXJuaXR1cmUvbGl2aW5nLXJvb21zL2JlbmNoLWFuZC1vdHRvbWFuLmh0bWw_X19fU0lEPVU,/\n",
      "Found a new page: https://midasfurniture.com/ar/customer/account/login/referer/aHR0cHM6Ly9taWRhc2Z1cm5pdHVyZS5jb20vZW4vaG9tZS1mdXJuaXR1cmUvbGl2aW5nLXJvb21zL2JlbmNoLWFuZC1vdHRvbWFuLmh0bWw_X19fU0lEPVU,/\n",
      "Found a new page: https://midasfurniture.com/ar/home-furniture/living-rooms/center-side-tables.html\n",
      "Found a new page: https://midasfurniture.com/en/home-furniture/living-rooms/center-side-tables.html\n",
      "Found a new page: https://midasfurniture.com/en/customer/account/login/referer/aHR0cHM6Ly9taWRhc2Z1cm5pdHVyZS5jb20vZW4vaG9tZS1mdXJuaXR1cmUvbGl2aW5nLXJvb21zL2NlbnRlci1zaWRlLXRhYmxlcy5odG1sP19fX1NJRD1V/\n",
      "Found a new page: https://midasfurniture.com/ar/customer/account/login/referer/aHR0cHM6Ly9taWRhc2Z1cm5pdHVyZS5jb20vZW4vaG9tZS1mdXJuaXR1cmUvbGl2aW5nLXJvb21zL2NlbnRlci1zaWRlLXRhYmxlcy5odG1sP19fX1NJRD1V/\n",
      "Found a new page: https://midasfurniture.com/ar/home-furniture/living-rooms/center-tables.html\n",
      "Found a new page: https://midasfurniture.com/en/home-furniture/living-rooms/center-tables.html\n",
      "Found a new page: https://midasfurniture.com/en/customer/account/login/referer/aHR0cHM6Ly9taWRhc2Z1cm5pdHVyZS5jb20vZW4vaG9tZS1mdXJuaXR1cmUvbGl2aW5nLXJvb21zL2NlbnRlci10YWJsZXMuaHRtbD9fX19TSUQ9VQ,,/\n",
      "Found a new page: https://midasfurniture.com/ar/customer/account/login/referer/aHR0cHM6Ly9taWRhc2Z1cm5pdHVyZS5jb20vZW4vaG9tZS1mdXJuaXR1cmUvbGl2aW5nLXJvb21zL2NlbnRlci10YWJsZXMuaHRtbD9fX19TSUQ9VQ,,/\n",
      "Found a new page: https://midasfurniture.com/ar/home-furniture/living-rooms/end-tables.html\n"
     ]
    },
    {
     "name": "stdout",
     "output_type": "stream",
     "text": [
      "Found a new page: https://midasfurniture.com/en/home-furniture/living-rooms/end-tables.html\n",
      "Found a new page: https://midasfurniture.com/en/customer/account/login/referer/aHR0cHM6Ly9taWRhc2Z1cm5pdHVyZS5jb20vZW4vaG9tZS1mdXJuaXR1cmUvbGl2aW5nLXJvb21zL2VuZC10YWJsZXMuaHRtbD9fX19TSUQ9VQ,,/\n",
      "Found a new page: https://midasfurniture.com/ar/customer/account/login/referer/aHR0cHM6Ly9taWRhc2Z1cm5pdHVyZS5jb20vZW4vaG9tZS1mdXJuaXR1cmUvbGl2aW5nLXJvb21zL2VuZC10YWJsZXMuaHRtbD9fX19TSUQ9VQ,,/\n",
      "Found a new page: https://midasfurniture.com/ar/home-furniture/living-rooms/consoles.html\n",
      "Found a new page: https://midasfurniture.com/en/home-furniture/living-rooms/consoles.html\n",
      "Found a new page: https://midasfurniture.com/en/customer/account/login/referer/aHR0cHM6Ly9taWRhc2Z1cm5pdHVyZS5jb20vZW4vaG9tZS1mdXJuaXR1cmUvbGl2aW5nLXJvb21zL2NvbnNvbGVzLmh0bWw_X19fU0lEPVU,/\n",
      "Found a new page: https://midasfurniture.com/ar/customer/account/login/referer/aHR0cHM6Ly9taWRhc2Z1cm5pdHVyZS5jb20vZW4vaG9tZS1mdXJuaXR1cmUvbGl2aW5nLXJvb21zL2NvbnNvbGVzLmh0bWw_X19fU0lEPVU,/\n",
      "Found a new page: https://midasfurniture.com/ar/home-furniture/living-rooms/nested-tables.html\n",
      "Found a new page: https://midasfurniture.com/en/home-furniture/living-rooms/nested-tables.html\n",
      "Found a new page: https://midasfurniture.com/en/customer/account/login/referer/aHR0cHM6Ly9taWRhc2Z1cm5pdHVyZS5jb20vZW4vaG9tZS1mdXJuaXR1cmUvbGl2aW5nLXJvb21zL25lc3RlZC10YWJsZXMuaHRtbD9fX19TSUQ9VQ,,/\n",
      "Found a new page: https://midasfurniture.com/ar/customer/account/login/referer/aHR0cHM6Ly9taWRhc2Z1cm5pdHVyZS5jb20vZW4vaG9tZS1mdXJuaXR1cmUvbGl2aW5nLXJvb21zL25lc3RlZC10YWJsZXMuaHRtbD9fX19TSUQ9VQ,,/\n",
      "Found a new page: https://midasfurniture.com/ar/home-furniture/living-rooms/stands.html\n",
      "Found a new page: https://midasfurniture.com/en/home-furniture/living-rooms/stands.html\n",
      "Found a new page: https://midasfurniture.com/en/customer/account/login/referer/aHR0cHM6Ly9taWRhc2Z1cm5pdHVyZS5jb20vZW4vaG9tZS1mdXJuaXR1cmUvbGl2aW5nLXJvb21zL3N0YW5kcy5odG1sP19fX1NJRD1V/\n",
      "Found a new page: https://midasfurniture.com/ar/customer/account/login/referer/aHR0cHM6Ly9taWRhc2Z1cm5pdHVyZS5jb20vZW4vaG9tZS1mdXJuaXR1cmUvbGl2aW5nLXJvb21zL3N0YW5kcy5odG1sP19fX1NJRD1V/\n",
      "Found a new page: https://midasfurniture.com/ar/home-furniture/living-rooms/tv-units.html\n",
      "Found a new page: https://midasfurniture.com/en/home-furniture/living-rooms/tv-units.html\n",
      "Found a new page: https://midasfurniture.com/en/customer/account/login/referer/aHR0cHM6Ly9taWRhc2Z1cm5pdHVyZS5jb20vZW4vaG9tZS1mdXJuaXR1cmUvbGl2aW5nLXJvb21zL3R2LXVuaXRzLmh0bWw_X19fU0lEPVU,/\n",
      "Found a new page: https://midasfurniture.com/ar/customer/account/login/referer/aHR0cHM6Ly9taWRhc2Z1cm5pdHVyZS5jb20vZW4vaG9tZS1mdXJuaXR1cmUvbGl2aW5nLXJvb21zL3R2LXVuaXRzLmh0bWw_X19fU0lEPVU,/\n",
      "Found a new page: https://midasfurniture.com/ar/home-furniture/living-rooms/cabinets.html\n",
      "Found a new page: https://midasfurniture.com/en/home-furniture/living-rooms/cabinets.html\n",
      "Found a new page: https://midasfurniture.com/en/customer/account/login/referer/aHR0cHM6Ly9taWRhc2Z1cm5pdHVyZS5jb20vZW4vaG9tZS1mdXJuaXR1cmUvbGl2aW5nLXJvb21zL2NhYmluZXRzLmh0bWw_X19fU0lEPVU,/\n",
      "Found a new page: https://midasfurniture.com/ar/customer/account/login/referer/aHR0cHM6Ly9taWRhc2Z1cm5pdHVyZS5jb20vZW4vaG9tZS1mdXJuaXR1cmUvbGl2aW5nLXJvb21zL2NhYmluZXRzLmh0bWw_X19fU0lEPVU,/\n",
      "Found a new page: https://midasfurniture.com/ar/home-furniture/living-rooms/shoe-cabinets.html\n",
      "Found a new page: https://midasfurniture.com/en/home-furniture/living-rooms/shoe-cabinets.html\n",
      "Found a new page: https://midasfurniture.com/en/customer/account/login/referer/aHR0cHM6Ly9taWRhc2Z1cm5pdHVyZS5jb20vZW4vaG9tZS1mdXJuaXR1cmUvbGl2aW5nLXJvb21zL3Nob2UtY2FiaW5ldHMuaHRtbD9fX19TSUQ9VQ,,/\n",
      "Found a new page: https://midasfurniture.com/ar/customer/account/login/referer/aHR0cHM6Ly9taWRhc2Z1cm5pdHVyZS5jb20vZW4vaG9tZS1mdXJuaXR1cmUvbGl2aW5nLXJvb21zL3Nob2UtY2FiaW5ldHMuaHRtbD9fX19TSUQ9VQ,,/\n",
      "Found a new page: https://midasfurniture.com/ar/home-furniture/living-rooms/shelves.html\n",
      "Found a new page: https://midasfurniture.com/en/home-furniture/living-rooms/shelves.html\n",
      "Found a new page: https://midasfurniture.com/en/customer/account/login/referer/aHR0cHM6Ly9taWRhc2Z1cm5pdHVyZS5jb20vZW4vaG9tZS1mdXJuaXR1cmUvbGl2aW5nLXJvb21zL3NoZWx2ZXMuaHRtbD9fX19TSUQ9VQ,,/\n",
      "Found a new page: https://midasfurniture.com/ar/customer/account/login/referer/aHR0cHM6Ly9taWRhc2Z1cm5pdHVyZS5jb20vZW4vaG9tZS1mdXJuaXR1cmUvbGl2aW5nLXJvb21zL3NoZWx2ZXMuaHRtbD9fX19TSUQ9VQ,,/\n",
      "Found a new page: https://midasfurniture.com/ar/home-furniture/bedroom-sets.html\n",
      "Found a new page: https://midasfurniture.com/en/home-furniture/bedroom-sets.html?gclid=EAIaIQobChMIj-Kwva_-8QIVyfntCh3YDwnAEAEYASAAEgLf0fD_BwE\n",
      "Found a new page: https://midasfurniture.com/ar/home-furniture/bedroom-sets.html?gclid=EAIaIQobChMIj-Kwva_-8QIVyfntCh3YDwnAEAEYASAAEgLf0fD_BwE\n",
      "Found a new page: https://midasfurniture.com/ar/customer/account/login/referer/aHR0cHM6Ly9taWRhc2Z1cm5pdHVyZS5jb20vYXIvaG9tZS1mdXJuaXR1cmUvYmVkcm9vbS1zZXRzLmh0bWw_X19fU0lEPVUmZ2NsaWQ9RUFJYUlRb2JDaE1Jai1Ld3ZhXy04UUlWeWZudENoM1lEd25BRUFFWUFTQUFFZ0xmMGZEX0J3RQ,,/\n",
      "Found a new page: https://midasfurniture.com/en/customer/account/login/referer/aHR0cHM6Ly9taWRhc2Z1cm5pdHVyZS5jb20vYXIvaG9tZS1mdXJuaXR1cmUvYmVkcm9vbS1zZXRzLmh0bWw_X19fU0lEPVUmZ2NsaWQ9RUFJYUlRb2JDaE1Jai1Ld3ZhXy04UUlWeWZudENoM1lEd25BRUFFWUFTQUFFZ0xmMGZEX0J3RQ,,/\n",
      "Found a new page: https://midasfurniture.com/en/home-furniture/bedroom-sets.html\n",
      "Found a new page: https://midasfurniture.com/en/customer/account/login/referer/aHR0cHM6Ly9taWRhc2Z1cm5pdHVyZS5jb20vZW4vaG9tZS1mdXJuaXR1cmUvYmVkcm9vbS1zZXRzLmh0bWw_X19fU0lEPVUmZ2NsaWQ9RUFJYUlRb2JDaE1Jai1Ld3ZhXy04UUlWeWZudENoM1lEd25BRUFFWUFTQUFFZ0xmMGZEX0J3RQ,,/\n",
      "Found a new page: https://midasfurniture.com/ar/customer/account/login/referer/aHR0cHM6Ly9taWRhc2Z1cm5pdHVyZS5jb20vZW4vaG9tZS1mdXJuaXR1cmUvYmVkcm9vbS1zZXRzLmh0bWw_X19fU0lEPVUmZ2NsaWQ9RUFJYUlRb2JDaE1Jai1Ld3ZhXy04UUlWeWZudENoM1lEd25BRUFFWUFTQUFFZ0xmMGZEX0J3RQ,,/\n",
      "Found a new page: https://midasfurniture.com/ar/home-furniture/bedroom-sets/king-size-bedroom-sets.html\n"
     ]
    },
    {
     "ename": "KeyboardInterrupt",
     "evalue": "",
     "output_type": "error",
     "traceback": [
      "\u001b[0;31m---------------------------------------------------------------------------\u001b[0m",
      "\u001b[0;31mKeyboardInterrupt\u001b[0m                         Traceback (most recent call last)",
      "\u001b[0;32m<ipython-input-2-43e773928b85>\u001b[0m in \u001b[0;36m<module>\u001b[0;34m\u001b[0m\n\u001b[1;32m     16\u001b[0m         \u001b[0mvisit\u001b[0m\u001b[0;34m(\u001b[0m\u001b[0mfull_url\u001b[0m\u001b[0;34m,\u001b[0m \u001b[0mlinks_seen\u001b[0m\u001b[0;34m)\u001b[0m\u001b[0;34m\u001b[0m\u001b[0;34m\u001b[0m\u001b[0m\n\u001b[1;32m     17\u001b[0m \u001b[0;34m\u001b[0m\u001b[0m\n\u001b[0;32m---> 18\u001b[0;31m \u001b[0mvisit\u001b[0m\u001b[0;34m(\u001b[0m\u001b[0mbase_url\u001b[0m\u001b[0;34m,\u001b[0m \u001b[0mlinks_seen\u001b[0m\u001b[0;34m)\u001b[0m\u001b[0;34m\u001b[0m\u001b[0;34m\u001b[0m\u001b[0m\n\u001b[0m",
      "\u001b[0;32m<ipython-input-2-43e773928b85>\u001b[0m in \u001b[0;36mvisit\u001b[0;34m(url, links_seen)\u001b[0m\n\u001b[1;32m     14\u001b[0m         \u001b[0mprint\u001b[0m\u001b[0;34m(\u001b[0m\u001b[0;34m'Found a new page:'\u001b[0m\u001b[0;34m,\u001b[0m \u001b[0mfull_url\u001b[0m\u001b[0;34m)\u001b[0m\u001b[0;34m\u001b[0m\u001b[0;34m\u001b[0m\u001b[0m\n\u001b[1;32m     15\u001b[0m         \u001b[0;31m# Normally, we'd store the results here too\u001b[0m\u001b[0;34m\u001b[0m\u001b[0;34m\u001b[0m\u001b[0;34m\u001b[0m\u001b[0m\n\u001b[0;32m---> 16\u001b[0;31m         \u001b[0mvisit\u001b[0m\u001b[0;34m(\u001b[0m\u001b[0mfull_url\u001b[0m\u001b[0;34m,\u001b[0m \u001b[0mlinks_seen\u001b[0m\u001b[0;34m)\u001b[0m\u001b[0;34m\u001b[0m\u001b[0;34m\u001b[0m\u001b[0m\n\u001b[0m\u001b[1;32m     17\u001b[0m \u001b[0;34m\u001b[0m\u001b[0m\n\u001b[1;32m     18\u001b[0m \u001b[0mvisit\u001b[0m\u001b[0;34m(\u001b[0m\u001b[0mbase_url\u001b[0m\u001b[0;34m,\u001b[0m \u001b[0mlinks_seen\u001b[0m\u001b[0;34m)\u001b[0m\u001b[0;34m\u001b[0m\u001b[0;34m\u001b[0m\u001b[0m\n",
      "\u001b[0;32m<ipython-input-2-43e773928b85>\u001b[0m in \u001b[0;36mvisit\u001b[0;34m(url, links_seen)\u001b[0m\n\u001b[1;32m     14\u001b[0m         \u001b[0mprint\u001b[0m\u001b[0;34m(\u001b[0m\u001b[0;34m'Found a new page:'\u001b[0m\u001b[0;34m,\u001b[0m \u001b[0mfull_url\u001b[0m\u001b[0;34m)\u001b[0m\u001b[0;34m\u001b[0m\u001b[0;34m\u001b[0m\u001b[0m\n\u001b[1;32m     15\u001b[0m         \u001b[0;31m# Normally, we'd store the results here too\u001b[0m\u001b[0;34m\u001b[0m\u001b[0;34m\u001b[0m\u001b[0;34m\u001b[0m\u001b[0m\n\u001b[0;32m---> 16\u001b[0;31m         \u001b[0mvisit\u001b[0m\u001b[0;34m(\u001b[0m\u001b[0mfull_url\u001b[0m\u001b[0;34m,\u001b[0m \u001b[0mlinks_seen\u001b[0m\u001b[0;34m)\u001b[0m\u001b[0;34m\u001b[0m\u001b[0;34m\u001b[0m\u001b[0m\n\u001b[0m\u001b[1;32m     17\u001b[0m \u001b[0;34m\u001b[0m\u001b[0m\n\u001b[1;32m     18\u001b[0m \u001b[0mvisit\u001b[0m\u001b[0;34m(\u001b[0m\u001b[0mbase_url\u001b[0m\u001b[0;34m,\u001b[0m \u001b[0mlinks_seen\u001b[0m\u001b[0;34m)\u001b[0m\u001b[0;34m\u001b[0m\u001b[0;34m\u001b[0m\u001b[0m\n",
      "\u001b[0;32m<ipython-input-2-43e773928b85>\u001b[0m in \u001b[0;36mvisit\u001b[0;34m(url, links_seen)\u001b[0m\n\u001b[1;32m     14\u001b[0m         \u001b[0mprint\u001b[0m\u001b[0;34m(\u001b[0m\u001b[0;34m'Found a new page:'\u001b[0m\u001b[0;34m,\u001b[0m \u001b[0mfull_url\u001b[0m\u001b[0;34m)\u001b[0m\u001b[0;34m\u001b[0m\u001b[0;34m\u001b[0m\u001b[0m\n\u001b[1;32m     15\u001b[0m         \u001b[0;31m# Normally, we'd store the results here too\u001b[0m\u001b[0;34m\u001b[0m\u001b[0;34m\u001b[0m\u001b[0;34m\u001b[0m\u001b[0m\n\u001b[0;32m---> 16\u001b[0;31m         \u001b[0mvisit\u001b[0m\u001b[0;34m(\u001b[0m\u001b[0mfull_url\u001b[0m\u001b[0;34m,\u001b[0m \u001b[0mlinks_seen\u001b[0m\u001b[0;34m)\u001b[0m\u001b[0;34m\u001b[0m\u001b[0;34m\u001b[0m\u001b[0m\n\u001b[0m\u001b[1;32m     17\u001b[0m \u001b[0;34m\u001b[0m\u001b[0m\n\u001b[1;32m     18\u001b[0m \u001b[0mvisit\u001b[0m\u001b[0;34m(\u001b[0m\u001b[0mbase_url\u001b[0m\u001b[0;34m,\u001b[0m \u001b[0mlinks_seen\u001b[0m\u001b[0;34m)\u001b[0m\u001b[0;34m\u001b[0m\u001b[0;34m\u001b[0m\u001b[0m\n",
      "\u001b[0;32m<ipython-input-2-43e773928b85>\u001b[0m in \u001b[0;36mvisit\u001b[0;34m(url, links_seen)\u001b[0m\n\u001b[1;32m     14\u001b[0m         \u001b[0mprint\u001b[0m\u001b[0;34m(\u001b[0m\u001b[0;34m'Found a new page:'\u001b[0m\u001b[0;34m,\u001b[0m \u001b[0mfull_url\u001b[0m\u001b[0;34m)\u001b[0m\u001b[0;34m\u001b[0m\u001b[0;34m\u001b[0m\u001b[0m\n\u001b[1;32m     15\u001b[0m         \u001b[0;31m# Normally, we'd store the results here too\u001b[0m\u001b[0;34m\u001b[0m\u001b[0;34m\u001b[0m\u001b[0;34m\u001b[0m\u001b[0m\n\u001b[0;32m---> 16\u001b[0;31m         \u001b[0mvisit\u001b[0m\u001b[0;34m(\u001b[0m\u001b[0mfull_url\u001b[0m\u001b[0;34m,\u001b[0m \u001b[0mlinks_seen\u001b[0m\u001b[0;34m)\u001b[0m\u001b[0;34m\u001b[0m\u001b[0;34m\u001b[0m\u001b[0m\n\u001b[0m\u001b[1;32m     17\u001b[0m \u001b[0;34m\u001b[0m\u001b[0m\n\u001b[1;32m     18\u001b[0m \u001b[0mvisit\u001b[0m\u001b[0;34m(\u001b[0m\u001b[0mbase_url\u001b[0m\u001b[0;34m,\u001b[0m \u001b[0mlinks_seen\u001b[0m\u001b[0;34m)\u001b[0m\u001b[0;34m\u001b[0m\u001b[0;34m\u001b[0m\u001b[0m\n",
      "\u001b[0;32m<ipython-input-2-43e773928b85>\u001b[0m in \u001b[0;36mvisit\u001b[0;34m(url, links_seen)\u001b[0m\n\u001b[1;32m     14\u001b[0m         \u001b[0mprint\u001b[0m\u001b[0;34m(\u001b[0m\u001b[0;34m'Found a new page:'\u001b[0m\u001b[0;34m,\u001b[0m \u001b[0mfull_url\u001b[0m\u001b[0;34m)\u001b[0m\u001b[0;34m\u001b[0m\u001b[0;34m\u001b[0m\u001b[0m\n\u001b[1;32m     15\u001b[0m         \u001b[0;31m# Normally, we'd store the results here too\u001b[0m\u001b[0;34m\u001b[0m\u001b[0;34m\u001b[0m\u001b[0;34m\u001b[0m\u001b[0m\n\u001b[0;32m---> 16\u001b[0;31m         \u001b[0mvisit\u001b[0m\u001b[0;34m(\u001b[0m\u001b[0mfull_url\u001b[0m\u001b[0;34m,\u001b[0m \u001b[0mlinks_seen\u001b[0m\u001b[0;34m)\u001b[0m\u001b[0;34m\u001b[0m\u001b[0;34m\u001b[0m\u001b[0m\n\u001b[0m\u001b[1;32m     17\u001b[0m \u001b[0;34m\u001b[0m\u001b[0m\n\u001b[1;32m     18\u001b[0m \u001b[0mvisit\u001b[0m\u001b[0;34m(\u001b[0m\u001b[0mbase_url\u001b[0m\u001b[0;34m,\u001b[0m \u001b[0mlinks_seen\u001b[0m\u001b[0;34m)\u001b[0m\u001b[0;34m\u001b[0m\u001b[0;34m\u001b[0m\u001b[0m\n",
      "\u001b[0;32m<ipython-input-2-43e773928b85>\u001b[0m in \u001b[0;36mvisit\u001b[0;34m(url, links_seen)\u001b[0m\n\u001b[1;32m     14\u001b[0m         \u001b[0mprint\u001b[0m\u001b[0;34m(\u001b[0m\u001b[0;34m'Found a new page:'\u001b[0m\u001b[0;34m,\u001b[0m \u001b[0mfull_url\u001b[0m\u001b[0;34m)\u001b[0m\u001b[0;34m\u001b[0m\u001b[0;34m\u001b[0m\u001b[0m\n\u001b[1;32m     15\u001b[0m         \u001b[0;31m# Normally, we'd store the results here too\u001b[0m\u001b[0;34m\u001b[0m\u001b[0;34m\u001b[0m\u001b[0;34m\u001b[0m\u001b[0m\n\u001b[0;32m---> 16\u001b[0;31m         \u001b[0mvisit\u001b[0m\u001b[0;34m(\u001b[0m\u001b[0mfull_url\u001b[0m\u001b[0;34m,\u001b[0m \u001b[0mlinks_seen\u001b[0m\u001b[0;34m)\u001b[0m\u001b[0;34m\u001b[0m\u001b[0;34m\u001b[0m\u001b[0m\n\u001b[0m\u001b[1;32m     17\u001b[0m \u001b[0;34m\u001b[0m\u001b[0m\n\u001b[1;32m     18\u001b[0m \u001b[0mvisit\u001b[0m\u001b[0;34m(\u001b[0m\u001b[0mbase_url\u001b[0m\u001b[0;34m,\u001b[0m \u001b[0mlinks_seen\u001b[0m\u001b[0;34m)\u001b[0m\u001b[0;34m\u001b[0m\u001b[0;34m\u001b[0m\u001b[0m\n",
      "\u001b[0;32m<ipython-input-2-43e773928b85>\u001b[0m in \u001b[0;36mvisit\u001b[0;34m(url, links_seen)\u001b[0m\n\u001b[1;32m     14\u001b[0m         \u001b[0mprint\u001b[0m\u001b[0;34m(\u001b[0m\u001b[0;34m'Found a new page:'\u001b[0m\u001b[0;34m,\u001b[0m \u001b[0mfull_url\u001b[0m\u001b[0;34m)\u001b[0m\u001b[0;34m\u001b[0m\u001b[0;34m\u001b[0m\u001b[0m\n\u001b[1;32m     15\u001b[0m         \u001b[0;31m# Normally, we'd store the results here too\u001b[0m\u001b[0;34m\u001b[0m\u001b[0;34m\u001b[0m\u001b[0;34m\u001b[0m\u001b[0m\n\u001b[0;32m---> 16\u001b[0;31m         \u001b[0mvisit\u001b[0m\u001b[0;34m(\u001b[0m\u001b[0mfull_url\u001b[0m\u001b[0;34m,\u001b[0m \u001b[0mlinks_seen\u001b[0m\u001b[0;34m)\u001b[0m\u001b[0;34m\u001b[0m\u001b[0;34m\u001b[0m\u001b[0m\n\u001b[0m\u001b[1;32m     17\u001b[0m \u001b[0;34m\u001b[0m\u001b[0m\n\u001b[1;32m     18\u001b[0m \u001b[0mvisit\u001b[0m\u001b[0;34m(\u001b[0m\u001b[0mbase_url\u001b[0m\u001b[0;34m,\u001b[0m \u001b[0mlinks_seen\u001b[0m\u001b[0;34m)\u001b[0m\u001b[0;34m\u001b[0m\u001b[0;34m\u001b[0m\u001b[0m\n",
      "\u001b[0;32m<ipython-input-2-43e773928b85>\u001b[0m in \u001b[0;36mvisit\u001b[0;34m(url, links_seen)\u001b[0m\n\u001b[1;32m     14\u001b[0m         \u001b[0mprint\u001b[0m\u001b[0;34m(\u001b[0m\u001b[0;34m'Found a new page:'\u001b[0m\u001b[0;34m,\u001b[0m \u001b[0mfull_url\u001b[0m\u001b[0;34m)\u001b[0m\u001b[0;34m\u001b[0m\u001b[0;34m\u001b[0m\u001b[0m\n\u001b[1;32m     15\u001b[0m         \u001b[0;31m# Normally, we'd store the results here too\u001b[0m\u001b[0;34m\u001b[0m\u001b[0;34m\u001b[0m\u001b[0;34m\u001b[0m\u001b[0m\n\u001b[0;32m---> 16\u001b[0;31m         \u001b[0mvisit\u001b[0m\u001b[0;34m(\u001b[0m\u001b[0mfull_url\u001b[0m\u001b[0;34m,\u001b[0m \u001b[0mlinks_seen\u001b[0m\u001b[0;34m)\u001b[0m\u001b[0;34m\u001b[0m\u001b[0;34m\u001b[0m\u001b[0m\n\u001b[0m\u001b[1;32m     17\u001b[0m \u001b[0;34m\u001b[0m\u001b[0m\n\u001b[1;32m     18\u001b[0m \u001b[0mvisit\u001b[0m\u001b[0;34m(\u001b[0m\u001b[0mbase_url\u001b[0m\u001b[0;34m,\u001b[0m \u001b[0mlinks_seen\u001b[0m\u001b[0;34m)\u001b[0m\u001b[0;34m\u001b[0m\u001b[0;34m\u001b[0m\u001b[0m\n",
      "\u001b[0;32m<ipython-input-2-43e773928b85>\u001b[0m in \u001b[0;36mvisit\u001b[0;34m(url, links_seen)\u001b[0m\n\u001b[1;32m     14\u001b[0m         \u001b[0mprint\u001b[0m\u001b[0;34m(\u001b[0m\u001b[0;34m'Found a new page:'\u001b[0m\u001b[0;34m,\u001b[0m \u001b[0mfull_url\u001b[0m\u001b[0;34m)\u001b[0m\u001b[0;34m\u001b[0m\u001b[0;34m\u001b[0m\u001b[0m\n\u001b[1;32m     15\u001b[0m         \u001b[0;31m# Normally, we'd store the results here too\u001b[0m\u001b[0;34m\u001b[0m\u001b[0;34m\u001b[0m\u001b[0;34m\u001b[0m\u001b[0m\n\u001b[0;32m---> 16\u001b[0;31m         \u001b[0mvisit\u001b[0m\u001b[0;34m(\u001b[0m\u001b[0mfull_url\u001b[0m\u001b[0;34m,\u001b[0m \u001b[0mlinks_seen\u001b[0m\u001b[0;34m)\u001b[0m\u001b[0;34m\u001b[0m\u001b[0;34m\u001b[0m\u001b[0m\n\u001b[0m\u001b[1;32m     17\u001b[0m \u001b[0;34m\u001b[0m\u001b[0m\n\u001b[1;32m     18\u001b[0m \u001b[0mvisit\u001b[0m\u001b[0;34m(\u001b[0m\u001b[0mbase_url\u001b[0m\u001b[0;34m,\u001b[0m \u001b[0mlinks_seen\u001b[0m\u001b[0;34m)\u001b[0m\u001b[0;34m\u001b[0m\u001b[0;34m\u001b[0m\u001b[0m\n",
      "\u001b[0;32m<ipython-input-2-43e773928b85>\u001b[0m in \u001b[0;36mvisit\u001b[0;34m(url, links_seen)\u001b[0m\n\u001b[1;32m     14\u001b[0m         \u001b[0mprint\u001b[0m\u001b[0;34m(\u001b[0m\u001b[0;34m'Found a new page:'\u001b[0m\u001b[0;34m,\u001b[0m \u001b[0mfull_url\u001b[0m\u001b[0;34m)\u001b[0m\u001b[0;34m\u001b[0m\u001b[0;34m\u001b[0m\u001b[0m\n\u001b[1;32m     15\u001b[0m         \u001b[0;31m# Normally, we'd store the results here too\u001b[0m\u001b[0;34m\u001b[0m\u001b[0;34m\u001b[0m\u001b[0;34m\u001b[0m\u001b[0m\n\u001b[0;32m---> 16\u001b[0;31m         \u001b[0mvisit\u001b[0m\u001b[0;34m(\u001b[0m\u001b[0mfull_url\u001b[0m\u001b[0;34m,\u001b[0m \u001b[0mlinks_seen\u001b[0m\u001b[0;34m)\u001b[0m\u001b[0;34m\u001b[0m\u001b[0;34m\u001b[0m\u001b[0m\n\u001b[0m\u001b[1;32m     17\u001b[0m \u001b[0;34m\u001b[0m\u001b[0m\n\u001b[1;32m     18\u001b[0m \u001b[0mvisit\u001b[0m\u001b[0;34m(\u001b[0m\u001b[0mbase_url\u001b[0m\u001b[0;34m,\u001b[0m \u001b[0mlinks_seen\u001b[0m\u001b[0;34m)\u001b[0m\u001b[0;34m\u001b[0m\u001b[0;34m\u001b[0m\u001b[0m\n",
      "\u001b[0;32m<ipython-input-2-43e773928b85>\u001b[0m in \u001b[0;36mvisit\u001b[0;34m(url, links_seen)\u001b[0m\n\u001b[1;32m     14\u001b[0m         \u001b[0mprint\u001b[0m\u001b[0;34m(\u001b[0m\u001b[0;34m'Found a new page:'\u001b[0m\u001b[0;34m,\u001b[0m \u001b[0mfull_url\u001b[0m\u001b[0;34m)\u001b[0m\u001b[0;34m\u001b[0m\u001b[0;34m\u001b[0m\u001b[0m\n\u001b[1;32m     15\u001b[0m         \u001b[0;31m# Normally, we'd store the results here too\u001b[0m\u001b[0;34m\u001b[0m\u001b[0;34m\u001b[0m\u001b[0;34m\u001b[0m\u001b[0m\n\u001b[0;32m---> 16\u001b[0;31m         \u001b[0mvisit\u001b[0m\u001b[0;34m(\u001b[0m\u001b[0mfull_url\u001b[0m\u001b[0;34m,\u001b[0m \u001b[0mlinks_seen\u001b[0m\u001b[0;34m)\u001b[0m\u001b[0;34m\u001b[0m\u001b[0;34m\u001b[0m\u001b[0m\n\u001b[0m\u001b[1;32m     17\u001b[0m \u001b[0;34m\u001b[0m\u001b[0m\n\u001b[1;32m     18\u001b[0m \u001b[0mvisit\u001b[0m\u001b[0;34m(\u001b[0m\u001b[0mbase_url\u001b[0m\u001b[0;34m,\u001b[0m \u001b[0mlinks_seen\u001b[0m\u001b[0;34m)\u001b[0m\u001b[0;34m\u001b[0m\u001b[0;34m\u001b[0m\u001b[0m\n",
      "\u001b[0;32m<ipython-input-2-43e773928b85>\u001b[0m in \u001b[0;36mvisit\u001b[0;34m(url, links_seen)\u001b[0m\n\u001b[1;32m     14\u001b[0m         \u001b[0mprint\u001b[0m\u001b[0;34m(\u001b[0m\u001b[0;34m'Found a new page:'\u001b[0m\u001b[0;34m,\u001b[0m \u001b[0mfull_url\u001b[0m\u001b[0;34m)\u001b[0m\u001b[0;34m\u001b[0m\u001b[0;34m\u001b[0m\u001b[0m\n\u001b[1;32m     15\u001b[0m         \u001b[0;31m# Normally, we'd store the results here too\u001b[0m\u001b[0;34m\u001b[0m\u001b[0;34m\u001b[0m\u001b[0;34m\u001b[0m\u001b[0m\n\u001b[0;32m---> 16\u001b[0;31m         \u001b[0mvisit\u001b[0m\u001b[0;34m(\u001b[0m\u001b[0mfull_url\u001b[0m\u001b[0;34m,\u001b[0m \u001b[0mlinks_seen\u001b[0m\u001b[0;34m)\u001b[0m\u001b[0;34m\u001b[0m\u001b[0;34m\u001b[0m\u001b[0m\n\u001b[0m\u001b[1;32m     17\u001b[0m \u001b[0;34m\u001b[0m\u001b[0m\n\u001b[1;32m     18\u001b[0m \u001b[0mvisit\u001b[0m\u001b[0;34m(\u001b[0m\u001b[0mbase_url\u001b[0m\u001b[0;34m,\u001b[0m \u001b[0mlinks_seen\u001b[0m\u001b[0;34m)\u001b[0m\u001b[0;34m\u001b[0m\u001b[0;34m\u001b[0m\u001b[0m\n",
      "\u001b[0;32m<ipython-input-2-43e773928b85>\u001b[0m in \u001b[0;36mvisit\u001b[0;34m(url, links_seen)\u001b[0m\n\u001b[1;32m     14\u001b[0m         \u001b[0mprint\u001b[0m\u001b[0;34m(\u001b[0m\u001b[0;34m'Found a new page:'\u001b[0m\u001b[0;34m,\u001b[0m \u001b[0mfull_url\u001b[0m\u001b[0;34m)\u001b[0m\u001b[0;34m\u001b[0m\u001b[0;34m\u001b[0m\u001b[0m\n\u001b[1;32m     15\u001b[0m         \u001b[0;31m# Normally, we'd store the results here too\u001b[0m\u001b[0;34m\u001b[0m\u001b[0;34m\u001b[0m\u001b[0;34m\u001b[0m\u001b[0m\n\u001b[0;32m---> 16\u001b[0;31m         \u001b[0mvisit\u001b[0m\u001b[0;34m(\u001b[0m\u001b[0mfull_url\u001b[0m\u001b[0;34m,\u001b[0m \u001b[0mlinks_seen\u001b[0m\u001b[0;34m)\u001b[0m\u001b[0;34m\u001b[0m\u001b[0;34m\u001b[0m\u001b[0m\n\u001b[0m\u001b[1;32m     17\u001b[0m \u001b[0;34m\u001b[0m\u001b[0m\n\u001b[1;32m     18\u001b[0m \u001b[0mvisit\u001b[0m\u001b[0;34m(\u001b[0m\u001b[0mbase_url\u001b[0m\u001b[0;34m,\u001b[0m \u001b[0mlinks_seen\u001b[0m\u001b[0;34m)\u001b[0m\u001b[0;34m\u001b[0m\u001b[0;34m\u001b[0m\u001b[0m\n",
      "\u001b[0;32m<ipython-input-2-43e773928b85>\u001b[0m in \u001b[0;36mvisit\u001b[0;34m(url, links_seen)\u001b[0m\n\u001b[1;32m     14\u001b[0m         \u001b[0mprint\u001b[0m\u001b[0;34m(\u001b[0m\u001b[0;34m'Found a new page:'\u001b[0m\u001b[0;34m,\u001b[0m \u001b[0mfull_url\u001b[0m\u001b[0;34m)\u001b[0m\u001b[0;34m\u001b[0m\u001b[0;34m\u001b[0m\u001b[0m\n\u001b[1;32m     15\u001b[0m         \u001b[0;31m# Normally, we'd store the results here too\u001b[0m\u001b[0;34m\u001b[0m\u001b[0;34m\u001b[0m\u001b[0;34m\u001b[0m\u001b[0m\n\u001b[0;32m---> 16\u001b[0;31m         \u001b[0mvisit\u001b[0m\u001b[0;34m(\u001b[0m\u001b[0mfull_url\u001b[0m\u001b[0;34m,\u001b[0m \u001b[0mlinks_seen\u001b[0m\u001b[0;34m)\u001b[0m\u001b[0;34m\u001b[0m\u001b[0;34m\u001b[0m\u001b[0m\n\u001b[0m\u001b[1;32m     17\u001b[0m \u001b[0;34m\u001b[0m\u001b[0m\n\u001b[1;32m     18\u001b[0m \u001b[0mvisit\u001b[0m\u001b[0;34m(\u001b[0m\u001b[0mbase_url\u001b[0m\u001b[0;34m,\u001b[0m \u001b[0mlinks_seen\u001b[0m\u001b[0;34m)\u001b[0m\u001b[0;34m\u001b[0m\u001b[0;34m\u001b[0m\u001b[0m\n",
      "\u001b[0;32m<ipython-input-2-43e773928b85>\u001b[0m in \u001b[0;36mvisit\u001b[0;34m(url, links_seen)\u001b[0m\n\u001b[1;32m     14\u001b[0m         \u001b[0mprint\u001b[0m\u001b[0;34m(\u001b[0m\u001b[0;34m'Found a new page:'\u001b[0m\u001b[0;34m,\u001b[0m \u001b[0mfull_url\u001b[0m\u001b[0;34m)\u001b[0m\u001b[0;34m\u001b[0m\u001b[0;34m\u001b[0m\u001b[0m\n\u001b[1;32m     15\u001b[0m         \u001b[0;31m# Normally, we'd store the results here too\u001b[0m\u001b[0;34m\u001b[0m\u001b[0;34m\u001b[0m\u001b[0;34m\u001b[0m\u001b[0m\n\u001b[0;32m---> 16\u001b[0;31m         \u001b[0mvisit\u001b[0m\u001b[0;34m(\u001b[0m\u001b[0mfull_url\u001b[0m\u001b[0;34m,\u001b[0m \u001b[0mlinks_seen\u001b[0m\u001b[0;34m)\u001b[0m\u001b[0;34m\u001b[0m\u001b[0;34m\u001b[0m\u001b[0m\n\u001b[0m\u001b[1;32m     17\u001b[0m \u001b[0;34m\u001b[0m\u001b[0m\n\u001b[1;32m     18\u001b[0m \u001b[0mvisit\u001b[0m\u001b[0;34m(\u001b[0m\u001b[0mbase_url\u001b[0m\u001b[0;34m,\u001b[0m \u001b[0mlinks_seen\u001b[0m\u001b[0;34m)\u001b[0m\u001b[0;34m\u001b[0m\u001b[0;34m\u001b[0m\u001b[0m\n",
      "\u001b[0;32m<ipython-input-2-43e773928b85>\u001b[0m in \u001b[0;36mvisit\u001b[0;34m(url, links_seen)\u001b[0m\n\u001b[1;32m     14\u001b[0m         \u001b[0mprint\u001b[0m\u001b[0;34m(\u001b[0m\u001b[0;34m'Found a new page:'\u001b[0m\u001b[0;34m,\u001b[0m \u001b[0mfull_url\u001b[0m\u001b[0;34m)\u001b[0m\u001b[0;34m\u001b[0m\u001b[0;34m\u001b[0m\u001b[0m\n\u001b[1;32m     15\u001b[0m         \u001b[0;31m# Normally, we'd store the results here too\u001b[0m\u001b[0;34m\u001b[0m\u001b[0;34m\u001b[0m\u001b[0;34m\u001b[0m\u001b[0m\n\u001b[0;32m---> 16\u001b[0;31m         \u001b[0mvisit\u001b[0m\u001b[0;34m(\u001b[0m\u001b[0mfull_url\u001b[0m\u001b[0;34m,\u001b[0m \u001b[0mlinks_seen\u001b[0m\u001b[0;34m)\u001b[0m\u001b[0;34m\u001b[0m\u001b[0;34m\u001b[0m\u001b[0m\n\u001b[0m\u001b[1;32m     17\u001b[0m \u001b[0;34m\u001b[0m\u001b[0m\n\u001b[1;32m     18\u001b[0m \u001b[0mvisit\u001b[0m\u001b[0;34m(\u001b[0m\u001b[0mbase_url\u001b[0m\u001b[0;34m,\u001b[0m \u001b[0mlinks_seen\u001b[0m\u001b[0;34m)\u001b[0m\u001b[0;34m\u001b[0m\u001b[0;34m\u001b[0m\u001b[0m\n",
      "\u001b[0;32m<ipython-input-2-43e773928b85>\u001b[0m in \u001b[0;36mvisit\u001b[0;34m(url, links_seen)\u001b[0m\n\u001b[1;32m     14\u001b[0m         \u001b[0mprint\u001b[0m\u001b[0;34m(\u001b[0m\u001b[0;34m'Found a new page:'\u001b[0m\u001b[0;34m,\u001b[0m \u001b[0mfull_url\u001b[0m\u001b[0;34m)\u001b[0m\u001b[0;34m\u001b[0m\u001b[0;34m\u001b[0m\u001b[0m\n\u001b[1;32m     15\u001b[0m         \u001b[0;31m# Normally, we'd store the results here too\u001b[0m\u001b[0;34m\u001b[0m\u001b[0;34m\u001b[0m\u001b[0;34m\u001b[0m\u001b[0m\n\u001b[0;32m---> 16\u001b[0;31m         \u001b[0mvisit\u001b[0m\u001b[0;34m(\u001b[0m\u001b[0mfull_url\u001b[0m\u001b[0;34m,\u001b[0m \u001b[0mlinks_seen\u001b[0m\u001b[0;34m)\u001b[0m\u001b[0;34m\u001b[0m\u001b[0;34m\u001b[0m\u001b[0m\n\u001b[0m\u001b[1;32m     17\u001b[0m \u001b[0;34m\u001b[0m\u001b[0m\n\u001b[1;32m     18\u001b[0m \u001b[0mvisit\u001b[0m\u001b[0;34m(\u001b[0m\u001b[0mbase_url\u001b[0m\u001b[0;34m,\u001b[0m \u001b[0mlinks_seen\u001b[0m\u001b[0;34m)\u001b[0m\u001b[0;34m\u001b[0m\u001b[0;34m\u001b[0m\u001b[0m\n",
      "\u001b[0;32m<ipython-input-2-43e773928b85>\u001b[0m in \u001b[0;36mvisit\u001b[0;34m(url, links_seen)\u001b[0m\n\u001b[1;32m     14\u001b[0m         \u001b[0mprint\u001b[0m\u001b[0;34m(\u001b[0m\u001b[0;34m'Found a new page:'\u001b[0m\u001b[0;34m,\u001b[0m \u001b[0mfull_url\u001b[0m\u001b[0;34m)\u001b[0m\u001b[0;34m\u001b[0m\u001b[0;34m\u001b[0m\u001b[0m\n\u001b[1;32m     15\u001b[0m         \u001b[0;31m# Normally, we'd store the results here too\u001b[0m\u001b[0;34m\u001b[0m\u001b[0;34m\u001b[0m\u001b[0;34m\u001b[0m\u001b[0m\n\u001b[0;32m---> 16\u001b[0;31m         \u001b[0mvisit\u001b[0m\u001b[0;34m(\u001b[0m\u001b[0mfull_url\u001b[0m\u001b[0;34m,\u001b[0m \u001b[0mlinks_seen\u001b[0m\u001b[0;34m)\u001b[0m\u001b[0;34m\u001b[0m\u001b[0;34m\u001b[0m\u001b[0m\n\u001b[0m\u001b[1;32m     17\u001b[0m \u001b[0;34m\u001b[0m\u001b[0m\n\u001b[1;32m     18\u001b[0m \u001b[0mvisit\u001b[0m\u001b[0;34m(\u001b[0m\u001b[0mbase_url\u001b[0m\u001b[0;34m,\u001b[0m \u001b[0mlinks_seen\u001b[0m\u001b[0;34m)\u001b[0m\u001b[0;34m\u001b[0m\u001b[0;34m\u001b[0m\u001b[0m\n",
      "\u001b[0;32m<ipython-input-2-43e773928b85>\u001b[0m in \u001b[0;36mvisit\u001b[0;34m(url, links_seen)\u001b[0m\n\u001b[1;32m     14\u001b[0m         \u001b[0mprint\u001b[0m\u001b[0;34m(\u001b[0m\u001b[0;34m'Found a new page:'\u001b[0m\u001b[0;34m,\u001b[0m \u001b[0mfull_url\u001b[0m\u001b[0;34m)\u001b[0m\u001b[0;34m\u001b[0m\u001b[0;34m\u001b[0m\u001b[0m\n\u001b[1;32m     15\u001b[0m         \u001b[0;31m# Normally, we'd store the results here too\u001b[0m\u001b[0;34m\u001b[0m\u001b[0;34m\u001b[0m\u001b[0;34m\u001b[0m\u001b[0m\n\u001b[0;32m---> 16\u001b[0;31m         \u001b[0mvisit\u001b[0m\u001b[0;34m(\u001b[0m\u001b[0mfull_url\u001b[0m\u001b[0;34m,\u001b[0m \u001b[0mlinks_seen\u001b[0m\u001b[0;34m)\u001b[0m\u001b[0;34m\u001b[0m\u001b[0;34m\u001b[0m\u001b[0m\n\u001b[0m\u001b[1;32m     17\u001b[0m \u001b[0;34m\u001b[0m\u001b[0m\n\u001b[1;32m     18\u001b[0m \u001b[0mvisit\u001b[0m\u001b[0;34m(\u001b[0m\u001b[0mbase_url\u001b[0m\u001b[0;34m,\u001b[0m \u001b[0mlinks_seen\u001b[0m\u001b[0;34m)\u001b[0m\u001b[0;34m\u001b[0m\u001b[0;34m\u001b[0m\u001b[0m\n",
      "\u001b[0;32m<ipython-input-2-43e773928b85>\u001b[0m in \u001b[0;36mvisit\u001b[0;34m(url, links_seen)\u001b[0m\n\u001b[1;32m     14\u001b[0m         \u001b[0mprint\u001b[0m\u001b[0;34m(\u001b[0m\u001b[0;34m'Found a new page:'\u001b[0m\u001b[0;34m,\u001b[0m \u001b[0mfull_url\u001b[0m\u001b[0;34m)\u001b[0m\u001b[0;34m\u001b[0m\u001b[0;34m\u001b[0m\u001b[0m\n\u001b[1;32m     15\u001b[0m         \u001b[0;31m# Normally, we'd store the results here too\u001b[0m\u001b[0;34m\u001b[0m\u001b[0;34m\u001b[0m\u001b[0;34m\u001b[0m\u001b[0m\n\u001b[0;32m---> 16\u001b[0;31m         \u001b[0mvisit\u001b[0m\u001b[0;34m(\u001b[0m\u001b[0mfull_url\u001b[0m\u001b[0;34m,\u001b[0m \u001b[0mlinks_seen\u001b[0m\u001b[0;34m)\u001b[0m\u001b[0;34m\u001b[0m\u001b[0;34m\u001b[0m\u001b[0m\n\u001b[0m\u001b[1;32m     17\u001b[0m \u001b[0;34m\u001b[0m\u001b[0m\n\u001b[1;32m     18\u001b[0m \u001b[0mvisit\u001b[0m\u001b[0;34m(\u001b[0m\u001b[0mbase_url\u001b[0m\u001b[0;34m,\u001b[0m \u001b[0mlinks_seen\u001b[0m\u001b[0;34m)\u001b[0m\u001b[0;34m\u001b[0m\u001b[0;34m\u001b[0m\u001b[0m\n",
      "\u001b[0;32m<ipython-input-2-43e773928b85>\u001b[0m in \u001b[0;36mvisit\u001b[0;34m(url, links_seen)\u001b[0m\n\u001b[1;32m     14\u001b[0m         \u001b[0mprint\u001b[0m\u001b[0;34m(\u001b[0m\u001b[0;34m'Found a new page:'\u001b[0m\u001b[0;34m,\u001b[0m \u001b[0mfull_url\u001b[0m\u001b[0;34m)\u001b[0m\u001b[0;34m\u001b[0m\u001b[0;34m\u001b[0m\u001b[0m\n\u001b[1;32m     15\u001b[0m         \u001b[0;31m# Normally, we'd store the results here too\u001b[0m\u001b[0;34m\u001b[0m\u001b[0;34m\u001b[0m\u001b[0;34m\u001b[0m\u001b[0m\n\u001b[0;32m---> 16\u001b[0;31m         \u001b[0mvisit\u001b[0m\u001b[0;34m(\u001b[0m\u001b[0mfull_url\u001b[0m\u001b[0;34m,\u001b[0m \u001b[0mlinks_seen\u001b[0m\u001b[0;34m)\u001b[0m\u001b[0;34m\u001b[0m\u001b[0;34m\u001b[0m\u001b[0m\n\u001b[0m\u001b[1;32m     17\u001b[0m \u001b[0;34m\u001b[0m\u001b[0m\n\u001b[1;32m     18\u001b[0m \u001b[0mvisit\u001b[0m\u001b[0;34m(\u001b[0m\u001b[0mbase_url\u001b[0m\u001b[0;34m,\u001b[0m \u001b[0mlinks_seen\u001b[0m\u001b[0;34m)\u001b[0m\u001b[0;34m\u001b[0m\u001b[0;34m\u001b[0m\u001b[0m\n",
      "\u001b[0;32m<ipython-input-2-43e773928b85>\u001b[0m in \u001b[0;36mvisit\u001b[0;34m(url, links_seen)\u001b[0m\n\u001b[1;32m     14\u001b[0m         \u001b[0mprint\u001b[0m\u001b[0;34m(\u001b[0m\u001b[0;34m'Found a new page:'\u001b[0m\u001b[0;34m,\u001b[0m \u001b[0mfull_url\u001b[0m\u001b[0;34m)\u001b[0m\u001b[0;34m\u001b[0m\u001b[0;34m\u001b[0m\u001b[0m\n\u001b[1;32m     15\u001b[0m         \u001b[0;31m# Normally, we'd store the results here too\u001b[0m\u001b[0;34m\u001b[0m\u001b[0;34m\u001b[0m\u001b[0;34m\u001b[0m\u001b[0m\n\u001b[0;32m---> 16\u001b[0;31m         \u001b[0mvisit\u001b[0m\u001b[0;34m(\u001b[0m\u001b[0mfull_url\u001b[0m\u001b[0;34m,\u001b[0m \u001b[0mlinks_seen\u001b[0m\u001b[0;34m)\u001b[0m\u001b[0;34m\u001b[0m\u001b[0;34m\u001b[0m\u001b[0m\n\u001b[0m\u001b[1;32m     17\u001b[0m \u001b[0;34m\u001b[0m\u001b[0m\n\u001b[1;32m     18\u001b[0m \u001b[0mvisit\u001b[0m\u001b[0;34m(\u001b[0m\u001b[0mbase_url\u001b[0m\u001b[0;34m,\u001b[0m \u001b[0mlinks_seen\u001b[0m\u001b[0;34m)\u001b[0m\u001b[0;34m\u001b[0m\u001b[0;34m\u001b[0m\u001b[0m\n",
      "\u001b[0;32m<ipython-input-2-43e773928b85>\u001b[0m in \u001b[0;36mvisit\u001b[0;34m(url, links_seen)\u001b[0m\n\u001b[1;32m     14\u001b[0m         \u001b[0mprint\u001b[0m\u001b[0;34m(\u001b[0m\u001b[0;34m'Found a new page:'\u001b[0m\u001b[0;34m,\u001b[0m \u001b[0mfull_url\u001b[0m\u001b[0;34m)\u001b[0m\u001b[0;34m\u001b[0m\u001b[0;34m\u001b[0m\u001b[0m\n\u001b[1;32m     15\u001b[0m         \u001b[0;31m# Normally, we'd store the results here too\u001b[0m\u001b[0;34m\u001b[0m\u001b[0;34m\u001b[0m\u001b[0;34m\u001b[0m\u001b[0m\n\u001b[0;32m---> 16\u001b[0;31m         \u001b[0mvisit\u001b[0m\u001b[0;34m(\u001b[0m\u001b[0mfull_url\u001b[0m\u001b[0;34m,\u001b[0m \u001b[0mlinks_seen\u001b[0m\u001b[0;34m)\u001b[0m\u001b[0;34m\u001b[0m\u001b[0;34m\u001b[0m\u001b[0m\n\u001b[0m\u001b[1;32m     17\u001b[0m \u001b[0;34m\u001b[0m\u001b[0m\n\u001b[1;32m     18\u001b[0m \u001b[0mvisit\u001b[0m\u001b[0;34m(\u001b[0m\u001b[0mbase_url\u001b[0m\u001b[0;34m,\u001b[0m \u001b[0mlinks_seen\u001b[0m\u001b[0;34m)\u001b[0m\u001b[0;34m\u001b[0m\u001b[0;34m\u001b[0m\u001b[0m\n",
      "\u001b[0;32m<ipython-input-2-43e773928b85>\u001b[0m in \u001b[0;36mvisit\u001b[0;34m(url, links_seen)\u001b[0m\n\u001b[1;32m     14\u001b[0m         \u001b[0mprint\u001b[0m\u001b[0;34m(\u001b[0m\u001b[0;34m'Found a new page:'\u001b[0m\u001b[0;34m,\u001b[0m \u001b[0mfull_url\u001b[0m\u001b[0;34m)\u001b[0m\u001b[0;34m\u001b[0m\u001b[0;34m\u001b[0m\u001b[0m\n\u001b[1;32m     15\u001b[0m         \u001b[0;31m# Normally, we'd store the results here too\u001b[0m\u001b[0;34m\u001b[0m\u001b[0;34m\u001b[0m\u001b[0;34m\u001b[0m\u001b[0m\n\u001b[0;32m---> 16\u001b[0;31m         \u001b[0mvisit\u001b[0m\u001b[0;34m(\u001b[0m\u001b[0mfull_url\u001b[0m\u001b[0;34m,\u001b[0m \u001b[0mlinks_seen\u001b[0m\u001b[0;34m)\u001b[0m\u001b[0;34m\u001b[0m\u001b[0;34m\u001b[0m\u001b[0m\n\u001b[0m\u001b[1;32m     17\u001b[0m \u001b[0;34m\u001b[0m\u001b[0m\n\u001b[1;32m     18\u001b[0m \u001b[0mvisit\u001b[0m\u001b[0;34m(\u001b[0m\u001b[0mbase_url\u001b[0m\u001b[0;34m,\u001b[0m \u001b[0mlinks_seen\u001b[0m\u001b[0;34m)\u001b[0m\u001b[0;34m\u001b[0m\u001b[0;34m\u001b[0m\u001b[0m\n",
      "\u001b[0;32m<ipython-input-2-43e773928b85>\u001b[0m in \u001b[0;36mvisit\u001b[0;34m(url, links_seen)\u001b[0m\n\u001b[1;32m     14\u001b[0m         \u001b[0mprint\u001b[0m\u001b[0;34m(\u001b[0m\u001b[0;34m'Found a new page:'\u001b[0m\u001b[0;34m,\u001b[0m \u001b[0mfull_url\u001b[0m\u001b[0;34m)\u001b[0m\u001b[0;34m\u001b[0m\u001b[0;34m\u001b[0m\u001b[0m\n\u001b[1;32m     15\u001b[0m         \u001b[0;31m# Normally, we'd store the results here too\u001b[0m\u001b[0;34m\u001b[0m\u001b[0;34m\u001b[0m\u001b[0;34m\u001b[0m\u001b[0m\n\u001b[0;32m---> 16\u001b[0;31m         \u001b[0mvisit\u001b[0m\u001b[0;34m(\u001b[0m\u001b[0mfull_url\u001b[0m\u001b[0;34m,\u001b[0m \u001b[0mlinks_seen\u001b[0m\u001b[0;34m)\u001b[0m\u001b[0;34m\u001b[0m\u001b[0;34m\u001b[0m\u001b[0m\n\u001b[0m\u001b[1;32m     17\u001b[0m \u001b[0;34m\u001b[0m\u001b[0m\n\u001b[1;32m     18\u001b[0m \u001b[0mvisit\u001b[0m\u001b[0;34m(\u001b[0m\u001b[0mbase_url\u001b[0m\u001b[0;34m,\u001b[0m \u001b[0mlinks_seen\u001b[0m\u001b[0;34m)\u001b[0m\u001b[0;34m\u001b[0m\u001b[0;34m\u001b[0m\u001b[0m\n",
      "\u001b[0;32m<ipython-input-2-43e773928b85>\u001b[0m in \u001b[0;36mvisit\u001b[0;34m(url, links_seen)\u001b[0m\n\u001b[1;32m     14\u001b[0m         \u001b[0mprint\u001b[0m\u001b[0;34m(\u001b[0m\u001b[0;34m'Found a new page:'\u001b[0m\u001b[0;34m,\u001b[0m \u001b[0mfull_url\u001b[0m\u001b[0;34m)\u001b[0m\u001b[0;34m\u001b[0m\u001b[0;34m\u001b[0m\u001b[0m\n\u001b[1;32m     15\u001b[0m         \u001b[0;31m# Normally, we'd store the results here too\u001b[0m\u001b[0;34m\u001b[0m\u001b[0;34m\u001b[0m\u001b[0;34m\u001b[0m\u001b[0m\n\u001b[0;32m---> 16\u001b[0;31m         \u001b[0mvisit\u001b[0m\u001b[0;34m(\u001b[0m\u001b[0mfull_url\u001b[0m\u001b[0;34m,\u001b[0m \u001b[0mlinks_seen\u001b[0m\u001b[0;34m)\u001b[0m\u001b[0;34m\u001b[0m\u001b[0;34m\u001b[0m\u001b[0m\n\u001b[0m\u001b[1;32m     17\u001b[0m \u001b[0;34m\u001b[0m\u001b[0m\n\u001b[1;32m     18\u001b[0m \u001b[0mvisit\u001b[0m\u001b[0;34m(\u001b[0m\u001b[0mbase_url\u001b[0m\u001b[0;34m,\u001b[0m \u001b[0mlinks_seen\u001b[0m\u001b[0;34m)\u001b[0m\u001b[0;34m\u001b[0m\u001b[0;34m\u001b[0m\u001b[0m\n",
      "\u001b[0;32m<ipython-input-2-43e773928b85>\u001b[0m in \u001b[0;36mvisit\u001b[0;34m(url, links_seen)\u001b[0m\n\u001b[1;32m     14\u001b[0m         \u001b[0mprint\u001b[0m\u001b[0;34m(\u001b[0m\u001b[0;34m'Found a new page:'\u001b[0m\u001b[0;34m,\u001b[0m \u001b[0mfull_url\u001b[0m\u001b[0;34m)\u001b[0m\u001b[0;34m\u001b[0m\u001b[0;34m\u001b[0m\u001b[0m\n\u001b[1;32m     15\u001b[0m         \u001b[0;31m# Normally, we'd store the results here too\u001b[0m\u001b[0;34m\u001b[0m\u001b[0;34m\u001b[0m\u001b[0;34m\u001b[0m\u001b[0m\n\u001b[0;32m---> 16\u001b[0;31m         \u001b[0mvisit\u001b[0m\u001b[0;34m(\u001b[0m\u001b[0mfull_url\u001b[0m\u001b[0;34m,\u001b[0m \u001b[0mlinks_seen\u001b[0m\u001b[0;34m)\u001b[0m\u001b[0;34m\u001b[0m\u001b[0;34m\u001b[0m\u001b[0m\n\u001b[0m\u001b[1;32m     17\u001b[0m \u001b[0;34m\u001b[0m\u001b[0m\n\u001b[1;32m     18\u001b[0m \u001b[0mvisit\u001b[0m\u001b[0;34m(\u001b[0m\u001b[0mbase_url\u001b[0m\u001b[0;34m,\u001b[0m \u001b[0mlinks_seen\u001b[0m\u001b[0;34m)\u001b[0m\u001b[0;34m\u001b[0m\u001b[0;34m\u001b[0m\u001b[0m\n",
      "\u001b[0;32m<ipython-input-2-43e773928b85>\u001b[0m in \u001b[0;36mvisit\u001b[0;34m(url, links_seen)\u001b[0m\n\u001b[1;32m     14\u001b[0m         \u001b[0mprint\u001b[0m\u001b[0;34m(\u001b[0m\u001b[0;34m'Found a new page:'\u001b[0m\u001b[0;34m,\u001b[0m \u001b[0mfull_url\u001b[0m\u001b[0;34m)\u001b[0m\u001b[0;34m\u001b[0m\u001b[0;34m\u001b[0m\u001b[0m\n\u001b[1;32m     15\u001b[0m         \u001b[0;31m# Normally, we'd store the results here too\u001b[0m\u001b[0;34m\u001b[0m\u001b[0;34m\u001b[0m\u001b[0;34m\u001b[0m\u001b[0m\n\u001b[0;32m---> 16\u001b[0;31m         \u001b[0mvisit\u001b[0m\u001b[0;34m(\u001b[0m\u001b[0mfull_url\u001b[0m\u001b[0;34m,\u001b[0m \u001b[0mlinks_seen\u001b[0m\u001b[0;34m)\u001b[0m\u001b[0;34m\u001b[0m\u001b[0;34m\u001b[0m\u001b[0m\n\u001b[0m\u001b[1;32m     17\u001b[0m \u001b[0;34m\u001b[0m\u001b[0m\n\u001b[1;32m     18\u001b[0m \u001b[0mvisit\u001b[0m\u001b[0;34m(\u001b[0m\u001b[0mbase_url\u001b[0m\u001b[0;34m,\u001b[0m \u001b[0mlinks_seen\u001b[0m\u001b[0;34m)\u001b[0m\u001b[0;34m\u001b[0m\u001b[0;34m\u001b[0m\u001b[0m\n",
      "\u001b[0;32m<ipython-input-2-43e773928b85>\u001b[0m in \u001b[0;36mvisit\u001b[0;34m(url, links_seen)\u001b[0m\n\u001b[1;32m     14\u001b[0m         \u001b[0mprint\u001b[0m\u001b[0;34m(\u001b[0m\u001b[0;34m'Found a new page:'\u001b[0m\u001b[0;34m,\u001b[0m \u001b[0mfull_url\u001b[0m\u001b[0;34m)\u001b[0m\u001b[0;34m\u001b[0m\u001b[0;34m\u001b[0m\u001b[0m\n\u001b[1;32m     15\u001b[0m         \u001b[0;31m# Normally, we'd store the results here too\u001b[0m\u001b[0;34m\u001b[0m\u001b[0;34m\u001b[0m\u001b[0;34m\u001b[0m\u001b[0m\n\u001b[0;32m---> 16\u001b[0;31m         \u001b[0mvisit\u001b[0m\u001b[0;34m(\u001b[0m\u001b[0mfull_url\u001b[0m\u001b[0;34m,\u001b[0m \u001b[0mlinks_seen\u001b[0m\u001b[0;34m)\u001b[0m\u001b[0;34m\u001b[0m\u001b[0;34m\u001b[0m\u001b[0m\n\u001b[0m\u001b[1;32m     17\u001b[0m \u001b[0;34m\u001b[0m\u001b[0m\n\u001b[1;32m     18\u001b[0m \u001b[0mvisit\u001b[0m\u001b[0;34m(\u001b[0m\u001b[0mbase_url\u001b[0m\u001b[0;34m,\u001b[0m \u001b[0mlinks_seen\u001b[0m\u001b[0;34m)\u001b[0m\u001b[0;34m\u001b[0m\u001b[0;34m\u001b[0m\u001b[0m\n",
      "\u001b[0;32m<ipython-input-2-43e773928b85>\u001b[0m in \u001b[0;36mvisit\u001b[0;34m(url, links_seen)\u001b[0m\n\u001b[1;32m     14\u001b[0m         \u001b[0mprint\u001b[0m\u001b[0;34m(\u001b[0m\u001b[0;34m'Found a new page:'\u001b[0m\u001b[0;34m,\u001b[0m \u001b[0mfull_url\u001b[0m\u001b[0;34m)\u001b[0m\u001b[0;34m\u001b[0m\u001b[0;34m\u001b[0m\u001b[0m\n\u001b[1;32m     15\u001b[0m         \u001b[0;31m# Normally, we'd store the results here too\u001b[0m\u001b[0;34m\u001b[0m\u001b[0;34m\u001b[0m\u001b[0;34m\u001b[0m\u001b[0m\n\u001b[0;32m---> 16\u001b[0;31m         \u001b[0mvisit\u001b[0m\u001b[0;34m(\u001b[0m\u001b[0mfull_url\u001b[0m\u001b[0;34m,\u001b[0m \u001b[0mlinks_seen\u001b[0m\u001b[0;34m)\u001b[0m\u001b[0;34m\u001b[0m\u001b[0;34m\u001b[0m\u001b[0m\n\u001b[0m\u001b[1;32m     17\u001b[0m \u001b[0;34m\u001b[0m\u001b[0m\n\u001b[1;32m     18\u001b[0m \u001b[0mvisit\u001b[0m\u001b[0;34m(\u001b[0m\u001b[0mbase_url\u001b[0m\u001b[0;34m,\u001b[0m \u001b[0mlinks_seen\u001b[0m\u001b[0;34m)\u001b[0m\u001b[0;34m\u001b[0m\u001b[0;34m\u001b[0m\u001b[0m\n",
      "\u001b[0;32m<ipython-input-2-43e773928b85>\u001b[0m in \u001b[0;36mvisit\u001b[0;34m(url, links_seen)\u001b[0m\n\u001b[1;32m     14\u001b[0m         \u001b[0mprint\u001b[0m\u001b[0;34m(\u001b[0m\u001b[0;34m'Found a new page:'\u001b[0m\u001b[0;34m,\u001b[0m \u001b[0mfull_url\u001b[0m\u001b[0;34m)\u001b[0m\u001b[0;34m\u001b[0m\u001b[0;34m\u001b[0m\u001b[0m\n\u001b[1;32m     15\u001b[0m         \u001b[0;31m# Normally, we'd store the results here too\u001b[0m\u001b[0;34m\u001b[0m\u001b[0;34m\u001b[0m\u001b[0;34m\u001b[0m\u001b[0m\n\u001b[0;32m---> 16\u001b[0;31m         \u001b[0mvisit\u001b[0m\u001b[0;34m(\u001b[0m\u001b[0mfull_url\u001b[0m\u001b[0;34m,\u001b[0m \u001b[0mlinks_seen\u001b[0m\u001b[0;34m)\u001b[0m\u001b[0;34m\u001b[0m\u001b[0;34m\u001b[0m\u001b[0m\n\u001b[0m\u001b[1;32m     17\u001b[0m \u001b[0;34m\u001b[0m\u001b[0m\n\u001b[1;32m     18\u001b[0m \u001b[0mvisit\u001b[0m\u001b[0;34m(\u001b[0m\u001b[0mbase_url\u001b[0m\u001b[0;34m,\u001b[0m \u001b[0mlinks_seen\u001b[0m\u001b[0;34m)\u001b[0m\u001b[0;34m\u001b[0m\u001b[0;34m\u001b[0m\u001b[0m\n",
      "\u001b[0;32m<ipython-input-2-43e773928b85>\u001b[0m in \u001b[0;36mvisit\u001b[0;34m(url, links_seen)\u001b[0m\n\u001b[1;32m     14\u001b[0m         \u001b[0mprint\u001b[0m\u001b[0;34m(\u001b[0m\u001b[0;34m'Found a new page:'\u001b[0m\u001b[0;34m,\u001b[0m \u001b[0mfull_url\u001b[0m\u001b[0;34m)\u001b[0m\u001b[0;34m\u001b[0m\u001b[0;34m\u001b[0m\u001b[0m\n\u001b[1;32m     15\u001b[0m         \u001b[0;31m# Normally, we'd store the results here too\u001b[0m\u001b[0;34m\u001b[0m\u001b[0;34m\u001b[0m\u001b[0;34m\u001b[0m\u001b[0m\n\u001b[0;32m---> 16\u001b[0;31m         \u001b[0mvisit\u001b[0m\u001b[0;34m(\u001b[0m\u001b[0mfull_url\u001b[0m\u001b[0;34m,\u001b[0m \u001b[0mlinks_seen\u001b[0m\u001b[0;34m)\u001b[0m\u001b[0;34m\u001b[0m\u001b[0;34m\u001b[0m\u001b[0m\n\u001b[0m\u001b[1;32m     17\u001b[0m \u001b[0;34m\u001b[0m\u001b[0m\n\u001b[1;32m     18\u001b[0m \u001b[0mvisit\u001b[0m\u001b[0;34m(\u001b[0m\u001b[0mbase_url\u001b[0m\u001b[0;34m,\u001b[0m \u001b[0mlinks_seen\u001b[0m\u001b[0;34m)\u001b[0m\u001b[0;34m\u001b[0m\u001b[0;34m\u001b[0m\u001b[0m\n",
      "\u001b[0;32m<ipython-input-2-43e773928b85>\u001b[0m in \u001b[0;36mvisit\u001b[0;34m(url, links_seen)\u001b[0m\n\u001b[1;32m     14\u001b[0m         \u001b[0mprint\u001b[0m\u001b[0;34m(\u001b[0m\u001b[0;34m'Found a new page:'\u001b[0m\u001b[0;34m,\u001b[0m \u001b[0mfull_url\u001b[0m\u001b[0;34m)\u001b[0m\u001b[0;34m\u001b[0m\u001b[0;34m\u001b[0m\u001b[0m\n\u001b[1;32m     15\u001b[0m         \u001b[0;31m# Normally, we'd store the results here too\u001b[0m\u001b[0;34m\u001b[0m\u001b[0;34m\u001b[0m\u001b[0;34m\u001b[0m\u001b[0m\n\u001b[0;32m---> 16\u001b[0;31m         \u001b[0mvisit\u001b[0m\u001b[0;34m(\u001b[0m\u001b[0mfull_url\u001b[0m\u001b[0;34m,\u001b[0m \u001b[0mlinks_seen\u001b[0m\u001b[0;34m)\u001b[0m\u001b[0;34m\u001b[0m\u001b[0;34m\u001b[0m\u001b[0m\n\u001b[0m\u001b[1;32m     17\u001b[0m \u001b[0;34m\u001b[0m\u001b[0m\n\u001b[1;32m     18\u001b[0m \u001b[0mvisit\u001b[0m\u001b[0;34m(\u001b[0m\u001b[0mbase_url\u001b[0m\u001b[0;34m,\u001b[0m \u001b[0mlinks_seen\u001b[0m\u001b[0;34m)\u001b[0m\u001b[0;34m\u001b[0m\u001b[0;34m\u001b[0m\u001b[0m\n",
      "\u001b[0;32m<ipython-input-2-43e773928b85>\u001b[0m in \u001b[0;36mvisit\u001b[0;34m(url, links_seen)\u001b[0m\n\u001b[1;32m     14\u001b[0m         \u001b[0mprint\u001b[0m\u001b[0;34m(\u001b[0m\u001b[0;34m'Found a new page:'\u001b[0m\u001b[0;34m,\u001b[0m \u001b[0mfull_url\u001b[0m\u001b[0;34m)\u001b[0m\u001b[0;34m\u001b[0m\u001b[0;34m\u001b[0m\u001b[0m\n\u001b[1;32m     15\u001b[0m         \u001b[0;31m# Normally, we'd store the results here too\u001b[0m\u001b[0;34m\u001b[0m\u001b[0;34m\u001b[0m\u001b[0;34m\u001b[0m\u001b[0m\n\u001b[0;32m---> 16\u001b[0;31m         \u001b[0mvisit\u001b[0m\u001b[0;34m(\u001b[0m\u001b[0mfull_url\u001b[0m\u001b[0;34m,\u001b[0m \u001b[0mlinks_seen\u001b[0m\u001b[0;34m)\u001b[0m\u001b[0;34m\u001b[0m\u001b[0;34m\u001b[0m\u001b[0m\n\u001b[0m\u001b[1;32m     17\u001b[0m \u001b[0;34m\u001b[0m\u001b[0m\n\u001b[1;32m     18\u001b[0m \u001b[0mvisit\u001b[0m\u001b[0;34m(\u001b[0m\u001b[0mbase_url\u001b[0m\u001b[0;34m,\u001b[0m \u001b[0mlinks_seen\u001b[0m\u001b[0;34m)\u001b[0m\u001b[0;34m\u001b[0m\u001b[0;34m\u001b[0m\u001b[0m\n",
      "\u001b[0;32m<ipython-input-2-43e773928b85>\u001b[0m in \u001b[0;36mvisit\u001b[0;34m(url, links_seen)\u001b[0m\n\u001b[1;32m     14\u001b[0m         \u001b[0mprint\u001b[0m\u001b[0;34m(\u001b[0m\u001b[0;34m'Found a new page:'\u001b[0m\u001b[0;34m,\u001b[0m \u001b[0mfull_url\u001b[0m\u001b[0;34m)\u001b[0m\u001b[0;34m\u001b[0m\u001b[0;34m\u001b[0m\u001b[0m\n\u001b[1;32m     15\u001b[0m         \u001b[0;31m# Normally, we'd store the results here too\u001b[0m\u001b[0;34m\u001b[0m\u001b[0;34m\u001b[0m\u001b[0;34m\u001b[0m\u001b[0m\n\u001b[0;32m---> 16\u001b[0;31m         \u001b[0mvisit\u001b[0m\u001b[0;34m(\u001b[0m\u001b[0mfull_url\u001b[0m\u001b[0;34m,\u001b[0m \u001b[0mlinks_seen\u001b[0m\u001b[0;34m)\u001b[0m\u001b[0;34m\u001b[0m\u001b[0;34m\u001b[0m\u001b[0m\n\u001b[0m\u001b[1;32m     17\u001b[0m \u001b[0;34m\u001b[0m\u001b[0m\n\u001b[1;32m     18\u001b[0m \u001b[0mvisit\u001b[0m\u001b[0;34m(\u001b[0m\u001b[0mbase_url\u001b[0m\u001b[0;34m,\u001b[0m \u001b[0mlinks_seen\u001b[0m\u001b[0;34m)\u001b[0m\u001b[0;34m\u001b[0m\u001b[0;34m\u001b[0m\u001b[0m\n",
      "\u001b[0;32m<ipython-input-2-43e773928b85>\u001b[0m in \u001b[0;36mvisit\u001b[0;34m(url, links_seen)\u001b[0m\n\u001b[1;32m     14\u001b[0m         \u001b[0mprint\u001b[0m\u001b[0;34m(\u001b[0m\u001b[0;34m'Found a new page:'\u001b[0m\u001b[0;34m,\u001b[0m \u001b[0mfull_url\u001b[0m\u001b[0;34m)\u001b[0m\u001b[0;34m\u001b[0m\u001b[0;34m\u001b[0m\u001b[0m\n\u001b[1;32m     15\u001b[0m         \u001b[0;31m# Normally, we'd store the results here too\u001b[0m\u001b[0;34m\u001b[0m\u001b[0;34m\u001b[0m\u001b[0;34m\u001b[0m\u001b[0m\n\u001b[0;32m---> 16\u001b[0;31m         \u001b[0mvisit\u001b[0m\u001b[0;34m(\u001b[0m\u001b[0mfull_url\u001b[0m\u001b[0;34m,\u001b[0m \u001b[0mlinks_seen\u001b[0m\u001b[0;34m)\u001b[0m\u001b[0;34m\u001b[0m\u001b[0;34m\u001b[0m\u001b[0m\n\u001b[0m\u001b[1;32m     17\u001b[0m \u001b[0;34m\u001b[0m\u001b[0m\n\u001b[1;32m     18\u001b[0m \u001b[0mvisit\u001b[0m\u001b[0;34m(\u001b[0m\u001b[0mbase_url\u001b[0m\u001b[0;34m,\u001b[0m \u001b[0mlinks_seen\u001b[0m\u001b[0;34m)\u001b[0m\u001b[0;34m\u001b[0m\u001b[0;34m\u001b[0m\u001b[0m\n",
      "\u001b[0;32m<ipython-input-2-43e773928b85>\u001b[0m in \u001b[0;36mvisit\u001b[0;34m(url, links_seen)\u001b[0m\n\u001b[1;32m     14\u001b[0m         \u001b[0mprint\u001b[0m\u001b[0;34m(\u001b[0m\u001b[0;34m'Found a new page:'\u001b[0m\u001b[0;34m,\u001b[0m \u001b[0mfull_url\u001b[0m\u001b[0;34m)\u001b[0m\u001b[0;34m\u001b[0m\u001b[0;34m\u001b[0m\u001b[0m\n\u001b[1;32m     15\u001b[0m         \u001b[0;31m# Normally, we'd store the results here too\u001b[0m\u001b[0;34m\u001b[0m\u001b[0;34m\u001b[0m\u001b[0;34m\u001b[0m\u001b[0m\n\u001b[0;32m---> 16\u001b[0;31m         \u001b[0mvisit\u001b[0m\u001b[0;34m(\u001b[0m\u001b[0mfull_url\u001b[0m\u001b[0;34m,\u001b[0m \u001b[0mlinks_seen\u001b[0m\u001b[0;34m)\u001b[0m\u001b[0;34m\u001b[0m\u001b[0;34m\u001b[0m\u001b[0m\n\u001b[0m\u001b[1;32m     17\u001b[0m \u001b[0;34m\u001b[0m\u001b[0m\n\u001b[1;32m     18\u001b[0m \u001b[0mvisit\u001b[0m\u001b[0;34m(\u001b[0m\u001b[0mbase_url\u001b[0m\u001b[0;34m,\u001b[0m \u001b[0mlinks_seen\u001b[0m\u001b[0;34m)\u001b[0m\u001b[0;34m\u001b[0m\u001b[0;34m\u001b[0m\u001b[0m\n",
      "\u001b[0;32m<ipython-input-2-43e773928b85>\u001b[0m in \u001b[0;36mvisit\u001b[0;34m(url, links_seen)\u001b[0m\n\u001b[1;32m     14\u001b[0m         \u001b[0mprint\u001b[0m\u001b[0;34m(\u001b[0m\u001b[0;34m'Found a new page:'\u001b[0m\u001b[0;34m,\u001b[0m \u001b[0mfull_url\u001b[0m\u001b[0;34m)\u001b[0m\u001b[0;34m\u001b[0m\u001b[0;34m\u001b[0m\u001b[0m\n\u001b[1;32m     15\u001b[0m         \u001b[0;31m# Normally, we'd store the results here too\u001b[0m\u001b[0;34m\u001b[0m\u001b[0;34m\u001b[0m\u001b[0;34m\u001b[0m\u001b[0m\n\u001b[0;32m---> 16\u001b[0;31m         \u001b[0mvisit\u001b[0m\u001b[0;34m(\u001b[0m\u001b[0mfull_url\u001b[0m\u001b[0;34m,\u001b[0m \u001b[0mlinks_seen\u001b[0m\u001b[0;34m)\u001b[0m\u001b[0;34m\u001b[0m\u001b[0;34m\u001b[0m\u001b[0m\n\u001b[0m\u001b[1;32m     17\u001b[0m \u001b[0;34m\u001b[0m\u001b[0m\n\u001b[1;32m     18\u001b[0m \u001b[0mvisit\u001b[0m\u001b[0;34m(\u001b[0m\u001b[0mbase_url\u001b[0m\u001b[0;34m,\u001b[0m \u001b[0mlinks_seen\u001b[0m\u001b[0;34m)\u001b[0m\u001b[0;34m\u001b[0m\u001b[0;34m\u001b[0m\u001b[0m\n",
      "\u001b[0;32m<ipython-input-2-43e773928b85>\u001b[0m in \u001b[0;36mvisit\u001b[0;34m(url, links_seen)\u001b[0m\n\u001b[1;32m     14\u001b[0m         \u001b[0mprint\u001b[0m\u001b[0;34m(\u001b[0m\u001b[0;34m'Found a new page:'\u001b[0m\u001b[0;34m,\u001b[0m \u001b[0mfull_url\u001b[0m\u001b[0;34m)\u001b[0m\u001b[0;34m\u001b[0m\u001b[0;34m\u001b[0m\u001b[0m\n\u001b[1;32m     15\u001b[0m         \u001b[0;31m# Normally, we'd store the results here too\u001b[0m\u001b[0;34m\u001b[0m\u001b[0;34m\u001b[0m\u001b[0;34m\u001b[0m\u001b[0m\n\u001b[0;32m---> 16\u001b[0;31m         \u001b[0mvisit\u001b[0m\u001b[0;34m(\u001b[0m\u001b[0mfull_url\u001b[0m\u001b[0;34m,\u001b[0m \u001b[0mlinks_seen\u001b[0m\u001b[0;34m)\u001b[0m\u001b[0;34m\u001b[0m\u001b[0;34m\u001b[0m\u001b[0m\n\u001b[0m\u001b[1;32m     17\u001b[0m \u001b[0;34m\u001b[0m\u001b[0m\n\u001b[1;32m     18\u001b[0m \u001b[0mvisit\u001b[0m\u001b[0;34m(\u001b[0m\u001b[0mbase_url\u001b[0m\u001b[0;34m,\u001b[0m \u001b[0mlinks_seen\u001b[0m\u001b[0;34m)\u001b[0m\u001b[0;34m\u001b[0m\u001b[0;34m\u001b[0m\u001b[0m\n",
      "\u001b[0;32m<ipython-input-2-43e773928b85>\u001b[0m in \u001b[0;36mvisit\u001b[0;34m(url, links_seen)\u001b[0m\n\u001b[1;32m     14\u001b[0m         \u001b[0mprint\u001b[0m\u001b[0;34m(\u001b[0m\u001b[0;34m'Found a new page:'\u001b[0m\u001b[0;34m,\u001b[0m \u001b[0mfull_url\u001b[0m\u001b[0;34m)\u001b[0m\u001b[0;34m\u001b[0m\u001b[0;34m\u001b[0m\u001b[0m\n\u001b[1;32m     15\u001b[0m         \u001b[0;31m# Normally, we'd store the results here too\u001b[0m\u001b[0;34m\u001b[0m\u001b[0;34m\u001b[0m\u001b[0;34m\u001b[0m\u001b[0m\n\u001b[0;32m---> 16\u001b[0;31m         \u001b[0mvisit\u001b[0m\u001b[0;34m(\u001b[0m\u001b[0mfull_url\u001b[0m\u001b[0;34m,\u001b[0m \u001b[0mlinks_seen\u001b[0m\u001b[0;34m)\u001b[0m\u001b[0;34m\u001b[0m\u001b[0;34m\u001b[0m\u001b[0m\n\u001b[0m\u001b[1;32m     17\u001b[0m \u001b[0;34m\u001b[0m\u001b[0m\n\u001b[1;32m     18\u001b[0m \u001b[0mvisit\u001b[0m\u001b[0;34m(\u001b[0m\u001b[0mbase_url\u001b[0m\u001b[0;34m,\u001b[0m \u001b[0mlinks_seen\u001b[0m\u001b[0;34m)\u001b[0m\u001b[0;34m\u001b[0m\u001b[0;34m\u001b[0m\u001b[0m\n",
      "\u001b[0;32m<ipython-input-2-43e773928b85>\u001b[0m in \u001b[0;36mvisit\u001b[0;34m(url, links_seen)\u001b[0m\n\u001b[1;32m     14\u001b[0m         \u001b[0mprint\u001b[0m\u001b[0;34m(\u001b[0m\u001b[0;34m'Found a new page:'\u001b[0m\u001b[0;34m,\u001b[0m \u001b[0mfull_url\u001b[0m\u001b[0;34m)\u001b[0m\u001b[0;34m\u001b[0m\u001b[0;34m\u001b[0m\u001b[0m\n\u001b[1;32m     15\u001b[0m         \u001b[0;31m# Normally, we'd store the results here too\u001b[0m\u001b[0;34m\u001b[0m\u001b[0;34m\u001b[0m\u001b[0;34m\u001b[0m\u001b[0m\n\u001b[0;32m---> 16\u001b[0;31m         \u001b[0mvisit\u001b[0m\u001b[0;34m(\u001b[0m\u001b[0mfull_url\u001b[0m\u001b[0;34m,\u001b[0m \u001b[0mlinks_seen\u001b[0m\u001b[0;34m)\u001b[0m\u001b[0;34m\u001b[0m\u001b[0;34m\u001b[0m\u001b[0m\n\u001b[0m\u001b[1;32m     17\u001b[0m \u001b[0;34m\u001b[0m\u001b[0m\n\u001b[1;32m     18\u001b[0m \u001b[0mvisit\u001b[0m\u001b[0;34m(\u001b[0m\u001b[0mbase_url\u001b[0m\u001b[0;34m,\u001b[0m \u001b[0mlinks_seen\u001b[0m\u001b[0;34m)\u001b[0m\u001b[0;34m\u001b[0m\u001b[0;34m\u001b[0m\u001b[0m\n",
      "\u001b[0;32m<ipython-input-2-43e773928b85>\u001b[0m in \u001b[0;36mvisit\u001b[0;34m(url, links_seen)\u001b[0m\n\u001b[1;32m     14\u001b[0m         \u001b[0mprint\u001b[0m\u001b[0;34m(\u001b[0m\u001b[0;34m'Found a new page:'\u001b[0m\u001b[0;34m,\u001b[0m \u001b[0mfull_url\u001b[0m\u001b[0;34m)\u001b[0m\u001b[0;34m\u001b[0m\u001b[0;34m\u001b[0m\u001b[0m\n\u001b[1;32m     15\u001b[0m         \u001b[0;31m# Normally, we'd store the results here too\u001b[0m\u001b[0;34m\u001b[0m\u001b[0;34m\u001b[0m\u001b[0;34m\u001b[0m\u001b[0m\n\u001b[0;32m---> 16\u001b[0;31m         \u001b[0mvisit\u001b[0m\u001b[0;34m(\u001b[0m\u001b[0mfull_url\u001b[0m\u001b[0;34m,\u001b[0m \u001b[0mlinks_seen\u001b[0m\u001b[0;34m)\u001b[0m\u001b[0;34m\u001b[0m\u001b[0;34m\u001b[0m\u001b[0m\n\u001b[0m\u001b[1;32m     17\u001b[0m \u001b[0;34m\u001b[0m\u001b[0m\n\u001b[1;32m     18\u001b[0m \u001b[0mvisit\u001b[0m\u001b[0;34m(\u001b[0m\u001b[0mbase_url\u001b[0m\u001b[0;34m,\u001b[0m \u001b[0mlinks_seen\u001b[0m\u001b[0;34m)\u001b[0m\u001b[0;34m\u001b[0m\u001b[0;34m\u001b[0m\u001b[0m\n",
      "\u001b[0;32m<ipython-input-2-43e773928b85>\u001b[0m in \u001b[0;36mvisit\u001b[0;34m(url, links_seen)\u001b[0m\n\u001b[1;32m     14\u001b[0m         \u001b[0mprint\u001b[0m\u001b[0;34m(\u001b[0m\u001b[0;34m'Found a new page:'\u001b[0m\u001b[0;34m,\u001b[0m \u001b[0mfull_url\u001b[0m\u001b[0;34m)\u001b[0m\u001b[0;34m\u001b[0m\u001b[0;34m\u001b[0m\u001b[0m\n\u001b[1;32m     15\u001b[0m         \u001b[0;31m# Normally, we'd store the results here too\u001b[0m\u001b[0;34m\u001b[0m\u001b[0;34m\u001b[0m\u001b[0;34m\u001b[0m\u001b[0m\n\u001b[0;32m---> 16\u001b[0;31m         \u001b[0mvisit\u001b[0m\u001b[0;34m(\u001b[0m\u001b[0mfull_url\u001b[0m\u001b[0;34m,\u001b[0m \u001b[0mlinks_seen\u001b[0m\u001b[0;34m)\u001b[0m\u001b[0;34m\u001b[0m\u001b[0;34m\u001b[0m\u001b[0m\n\u001b[0m\u001b[1;32m     17\u001b[0m \u001b[0;34m\u001b[0m\u001b[0m\n\u001b[1;32m     18\u001b[0m \u001b[0mvisit\u001b[0m\u001b[0;34m(\u001b[0m\u001b[0mbase_url\u001b[0m\u001b[0;34m,\u001b[0m \u001b[0mlinks_seen\u001b[0m\u001b[0;34m)\u001b[0m\u001b[0;34m\u001b[0m\u001b[0;34m\u001b[0m\u001b[0m\n",
      "\u001b[0;32m<ipython-input-2-43e773928b85>\u001b[0m in \u001b[0;36mvisit\u001b[0;34m(url, links_seen)\u001b[0m\n\u001b[1;32m     14\u001b[0m         \u001b[0mprint\u001b[0m\u001b[0;34m(\u001b[0m\u001b[0;34m'Found a new page:'\u001b[0m\u001b[0;34m,\u001b[0m \u001b[0mfull_url\u001b[0m\u001b[0;34m)\u001b[0m\u001b[0;34m\u001b[0m\u001b[0;34m\u001b[0m\u001b[0m\n\u001b[1;32m     15\u001b[0m         \u001b[0;31m# Normally, we'd store the results here too\u001b[0m\u001b[0;34m\u001b[0m\u001b[0;34m\u001b[0m\u001b[0;34m\u001b[0m\u001b[0m\n\u001b[0;32m---> 16\u001b[0;31m         \u001b[0mvisit\u001b[0m\u001b[0;34m(\u001b[0m\u001b[0mfull_url\u001b[0m\u001b[0;34m,\u001b[0m \u001b[0mlinks_seen\u001b[0m\u001b[0;34m)\u001b[0m\u001b[0;34m\u001b[0m\u001b[0;34m\u001b[0m\u001b[0m\n\u001b[0m\u001b[1;32m     17\u001b[0m \u001b[0;34m\u001b[0m\u001b[0m\n\u001b[1;32m     18\u001b[0m \u001b[0mvisit\u001b[0m\u001b[0;34m(\u001b[0m\u001b[0mbase_url\u001b[0m\u001b[0;34m,\u001b[0m \u001b[0mlinks_seen\u001b[0m\u001b[0;34m)\u001b[0m\u001b[0;34m\u001b[0m\u001b[0;34m\u001b[0m\u001b[0m\n",
      "\u001b[0;32m<ipython-input-2-43e773928b85>\u001b[0m in \u001b[0;36mvisit\u001b[0;34m(url, links_seen)\u001b[0m\n\u001b[1;32m     14\u001b[0m         \u001b[0mprint\u001b[0m\u001b[0;34m(\u001b[0m\u001b[0;34m'Found a new page:'\u001b[0m\u001b[0;34m,\u001b[0m \u001b[0mfull_url\u001b[0m\u001b[0;34m)\u001b[0m\u001b[0;34m\u001b[0m\u001b[0;34m\u001b[0m\u001b[0m\n\u001b[1;32m     15\u001b[0m         \u001b[0;31m# Normally, we'd store the results here too\u001b[0m\u001b[0;34m\u001b[0m\u001b[0;34m\u001b[0m\u001b[0;34m\u001b[0m\u001b[0m\n\u001b[0;32m---> 16\u001b[0;31m         \u001b[0mvisit\u001b[0m\u001b[0;34m(\u001b[0m\u001b[0mfull_url\u001b[0m\u001b[0;34m,\u001b[0m \u001b[0mlinks_seen\u001b[0m\u001b[0;34m)\u001b[0m\u001b[0;34m\u001b[0m\u001b[0;34m\u001b[0m\u001b[0m\n\u001b[0m\u001b[1;32m     17\u001b[0m \u001b[0;34m\u001b[0m\u001b[0m\n\u001b[1;32m     18\u001b[0m \u001b[0mvisit\u001b[0m\u001b[0;34m(\u001b[0m\u001b[0mbase_url\u001b[0m\u001b[0;34m,\u001b[0m \u001b[0mlinks_seen\u001b[0m\u001b[0;34m)\u001b[0m\u001b[0;34m\u001b[0m\u001b[0;34m\u001b[0m\u001b[0m\n",
      "\u001b[0;32m<ipython-input-2-43e773928b85>\u001b[0m in \u001b[0;36mvisit\u001b[0;34m(url, links_seen)\u001b[0m\n\u001b[1;32m     14\u001b[0m         \u001b[0mprint\u001b[0m\u001b[0;34m(\u001b[0m\u001b[0;34m'Found a new page:'\u001b[0m\u001b[0;34m,\u001b[0m \u001b[0mfull_url\u001b[0m\u001b[0;34m)\u001b[0m\u001b[0;34m\u001b[0m\u001b[0;34m\u001b[0m\u001b[0m\n\u001b[1;32m     15\u001b[0m         \u001b[0;31m# Normally, we'd store the results here too\u001b[0m\u001b[0;34m\u001b[0m\u001b[0;34m\u001b[0m\u001b[0;34m\u001b[0m\u001b[0m\n\u001b[0;32m---> 16\u001b[0;31m         \u001b[0mvisit\u001b[0m\u001b[0;34m(\u001b[0m\u001b[0mfull_url\u001b[0m\u001b[0;34m,\u001b[0m \u001b[0mlinks_seen\u001b[0m\u001b[0;34m)\u001b[0m\u001b[0;34m\u001b[0m\u001b[0;34m\u001b[0m\u001b[0m\n\u001b[0m\u001b[1;32m     17\u001b[0m \u001b[0;34m\u001b[0m\u001b[0m\n\u001b[1;32m     18\u001b[0m \u001b[0mvisit\u001b[0m\u001b[0;34m(\u001b[0m\u001b[0mbase_url\u001b[0m\u001b[0;34m,\u001b[0m \u001b[0mlinks_seen\u001b[0m\u001b[0;34m)\u001b[0m\u001b[0;34m\u001b[0m\u001b[0;34m\u001b[0m\u001b[0m\n",
      "\u001b[0;32m<ipython-input-2-43e773928b85>\u001b[0m in \u001b[0;36mvisit\u001b[0;34m(url, links_seen)\u001b[0m\n\u001b[1;32m     14\u001b[0m         \u001b[0mprint\u001b[0m\u001b[0;34m(\u001b[0m\u001b[0;34m'Found a new page:'\u001b[0m\u001b[0;34m,\u001b[0m \u001b[0mfull_url\u001b[0m\u001b[0;34m)\u001b[0m\u001b[0;34m\u001b[0m\u001b[0;34m\u001b[0m\u001b[0m\n\u001b[1;32m     15\u001b[0m         \u001b[0;31m# Normally, we'd store the results here too\u001b[0m\u001b[0;34m\u001b[0m\u001b[0;34m\u001b[0m\u001b[0;34m\u001b[0m\u001b[0m\n\u001b[0;32m---> 16\u001b[0;31m         \u001b[0mvisit\u001b[0m\u001b[0;34m(\u001b[0m\u001b[0mfull_url\u001b[0m\u001b[0;34m,\u001b[0m \u001b[0mlinks_seen\u001b[0m\u001b[0;34m)\u001b[0m\u001b[0;34m\u001b[0m\u001b[0;34m\u001b[0m\u001b[0m\n\u001b[0m\u001b[1;32m     17\u001b[0m \u001b[0;34m\u001b[0m\u001b[0m\n\u001b[1;32m     18\u001b[0m \u001b[0mvisit\u001b[0m\u001b[0;34m(\u001b[0m\u001b[0mbase_url\u001b[0m\u001b[0;34m,\u001b[0m \u001b[0mlinks_seen\u001b[0m\u001b[0;34m)\u001b[0m\u001b[0;34m\u001b[0m\u001b[0;34m\u001b[0m\u001b[0m\n",
      "\u001b[0;32m<ipython-input-2-43e773928b85>\u001b[0m in \u001b[0;36mvisit\u001b[0;34m(url, links_seen)\u001b[0m\n\u001b[1;32m     14\u001b[0m         \u001b[0mprint\u001b[0m\u001b[0;34m(\u001b[0m\u001b[0;34m'Found a new page:'\u001b[0m\u001b[0;34m,\u001b[0m \u001b[0mfull_url\u001b[0m\u001b[0;34m)\u001b[0m\u001b[0;34m\u001b[0m\u001b[0;34m\u001b[0m\u001b[0m\n\u001b[1;32m     15\u001b[0m         \u001b[0;31m# Normally, we'd store the results here too\u001b[0m\u001b[0;34m\u001b[0m\u001b[0;34m\u001b[0m\u001b[0;34m\u001b[0m\u001b[0m\n\u001b[0;32m---> 16\u001b[0;31m         \u001b[0mvisit\u001b[0m\u001b[0;34m(\u001b[0m\u001b[0mfull_url\u001b[0m\u001b[0;34m,\u001b[0m \u001b[0mlinks_seen\u001b[0m\u001b[0;34m)\u001b[0m\u001b[0;34m\u001b[0m\u001b[0;34m\u001b[0m\u001b[0m\n\u001b[0m\u001b[1;32m     17\u001b[0m \u001b[0;34m\u001b[0m\u001b[0m\n\u001b[1;32m     18\u001b[0m \u001b[0mvisit\u001b[0m\u001b[0;34m(\u001b[0m\u001b[0mbase_url\u001b[0m\u001b[0;34m,\u001b[0m \u001b[0mlinks_seen\u001b[0m\u001b[0;34m)\u001b[0m\u001b[0;34m\u001b[0m\u001b[0;34m\u001b[0m\u001b[0m\n",
      "\u001b[0;32m<ipython-input-2-43e773928b85>\u001b[0m in \u001b[0;36mvisit\u001b[0;34m(url, links_seen)\u001b[0m\n\u001b[1;32m     14\u001b[0m         \u001b[0mprint\u001b[0m\u001b[0;34m(\u001b[0m\u001b[0;34m'Found a new page:'\u001b[0m\u001b[0;34m,\u001b[0m \u001b[0mfull_url\u001b[0m\u001b[0;34m)\u001b[0m\u001b[0;34m\u001b[0m\u001b[0;34m\u001b[0m\u001b[0m\n\u001b[1;32m     15\u001b[0m         \u001b[0;31m# Normally, we'd store the results here too\u001b[0m\u001b[0;34m\u001b[0m\u001b[0;34m\u001b[0m\u001b[0;34m\u001b[0m\u001b[0m\n\u001b[0;32m---> 16\u001b[0;31m         \u001b[0mvisit\u001b[0m\u001b[0;34m(\u001b[0m\u001b[0mfull_url\u001b[0m\u001b[0;34m,\u001b[0m \u001b[0mlinks_seen\u001b[0m\u001b[0;34m)\u001b[0m\u001b[0;34m\u001b[0m\u001b[0;34m\u001b[0m\u001b[0m\n\u001b[0m\u001b[1;32m     17\u001b[0m \u001b[0;34m\u001b[0m\u001b[0m\n\u001b[1;32m     18\u001b[0m \u001b[0mvisit\u001b[0m\u001b[0;34m(\u001b[0m\u001b[0mbase_url\u001b[0m\u001b[0;34m,\u001b[0m \u001b[0mlinks_seen\u001b[0m\u001b[0;34m)\u001b[0m\u001b[0;34m\u001b[0m\u001b[0;34m\u001b[0m\u001b[0m\n",
      "\u001b[0;32m<ipython-input-2-43e773928b85>\u001b[0m in \u001b[0;36mvisit\u001b[0;34m(url, links_seen)\u001b[0m\n\u001b[1;32m     14\u001b[0m         \u001b[0mprint\u001b[0m\u001b[0;34m(\u001b[0m\u001b[0;34m'Found a new page:'\u001b[0m\u001b[0;34m,\u001b[0m \u001b[0mfull_url\u001b[0m\u001b[0;34m)\u001b[0m\u001b[0;34m\u001b[0m\u001b[0;34m\u001b[0m\u001b[0m\n\u001b[1;32m     15\u001b[0m         \u001b[0;31m# Normally, we'd store the results here too\u001b[0m\u001b[0;34m\u001b[0m\u001b[0;34m\u001b[0m\u001b[0;34m\u001b[0m\u001b[0m\n\u001b[0;32m---> 16\u001b[0;31m         \u001b[0mvisit\u001b[0m\u001b[0;34m(\u001b[0m\u001b[0mfull_url\u001b[0m\u001b[0;34m,\u001b[0m \u001b[0mlinks_seen\u001b[0m\u001b[0;34m)\u001b[0m\u001b[0;34m\u001b[0m\u001b[0;34m\u001b[0m\u001b[0m\n\u001b[0m\u001b[1;32m     17\u001b[0m \u001b[0;34m\u001b[0m\u001b[0m\n\u001b[1;32m     18\u001b[0m \u001b[0mvisit\u001b[0m\u001b[0;34m(\u001b[0m\u001b[0mbase_url\u001b[0m\u001b[0;34m,\u001b[0m \u001b[0mlinks_seen\u001b[0m\u001b[0;34m)\u001b[0m\u001b[0;34m\u001b[0m\u001b[0;34m\u001b[0m\u001b[0m\n",
      "\u001b[0;32m<ipython-input-2-43e773928b85>\u001b[0m in \u001b[0;36mvisit\u001b[0;34m(url, links_seen)\u001b[0m\n\u001b[1;32m     14\u001b[0m         \u001b[0mprint\u001b[0m\u001b[0;34m(\u001b[0m\u001b[0;34m'Found a new page:'\u001b[0m\u001b[0;34m,\u001b[0m \u001b[0mfull_url\u001b[0m\u001b[0;34m)\u001b[0m\u001b[0;34m\u001b[0m\u001b[0;34m\u001b[0m\u001b[0m\n\u001b[1;32m     15\u001b[0m         \u001b[0;31m# Normally, we'd store the results here too\u001b[0m\u001b[0;34m\u001b[0m\u001b[0;34m\u001b[0m\u001b[0;34m\u001b[0m\u001b[0m\n\u001b[0;32m---> 16\u001b[0;31m         \u001b[0mvisit\u001b[0m\u001b[0;34m(\u001b[0m\u001b[0mfull_url\u001b[0m\u001b[0;34m,\u001b[0m \u001b[0mlinks_seen\u001b[0m\u001b[0;34m)\u001b[0m\u001b[0;34m\u001b[0m\u001b[0;34m\u001b[0m\u001b[0m\n\u001b[0m\u001b[1;32m     17\u001b[0m \u001b[0;34m\u001b[0m\u001b[0m\n\u001b[1;32m     18\u001b[0m \u001b[0mvisit\u001b[0m\u001b[0;34m(\u001b[0m\u001b[0mbase_url\u001b[0m\u001b[0;34m,\u001b[0m \u001b[0mlinks_seen\u001b[0m\u001b[0;34m)\u001b[0m\u001b[0;34m\u001b[0m\u001b[0;34m\u001b[0m\u001b[0m\n",
      "\u001b[0;32m<ipython-input-2-43e773928b85>\u001b[0m in \u001b[0;36mvisit\u001b[0;34m(url, links_seen)\u001b[0m\n\u001b[1;32m     14\u001b[0m         \u001b[0mprint\u001b[0m\u001b[0;34m(\u001b[0m\u001b[0;34m'Found a new page:'\u001b[0m\u001b[0;34m,\u001b[0m \u001b[0mfull_url\u001b[0m\u001b[0;34m)\u001b[0m\u001b[0;34m\u001b[0m\u001b[0;34m\u001b[0m\u001b[0m\n\u001b[1;32m     15\u001b[0m         \u001b[0;31m# Normally, we'd store the results here too\u001b[0m\u001b[0;34m\u001b[0m\u001b[0;34m\u001b[0m\u001b[0;34m\u001b[0m\u001b[0m\n\u001b[0;32m---> 16\u001b[0;31m         \u001b[0mvisit\u001b[0m\u001b[0;34m(\u001b[0m\u001b[0mfull_url\u001b[0m\u001b[0;34m,\u001b[0m \u001b[0mlinks_seen\u001b[0m\u001b[0;34m)\u001b[0m\u001b[0;34m\u001b[0m\u001b[0;34m\u001b[0m\u001b[0m\n\u001b[0m\u001b[1;32m     17\u001b[0m \u001b[0;34m\u001b[0m\u001b[0m\n\u001b[1;32m     18\u001b[0m \u001b[0mvisit\u001b[0m\u001b[0;34m(\u001b[0m\u001b[0mbase_url\u001b[0m\u001b[0;34m,\u001b[0m \u001b[0mlinks_seen\u001b[0m\u001b[0;34m)\u001b[0m\u001b[0;34m\u001b[0m\u001b[0;34m\u001b[0m\u001b[0m\n",
      "\u001b[0;32m<ipython-input-2-43e773928b85>\u001b[0m in \u001b[0;36mvisit\u001b[0;34m(url, links_seen)\u001b[0m\n\u001b[1;32m     14\u001b[0m         \u001b[0mprint\u001b[0m\u001b[0;34m(\u001b[0m\u001b[0;34m'Found a new page:'\u001b[0m\u001b[0;34m,\u001b[0m \u001b[0mfull_url\u001b[0m\u001b[0;34m)\u001b[0m\u001b[0;34m\u001b[0m\u001b[0;34m\u001b[0m\u001b[0m\n\u001b[1;32m     15\u001b[0m         \u001b[0;31m# Normally, we'd store the results here too\u001b[0m\u001b[0;34m\u001b[0m\u001b[0;34m\u001b[0m\u001b[0;34m\u001b[0m\u001b[0m\n\u001b[0;32m---> 16\u001b[0;31m         \u001b[0mvisit\u001b[0m\u001b[0;34m(\u001b[0m\u001b[0mfull_url\u001b[0m\u001b[0;34m,\u001b[0m \u001b[0mlinks_seen\u001b[0m\u001b[0;34m)\u001b[0m\u001b[0;34m\u001b[0m\u001b[0;34m\u001b[0m\u001b[0m\n\u001b[0m\u001b[1;32m     17\u001b[0m \u001b[0;34m\u001b[0m\u001b[0m\n\u001b[1;32m     18\u001b[0m \u001b[0mvisit\u001b[0m\u001b[0;34m(\u001b[0m\u001b[0mbase_url\u001b[0m\u001b[0;34m,\u001b[0m \u001b[0mlinks_seen\u001b[0m\u001b[0;34m)\u001b[0m\u001b[0;34m\u001b[0m\u001b[0;34m\u001b[0m\u001b[0m\n",
      "\u001b[0;32m<ipython-input-2-43e773928b85>\u001b[0m in \u001b[0;36mvisit\u001b[0;34m(url, links_seen)\u001b[0m\n\u001b[1;32m     14\u001b[0m         \u001b[0mprint\u001b[0m\u001b[0;34m(\u001b[0m\u001b[0;34m'Found a new page:'\u001b[0m\u001b[0;34m,\u001b[0m \u001b[0mfull_url\u001b[0m\u001b[0;34m)\u001b[0m\u001b[0;34m\u001b[0m\u001b[0;34m\u001b[0m\u001b[0m\n\u001b[1;32m     15\u001b[0m         \u001b[0;31m# Normally, we'd store the results here too\u001b[0m\u001b[0;34m\u001b[0m\u001b[0;34m\u001b[0m\u001b[0;34m\u001b[0m\u001b[0m\n\u001b[0;32m---> 16\u001b[0;31m         \u001b[0mvisit\u001b[0m\u001b[0;34m(\u001b[0m\u001b[0mfull_url\u001b[0m\u001b[0;34m,\u001b[0m \u001b[0mlinks_seen\u001b[0m\u001b[0;34m)\u001b[0m\u001b[0;34m\u001b[0m\u001b[0;34m\u001b[0m\u001b[0m\n\u001b[0m\u001b[1;32m     17\u001b[0m \u001b[0;34m\u001b[0m\u001b[0m\n\u001b[1;32m     18\u001b[0m \u001b[0mvisit\u001b[0m\u001b[0;34m(\u001b[0m\u001b[0mbase_url\u001b[0m\u001b[0;34m,\u001b[0m \u001b[0mlinks_seen\u001b[0m\u001b[0;34m)\u001b[0m\u001b[0;34m\u001b[0m\u001b[0;34m\u001b[0m\u001b[0m\n",
      "\u001b[0;32m<ipython-input-2-43e773928b85>\u001b[0m in \u001b[0;36mvisit\u001b[0;34m(url, links_seen)\u001b[0m\n\u001b[1;32m     14\u001b[0m         \u001b[0mprint\u001b[0m\u001b[0;34m(\u001b[0m\u001b[0;34m'Found a new page:'\u001b[0m\u001b[0;34m,\u001b[0m \u001b[0mfull_url\u001b[0m\u001b[0;34m)\u001b[0m\u001b[0;34m\u001b[0m\u001b[0;34m\u001b[0m\u001b[0m\n\u001b[1;32m     15\u001b[0m         \u001b[0;31m# Normally, we'd store the results here too\u001b[0m\u001b[0;34m\u001b[0m\u001b[0;34m\u001b[0m\u001b[0;34m\u001b[0m\u001b[0m\n\u001b[0;32m---> 16\u001b[0;31m         \u001b[0mvisit\u001b[0m\u001b[0;34m(\u001b[0m\u001b[0mfull_url\u001b[0m\u001b[0;34m,\u001b[0m \u001b[0mlinks_seen\u001b[0m\u001b[0;34m)\u001b[0m\u001b[0;34m\u001b[0m\u001b[0;34m\u001b[0m\u001b[0m\n\u001b[0m\u001b[1;32m     17\u001b[0m \u001b[0;34m\u001b[0m\u001b[0m\n\u001b[1;32m     18\u001b[0m \u001b[0mvisit\u001b[0m\u001b[0;34m(\u001b[0m\u001b[0mbase_url\u001b[0m\u001b[0;34m,\u001b[0m \u001b[0mlinks_seen\u001b[0m\u001b[0;34m)\u001b[0m\u001b[0;34m\u001b[0m\u001b[0;34m\u001b[0m\u001b[0m\n",
      "\u001b[0;32m<ipython-input-2-43e773928b85>\u001b[0m in \u001b[0;36mvisit\u001b[0;34m(url, links_seen)\u001b[0m\n\u001b[1;32m     14\u001b[0m         \u001b[0mprint\u001b[0m\u001b[0;34m(\u001b[0m\u001b[0;34m'Found a new page:'\u001b[0m\u001b[0;34m,\u001b[0m \u001b[0mfull_url\u001b[0m\u001b[0;34m)\u001b[0m\u001b[0;34m\u001b[0m\u001b[0;34m\u001b[0m\u001b[0m\n\u001b[1;32m     15\u001b[0m         \u001b[0;31m# Normally, we'd store the results here too\u001b[0m\u001b[0;34m\u001b[0m\u001b[0;34m\u001b[0m\u001b[0;34m\u001b[0m\u001b[0m\n\u001b[0;32m---> 16\u001b[0;31m         \u001b[0mvisit\u001b[0m\u001b[0;34m(\u001b[0m\u001b[0mfull_url\u001b[0m\u001b[0;34m,\u001b[0m \u001b[0mlinks_seen\u001b[0m\u001b[0;34m)\u001b[0m\u001b[0;34m\u001b[0m\u001b[0;34m\u001b[0m\u001b[0m\n\u001b[0m\u001b[1;32m     17\u001b[0m \u001b[0;34m\u001b[0m\u001b[0m\n\u001b[1;32m     18\u001b[0m \u001b[0mvisit\u001b[0m\u001b[0;34m(\u001b[0m\u001b[0mbase_url\u001b[0m\u001b[0;34m,\u001b[0m \u001b[0mlinks_seen\u001b[0m\u001b[0;34m)\u001b[0m\u001b[0;34m\u001b[0m\u001b[0;34m\u001b[0m\u001b[0m\n",
      "\u001b[0;32m<ipython-input-2-43e773928b85>\u001b[0m in \u001b[0;36mvisit\u001b[0;34m(url, links_seen)\u001b[0m\n\u001b[1;32m     14\u001b[0m         \u001b[0mprint\u001b[0m\u001b[0;34m(\u001b[0m\u001b[0;34m'Found a new page:'\u001b[0m\u001b[0;34m,\u001b[0m \u001b[0mfull_url\u001b[0m\u001b[0;34m)\u001b[0m\u001b[0;34m\u001b[0m\u001b[0;34m\u001b[0m\u001b[0m\n\u001b[1;32m     15\u001b[0m         \u001b[0;31m# Normally, we'd store the results here too\u001b[0m\u001b[0;34m\u001b[0m\u001b[0;34m\u001b[0m\u001b[0;34m\u001b[0m\u001b[0m\n\u001b[0;32m---> 16\u001b[0;31m         \u001b[0mvisit\u001b[0m\u001b[0;34m(\u001b[0m\u001b[0mfull_url\u001b[0m\u001b[0;34m,\u001b[0m \u001b[0mlinks_seen\u001b[0m\u001b[0;34m)\u001b[0m\u001b[0;34m\u001b[0m\u001b[0;34m\u001b[0m\u001b[0m\n\u001b[0m\u001b[1;32m     17\u001b[0m \u001b[0;34m\u001b[0m\u001b[0m\n\u001b[1;32m     18\u001b[0m \u001b[0mvisit\u001b[0m\u001b[0;34m(\u001b[0m\u001b[0mbase_url\u001b[0m\u001b[0;34m,\u001b[0m \u001b[0mlinks_seen\u001b[0m\u001b[0;34m)\u001b[0m\u001b[0;34m\u001b[0m\u001b[0;34m\u001b[0m\u001b[0m\n",
      "\u001b[0;32m<ipython-input-2-43e773928b85>\u001b[0m in \u001b[0;36mvisit\u001b[0;34m(url, links_seen)\u001b[0m\n\u001b[1;32m     14\u001b[0m         \u001b[0mprint\u001b[0m\u001b[0;34m(\u001b[0m\u001b[0;34m'Found a new page:'\u001b[0m\u001b[0;34m,\u001b[0m \u001b[0mfull_url\u001b[0m\u001b[0;34m)\u001b[0m\u001b[0;34m\u001b[0m\u001b[0;34m\u001b[0m\u001b[0m\n\u001b[1;32m     15\u001b[0m         \u001b[0;31m# Normally, we'd store the results here too\u001b[0m\u001b[0;34m\u001b[0m\u001b[0;34m\u001b[0m\u001b[0;34m\u001b[0m\u001b[0m\n\u001b[0;32m---> 16\u001b[0;31m         \u001b[0mvisit\u001b[0m\u001b[0;34m(\u001b[0m\u001b[0mfull_url\u001b[0m\u001b[0;34m,\u001b[0m \u001b[0mlinks_seen\u001b[0m\u001b[0;34m)\u001b[0m\u001b[0;34m\u001b[0m\u001b[0;34m\u001b[0m\u001b[0m\n\u001b[0m\u001b[1;32m     17\u001b[0m \u001b[0;34m\u001b[0m\u001b[0m\n\u001b[1;32m     18\u001b[0m \u001b[0mvisit\u001b[0m\u001b[0;34m(\u001b[0m\u001b[0mbase_url\u001b[0m\u001b[0;34m,\u001b[0m \u001b[0mlinks_seen\u001b[0m\u001b[0;34m)\u001b[0m\u001b[0;34m\u001b[0m\u001b[0;34m\u001b[0m\u001b[0m\n",
      "\u001b[0;32m<ipython-input-2-43e773928b85>\u001b[0m in \u001b[0;36mvisit\u001b[0;34m(url, links_seen)\u001b[0m\n\u001b[1;32m     14\u001b[0m         \u001b[0mprint\u001b[0m\u001b[0;34m(\u001b[0m\u001b[0;34m'Found a new page:'\u001b[0m\u001b[0;34m,\u001b[0m \u001b[0mfull_url\u001b[0m\u001b[0;34m)\u001b[0m\u001b[0;34m\u001b[0m\u001b[0;34m\u001b[0m\u001b[0m\n\u001b[1;32m     15\u001b[0m         \u001b[0;31m# Normally, we'd store the results here too\u001b[0m\u001b[0;34m\u001b[0m\u001b[0;34m\u001b[0m\u001b[0;34m\u001b[0m\u001b[0m\n\u001b[0;32m---> 16\u001b[0;31m         \u001b[0mvisit\u001b[0m\u001b[0;34m(\u001b[0m\u001b[0mfull_url\u001b[0m\u001b[0;34m,\u001b[0m \u001b[0mlinks_seen\u001b[0m\u001b[0;34m)\u001b[0m\u001b[0;34m\u001b[0m\u001b[0;34m\u001b[0m\u001b[0m\n\u001b[0m\u001b[1;32m     17\u001b[0m \u001b[0;34m\u001b[0m\u001b[0m\n\u001b[1;32m     18\u001b[0m \u001b[0mvisit\u001b[0m\u001b[0;34m(\u001b[0m\u001b[0mbase_url\u001b[0m\u001b[0;34m,\u001b[0m \u001b[0mlinks_seen\u001b[0m\u001b[0;34m)\u001b[0m\u001b[0;34m\u001b[0m\u001b[0;34m\u001b[0m\u001b[0m\n",
      "\u001b[0;32m<ipython-input-2-43e773928b85>\u001b[0m in \u001b[0;36mvisit\u001b[0;34m(url, links_seen)\u001b[0m\n\u001b[1;32m     14\u001b[0m         \u001b[0mprint\u001b[0m\u001b[0;34m(\u001b[0m\u001b[0;34m'Found a new page:'\u001b[0m\u001b[0;34m,\u001b[0m \u001b[0mfull_url\u001b[0m\u001b[0;34m)\u001b[0m\u001b[0;34m\u001b[0m\u001b[0;34m\u001b[0m\u001b[0m\n\u001b[1;32m     15\u001b[0m         \u001b[0;31m# Normally, we'd store the results here too\u001b[0m\u001b[0;34m\u001b[0m\u001b[0;34m\u001b[0m\u001b[0;34m\u001b[0m\u001b[0m\n\u001b[0;32m---> 16\u001b[0;31m         \u001b[0mvisit\u001b[0m\u001b[0;34m(\u001b[0m\u001b[0mfull_url\u001b[0m\u001b[0;34m,\u001b[0m \u001b[0mlinks_seen\u001b[0m\u001b[0;34m)\u001b[0m\u001b[0;34m\u001b[0m\u001b[0;34m\u001b[0m\u001b[0m\n\u001b[0m\u001b[1;32m     17\u001b[0m \u001b[0;34m\u001b[0m\u001b[0m\n\u001b[1;32m     18\u001b[0m \u001b[0mvisit\u001b[0m\u001b[0;34m(\u001b[0m\u001b[0mbase_url\u001b[0m\u001b[0;34m,\u001b[0m \u001b[0mlinks_seen\u001b[0m\u001b[0;34m)\u001b[0m\u001b[0;34m\u001b[0m\u001b[0;34m\u001b[0m\u001b[0m\n",
      "\u001b[0;32m<ipython-input-2-43e773928b85>\u001b[0m in \u001b[0;36mvisit\u001b[0;34m(url, links_seen)\u001b[0m\n\u001b[1;32m     14\u001b[0m         \u001b[0mprint\u001b[0m\u001b[0;34m(\u001b[0m\u001b[0;34m'Found a new page:'\u001b[0m\u001b[0;34m,\u001b[0m \u001b[0mfull_url\u001b[0m\u001b[0;34m)\u001b[0m\u001b[0;34m\u001b[0m\u001b[0;34m\u001b[0m\u001b[0m\n\u001b[1;32m     15\u001b[0m         \u001b[0;31m# Normally, we'd store the results here too\u001b[0m\u001b[0;34m\u001b[0m\u001b[0;34m\u001b[0m\u001b[0;34m\u001b[0m\u001b[0m\n\u001b[0;32m---> 16\u001b[0;31m         \u001b[0mvisit\u001b[0m\u001b[0;34m(\u001b[0m\u001b[0mfull_url\u001b[0m\u001b[0;34m,\u001b[0m \u001b[0mlinks_seen\u001b[0m\u001b[0;34m)\u001b[0m\u001b[0;34m\u001b[0m\u001b[0;34m\u001b[0m\u001b[0m\n\u001b[0m\u001b[1;32m     17\u001b[0m \u001b[0;34m\u001b[0m\u001b[0m\n\u001b[1;32m     18\u001b[0m \u001b[0mvisit\u001b[0m\u001b[0;34m(\u001b[0m\u001b[0mbase_url\u001b[0m\u001b[0;34m,\u001b[0m \u001b[0mlinks_seen\u001b[0m\u001b[0;34m)\u001b[0m\u001b[0;34m\u001b[0m\u001b[0;34m\u001b[0m\u001b[0m\n",
      "\u001b[0;32m<ipython-input-2-43e773928b85>\u001b[0m in \u001b[0;36mvisit\u001b[0;34m(url, links_seen)\u001b[0m\n\u001b[1;32m     14\u001b[0m         \u001b[0mprint\u001b[0m\u001b[0;34m(\u001b[0m\u001b[0;34m'Found a new page:'\u001b[0m\u001b[0;34m,\u001b[0m \u001b[0mfull_url\u001b[0m\u001b[0;34m)\u001b[0m\u001b[0;34m\u001b[0m\u001b[0;34m\u001b[0m\u001b[0m\n\u001b[1;32m     15\u001b[0m         \u001b[0;31m# Normally, we'd store the results here too\u001b[0m\u001b[0;34m\u001b[0m\u001b[0;34m\u001b[0m\u001b[0;34m\u001b[0m\u001b[0m\n\u001b[0;32m---> 16\u001b[0;31m         \u001b[0mvisit\u001b[0m\u001b[0;34m(\u001b[0m\u001b[0mfull_url\u001b[0m\u001b[0;34m,\u001b[0m \u001b[0mlinks_seen\u001b[0m\u001b[0;34m)\u001b[0m\u001b[0;34m\u001b[0m\u001b[0;34m\u001b[0m\u001b[0m\n\u001b[0m\u001b[1;32m     17\u001b[0m \u001b[0;34m\u001b[0m\u001b[0m\n\u001b[1;32m     18\u001b[0m \u001b[0mvisit\u001b[0m\u001b[0;34m(\u001b[0m\u001b[0mbase_url\u001b[0m\u001b[0;34m,\u001b[0m \u001b[0mlinks_seen\u001b[0m\u001b[0;34m)\u001b[0m\u001b[0;34m\u001b[0m\u001b[0;34m\u001b[0m\u001b[0m\n",
      "\u001b[0;32m<ipython-input-2-43e773928b85>\u001b[0m in \u001b[0;36mvisit\u001b[0;34m(url, links_seen)\u001b[0m\n\u001b[1;32m     14\u001b[0m         \u001b[0mprint\u001b[0m\u001b[0;34m(\u001b[0m\u001b[0;34m'Found a new page:'\u001b[0m\u001b[0;34m,\u001b[0m \u001b[0mfull_url\u001b[0m\u001b[0;34m)\u001b[0m\u001b[0;34m\u001b[0m\u001b[0;34m\u001b[0m\u001b[0m\n\u001b[1;32m     15\u001b[0m         \u001b[0;31m# Normally, we'd store the results here too\u001b[0m\u001b[0;34m\u001b[0m\u001b[0;34m\u001b[0m\u001b[0;34m\u001b[0m\u001b[0m\n\u001b[0;32m---> 16\u001b[0;31m         \u001b[0mvisit\u001b[0m\u001b[0;34m(\u001b[0m\u001b[0mfull_url\u001b[0m\u001b[0;34m,\u001b[0m \u001b[0mlinks_seen\u001b[0m\u001b[0;34m)\u001b[0m\u001b[0;34m\u001b[0m\u001b[0;34m\u001b[0m\u001b[0m\n\u001b[0m\u001b[1;32m     17\u001b[0m \u001b[0;34m\u001b[0m\u001b[0m\n\u001b[1;32m     18\u001b[0m \u001b[0mvisit\u001b[0m\u001b[0;34m(\u001b[0m\u001b[0mbase_url\u001b[0m\u001b[0;34m,\u001b[0m \u001b[0mlinks_seen\u001b[0m\u001b[0;34m)\u001b[0m\u001b[0;34m\u001b[0m\u001b[0;34m\u001b[0m\u001b[0m\n",
      "\u001b[0;32m<ipython-input-2-43e773928b85>\u001b[0m in \u001b[0;36mvisit\u001b[0;34m(url, links_seen)\u001b[0m\n\u001b[1;32m     14\u001b[0m         \u001b[0mprint\u001b[0m\u001b[0;34m(\u001b[0m\u001b[0;34m'Found a new page:'\u001b[0m\u001b[0;34m,\u001b[0m \u001b[0mfull_url\u001b[0m\u001b[0;34m)\u001b[0m\u001b[0;34m\u001b[0m\u001b[0;34m\u001b[0m\u001b[0m\n\u001b[1;32m     15\u001b[0m         \u001b[0;31m# Normally, we'd store the results here too\u001b[0m\u001b[0;34m\u001b[0m\u001b[0;34m\u001b[0m\u001b[0;34m\u001b[0m\u001b[0m\n\u001b[0;32m---> 16\u001b[0;31m         \u001b[0mvisit\u001b[0m\u001b[0;34m(\u001b[0m\u001b[0mfull_url\u001b[0m\u001b[0;34m,\u001b[0m \u001b[0mlinks_seen\u001b[0m\u001b[0;34m)\u001b[0m\u001b[0;34m\u001b[0m\u001b[0;34m\u001b[0m\u001b[0m\n\u001b[0m\u001b[1;32m     17\u001b[0m \u001b[0;34m\u001b[0m\u001b[0m\n\u001b[1;32m     18\u001b[0m \u001b[0mvisit\u001b[0m\u001b[0;34m(\u001b[0m\u001b[0mbase_url\u001b[0m\u001b[0;34m,\u001b[0m \u001b[0mlinks_seen\u001b[0m\u001b[0;34m)\u001b[0m\u001b[0;34m\u001b[0m\u001b[0;34m\u001b[0m\u001b[0m\n",
      "\u001b[0;32m<ipython-input-2-43e773928b85>\u001b[0m in \u001b[0;36mvisit\u001b[0;34m(url, links_seen)\u001b[0m\n\u001b[1;32m     14\u001b[0m         \u001b[0mprint\u001b[0m\u001b[0;34m(\u001b[0m\u001b[0;34m'Found a new page:'\u001b[0m\u001b[0;34m,\u001b[0m \u001b[0mfull_url\u001b[0m\u001b[0;34m)\u001b[0m\u001b[0;34m\u001b[0m\u001b[0;34m\u001b[0m\u001b[0m\n\u001b[1;32m     15\u001b[0m         \u001b[0;31m# Normally, we'd store the results here too\u001b[0m\u001b[0;34m\u001b[0m\u001b[0;34m\u001b[0m\u001b[0;34m\u001b[0m\u001b[0m\n\u001b[0;32m---> 16\u001b[0;31m         \u001b[0mvisit\u001b[0m\u001b[0;34m(\u001b[0m\u001b[0mfull_url\u001b[0m\u001b[0;34m,\u001b[0m \u001b[0mlinks_seen\u001b[0m\u001b[0;34m)\u001b[0m\u001b[0;34m\u001b[0m\u001b[0;34m\u001b[0m\u001b[0m\n\u001b[0m\u001b[1;32m     17\u001b[0m \u001b[0;34m\u001b[0m\u001b[0m\n\u001b[1;32m     18\u001b[0m \u001b[0mvisit\u001b[0m\u001b[0;34m(\u001b[0m\u001b[0mbase_url\u001b[0m\u001b[0;34m,\u001b[0m \u001b[0mlinks_seen\u001b[0m\u001b[0;34m)\u001b[0m\u001b[0;34m\u001b[0m\u001b[0;34m\u001b[0m\u001b[0m\n",
      "\u001b[0;32m<ipython-input-2-43e773928b85>\u001b[0m in \u001b[0;36mvisit\u001b[0;34m(url, links_seen)\u001b[0m\n\u001b[1;32m     14\u001b[0m         \u001b[0mprint\u001b[0m\u001b[0;34m(\u001b[0m\u001b[0;34m'Found a new page:'\u001b[0m\u001b[0;34m,\u001b[0m \u001b[0mfull_url\u001b[0m\u001b[0;34m)\u001b[0m\u001b[0;34m\u001b[0m\u001b[0;34m\u001b[0m\u001b[0m\n\u001b[1;32m     15\u001b[0m         \u001b[0;31m# Normally, we'd store the results here too\u001b[0m\u001b[0;34m\u001b[0m\u001b[0;34m\u001b[0m\u001b[0;34m\u001b[0m\u001b[0m\n\u001b[0;32m---> 16\u001b[0;31m         \u001b[0mvisit\u001b[0m\u001b[0;34m(\u001b[0m\u001b[0mfull_url\u001b[0m\u001b[0;34m,\u001b[0m \u001b[0mlinks_seen\u001b[0m\u001b[0;34m)\u001b[0m\u001b[0;34m\u001b[0m\u001b[0;34m\u001b[0m\u001b[0m\n\u001b[0m\u001b[1;32m     17\u001b[0m \u001b[0;34m\u001b[0m\u001b[0m\n\u001b[1;32m     18\u001b[0m \u001b[0mvisit\u001b[0m\u001b[0;34m(\u001b[0m\u001b[0mbase_url\u001b[0m\u001b[0;34m,\u001b[0m \u001b[0mlinks_seen\u001b[0m\u001b[0;34m)\u001b[0m\u001b[0;34m\u001b[0m\u001b[0;34m\u001b[0m\u001b[0m\n",
      "\u001b[0;32m<ipython-input-2-43e773928b85>\u001b[0m in \u001b[0;36mvisit\u001b[0;34m(url, links_seen)\u001b[0m\n\u001b[1;32m     14\u001b[0m         \u001b[0mprint\u001b[0m\u001b[0;34m(\u001b[0m\u001b[0;34m'Found a new page:'\u001b[0m\u001b[0;34m,\u001b[0m \u001b[0mfull_url\u001b[0m\u001b[0;34m)\u001b[0m\u001b[0;34m\u001b[0m\u001b[0;34m\u001b[0m\u001b[0m\n\u001b[1;32m     15\u001b[0m         \u001b[0;31m# Normally, we'd store the results here too\u001b[0m\u001b[0;34m\u001b[0m\u001b[0;34m\u001b[0m\u001b[0;34m\u001b[0m\u001b[0m\n\u001b[0;32m---> 16\u001b[0;31m         \u001b[0mvisit\u001b[0m\u001b[0;34m(\u001b[0m\u001b[0mfull_url\u001b[0m\u001b[0;34m,\u001b[0m \u001b[0mlinks_seen\u001b[0m\u001b[0;34m)\u001b[0m\u001b[0;34m\u001b[0m\u001b[0;34m\u001b[0m\u001b[0m\n\u001b[0m\u001b[1;32m     17\u001b[0m \u001b[0;34m\u001b[0m\u001b[0m\n\u001b[1;32m     18\u001b[0m \u001b[0mvisit\u001b[0m\u001b[0;34m(\u001b[0m\u001b[0mbase_url\u001b[0m\u001b[0;34m,\u001b[0m \u001b[0mlinks_seen\u001b[0m\u001b[0;34m)\u001b[0m\u001b[0;34m\u001b[0m\u001b[0;34m\u001b[0m\u001b[0m\n",
      "\u001b[0;32m<ipython-input-2-43e773928b85>\u001b[0m in \u001b[0;36mvisit\u001b[0;34m(url, links_seen)\u001b[0m\n\u001b[1;32m     14\u001b[0m         \u001b[0mprint\u001b[0m\u001b[0;34m(\u001b[0m\u001b[0;34m'Found a new page:'\u001b[0m\u001b[0;34m,\u001b[0m \u001b[0mfull_url\u001b[0m\u001b[0;34m)\u001b[0m\u001b[0;34m\u001b[0m\u001b[0;34m\u001b[0m\u001b[0m\n\u001b[1;32m     15\u001b[0m         \u001b[0;31m# Normally, we'd store the results here too\u001b[0m\u001b[0;34m\u001b[0m\u001b[0;34m\u001b[0m\u001b[0;34m\u001b[0m\u001b[0m\n\u001b[0;32m---> 16\u001b[0;31m         \u001b[0mvisit\u001b[0m\u001b[0;34m(\u001b[0m\u001b[0mfull_url\u001b[0m\u001b[0;34m,\u001b[0m \u001b[0mlinks_seen\u001b[0m\u001b[0;34m)\u001b[0m\u001b[0;34m\u001b[0m\u001b[0;34m\u001b[0m\u001b[0m\n\u001b[0m\u001b[1;32m     17\u001b[0m \u001b[0;34m\u001b[0m\u001b[0m\n\u001b[1;32m     18\u001b[0m \u001b[0mvisit\u001b[0m\u001b[0;34m(\u001b[0m\u001b[0mbase_url\u001b[0m\u001b[0;34m,\u001b[0m \u001b[0mlinks_seen\u001b[0m\u001b[0;34m)\u001b[0m\u001b[0;34m\u001b[0m\u001b[0;34m\u001b[0m\u001b[0m\n",
      "\u001b[0;32m<ipython-input-2-43e773928b85>\u001b[0m in \u001b[0;36mvisit\u001b[0;34m(url, links_seen)\u001b[0m\n\u001b[1;32m     14\u001b[0m         \u001b[0mprint\u001b[0m\u001b[0;34m(\u001b[0m\u001b[0;34m'Found a new page:'\u001b[0m\u001b[0;34m,\u001b[0m \u001b[0mfull_url\u001b[0m\u001b[0;34m)\u001b[0m\u001b[0;34m\u001b[0m\u001b[0;34m\u001b[0m\u001b[0m\n\u001b[1;32m     15\u001b[0m         \u001b[0;31m# Normally, we'd store the results here too\u001b[0m\u001b[0;34m\u001b[0m\u001b[0;34m\u001b[0m\u001b[0;34m\u001b[0m\u001b[0m\n\u001b[0;32m---> 16\u001b[0;31m         \u001b[0mvisit\u001b[0m\u001b[0;34m(\u001b[0m\u001b[0mfull_url\u001b[0m\u001b[0;34m,\u001b[0m \u001b[0mlinks_seen\u001b[0m\u001b[0;34m)\u001b[0m\u001b[0;34m\u001b[0m\u001b[0;34m\u001b[0m\u001b[0m\n\u001b[0m\u001b[1;32m     17\u001b[0m \u001b[0;34m\u001b[0m\u001b[0m\n\u001b[1;32m     18\u001b[0m \u001b[0mvisit\u001b[0m\u001b[0;34m(\u001b[0m\u001b[0mbase_url\u001b[0m\u001b[0;34m,\u001b[0m \u001b[0mlinks_seen\u001b[0m\u001b[0;34m)\u001b[0m\u001b[0;34m\u001b[0m\u001b[0;34m\u001b[0m\u001b[0m\n",
      "\u001b[0;32m<ipython-input-2-43e773928b85>\u001b[0m in \u001b[0;36mvisit\u001b[0;34m(url, links_seen)\u001b[0m\n\u001b[1;32m     14\u001b[0m         \u001b[0mprint\u001b[0m\u001b[0;34m(\u001b[0m\u001b[0;34m'Found a new page:'\u001b[0m\u001b[0;34m,\u001b[0m \u001b[0mfull_url\u001b[0m\u001b[0;34m)\u001b[0m\u001b[0;34m\u001b[0m\u001b[0;34m\u001b[0m\u001b[0m\n\u001b[1;32m     15\u001b[0m         \u001b[0;31m# Normally, we'd store the results here too\u001b[0m\u001b[0;34m\u001b[0m\u001b[0;34m\u001b[0m\u001b[0;34m\u001b[0m\u001b[0m\n\u001b[0;32m---> 16\u001b[0;31m         \u001b[0mvisit\u001b[0m\u001b[0;34m(\u001b[0m\u001b[0mfull_url\u001b[0m\u001b[0;34m,\u001b[0m \u001b[0mlinks_seen\u001b[0m\u001b[0;34m)\u001b[0m\u001b[0;34m\u001b[0m\u001b[0;34m\u001b[0m\u001b[0m\n\u001b[0m\u001b[1;32m     17\u001b[0m \u001b[0;34m\u001b[0m\u001b[0m\n\u001b[1;32m     18\u001b[0m \u001b[0mvisit\u001b[0m\u001b[0;34m(\u001b[0m\u001b[0mbase_url\u001b[0m\u001b[0;34m,\u001b[0m \u001b[0mlinks_seen\u001b[0m\u001b[0;34m)\u001b[0m\u001b[0;34m\u001b[0m\u001b[0;34m\u001b[0m\u001b[0m\n",
      "\u001b[0;32m<ipython-input-2-43e773928b85>\u001b[0m in \u001b[0;36mvisit\u001b[0;34m(url, links_seen)\u001b[0m\n\u001b[1;32m     14\u001b[0m         \u001b[0mprint\u001b[0m\u001b[0;34m(\u001b[0m\u001b[0;34m'Found a new page:'\u001b[0m\u001b[0;34m,\u001b[0m \u001b[0mfull_url\u001b[0m\u001b[0;34m)\u001b[0m\u001b[0;34m\u001b[0m\u001b[0;34m\u001b[0m\u001b[0m\n\u001b[1;32m     15\u001b[0m         \u001b[0;31m# Normally, we'd store the results here too\u001b[0m\u001b[0;34m\u001b[0m\u001b[0;34m\u001b[0m\u001b[0;34m\u001b[0m\u001b[0m\n\u001b[0;32m---> 16\u001b[0;31m         \u001b[0mvisit\u001b[0m\u001b[0;34m(\u001b[0m\u001b[0mfull_url\u001b[0m\u001b[0;34m,\u001b[0m \u001b[0mlinks_seen\u001b[0m\u001b[0;34m)\u001b[0m\u001b[0;34m\u001b[0m\u001b[0;34m\u001b[0m\u001b[0m\n\u001b[0m\u001b[1;32m     17\u001b[0m \u001b[0;34m\u001b[0m\u001b[0m\n\u001b[1;32m     18\u001b[0m \u001b[0mvisit\u001b[0m\u001b[0;34m(\u001b[0m\u001b[0mbase_url\u001b[0m\u001b[0;34m,\u001b[0m \u001b[0mlinks_seen\u001b[0m\u001b[0;34m)\u001b[0m\u001b[0;34m\u001b[0m\u001b[0;34m\u001b[0m\u001b[0m\n",
      "\u001b[0;32m<ipython-input-2-43e773928b85>\u001b[0m in \u001b[0;36mvisit\u001b[0;34m(url, links_seen)\u001b[0m\n\u001b[1;32m     14\u001b[0m         \u001b[0mprint\u001b[0m\u001b[0;34m(\u001b[0m\u001b[0;34m'Found a new page:'\u001b[0m\u001b[0;34m,\u001b[0m \u001b[0mfull_url\u001b[0m\u001b[0;34m)\u001b[0m\u001b[0;34m\u001b[0m\u001b[0;34m\u001b[0m\u001b[0m\n\u001b[1;32m     15\u001b[0m         \u001b[0;31m# Normally, we'd store the results here too\u001b[0m\u001b[0;34m\u001b[0m\u001b[0;34m\u001b[0m\u001b[0;34m\u001b[0m\u001b[0m\n\u001b[0;32m---> 16\u001b[0;31m         \u001b[0mvisit\u001b[0m\u001b[0;34m(\u001b[0m\u001b[0mfull_url\u001b[0m\u001b[0;34m,\u001b[0m \u001b[0mlinks_seen\u001b[0m\u001b[0;34m)\u001b[0m\u001b[0;34m\u001b[0m\u001b[0;34m\u001b[0m\u001b[0m\n\u001b[0m\u001b[1;32m     17\u001b[0m \u001b[0;34m\u001b[0m\u001b[0m\n\u001b[1;32m     18\u001b[0m \u001b[0mvisit\u001b[0m\u001b[0;34m(\u001b[0m\u001b[0mbase_url\u001b[0m\u001b[0;34m,\u001b[0m \u001b[0mlinks_seen\u001b[0m\u001b[0;34m)\u001b[0m\u001b[0;34m\u001b[0m\u001b[0;34m\u001b[0m\u001b[0m\n",
      "\u001b[0;32m<ipython-input-2-43e773928b85>\u001b[0m in \u001b[0;36mvisit\u001b[0;34m(url, links_seen)\u001b[0m\n\u001b[1;32m     14\u001b[0m         \u001b[0mprint\u001b[0m\u001b[0;34m(\u001b[0m\u001b[0;34m'Found a new page:'\u001b[0m\u001b[0;34m,\u001b[0m \u001b[0mfull_url\u001b[0m\u001b[0;34m)\u001b[0m\u001b[0;34m\u001b[0m\u001b[0;34m\u001b[0m\u001b[0m\n\u001b[1;32m     15\u001b[0m         \u001b[0;31m# Normally, we'd store the results here too\u001b[0m\u001b[0;34m\u001b[0m\u001b[0;34m\u001b[0m\u001b[0;34m\u001b[0m\u001b[0m\n\u001b[0;32m---> 16\u001b[0;31m         \u001b[0mvisit\u001b[0m\u001b[0;34m(\u001b[0m\u001b[0mfull_url\u001b[0m\u001b[0;34m,\u001b[0m \u001b[0mlinks_seen\u001b[0m\u001b[0;34m)\u001b[0m\u001b[0;34m\u001b[0m\u001b[0;34m\u001b[0m\u001b[0m\n\u001b[0m\u001b[1;32m     17\u001b[0m \u001b[0;34m\u001b[0m\u001b[0m\n\u001b[1;32m     18\u001b[0m \u001b[0mvisit\u001b[0m\u001b[0;34m(\u001b[0m\u001b[0mbase_url\u001b[0m\u001b[0;34m,\u001b[0m \u001b[0mlinks_seen\u001b[0m\u001b[0;34m)\u001b[0m\u001b[0;34m\u001b[0m\u001b[0;34m\u001b[0m\u001b[0m\n",
      "\u001b[0;32m<ipython-input-2-43e773928b85>\u001b[0m in \u001b[0;36mvisit\u001b[0;34m(url, links_seen)\u001b[0m\n\u001b[1;32m     14\u001b[0m         \u001b[0mprint\u001b[0m\u001b[0;34m(\u001b[0m\u001b[0;34m'Found a new page:'\u001b[0m\u001b[0;34m,\u001b[0m \u001b[0mfull_url\u001b[0m\u001b[0;34m)\u001b[0m\u001b[0;34m\u001b[0m\u001b[0;34m\u001b[0m\u001b[0m\n\u001b[1;32m     15\u001b[0m         \u001b[0;31m# Normally, we'd store the results here too\u001b[0m\u001b[0;34m\u001b[0m\u001b[0;34m\u001b[0m\u001b[0;34m\u001b[0m\u001b[0m\n\u001b[0;32m---> 16\u001b[0;31m         \u001b[0mvisit\u001b[0m\u001b[0;34m(\u001b[0m\u001b[0mfull_url\u001b[0m\u001b[0;34m,\u001b[0m \u001b[0mlinks_seen\u001b[0m\u001b[0;34m)\u001b[0m\u001b[0;34m\u001b[0m\u001b[0;34m\u001b[0m\u001b[0m\n\u001b[0m\u001b[1;32m     17\u001b[0m \u001b[0;34m\u001b[0m\u001b[0m\n\u001b[1;32m     18\u001b[0m \u001b[0mvisit\u001b[0m\u001b[0;34m(\u001b[0m\u001b[0mbase_url\u001b[0m\u001b[0;34m,\u001b[0m \u001b[0mlinks_seen\u001b[0m\u001b[0;34m)\u001b[0m\u001b[0;34m\u001b[0m\u001b[0;34m\u001b[0m\u001b[0m\n",
      "\u001b[0;32m<ipython-input-2-43e773928b85>\u001b[0m in \u001b[0;36mvisit\u001b[0;34m(url, links_seen)\u001b[0m\n\u001b[1;32m     14\u001b[0m         \u001b[0mprint\u001b[0m\u001b[0;34m(\u001b[0m\u001b[0;34m'Found a new page:'\u001b[0m\u001b[0;34m,\u001b[0m \u001b[0mfull_url\u001b[0m\u001b[0;34m)\u001b[0m\u001b[0;34m\u001b[0m\u001b[0;34m\u001b[0m\u001b[0m\n\u001b[1;32m     15\u001b[0m         \u001b[0;31m# Normally, we'd store the results here too\u001b[0m\u001b[0;34m\u001b[0m\u001b[0;34m\u001b[0m\u001b[0;34m\u001b[0m\u001b[0m\n\u001b[0;32m---> 16\u001b[0;31m         \u001b[0mvisit\u001b[0m\u001b[0;34m(\u001b[0m\u001b[0mfull_url\u001b[0m\u001b[0;34m,\u001b[0m \u001b[0mlinks_seen\u001b[0m\u001b[0;34m)\u001b[0m\u001b[0;34m\u001b[0m\u001b[0;34m\u001b[0m\u001b[0m\n\u001b[0m\u001b[1;32m     17\u001b[0m \u001b[0;34m\u001b[0m\u001b[0m\n\u001b[1;32m     18\u001b[0m \u001b[0mvisit\u001b[0m\u001b[0;34m(\u001b[0m\u001b[0mbase_url\u001b[0m\u001b[0;34m,\u001b[0m \u001b[0mlinks_seen\u001b[0m\u001b[0;34m)\u001b[0m\u001b[0;34m\u001b[0m\u001b[0;34m\u001b[0m\u001b[0m\n",
      "\u001b[0;32m<ipython-input-2-43e773928b85>\u001b[0m in \u001b[0;36mvisit\u001b[0;34m(url, links_seen)\u001b[0m\n\u001b[1;32m     14\u001b[0m         \u001b[0mprint\u001b[0m\u001b[0;34m(\u001b[0m\u001b[0;34m'Found a new page:'\u001b[0m\u001b[0;34m,\u001b[0m \u001b[0mfull_url\u001b[0m\u001b[0;34m)\u001b[0m\u001b[0;34m\u001b[0m\u001b[0;34m\u001b[0m\u001b[0m\n\u001b[1;32m     15\u001b[0m         \u001b[0;31m# Normally, we'd store the results here too\u001b[0m\u001b[0;34m\u001b[0m\u001b[0;34m\u001b[0m\u001b[0;34m\u001b[0m\u001b[0m\n\u001b[0;32m---> 16\u001b[0;31m         \u001b[0mvisit\u001b[0m\u001b[0;34m(\u001b[0m\u001b[0mfull_url\u001b[0m\u001b[0;34m,\u001b[0m \u001b[0mlinks_seen\u001b[0m\u001b[0;34m)\u001b[0m\u001b[0;34m\u001b[0m\u001b[0;34m\u001b[0m\u001b[0m\n\u001b[0m\u001b[1;32m     17\u001b[0m \u001b[0;34m\u001b[0m\u001b[0m\n\u001b[1;32m     18\u001b[0m \u001b[0mvisit\u001b[0m\u001b[0;34m(\u001b[0m\u001b[0mbase_url\u001b[0m\u001b[0;34m,\u001b[0m \u001b[0mlinks_seen\u001b[0m\u001b[0;34m)\u001b[0m\u001b[0;34m\u001b[0m\u001b[0;34m\u001b[0m\u001b[0m\n",
      "\u001b[0;32m<ipython-input-2-43e773928b85>\u001b[0m in \u001b[0;36mvisit\u001b[0;34m(url, links_seen)\u001b[0m\n\u001b[1;32m     14\u001b[0m         \u001b[0mprint\u001b[0m\u001b[0;34m(\u001b[0m\u001b[0;34m'Found a new page:'\u001b[0m\u001b[0;34m,\u001b[0m \u001b[0mfull_url\u001b[0m\u001b[0;34m)\u001b[0m\u001b[0;34m\u001b[0m\u001b[0;34m\u001b[0m\u001b[0m\n\u001b[1;32m     15\u001b[0m         \u001b[0;31m# Normally, we'd store the results here too\u001b[0m\u001b[0;34m\u001b[0m\u001b[0;34m\u001b[0m\u001b[0;34m\u001b[0m\u001b[0m\n\u001b[0;32m---> 16\u001b[0;31m         \u001b[0mvisit\u001b[0m\u001b[0;34m(\u001b[0m\u001b[0mfull_url\u001b[0m\u001b[0;34m,\u001b[0m \u001b[0mlinks_seen\u001b[0m\u001b[0;34m)\u001b[0m\u001b[0;34m\u001b[0m\u001b[0;34m\u001b[0m\u001b[0m\n\u001b[0m\u001b[1;32m     17\u001b[0m \u001b[0;34m\u001b[0m\u001b[0m\n\u001b[1;32m     18\u001b[0m \u001b[0mvisit\u001b[0m\u001b[0;34m(\u001b[0m\u001b[0mbase_url\u001b[0m\u001b[0;34m,\u001b[0m \u001b[0mlinks_seen\u001b[0m\u001b[0;34m)\u001b[0m\u001b[0;34m\u001b[0m\u001b[0;34m\u001b[0m\u001b[0m\n",
      "\u001b[0;32m<ipython-input-2-43e773928b85>\u001b[0m in \u001b[0;36mvisit\u001b[0;34m(url, links_seen)\u001b[0m\n\u001b[1;32m     14\u001b[0m         \u001b[0mprint\u001b[0m\u001b[0;34m(\u001b[0m\u001b[0;34m'Found a new page:'\u001b[0m\u001b[0;34m,\u001b[0m \u001b[0mfull_url\u001b[0m\u001b[0;34m)\u001b[0m\u001b[0;34m\u001b[0m\u001b[0;34m\u001b[0m\u001b[0m\n\u001b[1;32m     15\u001b[0m         \u001b[0;31m# Normally, we'd store the results here too\u001b[0m\u001b[0;34m\u001b[0m\u001b[0;34m\u001b[0m\u001b[0;34m\u001b[0m\u001b[0m\n\u001b[0;32m---> 16\u001b[0;31m         \u001b[0mvisit\u001b[0m\u001b[0;34m(\u001b[0m\u001b[0mfull_url\u001b[0m\u001b[0;34m,\u001b[0m \u001b[0mlinks_seen\u001b[0m\u001b[0;34m)\u001b[0m\u001b[0;34m\u001b[0m\u001b[0;34m\u001b[0m\u001b[0m\n\u001b[0m\u001b[1;32m     17\u001b[0m \u001b[0;34m\u001b[0m\u001b[0m\n\u001b[1;32m     18\u001b[0m \u001b[0mvisit\u001b[0m\u001b[0;34m(\u001b[0m\u001b[0mbase_url\u001b[0m\u001b[0;34m,\u001b[0m \u001b[0mlinks_seen\u001b[0m\u001b[0;34m)\u001b[0m\u001b[0;34m\u001b[0m\u001b[0;34m\u001b[0m\u001b[0m\n",
      "\u001b[0;32m<ipython-input-2-43e773928b85>\u001b[0m in \u001b[0;36mvisit\u001b[0;34m(url, links_seen)\u001b[0m\n\u001b[1;32m     14\u001b[0m         \u001b[0mprint\u001b[0m\u001b[0;34m(\u001b[0m\u001b[0;34m'Found a new page:'\u001b[0m\u001b[0;34m,\u001b[0m \u001b[0mfull_url\u001b[0m\u001b[0;34m)\u001b[0m\u001b[0;34m\u001b[0m\u001b[0;34m\u001b[0m\u001b[0m\n\u001b[1;32m     15\u001b[0m         \u001b[0;31m# Normally, we'd store the results here too\u001b[0m\u001b[0;34m\u001b[0m\u001b[0;34m\u001b[0m\u001b[0;34m\u001b[0m\u001b[0m\n\u001b[0;32m---> 16\u001b[0;31m         \u001b[0mvisit\u001b[0m\u001b[0;34m(\u001b[0m\u001b[0mfull_url\u001b[0m\u001b[0;34m,\u001b[0m \u001b[0mlinks_seen\u001b[0m\u001b[0;34m)\u001b[0m\u001b[0;34m\u001b[0m\u001b[0;34m\u001b[0m\u001b[0m\n\u001b[0m\u001b[1;32m     17\u001b[0m \u001b[0;34m\u001b[0m\u001b[0m\n\u001b[1;32m     18\u001b[0m \u001b[0mvisit\u001b[0m\u001b[0;34m(\u001b[0m\u001b[0mbase_url\u001b[0m\u001b[0;34m,\u001b[0m \u001b[0mlinks_seen\u001b[0m\u001b[0;34m)\u001b[0m\u001b[0;34m\u001b[0m\u001b[0;34m\u001b[0m\u001b[0m\n",
      "\u001b[0;32m<ipython-input-2-43e773928b85>\u001b[0m in \u001b[0;36mvisit\u001b[0;34m(url, links_seen)\u001b[0m\n\u001b[1;32m     14\u001b[0m         \u001b[0mprint\u001b[0m\u001b[0;34m(\u001b[0m\u001b[0;34m'Found a new page:'\u001b[0m\u001b[0;34m,\u001b[0m \u001b[0mfull_url\u001b[0m\u001b[0;34m)\u001b[0m\u001b[0;34m\u001b[0m\u001b[0;34m\u001b[0m\u001b[0m\n\u001b[1;32m     15\u001b[0m         \u001b[0;31m# Normally, we'd store the results here too\u001b[0m\u001b[0;34m\u001b[0m\u001b[0;34m\u001b[0m\u001b[0;34m\u001b[0m\u001b[0m\n\u001b[0;32m---> 16\u001b[0;31m         \u001b[0mvisit\u001b[0m\u001b[0;34m(\u001b[0m\u001b[0mfull_url\u001b[0m\u001b[0;34m,\u001b[0m \u001b[0mlinks_seen\u001b[0m\u001b[0;34m)\u001b[0m\u001b[0;34m\u001b[0m\u001b[0;34m\u001b[0m\u001b[0m\n\u001b[0m\u001b[1;32m     17\u001b[0m \u001b[0;34m\u001b[0m\u001b[0m\n\u001b[1;32m     18\u001b[0m \u001b[0mvisit\u001b[0m\u001b[0;34m(\u001b[0m\u001b[0mbase_url\u001b[0m\u001b[0;34m,\u001b[0m \u001b[0mlinks_seen\u001b[0m\u001b[0;34m)\u001b[0m\u001b[0;34m\u001b[0m\u001b[0;34m\u001b[0m\u001b[0m\n",
      "\u001b[0;32m<ipython-input-2-43e773928b85>\u001b[0m in \u001b[0;36mvisit\u001b[0;34m(url, links_seen)\u001b[0m\n\u001b[1;32m     14\u001b[0m         \u001b[0mprint\u001b[0m\u001b[0;34m(\u001b[0m\u001b[0;34m'Found a new page:'\u001b[0m\u001b[0;34m,\u001b[0m \u001b[0mfull_url\u001b[0m\u001b[0;34m)\u001b[0m\u001b[0;34m\u001b[0m\u001b[0;34m\u001b[0m\u001b[0m\n\u001b[1;32m     15\u001b[0m         \u001b[0;31m# Normally, we'd store the results here too\u001b[0m\u001b[0;34m\u001b[0m\u001b[0;34m\u001b[0m\u001b[0;34m\u001b[0m\u001b[0m\n\u001b[0;32m---> 16\u001b[0;31m         \u001b[0mvisit\u001b[0m\u001b[0;34m(\u001b[0m\u001b[0mfull_url\u001b[0m\u001b[0;34m,\u001b[0m \u001b[0mlinks_seen\u001b[0m\u001b[0;34m)\u001b[0m\u001b[0;34m\u001b[0m\u001b[0;34m\u001b[0m\u001b[0m\n\u001b[0m\u001b[1;32m     17\u001b[0m \u001b[0;34m\u001b[0m\u001b[0m\n\u001b[1;32m     18\u001b[0m \u001b[0mvisit\u001b[0m\u001b[0;34m(\u001b[0m\u001b[0mbase_url\u001b[0m\u001b[0;34m,\u001b[0m \u001b[0mlinks_seen\u001b[0m\u001b[0;34m)\u001b[0m\u001b[0;34m\u001b[0m\u001b[0;34m\u001b[0m\u001b[0m\n",
      "\u001b[0;32m<ipython-input-2-43e773928b85>\u001b[0m in \u001b[0;36mvisit\u001b[0;34m(url, links_seen)\u001b[0m\n\u001b[1;32m     14\u001b[0m         \u001b[0mprint\u001b[0m\u001b[0;34m(\u001b[0m\u001b[0;34m'Found a new page:'\u001b[0m\u001b[0;34m,\u001b[0m \u001b[0mfull_url\u001b[0m\u001b[0;34m)\u001b[0m\u001b[0;34m\u001b[0m\u001b[0;34m\u001b[0m\u001b[0m\n\u001b[1;32m     15\u001b[0m         \u001b[0;31m# Normally, we'd store the results here too\u001b[0m\u001b[0;34m\u001b[0m\u001b[0;34m\u001b[0m\u001b[0;34m\u001b[0m\u001b[0m\n\u001b[0;32m---> 16\u001b[0;31m         \u001b[0mvisit\u001b[0m\u001b[0;34m(\u001b[0m\u001b[0mfull_url\u001b[0m\u001b[0;34m,\u001b[0m \u001b[0mlinks_seen\u001b[0m\u001b[0;34m)\u001b[0m\u001b[0;34m\u001b[0m\u001b[0;34m\u001b[0m\u001b[0m\n\u001b[0m\u001b[1;32m     17\u001b[0m \u001b[0;34m\u001b[0m\u001b[0m\n\u001b[1;32m     18\u001b[0m \u001b[0mvisit\u001b[0m\u001b[0;34m(\u001b[0m\u001b[0mbase_url\u001b[0m\u001b[0;34m,\u001b[0m \u001b[0mlinks_seen\u001b[0m\u001b[0;34m)\u001b[0m\u001b[0;34m\u001b[0m\u001b[0;34m\u001b[0m\u001b[0m\n",
      "\u001b[0;32m<ipython-input-2-43e773928b85>\u001b[0m in \u001b[0;36mvisit\u001b[0;34m(url, links_seen)\u001b[0m\n\u001b[1;32m     14\u001b[0m         \u001b[0mprint\u001b[0m\u001b[0;34m(\u001b[0m\u001b[0;34m'Found a new page:'\u001b[0m\u001b[0;34m,\u001b[0m \u001b[0mfull_url\u001b[0m\u001b[0;34m)\u001b[0m\u001b[0;34m\u001b[0m\u001b[0;34m\u001b[0m\u001b[0m\n\u001b[1;32m     15\u001b[0m         \u001b[0;31m# Normally, we'd store the results here too\u001b[0m\u001b[0;34m\u001b[0m\u001b[0;34m\u001b[0m\u001b[0;34m\u001b[0m\u001b[0m\n\u001b[0;32m---> 16\u001b[0;31m         \u001b[0mvisit\u001b[0m\u001b[0;34m(\u001b[0m\u001b[0mfull_url\u001b[0m\u001b[0;34m,\u001b[0m \u001b[0mlinks_seen\u001b[0m\u001b[0;34m)\u001b[0m\u001b[0;34m\u001b[0m\u001b[0;34m\u001b[0m\u001b[0m\n\u001b[0m\u001b[1;32m     17\u001b[0m \u001b[0;34m\u001b[0m\u001b[0m\n\u001b[1;32m     18\u001b[0m \u001b[0mvisit\u001b[0m\u001b[0;34m(\u001b[0m\u001b[0mbase_url\u001b[0m\u001b[0;34m,\u001b[0m \u001b[0mlinks_seen\u001b[0m\u001b[0;34m)\u001b[0m\u001b[0;34m\u001b[0m\u001b[0;34m\u001b[0m\u001b[0m\n",
      "\u001b[0;32m<ipython-input-2-43e773928b85>\u001b[0m in \u001b[0;36mvisit\u001b[0;34m(url, links_seen)\u001b[0m\n\u001b[1;32m     14\u001b[0m         \u001b[0mprint\u001b[0m\u001b[0;34m(\u001b[0m\u001b[0;34m'Found a new page:'\u001b[0m\u001b[0;34m,\u001b[0m \u001b[0mfull_url\u001b[0m\u001b[0;34m)\u001b[0m\u001b[0;34m\u001b[0m\u001b[0;34m\u001b[0m\u001b[0m\n\u001b[1;32m     15\u001b[0m         \u001b[0;31m# Normally, we'd store the results here too\u001b[0m\u001b[0;34m\u001b[0m\u001b[0;34m\u001b[0m\u001b[0;34m\u001b[0m\u001b[0m\n\u001b[0;32m---> 16\u001b[0;31m         \u001b[0mvisit\u001b[0m\u001b[0;34m(\u001b[0m\u001b[0mfull_url\u001b[0m\u001b[0;34m,\u001b[0m \u001b[0mlinks_seen\u001b[0m\u001b[0;34m)\u001b[0m\u001b[0;34m\u001b[0m\u001b[0;34m\u001b[0m\u001b[0m\n\u001b[0m\u001b[1;32m     17\u001b[0m \u001b[0;34m\u001b[0m\u001b[0m\n\u001b[1;32m     18\u001b[0m \u001b[0mvisit\u001b[0m\u001b[0;34m(\u001b[0m\u001b[0mbase_url\u001b[0m\u001b[0;34m,\u001b[0m \u001b[0mlinks_seen\u001b[0m\u001b[0;34m)\u001b[0m\u001b[0;34m\u001b[0m\u001b[0;34m\u001b[0m\u001b[0m\n",
      "\u001b[0;32m<ipython-input-2-43e773928b85>\u001b[0m in \u001b[0;36mvisit\u001b[0;34m(url, links_seen)\u001b[0m\n\u001b[1;32m     14\u001b[0m         \u001b[0mprint\u001b[0m\u001b[0;34m(\u001b[0m\u001b[0;34m'Found a new page:'\u001b[0m\u001b[0;34m,\u001b[0m \u001b[0mfull_url\u001b[0m\u001b[0;34m)\u001b[0m\u001b[0;34m\u001b[0m\u001b[0;34m\u001b[0m\u001b[0m\n\u001b[1;32m     15\u001b[0m         \u001b[0;31m# Normally, we'd store the results here too\u001b[0m\u001b[0;34m\u001b[0m\u001b[0;34m\u001b[0m\u001b[0;34m\u001b[0m\u001b[0m\n\u001b[0;32m---> 16\u001b[0;31m         \u001b[0mvisit\u001b[0m\u001b[0;34m(\u001b[0m\u001b[0mfull_url\u001b[0m\u001b[0;34m,\u001b[0m \u001b[0mlinks_seen\u001b[0m\u001b[0;34m)\u001b[0m\u001b[0;34m\u001b[0m\u001b[0;34m\u001b[0m\u001b[0m\n\u001b[0m\u001b[1;32m     17\u001b[0m \u001b[0;34m\u001b[0m\u001b[0m\n\u001b[1;32m     18\u001b[0m \u001b[0mvisit\u001b[0m\u001b[0;34m(\u001b[0m\u001b[0mbase_url\u001b[0m\u001b[0;34m,\u001b[0m \u001b[0mlinks_seen\u001b[0m\u001b[0;34m)\u001b[0m\u001b[0;34m\u001b[0m\u001b[0;34m\u001b[0m\u001b[0m\n",
      "\u001b[0;32m<ipython-input-2-43e773928b85>\u001b[0m in \u001b[0;36mvisit\u001b[0;34m(url, links_seen)\u001b[0m\n\u001b[1;32m     14\u001b[0m         \u001b[0mprint\u001b[0m\u001b[0;34m(\u001b[0m\u001b[0;34m'Found a new page:'\u001b[0m\u001b[0;34m,\u001b[0m \u001b[0mfull_url\u001b[0m\u001b[0;34m)\u001b[0m\u001b[0;34m\u001b[0m\u001b[0;34m\u001b[0m\u001b[0m\n\u001b[1;32m     15\u001b[0m         \u001b[0;31m# Normally, we'd store the results here too\u001b[0m\u001b[0;34m\u001b[0m\u001b[0;34m\u001b[0m\u001b[0;34m\u001b[0m\u001b[0m\n\u001b[0;32m---> 16\u001b[0;31m         \u001b[0mvisit\u001b[0m\u001b[0;34m(\u001b[0m\u001b[0mfull_url\u001b[0m\u001b[0;34m,\u001b[0m \u001b[0mlinks_seen\u001b[0m\u001b[0;34m)\u001b[0m\u001b[0;34m\u001b[0m\u001b[0;34m\u001b[0m\u001b[0m\n\u001b[0m\u001b[1;32m     17\u001b[0m \u001b[0;34m\u001b[0m\u001b[0m\n\u001b[1;32m     18\u001b[0m \u001b[0mvisit\u001b[0m\u001b[0;34m(\u001b[0m\u001b[0mbase_url\u001b[0m\u001b[0;34m,\u001b[0m \u001b[0mlinks_seen\u001b[0m\u001b[0;34m)\u001b[0m\u001b[0;34m\u001b[0m\u001b[0;34m\u001b[0m\u001b[0m\n",
      "\u001b[0;32m<ipython-input-2-43e773928b85>\u001b[0m in \u001b[0;36mvisit\u001b[0;34m(url, links_seen)\u001b[0m\n\u001b[1;32m     14\u001b[0m         \u001b[0mprint\u001b[0m\u001b[0;34m(\u001b[0m\u001b[0;34m'Found a new page:'\u001b[0m\u001b[0;34m,\u001b[0m \u001b[0mfull_url\u001b[0m\u001b[0;34m)\u001b[0m\u001b[0;34m\u001b[0m\u001b[0;34m\u001b[0m\u001b[0m\n\u001b[1;32m     15\u001b[0m         \u001b[0;31m# Normally, we'd store the results here too\u001b[0m\u001b[0;34m\u001b[0m\u001b[0;34m\u001b[0m\u001b[0;34m\u001b[0m\u001b[0m\n\u001b[0;32m---> 16\u001b[0;31m         \u001b[0mvisit\u001b[0m\u001b[0;34m(\u001b[0m\u001b[0mfull_url\u001b[0m\u001b[0;34m,\u001b[0m \u001b[0mlinks_seen\u001b[0m\u001b[0;34m)\u001b[0m\u001b[0;34m\u001b[0m\u001b[0;34m\u001b[0m\u001b[0m\n\u001b[0m\u001b[1;32m     17\u001b[0m \u001b[0;34m\u001b[0m\u001b[0m\n\u001b[1;32m     18\u001b[0m \u001b[0mvisit\u001b[0m\u001b[0;34m(\u001b[0m\u001b[0mbase_url\u001b[0m\u001b[0;34m,\u001b[0m \u001b[0mlinks_seen\u001b[0m\u001b[0;34m)\u001b[0m\u001b[0;34m\u001b[0m\u001b[0;34m\u001b[0m\u001b[0m\n",
      "\u001b[0;32m<ipython-input-2-43e773928b85>\u001b[0m in \u001b[0;36mvisit\u001b[0;34m(url, links_seen)\u001b[0m\n\u001b[1;32m     14\u001b[0m         \u001b[0mprint\u001b[0m\u001b[0;34m(\u001b[0m\u001b[0;34m'Found a new page:'\u001b[0m\u001b[0;34m,\u001b[0m \u001b[0mfull_url\u001b[0m\u001b[0;34m)\u001b[0m\u001b[0;34m\u001b[0m\u001b[0;34m\u001b[0m\u001b[0m\n\u001b[1;32m     15\u001b[0m         \u001b[0;31m# Normally, we'd store the results here too\u001b[0m\u001b[0;34m\u001b[0m\u001b[0;34m\u001b[0m\u001b[0;34m\u001b[0m\u001b[0m\n\u001b[0;32m---> 16\u001b[0;31m         \u001b[0mvisit\u001b[0m\u001b[0;34m(\u001b[0m\u001b[0mfull_url\u001b[0m\u001b[0;34m,\u001b[0m \u001b[0mlinks_seen\u001b[0m\u001b[0;34m)\u001b[0m\u001b[0;34m\u001b[0m\u001b[0;34m\u001b[0m\u001b[0m\n\u001b[0m\u001b[1;32m     17\u001b[0m \u001b[0;34m\u001b[0m\u001b[0m\n\u001b[1;32m     18\u001b[0m \u001b[0mvisit\u001b[0m\u001b[0;34m(\u001b[0m\u001b[0mbase_url\u001b[0m\u001b[0;34m,\u001b[0m \u001b[0mlinks_seen\u001b[0m\u001b[0;34m)\u001b[0m\u001b[0;34m\u001b[0m\u001b[0;34m\u001b[0m\u001b[0m\n",
      "\u001b[0;32m<ipython-input-2-43e773928b85>\u001b[0m in \u001b[0;36mvisit\u001b[0;34m(url, links_seen)\u001b[0m\n\u001b[1;32m     14\u001b[0m         \u001b[0mprint\u001b[0m\u001b[0;34m(\u001b[0m\u001b[0;34m'Found a new page:'\u001b[0m\u001b[0;34m,\u001b[0m \u001b[0mfull_url\u001b[0m\u001b[0;34m)\u001b[0m\u001b[0;34m\u001b[0m\u001b[0;34m\u001b[0m\u001b[0m\n\u001b[1;32m     15\u001b[0m         \u001b[0;31m# Normally, we'd store the results here too\u001b[0m\u001b[0;34m\u001b[0m\u001b[0;34m\u001b[0m\u001b[0;34m\u001b[0m\u001b[0m\n\u001b[0;32m---> 16\u001b[0;31m         \u001b[0mvisit\u001b[0m\u001b[0;34m(\u001b[0m\u001b[0mfull_url\u001b[0m\u001b[0;34m,\u001b[0m \u001b[0mlinks_seen\u001b[0m\u001b[0;34m)\u001b[0m\u001b[0;34m\u001b[0m\u001b[0;34m\u001b[0m\u001b[0m\n\u001b[0m\u001b[1;32m     17\u001b[0m \u001b[0;34m\u001b[0m\u001b[0m\n\u001b[1;32m     18\u001b[0m \u001b[0mvisit\u001b[0m\u001b[0;34m(\u001b[0m\u001b[0mbase_url\u001b[0m\u001b[0;34m,\u001b[0m \u001b[0mlinks_seen\u001b[0m\u001b[0;34m)\u001b[0m\u001b[0;34m\u001b[0m\u001b[0;34m\u001b[0m\u001b[0m\n",
      "\u001b[0;32m<ipython-input-2-43e773928b85>\u001b[0m in \u001b[0;36mvisit\u001b[0;34m(url, links_seen)\u001b[0m\n\u001b[1;32m     14\u001b[0m         \u001b[0mprint\u001b[0m\u001b[0;34m(\u001b[0m\u001b[0;34m'Found a new page:'\u001b[0m\u001b[0;34m,\u001b[0m \u001b[0mfull_url\u001b[0m\u001b[0;34m)\u001b[0m\u001b[0;34m\u001b[0m\u001b[0;34m\u001b[0m\u001b[0m\n\u001b[1;32m     15\u001b[0m         \u001b[0;31m# Normally, we'd store the results here too\u001b[0m\u001b[0;34m\u001b[0m\u001b[0;34m\u001b[0m\u001b[0;34m\u001b[0m\u001b[0m\n\u001b[0;32m---> 16\u001b[0;31m         \u001b[0mvisit\u001b[0m\u001b[0;34m(\u001b[0m\u001b[0mfull_url\u001b[0m\u001b[0;34m,\u001b[0m \u001b[0mlinks_seen\u001b[0m\u001b[0;34m)\u001b[0m\u001b[0;34m\u001b[0m\u001b[0;34m\u001b[0m\u001b[0m\n\u001b[0m\u001b[1;32m     17\u001b[0m \u001b[0;34m\u001b[0m\u001b[0m\n\u001b[1;32m     18\u001b[0m \u001b[0mvisit\u001b[0m\u001b[0;34m(\u001b[0m\u001b[0mbase_url\u001b[0m\u001b[0;34m,\u001b[0m \u001b[0mlinks_seen\u001b[0m\u001b[0;34m)\u001b[0m\u001b[0;34m\u001b[0m\u001b[0;34m\u001b[0m\u001b[0m\n",
      "\u001b[0;32m<ipython-input-2-43e773928b85>\u001b[0m in \u001b[0;36mvisit\u001b[0;34m(url, links_seen)\u001b[0m\n\u001b[1;32m     14\u001b[0m         \u001b[0mprint\u001b[0m\u001b[0;34m(\u001b[0m\u001b[0;34m'Found a new page:'\u001b[0m\u001b[0;34m,\u001b[0m \u001b[0mfull_url\u001b[0m\u001b[0;34m)\u001b[0m\u001b[0;34m\u001b[0m\u001b[0;34m\u001b[0m\u001b[0m\n\u001b[1;32m     15\u001b[0m         \u001b[0;31m# Normally, we'd store the results here too\u001b[0m\u001b[0;34m\u001b[0m\u001b[0;34m\u001b[0m\u001b[0;34m\u001b[0m\u001b[0m\n\u001b[0;32m---> 16\u001b[0;31m         \u001b[0mvisit\u001b[0m\u001b[0;34m(\u001b[0m\u001b[0mfull_url\u001b[0m\u001b[0;34m,\u001b[0m \u001b[0mlinks_seen\u001b[0m\u001b[0;34m)\u001b[0m\u001b[0;34m\u001b[0m\u001b[0;34m\u001b[0m\u001b[0m\n\u001b[0m\u001b[1;32m     17\u001b[0m \u001b[0;34m\u001b[0m\u001b[0m\n\u001b[1;32m     18\u001b[0m \u001b[0mvisit\u001b[0m\u001b[0;34m(\u001b[0m\u001b[0mbase_url\u001b[0m\u001b[0;34m,\u001b[0m \u001b[0mlinks_seen\u001b[0m\u001b[0;34m)\u001b[0m\u001b[0;34m\u001b[0m\u001b[0;34m\u001b[0m\u001b[0m\n",
      "\u001b[0;32m<ipython-input-2-43e773928b85>\u001b[0m in \u001b[0;36mvisit\u001b[0;34m(url, links_seen)\u001b[0m\n\u001b[1;32m     14\u001b[0m         \u001b[0mprint\u001b[0m\u001b[0;34m(\u001b[0m\u001b[0;34m'Found a new page:'\u001b[0m\u001b[0;34m,\u001b[0m \u001b[0mfull_url\u001b[0m\u001b[0;34m)\u001b[0m\u001b[0;34m\u001b[0m\u001b[0;34m\u001b[0m\u001b[0m\n\u001b[1;32m     15\u001b[0m         \u001b[0;31m# Normally, we'd store the results here too\u001b[0m\u001b[0;34m\u001b[0m\u001b[0;34m\u001b[0m\u001b[0;34m\u001b[0m\u001b[0m\n\u001b[0;32m---> 16\u001b[0;31m         \u001b[0mvisit\u001b[0m\u001b[0;34m(\u001b[0m\u001b[0mfull_url\u001b[0m\u001b[0;34m,\u001b[0m \u001b[0mlinks_seen\u001b[0m\u001b[0;34m)\u001b[0m\u001b[0;34m\u001b[0m\u001b[0;34m\u001b[0m\u001b[0m\n\u001b[0m\u001b[1;32m     17\u001b[0m \u001b[0;34m\u001b[0m\u001b[0m\n\u001b[1;32m     18\u001b[0m \u001b[0mvisit\u001b[0m\u001b[0;34m(\u001b[0m\u001b[0mbase_url\u001b[0m\u001b[0;34m,\u001b[0m \u001b[0mlinks_seen\u001b[0m\u001b[0;34m)\u001b[0m\u001b[0;34m\u001b[0m\u001b[0;34m\u001b[0m\u001b[0m\n",
      "\u001b[0;32m<ipython-input-2-43e773928b85>\u001b[0m in \u001b[0;36mvisit\u001b[0;34m(url, links_seen)\u001b[0m\n\u001b[1;32m     14\u001b[0m         \u001b[0mprint\u001b[0m\u001b[0;34m(\u001b[0m\u001b[0;34m'Found a new page:'\u001b[0m\u001b[0;34m,\u001b[0m \u001b[0mfull_url\u001b[0m\u001b[0;34m)\u001b[0m\u001b[0;34m\u001b[0m\u001b[0;34m\u001b[0m\u001b[0m\n\u001b[1;32m     15\u001b[0m         \u001b[0;31m# Normally, we'd store the results here too\u001b[0m\u001b[0;34m\u001b[0m\u001b[0;34m\u001b[0m\u001b[0;34m\u001b[0m\u001b[0m\n\u001b[0;32m---> 16\u001b[0;31m         \u001b[0mvisit\u001b[0m\u001b[0;34m(\u001b[0m\u001b[0mfull_url\u001b[0m\u001b[0;34m,\u001b[0m \u001b[0mlinks_seen\u001b[0m\u001b[0;34m)\u001b[0m\u001b[0;34m\u001b[0m\u001b[0;34m\u001b[0m\u001b[0m\n\u001b[0m\u001b[1;32m     17\u001b[0m \u001b[0;34m\u001b[0m\u001b[0m\n\u001b[1;32m     18\u001b[0m \u001b[0mvisit\u001b[0m\u001b[0;34m(\u001b[0m\u001b[0mbase_url\u001b[0m\u001b[0;34m,\u001b[0m \u001b[0mlinks_seen\u001b[0m\u001b[0;34m)\u001b[0m\u001b[0;34m\u001b[0m\u001b[0;34m\u001b[0m\u001b[0m\n",
      "\u001b[0;32m<ipython-input-2-43e773928b85>\u001b[0m in \u001b[0;36mvisit\u001b[0;34m(url, links_seen)\u001b[0m\n\u001b[1;32m     14\u001b[0m         \u001b[0mprint\u001b[0m\u001b[0;34m(\u001b[0m\u001b[0;34m'Found a new page:'\u001b[0m\u001b[0;34m,\u001b[0m \u001b[0mfull_url\u001b[0m\u001b[0;34m)\u001b[0m\u001b[0;34m\u001b[0m\u001b[0;34m\u001b[0m\u001b[0m\n\u001b[1;32m     15\u001b[0m         \u001b[0;31m# Normally, we'd store the results here too\u001b[0m\u001b[0;34m\u001b[0m\u001b[0;34m\u001b[0m\u001b[0;34m\u001b[0m\u001b[0m\n\u001b[0;32m---> 16\u001b[0;31m         \u001b[0mvisit\u001b[0m\u001b[0;34m(\u001b[0m\u001b[0mfull_url\u001b[0m\u001b[0;34m,\u001b[0m \u001b[0mlinks_seen\u001b[0m\u001b[0;34m)\u001b[0m\u001b[0;34m\u001b[0m\u001b[0;34m\u001b[0m\u001b[0m\n\u001b[0m\u001b[1;32m     17\u001b[0m \u001b[0;34m\u001b[0m\u001b[0m\n\u001b[1;32m     18\u001b[0m \u001b[0mvisit\u001b[0m\u001b[0;34m(\u001b[0m\u001b[0mbase_url\u001b[0m\u001b[0;34m,\u001b[0m \u001b[0mlinks_seen\u001b[0m\u001b[0;34m)\u001b[0m\u001b[0;34m\u001b[0m\u001b[0;34m\u001b[0m\u001b[0m\n",
      "\u001b[0;32m<ipython-input-2-43e773928b85>\u001b[0m in \u001b[0;36mvisit\u001b[0;34m(url, links_seen)\u001b[0m\n\u001b[1;32m     14\u001b[0m         \u001b[0mprint\u001b[0m\u001b[0;34m(\u001b[0m\u001b[0;34m'Found a new page:'\u001b[0m\u001b[0;34m,\u001b[0m \u001b[0mfull_url\u001b[0m\u001b[0;34m)\u001b[0m\u001b[0;34m\u001b[0m\u001b[0;34m\u001b[0m\u001b[0m\n\u001b[1;32m     15\u001b[0m         \u001b[0;31m# Normally, we'd store the results here too\u001b[0m\u001b[0;34m\u001b[0m\u001b[0;34m\u001b[0m\u001b[0;34m\u001b[0m\u001b[0m\n\u001b[0;32m---> 16\u001b[0;31m         \u001b[0mvisit\u001b[0m\u001b[0;34m(\u001b[0m\u001b[0mfull_url\u001b[0m\u001b[0;34m,\u001b[0m \u001b[0mlinks_seen\u001b[0m\u001b[0;34m)\u001b[0m\u001b[0;34m\u001b[0m\u001b[0;34m\u001b[0m\u001b[0m\n\u001b[0m\u001b[1;32m     17\u001b[0m \u001b[0;34m\u001b[0m\u001b[0m\n\u001b[1;32m     18\u001b[0m \u001b[0mvisit\u001b[0m\u001b[0;34m(\u001b[0m\u001b[0mbase_url\u001b[0m\u001b[0;34m,\u001b[0m \u001b[0mlinks_seen\u001b[0m\u001b[0;34m)\u001b[0m\u001b[0;34m\u001b[0m\u001b[0;34m\u001b[0m\u001b[0m\n",
      "\u001b[0;32m<ipython-input-2-43e773928b85>\u001b[0m in \u001b[0;36mvisit\u001b[0;34m(url, links_seen)\u001b[0m\n\u001b[1;32m     14\u001b[0m         \u001b[0mprint\u001b[0m\u001b[0;34m(\u001b[0m\u001b[0;34m'Found a new page:'\u001b[0m\u001b[0;34m,\u001b[0m \u001b[0mfull_url\u001b[0m\u001b[0;34m)\u001b[0m\u001b[0;34m\u001b[0m\u001b[0;34m\u001b[0m\u001b[0m\n\u001b[1;32m     15\u001b[0m         \u001b[0;31m# Normally, we'd store the results here too\u001b[0m\u001b[0;34m\u001b[0m\u001b[0;34m\u001b[0m\u001b[0;34m\u001b[0m\u001b[0m\n\u001b[0;32m---> 16\u001b[0;31m         \u001b[0mvisit\u001b[0m\u001b[0;34m(\u001b[0m\u001b[0mfull_url\u001b[0m\u001b[0;34m,\u001b[0m \u001b[0mlinks_seen\u001b[0m\u001b[0;34m)\u001b[0m\u001b[0;34m\u001b[0m\u001b[0;34m\u001b[0m\u001b[0m\n\u001b[0m\u001b[1;32m     17\u001b[0m \u001b[0;34m\u001b[0m\u001b[0m\n\u001b[1;32m     18\u001b[0m \u001b[0mvisit\u001b[0m\u001b[0;34m(\u001b[0m\u001b[0mbase_url\u001b[0m\u001b[0;34m,\u001b[0m \u001b[0mlinks_seen\u001b[0m\u001b[0;34m)\u001b[0m\u001b[0;34m\u001b[0m\u001b[0;34m\u001b[0m\u001b[0m\n",
      "\u001b[0;32m<ipython-input-2-43e773928b85>\u001b[0m in \u001b[0;36mvisit\u001b[0;34m(url, links_seen)\u001b[0m\n\u001b[1;32m     14\u001b[0m         \u001b[0mprint\u001b[0m\u001b[0;34m(\u001b[0m\u001b[0;34m'Found a new page:'\u001b[0m\u001b[0;34m,\u001b[0m \u001b[0mfull_url\u001b[0m\u001b[0;34m)\u001b[0m\u001b[0;34m\u001b[0m\u001b[0;34m\u001b[0m\u001b[0m\n\u001b[1;32m     15\u001b[0m         \u001b[0;31m# Normally, we'd store the results here too\u001b[0m\u001b[0;34m\u001b[0m\u001b[0;34m\u001b[0m\u001b[0;34m\u001b[0m\u001b[0m\n\u001b[0;32m---> 16\u001b[0;31m         \u001b[0mvisit\u001b[0m\u001b[0;34m(\u001b[0m\u001b[0mfull_url\u001b[0m\u001b[0;34m,\u001b[0m \u001b[0mlinks_seen\u001b[0m\u001b[0;34m)\u001b[0m\u001b[0;34m\u001b[0m\u001b[0;34m\u001b[0m\u001b[0m\n\u001b[0m\u001b[1;32m     17\u001b[0m \u001b[0;34m\u001b[0m\u001b[0m\n\u001b[1;32m     18\u001b[0m \u001b[0mvisit\u001b[0m\u001b[0;34m(\u001b[0m\u001b[0mbase_url\u001b[0m\u001b[0;34m,\u001b[0m \u001b[0mlinks_seen\u001b[0m\u001b[0;34m)\u001b[0m\u001b[0;34m\u001b[0m\u001b[0;34m\u001b[0m\u001b[0m\n",
      "\u001b[0;32m<ipython-input-2-43e773928b85>\u001b[0m in \u001b[0;36mvisit\u001b[0;34m(url, links_seen)\u001b[0m\n\u001b[1;32m     14\u001b[0m         \u001b[0mprint\u001b[0m\u001b[0;34m(\u001b[0m\u001b[0;34m'Found a new page:'\u001b[0m\u001b[0;34m,\u001b[0m \u001b[0mfull_url\u001b[0m\u001b[0;34m)\u001b[0m\u001b[0;34m\u001b[0m\u001b[0;34m\u001b[0m\u001b[0m\n\u001b[1;32m     15\u001b[0m         \u001b[0;31m# Normally, we'd store the results here too\u001b[0m\u001b[0;34m\u001b[0m\u001b[0;34m\u001b[0m\u001b[0;34m\u001b[0m\u001b[0m\n\u001b[0;32m---> 16\u001b[0;31m         \u001b[0mvisit\u001b[0m\u001b[0;34m(\u001b[0m\u001b[0mfull_url\u001b[0m\u001b[0;34m,\u001b[0m \u001b[0mlinks_seen\u001b[0m\u001b[0;34m)\u001b[0m\u001b[0;34m\u001b[0m\u001b[0;34m\u001b[0m\u001b[0m\n\u001b[0m\u001b[1;32m     17\u001b[0m \u001b[0;34m\u001b[0m\u001b[0m\n\u001b[1;32m     18\u001b[0m \u001b[0mvisit\u001b[0m\u001b[0;34m(\u001b[0m\u001b[0mbase_url\u001b[0m\u001b[0;34m,\u001b[0m \u001b[0mlinks_seen\u001b[0m\u001b[0;34m)\u001b[0m\u001b[0;34m\u001b[0m\u001b[0;34m\u001b[0m\u001b[0m\n",
      "\u001b[0;32m<ipython-input-2-43e773928b85>\u001b[0m in \u001b[0;36mvisit\u001b[0;34m(url, links_seen)\u001b[0m\n\u001b[1;32m     14\u001b[0m         \u001b[0mprint\u001b[0m\u001b[0;34m(\u001b[0m\u001b[0;34m'Found a new page:'\u001b[0m\u001b[0;34m,\u001b[0m \u001b[0mfull_url\u001b[0m\u001b[0;34m)\u001b[0m\u001b[0;34m\u001b[0m\u001b[0;34m\u001b[0m\u001b[0m\n\u001b[1;32m     15\u001b[0m         \u001b[0;31m# Normally, we'd store the results here too\u001b[0m\u001b[0;34m\u001b[0m\u001b[0;34m\u001b[0m\u001b[0;34m\u001b[0m\u001b[0m\n\u001b[0;32m---> 16\u001b[0;31m         \u001b[0mvisit\u001b[0m\u001b[0;34m(\u001b[0m\u001b[0mfull_url\u001b[0m\u001b[0;34m,\u001b[0m \u001b[0mlinks_seen\u001b[0m\u001b[0;34m)\u001b[0m\u001b[0;34m\u001b[0m\u001b[0;34m\u001b[0m\u001b[0m\n\u001b[0m\u001b[1;32m     17\u001b[0m \u001b[0;34m\u001b[0m\u001b[0m\n\u001b[1;32m     18\u001b[0m \u001b[0mvisit\u001b[0m\u001b[0;34m(\u001b[0m\u001b[0mbase_url\u001b[0m\u001b[0;34m,\u001b[0m \u001b[0mlinks_seen\u001b[0m\u001b[0;34m)\u001b[0m\u001b[0;34m\u001b[0m\u001b[0;34m\u001b[0m\u001b[0m\n",
      "\u001b[0;32m<ipython-input-2-43e773928b85>\u001b[0m in \u001b[0;36mvisit\u001b[0;34m(url, links_seen)\u001b[0m\n\u001b[1;32m     14\u001b[0m         \u001b[0mprint\u001b[0m\u001b[0;34m(\u001b[0m\u001b[0;34m'Found a new page:'\u001b[0m\u001b[0;34m,\u001b[0m \u001b[0mfull_url\u001b[0m\u001b[0;34m)\u001b[0m\u001b[0;34m\u001b[0m\u001b[0;34m\u001b[0m\u001b[0m\n\u001b[1;32m     15\u001b[0m         \u001b[0;31m# Normally, we'd store the results here too\u001b[0m\u001b[0;34m\u001b[0m\u001b[0;34m\u001b[0m\u001b[0;34m\u001b[0m\u001b[0m\n\u001b[0;32m---> 16\u001b[0;31m         \u001b[0mvisit\u001b[0m\u001b[0;34m(\u001b[0m\u001b[0mfull_url\u001b[0m\u001b[0;34m,\u001b[0m \u001b[0mlinks_seen\u001b[0m\u001b[0;34m)\u001b[0m\u001b[0;34m\u001b[0m\u001b[0;34m\u001b[0m\u001b[0m\n\u001b[0m\u001b[1;32m     17\u001b[0m \u001b[0;34m\u001b[0m\u001b[0m\n\u001b[1;32m     18\u001b[0m \u001b[0mvisit\u001b[0m\u001b[0;34m(\u001b[0m\u001b[0mbase_url\u001b[0m\u001b[0;34m,\u001b[0m \u001b[0mlinks_seen\u001b[0m\u001b[0;34m)\u001b[0m\u001b[0;34m\u001b[0m\u001b[0;34m\u001b[0m\u001b[0m\n",
      "\u001b[0;32m<ipython-input-2-43e773928b85>\u001b[0m in \u001b[0;36mvisit\u001b[0;34m(url, links_seen)\u001b[0m\n\u001b[1;32m     14\u001b[0m         \u001b[0mprint\u001b[0m\u001b[0;34m(\u001b[0m\u001b[0;34m'Found a new page:'\u001b[0m\u001b[0;34m,\u001b[0m \u001b[0mfull_url\u001b[0m\u001b[0;34m)\u001b[0m\u001b[0;34m\u001b[0m\u001b[0;34m\u001b[0m\u001b[0m\n\u001b[1;32m     15\u001b[0m         \u001b[0;31m# Normally, we'd store the results here too\u001b[0m\u001b[0;34m\u001b[0m\u001b[0;34m\u001b[0m\u001b[0;34m\u001b[0m\u001b[0m\n\u001b[0;32m---> 16\u001b[0;31m         \u001b[0mvisit\u001b[0m\u001b[0;34m(\u001b[0m\u001b[0mfull_url\u001b[0m\u001b[0;34m,\u001b[0m \u001b[0mlinks_seen\u001b[0m\u001b[0;34m)\u001b[0m\u001b[0;34m\u001b[0m\u001b[0;34m\u001b[0m\u001b[0m\n\u001b[0m\u001b[1;32m     17\u001b[0m \u001b[0;34m\u001b[0m\u001b[0m\n\u001b[1;32m     18\u001b[0m \u001b[0mvisit\u001b[0m\u001b[0;34m(\u001b[0m\u001b[0mbase_url\u001b[0m\u001b[0;34m,\u001b[0m \u001b[0mlinks_seen\u001b[0m\u001b[0;34m)\u001b[0m\u001b[0;34m\u001b[0m\u001b[0;34m\u001b[0m\u001b[0m\n",
      "\u001b[0;32m<ipython-input-2-43e773928b85>\u001b[0m in \u001b[0;36mvisit\u001b[0;34m(url, links_seen)\u001b[0m\n\u001b[1;32m     14\u001b[0m         \u001b[0mprint\u001b[0m\u001b[0;34m(\u001b[0m\u001b[0;34m'Found a new page:'\u001b[0m\u001b[0;34m,\u001b[0m \u001b[0mfull_url\u001b[0m\u001b[0;34m)\u001b[0m\u001b[0;34m\u001b[0m\u001b[0;34m\u001b[0m\u001b[0m\n\u001b[1;32m     15\u001b[0m         \u001b[0;31m# Normally, we'd store the results here too\u001b[0m\u001b[0;34m\u001b[0m\u001b[0;34m\u001b[0m\u001b[0;34m\u001b[0m\u001b[0m\n\u001b[0;32m---> 16\u001b[0;31m         \u001b[0mvisit\u001b[0m\u001b[0;34m(\u001b[0m\u001b[0mfull_url\u001b[0m\u001b[0;34m,\u001b[0m \u001b[0mlinks_seen\u001b[0m\u001b[0;34m)\u001b[0m\u001b[0;34m\u001b[0m\u001b[0;34m\u001b[0m\u001b[0m\n\u001b[0m\u001b[1;32m     17\u001b[0m \u001b[0;34m\u001b[0m\u001b[0m\n\u001b[1;32m     18\u001b[0m \u001b[0mvisit\u001b[0m\u001b[0;34m(\u001b[0m\u001b[0mbase_url\u001b[0m\u001b[0;34m,\u001b[0m \u001b[0mlinks_seen\u001b[0m\u001b[0;34m)\u001b[0m\u001b[0;34m\u001b[0m\u001b[0;34m\u001b[0m\u001b[0m\n",
      "\u001b[0;32m<ipython-input-2-43e773928b85>\u001b[0m in \u001b[0;36mvisit\u001b[0;34m(url, links_seen)\u001b[0m\n\u001b[1;32m     14\u001b[0m         \u001b[0mprint\u001b[0m\u001b[0;34m(\u001b[0m\u001b[0;34m'Found a new page:'\u001b[0m\u001b[0;34m,\u001b[0m \u001b[0mfull_url\u001b[0m\u001b[0;34m)\u001b[0m\u001b[0;34m\u001b[0m\u001b[0;34m\u001b[0m\u001b[0m\n\u001b[1;32m     15\u001b[0m         \u001b[0;31m# Normally, we'd store the results here too\u001b[0m\u001b[0;34m\u001b[0m\u001b[0;34m\u001b[0m\u001b[0;34m\u001b[0m\u001b[0m\n\u001b[0;32m---> 16\u001b[0;31m         \u001b[0mvisit\u001b[0m\u001b[0;34m(\u001b[0m\u001b[0mfull_url\u001b[0m\u001b[0;34m,\u001b[0m \u001b[0mlinks_seen\u001b[0m\u001b[0;34m)\u001b[0m\u001b[0;34m\u001b[0m\u001b[0;34m\u001b[0m\u001b[0m\n\u001b[0m\u001b[1;32m     17\u001b[0m \u001b[0;34m\u001b[0m\u001b[0m\n\u001b[1;32m     18\u001b[0m \u001b[0mvisit\u001b[0m\u001b[0;34m(\u001b[0m\u001b[0mbase_url\u001b[0m\u001b[0;34m,\u001b[0m \u001b[0mlinks_seen\u001b[0m\u001b[0;34m)\u001b[0m\u001b[0;34m\u001b[0m\u001b[0;34m\u001b[0m\u001b[0m\n",
      "\u001b[0;32m<ipython-input-2-43e773928b85>\u001b[0m in \u001b[0;36mvisit\u001b[0;34m(url, links_seen)\u001b[0m\n\u001b[1;32m     14\u001b[0m         \u001b[0mprint\u001b[0m\u001b[0;34m(\u001b[0m\u001b[0;34m'Found a new page:'\u001b[0m\u001b[0;34m,\u001b[0m \u001b[0mfull_url\u001b[0m\u001b[0;34m)\u001b[0m\u001b[0;34m\u001b[0m\u001b[0;34m\u001b[0m\u001b[0m\n\u001b[1;32m     15\u001b[0m         \u001b[0;31m# Normally, we'd store the results here too\u001b[0m\u001b[0;34m\u001b[0m\u001b[0;34m\u001b[0m\u001b[0;34m\u001b[0m\u001b[0m\n\u001b[0;32m---> 16\u001b[0;31m         \u001b[0mvisit\u001b[0m\u001b[0;34m(\u001b[0m\u001b[0mfull_url\u001b[0m\u001b[0;34m,\u001b[0m \u001b[0mlinks_seen\u001b[0m\u001b[0;34m)\u001b[0m\u001b[0;34m\u001b[0m\u001b[0;34m\u001b[0m\u001b[0m\n\u001b[0m\u001b[1;32m     17\u001b[0m \u001b[0;34m\u001b[0m\u001b[0m\n\u001b[1;32m     18\u001b[0m \u001b[0mvisit\u001b[0m\u001b[0;34m(\u001b[0m\u001b[0mbase_url\u001b[0m\u001b[0;34m,\u001b[0m \u001b[0mlinks_seen\u001b[0m\u001b[0;34m)\u001b[0m\u001b[0;34m\u001b[0m\u001b[0;34m\u001b[0m\u001b[0m\n",
      "\u001b[0;32m<ipython-input-2-43e773928b85>\u001b[0m in \u001b[0;36mvisit\u001b[0;34m(url, links_seen)\u001b[0m\n\u001b[1;32m     14\u001b[0m         \u001b[0mprint\u001b[0m\u001b[0;34m(\u001b[0m\u001b[0;34m'Found a new page:'\u001b[0m\u001b[0;34m,\u001b[0m \u001b[0mfull_url\u001b[0m\u001b[0;34m)\u001b[0m\u001b[0;34m\u001b[0m\u001b[0;34m\u001b[0m\u001b[0m\n\u001b[1;32m     15\u001b[0m         \u001b[0;31m# Normally, we'd store the results here too\u001b[0m\u001b[0;34m\u001b[0m\u001b[0;34m\u001b[0m\u001b[0;34m\u001b[0m\u001b[0m\n\u001b[0;32m---> 16\u001b[0;31m         \u001b[0mvisit\u001b[0m\u001b[0;34m(\u001b[0m\u001b[0mfull_url\u001b[0m\u001b[0;34m,\u001b[0m \u001b[0mlinks_seen\u001b[0m\u001b[0;34m)\u001b[0m\u001b[0;34m\u001b[0m\u001b[0;34m\u001b[0m\u001b[0m\n\u001b[0m\u001b[1;32m     17\u001b[0m \u001b[0;34m\u001b[0m\u001b[0m\n\u001b[1;32m     18\u001b[0m \u001b[0mvisit\u001b[0m\u001b[0;34m(\u001b[0m\u001b[0mbase_url\u001b[0m\u001b[0;34m,\u001b[0m \u001b[0mlinks_seen\u001b[0m\u001b[0;34m)\u001b[0m\u001b[0;34m\u001b[0m\u001b[0;34m\u001b[0m\u001b[0m\n",
      "\u001b[0;32m<ipython-input-2-43e773928b85>\u001b[0m in \u001b[0;36mvisit\u001b[0;34m(url, links_seen)\u001b[0m\n\u001b[1;32m     14\u001b[0m         \u001b[0mprint\u001b[0m\u001b[0;34m(\u001b[0m\u001b[0;34m'Found a new page:'\u001b[0m\u001b[0;34m,\u001b[0m \u001b[0mfull_url\u001b[0m\u001b[0;34m)\u001b[0m\u001b[0;34m\u001b[0m\u001b[0;34m\u001b[0m\u001b[0m\n\u001b[1;32m     15\u001b[0m         \u001b[0;31m# Normally, we'd store the results here too\u001b[0m\u001b[0;34m\u001b[0m\u001b[0;34m\u001b[0m\u001b[0;34m\u001b[0m\u001b[0m\n\u001b[0;32m---> 16\u001b[0;31m         \u001b[0mvisit\u001b[0m\u001b[0;34m(\u001b[0m\u001b[0mfull_url\u001b[0m\u001b[0;34m,\u001b[0m \u001b[0mlinks_seen\u001b[0m\u001b[0;34m)\u001b[0m\u001b[0;34m\u001b[0m\u001b[0;34m\u001b[0m\u001b[0m\n\u001b[0m\u001b[1;32m     17\u001b[0m \u001b[0;34m\u001b[0m\u001b[0m\n\u001b[1;32m     18\u001b[0m \u001b[0mvisit\u001b[0m\u001b[0;34m(\u001b[0m\u001b[0mbase_url\u001b[0m\u001b[0;34m,\u001b[0m \u001b[0mlinks_seen\u001b[0m\u001b[0;34m)\u001b[0m\u001b[0;34m\u001b[0m\u001b[0;34m\u001b[0m\u001b[0m\n",
      "\u001b[0;32m<ipython-input-2-43e773928b85>\u001b[0m in \u001b[0;36mvisit\u001b[0;34m(url, links_seen)\u001b[0m\n\u001b[1;32m     14\u001b[0m         \u001b[0mprint\u001b[0m\u001b[0;34m(\u001b[0m\u001b[0;34m'Found a new page:'\u001b[0m\u001b[0;34m,\u001b[0m \u001b[0mfull_url\u001b[0m\u001b[0;34m)\u001b[0m\u001b[0;34m\u001b[0m\u001b[0;34m\u001b[0m\u001b[0m\n\u001b[1;32m     15\u001b[0m         \u001b[0;31m# Normally, we'd store the results here too\u001b[0m\u001b[0;34m\u001b[0m\u001b[0;34m\u001b[0m\u001b[0;34m\u001b[0m\u001b[0m\n\u001b[0;32m---> 16\u001b[0;31m         \u001b[0mvisit\u001b[0m\u001b[0;34m(\u001b[0m\u001b[0mfull_url\u001b[0m\u001b[0;34m,\u001b[0m \u001b[0mlinks_seen\u001b[0m\u001b[0;34m)\u001b[0m\u001b[0;34m\u001b[0m\u001b[0;34m\u001b[0m\u001b[0m\n\u001b[0m\u001b[1;32m     17\u001b[0m \u001b[0;34m\u001b[0m\u001b[0m\n\u001b[1;32m     18\u001b[0m \u001b[0mvisit\u001b[0m\u001b[0;34m(\u001b[0m\u001b[0mbase_url\u001b[0m\u001b[0;34m,\u001b[0m \u001b[0mlinks_seen\u001b[0m\u001b[0;34m)\u001b[0m\u001b[0;34m\u001b[0m\u001b[0;34m\u001b[0m\u001b[0m\n",
      "\u001b[0;32m<ipython-input-2-43e773928b85>\u001b[0m in \u001b[0;36mvisit\u001b[0;34m(url, links_seen)\u001b[0m\n\u001b[1;32m     14\u001b[0m         \u001b[0mprint\u001b[0m\u001b[0;34m(\u001b[0m\u001b[0;34m'Found a new page:'\u001b[0m\u001b[0;34m,\u001b[0m \u001b[0mfull_url\u001b[0m\u001b[0;34m)\u001b[0m\u001b[0;34m\u001b[0m\u001b[0;34m\u001b[0m\u001b[0m\n\u001b[1;32m     15\u001b[0m         \u001b[0;31m# Normally, we'd store the results here too\u001b[0m\u001b[0;34m\u001b[0m\u001b[0;34m\u001b[0m\u001b[0;34m\u001b[0m\u001b[0m\n\u001b[0;32m---> 16\u001b[0;31m         \u001b[0mvisit\u001b[0m\u001b[0;34m(\u001b[0m\u001b[0mfull_url\u001b[0m\u001b[0;34m,\u001b[0m \u001b[0mlinks_seen\u001b[0m\u001b[0;34m)\u001b[0m\u001b[0;34m\u001b[0m\u001b[0;34m\u001b[0m\u001b[0m\n\u001b[0m\u001b[1;32m     17\u001b[0m \u001b[0;34m\u001b[0m\u001b[0m\n\u001b[1;32m     18\u001b[0m \u001b[0mvisit\u001b[0m\u001b[0;34m(\u001b[0m\u001b[0mbase_url\u001b[0m\u001b[0;34m,\u001b[0m \u001b[0mlinks_seen\u001b[0m\u001b[0;34m)\u001b[0m\u001b[0;34m\u001b[0m\u001b[0;34m\u001b[0m\u001b[0m\n",
      "\u001b[0;32m<ipython-input-2-43e773928b85>\u001b[0m in \u001b[0;36mvisit\u001b[0;34m(url, links_seen)\u001b[0m\n\u001b[1;32m     14\u001b[0m         \u001b[0mprint\u001b[0m\u001b[0;34m(\u001b[0m\u001b[0;34m'Found a new page:'\u001b[0m\u001b[0;34m,\u001b[0m \u001b[0mfull_url\u001b[0m\u001b[0;34m)\u001b[0m\u001b[0;34m\u001b[0m\u001b[0;34m\u001b[0m\u001b[0m\n\u001b[1;32m     15\u001b[0m         \u001b[0;31m# Normally, we'd store the results here too\u001b[0m\u001b[0;34m\u001b[0m\u001b[0;34m\u001b[0m\u001b[0;34m\u001b[0m\u001b[0m\n\u001b[0;32m---> 16\u001b[0;31m         \u001b[0mvisit\u001b[0m\u001b[0;34m(\u001b[0m\u001b[0mfull_url\u001b[0m\u001b[0;34m,\u001b[0m \u001b[0mlinks_seen\u001b[0m\u001b[0;34m)\u001b[0m\u001b[0;34m\u001b[0m\u001b[0;34m\u001b[0m\u001b[0m\n\u001b[0m\u001b[1;32m     17\u001b[0m \u001b[0;34m\u001b[0m\u001b[0m\n\u001b[1;32m     18\u001b[0m \u001b[0mvisit\u001b[0m\u001b[0;34m(\u001b[0m\u001b[0mbase_url\u001b[0m\u001b[0;34m,\u001b[0m \u001b[0mlinks_seen\u001b[0m\u001b[0;34m)\u001b[0m\u001b[0;34m\u001b[0m\u001b[0;34m\u001b[0m\u001b[0m\n",
      "\u001b[0;32m<ipython-input-2-43e773928b85>\u001b[0m in \u001b[0;36mvisit\u001b[0;34m(url, links_seen)\u001b[0m\n\u001b[1;32m      2\u001b[0m \u001b[0mlinks_seen\u001b[0m \u001b[0;34m=\u001b[0m \u001b[0mset\u001b[0m\u001b[0;34m(\u001b[0m\u001b[0;34m)\u001b[0m\u001b[0;34m\u001b[0m\u001b[0;34m\u001b[0m\u001b[0m\n\u001b[1;32m      3\u001b[0m \u001b[0;32mdef\u001b[0m \u001b[0mvisit\u001b[0m\u001b[0;34m(\u001b[0m\u001b[0murl\u001b[0m\u001b[0;34m,\u001b[0m \u001b[0mlinks_seen\u001b[0m\u001b[0;34m)\u001b[0m\u001b[0;34m:\u001b[0m\u001b[0;34m\u001b[0m\u001b[0;34m\u001b[0m\u001b[0m\n\u001b[0;32m----> 4\u001b[0;31m     \u001b[0mhtml\u001b[0m \u001b[0;34m=\u001b[0m \u001b[0mrequests\u001b[0m\u001b[0;34m.\u001b[0m\u001b[0mget\u001b[0m\u001b[0;34m(\u001b[0m\u001b[0murl\u001b[0m\u001b[0;34m)\u001b[0m\u001b[0;34m.\u001b[0m\u001b[0mtext\u001b[0m\u001b[0;34m\u001b[0m\u001b[0;34m\u001b[0m\u001b[0m\n\u001b[0m\u001b[1;32m      5\u001b[0m     \u001b[0mhtml_soup\u001b[0m \u001b[0;34m=\u001b[0m \u001b[0mBeautifulSoup\u001b[0m\u001b[0;34m(\u001b[0m\u001b[0mhtml\u001b[0m\u001b[0;34m,\u001b[0m \u001b[0;34m'html.parser'\u001b[0m\u001b[0;34m)\u001b[0m\u001b[0;34m\u001b[0m\u001b[0;34m\u001b[0m\u001b[0m\n\u001b[1;32m      6\u001b[0m     \u001b[0mlinks_seen\u001b[0m\u001b[0;34m.\u001b[0m\u001b[0madd\u001b[0m\u001b[0;34m(\u001b[0m\u001b[0murl\u001b[0m\u001b[0;34m)\u001b[0m\u001b[0;34m\u001b[0m\u001b[0;34m\u001b[0m\u001b[0m\n",
      "\u001b[0;32m~/anaconda3/lib/python3.8/site-packages/requests/api.py\u001b[0m in \u001b[0;36mget\u001b[0;34m(url, params, **kwargs)\u001b[0m\n\u001b[1;32m     74\u001b[0m \u001b[0;34m\u001b[0m\u001b[0m\n\u001b[1;32m     75\u001b[0m     \u001b[0mkwargs\u001b[0m\u001b[0;34m.\u001b[0m\u001b[0msetdefault\u001b[0m\u001b[0;34m(\u001b[0m\u001b[0;34m'allow_redirects'\u001b[0m\u001b[0;34m,\u001b[0m \u001b[0;32mTrue\u001b[0m\u001b[0;34m)\u001b[0m\u001b[0;34m\u001b[0m\u001b[0;34m\u001b[0m\u001b[0m\n\u001b[0;32m---> 76\u001b[0;31m     \u001b[0;32mreturn\u001b[0m \u001b[0mrequest\u001b[0m\u001b[0;34m(\u001b[0m\u001b[0;34m'get'\u001b[0m\u001b[0;34m,\u001b[0m \u001b[0murl\u001b[0m\u001b[0;34m,\u001b[0m \u001b[0mparams\u001b[0m\u001b[0;34m=\u001b[0m\u001b[0mparams\u001b[0m\u001b[0;34m,\u001b[0m \u001b[0;34m**\u001b[0m\u001b[0mkwargs\u001b[0m\u001b[0;34m)\u001b[0m\u001b[0;34m\u001b[0m\u001b[0;34m\u001b[0m\u001b[0m\n\u001b[0m\u001b[1;32m     77\u001b[0m \u001b[0;34m\u001b[0m\u001b[0m\n\u001b[1;32m     78\u001b[0m \u001b[0;34m\u001b[0m\u001b[0m\n",
      "\u001b[0;32m~/anaconda3/lib/python3.8/site-packages/requests/api.py\u001b[0m in \u001b[0;36mrequest\u001b[0;34m(method, url, **kwargs)\u001b[0m\n\u001b[1;32m     59\u001b[0m     \u001b[0;31m# cases, and look like a memory leak in others.\u001b[0m\u001b[0;34m\u001b[0m\u001b[0;34m\u001b[0m\u001b[0;34m\u001b[0m\u001b[0m\n\u001b[1;32m     60\u001b[0m     \u001b[0;32mwith\u001b[0m \u001b[0msessions\u001b[0m\u001b[0;34m.\u001b[0m\u001b[0mSession\u001b[0m\u001b[0;34m(\u001b[0m\u001b[0;34m)\u001b[0m \u001b[0;32mas\u001b[0m \u001b[0msession\u001b[0m\u001b[0;34m:\u001b[0m\u001b[0;34m\u001b[0m\u001b[0;34m\u001b[0m\u001b[0m\n\u001b[0;32m---> 61\u001b[0;31m         \u001b[0;32mreturn\u001b[0m \u001b[0msession\u001b[0m\u001b[0;34m.\u001b[0m\u001b[0mrequest\u001b[0m\u001b[0;34m(\u001b[0m\u001b[0mmethod\u001b[0m\u001b[0;34m=\u001b[0m\u001b[0mmethod\u001b[0m\u001b[0;34m,\u001b[0m \u001b[0murl\u001b[0m\u001b[0;34m=\u001b[0m\u001b[0murl\u001b[0m\u001b[0;34m,\u001b[0m \u001b[0;34m**\u001b[0m\u001b[0mkwargs\u001b[0m\u001b[0;34m)\u001b[0m\u001b[0;34m\u001b[0m\u001b[0;34m\u001b[0m\u001b[0m\n\u001b[0m\u001b[1;32m     62\u001b[0m \u001b[0;34m\u001b[0m\u001b[0m\n\u001b[1;32m     63\u001b[0m \u001b[0;34m\u001b[0m\u001b[0m\n",
      "\u001b[0;32m~/anaconda3/lib/python3.8/site-packages/requests/sessions.py\u001b[0m in \u001b[0;36mrequest\u001b[0;34m(self, method, url, params, data, headers, cookies, files, auth, timeout, allow_redirects, proxies, hooks, stream, verify, cert, json)\u001b[0m\n\u001b[1;32m    540\u001b[0m         }\n\u001b[1;32m    541\u001b[0m         \u001b[0msend_kwargs\u001b[0m\u001b[0;34m.\u001b[0m\u001b[0mupdate\u001b[0m\u001b[0;34m(\u001b[0m\u001b[0msettings\u001b[0m\u001b[0;34m)\u001b[0m\u001b[0;34m\u001b[0m\u001b[0;34m\u001b[0m\u001b[0m\n\u001b[0;32m--> 542\u001b[0;31m         \u001b[0mresp\u001b[0m \u001b[0;34m=\u001b[0m \u001b[0mself\u001b[0m\u001b[0;34m.\u001b[0m\u001b[0msend\u001b[0m\u001b[0;34m(\u001b[0m\u001b[0mprep\u001b[0m\u001b[0;34m,\u001b[0m \u001b[0;34m**\u001b[0m\u001b[0msend_kwargs\u001b[0m\u001b[0;34m)\u001b[0m\u001b[0;34m\u001b[0m\u001b[0;34m\u001b[0m\u001b[0m\n\u001b[0m\u001b[1;32m    543\u001b[0m \u001b[0;34m\u001b[0m\u001b[0m\n\u001b[1;32m    544\u001b[0m         \u001b[0;32mreturn\u001b[0m \u001b[0mresp\u001b[0m\u001b[0;34m\u001b[0m\u001b[0;34m\u001b[0m\u001b[0m\n",
      "\u001b[0;32m~/anaconda3/lib/python3.8/site-packages/requests/sessions.py\u001b[0m in \u001b[0;36msend\u001b[0;34m(self, request, **kwargs)\u001b[0m\n\u001b[1;32m    653\u001b[0m \u001b[0;34m\u001b[0m\u001b[0m\n\u001b[1;32m    654\u001b[0m         \u001b[0;31m# Send the request\u001b[0m\u001b[0;34m\u001b[0m\u001b[0;34m\u001b[0m\u001b[0;34m\u001b[0m\u001b[0m\n\u001b[0;32m--> 655\u001b[0;31m         \u001b[0mr\u001b[0m \u001b[0;34m=\u001b[0m \u001b[0madapter\u001b[0m\u001b[0;34m.\u001b[0m\u001b[0msend\u001b[0m\u001b[0;34m(\u001b[0m\u001b[0mrequest\u001b[0m\u001b[0;34m,\u001b[0m \u001b[0;34m**\u001b[0m\u001b[0mkwargs\u001b[0m\u001b[0;34m)\u001b[0m\u001b[0;34m\u001b[0m\u001b[0;34m\u001b[0m\u001b[0m\n\u001b[0m\u001b[1;32m    656\u001b[0m \u001b[0;34m\u001b[0m\u001b[0m\n\u001b[1;32m    657\u001b[0m         \u001b[0;31m# Total elapsed time of the request (approximately)\u001b[0m\u001b[0;34m\u001b[0m\u001b[0;34m\u001b[0m\u001b[0;34m\u001b[0m\u001b[0m\n",
      "\u001b[0;32m~/anaconda3/lib/python3.8/site-packages/requests/adapters.py\u001b[0m in \u001b[0;36msend\u001b[0;34m(self, request, stream, timeout, verify, cert, proxies)\u001b[0m\n\u001b[1;32m    437\u001b[0m         \u001b[0;32mtry\u001b[0m\u001b[0;34m:\u001b[0m\u001b[0;34m\u001b[0m\u001b[0;34m\u001b[0m\u001b[0m\n\u001b[1;32m    438\u001b[0m             \u001b[0;32mif\u001b[0m \u001b[0;32mnot\u001b[0m \u001b[0mchunked\u001b[0m\u001b[0;34m:\u001b[0m\u001b[0;34m\u001b[0m\u001b[0;34m\u001b[0m\u001b[0m\n\u001b[0;32m--> 439\u001b[0;31m                 resp = conn.urlopen(\n\u001b[0m\u001b[1;32m    440\u001b[0m                     \u001b[0mmethod\u001b[0m\u001b[0;34m=\u001b[0m\u001b[0mrequest\u001b[0m\u001b[0;34m.\u001b[0m\u001b[0mmethod\u001b[0m\u001b[0;34m,\u001b[0m\u001b[0;34m\u001b[0m\u001b[0;34m\u001b[0m\u001b[0m\n\u001b[1;32m    441\u001b[0m                     \u001b[0murl\u001b[0m\u001b[0;34m=\u001b[0m\u001b[0murl\u001b[0m\u001b[0;34m,\u001b[0m\u001b[0;34m\u001b[0m\u001b[0;34m\u001b[0m\u001b[0m\n",
      "\u001b[0;32m~/anaconda3/lib/python3.8/site-packages/urllib3/connectionpool.py\u001b[0m in \u001b[0;36murlopen\u001b[0;34m(self, method, url, body, headers, retries, redirect, assert_same_host, timeout, pool_timeout, release_conn, chunked, body_pos, **response_kw)\u001b[0m\n\u001b[1;32m    697\u001b[0m \u001b[0;34m\u001b[0m\u001b[0m\n\u001b[1;32m    698\u001b[0m             \u001b[0;31m# Make the request on the httplib connection object.\u001b[0m\u001b[0;34m\u001b[0m\u001b[0;34m\u001b[0m\u001b[0;34m\u001b[0m\u001b[0m\n\u001b[0;32m--> 699\u001b[0;31m             httplib_response = self._make_request(\n\u001b[0m\u001b[1;32m    700\u001b[0m                 \u001b[0mconn\u001b[0m\u001b[0;34m,\u001b[0m\u001b[0;34m\u001b[0m\u001b[0;34m\u001b[0m\u001b[0m\n\u001b[1;32m    701\u001b[0m                 \u001b[0mmethod\u001b[0m\u001b[0;34m,\u001b[0m\u001b[0;34m\u001b[0m\u001b[0;34m\u001b[0m\u001b[0m\n",
      "\u001b[0;32m~/anaconda3/lib/python3.8/site-packages/urllib3/connectionpool.py\u001b[0m in \u001b[0;36m_make_request\u001b[0;34m(self, conn, method, url, timeout, chunked, **httplib_request_kw)\u001b[0m\n\u001b[1;32m    443\u001b[0m                     \u001b[0;31m# Python 3 (including for exceptions like SystemExit).\u001b[0m\u001b[0;34m\u001b[0m\u001b[0;34m\u001b[0m\u001b[0;34m\u001b[0m\u001b[0m\n\u001b[1;32m    444\u001b[0m                     \u001b[0;31m# Otherwise it looks like a bug in the code.\u001b[0m\u001b[0;34m\u001b[0m\u001b[0;34m\u001b[0m\u001b[0;34m\u001b[0m\u001b[0m\n\u001b[0;32m--> 445\u001b[0;31m                     \u001b[0msix\u001b[0m\u001b[0;34m.\u001b[0m\u001b[0mraise_from\u001b[0m\u001b[0;34m(\u001b[0m\u001b[0me\u001b[0m\u001b[0;34m,\u001b[0m \u001b[0;32mNone\u001b[0m\u001b[0;34m)\u001b[0m\u001b[0;34m\u001b[0m\u001b[0;34m\u001b[0m\u001b[0m\n\u001b[0m\u001b[1;32m    446\u001b[0m         \u001b[0;32mexcept\u001b[0m \u001b[0;34m(\u001b[0m\u001b[0mSocketTimeout\u001b[0m\u001b[0;34m,\u001b[0m \u001b[0mBaseSSLError\u001b[0m\u001b[0;34m,\u001b[0m \u001b[0mSocketError\u001b[0m\u001b[0;34m)\u001b[0m \u001b[0;32mas\u001b[0m \u001b[0me\u001b[0m\u001b[0;34m:\u001b[0m\u001b[0;34m\u001b[0m\u001b[0;34m\u001b[0m\u001b[0m\n\u001b[1;32m    447\u001b[0m             \u001b[0mself\u001b[0m\u001b[0;34m.\u001b[0m\u001b[0m_raise_timeout\u001b[0m\u001b[0;34m(\u001b[0m\u001b[0merr\u001b[0m\u001b[0;34m=\u001b[0m\u001b[0me\u001b[0m\u001b[0;34m,\u001b[0m \u001b[0murl\u001b[0m\u001b[0;34m=\u001b[0m\u001b[0murl\u001b[0m\u001b[0;34m,\u001b[0m \u001b[0mtimeout_value\u001b[0m\u001b[0;34m=\u001b[0m\u001b[0mread_timeout\u001b[0m\u001b[0;34m)\u001b[0m\u001b[0;34m\u001b[0m\u001b[0;34m\u001b[0m\u001b[0m\n",
      "\u001b[0;32m~/anaconda3/lib/python3.8/site-packages/urllib3/packages/six.py\u001b[0m in \u001b[0;36mraise_from\u001b[0;34m(value, from_value)\u001b[0m\n",
      "\u001b[0;32m~/anaconda3/lib/python3.8/site-packages/urllib3/connectionpool.py\u001b[0m in \u001b[0;36m_make_request\u001b[0;34m(self, conn, method, url, timeout, chunked, **httplib_request_kw)\u001b[0m\n\u001b[1;32m    438\u001b[0m                 \u001b[0;31m# Python 3\u001b[0m\u001b[0;34m\u001b[0m\u001b[0;34m\u001b[0m\u001b[0;34m\u001b[0m\u001b[0m\n\u001b[1;32m    439\u001b[0m                 \u001b[0;32mtry\u001b[0m\u001b[0;34m:\u001b[0m\u001b[0;34m\u001b[0m\u001b[0;34m\u001b[0m\u001b[0m\n\u001b[0;32m--> 440\u001b[0;31m                     \u001b[0mhttplib_response\u001b[0m \u001b[0;34m=\u001b[0m \u001b[0mconn\u001b[0m\u001b[0;34m.\u001b[0m\u001b[0mgetresponse\u001b[0m\u001b[0;34m(\u001b[0m\u001b[0;34m)\u001b[0m\u001b[0;34m\u001b[0m\u001b[0;34m\u001b[0m\u001b[0m\n\u001b[0m\u001b[1;32m    441\u001b[0m                 \u001b[0;32mexcept\u001b[0m \u001b[0mBaseException\u001b[0m \u001b[0;32mas\u001b[0m \u001b[0me\u001b[0m\u001b[0;34m:\u001b[0m\u001b[0;34m\u001b[0m\u001b[0;34m\u001b[0m\u001b[0m\n\u001b[1;32m    442\u001b[0m                     \u001b[0;31m# Remove the TypeError from the exception chain in\u001b[0m\u001b[0;34m\u001b[0m\u001b[0;34m\u001b[0m\u001b[0;34m\u001b[0m\u001b[0m\n",
      "\u001b[0;32m~/anaconda3/lib/python3.8/http/client.py\u001b[0m in \u001b[0;36mgetresponse\u001b[0;34m(self)\u001b[0m\n\u001b[1;32m   1345\u001b[0m         \u001b[0;32mtry\u001b[0m\u001b[0;34m:\u001b[0m\u001b[0;34m\u001b[0m\u001b[0;34m\u001b[0m\u001b[0m\n\u001b[1;32m   1346\u001b[0m             \u001b[0;32mtry\u001b[0m\u001b[0;34m:\u001b[0m\u001b[0;34m\u001b[0m\u001b[0;34m\u001b[0m\u001b[0m\n\u001b[0;32m-> 1347\u001b[0;31m                 \u001b[0mresponse\u001b[0m\u001b[0;34m.\u001b[0m\u001b[0mbegin\u001b[0m\u001b[0;34m(\u001b[0m\u001b[0;34m)\u001b[0m\u001b[0;34m\u001b[0m\u001b[0;34m\u001b[0m\u001b[0m\n\u001b[0m\u001b[1;32m   1348\u001b[0m             \u001b[0;32mexcept\u001b[0m \u001b[0mConnectionError\u001b[0m\u001b[0;34m:\u001b[0m\u001b[0;34m\u001b[0m\u001b[0;34m\u001b[0m\u001b[0m\n\u001b[1;32m   1349\u001b[0m                 \u001b[0mself\u001b[0m\u001b[0;34m.\u001b[0m\u001b[0mclose\u001b[0m\u001b[0;34m(\u001b[0m\u001b[0;34m)\u001b[0m\u001b[0;34m\u001b[0m\u001b[0;34m\u001b[0m\u001b[0m\n",
      "\u001b[0;32m~/anaconda3/lib/python3.8/http/client.py\u001b[0m in \u001b[0;36mbegin\u001b[0;34m(self)\u001b[0m\n\u001b[1;32m    305\u001b[0m         \u001b[0;31m# read until we get a non-100 response\u001b[0m\u001b[0;34m\u001b[0m\u001b[0;34m\u001b[0m\u001b[0;34m\u001b[0m\u001b[0m\n\u001b[1;32m    306\u001b[0m         \u001b[0;32mwhile\u001b[0m \u001b[0;32mTrue\u001b[0m\u001b[0;34m:\u001b[0m\u001b[0;34m\u001b[0m\u001b[0;34m\u001b[0m\u001b[0m\n\u001b[0;32m--> 307\u001b[0;31m             \u001b[0mversion\u001b[0m\u001b[0;34m,\u001b[0m \u001b[0mstatus\u001b[0m\u001b[0;34m,\u001b[0m \u001b[0mreason\u001b[0m \u001b[0;34m=\u001b[0m \u001b[0mself\u001b[0m\u001b[0;34m.\u001b[0m\u001b[0m_read_status\u001b[0m\u001b[0;34m(\u001b[0m\u001b[0;34m)\u001b[0m\u001b[0;34m\u001b[0m\u001b[0;34m\u001b[0m\u001b[0m\n\u001b[0m\u001b[1;32m    308\u001b[0m             \u001b[0;32mif\u001b[0m \u001b[0mstatus\u001b[0m \u001b[0;34m!=\u001b[0m \u001b[0mCONTINUE\u001b[0m\u001b[0;34m:\u001b[0m\u001b[0;34m\u001b[0m\u001b[0;34m\u001b[0m\u001b[0m\n\u001b[1;32m    309\u001b[0m                 \u001b[0;32mbreak\u001b[0m\u001b[0;34m\u001b[0m\u001b[0;34m\u001b[0m\u001b[0m\n",
      "\u001b[0;32m~/anaconda3/lib/python3.8/http/client.py\u001b[0m in \u001b[0;36m_read_status\u001b[0;34m(self)\u001b[0m\n\u001b[1;32m    266\u001b[0m \u001b[0;34m\u001b[0m\u001b[0m\n\u001b[1;32m    267\u001b[0m     \u001b[0;32mdef\u001b[0m \u001b[0m_read_status\u001b[0m\u001b[0;34m(\u001b[0m\u001b[0mself\u001b[0m\u001b[0;34m)\u001b[0m\u001b[0;34m:\u001b[0m\u001b[0;34m\u001b[0m\u001b[0;34m\u001b[0m\u001b[0m\n\u001b[0;32m--> 268\u001b[0;31m         \u001b[0mline\u001b[0m \u001b[0;34m=\u001b[0m \u001b[0mstr\u001b[0m\u001b[0;34m(\u001b[0m\u001b[0mself\u001b[0m\u001b[0;34m.\u001b[0m\u001b[0mfp\u001b[0m\u001b[0;34m.\u001b[0m\u001b[0mreadline\u001b[0m\u001b[0;34m(\u001b[0m\u001b[0m_MAXLINE\u001b[0m \u001b[0;34m+\u001b[0m \u001b[0;36m1\u001b[0m\u001b[0;34m)\u001b[0m\u001b[0;34m,\u001b[0m \u001b[0;34m\"iso-8859-1\"\u001b[0m\u001b[0;34m)\u001b[0m\u001b[0;34m\u001b[0m\u001b[0;34m\u001b[0m\u001b[0m\n\u001b[0m\u001b[1;32m    269\u001b[0m         \u001b[0;32mif\u001b[0m \u001b[0mlen\u001b[0m\u001b[0;34m(\u001b[0m\u001b[0mline\u001b[0m\u001b[0;34m)\u001b[0m \u001b[0;34m>\u001b[0m \u001b[0m_MAXLINE\u001b[0m\u001b[0;34m:\u001b[0m\u001b[0;34m\u001b[0m\u001b[0;34m\u001b[0m\u001b[0m\n\u001b[1;32m    270\u001b[0m             \u001b[0;32mraise\u001b[0m \u001b[0mLineTooLong\u001b[0m\u001b[0;34m(\u001b[0m\u001b[0;34m\"status line\"\u001b[0m\u001b[0;34m)\u001b[0m\u001b[0;34m\u001b[0m\u001b[0;34m\u001b[0m\u001b[0m\n",
      "\u001b[0;32m~/anaconda3/lib/python3.8/socket.py\u001b[0m in \u001b[0;36mreadinto\u001b[0;34m(self, b)\u001b[0m\n\u001b[1;32m    667\u001b[0m         \u001b[0;32mwhile\u001b[0m \u001b[0;32mTrue\u001b[0m\u001b[0;34m:\u001b[0m\u001b[0;34m\u001b[0m\u001b[0;34m\u001b[0m\u001b[0m\n\u001b[1;32m    668\u001b[0m             \u001b[0;32mtry\u001b[0m\u001b[0;34m:\u001b[0m\u001b[0;34m\u001b[0m\u001b[0;34m\u001b[0m\u001b[0m\n\u001b[0;32m--> 669\u001b[0;31m                 \u001b[0;32mreturn\u001b[0m \u001b[0mself\u001b[0m\u001b[0;34m.\u001b[0m\u001b[0m_sock\u001b[0m\u001b[0;34m.\u001b[0m\u001b[0mrecv_into\u001b[0m\u001b[0;34m(\u001b[0m\u001b[0mb\u001b[0m\u001b[0;34m)\u001b[0m\u001b[0;34m\u001b[0m\u001b[0;34m\u001b[0m\u001b[0m\n\u001b[0m\u001b[1;32m    670\u001b[0m             \u001b[0;32mexcept\u001b[0m \u001b[0mtimeout\u001b[0m\u001b[0;34m:\u001b[0m\u001b[0;34m\u001b[0m\u001b[0;34m\u001b[0m\u001b[0m\n\u001b[1;32m    671\u001b[0m                 \u001b[0mself\u001b[0m\u001b[0;34m.\u001b[0m\u001b[0m_timeout_occurred\u001b[0m \u001b[0;34m=\u001b[0m \u001b[0;32mTrue\u001b[0m\u001b[0;34m\u001b[0m\u001b[0;34m\u001b[0m\u001b[0m\n",
      "\u001b[0;32m~/anaconda3/lib/python3.8/ssl.py\u001b[0m in \u001b[0;36mrecv_into\u001b[0;34m(self, buffer, nbytes, flags)\u001b[0m\n\u001b[1;32m   1239\u001b[0m                   \u001b[0;34m\"non-zero flags not allowed in calls to recv_into() on %s\"\u001b[0m \u001b[0;34m%\u001b[0m\u001b[0;34m\u001b[0m\u001b[0;34m\u001b[0m\u001b[0m\n\u001b[1;32m   1240\u001b[0m                   self.__class__)\n\u001b[0;32m-> 1241\u001b[0;31m             \u001b[0;32mreturn\u001b[0m \u001b[0mself\u001b[0m\u001b[0;34m.\u001b[0m\u001b[0mread\u001b[0m\u001b[0;34m(\u001b[0m\u001b[0mnbytes\u001b[0m\u001b[0;34m,\u001b[0m \u001b[0mbuffer\u001b[0m\u001b[0;34m)\u001b[0m\u001b[0;34m\u001b[0m\u001b[0;34m\u001b[0m\u001b[0m\n\u001b[0m\u001b[1;32m   1242\u001b[0m         \u001b[0;32melse\u001b[0m\u001b[0;34m:\u001b[0m\u001b[0;34m\u001b[0m\u001b[0;34m\u001b[0m\u001b[0m\n\u001b[1;32m   1243\u001b[0m             \u001b[0;32mreturn\u001b[0m \u001b[0msuper\u001b[0m\u001b[0;34m(\u001b[0m\u001b[0;34m)\u001b[0m\u001b[0;34m.\u001b[0m\u001b[0mrecv_into\u001b[0m\u001b[0;34m(\u001b[0m\u001b[0mbuffer\u001b[0m\u001b[0;34m,\u001b[0m \u001b[0mnbytes\u001b[0m\u001b[0;34m,\u001b[0m \u001b[0mflags\u001b[0m\u001b[0;34m)\u001b[0m\u001b[0;34m\u001b[0m\u001b[0;34m\u001b[0m\u001b[0m\n",
      "\u001b[0;32m~/anaconda3/lib/python3.8/ssl.py\u001b[0m in \u001b[0;36mread\u001b[0;34m(self, len, buffer)\u001b[0m\n\u001b[1;32m   1097\u001b[0m         \u001b[0;32mtry\u001b[0m\u001b[0;34m:\u001b[0m\u001b[0;34m\u001b[0m\u001b[0;34m\u001b[0m\u001b[0m\n\u001b[1;32m   1098\u001b[0m             \u001b[0;32mif\u001b[0m \u001b[0mbuffer\u001b[0m \u001b[0;32mis\u001b[0m \u001b[0;32mnot\u001b[0m \u001b[0;32mNone\u001b[0m\u001b[0;34m:\u001b[0m\u001b[0;34m\u001b[0m\u001b[0;34m\u001b[0m\u001b[0m\n\u001b[0;32m-> 1099\u001b[0;31m                 \u001b[0;32mreturn\u001b[0m \u001b[0mself\u001b[0m\u001b[0;34m.\u001b[0m\u001b[0m_sslobj\u001b[0m\u001b[0;34m.\u001b[0m\u001b[0mread\u001b[0m\u001b[0;34m(\u001b[0m\u001b[0mlen\u001b[0m\u001b[0;34m,\u001b[0m \u001b[0mbuffer\u001b[0m\u001b[0;34m)\u001b[0m\u001b[0;34m\u001b[0m\u001b[0;34m\u001b[0m\u001b[0m\n\u001b[0m\u001b[1;32m   1100\u001b[0m             \u001b[0;32melse\u001b[0m\u001b[0;34m:\u001b[0m\u001b[0;34m\u001b[0m\u001b[0;34m\u001b[0m\u001b[0m\n\u001b[1;32m   1101\u001b[0m                 \u001b[0;32mreturn\u001b[0m \u001b[0mself\u001b[0m\u001b[0;34m.\u001b[0m\u001b[0m_sslobj\u001b[0m\u001b[0;34m.\u001b[0m\u001b[0mread\u001b[0m\u001b[0;34m(\u001b[0m\u001b[0mlen\u001b[0m\u001b[0;34m)\u001b[0m\u001b[0;34m\u001b[0m\u001b[0;34m\u001b[0m\u001b[0m\n",
      "\u001b[0;31mKeyboardInterrupt\u001b[0m: "
     ]
    }
   ],
   "source": [
    "base_url = 'https://midasfurniture.com/ksa_ar/home-furniture/'\n",
    "links_seen = set()\n",
    "def visit(url, links_seen):\n",
    "    html = requests.get(url).text\n",
    "    html_soup = BeautifulSoup(html, 'html.parser')\n",
    "    links_seen.add(url)\n",
    "    for link in html_soup.find_all(\"a\"):\n",
    "        link_url = link.get('href')\n",
    "        if link_url is None:\n",
    "            continue\n",
    "        full_url = urljoin(url, link_url)\n",
    "        if full_url in links_seen:\n",
    "            continue\n",
    "        print('Found a new page:', full_url)\n",
    "        # Normally, we'd store the results here too\n",
    "        visit(full_url, links_seen)\n",
    "        \n",
    "visit(base_url, links_seen)"
   ]
  },
  {
   "cell_type": "code",
   "execution_count": null,
   "id": "0e200b61",
   "metadata": {},
   "outputs": [],
   "source": []
  },
  {
   "cell_type": "code",
   "execution_count": null,
   "id": "986b3e3f",
   "metadata": {},
   "outputs": [],
   "source": []
  },
  {
   "cell_type": "code",
   "execution_count": null,
   "id": "d62e2b86",
   "metadata": {},
   "outputs": [],
   "source": []
  },
  {
   "cell_type": "code",
   "execution_count": 4,
   "id": "9fc1bd0f",
   "metadata": {},
   "outputs": [],
   "source": [
    "driver.get('https://midasfurniture.com/ksa_ar/home-furniture/living-rooms/sectional-sofa/page/1.html')"
   ]
  },
  {
   "cell_type": "code",
   "execution_count": 3,
   "id": "2cf16324",
   "metadata": {},
   "outputs": [
    {
     "name": "stdout",
     "output_type": "stream",
     "text": [
      "Mozilla/5.0 (Macintosh; U; Intel Mac OS X 10_6_6; en-us) AppleWebKit/533.20.25 (KHTML, like Gecko) Version/5.0.4 Safari/533.20.27\n"
     ]
    },
    {
     "name": "stderr",
     "output_type": "stream",
     "text": [
      "<ipython-input-3-5cd918e09ffa>:7: DeprecationWarning: use options instead of firefox_options\n",
      "  driver = webdriver.Firefox(firefox_options=options)\n"
     ]
    }
   ],
   "source": [
    "options = Options()\n",
    "ua = UserAgent()\n",
    "userAgent = ua.random\n",
    "print(userAgent)\n",
    "options.add_argument(f'user-agent={userAgent}')\n",
    "#opti#     driver = webdriver.Firefox()ons.add_argument(\"--headless\")\n",
    "driver = webdriver.Firefox(firefox_options=options)\n"
   ]
  },
  {
   "cell_type": "markdown",
   "id": "ddda6a73",
   "metadata": {},
   "source": [
    "# list accr"
   ]
  },
  {
   "cell_type": "code",
   "execution_count": 125,
   "id": "b7ec7cc4",
   "metadata": {},
   "outputs": [
    {
     "ename": "NameError",
     "evalue": "name 'nan' is not defined",
     "output_type": "error",
     "traceback": [
      "\u001b[0;31m---------------------------------------------------------------------------\u001b[0m",
      "\u001b[0;31mNameError\u001b[0m                                 Traceback (most recent call last)",
      "\u001b[0;32m<ipython-input-125-38fd3cd55110>\u001b[0m in \u001b[0;36m<module>\u001b[0;34m\u001b[0m\n\u001b[1;32m   2681\u001b[0m \u001b[0;34m{\u001b[0m\u001b[0;34m'url'\u001b[0m\u001b[0;34m:\u001b[0m \u001b[0;34m'https://midasfurniture.com/ksa_ar/regular-mattress-base-100-190-cm.html'\u001b[0m\u001b[0;34m,\u001b[0m \u001b[0;34m'cat1'\u001b[0m\u001b[0;34m:\u001b[0m \u001b[0;34m'أثاث منزلي'\u001b[0m\u001b[0;34m,\u001b[0m \u001b[0;34m'cat2'\u001b[0m\u001b[0;34m:\u001b[0m \u001b[0;34m'فرشات السرير'\u001b[0m\u001b[0;34m,\u001b[0m \u001b[0;34m'cat3'\u001b[0m\u001b[0;34m:\u001b[0m \u001b[0;34m'فرشات مقاس 90 & 100 سم'\u001b[0m\u001b[0;34m}\u001b[0m \u001b[0;34m,\u001b[0m\u001b[0;34m\u001b[0m\u001b[0;34m\u001b[0m\u001b[0m\n\u001b[1;32m   2682\u001b[0m \u001b[0;34m{\u001b[0m\u001b[0;34m'url'\u001b[0m\u001b[0;34m:\u001b[0m \u001b[0;34m'https://midasfurniture.com/ksa_ar/regular-mattress-90-200-cm.html'\u001b[0m\u001b[0;34m,\u001b[0m \u001b[0;34m'cat1'\u001b[0m\u001b[0;34m:\u001b[0m \u001b[0;34m'أثاث منزلي'\u001b[0m\u001b[0;34m,\u001b[0m \u001b[0;34m'cat2'\u001b[0m\u001b[0;34m:\u001b[0m \u001b[0;34m'فرشات السرير'\u001b[0m\u001b[0;34m,\u001b[0m \u001b[0;34m'cat3'\u001b[0m\u001b[0;34m:\u001b[0m \u001b[0;34m'فرشات مقاس 90 & 100 سم'\u001b[0m\u001b[0;34m}\u001b[0m \u001b[0;34m,\u001b[0m\u001b[0;34m\u001b[0m\u001b[0;34m\u001b[0m\u001b[0m\n\u001b[0;32m-> 2683\u001b[0;31m \u001b[0;34m{\u001b[0m\u001b[0;34m'url'\u001b[0m\u001b[0;34m:\u001b[0m \u001b[0;34m'https://midasfurniture.com/ksa_ar/hemiton-soccer-table.html'\u001b[0m\u001b[0;34m,\u001b[0m \u001b[0;34m'cat1'\u001b[0m\u001b[0;34m:\u001b[0m \u001b[0;34m'أثاث منزلي'\u001b[0m\u001b[0;34m,\u001b[0m \u001b[0;34m'cat2'\u001b[0m\u001b[0;34m:\u001b[0m \u001b[0;34m'طاولات وكراسى الألعاب'\u001b[0m\u001b[0;34m,\u001b[0m \u001b[0;34m'cat3'\u001b[0m\u001b[0;34m:\u001b[0m \u001b[0mnan\u001b[0m\u001b[0;34m}\u001b[0m \u001b[0;34m,\u001b[0m\u001b[0;34m\u001b[0m\u001b[0;34m\u001b[0m\u001b[0m\n\u001b[0m\u001b[1;32m   2684\u001b[0m \u001b[0;34m{\u001b[0m\u001b[0;34m'url'\u001b[0m\u001b[0;34m:\u001b[0m \u001b[0;34m'https://midasfurniture.com/ksa_ar/diletta-gaming-end-table.html'\u001b[0m\u001b[0;34m,\u001b[0m \u001b[0;34m'cat1'\u001b[0m\u001b[0;34m:\u001b[0m \u001b[0;34m'أثاث منزلي'\u001b[0m\u001b[0;34m,\u001b[0m \u001b[0;34m'cat2'\u001b[0m\u001b[0;34m:\u001b[0m \u001b[0;34m'طاولات وكراسى الألعاب'\u001b[0m\u001b[0;34m,\u001b[0m \u001b[0;34m'cat3'\u001b[0m\u001b[0;34m:\u001b[0m \u001b[0mnan\u001b[0m\u001b[0;34m}\u001b[0m \u001b[0;34m,\u001b[0m\u001b[0;34m\u001b[0m\u001b[0;34m\u001b[0m\u001b[0m\n\u001b[1;32m   2685\u001b[0m \u001b[0;34m{\u001b[0m\u001b[0;34m'url'\u001b[0m\u001b[0;34m:\u001b[0m \u001b[0;34m'https://midasfurniture.com/ksa_ar/diletta-gaming-center-table.html'\u001b[0m\u001b[0;34m,\u001b[0m \u001b[0;34m'cat1'\u001b[0m\u001b[0;34m:\u001b[0m \u001b[0;34m'أثاث منزلي'\u001b[0m\u001b[0;34m,\u001b[0m \u001b[0;34m'cat2'\u001b[0m\u001b[0;34m:\u001b[0m \u001b[0;34m'طاولات وكراسى الألعاب'\u001b[0m\u001b[0;34m,\u001b[0m \u001b[0;34m'cat3'\u001b[0m\u001b[0;34m:\u001b[0m \u001b[0mnan\u001b[0m\u001b[0;34m}\u001b[0m \u001b[0;34m,\u001b[0m\u001b[0;34m\u001b[0m\u001b[0;34m\u001b[0m\u001b[0m\n",
      "\u001b[0;31mNameError\u001b[0m: name 'nan' is not defined"
     ]
    }
   ],
   "source": []
  },
  {
   "cell_type": "code",
   "execution_count": 133,
   "id": "ba9ca617",
   "metadata": {},
   "outputs": [],
   "source": [
    "list_dic_cats = [\n",
    "{'url': 'https://midasfurniture.com/ksa_ar/home-furniture/living-rooms/sectional-sofa/page/', 'count': 5, 'cat1': ' أثاث منزلي', 'cat2': 'غرف المعيشة', 'cat3': ' كنب زاوية'} , \n",
    "{'url': 'https://midasfurniture.com/ksa_ar/home-furniture/living-rooms/sofa-sets/page/', 'count': 7, 'cat1': 'أثاث منزلي', 'cat2': 'غرف المعيشة', 'cat3': ' أطقم كنب'} , \n",
    "{'url': 'https://midasfurniture.com/ksa_ar/home-furniture/living-rooms/sofas-love-seats/page/', 'count': 5, 'cat1': 'أثاث منزلي', 'cat2': 'غرف المعيشة', 'cat3': 'كنب ثلاث مقاعد و مقعدين'} , \n",
    "{'url': 'https://midasfurniture.com/ksa_ar/home-furniture/living-rooms/sofa-beds/page/', 'count': 2, 'cat1': 'أثاث منزلي', 'cat2': 'غرف المعيشة', 'cat3': ' كنب سرير'} , \n",
    "{'url': 'https://midasfurniture.com/ksa_ar/home-furniture/living-rooms/chairs/page/', 'count': 8, 'cat1': 'أثاث منزلي', 'cat2': 'غرف المعيشة', 'cat3': ' كراسي'} , \n",
    "{'url': 'https://midasfurniture.com/ksa_ar/home-furniture/living-rooms/bench-and-ottoman/page/', 'count': 9, 'cat1': 'أثاث منزلي', 'cat2': 'غرف المعيشة', 'cat3': 'بنش و أوتومان'} , \n",
    "{'url': 'https://midasfurniture.com/ksa_ar/home-furniture/living-rooms/center-side-tables/page/', 'count': 4, 'cat1': 'أثاث منزلي', 'cat2': 'غرف المعيشة', 'cat3': 'أطقم طاولات'} , \n",
    "{'url': 'https://midasfurniture.com/ksa_ar/home-furniture/living-rooms/center-tables/page/', 'count': 7, 'cat1': 'أثاث منزلي', 'cat2': ' غرف المعيشة', 'cat3': ' طاولات وسط'} , \n",
    "{'url': 'https://midasfurniture.com/ksa_ar/home-furniture/living-rooms/end-tables/page/', 'count': 12, 'cat1': 'أثاث منزلي', 'cat2': ' غرف المعيشة', 'cat3': 'طاولات جانبية'} , \n",
    "{'url': 'https://midasfurniture.com/ksa_ar/home-furniture/living-rooms/consoles/page/', 'count': 6, 'cat1': 'أثاث منزلي', 'cat2': ' غرف المعيشة', 'cat3': ' طاولات كونسول'} , \n",
    "{'url': 'https://midasfurniture.com/ksa_ar/home-furniture/living-rooms/nested-tables/page/', 'count': 3, 'cat1': 'أثاث منزلي', 'cat2': 'غرف المعيشة', 'cat3': 'طاولات متداخلة'} , \n",
    "{'url': 'https://midasfurniture.com/ksa_ar/home-furniture/living-rooms/stands/page/', 'count': 3, 'cat1': 'أثاث منزلي', 'cat2': 'غرف المعيشة', 'cat3': 'ستاندات'} , \n",
    "{'url': 'https://midasfurniture.com/ksa_ar/home-furniture/living-rooms/tv-units/page/', 'count': 7, 'cat1': 'أثاث منزلي', 'cat2': 'غرف المعيشة', 'cat3': ' مكتبات وطاولات تلفزيون'} , \n",
    "{'url': 'https://midasfurniture.com/ksa_ar/home-furniture/living-rooms/cabinets/page/', 'count': 4, 'cat1': 'أثاث منزلي', 'cat2': 'غرف المعيشة', 'cat3': 'خزائن'} , \n",
    "{'url': 'https://midasfurniture.com/ksa_ar/home-furniture/living-rooms/shoe-cabinets/page/', 'count': 2, 'cat1': 'أثاث منزلي', 'cat2': 'غرف المعيشة', 'cat3': 'خزائن الأحذية'} , \n",
    "{'url': 'https://midasfurniture.com/ksa_ar/home-furniture/living-rooms/shelves/page/', 'count': 4, 'cat1': 'أثاث منزلي', 'cat2': 'غرف المعيشة', 'cat3': 'مكتبات ووحدات رفوف'} , \n",
    "{'url': 'https://midasfurniture.com/ksa_ar/home-furniture/living-rooms/chaise-lounge/page/', 'count': 2, 'cat1': 'أثاث منزلي', 'cat2': 'غرف المعيشة', 'cat3': 'شيزلونج'} , \n",
    "{'url': 'https://midasfurniture.com/ksa_ar/home-furniture/bedroom-sets/king-size-bedroom-sets/page/', 'count': 6, 'cat1': 'أثاث منزلي', 'cat2': 'غرف نوم', 'cat3': 'أطقم غرف النوم حجم ملكى'} , \n",
    "{'url': 'https://midasfurniture.com/ksa_ar/home-furniture/bedroom-sets/queen-size-bedroom-sets/page/', 'count': 2, 'cat1': 'أثاث منزلي', 'cat2': 'غرف نوم', 'cat3': 'أطقم غرف النوم حجم كوين'} , \n",
    "{'url': 'https://midasfurniture.com/ksa_ar/home-furniture/bedroom-sets/beds/page/', 'count': 2, 'cat1': 'أثاث منزلي', 'cat2': 'غرف نوم', 'cat3': 'سرير'} , \n",
    "{'url': 'https://midasfurniture.com/ksa_ar/home-furniture/bedroom-sets/night-stands/page/', 'count': 2, 'cat1': 'أثاث منزلي', 'cat2': 'غرف نوم', 'cat3': ' كومودينو'} , \n",
    "{'url': 'https://midasfurniture.com/ksa_ar/home-furniture/bedroom-sets/dresser/page/', 'count': 2, 'cat1': 'أثاث منزلي', 'cat2': 'غرف نوم', 'cat3': 'تسريحة'} , \n",
    "{'url': 'https://midasfurniture.com/ksa_ar/home-furniture/bedroom-sets/chest-of-drawers/page/', 'count': 4, 'cat1': 'أثاث منزلي', 'cat2': 'غرف نوم', 'cat3': 'وحدة ادراج'} , \n",
    "{'url': 'https://midasfurniture.com/ksa_ar/home-furniture/bedroom-sets/wardrobes/page/', 'count': 3, 'cat1': 'أثاث منزلي', 'cat2': 'غرف نوم', 'cat3': ' خزانة ملابس'} , \n",
    "{'url': 'https://midasfurniture.com/ksa_ar/home-furniture/bedroom-sets/jewellery-chest/page/', 'count': 2, 'cat1': 'أثاث منزلي', 'cat2': 'غرف نوم', 'cat3': 'وحدة أدراج مجوهرات'} , \n",
    "{'url': 'https://midasfurniture.com/ksa_ar/home-furniture/dining-rooms/dining-table-sets/page/', 'count': 5, 'cat1': 'أثاث منزلي', 'cat2': 'غرف الطعام', 'cat3': 'أطقم غرف الطعام'} , \n",
    "{'url': 'https://midasfurniture.com/ksa_ar/home-furniture/dining-rooms/dining-tables/page/', 'count': 4, 'cat1': 'أثاث منزلي', 'cat2': 'غرف الطعام', 'cat3': 'طاولة طعام'} , \n",
    "{'url': 'https://midasfurniture.com/ksa_ar/home-furniture/dining-rooms/dining-chairs/page/', 'count': 4, 'cat1': 'أثاث منزلي', 'cat2': 'غرف الطعام', 'cat3': 'كراسي الطعام'} , \n",
    "{'url': 'https://midasfurniture.com/ksa_ar/home-furniture/dining-rooms/buffet/page/', 'count': 4, 'cat1': 'أثاث منزلي', 'cat2': 'غرف الطعام', 'cat3': 'بوفيه وقاعدة بوفيه'} , \n",
    "{'url': 'https://midasfurniture.com/ksa_ar/home-furniture/dining-rooms/high-dining-table-sets/page/', 'count': 3, 'cat1': 'أثاث منزلي', 'cat2': 'غرف الطعام', 'cat3': 'أطقم طاولات طعام مرتفعة'} , \n",
    "{'url': 'https://midasfurniture.com/ksa_ar/home-furniture/dining-rooms/high-stool-chairs/page/', 'count': 3, 'cat1': 'أثاث منزلي', 'cat2': 'غرف الطعام', 'cat3': 'كراسي مرتفعة'} , \n",
    "{'url': 'https://midasfurniture.com/ksa_ar/home-furniture/dining-rooms/counter-tables/page/', 'count': 2, 'cat1': 'أثاث منزلي', 'cat2': 'غرف الطعام', 'cat3': 'طاولات متعددة الإستخدامات'} , \n",
    "{'url': 'https://midasfurniture.com/ksa_ar/home-furniture/recliners/rocker-recliner/page/', 'count': 4, 'cat1': 'أثاث منزلي', 'cat2': 'كراسي استرخاء', 'cat3': 'كرسي استرخاء هزاز'} , \n",
    "{'url': 'https://midasfurniture.com/ksa_ar/home-furniture/recliners/recliner/page/', 'count': 3, 'cat1': 'أثاث منزلي', 'cat2': ' كراسي استرخاء', 'cat3': 'كرسي استرخاء'} , \n",
    "{'url': 'https://midasfurniture.com/ksa_ar/home-furniture/recliners/sofa-recliner/page/', 'count': 2, 'cat1': 'أثاث منزلي', 'cat2': 'كراسي استرخاء', 'cat3': 'كنبة استرخاء'} , \n",
    "{'url': 'https://midasfurniture.com/ksa_ar/home-furniture/recliners/power-massage-recliner/page/', 'count': 2, 'cat1': 'أثاث منزلي', 'cat2': 'كراسي استرخاء', 'cat3': 'كراسى استرخاء كهربائى و مساج'} , \n",
    "{'url': 'https://midasfurniture.com/ksa_ar/home-furniture/kids-room/bedroom-set/page/', 'count': 2, 'cat1': 'أثاث منزلي', 'cat2': 'غرف الأطفال', 'cat3': 'أطقم غرف النوم'} , \n",
    "{'url': 'https://midasfurniture.com/ksa_ar/home-furniture/kids-room/beds/page/', 'count': 2, 'cat1': 'أثاث منزلي', 'cat2': 'غرف الأطفال', 'cat3': ' سرير'} , \n",
    "{'url': 'https://midasfurniture.com/ksa_ar/home-furniture/kids-room/night-stands/page/', 'count': 2, 'cat1': 'أثاث منزلي', 'cat2': 'غرف الأطفال', 'cat3': 'كومودينو'} , \n",
    "{'url': 'https://midasfurniture.com/ksa_ar/home-furniture/kids-room/dressers/page/', 'count': 2, 'cat1': 'أثاث منزلي', 'cat2': 'غرف الأطفال', 'cat3': 'تسريحة'} , \n",
    "{'url': 'https://midasfurniture.com/ksa_ar/home-furniture/kids-room/chest-of-drawers/page/', 'count': 2, 'cat1': 'أثاث منزلي', 'cat2': 'غرف الأطفال', 'cat3': 'وحدة أدراج'} , \n",
    "{'url': 'https://midasfurniture.com/ksa_ar/home-furniture/kids-room/wardrobes/page/', 'count': 2, 'cat1': 'أثاث منزلي', 'cat2': 'غرف الأطفال', 'cat3': 'خزانة ملابس'} , \n",
    "{'url': 'https://midasfurniture.com/ksa_ar/home-furniture/kids-room/study-desk-chairs/page/', 'count': 2, 'cat1': 'أثاث منزلي', 'cat2': 'غرف الأطفال', 'cat3': 'مكتب دراسة و كرسي'} , \n",
    "{'url': 'https://midasfurniture.com/ksa_ar/home-furniture/kids-room/bookcases-shelves/page/', 'count': 2, 'cat1': 'أثاث منزلي', 'cat2': 'غرف الأطفال', 'cat3': 'مكتبات و أرفف'} , \n",
    "{'url': 'https://midasfurniture.com/ksa_ar/home-furniture/home-office/desks/page/', 'count': 4, 'cat1': 'أثاث منزلي', 'cat2': 'مكاتب منزلية', 'cat3': 'مكاتب'} , \n",
    "{'url': 'https://midasfurniture.com/ksa_ar/home-furniture/home-office/chairs/page/', 'count': 2, 'cat1': 'أثاث منزلي', 'cat2': 'مكاتب منزلية', 'cat3': 'كراسي'} , \n",
    "{'url': 'https://midasfurniture.com/ksa_ar/home-furniture/mattresses/super-king-size-200-200cm/page/', 'count': 2, 'cat1': 'أثاث منزلي', 'cat2': 'فرشات السرير', 'cat3': 'فرشات مقاس 200×200 سم'} , \n",
    "{'url': 'https://midasfurniture.com/ksa_ar/home-furniture/mattresses/super-king-size-193-203cm/page/', 'count': 2, 'cat1': 'أثاث منزلي', 'cat2': 'فرشات السرير', 'cat3': ' فرشات مقاس 193×203 سم'} , \n",
    "{'url': 'https://midasfurniture.com/ksa_ar/home-furniture/mattresses/king-size-180-200cm/page/', 'count': 2, 'cat1': 'أثاث منزلي', 'cat2': 'فرشات السرير', 'cat3': 'فرشات مقاس 180×200 سم'} , \n",
    "{'url': 'https://midasfurniture.com/ksa_ar/home-furniture/mattresses/queen-size-150-200cm/page/', 'count': 2, 'cat1': 'أثاث منزلي', 'cat2': 'فرشات السرير', 'cat3': 'فرشات مقاس 150×200 سم'} , \n",
    "{'url': 'https://midasfurniture.com/ksa_ar/home-furniture/mattresses/queen-size-160x200cm/page/', 'count': 2, 'cat1': 'أثاث منزلي', 'cat2': 'فرشات السرير', 'cat3': ' فرشات مقاس 160×200 سم'} , \n",
    "{'url': 'https://midasfurniture.com/ksa_ar/home-furniture/mattresses/full-size-135-190/page/', 'count': 2, 'cat1': 'أثاث منزلي', 'cat2': 'فرشات السرير', 'cat3': 'فرشات مقاس 135×190 سم'} , \n",
    "{'url': 'https://midasfurniture.com/ksa_ar/home-furniture/mattresses/twin-size-120-200cm/page/', 'count': 2, 'cat1': 'أثاث منزلي ', 'cat2': 'فرشات السرير', 'cat3': 'فرشات مقاس 120×200 سم'} , \n",
    "{'url': 'https://midasfurniture.com/ksa_ar/home-furniture/mattresses/single-size-90-100x190cm/page/', 'count': 2, 'cat1': 'أثاث منزلي', 'cat2': 'فرشات السرير', 'cat3': 'فرشات مقاس 90 & 100 سم'} , \n",
    "{'url': 'https://midasfurniture.com/ksa_ar/home-furniture/gaming-chairs/page/', 'count': 2, 'cat1': 'أثاث منزلي', 'cat2': 'طاولات وكراسى الألعاب', 'cat3': ''} , \n",
    "{'url': 'https://midasfurniture.com/ksa_ar/home-furniture/pet-furniture/page/', 'count': 2, 'cat1': 'أثاث منزلي', 'cat2': 'أثاث الحيوانات الأليفة', 'cat3': ''} , \n",
    "{'url': 'https://midasfurniture.com/ksa_ar/home-furniture/outdoor-furniture/page/', 'count': 3, 'cat1': 'أثاث منزلي', 'cat2': 'أثاث خارجي', 'cat3': ''} , \n",
    "{'url': 'https://midasfurniture.com/ksa_ar/office-furniture/office-chairs/high-back/page/', 'count': 2, 'cat1': 'أثاث مكتبي' , 'cat2': 'كراسي المكتب ', 'cat3': 'ظهر مرتفع' } , \n",
    "{'url': 'https://midasfurniture.com/ksa_ar/office-furniture/office-chairs/medium-back/page/', 'count': 2, 'cat1': 'أثاث مكتبي' , 'cat2': 'كراسي المكتب ', 'cat3':  'ظهر متوسط'          } , \n",
    "{'url': 'https://midasfurniture.com/ksa_ar/office-furniture/office-chairs/low-back/page/', 'count': 2, 'cat1': 'أثاث مكتبي', 'cat2': 'كراسي المكتب', 'cat3': 'ظهر منخفض', } , \n",
    "{'url': 'https://midasfurniture.com/ksa_ar/office-furniture/visitor-chairs/page/', 'count': 3, 'cat3': '', 'cat1': 'أثاث مكتبي', 'cat2': 'كرسي زائر'} , \n",
    "{'url': 'https://midasfurniture.com/ksa_ar/office-furniture/desks-office-systems/page/', 'count': 4, 'cat3': '', 'cat1': 'أثاث مكتبي', 'cat2': 'مكاتب و مجموعة مكتبية'} , \n",
    "{'url': 'https://midasfurniture.com/ksa_ar/office-furniture/office-sofas/page/', 'count': 3, 'cat3': '', 'cat1': 'أثاث مكتبي', 'cat2': 'كنبات المكتب'} , \n",
    "{'url': 'https://midasfurniture.com/ksa_ar/office-furniture/cabinets/page/', 'count': 2, 'cat3': '', 'cat1': 'أثاث مكتبي', 'cat2': 'خزائن'} , \n",
    "{'url': 'https://midasfurniture.com/ksa_ar/office-furniture/meeting-center-end-tables/page/', 'count': 3, 'cat3': '', 'cat1': 'أثاث مكتبي', 'cat2': ' طاولات الاجتماعات و الوسط و الطاولات الجانبية'} , \n",
    "{'url': 'https://midasfurniture.com/ksa_ar/office-furniture/office-accessories/page/', 'count': 2, 'cat3': '', 'cat1': 'أثاث مكتبي', 'cat2': 'إكسسوارات المكاتب'} , \n",
    "{'url': 'https://midasfurniture.com/ksa_ar/accessories/kitchen-and-dining/dinner-sets.html/page/', 'count': 2, 'cat3': 'أطقم العشاء', 'cat1': 'إكسسوارات', 'cat2': 'أدوات المطبخ'} , \n",
    "{'url': 'https://midasfurniture.com/ksa_ar/accessories/kitchen-and-dining/dinner-and-serving-plates/page/', 'count': 4, 'cat3': 'صحون التقديم', 'cat1': 'إكسسوارات', 'cat2': 'أدوات المطبخ'} , \n",
    "{'url': 'https://midasfurniture.com/ksa_ar/accessories/kitchen-and-dining/bowls/page/', 'count': 5, 'cat3': ' أوعية تقديم', 'cat1': 'إكسسوارات', 'cat2': 'أدوات المطبخ'} , \n",
    "{'url': 'https://midasfurniture.com/ksa_ar/accessories/kitchen-and-dining/condiment-storage/page/', 'count': 2, 'cat3': 'تخزين البهارات', 'cat1': 'إكسسوارات', 'cat2': 'أدوات المطبخ'} , \n",
    "{'url': 'https://midasfurniture.com/ksa_ar/accessories/kitchen-and-dining/cups-and-saucers/page/', 'count': 4, 'cat3': 'فناجين وأطباق الشاى والقهوة', 'cat1': 'إكسسوارات', 'cat2': 'أدوات المطبخ'} , \n",
    "{'url': 'https://midasfurniture.com/ksa_ar/accessories/kitchen-and-dining/tea-and-sugar-pots/page/', 'count': 2, 'cat3': 'ابريق شاي وسكر', 'cat1': 'إكسسوارات', 'cat2': 'أدوات المطبخ'} , \n",
    "{'url': 'https://midasfurniture.com/ksa_ar/accessories/kitchen-and-dining/trays.html', 'count': 4, 'cat3': ' الصواني', 'cat1': 'إكسسوارات', 'cat2': 'أدوات المطبخ'} , \n",
    "{'url': 'https://midasfurniture.com/ksa_ar/accessories/kitchen-and-dining/tiered-stand/page/', 'count': 3, 'cat3': 'حامل تقديم', 'cat1': 'إكسسوارات', 'cat2': 'أدوات المطبخ'} , \n",
    "{'url': 'https://midasfurniture.com/ksa_ar/accessories/kitchen-and-dining/baskets/page/', 'count': 2, 'cat3': 'سلة', 'cat1': 'إكسسوارات', 'cat1': 'أدوات المطبخ'} , \n",
    "{'url': 'https://midasfurniture.com/ksa_ar/accessories/kitchen-and-dining/jars/page/', 'count': 3, 'cat3': 'مرطبان', 'cat1': 'إكسسوارات', 'cat2': 'أدوات المطبخ'} , \n",
    "{'url': 'https://midasfurniture.com/ksa_ar/accessories/kitchen-and-dining/cutlery-sets/page/', 'count': 2, 'cat3': 'أدوات تناول الطعام', 'cat1': 'إكسسوارات', 'cat2': 'أدوات المطبخ'} , \n",
    "{'url': 'https://midasfurniture.com/ksa_ar/accessories/kitchen-and-dining/napkin-rings-and-holders/page/', 'count': 2, 'cat3': 'مسكة منديل', 'cat1': 'إكسسوارات', 'cat2': 'أدوات المطبخ'} , \n",
    "{'url': 'https://midasfurniture.com/ksa_ar/accessories/kitchen-and-dining/drinking-glasses-jugs/page/', 'count': 3, 'cat3': 'أواني زجاجية وأباريق', 'cat1': 'إكسسوارات', 'cat2': 'أدوات المطبخ'} , \n",
    "{'url': 'https://midasfurniture.com/ksa_ar/accessories/table-linen/table-runners/page/', 'count': 6, 'cat3': 'مفرش طاولة', 'cat1': 'إكسسوارات', 'cat2': 'مفرش طاولة'} , \n",
    "{'url': 'https://midasfurniture.com/ksa_ar/accessories/table-linen/place-mats/page/', 'count': 7, 'cat3': 'حصيرة تحت الأطباق', 'cat1': 'إكسسوارات', 'cat2': 'مفرش طاولة'} , \n",
    "{'url': 'https://midasfurniture.com/ksa_ar/accessories/serving-trolleys/page/', 'count': 3, 'cat3': '', 'cat1': 'إكسسوارات', 'cat2': 'عربات التقديم'} , \n",
    "{'url': 'https://midasfurniture.com/ksa_ar/accessories/bathroom/page/', 'count': 2, 'cat3': 'صحن صابون', 'cat1': 'إكسسوارات', 'cat2': 'اكسسوارات الحمام'} , \n",
    "{'url': 'https://midasfurniture.com/ksa_ar/accessories/bathroom/soap-dispenser/page/', 'count': 2, 'cat3': 'موزع صابون', 'cat1': 'إكسسوارات', 'cat2': 'اكسسوارات الحمام'} , \n",
    "{'url': 'https://midasfurniture.com/ksa_ar/accessories/bathroom/tumbler-and-tooth-brush-holders/page/', 'count': 2, 'cat3': 'حامل فرشاة الأسنان', 'cat1': 'إكسسوارات', 'cat2': 'اكسسوارات الحمام'} , \n",
    "{'url': 'https://midasfurniture.com/ksa_ar/accessories/bathroom/toilet-paper-and-brush-holder/page/', 'count': 2, 'cat3': 'حامل ورق رول و فرشاة', 'cat1': 'إكسسوارات', 'cat2': 'اكسسوارات الحمام'} , \n",
    "{'url': 'https://midasfurniture.com/ksa_ar/accessories/bathroom/towel-holder-and-racks/page/', 'count': 2, 'cat3': 'حامل مناشف', 'cat1': 'إكسسوارات', 'cat2': 'اكسسوارات الحمام'} , \n",
    "{'url': 'https://midasfurniture.com/ksa_ar/accessories/bathroom/towels/page/', 'count': 2, 'cat3': 'منشفة', 'cat1': 'إكسسوارات', 'cat2': 'اكسسوارات الحمام'} , \n",
    "{'url': 'https://midasfurniture.com/ksa_ar/accessories/bathroom/laundry-baskets/page/', 'count': 2, 'cat3': 'سلال غسيل', 'cat1': 'إكسسوارات', 'cat2': 'اكسسوارات الحمام'} , \n",
    "{'url': 'https://midasfurniture.com/ksa_ar/accessories/bathroom/tissue-box/page/', 'count': 2, 'cat3': 'صندوق محارم', 'cat1': 'إكسسوارات', 'cat2': 'اكسسوارات الحمام'} , \n",
    "{'url': 'https://midasfurniture.com/ksa_ar/accessories/bathroom/waste-bins/page/', 'count': 2, 'cat3': 'سلة مهملات', 'cat1': 'إكسسوارات', 'cat2': 'اكسسوارات الحمام'} , \n",
    "{'url': 'https://midasfurniture.com/ksa_ar/accessories/bathroom/bathroom-mats/page/', 'count': 2, 'cat3': 'سجاد الحمام', 'cat1': 'إكسسوارات', 'cat2': 'اكسسوارات الحمام'} , \n",
    "{'url': 'https://midasfurniture.com/ksa_ar/accessories/candle-holders/page/', 'count': 11, 'cat3': '', 'cat1': 'إكسسوارات', 'cat2': 'شمعدان'} , \n",
    "{'url': 'https://midasfurniture.com/ksa_ar/accessories/vases-and-flowers/page/', 'count': 12, 'cat3': '', 'cat1': 'إكسسوارات', 'cat2': 'مزهريات و أحواض نبات'} , \n",
    "{'url': 'https://midasfurniture.com/ksa_ar/accessories/artificial-flowers-and-trees/page/', 'count': 10, 'cat3': 'الزهور والنباتات', 'cat1': 'إكسسوارات', 'cat2': 'ورود ونباتات'} , \n",
    "{'url': 'https://midasfurniture.com/ksa_ar/accessories/artificial-flowers-and-trees/trees/page/', 'count': 2, 'cat3': 'الأشجار', 'cat1': 'إكسسوارات', 'cat2': 'ورود ونباتات'} , \n",
    "{'url': 'https://midasfurniture.com/ksa_ar/accessories/lighting/table-lamps/page/', 'count': 7, 'cat1': 'إكسسوارات', 'cat2': 'الإضاءة', 'cat3': 'أباجورة طاولة'} , \n",
    "{'url': 'https://midasfurniture.com/ksa_ar/accessories/lighting/hanging-and-ceiling-lamps/page/', 'count': 4, 'cat1': 'إكسسوارات', 'cat2': 'الإضاءة', 'cat3': 'ثريا سقف'} , \n",
    "{'url': 'https://midasfurniture.com/ksa_ar/accessories/lighting/floor-lamps/page/', 'count': 2, 'cat1': 'إكسسوارات', 'cat2': 'الإضاءة', 'cat3': 'أباجورة أرضية'} , \n",
    "{'url': 'https://midasfurniture.com/ksa_ar/accessories/lighting/wall-lamp/page/', 'count': 3, 'cat1': 'إكسسوارات', 'cat2': 'الإضاءة', 'cat3': 'اباجورة حائط'} , \n",
    "{'url': 'https://midasfurniture.com/ksa_ar/accessories/photo-frames/page/', 'count': 3, 'cat3': '', 'cat1': 'إكسسوارات', 'cat2': 'براويز الصور'} , \n",
    "{'url': 'https://midasfurniture.com/ksa_ar/accessories/wall-arts-and-paintings/page/', 'count': 17, 'cat3': '', 'cat1': 'إكسسوارات', 'cat2': 'اللوحات وديكور الحائط'} , \n",
    "{'url': 'https://midasfurniture.com/ksa_ar/accessories/mirrors/page/', 'count': 7, 'cat3': '', 'cat1': 'إكسسوارات', 'cat2': 'المرايا'} , \n",
    "{'url': 'https://midasfurniture.com/ksa_ar/accessories/coat-hangers-screens/page/', 'count': 3, 'cat3': '', 'cat1': 'إكسسوارات', 'cat2': 'علاقات الملابس والفواصل'} , \n",
    "{'url': 'https://midasfurniture.com/ksa_ar/accessories/clocks/page/', 'count': 3, 'cat3': '', 'cat1': 'إكسسوارات', 'cat1': 'الساعات'} , \n",
    "{'url': 'https://midasfurniture.com/ksa_ar/accessories/jewellery-organisers-box/page/', 'count': 2, 'cat3': '', 'cat1': 'إكسسوارات', 'cat2': 'صناديق للمجوهرات'} , \n",
    "{'url': 'https://midasfurniture.com/ksa_ar/accessories/deco-figurines-and-objects/page/', 'count': 8, 'cat3': '', 'cat1': 'إكسسوارات', 'cat2': 'قطع فنية وديكورات'} , \n",
    "{'url': 'https://midasfurniture.com/ksa_ar/accessories/ashtrays/page/', 'count': 2, 'cat3': '', 'cat1': 'إكسسوارات', 'cat2': 'منفضة سجائر'} , \n",
    "{'url': 'https://midasfurniture.com/ksa_ar/accessories/soft-furnishings/bedding-set/page/', 'count': 2, 'cat1': 'إكسسوارات', 'cat2': 'وسائد وأغطية', 'cat3': 'أطقم مفارش السرير'} , \n",
    "{'url': 'https://midasfurniture.com/ksa_ar/accessories/soft-furnishings/cushions/page/', 'count': 20, 'cat1': 'إكسسوارات', 'cat2': 'وسائد وأغطية', 'cat3': 'وسائد'} , \n",
    "{'url': 'https://midasfurniture.com/ksa_ar/accessories/soft-furnishings/throws/page/', 'count': 2, 'cat1': 'إكسسوارات', 'cat2': 'وسائد وأغطية', 'cat3': 'شال'} , \n",
    "{'url': 'https://midasfurniture.com/ksa_ar/accessories/soft-furnishings/sleeping-pillows.html', 'count': 2, 'cat1': 'إكسسوارات', 'cat2': 'وسائد وأغطية', 'cat3': 'مخدة سرير'} , \n",
    "{'url': 'https://midasfurniture.com/ksa_ar/accessories/doormats/page/', 'count': 2, 'cat3': '', 'cat1': 'إكسسوارات', 'cat2': 'دواسات الباب'} , \n",
    "{'url': 'https://midasfurniture.com/ksa_ar/accessories/safes/page/', 'count': 3, 'cat3': '', 'cat1': 'إكسسوارات', 'cat2': 'خزنات'} , \n",
    "{'url': 'https://midasfurniture.com/ksa_ar/luxury-accessories/mugs/page/', 'count': 2, 'cat3': '', 'cat1': 'إكسسوارات', 'cat2': 'فاخرة أكواب'} , \n",
    "{'url': 'https://midasfurniture.com/ksa_ar/luxury-accessories/cups-and-saucer-sets/page/', 'count': 3, 'cat3': '', 'cat1': 'إكسسوارات فاخرة', 'cat2': 'أطقم فناجين مع أطباق'} , \n",
    "{'url': 'https://midasfurniture.com/ksa_ar/luxury-accessories/cups-and-saucers/page/', 'count': 2, 'cat3': '', 'cat1': 'إكسسوارات فاخرة', 'cat2': 'فناجين وأطباق'} , \n",
    "{'url': 'https://midasfurniture.com/ksa_ar/luxury-accessories/dinnerware/page/', 'count': 3, 'cat3': '', 'cat1': 'إكسسوارات فاخرة', 'cat2': 'أوانى طعام'} , \n",
    "{'url': 'https://midasfurniture.com/ksa_ar/luxury-accessories/drinking-dispenser/page/', 'count': 2, 'cat3': '', 'cat1': 'إكسسوارات فاخرة', 'cat2': 'موزعات المشروبات'} , \n",
    "{'url': 'https://midasfurniture.com/ksa_ar/luxury-accessories/drinking-glasses-sets/page/', 'count': 2, 'cat3': '', 'cat1': 'إكسسوارات فاخرة', 'cat2': 'أطقم أكواب المشروبات'} , \n",
    "{'url': 'https://midasfurniture.com/ksa_ar/luxury-accessories/serving-bowls/page/', 'count': 3, 'cat3': '', 'cat1': 'إكسسوارات فاخرة', 'cat2': 'أوعية تقديم'} , \n",
    "{'url': 'https://midasfurniture.com/ksa_ar/luxury-accessories/condiment-storage/page/', 'count': 2, 'cat3': '', 'cat1': 'إكسسوارات فاخرة', 'cat2': 'أوعية تخزين البهارات'} , \n",
    "{'url': 'https://midasfurniture.com/ksa_ar/luxury-accessories/napkin-rings-and-holders/page/', 'count': 2, 'cat3': '', 'cat1': 'إكسسوارات فاخرة', 'cat2': 'حامل مناديل المائدة'} , \n",
    "{'url': 'https://midasfurniture.com/ksa_ar/luxury-accessories/trays/page/', 'count': 2, 'cat3': '', 'cat1': 'إكسسوارات فاخرة', 'cat2': 'صوانى'} , \n",
    "{'url': 'https://midasfurniture.com/ksa_ar/luxury-accessories/dinner-sets/page/', 'count': 2, 'cat3': '', 'cat1': 'إكسسوارات فاخرة', 'cat2': 'أطقم أوانى الطعام'} ,  \n",
    "]"
   ]
  },
  {
   "cell_type": "code",
   "execution_count": null,
   "id": "b3b4621e",
   "metadata": {},
   "outputs": [],
   "source": []
  },
  {
   "cell_type": "code",
   "execution_count": null,
   "id": "48e3b869",
   "metadata": {},
   "outputs": [],
   "source": []
  },
  {
   "cell_type": "code",
   "execution_count": null,
   "id": "e2efc3f4",
   "metadata": {},
   "outputs": [],
   "source": []
  },
  {
   "cell_type": "code",
   "execution_count": 5,
   "id": "b084a880",
   "metadata": {},
   "outputs": [],
   "source": [
    "list_accesoires = [\n",
    "    # 'غرف المعيشة\n",
    "    [\n",
    "       'https://midasfurniture.com/ksa_ar/home-furniture/living-rooms/sectional-sofa/page/', 5, ' أثاث منزلي', 'غرف المعيشة', ' كنب زاوية'\n",
    "    ],\n",
    "    [\n",
    "       'https://midasfurniture.com/ksa_ar/home-furniture/living-rooms/sofa-sets/page/',7, 'أثاث منزلي', 'غرف المعيشة', ' أطقم كنب'\n",
    "    ],\n",
    "    [\n",
    "       'https://midasfurniture.com/ksa_ar/home-furniture/living-rooms/sofas-love-seats/page/', 5, 'أثاث منزلي', 'غرف المعيشة', 'كنب ثلاث مقاعد و مقعدين'\n",
    "    ],\n",
    "    [\n",
    "       'https://midasfurniture.com/ksa_ar/home-furniture/living-rooms/sofa-beds/page/', 2,  'أثاث منزلي' ,'غرف المعيشة',' كنب سرير'\n",
    "    ],\n",
    "    [\n",
    "      'https://midasfurniture.com/ksa_ar/home-furniture/living-rooms/chairs/page/', 8,  'أثاث منزلي', 'غرف المعيشة',' كراسي'\n",
    "    ],\n",
    "    [\n",
    "       'https://midasfurniture.com/ksa_ar/home-furniture/living-rooms/bench-and-ottoman/page/', 9,  'أثاث منزلي' ,'غرف المعيشة', 'بنش و أوتومان'\n",
    "    ],\n",
    "    [\n",
    "        'https://midasfurniture.com/ksa_ar/home-furniture/living-rooms/center-side-tables/page/', 4,  'أثاث منزلي' ,'غرف المعيشة', 'أطقم طاولات'\n",
    "    ],\n",
    "    [\n",
    "     'https://midasfurniture.com/ksa_ar/home-furniture/living-rooms/center-tables/page/', 7,  'أثاث منزلي',' غرف المعيشة',' طاولات وسط'\n",
    "    ],\n",
    "    [\n",
    "    'https://midasfurniture.com/ksa_ar/home-furniture/living-rooms/end-tables/page/', 12,  'أثاث منزلي',' غرف المعيشة','طاولات جانبية'\n",
    "    ],\n",
    "    [\n",
    "    'https://midasfurniture.com/ksa_ar/home-furniture/living-rooms/consoles/page/', 6,  'أثاث منزلي',' غرف المعيشة',' طاولات كونسول'\n",
    "    ],\n",
    "    [\n",
    "    'https://midasfurniture.com/ksa_ar/home-furniture/living-rooms/nested-tables/page/',3,  'أثاث منزلي', 'غرف المعيشة', 'طاولات متداخلة'\n",
    "    ],\n",
    "    [\n",
    "    'https://midasfurniture.com/ksa_ar/home-furniture/living-rooms/stands/page/', 3,  'أثاث منزلي' ,'غرف المعيشة', 'ستاندات'\n",
    "    ],\n",
    "    [\n",
    "    'https://midasfurniture.com/ksa_ar/home-furniture/living-rooms/tv-units/page/', 7, 'أثاث منزلي','غرف المعيشة',' مكتبات وطاولات تلفزيون'\n",
    "    ],\n",
    "    [\n",
    "    'https://midasfurniture.com/ksa_ar/home-furniture/living-rooms/cabinets/page/', 4,  'أثاث منزلي', 'غرف المعيشة', 'خزائن'  \n",
    "    ],\n",
    "    [\n",
    "    'https://midasfurniture.com/ksa_ar/home-furniture/living-rooms/shoe-cabinets/page/',2,  'أثاث منزلي' ,'غرف المعيشة' ,'خزائن الأحذية'\n",
    "    ],\n",
    "    [\n",
    "    'https://midasfurniture.com/ksa_ar/home-furniture/living-rooms/shelves/page/', 4,  'أثاث منزلي','غرف المعيشة' ,'مكتبات ووحدات رفوف'\n",
    "    ],\n",
    "    [\n",
    "    'https://midasfurniture.com/ksa_ar/home-furniture/living-rooms/chaise-lounge/page/', 2, 'أثاث منزلي','غرف المعيشة' ,'شيزلونج'\n",
    "    ],\n",
    "    \n",
    "    #غرف نوم\n",
    "    \n",
    "    \n",
    "    [\n",
    "    'https://midasfurniture.com/ksa_ar/home-furniture/bedroom-sets/king-size-bedroom-sets/page/', 6,  'أثاث منزلي' ,'غرف نوم', 'أطقم غرف النوم حجم ملكى'\n",
    "    ],\n",
    "    [\n",
    "    'https://midasfurniture.com/ksa_ar/home-furniture/bedroom-sets/queen-size-bedroom-sets/page/',2,  'أثاث منزلي','غرف نوم','أطقم غرف النوم حجم كوين'\n",
    "    ],\n",
    "    [\n",
    "'https://midasfurniture.com/ksa_ar/home-furniture/bedroom-sets/beds/page/', 2,  'أثاث منزلي','غرف نوم','سرير'\n",
    "    ],\n",
    "[\n",
    " 'https://midasfurniture.com/ksa_ar/home-furniture/bedroom-sets/night-stands/page/', 2,    'أثاث منزلي', 'غرف نوم',' كومودينو'\n",
    "],  \n",
    "    [\n",
    "'https://midasfurniture.com/ksa_ar/home-furniture/bedroom-sets/dresser/page/', 2,  'أثاث منزلي' ,'غرف نوم', 'تسريحة'\n",
    "    ],\n",
    "    [\n",
    " 'https://midasfurniture.com/ksa_ar/home-furniture/bedroom-sets/chest-of-drawers/page/',4 ,  'أثاث منزلي' ,'غرف نوم', 'وحدة ادراج'\n",
    "    ],\n",
    "    [\n",
    "    'https://midasfurniture.com/ksa_ar/home-furniture/bedroom-sets/wardrobes/page/', 3,  'أثاث منزلي', 'غرف نوم',' خزانة ملابس'\n",
    "    ],\n",
    "    [\n",
    "'https://midasfurniture.com/ksa_ar/home-furniture/bedroom-sets/jewellery-chest/page/', 2,  'أثاث منزلي', 'غرف نوم', 'وحدة أدراج مجوهرات'\n",
    "    ],\n",
    "    \n",
    "    #غرف الطعام\n",
    "    \n",
    "    \n",
    "    [\n",
    "'https://midasfurniture.com/ksa_ar/home-furniture/dining-rooms/dining-table-sets/page/', 5,  'أثاث منزلي', 'غرف الطعام', 'أطقم غرف الطعام'\n",
    "    ],\n",
    "    [\n",
    "'https://midasfurniture.com/ksa_ar/home-furniture/dining-rooms/dining-tables/page/', 4,  'أثاث منزلي', 'غرف الطعام', 'طاولة طعام'\n",
    "    ],\n",
    "    [\n",
    "'https://midasfurniture.com/ksa_ar/home-furniture/dining-rooms/dining-chairs/page/', 4,  'أثاث منزلي', 'غرف الطعام', 'كراسي الطعام'\n",
    "    ],\n",
    "    [\n",
    "'https://midasfurniture.com/ksa_ar/home-furniture/dining-rooms/buffet/page/', 4,  'أثاث منزلي', 'غرف الطعام', 'بوفيه وقاعدة بوفيه'\n",
    "    ],\n",
    "    [\n",
    "'https://midasfurniture.com/ksa_ar/home-furniture/dining-rooms/high-dining-table-sets/page/', 3,  'أثاث منزلي', 'غرف الطعام', 'أطقم طاولات طعام مرتفعة'\n",
    "    ],\n",
    "    [\n",
    "'https://midasfurniture.com/ksa_ar/home-furniture/dining-rooms/high-stool-chairs/page/', 3,  'أثاث منزلي', 'غرف الطعام', 'كراسي مرتفعة'\n",
    "    ],\n",
    "    [\n",
    "'https://midasfurniture.com/ksa_ar/home-furniture/dining-rooms/counter-tables/page/', 2,  'أثاث منزلي', 'غرف الطعام', 'طاولات متعددة الإستخدامات'\n",
    "    ],\n",
    "   \n",
    "# كراسي استرخاء\n",
    "    \n",
    "    [\n",
    "'https://midasfurniture.com/ksa_ar/home-furniture/recliners/rocker-recliner/page/', 4,  'أثاث منزلي', 'كراسي استرخاء', 'كرسي استرخاء هزاز'\n",
    "    ],\n",
    "    [\n",
    " 'https://midasfurniture.com/ksa_ar/home-furniture/recliners/recliner/page/', 3,  'أثاث منزلي',' كراسي استرخاء', 'كرسي استرخاء'\n",
    "    ],\n",
    "    [\n",
    "'https://midasfurniture.com/ksa_ar/home-furniture/recliners/sofa-recliner/page/', 2,  'أثاث منزلي', 'كراسي استرخاء', 'كنبة استرخاء'\n",
    "    ],\n",
    "    [\n",
    " 'https://midasfurniture.com/ksa_ar/home-furniture/recliners/power-massage-recliner/page/', 2,  'أثاث منزلي', 'كراسي استرخاء', 'كراسى استرخاء كهربائى و مساج'     \n",
    "    ],\n",
    "    \n",
    "    #غرف الأطفال\n",
    "    \n",
    "    \n",
    "    \n",
    "    [\n",
    " 'https://midasfurniture.com/ksa_ar/home-furniture/kids-room/bedroom-set/page/', 2,  'أثاث منزلي' ,'غرف الأطفال', 'أطقم غرف النوم'\n",
    "    ],\n",
    "    [\n",
    "'https://midasfurniture.com/ksa_ar/home-furniture/kids-room/beds/page/', 2,  'أثاث منزلي', 'غرف الأطفال',' سرير'\n",
    "    ],\n",
    "    [\n",
    "'https://midasfurniture.com/ksa_ar/home-furniture/kids-room/night-stands/page/', 2,  'أثاث منزلي', 'غرف الأطفال', 'كومودينو'\n",
    "    ],\n",
    "\n",
    "     [\n",
    "'https://midasfurniture.com/ksa_ar/home-furniture/kids-room/dressers/page/', 2,  'أثاث منزلي', 'غرف الأطفال', 'تسريحة'\n",
    "    ],\n",
    "    [\n",
    "'https://midasfurniture.com/ksa_ar/home-furniture/kids-room/chest-of-drawers/page/', 2,  'أثاث منزلي', 'غرف الأطفال' ,'وحدة أدراج'\n",
    "    ],\n",
    "    [\n",
    "'https://midasfurniture.com/ksa_ar/home-furniture/kids-room/wardrobes/page/', 2,  'أثاث منزلي', 'غرف الأطفال', 'خزانة ملابس'\n",
    "    ],\n",
    "    [\n",
    " 'https://midasfurniture.com/ksa_ar/home-furniture/kids-room/study-desk-chairs/page/', 2,  'أثاث منزلي','غرف الأطفال' ,'مكتب دراسة و كرسي'\n",
    "    ],\n",
    "\n",
    "    [\n",
    "'https://midasfurniture.com/ksa_ar/home-furniture/kids-room/bookcases-shelves/page/', 2,  'أثاث منزلي', 'غرف الأطفال' ,'مكتبات و أرفف'\n",
    "    ],\n",
    "    \n",
    "    \n",
    "    \n",
    "    #مكاتب منزلية\n",
    "    \n",
    "    [\n",
    " 'https://midasfurniture.com/ksa_ar/home-furniture/home-office/desks/page/', 4,  'أثاث منزلي', 'مكاتب منزلية', 'مكاتب'\n",
    "    ],\n",
    "    [\n",
    "'https://midasfurniture.com/ksa_ar/home-furniture/home-office/chairs/page/', 2,  'أثاث منزلي', 'مكاتب منزلية', 'كراسي'\n",
    "    ],\n",
    "    \n",
    "    \n",
    "    \n",
    "    #فرشات السرير\n",
    "    \n",
    "    [\n",
    "'https://midasfurniture.com/ksa_ar/home-furniture/mattresses/super-king-size-200-200cm/page/', 2,  'أثاث منزلي', 'فرشات السرير', 'فرشات مقاس 200×200 سم'\n",
    "    ],\n",
    "    [\n",
    "'https://midasfurniture.com/ksa_ar/home-furniture/mattresses/super-king-size-193-203cm/page/', 2,  'أثاث منزلي', 'فرشات السرير',' فرشات مقاس 193×203 سم'\n",
    "    ],\n",
    "    [\n",
    "'https://midasfurniture.com/ksa_ar/home-furniture/mattresses/king-size-180-200cm/page/', 2,  'أثاث منزلي' ,'فرشات السرير' ,'فرشات مقاس 180×200 سم'\n",
    "    ],\n",
    "    [\n",
    "'https://midasfurniture.com/ksa_ar/home-furniture/mattresses/queen-size-150-200cm/page/', 2,  'أثاث منزلي' ,'فرشات السرير' ,'فرشات مقاس 150×200 سم'\n",
    "    ],\n",
    "    [\n",
    "'https://midasfurniture.com/ksa_ar/home-furniture/mattresses/queen-size-160x200cm/page/', 2,   'أثاث منزلي' ,'فرشات السرير',' فرشات مقاس 160×200 سم'\n",
    "    ],\n",
    "    [\n",
    "'https://midasfurniture.com/ksa_ar/home-furniture/mattresses/full-size-135-190/page/', 2,  'أثاث منزلي', 'فرشات السرير' ,'فرشات مقاس 135×190 سم'\n",
    "    ],\n",
    "    [\n",
    " 'https://midasfurniture.com/ksa_ar/home-furniture/mattresses/twin-size-120-200cm/page/', 2,  'أثاث منزلي ','فرشات السرير' ,'فرشات مقاس 120×200 سم'\n",
    "    ],\n",
    "    [\n",
    "'https://midasfurniture.com/ksa_ar/home-furniture/mattresses/single-size-90-100x190cm/page/', 2,   'أثاث منزلي', 'فرشات السرير' ,'فرشات مقاس 90 & 100 سم'\n",
    "    ],\n",
    " \n",
    "    \n",
    "    \n",
    "    \n",
    "    \n",
    "    [\n",
    "'https://midasfurniture.com/ksa_ar/home-furniture/gaming-chairs/page/', 2, '','أثاث منزلي', 'طاولات وكراسى الألعاب'\n",
    "    ],\n",
    "    \n",
    "    [\n",
    " 'https://midasfurniture.com/ksa_ar/home-furniture/pet-furniture/page/', 2, '',  'أثاث منزلي',' أثاث الحيوانات الأليفة'   \n",
    "    ],\n",
    "    \n",
    "\n",
    "    [\n",
    "'https://midasfurniture.com/ksa_ar/home-furniture/outdoor-furniture/page/', 3, '',   'أثاث منزلي', 'أثاث خارجي'\n",
    "    ],\n",
    "    \n",
    "    \n",
    "    #أثاث مكتبي\n",
    "    \n",
    "    [\n",
    "'https://midasfurniture.com/ksa_ar/office-furniture/office-chairs/high-back/page/', 2, 'ظهر مرتفع',  'أثاث مكتبي', 'كراسي المكتب'\n",
    "    ],\n",
    "        [\n",
    "'https://midasfurniture.com/ksa_ar/office-furniture/office-chairs/medium-back/page/', 2, 'ظهر متوسط',  'أثاث مكتبي', 'كراسي المكتب'\n",
    "    ],\n",
    "        [\n",
    "'https://midasfurniture.com/ksa_ar/office-furniture/office-chairs/low-back/page/', 2, 'ظهر منخفض',  'أثاث مكتبي', 'كراسي المكتب'\n",
    "    ],\n",
    "    \n",
    "    \n",
    "    [\n",
    "'https://midasfurniture.com/ksa_ar/office-furniture/visitor-chairs/page/', 3, '',  'أثاث مكتبي', 'كرسي زائر'\n",
    "    ],\n",
    "    \n",
    "    [\n",
    "'https://midasfurniture.com/ksa_ar/office-furniture/desks-office-systems/page/', 4, '',  'أثاث مكتبي', 'مكاتب و مجموعة مكتبية'   \n",
    "    ],\n",
    "    [\n",
    "'https://midasfurniture.com/ksa_ar/office-furniture/office-sofas/page/', 3, '',  'أثاث مكتبي', 'كنبات المكتب'\n",
    "    ],\n",
    "\n",
    "    [\n",
    "'https://midasfurniture.com/ksa_ar/office-furniture/cabinets/page/', 2, '',  'أثاث مكتبي', 'خزائن'\n",
    "    ],\n",
    "    [\n",
    "'https://midasfurniture.com/ksa_ar/office-furniture/meeting-center-end-tables/page/', 3, '',  'أثاث مكتبي',' طاولات الاجتماعات و الوسط و الطاولات الجانبية'\n",
    "    ],\n",
    "    [\n",
    "'https://midasfurniture.com/ksa_ar/office-furniture/office-accessories/page/', 2, '',    'أثاث مكتبي', 'إكسسوارات المكاتب'\n",
    "    ],\n",
    "\n",
    "    \n",
    "    \n",
    "#أدوات المطبخ\n",
    "    \n",
    "    \n",
    "\n",
    "    [\n",
    " 'https://midasfurniture.com/ksa_ar/accessories/kitchen-and-dining/dinner-sets.html/page/', 2, 'أطقم العشاء',  'إكسسوارات', 'أدوات المطبخ'\n",
    "    ],\n",
    "    [\n",
    "'https://midasfurniture.com/ksa_ar/accessories/kitchen-and-dining/dinner-and-serving-plates/page/', 4, 'صحون التقديم',  'إكسسوارات', 'أدوات المطبخ'\n",
    "    ]\n",
    "    \n",
    "    ,\n",
    "    [\n",
    " 'https://midasfurniture.com/ksa_ar/accessories/kitchen-and-dining/bowls/page/', 5, ' أوعية تقديم',  'إكسسوارات', 'أدوات المطبخ'        \n",
    "    ],\n",
    "    [\n",
    "'https://midasfurniture.com/ksa_ar/accessories/kitchen-and-dining/condiment-storage/page/', 2, 'تخزين البهارات',  'إكسسوارات', 'أدوات المطبخ'       \n",
    "    ],\n",
    "[\n",
    " 'https://midasfurniture.com/ksa_ar/accessories/kitchen-and-dining/cups-and-saucers/page/', 4, 'فناجين وأطباق الشاى والقهوة',  'إكسسوارات', 'أدوات المطبخ'    \n",
    "],\n",
    "    \n",
    "[\n",
    "'https://midasfurniture.com/ksa_ar/accessories/kitchen-and-dining/tea-and-sugar-pots/page/', 2,'ابريق شاي وسكر',  'إكسسوارات', 'أدوات المطبخ'         \n",
    "],\n",
    "\n",
    "[\n",
    " 'https://midasfurniture.com/ksa_ar/accessories/kitchen-and-dining/trays.html', 4, ' الصواني',  'إكسسوارات', 'أدوات المطبخ' \n",
    "],\n",
    "\n",
    "[\n",
    "'https://midasfurniture.com/ksa_ar/accessories/kitchen-and-dining/tiered-stand/page/', 3, 'حامل تقديم',  'إكسسوارات', 'أدوات المطبخ'   \n",
    "], \n",
    "\n",
    "[\n",
    "'https://midasfurniture.com/ksa_ar/accessories/kitchen-and-dining/baskets/page/', 2, 'سلة',  'إكسسوارات', 'أدوات المطبخ'     \n",
    "],\n",
    "[\n",
    "'https://midasfurniture.com/ksa_ar/accessories/kitchen-and-dining/jars/page/', 3, 'مرطبان',  'إكسسوارات', 'أدوات المطبخ' \n",
    "],\n",
    "[\n",
    "'https://midasfurniture.com/ksa_ar/accessories/kitchen-and-dining/cutlery-sets/page/',2, 'أدوات تناول الطعام',  'إكسسوارات', 'أدوات المطبخ' \n",
    "],\n",
    "[\n",
    "'https://midasfurniture.com/ksa_ar/accessories/kitchen-and-dining/napkin-rings-and-holders/page/', 2, 'مسكة منديل',  'إكسسوارات', 'أدوات المطبخ' \n",
    "],\n",
    "[\n",
    "'https://midasfurniture.com/ksa_ar/accessories/kitchen-and-dining/drinking-glasses-jugs/page/', 3, 'أواني زجاجية وأباريق',  'إكسسوارات', 'أدوات المطبخ' \n",
    "],\n",
    "\n",
    "    \n",
    "    \n",
    "    # مفرش طاولة\n",
    "    \n",
    "    \n",
    "[\n",
    "'https://midasfurniture.com/ksa_ar/accessories/table-linen/table-runners/page/', 6, 'مفرش طاولة',   'إكسسوارات' ,'مفرش طاولة' \n",
    "],\n",
    "[\n",
    "'https://midasfurniture.com/ksa_ar/accessories/table-linen/place-mats/page/', 7, 'حصيرة تحت الأطباق',   'إكسسوارات' ,'مفرش طاولة' \n",
    "],\n",
    "\n",
    "\n",
    "\n",
    "[\n",
    " 'https://midasfurniture.com/ksa_ar/accessories/serving-trolleys/page/', 3, '',  'إكسسوارات' ,'عربات التقديم'   \n",
    "],\n",
    "\n",
    "\n",
    "\n",
    "#اكسسوارات الحمام\n",
    "\n",
    "[\n",
    "'https://midasfurniture.com/ksa_ar/accessories/bathroom/page/', 2, 'صحن صابون',  'إكسسوارات', 'اكسسوارات الحمام'  \n",
    "],\n",
    "[\n",
    "'https://midasfurniture.com/ksa_ar/accessories/bathroom/soap-dispenser/page/', 2, 'موزع صابون',  'إكسسوارات', 'اكسسوارات الحمام'  \n",
    "],\n",
    "[\n",
    "'https://midasfurniture.com/ksa_ar/accessories/bathroom/tumbler-and-tooth-brush-holders/page/', 2, 'حامل فرشاة الأسنان',  'إكسسوارات', 'اكسسوارات الحمام'  \n",
    "],\n",
    "[\n",
    "'https://midasfurniture.com/ksa_ar/accessories/bathroom/toilet-paper-and-brush-holder/page/', 2, 'حامل ورق رول و فرشاة',  'إكسسوارات', 'اكسسوارات الحمام'  \n",
    "],\n",
    "[\n",
    "'https://midasfurniture.com/ksa_ar/accessories/bathroom/towel-holder-and-racks/page/', 2, 'حامل مناشف',  'إكسسوارات', 'اكسسوارات الحمام'  \n",
    "],\n",
    "[\n",
    "'https://midasfurniture.com/ksa_ar/accessories/bathroom/towels/page/', 2, 'منشفة',  'إكسسوارات', 'اكسسوارات الحمام'  \n",
    "],\n",
    "[\n",
    "'https://midasfurniture.com/ksa_ar/accessories/bathroom/laundry-baskets/page/', 2, 'سلال غسيل',  'إكسسوارات', 'اكسسوارات الحمام'  \n",
    "],\n",
    "[\n",
    "'https://midasfurniture.com/ksa_ar/accessories/bathroom/tissue-box/page/', 2, 'صندوق محارم',  'إكسسوارات', 'اكسسوارات الحمام'  \n",
    "],\n",
    "[\n",
    "'https://midasfurniture.com/ksa_ar/accessories/bathroom/waste-bins/page/', 2, 'سلة مهملات',  'إكسسوارات', 'اكسسوارات الحمام'  \n",
    "],\n",
    "[\n",
    "'https://midasfurniture.com/ksa_ar/accessories/bathroom/bathroom-mats/page/', 2, 'سجاد الحمام',  'إكسسوارات', 'اكسسوارات الحمام'  \n",
    "],\n",
    "\n",
    "\n",
    "\n",
    "\n",
    "\n",
    "[\n",
    "    \n",
    "'https://midasfurniture.com/ksa_ar/accessories/candle-holders/page/', 11, '',    'إكسسوارات', 'شمعدان'\n",
    "],\n",
    "\n",
    "\n",
    "[\n",
    "'https://midasfurniture.com/ksa_ar/accessories/vases-and-flowers/page/', 12, '',    'إكسسوارات', 'مزهريات و أحواض نبات'\n",
    "], \n",
    "\n",
    "\n",
    "#ورود ونباتات\n",
    "\n",
    "[\n",
    "'https://midasfurniture.com/ksa_ar/accessories/artificial-flowers-and-trees/page/', 10, 'الزهور والنباتات',  'إكسسوارات', 'ورود ونباتات'  \n",
    "],\n",
    "[\n",
    "'https://midasfurniture.com/ksa_ar/accessories/artificial-flowers-and-trees/trees/page/', 2, 'الأشجار',  'إكسسوارات', 'ورود ونباتات'  \n",
    "],\n",
    "    \n",
    "\n",
    "    # الإضاءة\n",
    "    \n",
    "[\n",
    "'https://midasfurniture.com/ksa_ar/accessories/lighting/table-lamps/page/', 7 ,  'إكسسوارات' ,'الإضاءة', 'أباجورة طاولة'\n",
    "],\n",
    "[\n",
    "'https://midasfurniture.com/ksa_ar/accessories/lighting/hanging-and-ceiling-lamps/page/', 4,  'إكسسوارات', 'الإضاءة' ,'ثريا سقف'\n",
    "],\n",
    "[\n",
    "'https://midasfurniture.com/ksa_ar/accessories/lighting/floor-lamps/page/', 2,  'إكسسوارات', 'الإضاءة', 'أباجورة أرضية'\n",
    "],\n",
    "[\n",
    "'https://midasfurniture.com/ksa_ar/accessories/lighting/wall-lamp/page/', 3,  'إكسسوارات', 'الإضاءة', 'اباجورة حائط'\n",
    "],\n",
    "    \n",
    "    \n",
    "    \n",
    "    \n",
    "[\n",
    "'https://midasfurniture.com/ksa_ar/accessories/photo-frames/page/', 3, '',  'إكسسوارات' ,'براويز الصور'\n",
    "],\n",
    "    \n",
    "    \n",
    "    \n",
    "    \n",
    "[\n",
    "'https://midasfurniture.com/ksa_ar/accessories/wall-arts-and-paintings/page/', 17, '',  'إكسسوارات' ,'اللوحات وديكور الحائط'\n",
    "] ,\n",
    "    \n",
    "    \n",
    "    \n",
    "[\n",
    "'https://midasfurniture.com/ksa_ar/accessories/mirrors/page/', 7, '',    'إكسسوارات', 'المرايا'\n",
    "],\n",
    "    \n",
    "    \n",
    "    \n",
    "[\n",
    "'https://midasfurniture.com/ksa_ar/accessories/coat-hangers-screens/page/', 3, '',  'إكسسوارات', 'علاقات الملابس والفواصل'\n",
    "],\n",
    "[\n",
    "'https://midasfurniture.com/ksa_ar/accessories/clocks/page/', 3, '',  'إكسسوارات' ,'الساعات'\n",
    "],\n",
    " [\n",
    "'https://midasfurniture.com/ksa_ar/accessories/jewellery-organisers-box/page/', 2, '',  'إكسسوارات' ,'صناديق للمجوهرات'\n",
    "],\n",
    "[\n",
    "'https://midasfurniture.com/ksa_ar/accessories/deco-figurines-and-objects/page/', 8, '',  'إكسسوارات' ,'قطع فنية وديكورات'\n",
    "],\n",
    "[\n",
    "'https://midasfurniture.com/ksa_ar/accessories/ashtrays/page/', 2, '',  'إكسسوارات' ,'منفضة سجائر' \n",
    "],\n",
    "    \n",
    "   # وسائد وأغطية \n",
    "    \n",
    "[\n",
    "'https://midasfurniture.com/ksa_ar/accessories/soft-furnishings/bedding-set/page/', 2,      'إكسسوارات', 'وسائد وأغطية', 'أطقم مفارش السرير' \n",
    "\n",
    "],\n",
    "[\n",
    "'https://midasfurniture.com/ksa_ar/accessories/soft-furnishings/cushions/page/', 2,  'إكسسوارات', 'وسائد وأغطية' ,'وسائد'\n",
    "],\n",
    "[\n",
    "'https://midasfurniture.com/ksa_ar/accessories/soft-furnishings/throws/page/', 2,  'إكسسوارات', 'وسائد وأغطية', 'شال'\n",
    "],\n",
    "    [\n",
    "      'https://midasfurniture.com/ksa_ar/accessories/soft-furnishings/sleeping-pillows.html', 2,   'إكسسوارات', 'وسائد وأغطية', 'مخدة سرير'\n",
    "    ],\n",
    "    \n",
    "    \n",
    "    \n",
    "    \n",
    "    \n",
    "[\n",
    "'https://midasfurniture.com/ksa_ar/accessories/doormats/page/', 2, '',  'إكسسوارات' ,'دواسات الباب'\n",
    "],\n",
    "\n",
    "\n",
    "\n",
    "[\n",
    "'https://midasfurniture.com/ksa_ar/accessories/safes/page/', 3, '',  'إكسسوارات' ,'خزنات'\n",
    "],\n",
    "    \n",
    "    \n",
    "    \n",
    "    \n",
    "[\n",
    "'https://midasfurniture.com/ksa_ar/luxury-accessories/mugs/page/', 2, '',  'إكسسوارات', 'فاخرة أكواب'\n",
    "],   \n",
    "[\n",
    "'https://midasfurniture.com/ksa_ar/luxury-accessories/cups-and-saucer-sets/page/',3 , '',  'إكسسوارات فاخرة' ,'أطقم فناجين مع أطباق'\n",
    "],\n",
    "[\n",
    "'https://midasfurniture.com/ksa_ar/luxury-accessories/cups-and-saucers/page/', 2, '',  'إكسسوارات فاخرة' ,'فناجين وأطباق'\n",
    "],\n",
    "[\n",
    "'https://midasfurniture.com/ksa_ar/luxury-accessories/dinnerware/page/', 3, '',  'إكسسوارات فاخرة', 'أوانى طعام'\n",
    "],\n",
    "[\n",
    "'https://midasfurniture.com/ksa_ar/luxury-accessories/drinking-dispenser/page/',2, '',  'إكسسوارات فاخرة' ,'موزعات المشروبات'\n",
    "],\n",
    "[\n",
    "'https://midasfurniture.com/ksa_ar/luxury-accessories/drinking-glasses-sets/page/', 2, '',  'إكسسوارات فاخرة', 'أطقم أكواب المشروبات'\n",
    "],\n",
    "    \n",
    "[\n",
    " 'https://midasfurniture.com/ksa_ar/luxury-accessories/serving-bowls/page/', 3, '',     'إكسسوارات فاخرة' ,'أوعية تقديم'\n",
    "],\n",
    "[\n",
    "'https://midasfurniture.com/ksa_ar/luxury-accessories/condiment-storage/page/', 2, '',  'إكسسوارات فاخرة', 'أوعية تخزين البهارات'\n",
    "],\n",
    "[\n",
    "'https://midasfurniture.com/ksa_ar/luxury-accessories/napkin-rings-and-holders/page/',2, '',  'إكسسوارات فاخرة', 'حامل مناديل المائدة' \n",
    "],\n",
    "[\n",
    "    'https://midasfurniture.com/ksa_ar/luxury-accessories/trays/page/', 2, '',  'إكسسوارات فاخرة', 'صوانى'\n",
    "],\n",
    "[\n",
    "'https://midasfurniture.com/ksa_ar/luxury-accessories/dinner-sets/page/',2, '',  'إكسسوارات فاخرة', 'أطقم أوانى الطعام'\n",
    "],\n",
    "    \n",
    "    \n",
    "]"
   ]
  },
  {
   "cell_type": "code",
   "execution_count": 24,
   "id": "119be497",
   "metadata": {
    "scrolled": true
   },
   "outputs": [
    {
     "data": {
      "text/plain": [
       "'https://midasfurniture.com/ksa_ar/accessories/table-linen/page/2.html'"
      ]
     },
     "execution_count": 24,
     "metadata": {},
     "output_type": "execute_result"
    }
   ],
   "source": [
    "f'{list_accesoires[65][0]}2.html'"
   ]
  },
  {
   "cell_type": "code",
   "execution_count": 6,
   "id": "ae5c666c",
   "metadata": {},
   "outputs": [],
   "source": [
    "driver.get('https://midasfurniture.com/ksa_ar/')"
   ]
  },
  {
   "cell_type": "code",
   "execution_count": 139,
   "id": "d6571ff4",
   "metadata": {},
   "outputs": [
    {
     "data": {
      "text/plain": [
       "5"
      ]
     },
     "execution_count": 139,
     "metadata": {},
     "output_type": "execute_result"
    }
   ],
   "source": [
    "list_dic_cats[0]['count']"
   ]
  },
  {
   "cell_type": "markdown",
   "id": "e82c62b3",
   "metadata": {},
   "source": [
    "# Add categories"
   ]
  },
  {
   "cell_type": "code",
   "execution_count": 140,
   "id": "b2321d5c",
   "metadata": {
    "scrolled": true
   },
   "outputs": [
    {
     "name": "stdout",
     "output_type": "stream",
     "text": [
      "Count: 0\n"
     ]
    },
    {
     "ename": "KeyError",
     "evalue": "0",
     "output_type": "error",
     "traceback": [
      "\u001b[0;31m---------------------------------------------------------------------------\u001b[0m",
      "\u001b[0;31mKeyError\u001b[0m                                  Traceback (most recent call last)",
      "\u001b[0;32m<ipython-input-140-c9c8f7616ee3>\u001b[0m in \u001b[0;36m<module>\u001b[0;34m\u001b[0m\n\u001b[1;32m     10\u001b[0m \u001b[0;34m\u001b[0m\u001b[0m\n\u001b[1;32m     11\u001b[0m         \u001b[0mdriver\u001b[0m\u001b[0;34m.\u001b[0m\u001b[0mget\u001b[0m\u001b[0;34m(\u001b[0m\u001b[0;34mf'{toto[\"url\"]}{i}.html'\u001b[0m\u001b[0;34m)\u001b[0m\u001b[0;34m\u001b[0m\u001b[0;34m\u001b[0m\u001b[0m\n\u001b[0;32m---> 12\u001b[0;31m         \u001b[0mprint\u001b[0m\u001b[0;34m(\u001b[0m\u001b[0;34mf'{toto[0]}{i}.html'\u001b[0m\u001b[0;34m)\u001b[0m\u001b[0;34m\u001b[0m\u001b[0;34m\u001b[0m\u001b[0m\n\u001b[0m\u001b[1;32m     13\u001b[0m \u001b[0;34m\u001b[0m\u001b[0m\n\u001b[1;32m     14\u001b[0m         \u001b[0mproducts\u001b[0m \u001b[0;34m=\u001b[0m \u001b[0mdriver\u001b[0m\u001b[0;34m.\u001b[0m\u001b[0mfind_elements_by_class_name\u001b[0m\u001b[0;34m(\u001b[0m\u001b[0;34m'product-image'\u001b[0m\u001b[0;34m)\u001b[0m\u001b[0;34m\u001b[0m\u001b[0;34m\u001b[0m\u001b[0m\n",
      "\u001b[0;31mKeyError\u001b[0m: 0"
     ]
    }
   ],
   "source": [
    "links_products = []\n",
    "\n",
    "links_products = []\n",
    "list_cat1 = []\n",
    "list_cat2 = []\n",
    "list_cat3 = []\n",
    "for i, toto in enumerate(list_dic_cats):\n",
    "    print('Count:', i)\n",
    "    for i in range(1, toto['count']):\n",
    "    \n",
    "        driver.get(f'{toto[\"url\"]}{i}.html')\n",
    "        print(f'{toto[\"url\"]}{i}.html')\n",
    "\n",
    "        products = driver.find_elements_by_class_name('product-image')\n",
    "\n",
    "\n",
    "        #Forloop to get all url products\n",
    "        for product in products: \n",
    "            links_products.append(product.get_attribute('href'))\n",
    "            list_cat1.append(toto['cat1'])\n",
    "            list_cat2.append(toto['cat2'])\n",
    "            list_cat3.append(toto['cat3'])\n",
    "            time.sleep(0.5)\n",
    "        time.sleep(1)\n",
    "        print(len(links_products))\n",
    "       \n",
    "#Save link in excel files\n",
    "link_living_rooms = {\n",
    "    'liste': links_products,\n",
    "    'cat1': list_cat1,\n",
    "    'cat2': list_cat2,\n",
    "    'cat3': list_cat3,\n",
    "}\n",
    "now = datetime.now()\n",
    "dt_string = now.strftime(\"%d-%m-%Y-%H-%M-%S\")\n",
    "liste_link_living_rooms = pd.DataFrame(link_living_rooms)\n",
    "liste_link_living_rooms.to_excel(f'link_all_product_midas_test-{dt_string}.xlsx')"
   ]
  },
  {
   "cell_type": "code",
   "execution_count": 5,
   "id": "038f75a3",
   "metadata": {},
   "outputs": [
    {
     "data": {
      "text/plain": [
       "6437"
      ]
     },
     "execution_count": 5,
     "metadata": {},
     "output_type": "execute_result"
    }
   ],
   "source": [
    "\n",
    "len(links_products)"
   ]
  },
  {
   "cell_type": "code",
   "execution_count": 11,
   "id": "49d7cc64",
   "metadata": {},
   "outputs": [],
   "source": [
    "list_product  = pd.read_excel('/home/wafistos/Documents/Projects/scaping_wafi/Scraping_Midas/update midas/link_all_product_midas_cats_titi1-26-08-2021-22-23-28.xlsx')"
   ]
  },
  {
   "cell_type": "code",
   "execution_count": 12,
   "id": "14afb632",
   "metadata": {},
   "outputs": [
    {
     "data": {
      "text/html": [
       "<div>\n",
       "<style scoped>\n",
       "    .dataframe tbody tr th:only-of-type {\n",
       "        vertical-align: middle;\n",
       "    }\n",
       "\n",
       "    .dataframe tbody tr th {\n",
       "        vertical-align: top;\n",
       "    }\n",
       "\n",
       "    .dataframe thead th {\n",
       "        text-align: right;\n",
       "    }\n",
       "</style>\n",
       "<table border=\"1\" class=\"dataframe\">\n",
       "  <thead>\n",
       "    <tr style=\"text-align: right;\">\n",
       "      <th></th>\n",
       "      <th>Unnamed: 0</th>\n",
       "      <th>liste</th>\n",
       "      <th>cat1</th>\n",
       "      <th>cat2</th>\n",
       "      <th>cat3</th>\n",
       "      <th>Unnamed: 5</th>\n",
       "      <th>Unnamed: 6</th>\n",
       "    </tr>\n",
       "  </thead>\n",
       "  <tbody>\n",
       "    <tr>\n",
       "      <th>0</th>\n",
       "      <td>0</td>\n",
       "      <td>https://midasfurniture.com/ksa_ar/accrington-s...</td>\n",
       "      <td>أثاث منزلي</td>\n",
       "      <td>غرف المعيشة</td>\n",
       "      <td>كنب زاوية</td>\n",
       "      <td>NaN</td>\n",
       "      <td>NaN</td>\n",
       "    </tr>\n",
       "    <tr>\n",
       "      <th>1</th>\n",
       "      <td>1</td>\n",
       "      <td>https://midasfurniture.com/ksa_ar/lobelia.html</td>\n",
       "      <td>أثاث منزلي</td>\n",
       "      <td>غرف المعيشة</td>\n",
       "      <td>كنب زاوية</td>\n",
       "      <td>NaN</td>\n",
       "      <td>NaN</td>\n",
       "    </tr>\n",
       "    <tr>\n",
       "      <th>2</th>\n",
       "      <td>2</td>\n",
       "      <td>https://midasfurniture.com/ksa_ar/tambo.html</td>\n",
       "      <td>أثاث منزلي</td>\n",
       "      <td>غرف المعيشة</td>\n",
       "      <td>كنب زاوية</td>\n",
       "      <td>NaN</td>\n",
       "      <td>NaN</td>\n",
       "    </tr>\n",
       "    <tr>\n",
       "      <th>3</th>\n",
       "      <td>3</td>\n",
       "      <td>https://midasfurniture.com/ksa_ar/tracling.html</td>\n",
       "      <td>أثاث منزلي</td>\n",
       "      <td>غرف المعيشة</td>\n",
       "      <td>كنب زاوية</td>\n",
       "      <td>NaN</td>\n",
       "      <td>NaN</td>\n",
       "    </tr>\n",
       "    <tr>\n",
       "      <th>4</th>\n",
       "      <td>4</td>\n",
       "      <td>https://midasfurniture.com/ksa_ar/maier-sectio...</td>\n",
       "      <td>أثاث منزلي</td>\n",
       "      <td>غرف المعيشة</td>\n",
       "      <td>كنب زاوية</td>\n",
       "      <td>NaN</td>\n",
       "      <td>NaN</td>\n",
       "    </tr>\n",
       "    <tr>\n",
       "      <th>...</th>\n",
       "      <td>...</td>\n",
       "      <td>...</td>\n",
       "      <td>...</td>\n",
       "      <td>...</td>\n",
       "      <td>...</td>\n",
       "      <td>...</td>\n",
       "      <td>...</td>\n",
       "    </tr>\n",
       "    <tr>\n",
       "      <th>6426</th>\n",
       "      <td>6426</td>\n",
       "      <td>https://midasfurniture.com/ksa_ar/krantor.html</td>\n",
       "      <td>إكسسوارات فاخرة</td>\n",
       "      <td>صوانى</td>\n",
       "      <td>NaN</td>\n",
       "      <td>NaN</td>\n",
       "      <td>NaN</td>\n",
       "    </tr>\n",
       "    <tr>\n",
       "      <th>6427</th>\n",
       "      <td>6427</td>\n",
       "      <td>https://midasfurniture.com/ksa_ar/pewo-serving...</td>\n",
       "      <td>إكسسوارات فاخرة</td>\n",
       "      <td>صوانى</td>\n",
       "      <td>NaN</td>\n",
       "      <td>NaN</td>\n",
       "      <td>NaN</td>\n",
       "    </tr>\n",
       "    <tr>\n",
       "      <th>6428</th>\n",
       "      <td>6428</td>\n",
       "      <td>https://midasfurniture.com/ksa_ar/lencho-dinne...</td>\n",
       "      <td>إكسسوارات فاخرة</td>\n",
       "      <td>أطقم أوانى الطعام</td>\n",
       "      <td>NaN</td>\n",
       "      <td>NaN</td>\n",
       "      <td>NaN</td>\n",
       "    </tr>\n",
       "    <tr>\n",
       "      <th>6429</th>\n",
       "      <td>6429</td>\n",
       "      <td>https://midasfurniture.com/ksa_ar/roobani-dinn...</td>\n",
       "      <td>إكسسوارات فاخرة</td>\n",
       "      <td>أطقم أوانى الطعام</td>\n",
       "      <td>NaN</td>\n",
       "      <td>NaN</td>\n",
       "      <td>NaN</td>\n",
       "    </tr>\n",
       "    <tr>\n",
       "      <th>6430</th>\n",
       "      <td>6430</td>\n",
       "      <td>https://midasfurniture.com/ksa_ar/temara-dinne...</td>\n",
       "      <td>إكسسوارات فاخرة</td>\n",
       "      <td>أطقم أوانى الطعام</td>\n",
       "      <td>NaN</td>\n",
       "      <td>NaN</td>\n",
       "      <td>NaN</td>\n",
       "    </tr>\n",
       "  </tbody>\n",
       "</table>\n",
       "<p>6431 rows × 7 columns</p>\n",
       "</div>"
      ],
      "text/plain": [
       "      Unnamed: 0                                              liste  \\\n",
       "0              0  https://midasfurniture.com/ksa_ar/accrington-s...   \n",
       "1              1     https://midasfurniture.com/ksa_ar/lobelia.html   \n",
       "2              2       https://midasfurniture.com/ksa_ar/tambo.html   \n",
       "3              3    https://midasfurniture.com/ksa_ar/tracling.html   \n",
       "4              4  https://midasfurniture.com/ksa_ar/maier-sectio...   \n",
       "...          ...                                                ...   \n",
       "6426        6426     https://midasfurniture.com/ksa_ar/krantor.html   \n",
       "6427        6427  https://midasfurniture.com/ksa_ar/pewo-serving...   \n",
       "6428        6428  https://midasfurniture.com/ksa_ar/lencho-dinne...   \n",
       "6429        6429  https://midasfurniture.com/ksa_ar/roobani-dinn...   \n",
       "6430        6430  https://midasfurniture.com/ksa_ar/temara-dinne...   \n",
       "\n",
       "                 cat1               cat2        cat3  Unnamed: 5  Unnamed: 6  \n",
       "0          أثاث منزلي        غرف المعيشة   كنب زاوية         NaN         NaN  \n",
       "1          أثاث منزلي        غرف المعيشة   كنب زاوية         NaN         NaN  \n",
       "2          أثاث منزلي        غرف المعيشة   كنب زاوية         NaN         NaN  \n",
       "3          أثاث منزلي        غرف المعيشة   كنب زاوية         NaN         NaN  \n",
       "4          أثاث منزلي        غرف المعيشة   كنب زاوية         NaN         NaN  \n",
       "...               ...                ...         ...         ...         ...  \n",
       "6426  إكسسوارات فاخرة              صوانى         NaN         NaN         NaN  \n",
       "6427  إكسسوارات فاخرة              صوانى         NaN         NaN         NaN  \n",
       "6428  إكسسوارات فاخرة  أطقم أوانى الطعام         NaN         NaN         NaN  \n",
       "6429  إكسسوارات فاخرة  أطقم أوانى الطعام         NaN         NaN         NaN  \n",
       "6430  إكسسوارات فاخرة  أطقم أوانى الطعام         NaN         NaN         NaN  \n",
       "\n",
       "[6431 rows x 7 columns]"
      ]
     },
     "execution_count": 12,
     "metadata": {},
     "output_type": "execute_result"
    }
   ],
   "source": [
    "list_product"
   ]
  },
  {
   "cell_type": "code",
   "execution_count": 13,
   "id": "b6261a33",
   "metadata": {},
   "outputs": [],
   "source": [
    "list_to_products = []\n",
    "\n",
    "for index, row in list_product.iterrows():\n",
    "    list_to_products.append( [row['liste'], row['cat1'], row['cat2'], row['cat3'] ] , )"
   ]
  },
  {
   "cell_type": "code",
   "execution_count": 292,
   "id": "3857cd6b",
   "metadata": {},
   "outputs": [],
   "source": [
    "df['categories3'] = ''"
   ]
  },
  {
   "cell_type": "code",
   "execution_count": 279,
   "id": "71caf833",
   "metadata": {},
   "outputs": [
    {
     "data": {
      "text/html": [
       "<div>\n",
       "<style scoped>\n",
       "    .dataframe tbody tr th:only-of-type {\n",
       "        vertical-align: middle;\n",
       "    }\n",
       "\n",
       "    .dataframe tbody tr th {\n",
       "        vertical-align: top;\n",
       "    }\n",
       "\n",
       "    .dataframe thead th {\n",
       "        text-align: right;\n",
       "    }\n",
       "</style>\n",
       "<table border=\"1\" class=\"dataframe\">\n",
       "  <thead>\n",
       "    <tr style=\"text-align: right;\">\n",
       "      <th></th>\n",
       "      <th>sku number only</th>\n",
       "      <th>sku</th>\n",
       "      <th>store_view_code</th>\n",
       "      <th>attribute_set_code</th>\n",
       "      <th>product_websites</th>\n",
       "      <th>name</th>\n",
       "      <th>estimated_delivery_enable</th>\n",
       "      <th>estimated_delivery_text</th>\n",
       "      <th>url_key</th>\n",
       "      <th>description</th>\n",
       "      <th>...</th>\n",
       "      <th>swatch_image</th>\n",
       "      <th>thumbnail_image</th>\n",
       "      <th>additional_images</th>\n",
       "      <th>product_online</th>\n",
       "      <th>qty</th>\n",
       "      <th>out_of_stock_qty</th>\n",
       "      <th>allow_backorders</th>\n",
       "      <th>is_in_stock</th>\n",
       "      <th>style</th>\n",
       "      <th>supplier</th>\n",
       "    </tr>\n",
       "  </thead>\n",
       "  <tbody>\n",
       "    <tr>\n",
       "      <th>42</th>\n",
       "      <td>120780</td>\n",
       "      <td>DAS-120780</td>\n",
       "      <td>NaN</td>\n",
       "      <td>Default</td>\n",
       "      <td>base</td>\n",
       "      <td>كنبة زاوية رولسون</td>\n",
       "      <td>__EMPTY__VALUE__</td>\n",
       "      <td>__EMPTY__VALUE__</td>\n",
       "      <td>DAS-120780كنبة زاوية رولسون</td>\n",
       "      <td>كنبة ثلاثة مقاعد يد يسار 1 قطعة  كنبة مقعد ...</td>\n",
       "      <td>...</td>\n",
       "      <td>https://cdn.midasfurniture.com/media/catalog/p...</td>\n",
       "      <td>https://cdn.midasfurniture.com/media/catalog/p...</td>\n",
       "      <td>https://cdn.midasfurniture.com/media/catalog/p...</td>\n",
       "      <td>1</td>\n",
       "      <td>0</td>\n",
       "      <td>-5</td>\n",
       "      <td>1</td>\n",
       "      <td>1</td>\n",
       "      <td>إنتقالى</td>\n",
       "      <td>DAS</td>\n",
       "    </tr>\n",
       "  </tbody>\n",
       "</table>\n",
       "<p>1 rows × 42 columns</p>\n",
       "</div>"
      ],
      "text/plain": [
       "    sku number only         sku  store_view_code attribute_set_code  \\\n",
       "42           120780  DAS-120780              NaN            Default   \n",
       "\n",
       "   product_websites               name estimated_delivery_enable  \\\n",
       "42             base  كنبة زاوية رولسون          __EMPTY__VALUE__   \n",
       "\n",
       "   estimated_delivery_text                      url_key  \\\n",
       "42        __EMPTY__VALUE__  DAS-120780كنبة زاوية رولسون   \n",
       "\n",
       "                                          description  ...  \\\n",
       "42     كنبة ثلاثة مقاعد يد يسار 1 قطعة  كنبة مقعد ...  ...   \n",
       "\n",
       "                                         swatch_image  \\\n",
       "42  https://cdn.midasfurniture.com/media/catalog/p...   \n",
       "\n",
       "                                      thumbnail_image  \\\n",
       "42  https://cdn.midasfurniture.com/media/catalog/p...   \n",
       "\n",
       "                                   additional_images  product_online qty  \\\n",
       "42  https://cdn.midasfurniture.com/media/catalog/p...              1   0   \n",
       "\n",
       "   out_of_stock_qty allow_backorders is_in_stock      style supplier  \n",
       "42               -5                1           1    إنتقالى      DAS  \n",
       "\n",
       "[1 rows x 42 columns]"
      ]
     },
     "execution_count": 279,
     "metadata": {},
     "output_type": "execute_result"
    }
   ],
   "source": [
    "df.loc[df['Link_url'] == list_to_products[44][0]]"
   ]
  },
  {
   "cell_type": "code",
   "execution_count": 283,
   "id": "660fc888",
   "metadata": {},
   "outputs": [
    {
     "data": {
      "text/plain": [
       "' كنب زاوية'"
      ]
     },
     "execution_count": 283,
     "metadata": {},
     "output_type": "execute_result"
    }
   ],
   "source": [
    "list_to_products[44][3]"
   ]
  },
  {
   "cell_type": "code",
   "execution_count": 262,
   "id": "a1e224b7",
   "metadata": {},
   "outputs": [],
   "source": [
    "df = pd.read_excel('/home/wafistos/Documents/Projects/scaping_wafi/Scraping_Midas/update midas/update_midas_20_08_2021v11.xlsx')"
   ]
  },
  {
   "cell_type": "code",
   "execution_count": 296,
   "id": "719a67f2",
   "metadata": {},
   "outputs": [],
   "source": [
    "for tt in list_to_products:\n",
    "    df.loc[df['Link_url'] == tt[0], 'categories3'] = tt[3]"
   ]
  },
  {
   "cell_type": "code",
   "execution_count": 297,
   "id": "46f7bcc6",
   "metadata": {},
   "outputs": [],
   "source": [
    "df.to_excel('Midas_update_20_08_2021v12.xlsx')"
   ]
  },
  {
   "cell_type": "markdown",
   "id": "fb511c94",
   "metadata": {},
   "source": [
    "# MaIN FONCTION"
   ]
  },
  {
   "cell_type": "code",
   "execution_count": 134,
   "id": "33e6d4c1",
   "metadata": {
    "scrolled": true
   },
   "outputs": [
    {
     "name": "stdout",
     "output_type": "stream",
     "text": [
      "*************************************\n",
      "Count: 0\n",
      "*************************************\n",
      "Count: 1\n",
      "*************************************\n",
      "Count: 2\n",
      "*************************************\n",
      "Count: 3\n",
      "*************************************\n",
      "Count: 4\n",
      "*************************************\n",
      "Count: 5\n",
      "*************************************\n",
      "Count: 6\n",
      "*************************************\n",
      "Count: 7\n",
      "*************************************\n",
      "Count: 8\n",
      "*************************************\n",
      "Count: 9\n"
     ]
    }
   ],
   "source": [
    "\n",
    "def return_details(value, list_dic):\n",
    "        val = ''\n",
    "        for i in list_dic:\n",
    "            if value in i:\n",
    "                val = i.replace(value, '')\n",
    "        return val\n",
    "count = 0\n",
    "name_excel = 'midas_update_27_08_2021_sup1.xlsx'\n",
    "df = pd.read_excel('midas1_model.xlsx')\n",
    "#ForLoop main\n",
    "for i, product in enumerate(list_to_products):\n",
    "#for i, product in enumerate(list_to_products):\n",
    "    time.sleep(1)\n",
    "    try:\n",
    "        print('*************************************')\n",
    "        print('Count:', i)\n",
    "        driver.get(product[0])\n",
    "        time.sleep(1)\n",
    "    except:\n",
    "        continue\n",
    "    try:\n",
    "        name = driver.find_element_by_class_name('product-name').text\n",
    "    \n",
    "        link_url = str(product[0])\n",
    "\n",
    "        in_stock = driver.find_element_by_class_name('availability').text\n",
    "\n",
    "        sku = driver.find_element_by_class_name('sku').text[4:]\n",
    "        sku = 'DAS-' + sku \n",
    "        url_key = (f'{sku}-{name}').replace(',', '-').replace('*', '-').replace('،', '-').replace('/', '-').replace('%', '').replace('\"', '')\n",
    "    \n",
    "        price = driver.find_elements_by_class_name('price')[0].get_attribute('innerHTML').replace('SAR', '').replace('\\n', '').replace(' ', '')\n",
    "\n",
    "        special_price = driver.find_elements_by_class_name('price')[1].get_attribute('innerHTML').replace('SAR', '').replace('\\n', '').replace(' ', '')\n",
    "\n",
    "        combination = driver.find_element_by_class_name('std').text\n",
    "    except:\n",
    "        continue\n",
    "    try:\n",
    "        combination_product_size_list = combination.split('\\n')\n",
    "        combination_product_size_list1 = driver.find_element_by_class_name('std').text.split('\\n\\n')\n",
    "        combination = combination_product_size_list[1].replace('♦', '')\n",
    "    except:\n",
    "        combination_product_size_list = combination.split('\\n')\n",
    "        combination_product_size_list1 = driver.find_element_by_class_name('std').text.split(':')\n",
    "        combination = combination_product_size_list[0].replace('♦', '')\n",
    "        \n",
    "    #product_size = combination_product_size_list[4].replace('♦', '')\n",
    "    \n",
    " # CATEGORY  *******************************************   \n",
    " \n",
    "    try:\n",
    "        category1 = list_to_products[i][1] #driver.find_element_by_class_name('category47').text\n",
    "    except:\n",
    "        category1 = ''\n",
    "    try:\n",
    "        category2 =  list_to_products[i][2]#driver.find_element_by_class_name('category52').text\n",
    "    except:\n",
    "        category2 = ''\n",
    "    try:\n",
    "        category3 = list_to_products[i][3]#driver.find_element_by_class_name('').text\n",
    "    except:\n",
    "        category3 = ''\n",
    "    print('Cat1:', category1)\n",
    "    print('Cat2:', category2)\n",
    "    print('Cat3:', category3)\n",
    "\n",
    " # MATTER  *******************************************   \n",
    "  \n",
    "    mater = return_details('مواد التصنيع', combination_product_size_list1).replace(\"\\n\", \" \").replace(':', '').replace('♦', '')\n",
    "    if mater == '':\n",
    "        mater = return_details('المواد الرئيسية', combination_product_size_list1).replace(\"\\n\", \" \").replace(':', '').replace('♦', '')\n",
    "    if mater == '':\n",
    "        for  matter in combination_product_size_list1:\n",
    "            if matter.find('Materials') == 0:\n",
    "                \n",
    "                mater = matter.replace('Materials', '').replace(':', '').replace('♦', '')\n",
    "\n",
    "    print('Mater', mater)\n",
    "# DETAIL  *******************************************   \n",
    "    \n",
    "    detail = return_details('تفاصيل المنتج', combination_product_size_list1).replace(\"\\n\", \" \").replace(':', '').replace('♦', '')\n",
    "    if detail == '':\n",
    "        for dt in combination_product_size_list1:\n",
    "\n",
    "\n",
    "            if dt.find('Combination') == 0:\n",
    "                print('coucou')\n",
    "                detail = dt.replace('♦ ', '').replace('Combination', '').replace(':', '').replace('\\n', '')\n",
    "    print('Detail: ',detail)   \n",
    "# COLOR  *******************************************   \n",
    "\n",
    "    color = return_details('اللون', combination_product_size_list1).replace(\"\\n\", \" \").replace('♦', '').replace(':', '')\n",
    "    if color == '':\n",
    "        # Additional\n",
    "        try:\n",
    "            additional_tabbed = driver.find_element_by_id('product_tabs_additional_tabbed')\n",
    "            additional_tabbed.click()\n",
    "            time.sleep(1)\n",
    "            color = driver.find_element_by_id('product-attribute-specs-table').text.replace('اللون', '')\n",
    "            \n",
    "        except:\n",
    "            color = ''\n",
    "    print('Color: ', color)\n",
    "# SIZE  *******************************************   \n",
    "    size = return_details('حجم المنتج', combination_product_size_list1).replace(\"\\n\", \" \").replace('♦', '').replace(':', '').replace('مصباح طاولة', '').replace('مصباح أرضي', '').replace('مصباح أرضي:', '').replace('ثريا سقف', '')\n",
    "    \n",
    "    \n",
    "                \n",
    "    \n",
    "    if size.find('Table Lamp') == 0:\n",
    "        size = size.replace('Table Lamp', '')\n",
    "    if size == '':\n",
    "        for size_find in combination_product_size_list1:\n",
    "            if size_find.find('الحجم') == 0:\n",
    "                size = size_find.replace('الحجم', '').replace(':', '').replace('\\n', ''). replace('♦', '').replace('  ', '')\n",
    "            elif size_find.find('Product Size') == 0:\n",
    "                size = [toto for toto in combination_product_size_list1 if toto.find('Product Size') == 0][0]\n",
    "    toto = size.split('*')\n",
    "    print(toto)\n",
    "    #Width\n",
    "    try:\n",
    "        width1 = [x for x in toto if 'عرض' in x or 'العرض' in x]\n",
    "        width2 = width1[0].split(' ')\n",
    "        width3 =  [x for x in width2 if x.isdigit()]\n",
    "        width =  str(width3[0])\n",
    "        print('width',width)\n",
    "    except:\n",
    "        print('Pas de width')\n",
    "        width = ''\n",
    "    #height\n",
    "    try:\n",
    "        height1 = [x for x in toto if 'إرتفاع' in x or ' ارتفاع'in x or 'الارتفاع' in x  ]\n",
    "        height2 = height1[0].split(' ')\n",
    "        height3 = [x for x in height2 if x.isdigit()]\n",
    "        height = str(height3[0])\n",
    "        print('height',height)\n",
    "    except:\n",
    "        print('Pas de height')\n",
    "        height = ''\n",
    "\n",
    "    #length\n",
    "    try:\n",
    "        length1 = [x for x in toto if 'عمق' in x or 'العمق' in x]\n",
    "        length2 = length1[0].split(' ')\n",
    "        length3 = [x for x in length2 if x.isdigit()]\n",
    "        length = str(length3[0])\n",
    "        print('length',length)\n",
    "    except:\n",
    "        print('Pas de height')\n",
    "        length = ''\n",
    "    \n",
    "    if size == '':\n",
    "        for size_find in combination_product_size_list1:\n",
    "            if size_find.find('Product Size') == 0:\n",
    "                pattern_H = 'H[1-9]+'\n",
    "                pattern_D = 'D[1-9]+'\n",
    "                pattern_W = 'W[1-9]+'\n",
    "                width = [re.findall(pattern_W, com)[0].replace('W', '') for com in combination_product_size_list1 if re.findall(pattern_D, com) != []][0]\n",
    "                height = [re.findall(pattern_H, com)[0].replace('H', '') for com in combination_product_size_list1 if re.findall(pattern_D, com) != []][0]\n",
    "                length = [re.findall(pattern_D, com)[0].replace('D', '') for com in combination_product_size_list1 if re.findall(pattern_D, com) != []][0]\n",
    "\n",
    "    \n",
    "    \n",
    "    \n",
    "# STYLE  *******************************************   \n",
    "    style = return_details('النوع :', combination_product_size_list1).replace(\"\\n\", \" \").replace('♦', '')\n",
    "\n",
    "    if style == '':\n",
    "        try:\n",
    "            for styl in combination_product_size_list1:\n",
    "                if styl.find('Concept') == 0:\n",
    "                    style = styl.replace('Concept :\\n♦', '').replace(':', '').replace('\\n', '')\n",
    "        except:\n",
    "            style = ''\n",
    "    if style.find('نوع المنتج') == 0:\n",
    "        style = style.replace('نوع المنتج', '').replace(':', '')\n",
    "    print('Style:', style)\n",
    "#     price = driver.find_element_by_id(\"product-attribute-specs-table\").text\n",
    "#     print(price)\n",
    "\n",
    "# IMAGES ***************************************************\n",
    "    list_images = [] \n",
    "    images = driver.find_elements_by_class_name(\"gallery-image\")# 4 images.\n",
    "    for i in images:\n",
    "        list_images.append(i.get_attribute('src'))\n",
    "\n",
    "    try:\n",
    "        base_image =  list_images[0]\n",
    "    except:\n",
    "        base_image = ''\n",
    "        \n",
    "    try:\n",
    "        t = ''\n",
    "        for i, img in enumerate(list_images[1:]):\n",
    "            if i == 0:\n",
    "                t += str(img)\n",
    "            else:\n",
    "                t += ', ' + str(img)\n",
    "        additional_images = t\n",
    "    except:\n",
    "        additional_images = ''\n",
    "    #df['Images'] = list_images\n",
    "    base_image = list_images[0]\n",
    "    small_image = list_images[0]\n",
    "    swatch_image = list_images[0]\n",
    "    thumbnail_image = list_images[0]\n",
    "    weight = 0\n",
    "#*******************************************************\n",
    "    two_month = datetime.now() + timedelta(days=60)\n",
    "    two_month = two_month.strftime(\"%m/%d/%Y\")\n",
    "    today = datetime.today().strftime(\"%m/%d/%Y\")\n",
    "#*******************************************************\n",
    "    series = pd.Series([sku,\n",
    "                         name,\n",
    "                         url_key,\n",
    "                         detail,\n",
    "                        detail,\n",
    "                         color,\n",
    "                         mater,\n",
    "                        width,\n",
    "                        height,\n",
    "                        length,\n",
    "                        weight,\n",
    "                         base_image,\n",
    "                         small_image,\n",
    "                         swatch_image,\n",
    "                         thumbnail_image,\n",
    "                         additional_images ,\n",
    "                         category1,\n",
    "                         category2,\n",
    "                         category3,\n",
    "                         price ,\n",
    "                        special_price,\n",
    "                        'Catalog, Search',\n",
    "                        'Taxable Goods',\n",
    "                        link_url,\n",
    "                        0,\n",
    "                        -5,\n",
    "                        in_stock,\n",
    "                        1,\n",
    "                        1,\n",
    "                        'مستوردة',\n",
    "                         today,\n",
    "                         two_month,\n",
    "                         'base',\n",
    "                         'Default',\n",
    "                         'simple',\n",
    "                         '',\n",
    "                        'DAS',\n",
    "                        style\n",
    "\n",
    "                        ],  index=df.columns)\n",
    "    #df.append(df1)\n",
    "    df = df.append(series, ignore_index=True)\n",
    "    df.to_excel( f'{name_excel}', index = False)\n"
   ]
  },
  {
   "cell_type": "markdown",
   "id": "59797e68",
   "metadata": {},
   "source": [
    "# Fin de fonction "
   ]
  },
  {
   "cell_type": "code",
   "execution_count": 69,
   "id": "8fe6a8fb",
   "metadata": {},
   "outputs": [],
   "source": [
    "driver.get('https://midasfurniture.com/ksa_ar/drakelle-chair.html')"
   ]
  },
  {
   "cell_type": "code",
   "execution_count": 81,
   "id": "1aee3363",
   "metadata": {},
   "outputs": [
    {
     "data": {
      "text/plain": [
       "83"
      ]
     },
     "execution_count": 81,
     "metadata": {},
     "output_type": "execute_result"
    }
   ],
   "source": [
    "len(list_url_color)"
   ]
  },
  {
   "cell_type": "code",
   "execution_count": 84,
   "id": "cf4c923f",
   "metadata": {},
   "outputs": [],
   "source": [
    "for slt in list_url_color:\n",
    "    df.loc[df['Link_url'] == slt[0], 'free_colors'] = slt[1]"
   ]
  },
  {
   "cell_type": "code",
   "execution_count": 85,
   "id": "6815c39c",
   "metadata": {},
   "outputs": [
    {
     "data": {
      "text/html": [
       "<div>\n",
       "<style scoped>\n",
       "    .dataframe tbody tr th:only-of-type {\n",
       "        vertical-align: middle;\n",
       "    }\n",
       "\n",
       "    .dataframe tbody tr th {\n",
       "        vertical-align: top;\n",
       "    }\n",
       "\n",
       "    .dataframe thead th {\n",
       "        text-align: right;\n",
       "    }\n",
       "</style>\n",
       "<table border=\"1\" class=\"dataframe\">\n",
       "  <thead>\n",
       "    <tr style=\"text-align: right;\">\n",
       "      <th></th>\n",
       "      <th>sku number only</th>\n",
       "      <th>sku</th>\n",
       "      <th>store_view_code</th>\n",
       "      <th>attribute_set_code</th>\n",
       "      <th>product_websites</th>\n",
       "      <th>name</th>\n",
       "      <th>estimated_delivery_enable</th>\n",
       "      <th>estimated_delivery_text</th>\n",
       "      <th>url_key</th>\n",
       "      <th>description</th>\n",
       "      <th>...</th>\n",
       "      <th>swatch_image</th>\n",
       "      <th>thumbnail_image</th>\n",
       "      <th>additional_images</th>\n",
       "      <th>product_online</th>\n",
       "      <th>qty</th>\n",
       "      <th>out_of_stock_qty</th>\n",
       "      <th>allow_backorders</th>\n",
       "      <th>is_in_stock</th>\n",
       "      <th>style</th>\n",
       "      <th>supplier</th>\n",
       "    </tr>\n",
       "  </thead>\n",
       "  <tbody>\n",
       "  </tbody>\n",
       "</table>\n",
       "<p>0 rows × 41 columns</p>\n",
       "</div>"
      ],
      "text/plain": [
       "Empty DataFrame\n",
       "Columns: [sku number only, sku, store_view_code, attribute_set_code, product_websites, name, estimated_delivery_enable, estimated_delivery_text, url_key, description, short_description, Link_url, categories1, categories2, categories3, categories, free_colors, raw_materials, fabric_type, ts_dimensions_width, ts_dimensions_height, ts_dimensions_length, price, special_price, visibility, tax_class_name, manufacturer, news_from_date, news_to_date, base_image, small_image, swatch_image, thumbnail_image, additional_images , product_online, qty, out_of_stock_qty, allow_backorders, is_in_stock, style, supplier]\n",
       "Index: []\n",
       "\n",
       "[0 rows x 41 columns]"
      ]
     },
     "execution_count": 85,
     "metadata": {},
     "output_type": "execute_result"
    }
   ],
   "source": [
    " df.loc[df['free_colors'].isnull()]"
   ]
  },
  {
   "cell_type": "code",
   "execution_count": 76,
   "id": "559b99b6",
   "metadata": {},
   "outputs": [
    {
     "name": "stdout",
     "output_type": "stream",
     "text": [
      "Color:   بني غامق\n"
     ]
    }
   ],
   "source": []
  },
  {
   "cell_type": "code",
   "execution_count": 78,
   "id": "d27433d5",
   "metadata": {},
   "outputs": [],
   "source": [
    "toto_list = toto['Link_url'].to_list()"
   ]
  },
  {
   "cell_type": "code",
   "execution_count": 79,
   "id": "d41cbfd9",
   "metadata": {},
   "outputs": [
    {
     "data": {
      "text/plain": [
       "83"
      ]
     },
     "execution_count": 79,
     "metadata": {},
     "output_type": "execute_result"
    }
   ],
   "source": [
    "len(toto_list)"
   ]
  },
  {
   "cell_type": "code",
   "execution_count": 86,
   "id": "6eae44a6",
   "metadata": {},
   "outputs": [],
   "source": [
    "df.to_excel('toto1.xlsx')"
   ]
  },
  {
   "cell_type": "code",
   "execution_count": 3,
   "id": "1db79ae5",
   "metadata": {},
   "outputs": [],
   "source": [
    "df = pd.read_csv('toto1.csv')"
   ]
  },
  {
   "cell_type": "code",
   "execution_count": 4,
   "id": "f338c405",
   "metadata": {},
   "outputs": [
    {
     "data": {
      "text/plain": [
       "(6103, 42)"
      ]
     },
     "execution_count": 4,
     "metadata": {},
     "output_type": "execute_result"
    }
   ],
   "source": [
    "df.shape"
   ]
  },
  {
   "cell_type": "code",
   "execution_count": 5,
   "id": "13451867",
   "metadata": {},
   "outputs": [],
   "source": [
    "cats = pd.read_excel('/home/wafistos/Documents/Projects/scaping_wafi/Scraping_Midas/Midas category.xlsx')"
   ]
  },
  {
   "cell_type": "code",
   "execution_count": 8,
   "id": "d7c0dde7",
   "metadata": {},
   "outputs": [
    {
     "data": {
      "text/plain": [
       "Index(['Name of category ', 'Num of category '], dtype='object')"
      ]
     },
     "execution_count": 8,
     "metadata": {},
     "output_type": "execute_result"
    }
   ],
   "source": [
    "cats.columns"
   ]
  },
  {
   "cell_type": "code",
   "execution_count": 9,
   "id": "282bb378",
   "metadata": {},
   "outputs": [],
   "source": [
    "list_cats = []\n",
    "for index, row in cats.iterrows():\n",
    "    list_cats.append([row['Name of category '], row['Num of category ']])"
   ]
  },
  {
   "cell_type": "code",
   "execution_count": 18,
   "id": "54737b69",
   "metadata": {},
   "outputs": [
    {
     "data": {
      "text/plain": [
       "' أطقم كنب'"
      ]
     },
     "execution_count": 18,
     "metadata": {},
     "output_type": "execute_result"
    }
   ],
   "source": [
    "list_cats[1][0]"
   ]
  },
  {
   "cell_type": "code",
   "execution_count": null,
   "id": "4d8657a2",
   "metadata": {},
   "outputs": [],
   "source": []
  },
  {
   "cell_type": "code",
   "execution_count": 45,
   "id": "10364697",
   "metadata": {},
   "outputs": [],
   "source": [
    "for tt in list_cats:\n",
    "    df.loc[df['categories3'] == tt[0], 'categories'] = tt[1]"
   ]
  },
  {
   "cell_type": "code",
   "execution_count": 46,
   "id": "c2c576bf",
   "metadata": {},
   "outputs": [
    {
     "data": {
      "text/plain": [
       "0             43790,43782,113\n",
       "1             43790,43782,113\n",
       "2             43790,43782,113\n",
       "3             43790,43782,113\n",
       "4             43790,43782,113\n",
       "                ...          \n",
       "6098    42915,42916,42921,113\n",
       "6099    42915,42916,42921,113\n",
       "6100     42915,43458,6718,113\n",
       "6101     42915,43458,6718,113\n",
       "6102     42915,43458,6718,113\n",
       "Name: categories, Length: 6103, dtype: object"
      ]
     },
     "execution_count": 46,
     "metadata": {},
     "output_type": "execute_result"
    }
   ],
   "source": [
    "df['categories']"
   ]
  },
  {
   "cell_type": "code",
   "execution_count": null,
   "id": "84f19d19",
   "metadata": {},
   "outputs": [],
   "source": []
  },
  {
   "cell_type": "code",
   "execution_count": 31,
   "id": "e28a099e",
   "metadata": {},
   "outputs": [
    {
     "data": {
      "text/plain": [
       "0      NaN\n",
       "1      NaN\n",
       "2      NaN\n",
       "3      NaN\n",
       "4      NaN\n",
       "        ..\n",
       "6098   NaN\n",
       "6099   NaN\n",
       "6100   NaN\n",
       "6101   NaN\n",
       "6102   NaN\n",
       "Name: categories, Length: 6103, dtype: float64"
      ]
     },
     "execution_count": 31,
     "metadata": {},
     "output_type": "execute_result"
    }
   ],
   "source": [
    "df['categories']"
   ]
  },
  {
   "cell_type": "code",
   "execution_count": 47,
   "id": "8f8950f8",
   "metadata": {},
   "outputs": [],
   "source": [
    "df.to_excel('update_midas_06_08_2021v6.xlsx')"
   ]
  },
  {
   "cell_type": "code",
   "execution_count": null,
   "id": "89dcad76",
   "metadata": {},
   "outputs": [],
   "source": []
  },
  {
   "cell_type": "code",
   "execution_count": null,
   "id": "8b797553",
   "metadata": {},
   "outputs": [],
   "source": []
  },
  {
   "cell_type": "code",
   "execution_count": 4,
   "id": "4f686d61",
   "metadata": {},
   "outputs": [],
   "source": [
    "df = pd.read_csv('/home/wafistos/Documents/Projects/scaping_wafi/Scraping_Midas/Midas_update_06_08_2021.csv')"
   ]
  },
  {
   "cell_type": "code",
   "execution_count": 23,
   "id": "a8fdfd0f",
   "metadata": {},
   "outputs": [],
   "source": [
    "df.to_excel('up_midas.xlsx')"
   ]
  },
  {
   "cell_type": "code",
   "execution_count": 24,
   "id": "31b49a83",
   "metadata": {},
   "outputs": [],
   "source": [
    "df = None"
   ]
  },
  {
   "cell_type": "code",
   "execution_count": 12,
   "id": "d1c35531",
   "metadata": {},
   "outputs": [
    {
     "data": {
      "text/plain": [
       "(6103, 38)"
      ]
     },
     "execution_count": 12,
     "metadata": {},
     "output_type": "execute_result"
    }
   ],
   "source": [
    "df.shape"
   ]
  },
  {
   "cell_type": "code",
   "execution_count": 5,
   "id": "612d4498",
   "metadata": {},
   "outputs": [
    {
     "data": {
      "text/plain": [
       "Index(['sku', 'name', 'estimated_delivery_text', 'is_in_stock',\n",
       "       'estimated_delivery_enable', 'url_key', 'short_description',\n",
       "       'description', 'free_colors', 'raw_materials', 'ts_dimensions_width',\n",
       "       'ts_dimensions_height', 'ts_dimensions_length', 'Weight', 'base_image',\n",
       "       'small_image', 'swatch_image', 'thumbnail_image', 'additional_images ',\n",
       "       'categories1', 'categories2', 'categories3', 'price', 'special_price',\n",
       "       'visibility', 'tax_class_name', 'Link_url', 'qty', 'out_of_stock_qty',\n",
       "       'product_online', 'allow_backorders', 'manufacturer', 'news_from_date',\n",
       "       'news_to_date', 'product_websites', 'attribute_set_code',\n",
       "       'product_type', 'store_view_code', 'supplier', 'style'],\n",
       "      dtype='object')"
      ]
     },
     "execution_count": 5,
     "metadata": {},
     "output_type": "execute_result"
    }
   ],
   "source": [
    "df.columns\n"
   ]
  },
  {
   "cell_type": "code",
   "execution_count": 7,
   "id": "c4fd3b59",
   "metadata": {},
   "outputs": [],
   "source": [
    "list_cat1 = df['categories2'].unique().tolist()"
   ]
  },
  {
   "cell_type": "code",
   "execution_count": 33,
   "id": "10c856a3",
   "metadata": {},
   "outputs": [
    {
     "data": {
      "text/plain": [
       "96"
      ]
     },
     "execution_count": 33,
     "metadata": {},
     "output_type": "execute_result"
    }
   ],
   "source": [
    "len(list_cat3)"
   ]
  },
  {
   "cell_type": "code",
   "execution_count": 32,
   "id": "9051843d",
   "metadata": {},
   "outputs": [],
   "source": [
    "for ll in range(6, 96):\n",
    "    list_cat3.append('')"
   ]
  },
  {
   "cell_type": "code",
   "execution_count": null,
   "id": "7117007c",
   "metadata": {},
   "outputs": [],
   "source": []
  },
  {
   "cell_type": "code",
   "execution_count": 22,
   "id": "e6ffa8cd",
   "metadata": {},
   "outputs": [
    {
     "data": {
      "text/plain": [
       "array([' كنب زاوية', ' أطقم كنب', 'كنب ثلاث مقاعد و مقعدين', ' كنب سرير',\n",
       "       ' كراسي', 'بنش و أوتومان', 'أطقم طاولات', ' طاولات وسط',\n",
       "       'طاولات جانبية', ' طاولات كونسول', 'طاولات متداخلة', 'ستاندات',\n",
       "       ' مكتبات وطاولات تلفزيون', 'خزائن', 'خزائن الأحذية',\n",
       "       'مكتبات ووحدات رفوف', 'أطقم غرف النوم حجم ملكى',\n",
       "       'أطقم غرف النوم حجم كوين', 'سرير', ' كومودينو', 'تسريحة',\n",
       "       'وحدة ادراج', ' خزانة ملابس', 'وحدة أدراج مجوهرات',\n",
       "       'أطقم غرف الطعام', 'طاولة طعام', 'كراسي الطعام',\n",
       "       'بوفيه وقاعدة بوفيه', 'أطقم طاولات طعام مرتفعة', 'كراسي مرتفعة',\n",
       "       'طاولات متعددة الإستخدامات', 'كرسي استرخاء هزاز', 'كرسي استرخاء',\n",
       "       'كنبة استرخاء', 'كراسى استرخاء كهربائى و مساج', 'أطقم غرف النوم',\n",
       "       ' سرير', 'كومودينو', 'وحدة أدراج', 'خزانة ملابس',\n",
       "       'مكتب دراسة و كرسي', 'مكتبات و أرفف', 'مكاتب', 'كراسي',\n",
       "       'فرشات مقاس 200×200 سم', ' فرشات مقاس 193×203 سم',\n",
       "       'فرشات مقاس 180×200 سم', 'فرشات مقاس 150×200 سم',\n",
       "       ' فرشات مقاس 160×200 سم', 'فرشات مقاس 135×190 سم',\n",
       "       'فرشات مقاس 120×200 سم', 'فرشات مقاس 90 & 100 سم',\n",
       "       'طاولات وكراسى الألعاب', ' أثاث الحيوانات الأليفة', 'أثاث خارجي',\n",
       "       'كراسي المكتب', 'كرسي زائر', 'مكاتب و مجموعة مكتبية',\n",
       "       'كنبات المكتب', ' طاولات الاجتماعات و الوسط و الطاولات الجانبية',\n",
       "       'إكسسوارات المكاتب', 'أدوات المطبخ', 'مفرش طاولة', 'عربات التقديم',\n",
       "       'اكسسوارات الحمام', 'شمعدان', 'مزهريات و أحواض نبات',\n",
       "       'ورود ونباتات', 'أباجورة طاولة', 'ثريا سقف', 'أباجورة أرضية',\n",
       "       'اباجورة حائط', 'براويز الصور', 'اللوحات وديكور الحائط', 'المرايا',\n",
       "       'علاقات الملابس والفواصل', 'الساعات', 'صناديق للمجوهرات',\n",
       "       'قطع فنية وديكورات', 'منفضة سجائر', 'أطقم مفارش السرير', 'وسائد',\n",
       "       'شال', 'دواسات الباب', 'خزنات', 'فاخرة أكواب',\n",
       "       'أطقم فناجين مع أطباق', 'فناجين وأطباق', 'أوانى طعام',\n",
       "       'موزعات المشروبات', 'أطقم أكواب المشروبات', 'أوعية تقديم',\n",
       "       'أوعية تخزين البهارات', 'حامل مناديل المائدة', 'صوانى',\n",
       "       'أطقم أوانى الطعام'], dtype=object)"
      ]
     },
     "execution_count": 22,
     "metadata": {},
     "output_type": "execute_result"
    }
   ],
   "source": [
    "df['categories2'].unique()"
   ]
  },
  {
   "cell_type": "code",
   "execution_count": 2,
   "id": "79b52da6",
   "metadata": {},
   "outputs": [],
   "source": [
    "file = pd.read_excel('/home/wafistos/Downloads/DAS Missing des.xlsx')"
   ]
  },
  {
   "cell_type": "code",
   "execution_count": 17,
   "id": "b2f6b49f",
   "metadata": {},
   "outputs": [],
   "source": [
    "midas_categories = pd.read_excel('/home/wafistos/Documents/Projects/scaping_wafi/Scraping_Midas/Categories/Midas category(1).xlsx')"
   ]
  },
  {
   "cell_type": "code",
   "execution_count": 18,
   "id": "09b0cdf3",
   "metadata": {},
   "outputs": [
    {
     "data": {
      "text/plain": [
       "Index(['Name of category ', 'Num of category ', 'description', 'Unnamed: 3',\n",
       "       'Unnamed: 4', 'Unnamed: 5', 'Unnamed: 6', 'Unnamed: 7', 'Unnamed: 8',\n",
       "       'Unnamed: 9', 'Unnamed: 10', 'Unnamed: 11', 'Unnamed: 12',\n",
       "       'Unnamed: 13', 'Unnamed: 14', 'Unnamed: 15', 'Unnamed: 16',\n",
       "       'Unnamed: 17', 'Unnamed: 18', 'Unnamed: 19', 'Unnamed: 20',\n",
       "       'Unnamed: 21', 'Unnamed: 22', 'Unnamed: 23'],\n",
       "      dtype='object')"
      ]
     },
     "execution_count": 18,
     "metadata": {},
     "output_type": "execute_result"
    }
   ],
   "source": [
    "midas_categories.columns"
   ]
  },
  {
   "cell_type": "code",
   "execution_count": 32,
   "id": "9abc0855",
   "metadata": {},
   "outputs": [],
   "source": [
    "rugaib_categories = pd.read_excel('/home/wafistos/Documents/Projects/scaping_wafi/scrapingalrugaibfurniture/sub_categories/categories/Rugaib categories .xlsx')"
   ]
  },
  {
   "cell_type": "code",
   "execution_count": 33,
   "id": "80cdbcb5",
   "metadata": {},
   "outputs": [
    {
     "data": {
      "text/plain": [
       "Index(['Name of category ', 'Num of category ', 'Discription ', 'Unnamed: 3',\n",
       "       'Unnamed: 4', 'Unnamed: 5', 'Unnamed: 6', 'Unnamed: 7', 'Unnamed: 8',\n",
       "       'Unnamed: 9', 'Unnamed: 10', 'Unnamed: 11', 'Unnamed: 12',\n",
       "       'Unnamed: 13', 'Unnamed: 14', 'Unnamed: 15', 'Unnamed: 16',\n",
       "       'Unnamed: 17', 'Unnamed: 18', 'Unnamed: 19', 'Unnamed: 20',\n",
       "       'Unnamed: 21', 'Unnamed: 22', 'Unnamed: 23', 'Unnamed: 24',\n",
       "       'Unnamed: 25'],\n",
       "      dtype='object')"
      ]
     },
     "execution_count": 33,
     "metadata": {},
     "output_type": "execute_result"
    }
   ],
   "source": [
    "rugaib_categories.columns"
   ]
  },
  {
   "cell_type": "code",
   "execution_count": 25,
   "id": "1cddd96d",
   "metadata": {},
   "outputs": [],
   "source": [
    "df = pd.read_excel('/home/wafistos/Documents/Projects/scaping_wafi/scrapingalrugaibfurniture/sub_categories/Rugaib_update_27_08_2021_v3.xlsx')"
   ]
  },
  {
   "cell_type": "code",
   "execution_count": 5,
   "id": "7863429d",
   "metadata": {},
   "outputs": [],
   "source": [
    "file['categorie'] = ''"
   ]
  },
  {
   "cell_type": "code",
   "execution_count": 36,
   "id": "8dcaa20b",
   "metadata": {},
   "outputs": [],
   "source": [
    "cats = []\n",
    "for index, row in rugaib_categories.iterrows():\n",
    "    cats.append([row['Name of category '], row['Num of category '], row['Discription ']])"
   ]
  },
  {
   "cell_type": "code",
   "execution_count": 39,
   "id": "311f911f",
   "metadata": {},
   "outputs": [],
   "source": [
    "for toto in cats:\n",
    "    file.loc[file['categorie'] == toto[1], 'description'] = toto[2]"
   ]
  },
  {
   "cell_type": "code",
   "execution_count": 41,
   "id": "c63854ab",
   "metadata": {},
   "outputs": [],
   "source": [
    "file.to_excel('File_update_descripition.xlsx')"
   ]
  },
  {
   "cell_type": "code",
   "execution_count": 8,
   "id": "34ab084a",
   "metadata": {},
   "outputs": [
    {
     "data": {
      "text/plain": [
       "Index(['sku', 'description', 'short_description', 'Unnamed: 3', 'Unnamed: 4',\n",
       "       'Unnamed: 5', 'Unnamed: 6', 'Unnamed: 7', 'Unnamed: 8', 'categorie'],\n",
       "      dtype='object')"
      ]
     },
     "execution_count": 8,
     "metadata": {},
     "output_type": "execute_result"
    }
   ],
   "source": [
    "file.columns"
   ]
  },
  {
   "cell_type": "code",
   "execution_count": 26,
   "id": "2b95cc7f",
   "metadata": {},
   "outputs": [],
   "source": [
    "list_sku = []\n",
    "for index, row in df.iterrows():\n",
    "    list_sku.append([ row['sku'], row['categories']])"
   ]
  },
  {
   "cell_type": "code",
   "execution_count": 27,
   "id": "52c800c3",
   "metadata": {},
   "outputs": [],
   "source": [
    "for tt in list_sku:\n",
    "    file.loc[file['sku'] == tt[0], 'categorie'] = tt[1]"
   ]
  },
  {
   "cell_type": "code",
   "execution_count": 11,
   "id": "27d47674",
   "metadata": {},
   "outputs": [
    {
     "data": {
      "text/html": [
       "<div>\n",
       "<style scoped>\n",
       "    .dataframe tbody tr th:only-of-type {\n",
       "        vertical-align: middle;\n",
       "    }\n",
       "\n",
       "    .dataframe tbody tr th {\n",
       "        vertical-align: top;\n",
       "    }\n",
       "\n",
       "    .dataframe thead th {\n",
       "        text-align: right;\n",
       "    }\n",
       "</style>\n",
       "<table border=\"1\" class=\"dataframe\">\n",
       "  <thead>\n",
       "    <tr style=\"text-align: right;\">\n",
       "      <th></th>\n",
       "      <th>sku</th>\n",
       "      <th>description</th>\n",
       "      <th>short_description</th>\n",
       "      <th>Unnamed: 3</th>\n",
       "      <th>Unnamed: 4</th>\n",
       "      <th>Unnamed: 5</th>\n",
       "      <th>Unnamed: 6</th>\n",
       "      <th>Unnamed: 7</th>\n",
       "      <th>Unnamed: 8</th>\n",
       "      <th>categorie</th>\n",
       "    </tr>\n",
       "  </thead>\n",
       "  <tbody>\n",
       "    <tr>\n",
       "      <th>0</th>\n",
       "      <td>DAS-95055</td>\n",
       "      <td>NaN</td>\n",
       "      <td>NaN</td>\n",
       "      <td>NaN</td>\n",
       "      <td>NaN</td>\n",
       "      <td>NaN</td>\n",
       "      <td>NaN</td>\n",
       "      <td>NaN</td>\n",
       "      <td>NaN</td>\n",
       "      <td>37</td>\n",
       "    </tr>\n",
       "    <tr>\n",
       "      <th>1</th>\n",
       "      <td>DAS-95057</td>\n",
       "      <td>NaN</td>\n",
       "      <td>NaN</td>\n",
       "      <td>NaN</td>\n",
       "      <td>NaN</td>\n",
       "      <td>NaN</td>\n",
       "      <td>NaN</td>\n",
       "      <td>NaN</td>\n",
       "      <td>NaN</td>\n",
       "      <td>37</td>\n",
       "    </tr>\n",
       "    <tr>\n",
       "      <th>2</th>\n",
       "      <td>DAS-95060</td>\n",
       "      <td>NaN</td>\n",
       "      <td>NaN</td>\n",
       "      <td>NaN</td>\n",
       "      <td>NaN</td>\n",
       "      <td>NaN</td>\n",
       "      <td>NaN</td>\n",
       "      <td>NaN</td>\n",
       "      <td>NaN</td>\n",
       "      <td>37</td>\n",
       "    </tr>\n",
       "    <tr>\n",
       "      <th>3</th>\n",
       "      <td>DAS-131076</td>\n",
       "      <td>NaN</td>\n",
       "      <td>NaN</td>\n",
       "      <td>NaN</td>\n",
       "      <td>NaN</td>\n",
       "      <td>NaN</td>\n",
       "      <td>NaN</td>\n",
       "      <td>NaN</td>\n",
       "      <td>NaN</td>\n",
       "      <td>42915,42916,42921,113</td>\n",
       "    </tr>\n",
       "    <tr>\n",
       "      <th>4</th>\n",
       "      <td>DAS-119396</td>\n",
       "      <td>NaN</td>\n",
       "      <td>NaN</td>\n",
       "      <td>NaN</td>\n",
       "      <td>NaN</td>\n",
       "      <td>NaN</td>\n",
       "      <td>NaN</td>\n",
       "      <td>NaN</td>\n",
       "      <td>NaN</td>\n",
       "      <td>37</td>\n",
       "    </tr>\n",
       "    <tr>\n",
       "      <th>...</th>\n",
       "      <td>...</td>\n",
       "      <td>...</td>\n",
       "      <td>...</td>\n",
       "      <td>...</td>\n",
       "      <td>...</td>\n",
       "      <td>...</td>\n",
       "      <td>...</td>\n",
       "      <td>...</td>\n",
       "      <td>...</td>\n",
       "      <td>...</td>\n",
       "    </tr>\n",
       "    <tr>\n",
       "      <th>617</th>\n",
       "      <td>ROG-R29776-1-UTT</td>\n",
       "      <td>NaN</td>\n",
       "      <td>NaN</td>\n",
       "      <td>NaN</td>\n",
       "      <td>NaN</td>\n",
       "      <td>NaN</td>\n",
       "      <td>NaN</td>\n",
       "      <td>NaN</td>\n",
       "      <td>NaN</td>\n",
       "      <td></td>\n",
       "    </tr>\n",
       "    <tr>\n",
       "      <th>618</th>\n",
       "      <td>ROG-09118-UTT</td>\n",
       "      <td>NaN</td>\n",
       "      <td>NaN</td>\n",
       "      <td>NaN</td>\n",
       "      <td>NaN</td>\n",
       "      <td>NaN</td>\n",
       "      <td>NaN</td>\n",
       "      <td>NaN</td>\n",
       "      <td>NaN</td>\n",
       "      <td></td>\n",
       "    </tr>\n",
       "    <tr>\n",
       "      <th>619</th>\n",
       "      <td>ROG-18581-UTT</td>\n",
       "      <td>NaN</td>\n",
       "      <td>NaN</td>\n",
       "      <td>NaN</td>\n",
       "      <td>NaN</td>\n",
       "      <td>NaN</td>\n",
       "      <td>NaN</td>\n",
       "      <td>NaN</td>\n",
       "      <td>NaN</td>\n",
       "      <td></td>\n",
       "    </tr>\n",
       "    <tr>\n",
       "      <th>620</th>\n",
       "      <td>ROG-B497-36</td>\n",
       "      <td>NaN</td>\n",
       "      <td>NaN</td>\n",
       "      <td>NaN</td>\n",
       "      <td>NaN</td>\n",
       "      <td>NaN</td>\n",
       "      <td>NaN</td>\n",
       "      <td>NaN</td>\n",
       "      <td>NaN</td>\n",
       "      <td></td>\n",
       "    </tr>\n",
       "    <tr>\n",
       "      <th>621</th>\n",
       "      <td>ROG-04176-UTT</td>\n",
       "      <td>NaN</td>\n",
       "      <td>NaN</td>\n",
       "      <td>NaN</td>\n",
       "      <td>NaN</td>\n",
       "      <td>NaN</td>\n",
       "      <td>NaN</td>\n",
       "      <td>NaN</td>\n",
       "      <td>NaN</td>\n",
       "      <td></td>\n",
       "    </tr>\n",
       "  </tbody>\n",
       "</table>\n",
       "<p>622 rows × 10 columns</p>\n",
       "</div>"
      ],
      "text/plain": [
       "                  sku  description  short_description  Unnamed: 3  Unnamed: 4  \\\n",
       "0           DAS-95055          NaN                NaN         NaN         NaN   \n",
       "1           DAS-95057          NaN                NaN         NaN         NaN   \n",
       "2           DAS-95060          NaN                NaN         NaN         NaN   \n",
       "3          DAS-131076          NaN                NaN         NaN         NaN   \n",
       "4          DAS-119396          NaN                NaN         NaN         NaN   \n",
       "..                ...          ...                ...         ...         ...   \n",
       "617  ROG-R29776-1-UTT          NaN                NaN         NaN         NaN   \n",
       "618     ROG-09118-UTT          NaN                NaN         NaN         NaN   \n",
       "619     ROG-18581-UTT          NaN                NaN         NaN         NaN   \n",
       "620       ROG-B497-36          NaN                NaN         NaN         NaN   \n",
       "621     ROG-04176-UTT          NaN                NaN         NaN         NaN   \n",
       "\n",
       "     Unnamed: 5  Unnamed: 6  Unnamed: 7  Unnamed: 8              categorie  \n",
       "0           NaN         NaN         NaN         NaN                     37  \n",
       "1           NaN         NaN         NaN         NaN                     37  \n",
       "2           NaN         NaN         NaN         NaN                     37  \n",
       "3           NaN         NaN         NaN         NaN  42915,42916,42921,113  \n",
       "4           NaN         NaN         NaN         NaN                     37  \n",
       "..          ...         ...         ...         ...                    ...  \n",
       "617         NaN         NaN         NaN         NaN                         \n",
       "618         NaN         NaN         NaN         NaN                         \n",
       "619         NaN         NaN         NaN         NaN                         \n",
       "620         NaN         NaN         NaN         NaN                         \n",
       "621         NaN         NaN         NaN         NaN                         \n",
       "\n",
       "[622 rows x 10 columns]"
      ]
     },
     "execution_count": 11,
     "metadata": {},
     "output_type": "execute_result"
    }
   ],
   "source": [
    "file"
   ]
  },
  {
   "cell_type": "code",
   "execution_count": null,
   "id": "46f55dc8",
   "metadata": {},
   "outputs": [],
   "source": []
  },
  {
   "cell_type": "code",
   "execution_count": null,
   "id": "a6543345",
   "metadata": {},
   "outputs": [],
   "source": []
  },
  {
   "cell_type": "code",
   "execution_count": null,
   "id": "119b2beb",
   "metadata": {},
   "outputs": [],
   "source": []
  },
  {
   "cell_type": "markdown",
   "id": "0df14bf0",
   "metadata": {},
   "source": [
    "# Traitement"
   ]
  },
  {
   "cell_type": "code",
   "execution_count": 17,
   "id": "082e624d",
   "metadata": {},
   "outputs": [],
   "source": [
    "df.drop_duplicates(subset=['sku'], inplace=True)"
   ]
  },
  {
   "cell_type": "code",
   "execution_count": 23,
   "id": "b7a96505",
   "metadata": {},
   "outputs": [],
   "source": [
    "list_cat2 = df['categories2'].unique().tolist()"
   ]
  },
  {
   "cell_type": "code",
   "execution_count": 25,
   "id": "d79581ea",
   "metadata": {},
   "outputs": [],
   "source": [
    "list_cat3 = df['categories3'].unique().tolist()"
   ]
  },
  {
   "cell_type": "code",
   "execution_count": 34,
   "id": "61ded393",
   "metadata": {},
   "outputs": [],
   "source": [
    "link_living_rooms = {\n",
    "    \n",
    "    'cat1': list_cat1,\n",
    "    'cat2': list_cat2,\n",
    "    'cat3': list_cat3,\n",
    "}\n",
    "\n",
    "liste_link_living_rooms = pd.DataFrame(link_living_rooms)\n",
    "liste_link_living_rooms.to_excel(f'link_all_product_midas_cats.xlsx')"
   ]
  },
  {
   "cell_type": "code",
   "execution_count": 54,
   "id": "258d6a1d",
   "metadata": {},
   "outputs": [],
   "source": [
    "df = None"
   ]
  },
  {
   "cell_type": "code",
   "execution_count": 55,
   "id": "8636b7e6",
   "metadata": {},
   "outputs": [],
   "source": [
    "df1 = pd.read_excel('/home/wafistos/Documents/Projects/scaping_wafi/Scraping_Midas/update midas/midas_update_20_08_2021_sup1.xlsx')\n",
    "df2 = pd.read_excel('/home/wafistos/Documents/Projects/scaping_wafi/Scraping_Midas/update midas/midas_update_20_08_2021.xlsx')"
   ]
  },
  {
   "cell_type": "code",
   "execution_count": 56,
   "id": "c421b5c2",
   "metadata": {},
   "outputs": [],
   "source": [
    "df = pd.concat([df1, df2], ignore_index=True)"
   ]
  },
  {
   "cell_type": "code",
   "execution_count": 57,
   "id": "47c39ef7",
   "metadata": {},
   "outputs": [
    {
     "data": {
      "text/plain": [
       "(6258, 38)"
      ]
     },
     "execution_count": 57,
     "metadata": {},
     "output_type": "execute_result"
    }
   ],
   "source": [
    "df.shape"
   ]
  },
  {
   "cell_type": "code",
   "execution_count": 58,
   "id": "950363c2",
   "metadata": {},
   "outputs": [],
   "source": [
    "df.drop_duplicates(subset=['sku'], inplace=True)"
   ]
  },
  {
   "cell_type": "markdown",
   "id": "6e51736b",
   "metadata": {},
   "source": [
    "# Clean Fonctions"
   ]
  },
  {
   "cell_type": "code",
   "execution_count": 71,
   "id": "cbc29df7",
   "metadata": {},
   "outputs": [],
   "source": [
    "def getNgrams(content, n):\n",
    "    content = cleanInput(content)\n",
    "    ngrams = Counter()\n",
    "    for sentence in content:\n",
    "        newNgrams = [' '.join(ngram) for ngram in getNgramsFromSentence(sentence, 2)]\n",
    "        ngrams.update(newNgrams)\n",
    "    return(ngrams)"
   ]
  },
  {
   "cell_type": "code",
   "execution_count": 85,
   "id": "49484fda",
   "metadata": {},
   "outputs": [],
   "source": [
    "def cleanSentence(sentence):\n",
    "    # Clean all data ( scpase and punctuation only for english language ( not arabic))\n",
    "    sentence = sentence.split(' ')\n",
    "    sentence = [word.strip(string.punctuation+string.whitespace)\n",
    "    for word in sentence]\n",
    "    sentence = [word for word in sentence if len(word) > 1\n",
    "    or (word.lower() == 'a' or word.lower() == 'i')]\n",
    "    return sentence\n",
    "def cleanInput(content):\n",
    "    content = content.upper()\n",
    "    content = re.sub('\\n', ' ', content)\n",
    "    content = bytes(content, \"UTF-8\")\n",
    "    content = content.decode(\"ascii\", \"ignore\")\n",
    "    sentences = content.split('. ')\n",
    "    return [cleanSentence(sentence) for sentence in sentences]"
   ]
  },
  {
   "cell_type": "code",
   "execution_count": 83,
   "id": "ac13f310",
   "metadata": {},
   "outputs": [],
   "source": [
    "text = ' # ? ???///>>>> أثاث منزلي '"
   ]
  },
  {
   "cell_type": "code",
   "execution_count": 84,
   "id": "06739b84",
   "metadata": {},
   "outputs": [
    {
     "data": {
      "text/plain": [
       "[[]]"
      ]
     },
     "execution_count": 84,
     "metadata": {},
     "output_type": "execute_result"
    }
   ],
   "source": [
    "cleanInput(text)"
   ]
  },
  {
   "cell_type": "code",
   "execution_count": 102,
   "id": "e6684ad0",
   "metadata": {},
   "outputs": [
    {
     "name": "stdout",
     "output_type": "stream",
     "text": [
      "None\n"
     ]
    }
   ],
   "source": [
    "import pymysql\n",
    "conn = pymysql.connect(host='localhost',\n",
    "                             user='wafistos',\n",
    "                             password='123',\n",
    "                             database='wafi',\n",
    "                             cursorclass=pymysql.cursors.DictCursor)\n",
    "cur = conn.cursor()\n",
    "cur.execute('USE wafi')\n",
    "cur.execute('SELECT * FROM page WHERE id=1')\n",
    "print(cur.fetchone())\n",
    "cur.close()\n",
    "conn.close()"
   ]
  },
  {
   "cell_type": "code",
   "execution_count": 69,
   "id": "8bca339a",
   "metadata": {},
   "outputs": [],
   "source": [
    "def clean_punct(name):\n",
    "    for c in string.punctuation:\n",
    "        df[name] = df[name].str.replace(c, '-', regex=False)"
   ]
  },
  {
   "cell_type": "code",
   "execution_count": 19,
   "id": "ae728ab2",
   "metadata": {},
   "outputs": [],
   "source": [
    "def toto_clean(name):\n",
    "    df[name] = df[name].str.replace('•', '-')\n",
    "    df[name] = df[name].str.replace(':', '-')\n",
    "    df[name] = df[name].str.replace('/', '-')\n",
    "    df[name] = df[name].str.replace('\"', '-')\n",
    "    df[name] = df[name].str.replace('%', '-')\n",
    "    df[name] = df[name].str.replace('&', '-')\n",
    "    df[name] = df[name].str.replace('?', '-', regex=False)\n",
    "    df[name] = df[name].str.replace('(', '-', regex=False)\n",
    "    df[name] = df[name].str.replace(')', '-', regex=False)\n",
    "    df[name] = df[name].str.replace('{', '-', regex=False)\n",
    "    df[name] = df[name].str.replace('}', '-', regex=False)\n",
    "    df[name] = df[name].str.replace(\"'\", '-', regex=False)\n",
    "    df[name] = df[name].str.replace('*', 'X', regex=False)\n",
    "    df[name] = df[name].str.replace('#', '-')\n",
    "    df[name] = df[name].str.replace('”', '-')\n",
    "    df[name] = df[name].str.replace('!', '-')\n",
    "    df[name] = df[name].str.replace('”', '-')\n",
    "    df[name] = df[name].str.replace('=', '-')\n",
    "    df[name] = df[name].str.replace('+', '-', regex=False)\n",
    "    df[name] = df[name].str.replace('،', '-', regex=False)\n",
    "    \n",
    "def ampty_value(name):\n",
    "    df.loc[df[name].isnull(), name] = '__EMPTY__VALUE__'\n",
    "    \n",
    "    \n",
    "def price_num(name):\n",
    "    try:\n",
    "        df[name] = df[name].str.replace('-', '')\n",
    "        df[name] = df[name].str.replace(',', '')\n",
    "    except:\n",
    "        pass\n",
    "    df.loc[df[name] == '__EMPTY__VALUE__', name] = 0\n",
    "    \n",
    "    df[name] = pd.to_numeric(df[name])\n",
    "    df.loc[df[name] == 0, name] = '__EMPTY__VALUE__'"
   ]
  },
  {
   "cell_type": "code",
   "execution_count": 20,
   "id": "4bfd2de1",
   "metadata": {},
   "outputs": [],
   "source": [
    "toto_clean('name')"
   ]
  },
  {
   "cell_type": "code",
   "execution_count": 21,
   "id": "2b7d233e",
   "metadata": {},
   "outputs": [],
   "source": [
    "toto_clean('description')"
   ]
  },
  {
   "cell_type": "code",
   "execution_count": 22,
   "id": "c48b36aa",
   "metadata": {},
   "outputs": [],
   "source": [
    "toto_clean('short_description')"
   ]
  },
  {
   "cell_type": "code",
   "execution_count": 15,
   "id": "95706a5a",
   "metadata": {},
   "outputs": [],
   "source": [
    "ampty_value('raw_materials')"
   ]
  },
  {
   "cell_type": "code",
   "execution_count": 22,
   "id": "314363cb",
   "metadata": {},
   "outputs": [],
   "source": [
    "df = pd.read_csv('/home/wafistos/Documents/Projects/scaping_wafi/Scraping_Midas/midas_update_13_08_2021v1.csv')"
   ]
  },
  {
   "cell_type": "code",
   "execution_count": 17,
   "id": "dc7491a7",
   "metadata": {},
   "outputs": [
    {
     "data": {
      "text/plain": [
       "(6182, 38)"
      ]
     },
     "execution_count": 17,
     "metadata": {},
     "output_type": "execute_result"
    }
   ],
   "source": [
    "df.shape"
   ]
  },
  {
   "cell_type": "code",
   "execution_count": 60,
   "id": "0cd0c91c",
   "metadata": {},
   "outputs": [],
   "source": [
    "price_num('special_price')"
   ]
  },
  {
   "cell_type": "code",
   "execution_count": 61,
   "id": "4e44d1b0",
   "metadata": {},
   "outputs": [],
   "source": [
    "df.to_excel('Midas_update_06_08_2021v2.xlsx')"
   ]
  },
  {
   "cell_type": "code",
   "execution_count": null,
   "id": "ec4ff285",
   "metadata": {},
   "outputs": [],
   "source": []
  },
  {
   "cell_type": "code",
   "execution_count": null,
   "id": "e6ca625c",
   "metadata": {},
   "outputs": [],
   "source": []
  },
  {
   "cell_type": "code",
   "execution_count": null,
   "id": "967129fd",
   "metadata": {},
   "outputs": [],
   "source": []
  },
  {
   "cell_type": "code",
   "execution_count": null,
   "id": "60d2b140",
   "metadata": {},
   "outputs": [],
   "source": []
  },
  {
   "cell_type": "code",
   "execution_count": 110,
   "id": "fa81bc83",
   "metadata": {},
   "outputs": [],
   "source": [
    "from selenium.webdriver.firefox.options import Options as FirefoxOptions\n",
    "#object of FirefoxOptions\n",
    "options = webdriver.FirefoxOptions()\n",
    "#set options.headless to True\n",
    "options.headless = True\n",
    "driver = webdriver.Firefox(options=options)"
   ]
  },
  {
   "cell_type": "code",
   "execution_count": 111,
   "id": "d655b6ab",
   "metadata": {},
   "outputs": [
    {
     "name": "stdout",
     "output_type": "stream",
     "text": [
      "\n",
      "https://duckduckgo.com/?q=realpython&t=hx&va=g&ia=web\n"
     ]
    }
   ],
   "source": [
    "# Headlesss\n",
    "driver.get(\"https://duckduckgo.com/\")\n",
    "toto = driver.find_element_by_id('search_form_input_homepage')\n",
    "print(toto.get_attribute('innerHTML'))\n",
    "driver.find_element_by_id('search_form_input_homepage').send_keys(\"realpython\")\n",
    "driver.find_element_by_id(\"search_button_homepage\").click()\n",
    "print(driver.current_url)\n",
    "driver.quit()\n"
   ]
  },
  {
   "cell_type": "code",
   "execution_count": 105,
   "id": "6bdd9db0",
   "metadata": {},
   "outputs": [],
   "source": [
    "from selenium import webdriver\n",
    "driver = webdriver.Firefox()\n",
    "driver.get(\"https://duckduckgo.com/\")\n",
    "# driver.find_element_by_id('search_form_input_homepage').send_keys(\"realpython\")\n",
    "# driver.find_element_by_id(\"search_button_homepage\").click()\n",
    "# driver.quit()\n"
   ]
  },
  {
   "cell_type": "code",
   "execution_count": 84,
   "id": "d3cf6835",
   "metadata": {},
   "outputs": [
    {
     "data": {
      "text/plain": [
       "['وصف المنتج',\n",
       " ' ',\n",
       " ' سرير تفاصيل المنتج ',\n",
       " '  سرير أطفال عدد 1 قطعة حجم المنتج ',\n",
       " '  سرير',\n",
       " ' العرض 113 * العمق 196 * الارتفاع 144 سم المواد الرئيسية',\n",
       " ' خشب صناعى']"
      ]
     },
     "execution_count": 84,
     "metadata": {},
     "output_type": "execute_result"
    }
   ],
   "source": [
    "combination.split(':')"
   ]
  },
  {
   "cell_type": "code",
   "execution_count": 83,
   "id": "70764ca1",
   "metadata": {},
   "outputs": [
    {
     "data": {
      "text/plain": [
       "'وصف المنتج: : سرير تفاصيل المنتج : ♦ سرير أطفال عدد 1 قطعة حجم المنتج : ♦ سرير: العرض 113 * العمق 196 * الارتفاع 144 سم المواد الرئيسية: ♦خشب صناعى'"
      ]
     },
     "execution_count": 83,
     "metadata": {},
     "output_type": "execute_result"
    }
   ],
   "source": [
    "description = driver.find_element_by_xpath('//div[@itemprop=\"description\"]/p').text\n",
    "description"
   ]
  },
  {
   "cell_type": "code",
   "execution_count": 6,
   "id": "37c24633",
   "metadata": {},
   "outputs": [],
   "source": [
    "df.to_excel( 'bench_and_ottoman.xlsx', index = True)"
   ]
  },
  {
   "cell_type": "markdown",
   "id": "f242b778",
   "metadata": {},
   "source": [
    "# Add update files"
   ]
  },
  {
   "cell_type": "code",
   "execution_count": 170,
   "id": "4e388096",
   "metadata": {},
   "outputs": [],
   "source": [
    "df1 = pd.read_excel('/home/wafistos/Documents/Projects/scaping_wafi/Scraping_Midas/update midas/midas_update_20_08_2021.xlsx')\n",
    "df2 = pd.read_excel('/home/wafistos/Documents/Projects/scaping_wafi/Scraping_Midas/update midas/midas_update_20_08_2021_sup1.xlsx')\n",
    "\n",
    "\n",
    "\n"
   ]
  },
  {
   "cell_type": "code",
   "execution_count": 171,
   "id": "5b44fd5a",
   "metadata": {},
   "outputs": [],
   "source": [
    "df = pd.concat([df1, df2], ignore_index=True)\n",
    "\n"
   ]
  },
  {
   "cell_type": "code",
   "execution_count": 174,
   "id": "acae6022",
   "metadata": {},
   "outputs": [],
   "source": [
    "df.drop_duplicates(subset=['sku'], inplace=True)"
   ]
  },
  {
   "cell_type": "code",
   "execution_count": 70,
   "id": "fc1a7407",
   "metadata": {},
   "outputs": [
    {
     "data": {
      "text/plain": [
       "(6225, 44)"
      ]
     },
     "execution_count": 70,
     "metadata": {},
     "output_type": "execute_result"
    }
   ],
   "source": [
    "df.shape\n"
   ]
  },
  {
   "cell_type": "code",
   "execution_count": 69,
   "id": "e4859fbe",
   "metadata": {},
   "outputs": [
    {
     "data": {
      "text/plain": [
       "Index(['sku', 'name', 'url_key', 'short_description', 'description',\n",
       "       'free_colors', 'raw_materials', 'ts_dimensions_width',\n",
       "       'ts_dimensions_height', 'ts_dimensions_length', 'Weight', 'base_image',\n",
       "       'small_image', 'swatch_image', 'thumbnail_image', 'additional_images ',\n",
       "       'categories1', 'categories2', 'categories3', 'price', 'special_price',\n",
       "       'visibility', 'tax_class_name', 'Link_url', 'qty', 'out_of_stock_qty',\n",
       "       'is_in_stock', 'product_online', 'allow_backorders', 'manufacturer',\n",
       "       'news_from_date', 'news_to_date', 'product_websites',\n",
       "       'attribute_set_code', 'product_type', 'store_view_code', 'supplier',\n",
       "       'style', 'categories', 'First', 'Last', 'toto',\n",
       "       'estimated_delivery_text', 'estimated_delivery_enable'],\n",
       "      dtype='object')"
      ]
     },
     "execution_count": 69,
     "metadata": {},
     "output_type": "execute_result"
    }
   ],
   "source": [
    "df.columns"
   ]
  },
  {
   "cell_type": "code",
   "execution_count": 184,
   "id": "0145a953",
   "metadata": {},
   "outputs": [],
   "source": [
    "df.to_excel('Midas_update_23_08_2021_v1.xlsx')"
   ]
  },
  {
   "cell_type": "code",
   "execution_count": 72,
   "id": "0e6eed68",
   "metadata": {},
   "outputs": [],
   "source": [
    "df['price'] = df['price'].str.replace(',', '')\n"
   ]
  },
  {
   "cell_type": "code",
   "execution_count": 73,
   "id": "5f146a82",
   "metadata": {},
   "outputs": [],
   "source": [
    "df['special_price'] = df['special_price'].str.replace(',', '')"
   ]
  },
  {
   "cell_type": "code",
   "execution_count": 74,
   "id": "437f418b",
   "metadata": {},
   "outputs": [],
   "source": [
    "df['price'] = pd.to_numeric(df['price'])"
   ]
  },
  {
   "cell_type": "code",
   "execution_count": 75,
   "id": "fedb5757",
   "metadata": {},
   "outputs": [],
   "source": [
    "df['special_price'] = pd.to_numeric(df['special_price'])"
   ]
  },
  {
   "cell_type": "code",
   "execution_count": null,
   "id": "8a2f2fbc",
   "metadata": {},
   "outputs": [],
   "source": []
  },
  {
   "cell_type": "code",
   "execution_count": 65,
   "id": "537b04b5",
   "metadata": {},
   "outputs": [
    {
     "data": {
      "text/plain": [
       "Index(['sku', 'name', 'url_key', 'short_description', 'description',\n",
       "       'free_colors', 'raw_materials', 'ts_dimensions_width',\n",
       "       'ts_dimensions_height', 'ts_dimensions_length', 'Weight', 'base_image',\n",
       "       'small_image', 'swatch_image', 'thumbnail_image', 'additional_images ',\n",
       "       'categories1', 'categories2', 'categories3', 'price', 'special_price',\n",
       "       'visibility', 'tax_class_name', 'Link_url', 'qty', 'out_of_stock_qty',\n",
       "       'is_in_stock', 'product_online', 'allow_backorders', 'manufacturer',\n",
       "       'news_from_date', 'news_to_date', 'product_websites',\n",
       "       'attribute_set_code', 'product_type', 'store_view_code', 'supplier',\n",
       "       'style'],\n",
       "      dtype='object')"
      ]
     },
     "execution_count": 65,
     "metadata": {},
     "output_type": "execute_result"
    }
   ],
   "source": [
    "df.columns\n"
   ]
  },
  {
   "cell_type": "code",
   "execution_count": null,
   "id": "66cebe1b",
   "metadata": {},
   "outputs": [],
   "source": []
  },
  {
   "cell_type": "code",
   "execution_count": 76,
   "id": "ca19581b",
   "metadata": {},
   "outputs": [],
   "source": [
    "df['cost'] = df['price']"
   ]
  },
  {
   "cell_type": "code",
   "execution_count": 77,
   "id": "9101edc5",
   "metadata": {},
   "outputs": [],
   "source": [
    "df['special_price'] = df['special_price'] * 1.27"
   ]
  },
  {
   "cell_type": "code",
   "execution_count": 78,
   "id": "ad399c60",
   "metadata": {},
   "outputs": [],
   "source": [
    "df['price'] = df['price'] * 1.27"
   ]
  },
  {
   "cell_type": "code",
   "execution_count": 79,
   "id": "ad2f7cbb",
   "metadata": {},
   "outputs": [],
   "source": [
    "df.loc[df['Weight'] == 0, 'Weight'] = '__EMPTY__VALUE__'"
   ]
  },
  {
   "cell_type": "code",
   "execution_count": 85,
   "id": "fb9b0726",
   "metadata": {},
   "outputs": [],
   "source": [
    "df.loc[(df['ts_dimensions_width'] == '') | (df['ts_dimensions_width'].isnull()), 'ts_dimensions_width'] = '__EMPTY__VALUE__'"
   ]
  },
  {
   "cell_type": "code",
   "execution_count": 86,
   "id": "d80741c5",
   "metadata": {},
   "outputs": [],
   "source": [
    "df.loc[(df['ts_dimensions_length'] == '') | (df['ts_dimensions_length'].isnull()), 'ts_dimensions_length'] = '__EMPTY__VALUE__'"
   ]
  },
  {
   "cell_type": "code",
   "execution_count": 87,
   "id": "1a27846d",
   "metadata": {},
   "outputs": [],
   "source": [
    "df.loc[(df['ts_dimensions_height'] == '') | (df['ts_dimensions_height'].isnull()), 'ts_dimensions_height'] = '__EMPTY__VALUE__'"
   ]
  },
  {
   "cell_type": "code",
   "execution_count": 115,
   "id": "a260eb74",
   "metadata": {},
   "outputs": [
    {
     "name": "stderr",
     "output_type": "stream",
     "text": [
      "/home/wafistos/anaconda3/lib/python3.8/site-packages/pandas/core/indexing.py:1720: SettingWithCopyWarning: \n",
      "A value is trying to be set on a copy of a slice from a DataFrame.\n",
      "Try using .loc[row_indexer,col_indexer] = value instead\n",
      "\n",
      "See the caveats in the documentation: https://pandas.pydata.org/pandas-docs/stable/user_guide/indexing.html#returning-a-view-versus-a-copy\n",
      "  self._setitem_single_column(loc, value, pi)\n"
     ]
    }
   ],
   "source": [
    "df.loc[(df['style'] == '') | (df['style'].isnull()), 'style'] = '__EMPTY__VALUE__'"
   ]
  },
  {
   "cell_type": "code",
   "execution_count": 88,
   "id": "c6fe42a2",
   "metadata": {},
   "outputs": [],
   "source": [
    "df.loc[df['special_price'] == 0, 'special_price'] = '__EMPTY__VALUE__'"
   ]
  },
  {
   "cell_type": "code",
   "execution_count": null,
   "id": "4828c775",
   "metadata": {},
   "outputs": [],
   "source": [
    "df.loc[df['special_price'] == 0, 'special_price'] = '__EMPTY__VALUE__'"
   ]
  },
  {
   "cell_type": "code",
   "execution_count": 111,
   "id": "97e67804",
   "metadata": {},
   "outputs": [
    {
     "name": "stderr",
     "output_type": "stream",
     "text": [
      "/home/wafistos/anaconda3/lib/python3.8/site-packages/pandas/core/indexing.py:1720: SettingWithCopyWarning: \n",
      "A value is trying to be set on a copy of a slice from a DataFrame.\n",
      "Try using .loc[row_indexer,col_indexer] = value instead\n",
      "\n",
      "See the caveats in the documentation: https://pandas.pydata.org/pandas-docs/stable/user_guide/indexing.html#returning-a-view-versus-a-copy\n",
      "  self._setitem_single_column(loc, value, pi)\n"
     ]
    }
   ],
   "source": [
    "df.loc[(df['estimated_delivery_enable'] == '') | (df['estimated_delivery_enable'].isnull()), 'estimated_delivery_enable'] = '__EMPTY__VALUE__'"
   ]
  },
  {
   "cell_type": "code",
   "execution_count": 89,
   "id": "5cde3fe5",
   "metadata": {},
   "outputs": [],
   "source": [
    " df.loc[df['estimated_delivery_text'].isnull(), 'estimated_delivery_text'] = '__EMPTY__VALUE__'"
   ]
  },
  {
   "cell_type": "code",
   "execution_count": 33,
   "id": "837647b2",
   "metadata": {},
   "outputs": [],
   "source": [
    "df['estimated_delivery_text'] = '__EMPTY__VALUE__'"
   ]
  },
  {
   "cell_type": "code",
   "execution_count": 90,
   "id": "05c532b5",
   "metadata": {},
   "outputs": [],
   "source": [
    "url_list = df.loc[df['raw_materials'].isnull(), 'raw_materials'] = '__EMPTY__VALUE__'"
   ]
  },
  {
   "cell_type": "code",
   "execution_count": 91,
   "id": "00fc962e",
   "metadata": {},
   "outputs": [],
   "source": [
    "df.loc[df['estimated_delivery_text'].isnull(), 'estimated_delivery_text'] = '__EMPTY__VALUE__'"
   ]
  },
  {
   "cell_type": "code",
   "execution_count": 169,
   "id": "2518cb6e",
   "metadata": {},
   "outputs": [
    {
     "data": {
      "text/plain": [
       "[\"['https://midasfurniture.com/ksa_ar/accrington-sectional-sofa.html'\",\n",
       " \" ' أثاث منزلي'\",\n",
       " \" 'غرف المعيشة'\",\n",
       " \" ' كنب زاوية']\"]"
      ]
     },
     "execution_count": 169,
     "metadata": {},
     "output_type": "execute_result"
    }
   ],
   "source": [
    "tex = \"['https://midasfurniture.com/ksa_ar/accrington-sectional-sofa.html', ' أثاث منزلي', 'غرف المعيشة', ' كنب زاوية']\"\n",
    "tex.split(',')"
   ]
  },
  {
   "cell_type": "code",
   "execution_count": 173,
   "id": "494a0f32",
   "metadata": {},
   "outputs": [],
   "source": [
    "df[['First','Last', 'thrid', 'four']] = df['Link_url'].str.split(\",\",expand=True,)\n"
   ]
  },
  {
   "cell_type": "code",
   "execution_count": 178,
   "id": "94c770ba",
   "metadata": {},
   "outputs": [],
   "source": [
    "df['First'] = df['First'].str.replace(\"'\", '')"
   ]
  },
  {
   "cell_type": "code",
   "execution_count": 182,
   "id": "9c55f145",
   "metadata": {},
   "outputs": [],
   "source": [
    "df = df.rename(columns={'First': 'link_url'})"
   ]
  },
  {
   "cell_type": "code",
   "execution_count": 183,
   "id": "bf947af8",
   "metadata": {},
   "outputs": [
    {
     "data": {
      "text/plain": [
       "Index(['sku', 'name', 'url_key', 'short_description', 'description',\n",
       "       'free_colors', 'raw_materials', 'ts_dimensions_width',\n",
       "       'ts_dimensions_height', 'ts_dimensions_length', 'Weight', 'base_image',\n",
       "       'small_image', 'swatch_image', 'thumbnail_image', 'additional_images ',\n",
       "       'categories1', 'categories2', 'categories3', 'price', 'special_price',\n",
       "       'visibility', 'tax_class_name', 'Link_url', 'qty', 'out_of_stock_qty',\n",
       "       'is_in_stock', 'product_online', 'allow_backorders', 'manufacturer',\n",
       "       'news_from_date', 'news_to_date', 'product_websites',\n",
       "       'attribute_set_code', 'product_type', 'store_view_code', 'supplier',\n",
       "       'style', 'link_url', 'Last', 'thrid', 'four'],\n",
       "      dtype='object')"
      ]
     },
     "execution_count": 183,
     "metadata": {},
     "output_type": "execute_result"
    }
   ],
   "source": [
    "df.columns"
   ]
  },
  {
   "cell_type": "code",
   "execution_count": 227,
   "id": "1aa46a22",
   "metadata": {},
   "outputs": [],
   "source": [
    "def toto_clean(name):\n",
    "    df[name] = df[name].str.replace('•', '-')\n",
    "    df[name] = df[name].str.replace(':', '-')\n",
    "    df[name] = df[name].str.replace('/', '-')\n",
    "    df[name] = df[name].str.replace('\"', '-')\n",
    "    df[name] = df[name].str.replace('%', '-')\n",
    "    df[name] = df[name].str.replace('&', '-')\n",
    "    df[name] = df[name].str.replace('?', '-', regex=False)\n",
    "    df[name] = df[name].str.replace('(', '-', regex=False)\n",
    "    df[name] = df[name].str.replace(')', '-', regex=False)\n",
    "    df[name] = df[name].str.replace('{', '-', regex=False)\n",
    "    df[name] = df[name].str.replace('}', '-', regex=False)\n",
    "    df[name] = df[name].str.replace(\"'\", '-', regex=False)\n",
    "    df[name] = df[name].str.replace('*', 'X', regex=False)\n",
    "    df[name] = df[name].str.replace('#', '-')\n",
    "    df[name] = df[name].str.replace('”', '-')\n",
    "    df[name] = df[name].str.replace('!', '-')\n",
    "    df[name] = df[name].str.replace('”', '-')\n",
    "    df[name] = df[name].str.replace('=', '-')\n",
    "    df[name] = df[name].str.replace('+', '-', regex=False)\n",
    "    df[name] = df[name].str.replace('،', '-', regex=False)\n",
    "    \n",
    "def ampty_value(name):\n",
    "    df.loc[df[name].isnull(), name] = '__EMPTY__VALUE__'\n",
    "    \n",
    "    \n",
    "def price_num(name):\n",
    "    try:\n",
    "        df[name] = df[name].str.replace('-', '')\n",
    "        df[name] = df[name].str.replace(',', '')\n",
    "    except:\n",
    "        pass\n",
    "    df.loc[df[name] == '__EMPTY__VALUE__', name] = 0\n",
    "    \n",
    "    df[name] = pd.to_numeric(df[name])\n",
    "    df.loc[df[name] == 0, name] = '__EMPTY__VALUE__'"
   ]
  },
  {
   "cell_type": "code",
   "execution_count": 232,
   "id": "a2fff3ac",
   "metadata": {},
   "outputs": [],
   "source": [
    "toto_clean('short_description')"
   ]
  },
  {
   "cell_type": "code",
   "execution_count": null,
   "id": "d7eb78a4",
   "metadata": {},
   "outputs": [],
   "source": []
  },
  {
   "cell_type": "code",
   "execution_count": 30,
   "id": "de67cd70",
   "metadata": {},
   "outputs": [],
   "source": [
    "df['url_key'] = df['url_key'].str.replace(', ', '-')\n",
    "df['url_key'] = df['url_key'].str.replace('/', '-')\n",
    "df['url_key'] = df['url_key'].str.replace('\"', '-')\n",
    "df['url_key'] = df['url_key'].str.replace('%', '-')\n",
    "df['url_key'] = df['url_key'].str.replace('+', '-', regex=False)"
   ]
  },
  {
   "cell_type": "code",
   "execution_count": 29,
   "id": "c7c84154",
   "metadata": {},
   "outputs": [],
   "source": [
    "df['name'] = df['name'].str.replace(', ', '-')\n",
    "df['name'] = df['name'].str.replace('/', '-')\n",
    "df['name'] = df['name'].str.replace('\"', '-')\n",
    "df['name'] = df['name'].str.replace('%', '-')\n",
    "df['name'] = df['name'].str.replace('+', '-', regex=False)"
   ]
  },
  {
   "cell_type": "code",
   "execution_count": 25,
   "id": "38aa2f31",
   "metadata": {},
   "outputs": [],
   "source": [
    "df['estimated_delivery_text'] = ''\n"
   ]
  },
  {
   "cell_type": "code",
   "execution_count": 92,
   "id": "4c251aca",
   "metadata": {},
   "outputs": [],
   "source": [
    "df['url_key'] = df['sku'] + '-' + df['name']"
   ]
  },
  {
   "cell_type": "code",
   "execution_count": 93,
   "id": "0e386ab4",
   "metadata": {},
   "outputs": [],
   "source": [
    "df['url_key'] = df['url_key'].str.replace('\\n', '-', regex=False)"
   ]
  },
  {
   "cell_type": "code",
   "execution_count": 61,
   "id": "1c4ce681",
   "metadata": {},
   "outputs": [],
   "source": [
    "df['name'] = df['name'].str.replace('ROG-', 'DAS-')"
   ]
  },
  {
   "cell_type": "code",
   "execution_count": 229,
   "id": "91cb2cc2",
   "metadata": {},
   "outputs": [
    {
     "data": {
      "text/plain": [
       "(5976, 43)"
      ]
     },
     "execution_count": 229,
     "metadata": {},
     "output_type": "execute_result"
    }
   ],
   "source": [
    "df.shape"
   ]
  },
  {
   "cell_type": "code",
   "execution_count": 228,
   "id": "3190741f",
   "metadata": {},
   "outputs": [
    {
     "data": {
      "text/plain": [
       "Index(['sku', 'name', 'url_key', 'short_description', 'description',\n",
       "       'free_colors', 'raw_materials', 'ts_dimensions_width',\n",
       "       'ts_dimensions_height', 'ts_dimensions_length', 'Weight', 'base_image',\n",
       "       'small_image', 'swatch_image', 'thumbnail_image', 'additional_images ',\n",
       "       'categories1', 'categories2', 'categories3', 'price', 'special_price',\n",
       "       'visibility', 'tax_class_name', 'Link_url', 'qty', 'out_of_stock_qty',\n",
       "       'is_in_stock', 'product_online', 'allow_backorders', 'manufacturer',\n",
       "       'news_from_date', 'news_to_date', 'product_websites',\n",
       "       'attribute_set_code', 'product_type', 'store_view_code', 'supplier',\n",
       "       'style', 'cost', 'First', 'Last', 'toto', 'estimated_delivery_text'],\n",
       "      dtype='object')"
      ]
     },
     "execution_count": 228,
     "metadata": {},
     "output_type": "execute_result"
    }
   ],
   "source": [
    "df.columns\n"
   ]
  },
  {
   "cell_type": "code",
   "execution_count": 30,
   "id": "d71ade2f",
   "metadata": {},
   "outputs": [],
   "source": [
    "df['out_of_stock_qty'] = -5\n",
    "df['qty'] = 0\n",
    "df['product_online'] = df['is_in_stock']"
   ]
  },
  {
   "cell_type": "code",
   "execution_count": 32,
   "id": "eb79d0a6",
   "metadata": {},
   "outputs": [],
   "source": [
    "df  = pd.read_csv('/home/wafistos/Documents/Projects/scaping_wafi/Scraping_Midas/update midas/midas_update_27_08_2021_sup1.csv')\n"
   ]
  },
  {
   "cell_type": "code",
   "execution_count": 29,
   "id": "c2e69777",
   "metadata": {},
   "outputs": [],
   "source": [
    "df.to_excel('/home/wafistos/Documents/Projects/scaping_wafi/Scraping_Midas/update midas/midas_update_27_08_2021_sup1.xlsx')"
   ]
  },
  {
   "cell_type": "code",
   "execution_count": 33,
   "id": "8b80bf6f",
   "metadata": {},
   "outputs": [
    {
     "data": {
      "text/plain": [
       "Index(['sku', 'name', 'url_key', 'short_description', 'description',\n",
       "       'free_colors', 'raw_materials', 'ts_dimensions_width',\n",
       "       'ts_dimensions_height', 'ts_dimensions_length', 'Weight', 'base_image',\n",
       "       'small_image', 'swatch_image', 'thumbnail_image', 'additional_images ',\n",
       "       'categories1', 'categories2', 'categories3', 'price', 'special_price',\n",
       "       'visibility', 'tax_class_name', 'Link_url', 'qty', 'out_of_stock_qty',\n",
       "       'is_in_stock', 'product_online', 'allow_backorders', 'manufacturer',\n",
       "       'news_from_date', 'news_to_date', 'product_websites',\n",
       "       'attribute_set_code', 'product_type', 'store_view_code', 'supplier',\n",
       "       'style'],\n",
       "      dtype='object')"
      ]
     },
     "execution_count": 33,
     "metadata": {},
     "output_type": "execute_result"
    }
   ],
   "source": [
    "df.columns"
   ]
  },
  {
   "cell_type": "code",
   "execution_count": 56,
   "id": "7e802dd7",
   "metadata": {},
   "outputs": [],
   "source": [
    "df = pd.read_csv('Midas_update_31_07_21v1.csv')"
   ]
  },
  {
   "cell_type": "code",
   "execution_count": 34,
   "id": "674c9d2a",
   "metadata": {},
   "outputs": [],
   "source": [
    " df['supplier'] = 'DAS'"
   ]
  },
  {
   "cell_type": "code",
   "execution_count": 65,
   "id": "880ca541",
   "metadata": {},
   "outputs": [],
   "source": [
    " df['sku']  =  df['sku'].str.replace('ROG', 'DAS')"
   ]
  },
  {
   "cell_type": "markdown",
   "id": "1d2799e1",
   "metadata": {},
   "source": [
    "# ADD categories files"
   ]
  },
  {
   "cell_type": "code",
   "execution_count": 429,
   "id": "1e8ef50a",
   "metadata": {},
   "outputs": [],
   "source": [
    "df = pd.read_excel('/home/wafistos/Documents/Projects/scaping_wafi/Scraping_Midas/update midas/Midas_update_20_08_2021_v14.xlsx')"
   ]
  },
  {
   "cell_type": "code",
   "execution_count": 94,
   "id": "d87cbe54",
   "metadata": {},
   "outputs": [],
   "source": [
    "cats = pd.read_excel(\"/home/wafistos/Documents/Projects/scaping_wafi/Scraping_Midas/Midas category.xlsx\")"
   ]
  },
  {
   "cell_type": "code",
   "execution_count": 95,
   "id": "20005d9d",
   "metadata": {},
   "outputs": [],
   "source": [
    "list_cats = []\n",
    "for index, row in cats.iterrows():\n",
    "    list_cats.append([row['Name of category '], row['Num of category ']] )"
   ]
  },
  {
   "cell_type": "code",
   "execution_count": 349,
   "id": "464333a6",
   "metadata": {},
   "outputs": [
    {
     "name": "stdout",
     "output_type": "stream",
     "text": [
      "14487,43664,113 عربات التقديم\n"
     ]
    }
   ],
   "source": [
    "for tto in list_cats:\n",
    "    if tto[0] == 'عربات التقديم':\n",
    "        print( tto[1], tto[0])"
   ]
  },
  {
   "cell_type": "code",
   "execution_count": 405,
   "id": "cbea9556",
   "metadata": {},
   "outputs": [],
   "source": [
    "caca = pd.read_excel('/home/wafistos/Documents/Projects/scaping_wafi/Scraping_Midas/update midas/Midas_without_categories.xlsx')"
   ]
  },
  {
   "cell_type": "code",
   "execution_count": null,
   "id": "db937b85",
   "metadata": {},
   "outputs": [],
   "source": []
  },
  {
   "cell_type": "code",
   "execution_count": 35,
   "id": "dca28e46",
   "metadata": {},
   "outputs": [],
   "source": [
    "df['categories'] = ''"
   ]
  },
  {
   "cell_type": "code",
   "execution_count": 420,
   "id": "21da294f",
   "metadata": {},
   "outputs": [],
   "source": [
    "caca['categories1'] = caca['categories2'].str.strip() "
   ]
  },
  {
   "cell_type": "code",
   "execution_count": 422,
   "id": "795f665b",
   "metadata": {},
   "outputs": [
    {
     "data": {
      "text/html": [
       "<div>\n",
       "<style scoped>\n",
       "    .dataframe tbody tr th:only-of-type {\n",
       "        vertical-align: middle;\n",
       "    }\n",
       "\n",
       "    .dataframe tbody tr th {\n",
       "        vertical-align: top;\n",
       "    }\n",
       "\n",
       "    .dataframe thead th {\n",
       "        text-align: right;\n",
       "    }\n",
       "</style>\n",
       "<table border=\"1\" class=\"dataframe\">\n",
       "  <thead>\n",
       "    <tr style=\"text-align: right;\">\n",
       "      <th></th>\n",
       "      <th>Unnamed: 0</th>\n",
       "      <th>sku number only</th>\n",
       "      <th>sku</th>\n",
       "      <th>store_view_code</th>\n",
       "      <th>attribute_set_code</th>\n",
       "      <th>product_websites</th>\n",
       "      <th>name</th>\n",
       "      <th>estimated_delivery_enable</th>\n",
       "      <th>estimated_delivery_text</th>\n",
       "      <th>url_key</th>\n",
       "      <th>...</th>\n",
       "      <th>swatch_image</th>\n",
       "      <th>thumbnail_image</th>\n",
       "      <th>additional_images</th>\n",
       "      <th>product_online</th>\n",
       "      <th>qty</th>\n",
       "      <th>out_of_stock_qty</th>\n",
       "      <th>allow_backorders</th>\n",
       "      <th>is_in_stock</th>\n",
       "      <th>style</th>\n",
       "      <th>supplier</th>\n",
       "    </tr>\n",
       "  </thead>\n",
       "  <tbody>\n",
       "    <tr>\n",
       "      <th>39</th>\n",
       "      <td>2817</td>\n",
       "      <td>19041</td>\n",
       "      <td>DAS-19041</td>\n",
       "      <td>NaN</td>\n",
       "      <td>Default</td>\n",
       "      <td>base</td>\n",
       "      <td>طبق تقديم عميق ريمسو</td>\n",
       "      <td>__EMPTY__VALUE__</td>\n",
       "      <td>__EMPTY__VALUE__</td>\n",
       "      <td>DAS-19041طبق تقديم عميق ريمسو</td>\n",
       "      <td>...</td>\n",
       "      <td>https://cdn.midasfurniture.com/media/catalog/p...</td>\n",
       "      <td>https://cdn.midasfurniture.com/media/catalog/p...</td>\n",
       "      <td>https://cdn.midasfurniture.com/media/catalog/p...</td>\n",
       "      <td>1</td>\n",
       "      <td>0</td>\n",
       "      <td>-5</td>\n",
       "      <td>1</td>\n",
       "      <td>1</td>\n",
       "      <td>كلاسيكى</td>\n",
       "      <td>DAS</td>\n",
       "    </tr>\n",
       "    <tr>\n",
       "      <th>40</th>\n",
       "      <td>2818</td>\n",
       "      <td>19036</td>\n",
       "      <td>DAS-19036</td>\n",
       "      <td>NaN</td>\n",
       "      <td>Default</td>\n",
       "      <td>base</td>\n",
       "      <td>زبدية تقديم ريمسو</td>\n",
       "      <td>__EMPTY__VALUE__</td>\n",
       "      <td>__EMPTY__VALUE__</td>\n",
       "      <td>DAS-19036زبدية تقديم ريمسو</td>\n",
       "      <td>...</td>\n",
       "      <td>https://cdn.midasfurniture.com/media/catalog/p...</td>\n",
       "      <td>https://cdn.midasfurniture.com/media/catalog/p...</td>\n",
       "      <td>https://cdn.midasfurniture.com/media/catalog/p...</td>\n",
       "      <td>1</td>\n",
       "      <td>0</td>\n",
       "      <td>-5</td>\n",
       "      <td>1</td>\n",
       "      <td>1</td>\n",
       "      <td>كلاسيكى</td>\n",
       "      <td>DAS</td>\n",
       "    </tr>\n",
       "    <tr>\n",
       "      <th>41</th>\n",
       "      <td>2819</td>\n",
       "      <td>19034</td>\n",
       "      <td>DAS-19034</td>\n",
       "      <td>NaN</td>\n",
       "      <td>Default</td>\n",
       "      <td>base</td>\n",
       "      <td>طبق تقديم عميق ريمسو</td>\n",
       "      <td>__EMPTY__VALUE__</td>\n",
       "      <td>__EMPTY__VALUE__</td>\n",
       "      <td>DAS-19034طبق تقديم عميق ريمسو</td>\n",
       "      <td>...</td>\n",
       "      <td>https://cdn.midasfurniture.com/media/catalog/p...</td>\n",
       "      <td>https://cdn.midasfurniture.com/media/catalog/p...</td>\n",
       "      <td>https://cdn.midasfurniture.com/media/catalog/p...</td>\n",
       "      <td>1</td>\n",
       "      <td>0</td>\n",
       "      <td>-5</td>\n",
       "      <td>1</td>\n",
       "      <td>1</td>\n",
       "      <td>كلاسيكى</td>\n",
       "      <td>DAS</td>\n",
       "    </tr>\n",
       "    <tr>\n",
       "      <th>42</th>\n",
       "      <td>2820</td>\n",
       "      <td>19014</td>\n",
       "      <td>DAS-19014</td>\n",
       "      <td>NaN</td>\n",
       "      <td>Default</td>\n",
       "      <td>base</td>\n",
       "      <td>طبق تقديم ثلاثي روبست</td>\n",
       "      <td>__EMPTY__VALUE__</td>\n",
       "      <td>__EMPTY__VALUE__</td>\n",
       "      <td>DAS-19014طبق تقديم ثلاثي روبست</td>\n",
       "      <td>...</td>\n",
       "      <td>https://cdn.midasfurniture.com/media/catalog/p...</td>\n",
       "      <td>https://cdn.midasfurniture.com/media/catalog/p...</td>\n",
       "      <td>https://cdn.midasfurniture.com/media/catalog/p...</td>\n",
       "      <td>1</td>\n",
       "      <td>0</td>\n",
       "      <td>-5</td>\n",
       "      <td>1</td>\n",
       "      <td>1</td>\n",
       "      <td>معاصر</td>\n",
       "      <td>DAS</td>\n",
       "    </tr>\n",
       "    <tr>\n",
       "      <th>43</th>\n",
       "      <td>2821</td>\n",
       "      <td>18721</td>\n",
       "      <td>DAS-18721</td>\n",
       "      <td>NaN</td>\n",
       "      <td>Default</td>\n",
       "      <td>base</td>\n",
       "      <td>نافال</td>\n",
       "      <td>__EMPTY__VALUE__</td>\n",
       "      <td>__EMPTY__VALUE__</td>\n",
       "      <td>DAS-18721نافال</td>\n",
       "      <td>...</td>\n",
       "      <td>https://cdn.midasfurniture.com/media/catalog/p...</td>\n",
       "      <td>https://cdn.midasfurniture.com/media/catalog/p...</td>\n",
       "      <td>https://cdn.midasfurniture.com/media/catalog/p...</td>\n",
       "      <td>1</td>\n",
       "      <td>0</td>\n",
       "      <td>-5</td>\n",
       "      <td>1</td>\n",
       "      <td>1</td>\n",
       "      <td>__EMPTY__VALUE__</td>\n",
       "      <td>DAS</td>\n",
       "    </tr>\n",
       "    <tr>\n",
       "      <th>...</th>\n",
       "      <td>...</td>\n",
       "      <td>...</td>\n",
       "      <td>...</td>\n",
       "      <td>...</td>\n",
       "      <td>...</td>\n",
       "      <td>...</td>\n",
       "      <td>...</td>\n",
       "      <td>...</td>\n",
       "      <td>...</td>\n",
       "      <td>...</td>\n",
       "      <td>...</td>\n",
       "      <td>...</td>\n",
       "      <td>...</td>\n",
       "      <td>...</td>\n",
       "      <td>...</td>\n",
       "      <td>...</td>\n",
       "      <td>...</td>\n",
       "      <td>...</td>\n",
       "      <td>...</td>\n",
       "      <td>...</td>\n",
       "      <td>...</td>\n",
       "    </tr>\n",
       "    <tr>\n",
       "      <th>126</th>\n",
       "      <td>2904</td>\n",
       "      <td>124456</td>\n",
       "      <td>DAS-124456</td>\n",
       "      <td>NaN</td>\n",
       "      <td>Default</td>\n",
       "      <td>base</td>\n",
       "      <td>صحن تقديم عميق اوتن</td>\n",
       "      <td>__EMPTY__VALUE__</td>\n",
       "      <td>__EMPTY__VALUE__</td>\n",
       "      <td>DAS-124456صحن تقديم عميق اوتن</td>\n",
       "      <td>...</td>\n",
       "      <td>https://cdn.midasfurniture.com/media/catalog/p...</td>\n",
       "      <td>https://cdn.midasfurniture.com/media/catalog/p...</td>\n",
       "      <td>https://cdn.midasfurniture.com/media/catalog/p...</td>\n",
       "      <td>1</td>\n",
       "      <td>0</td>\n",
       "      <td>-5</td>\n",
       "      <td>1</td>\n",
       "      <td>1</td>\n",
       "      <td>معاصر</td>\n",
       "      <td>DAS</td>\n",
       "    </tr>\n",
       "    <tr>\n",
       "      <th>127</th>\n",
       "      <td>2905</td>\n",
       "      <td>129243</td>\n",
       "      <td>DAS-129243</td>\n",
       "      <td>NaN</td>\n",
       "      <td>Default</td>\n",
       "      <td>base</td>\n",
       "      <td>طقم صحون للتقديم 3 قطع كلودين</td>\n",
       "      <td>__EMPTY__VALUE__</td>\n",
       "      <td>__EMPTY__VALUE__</td>\n",
       "      <td>DAS-129243طقم صحون للتقديم 3 قطع كلودين</td>\n",
       "      <td>...</td>\n",
       "      <td>https://cdn.midasfurniture.com/media/catalog/p...</td>\n",
       "      <td>https://cdn.midasfurniture.com/media/catalog/p...</td>\n",
       "      <td>https://cdn.midasfurniture.com/media/catalog/p...</td>\n",
       "      <td>1</td>\n",
       "      <td>0</td>\n",
       "      <td>-5</td>\n",
       "      <td>1</td>\n",
       "      <td>1</td>\n",
       "      <td>معاصر</td>\n",
       "      <td>DAS</td>\n",
       "    </tr>\n",
       "    <tr>\n",
       "      <th>128</th>\n",
       "      <td>2906</td>\n",
       "      <td>129449</td>\n",
       "      <td>DAS-129449</td>\n",
       "      <td>NaN</td>\n",
       "      <td>Default</td>\n",
       "      <td>base</td>\n",
       "      <td>صحن عميق صغير بيلجروفيا</td>\n",
       "      <td>__EMPTY__VALUE__</td>\n",
       "      <td>__EMPTY__VALUE__</td>\n",
       "      <td>DAS-129449صحن عميق صغير بيلجروفيا</td>\n",
       "      <td>...</td>\n",
       "      <td>https://cdn.midasfurniture.com/media/catalog/p...</td>\n",
       "      <td>https://cdn.midasfurniture.com/media/catalog/p...</td>\n",
       "      <td>https://cdn.midasfurniture.com/media/catalog/p...</td>\n",
       "      <td>1</td>\n",
       "      <td>0</td>\n",
       "      <td>-5</td>\n",
       "      <td>1</td>\n",
       "      <td>1</td>\n",
       "      <td>معاصر</td>\n",
       "      <td>DAS</td>\n",
       "    </tr>\n",
       "    <tr>\n",
       "      <th>129</th>\n",
       "      <td>2907</td>\n",
       "      <td>129423</td>\n",
       "      <td>DAS-129423</td>\n",
       "      <td>NaN</td>\n",
       "      <td>Default</td>\n",
       "      <td>base</td>\n",
       "      <td>صحن عميق وسط بلاميتو</td>\n",
       "      <td>__EMPTY__VALUE__</td>\n",
       "      <td>__EMPTY__VALUE__</td>\n",
       "      <td>DAS-129423صحن عميق وسط بلاميتو</td>\n",
       "      <td>...</td>\n",
       "      <td>https://cdn.midasfurniture.com/media/catalog/p...</td>\n",
       "      <td>https://cdn.midasfurniture.com/media/catalog/p...</td>\n",
       "      <td>https://cdn.midasfurniture.com/media/catalog/p...</td>\n",
       "      <td>1</td>\n",
       "      <td>0</td>\n",
       "      <td>-5</td>\n",
       "      <td>1</td>\n",
       "      <td>1</td>\n",
       "      <td>معاصر</td>\n",
       "      <td>DAS</td>\n",
       "    </tr>\n",
       "    <tr>\n",
       "      <th>130</th>\n",
       "      <td>2908</td>\n",
       "      <td>114959</td>\n",
       "      <td>DAS-114959</td>\n",
       "      <td>NaN</td>\n",
       "      <td>Default</td>\n",
       "      <td>base</td>\n",
       "      <td>طقم 5 قطع</td>\n",
       "      <td>__EMPTY__VALUE__</td>\n",
       "      <td>__EMPTY__VALUE__</td>\n",
       "      <td>DAS-114959طقم 5 قطع</td>\n",
       "      <td>...</td>\n",
       "      <td>https://cdn.midasfurniture.com/media/catalog/p...</td>\n",
       "      <td>https://cdn.midasfurniture.com/media/catalog/p...</td>\n",
       "      <td>https://cdn.midasfurniture.com/media/catalog/p...</td>\n",
       "      <td>1</td>\n",
       "      <td>0</td>\n",
       "      <td>-5</td>\n",
       "      <td>1</td>\n",
       "      <td>1</td>\n",
       "      <td>__EMPTY__VALUE__</td>\n",
       "      <td>DAS</td>\n",
       "    </tr>\n",
       "  </tbody>\n",
       "</table>\n",
       "<p>92 rows × 43 columns</p>\n",
       "</div>"
      ],
      "text/plain": [
       "     Unnamed: 0  sku number only         sku  store_view_code  \\\n",
       "39         2817            19041   DAS-19041              NaN   \n",
       "40         2818            19036   DAS-19036              NaN   \n",
       "41         2819            19034   DAS-19034              NaN   \n",
       "42         2820            19014   DAS-19014              NaN   \n",
       "43         2821            18721   DAS-18721              NaN   \n",
       "..          ...              ...         ...              ...   \n",
       "126        2904           124456  DAS-124456              NaN   \n",
       "127        2905           129243  DAS-129243              NaN   \n",
       "128        2906           129449  DAS-129449              NaN   \n",
       "129        2907           129423  DAS-129423              NaN   \n",
       "130        2908           114959  DAS-114959              NaN   \n",
       "\n",
       "    attribute_set_code product_websites                           name  \\\n",
       "39             Default             base           طبق تقديم عميق ريمسو   \n",
       "40             Default             base              زبدية تقديم ريمسو   \n",
       "41             Default             base           طبق تقديم عميق ريمسو   \n",
       "42             Default             base          طبق تقديم ثلاثي روبست   \n",
       "43             Default             base                          نافال   \n",
       "..                 ...              ...                            ...   \n",
       "126            Default             base            صحن تقديم عميق اوتن   \n",
       "127            Default             base  طقم صحون للتقديم 3 قطع كلودين   \n",
       "128            Default             base        صحن عميق صغير بيلجروفيا   \n",
       "129            Default             base           صحن عميق وسط بلاميتو   \n",
       "130            Default             base                     طقم 5 قطع    \n",
       "\n",
       "    estimated_delivery_enable estimated_delivery_text  \\\n",
       "39           __EMPTY__VALUE__        __EMPTY__VALUE__   \n",
       "40           __EMPTY__VALUE__        __EMPTY__VALUE__   \n",
       "41           __EMPTY__VALUE__        __EMPTY__VALUE__   \n",
       "42           __EMPTY__VALUE__        __EMPTY__VALUE__   \n",
       "43           __EMPTY__VALUE__        __EMPTY__VALUE__   \n",
       "..                        ...                     ...   \n",
       "126          __EMPTY__VALUE__        __EMPTY__VALUE__   \n",
       "127          __EMPTY__VALUE__        __EMPTY__VALUE__   \n",
       "128          __EMPTY__VALUE__        __EMPTY__VALUE__   \n",
       "129          __EMPTY__VALUE__        __EMPTY__VALUE__   \n",
       "130          __EMPTY__VALUE__        __EMPTY__VALUE__   \n",
       "\n",
       "                                     url_key  ...  \\\n",
       "39             DAS-19041طبق تقديم عميق ريمسو  ...   \n",
       "40                DAS-19036زبدية تقديم ريمسو  ...   \n",
       "41             DAS-19034طبق تقديم عميق ريمسو  ...   \n",
       "42            DAS-19014طبق تقديم ثلاثي روبست  ...   \n",
       "43                            DAS-18721نافال  ...   \n",
       "..                                       ...  ...   \n",
       "126            DAS-124456صحن تقديم عميق اوتن  ...   \n",
       "127  DAS-129243طقم صحون للتقديم 3 قطع كلودين  ...   \n",
       "128        DAS-129449صحن عميق صغير بيلجروفيا  ...   \n",
       "129           DAS-129423صحن عميق وسط بلاميتو  ...   \n",
       "130                     DAS-114959طقم 5 قطع   ...   \n",
       "\n",
       "                                          swatch_image  \\\n",
       "39   https://cdn.midasfurniture.com/media/catalog/p...   \n",
       "40   https://cdn.midasfurniture.com/media/catalog/p...   \n",
       "41   https://cdn.midasfurniture.com/media/catalog/p...   \n",
       "42   https://cdn.midasfurniture.com/media/catalog/p...   \n",
       "43   https://cdn.midasfurniture.com/media/catalog/p...   \n",
       "..                                                 ...   \n",
       "126  https://cdn.midasfurniture.com/media/catalog/p...   \n",
       "127  https://cdn.midasfurniture.com/media/catalog/p...   \n",
       "128  https://cdn.midasfurniture.com/media/catalog/p...   \n",
       "129  https://cdn.midasfurniture.com/media/catalog/p...   \n",
       "130  https://cdn.midasfurniture.com/media/catalog/p...   \n",
       "\n",
       "                                       thumbnail_image  \\\n",
       "39   https://cdn.midasfurniture.com/media/catalog/p...   \n",
       "40   https://cdn.midasfurniture.com/media/catalog/p...   \n",
       "41   https://cdn.midasfurniture.com/media/catalog/p...   \n",
       "42   https://cdn.midasfurniture.com/media/catalog/p...   \n",
       "43   https://cdn.midasfurniture.com/media/catalog/p...   \n",
       "..                                                 ...   \n",
       "126  https://cdn.midasfurniture.com/media/catalog/p...   \n",
       "127  https://cdn.midasfurniture.com/media/catalog/p...   \n",
       "128  https://cdn.midasfurniture.com/media/catalog/p...   \n",
       "129  https://cdn.midasfurniture.com/media/catalog/p...   \n",
       "130  https://cdn.midasfurniture.com/media/catalog/p...   \n",
       "\n",
       "                                    additional_images  product_online qty  \\\n",
       "39   https://cdn.midasfurniture.com/media/catalog/p...              1   0   \n",
       "40   https://cdn.midasfurniture.com/media/catalog/p...              1   0   \n",
       "41   https://cdn.midasfurniture.com/media/catalog/p...              1   0   \n",
       "42   https://cdn.midasfurniture.com/media/catalog/p...              1   0   \n",
       "43   https://cdn.midasfurniture.com/media/catalog/p...              1   0   \n",
       "..                                                 ...            ...  ..   \n",
       "126  https://cdn.midasfurniture.com/media/catalog/p...              1   0   \n",
       "127  https://cdn.midasfurniture.com/media/catalog/p...              1   0   \n",
       "128  https://cdn.midasfurniture.com/media/catalog/p...              1   0   \n",
       "129  https://cdn.midasfurniture.com/media/catalog/p...              1   0   \n",
       "130  https://cdn.midasfurniture.com/media/catalog/p...              1   0   \n",
       "\n",
       "    out_of_stock_qty allow_backorders is_in_stock             style  supplier  \n",
       "39                -5                1           1           كلاسيكى       DAS  \n",
       "40                -5                1           1           كلاسيكى       DAS  \n",
       "41                -5                1           1           كلاسيكى       DAS  \n",
       "42                -5                1           1             معاصر       DAS  \n",
       "43                -5                1           1  __EMPTY__VALUE__       DAS  \n",
       "..               ...              ...         ...               ...       ...  \n",
       "126               -5                1           1             معاصر       DAS  \n",
       "127               -5                1           1             معاصر       DAS  \n",
       "128               -5                1           1             معاصر       DAS  \n",
       "129               -5                1           1             معاصر       DAS  \n",
       "130               -5                1           1  __EMPTY__VALUE__       DAS  \n",
       "\n",
       "[92 rows x 43 columns]"
      ]
     },
     "execution_count": 422,
     "metadata": {},
     "output_type": "execute_result"
    }
   ],
   "source": [
    "caca.loc[caca['categories3'] == 'أوعية تقديم', ] "
   ]
  },
  {
   "cell_type": "code",
   "execution_count": 455,
   "id": "63a08d1a",
   "metadata": {},
   "outputs": [],
   "source": [
    "df.to_excel('Midas_update_20_08_2021v17.xlsx')"
   ]
  },
  {
   "cell_type": "code",
   "execution_count": 440,
   "id": "bd39bb3a",
   "metadata": {},
   "outputs": [],
   "source": [
    "df['categories3'] = df['categories3'].str.strip()"
   ]
  },
  {
   "cell_type": "code",
   "execution_count": 454,
   "id": "93b866d5",
   "metadata": {},
   "outputs": [
    {
     "data": {
      "text/plain": [
       "1646    شيزلونج\n",
       "1647    شيزلونج\n",
       "1648    شيزلونج\n",
       "Name: categories3, dtype: object"
      ]
     },
     "execution_count": 454,
     "metadata": {},
     "output_type": "execute_result"
    }
   ],
   "source": [
    "df.loc[(df['categories'] == '') | (df['categories'].isnull()), 'categories3']"
   ]
  },
  {
   "cell_type": "code",
   "execution_count": 97,
   "id": "ebef8a80",
   "metadata": {},
   "outputs": [],
   "source": [
    "for tt in list_cats:\n",
    "    df.loc[df['categories3'] == tt[0], 'categories'] = tt[1]"
   ]
  },
  {
   "cell_type": "code",
   "execution_count": 427,
   "id": "01d6ad3c",
   "metadata": {},
   "outputs": [],
   "source": [
    "caca.to_excel(\"mdd.xlsx\")"
   ]
  },
  {
   "cell_type": "code",
   "execution_count": 453,
   "id": "e7708b2a",
   "metadata": {},
   "outputs": [],
   "source": [
    "df.loc[df['categories3'] == 'أوعية تقديم', 'categories'] = '42915,42916,43742,113'"
   ]
  },
  {
   "cell_type": "code",
   "execution_count": null,
   "id": "5534e38e",
   "metadata": {},
   "outputs": [],
   "source": []
  },
  {
   "cell_type": "code",
   "execution_count": 102,
   "id": "25ecca20",
   "metadata": {},
   "outputs": [],
   "source": [
    "for tt in list_cats:\n",
    "    df.loc[df['categories3'] == tt[0], 'categories'] = tt[1]"
   ]
  },
  {
   "cell_type": "code",
   "execution_count": 49,
   "id": "fd6b410e",
   "metadata": {},
   "outputs": [],
   "source": [
    "df.loc[df['free_colors'].isnull(), 'free_colors'] = '__EMPTY__VALUE__'"
   ]
  },
  {
   "cell_type": "code",
   "execution_count": 51,
   "id": "55d241be",
   "metadata": {},
   "outputs": [],
   "source": [
    "df['free_colors'] = df['free_colors'].str.replace('،', '-')"
   ]
  },
  {
   "cell_type": "code",
   "execution_count": 306,
   "id": "a8913871",
   "metadata": {},
   "outputs": [],
   "source": [
    "df1 = pd.read_excel('/home/wafistos/Documents/Projects/scaping_wafi/Scraping_Midas/update midas/Midas_update_20_08_2021v12.xlsx')"
   ]
  },
  {
   "cell_type": "code",
   "execution_count": 52,
   "id": "abfb3ae6",
   "metadata": {},
   "outputs": [],
   "source": [
    "df['free_colors'] = df['free_colors'].str.replace(' لا', '__EMPTY__VALUE__')"
   ]
  },
  {
   "cell_type": "code",
   "execution_count": 54,
   "id": "0e201ec8",
   "metadata": {},
   "outputs": [],
   "source": [
    "df['raw_materials'] = df['raw_materials'].str.replace('/', '-')"
   ]
  },
  {
   "cell_type": "code",
   "execution_count": 101,
   "id": "ef150b7b",
   "metadata": {},
   "outputs": [],
   "source": [
    "df['categories3'] = df['categories3'].str.strip()"
   ]
  },
  {
   "cell_type": "code",
   "execution_count": 104,
   "id": "b538f142",
   "metadata": {},
   "outputs": [
    {
     "data": {
      "text/html": [
       "<div>\n",
       "<style scoped>\n",
       "    .dataframe tbody tr th:only-of-type {\n",
       "        vertical-align: middle;\n",
       "    }\n",
       "\n",
       "    .dataframe tbody tr th {\n",
       "        vertical-align: top;\n",
       "    }\n",
       "\n",
       "    .dataframe thead th {\n",
       "        text-align: right;\n",
       "    }\n",
       "</style>\n",
       "<table border=\"1\" class=\"dataframe\">\n",
       "  <thead>\n",
       "    <tr style=\"text-align: right;\">\n",
       "      <th></th>\n",
       "      <th>sku</th>\n",
       "      <th>name</th>\n",
       "      <th>url_key</th>\n",
       "      <th>short_description</th>\n",
       "      <th>description</th>\n",
       "      <th>free_colors</th>\n",
       "      <th>raw_materials</th>\n",
       "      <th>ts_dimensions_width</th>\n",
       "      <th>ts_dimensions_height</th>\n",
       "      <th>ts_dimensions_length</th>\n",
       "      <th>...</th>\n",
       "      <th>store_view_code</th>\n",
       "      <th>supplier</th>\n",
       "      <th>style</th>\n",
       "      <th>categories</th>\n",
       "      <th>First</th>\n",
       "      <th>Last</th>\n",
       "      <th>toto</th>\n",
       "      <th>estimated_delivery_text</th>\n",
       "      <th>estimated_delivery_enable</th>\n",
       "      <th>cost</th>\n",
       "    </tr>\n",
       "  </thead>\n",
       "  <tbody>\n",
       "  </tbody>\n",
       "</table>\n",
       "<p>0 rows × 45 columns</p>\n",
       "</div>"
      ],
      "text/plain": [
       "Empty DataFrame\n",
       "Columns: [sku, name, url_key, short_description, description, free_colors, raw_materials, ts_dimensions_width, ts_dimensions_height, ts_dimensions_length, Weight, base_image, small_image, swatch_image, thumbnail_image, additional_images , categories1, categories2, categories3, price, special_price, visibility, tax_class_name, Link_url, qty, out_of_stock_qty, is_in_stock, product_online, allow_backorders, manufacturer, news_from_date, news_to_date, product_websites, attribute_set_code, product_type, store_view_code, supplier, style, categories, First, Last, toto, estimated_delivery_text, estimated_delivery_enable, cost]\n",
       "Index: []\n",
       "\n",
       "[0 rows x 45 columns]"
      ]
     },
     "execution_count": 104,
     "metadata": {},
     "output_type": "execute_result"
    }
   ],
   "source": [
    " df.loc[(df['categories'] == '') | df['categories'].isnull()]"
   ]
  },
  {
   "cell_type": "code",
   "execution_count": 114,
   "id": "e304d972",
   "metadata": {},
   "outputs": [
    {
     "name": "stderr",
     "output_type": "stream",
     "text": [
      "<ipython-input-114-4cf49b54c33f>:1: SettingWithCopyWarning: \n",
      "A value is trying to be set on a copy of a slice from a DataFrame.\n",
      "Try using .loc[row_indexer,col_indexer] = value instead\n",
      "\n",
      "See the caveats in the documentation: https://pandas.pydata.org/pandas-docs/stable/user_guide/indexing.html#returning-a-view-versus-a-copy\n",
      "  df['free_colors'] = df['free_colors'].str.replace('/', '-', regex=False)\n"
     ]
    }
   ],
   "source": [
    "df['free_colors'] = df['free_colors'].str.replace('/', '-', regex=False) "
   ]
  },
  {
   "cell_type": "code",
   "execution_count": 116,
   "id": "3afd29fc",
   "metadata": {},
   "outputs": [],
   "source": [
    "df.to_excel('Midas_update_27_08_2021v3.xlsx')"
   ]
  },
  {
   "cell_type": "code",
   "execution_count": 387,
   "id": "78a7c474",
   "metadata": {},
   "outputs": [],
   "source": [
    "df_seul.to_excel('Midas_without_categories.xlsx')"
   ]
  },
  {
   "cell_type": "code",
   "execution_count": 395,
   "id": "04ebdbf9",
   "metadata": {},
   "outputs": [
    {
     "data": {
      "text/plain": [
       "3"
      ]
     },
     "execution_count": 395,
     "metadata": {},
     "output_type": "execute_result"
    }
   ],
   "source": [
    "cat1 = df_seul['categories1'].unique().tolist()\n",
    "len(cat1)"
   ]
  },
  {
   "cell_type": "code",
   "execution_count": 400,
   "id": "ebf0a34e",
   "metadata": {},
   "outputs": [
    {
     "data": {
      "text/plain": [
       "13"
      ]
     },
     "execution_count": 400,
     "metadata": {},
     "output_type": "execute_result"
    }
   ],
   "source": [
    "len(cat2)"
   ]
  },
  {
   "cell_type": "code",
   "execution_count": 390,
   "id": "77c416bc",
   "metadata": {},
   "outputs": [
    {
     "data": {
      "text/plain": [
       "2"
      ]
     },
     "execution_count": 390,
     "metadata": {},
     "output_type": "execute_result"
    }
   ],
   "source": [
    "cat2 = df_seul['categories2'].unique().tolist()\n",
    "len(cat2)"
   ]
  },
  {
   "cell_type": "code",
   "execution_count": 386,
   "id": "32751e48",
   "metadata": {},
   "outputs": [
    {
     "data": {
      "text/plain": [
       "13"
      ]
     },
     "execution_count": 386,
     "metadata": {},
     "output_type": "execute_result"
    }
   ],
   "source": [
    "cat3 = df_seul['categories3'].unique().tolist()\n",
    "len(cat3)"
   ]
  },
  {
   "cell_type": "code",
   "execution_count": 399,
   "id": "5230f22f",
   "metadata": {},
   "outputs": [],
   "source": [
    "list_cat2 = []\n",
    "for i in range(2, 13):\n",
    "    cat2.append('')\n"
   ]
  },
  {
   "cell_type": "code",
   "execution_count": 403,
   "id": "db49bd6a",
   "metadata": {},
   "outputs": [],
   "source": [
    "dic_cats = {\n",
    "    'cat1': cat1,\n",
    "    'cat2': cat2,\n",
    "    'cat3': cat3,\n",
    "}\n",
    "df_listo = pd.DataFrame(dic_cats)"
   ]
  },
  {
   "cell_type": "code",
   "execution_count": 404,
   "id": "9ee262ea",
   "metadata": {},
   "outputs": [],
   "source": [
    "df_listo.to_excel('Cat_midas_without_categories.xlsx')"
   ]
  },
  {
   "cell_type": "code",
   "execution_count": null,
   "id": "0e8435da",
   "metadata": {},
   "outputs": [],
   "source": []
  },
  {
   "cell_type": "code",
   "execution_count": 368,
   "id": "a020ca16",
   "metadata": {},
   "outputs": [],
   "source": [
    "df.loc[df['categories2'] == 'أوعية تقديم', 'categories2'] = 'أدوات المطبخ'"
   ]
  },
  {
   "cell_type": "code",
   "execution_count": 373,
   "id": "dc617f06",
   "metadata": {},
   "outputs": [],
   "source": [
    "df.to_excel('Midas_update_20_08_2021_v15.xlsx')"
   ]
  },
  {
   "cell_type": "code",
   "execution_count": null,
   "id": "2645442d",
   "metadata": {},
   "outputs": [],
   "source": [
    "df.loc"
   ]
  },
  {
   "cell_type": "code",
   "execution_count": null,
   "id": "3d7a66a0",
   "metadata": {},
   "outputs": [],
   "source": [
    "df"
   ]
  },
  {
   "cell_type": "markdown",
   "id": "6f622f47",
   "metadata": {},
   "source": [
    "# Split name "
   ]
  },
  {
   "cell_type": "code",
   "execution_count": 49,
   "id": "68d422f6",
   "metadata": {},
   "outputs": [],
   "source": [
    "text = 'كلاكبرن-هذا المنتج سيكون متوفر للتوصيل بعد 26 ايام-'"
   ]
  },
  {
   "cell_type": "code",
   "execution_count": 50,
   "id": "d7beefc9",
   "metadata": {},
   "outputs": [
    {
     "data": {
      "text/plain": [
       "['كلاكبرن', 'هذا المنتج سيكون متوفر للتوصيل بعد 26 ايام', '']"
      ]
     },
     "execution_count": 50,
     "metadata": {},
     "output_type": "execute_result"
    }
   ],
   "source": [
    "text.split('-')"
   ]
  },
  {
   "cell_type": "code",
   "execution_count": 99,
   "id": "acd7caee",
   "metadata": {},
   "outputs": [],
   "source": [
    "df = None"
   ]
  },
  {
   "cell_type": "code",
   "execution_count": 100,
   "id": "1652def0",
   "metadata": {},
   "outputs": [],
   "source": [
    "df = pd.read_excel('/home/wafistos/Downloads/Missing des.xlsx')"
   ]
  },
  {
   "cell_type": "code",
   "execution_count": 102,
   "id": "e7926af3",
   "metadata": {},
   "outputs": [
    {
     "data": {
      "text/plain": [
       "Index(['sku', 'description', 'short_description', 'cat'], dtype='object')"
      ]
     },
     "execution_count": 102,
     "metadata": {},
     "output_type": "execute_result"
    }
   ],
   "source": [
    "df.columns"
   ]
  },
  {
   "cell_type": "code",
   "execution_count": 103,
   "id": "f6e1f6f9",
   "metadata": {},
   "outputs": [
    {
     "data": {
      "text/plain": [
       "0                NaN\n",
       "1                NaN\n",
       "2                NaN\n",
       "3                NaN\n",
       "4                NaN\n",
       "            ...     \n",
       "2006             NaN\n",
       "2007             NaN\n",
       "2008             NaN\n",
       "2009             NaN\n",
       "2010    43790,24,113\n",
       "Name: cat, Length: 2011, dtype: object"
      ]
     },
     "execution_count": 103,
     "metadata": {},
     "output_type": "execute_result"
    }
   ],
   "source": [
    "df['cat']"
   ]
  },
  {
   "cell_type": "code",
   "execution_count": 93,
   "id": "aa65d437",
   "metadata": {},
   "outputs": [],
   "source": [
    "df_cat = pd.read_excel('/home/wafistos/Documents/Projects/scaping_wafi/Scraping_Midas/Categories/Midas category(1).xlsx')"
   ]
  },
  {
   "cell_type": "code",
   "execution_count": 53,
   "id": "c20ee64b",
   "metadata": {},
   "outputs": [
    {
     "data": {
      "text/plain": [
       "Index(['Name of category ', 'Num of category ', 'description', 'Unnamed: 3',\n",
       "       'Unnamed: 4', 'Unnamed: 5', 'Unnamed: 6', 'Unnamed: 7', 'Unnamed: 8',\n",
       "       'Unnamed: 9', 'Unnamed: 10', 'Unnamed: 11', 'Unnamed: 12',\n",
       "       'Unnamed: 13', 'Unnamed: 14', 'Unnamed: 15', 'Unnamed: 16',\n",
       "       'Unnamed: 17', 'Unnamed: 18', 'Unnamed: 19', 'Unnamed: 20',\n",
       "       'Unnamed: 21', 'Unnamed: 22', 'Unnamed: 23'],\n",
       "      dtype='object')"
      ]
     },
     "execution_count": 53,
     "metadata": {},
     "output_type": "execute_result"
    }
   ],
   "source": [
    "df_cat.columns"
   ]
  },
  {
   "cell_type": "code",
   "execution_count": 94,
   "id": "ca252a47",
   "metadata": {},
   "outputs": [],
   "source": [
    "cats = []\n",
    "for index, row in df_cat.iterrows():\n",
    "    cats.append([row['Name of category '], row['Num of category '], row['description']])"
   ]
  },
  {
   "cell_type": "code",
   "execution_count": 63,
   "id": "11a9226b",
   "metadata": {},
   "outputs": [
    {
     "data": {
      "text/plain": [
       "'كنب بتصميم عصري وعملي يحقق راحتك القصوى مع عائلتك وأصدقائك عند السهرات أو مشاهدة التلفزيون والأفلام فهو فخم واقتصادي ومريح. هيكل الكنب مصنوع من هيكل متين ومتحمل للاوزان. حشوات المساند مصنوعة من الاسفنج النقي عالي الجودة لتأخذ شكل الجسم عند الجلوس وتحقق الراحة القصوى. غطاء المساند مصنوع من القماش الناعم بلون جذاب وأنيق. الجزء الطويل يمكنك من الاستلقاء ومشاهدة الأفلام براحة تامة.'"
      ]
     },
     "execution_count": 63,
     "metadata": {},
     "output_type": "execute_result"
    }
   ],
   "source": [
    "cats[0][2]"
   ]
  },
  {
   "cell_type": "code",
   "execution_count": 104,
   "id": "30110e3e",
   "metadata": {},
   "outputs": [],
   "source": [
    "dfall = pd.read_excel('/home/wafistos/Documents/Projects/scaping_wafi/Scraping_Midas/update midas/Midas_update_27_08_2021v3.xlsx')"
   ]
  },
  {
   "cell_type": "code",
   "execution_count": 105,
   "id": "0504834e",
   "metadata": {},
   "outputs": [],
   "source": [
    "list_cats  = []\n",
    "for index, row in dfall.iterrows():\n",
    "    list_cats.append([row['sku'], row['categories' ]])"
   ]
  },
  {
   "cell_type": "code",
   "execution_count": 106,
   "id": "9f096a95",
   "metadata": {},
   "outputs": [],
   "source": [
    "for tt in list_cats:\n",
    "    df.loc[df['sku'] == tt[0], 'cat'] = tt[1]"
   ]
  },
  {
   "cell_type": "code",
   "execution_count": 108,
   "id": "d5310314",
   "metadata": {},
   "outputs": [
    {
     "data": {
      "text/html": [
       "<div>\n",
       "<style scoped>\n",
       "    .dataframe tbody tr th:only-of-type {\n",
       "        vertical-align: middle;\n",
       "    }\n",
       "\n",
       "    .dataframe tbody tr th {\n",
       "        vertical-align: top;\n",
       "    }\n",
       "\n",
       "    .dataframe thead th {\n",
       "        text-align: right;\n",
       "    }\n",
       "</style>\n",
       "<table border=\"1\" class=\"dataframe\">\n",
       "  <thead>\n",
       "    <tr style=\"text-align: right;\">\n",
       "      <th></th>\n",
       "      <th>sku</th>\n",
       "      <th>description</th>\n",
       "      <th>short_description</th>\n",
       "      <th>cat</th>\n",
       "    </tr>\n",
       "  </thead>\n",
       "  <tbody>\n",
       "    <tr>\n",
       "      <th>13</th>\n",
       "      <td>DAS-122491</td>\n",
       "      <td>NaN</td>\n",
       "      <td>NaN</td>\n",
       "      <td>6723,6724,113</td>\n",
       "    </tr>\n",
       "    <tr>\n",
       "      <th>35</th>\n",
       "      <td>DAS-19120</td>\n",
       "      <td>NaN</td>\n",
       "      <td>NaN</td>\n",
       "      <td>42,48,113</td>\n",
       "    </tr>\n",
       "    <tr>\n",
       "      <th>36</th>\n",
       "      <td>DAS-19113</td>\n",
       "      <td>NaN</td>\n",
       "      <td>NaN</td>\n",
       "      <td>42,48,113</td>\n",
       "    </tr>\n",
       "    <tr>\n",
       "      <th>45</th>\n",
       "      <td>DAS-95060</td>\n",
       "      <td>NaN</td>\n",
       "      <td>NaN</td>\n",
       "      <td>37</td>\n",
       "    </tr>\n",
       "    <tr>\n",
       "      <th>47</th>\n",
       "      <td>DAS-95057</td>\n",
       "      <td>NaN</td>\n",
       "      <td>NaN</td>\n",
       "      <td>37</td>\n",
       "    </tr>\n",
       "    <tr>\n",
       "      <th>...</th>\n",
       "      <td>...</td>\n",
       "      <td>...</td>\n",
       "      <td>...</td>\n",
       "      <td>...</td>\n",
       "    </tr>\n",
       "    <tr>\n",
       "      <th>1985</th>\n",
       "      <td>DAS-125291</td>\n",
       "      <td>NaN</td>\n",
       "      <td>NaN</td>\n",
       "      <td>43649,43735,113</td>\n",
       "    </tr>\n",
       "    <tr>\n",
       "      <th>1986</th>\n",
       "      <td>DAS-124724</td>\n",
       "      <td>NaN</td>\n",
       "      <td>NaN</td>\n",
       "      <td>43649,43735,113</td>\n",
       "    </tr>\n",
       "    <tr>\n",
       "      <th>1987</th>\n",
       "      <td>DAS-124723</td>\n",
       "      <td>NaN</td>\n",
       "      <td>NaN</td>\n",
       "      <td>43649,43735,113</td>\n",
       "    </tr>\n",
       "    <tr>\n",
       "      <th>1998</th>\n",
       "      <td>DAS-12112</td>\n",
       "      <td>NaN</td>\n",
       "      <td>NaN</td>\n",
       "      <td>43798,43526,113</td>\n",
       "    </tr>\n",
       "    <tr>\n",
       "      <th>2010</th>\n",
       "      <td>DAS-105198</td>\n",
       "      <td>NaN</td>\n",
       "      <td>NaN</td>\n",
       "      <td>37</td>\n",
       "    </tr>\n",
       "  </tbody>\n",
       "</table>\n",
       "<p>789 rows × 4 columns</p>\n",
       "</div>"
      ],
      "text/plain": [
       "             sku  description short_description              cat\n",
       "13    DAS-122491          NaN               NaN    6723,6724,113\n",
       "35     DAS-19120          NaN               NaN        42,48,113\n",
       "36     DAS-19113          NaN               NaN        42,48,113\n",
       "45     DAS-95060          NaN               NaN               37\n",
       "47     DAS-95057          NaN               NaN               37\n",
       "...          ...          ...               ...              ...\n",
       "1985  DAS-125291          NaN               NaN  43649,43735,113\n",
       "1986  DAS-124724          NaN               NaN  43649,43735,113\n",
       "1987  DAS-124723          NaN               NaN  43649,43735,113\n",
       "1998   DAS-12112          NaN               NaN  43798,43526,113\n",
       "2010  DAS-105198          NaN               NaN               37\n",
       "\n",
       "[789 rows x 4 columns]"
      ]
     },
     "execution_count": 108,
     "metadata": {},
     "output_type": "execute_result"
    }
   ],
   "source": [
    "df.loc[~df['cat'].isnull()]"
   ]
  },
  {
   "cell_type": "code",
   "execution_count": 110,
   "id": "8fdc2ed5",
   "metadata": {},
   "outputs": [],
   "source": [
    "for toto in cats:\n",
    "    df.loc[(df['cat'] == toto[1]) & (df['short_description'].isnull()), 'short_description'] = toto[2]"
   ]
  },
  {
   "cell_type": "code",
   "execution_count": 66,
   "id": "f4b74cdd",
   "metadata": {},
   "outputs": [
    {
     "data": {
      "text/html": [
       "<div>\n",
       "<style scoped>\n",
       "    .dataframe tbody tr th:only-of-type {\n",
       "        vertical-align: middle;\n",
       "    }\n",
       "\n",
       "    .dataframe tbody tr th {\n",
       "        vertical-align: top;\n",
       "    }\n",
       "\n",
       "    .dataframe thead th {\n",
       "        text-align: right;\n",
       "    }\n",
       "</style>\n",
       "<table border=\"1\" class=\"dataframe\">\n",
       "  <thead>\n",
       "    <tr style=\"text-align: right;\">\n",
       "      <th></th>\n",
       "      <th>sku</th>\n",
       "      <th>store_view_code</th>\n",
       "      <th>attribute_set_code</th>\n",
       "      <th>product_type</th>\n",
       "      <th>categories</th>\n",
       "      <th>product_websites</th>\n",
       "      <th>name</th>\n",
       "      <th>description</th>\n",
       "      <th>estimated_delivery_enable</th>\n",
       "      <th>estimated_delivery_text</th>\n",
       "      <th>...</th>\n",
       "      <th>bundle_weight_type</th>\n",
       "      <th>bundle_values</th>\n",
       "      <th>bundle_shipment_type</th>\n",
       "      <th>associated_skus</th>\n",
       "      <th>configurable_variations</th>\n",
       "      <th>configurable_variation_labels</th>\n",
       "      <th>Unnamed: 89</th>\n",
       "      <th>First</th>\n",
       "      <th>Last</th>\n",
       "      <th>cat</th>\n",
       "    </tr>\n",
       "  </thead>\n",
       "  <tbody>\n",
       "  </tbody>\n",
       "</table>\n",
       "<p>0 rows × 93 columns</p>\n",
       "</div>"
      ],
      "text/plain": [
       "Empty DataFrame\n",
       "Columns: [sku, store_view_code, attribute_set_code, product_type, categories, product_websites, name, description, estimated_delivery_enable, estimated_delivery_text, short_description, weight, product_online, tax_class_name, visibility, price, special_price, special_price_from_date, special_price_to_date, url_key, meta_title, meta_keywords, meta_description, base_image, base_image_label, small_image, small_image_label, thumbnail_image, thumbnail_image_label, swatch_image, swatch_image_label, created_at, updated_at, new_from_date, new_to_date, display_product_options_in, map_price, msrp_price, map_enabled, gift_message_available, custom_design, custom_design_from, custom_design_to, custom_layout_update, page_layout, product_options_container, msrp_display_actual_price_type, country_of_manufacture, additional_attributes, qty, out_of_stock_qty, use_config_min_qty, is_qty_decimal, allow_backorders, use_config_backorders, min_cart_qty, use_config_min_sale_qty, max_cart_qty, use_config_max_sale_qty, is_in_stock, notify_on_stock_below, use_config_notify_stock_qty, manage_stock, use_config_manage_stock, use_config_qty_increments, qty_increments, use_config_enable_qty_inc, enable_qty_increments, is_decimal_divided, website_id, related_skus, related_position, crosssell_skus, crosssell_position, upsell_skus, upsell_position, additional_images, additional_image_labels, hide_from_product_page, custom_options, bundle_price_type, bundle_sku_type, bundle_price_view, bundle_weight_type, bundle_values, bundle_shipment_type, associated_skus, configurable_variations, configurable_variation_labels, Unnamed: 89, First, Last, cat]\n",
       "Index: []\n",
       "\n",
       "[0 rows x 93 columns]"
      ]
     },
     "execution_count": 66,
     "metadata": {},
     "output_type": "execute_result"
    }
   ],
   "source": [
    "df.loc[df['description'].isnull()]"
   ]
  },
  {
   "cell_type": "code",
   "execution_count": 111,
   "id": "5d15c9c2",
   "metadata": {},
   "outputs": [],
   "source": [
    "df.to_excel('Midas_2_cat.xlsx')"
   ]
  },
  {
   "cell_type": "code",
   "execution_count": 85,
   "id": "573b22f6",
   "metadata": {},
   "outputs": [],
   "source": [
    " df['short_description'] = df['description']"
   ]
  },
  {
   "cell_type": "code",
   "execution_count": 50,
   "id": "bd20ce3c",
   "metadata": {},
   "outputs": [],
   "source": [
    "df['cat'] = ''"
   ]
  },
  {
   "cell_type": "code",
   "execution_count": 48,
   "id": "13f64863",
   "metadata": {},
   "outputs": [
    {
     "data": {
      "text/plain": [
       "0      DAS-124377\n",
       "1      DAS-123517\n",
       "2      DAS-123467\n",
       "3      DAS-123460\n",
       "4      DAS-123459\n",
       "          ...    \n",
       "337     DAS-13089\n",
       "338    DAS-116897\n",
       "339    DAS-105718\n",
       "340    DAS-128002\n",
       "341    DAS-108584\n",
       "Name: sku, Length: 342, dtype: object"
      ]
     },
     "execution_count": 48,
     "metadata": {},
     "output_type": "execute_result"
    }
   ],
   "source": [
    "df['sku']"
   ]
  },
  {
   "cell_type": "code",
   "execution_count": 68,
   "id": "ed6d4ca8",
   "metadata": {},
   "outputs": [],
   "source": [
    "df.to_excel('toto1.xlsx')"
   ]
  },
  {
   "cell_type": "code",
   "execution_count": 71,
   "id": "6307b898",
   "metadata": {},
   "outputs": [],
   "source": [
    "df= pd.read_excel('toto.xlsx')"
   ]
  },
  {
   "cell_type": "code",
   "execution_count": 15,
   "id": "c938898b",
   "metadata": {},
   "outputs": [],
   "source": [
    "df[['First','Last']] = df['name'].str.split(\"هذا المنتج\",expand=True,)"
   ]
  },
  {
   "cell_type": "code",
   "execution_count": 28,
   "id": "3e243d50",
   "metadata": {},
   "outputs": [],
   "source": [
    "df['First'] = df['First'].str.replace('-', '', regex=False)"
   ]
  },
  {
   "cell_type": "code",
   "execution_count": 30,
   "id": "bfe19215",
   "metadata": {},
   "outputs": [],
   "source": [
    "df['estimated_delivery_text'] = df['Last']"
   ]
  },
  {
   "cell_type": "code",
   "execution_count": 43,
   "id": "fa92637a",
   "metadata": {},
   "outputs": [],
   "source": [
    "df['url_key'] = df['name']+ '-' + df['sku']"
   ]
  },
  {
   "cell_type": "code",
   "execution_count": 44,
   "id": "91079264",
   "metadata": {},
   "outputs": [],
   "source": [
    "df['name'] = df['First']"
   ]
  },
  {
   "cell_type": "code",
   "execution_count": null,
   "id": "c392c241",
   "metadata": {},
   "outputs": [],
   "source": [
    "('هذا المنتج سيكون', 'سيكون')"
   ]
  },
  {
   "cell_type": "code",
   "execution_count": 23,
   "id": "66e2e273",
   "metadata": {},
   "outputs": [],
   "source": [
    "df['Last'] = df['Last'].str.replace('سيكون', 'هذا المنتج سيكون')"
   ]
  },
  {
   "cell_type": "code",
   "execution_count": 200,
   "id": "b92f9a7f",
   "metadata": {},
   "outputs": [
    {
     "ename": "ValueError",
     "evalue": "Cannot mask with non-boolean array containing NA / NaN values",
     "output_type": "error",
     "traceback": [
      "\u001b[0;31m---------------------------------------------------------------------------\u001b[0m",
      "\u001b[0;31mValueError\u001b[0m                                Traceback (most recent call last)",
      "\u001b[0;32m<ipython-input-200-e6bead7ceed5>\u001b[0m in \u001b[0;36m<module>\u001b[0;34m\u001b[0m\n\u001b[0;32m----> 1\u001b[0;31m \u001b[0mdf\u001b[0m\u001b[0;34m.\u001b[0m\u001b[0mloc\u001b[0m\u001b[0;34m[\u001b[0m\u001b[0mdf\u001b[0m\u001b[0;34m[\u001b[0m\u001b[0;34m'Last'\u001b[0m\u001b[0;34m]\u001b[0m\u001b[0;34m.\u001b[0m\u001b[0mstr\u001b[0m\u001b[0;34m.\u001b[0m\u001b[0mcontains\u001b[0m\u001b[0;34m(\u001b[0m\u001b[0;34m'هذا المنتج '\u001b[0m\u001b[0;34m)\u001b[0m\u001b[0;34m,\u001b[0m \u001b[0;34m'is_in_stock'\u001b[0m\u001b[0;34m]\u001b[0m \u001b[0;34m=\u001b[0m \u001b[0;36m0\u001b[0m\u001b[0;34m\u001b[0m\u001b[0;34m\u001b[0m\u001b[0m\n\u001b[0m",
      "\u001b[0;32m~/anaconda3/lib/python3.8/site-packages/pandas/core/indexing.py\u001b[0m in \u001b[0;36m__setitem__\u001b[0;34m(self, key, value)\u001b[0m\n\u001b[1;32m    686\u001b[0m         \u001b[0;32melse\u001b[0m\u001b[0;34m:\u001b[0m\u001b[0;34m\u001b[0m\u001b[0;34m\u001b[0m\u001b[0m\n\u001b[1;32m    687\u001b[0m             \u001b[0mkey\u001b[0m \u001b[0;34m=\u001b[0m \u001b[0mcom\u001b[0m\u001b[0;34m.\u001b[0m\u001b[0mapply_if_callable\u001b[0m\u001b[0;34m(\u001b[0m\u001b[0mkey\u001b[0m\u001b[0;34m,\u001b[0m \u001b[0mself\u001b[0m\u001b[0;34m.\u001b[0m\u001b[0mobj\u001b[0m\u001b[0;34m)\u001b[0m\u001b[0;34m\u001b[0m\u001b[0;34m\u001b[0m\u001b[0m\n\u001b[0;32m--> 688\u001b[0;31m         \u001b[0mindexer\u001b[0m \u001b[0;34m=\u001b[0m \u001b[0mself\u001b[0m\u001b[0;34m.\u001b[0m\u001b[0m_get_setitem_indexer\u001b[0m\u001b[0;34m(\u001b[0m\u001b[0mkey\u001b[0m\u001b[0;34m)\u001b[0m\u001b[0;34m\u001b[0m\u001b[0;34m\u001b[0m\u001b[0m\n\u001b[0m\u001b[1;32m    689\u001b[0m         \u001b[0mself\u001b[0m\u001b[0;34m.\u001b[0m\u001b[0m_has_valid_setitem_indexer\u001b[0m\u001b[0;34m(\u001b[0m\u001b[0mkey\u001b[0m\u001b[0;34m)\u001b[0m\u001b[0;34m\u001b[0m\u001b[0;34m\u001b[0m\u001b[0m\n\u001b[1;32m    690\u001b[0m \u001b[0;34m\u001b[0m\u001b[0m\n",
      "\u001b[0;32m~/anaconda3/lib/python3.8/site-packages/pandas/core/indexing.py\u001b[0m in \u001b[0;36m_get_setitem_indexer\u001b[0;34m(self, key)\u001b[0m\n\u001b[1;32m    628\u001b[0m         \u001b[0;32mif\u001b[0m \u001b[0misinstance\u001b[0m\u001b[0;34m(\u001b[0m\u001b[0mkey\u001b[0m\u001b[0;34m,\u001b[0m \u001b[0mtuple\u001b[0m\u001b[0;34m)\u001b[0m\u001b[0;34m:\u001b[0m\u001b[0;34m\u001b[0m\u001b[0;34m\u001b[0m\u001b[0m\n\u001b[1;32m    629\u001b[0m             \u001b[0;32mwith\u001b[0m \u001b[0msuppress\u001b[0m\u001b[0;34m(\u001b[0m\u001b[0mIndexingError\u001b[0m\u001b[0;34m)\u001b[0m\u001b[0;34m:\u001b[0m\u001b[0;34m\u001b[0m\u001b[0;34m\u001b[0m\u001b[0m\n\u001b[0;32m--> 630\u001b[0;31m                 \u001b[0;32mreturn\u001b[0m \u001b[0mself\u001b[0m\u001b[0;34m.\u001b[0m\u001b[0m_convert_tuple\u001b[0m\u001b[0;34m(\u001b[0m\u001b[0mkey\u001b[0m\u001b[0;34m,\u001b[0m \u001b[0mis_setter\u001b[0m\u001b[0;34m=\u001b[0m\u001b[0;32mTrue\u001b[0m\u001b[0;34m)\u001b[0m\u001b[0;34m\u001b[0m\u001b[0;34m\u001b[0m\u001b[0m\n\u001b[0m\u001b[1;32m    631\u001b[0m \u001b[0;34m\u001b[0m\u001b[0m\n\u001b[1;32m    632\u001b[0m         \u001b[0;32mif\u001b[0m \u001b[0misinstance\u001b[0m\u001b[0;34m(\u001b[0m\u001b[0mkey\u001b[0m\u001b[0;34m,\u001b[0m \u001b[0mrange\u001b[0m\u001b[0;34m)\u001b[0m\u001b[0;34m:\u001b[0m\u001b[0;34m\u001b[0m\u001b[0;34m\u001b[0m\u001b[0m\n",
      "\u001b[0;32m~/anaconda3/lib/python3.8/site-packages/pandas/core/indexing.py\u001b[0m in \u001b[0;36m_convert_tuple\u001b[0;34m(self, key, is_setter)\u001b[0m\n\u001b[1;32m    752\u001b[0m             \u001b[0mself\u001b[0m\u001b[0;34m.\u001b[0m\u001b[0m_validate_key_length\u001b[0m\u001b[0;34m(\u001b[0m\u001b[0mkey\u001b[0m\u001b[0;34m)\u001b[0m\u001b[0;34m\u001b[0m\u001b[0;34m\u001b[0m\u001b[0m\n\u001b[1;32m    753\u001b[0m             \u001b[0;32mfor\u001b[0m \u001b[0mi\u001b[0m\u001b[0;34m,\u001b[0m \u001b[0mk\u001b[0m \u001b[0;32min\u001b[0m \u001b[0menumerate\u001b[0m\u001b[0;34m(\u001b[0m\u001b[0mkey\u001b[0m\u001b[0;34m)\u001b[0m\u001b[0;34m:\u001b[0m\u001b[0;34m\u001b[0m\u001b[0;34m\u001b[0m\u001b[0m\n\u001b[0;32m--> 754\u001b[0;31m                 \u001b[0midx\u001b[0m \u001b[0;34m=\u001b[0m \u001b[0mself\u001b[0m\u001b[0;34m.\u001b[0m\u001b[0m_convert_to_indexer\u001b[0m\u001b[0;34m(\u001b[0m\u001b[0mk\u001b[0m\u001b[0;34m,\u001b[0m \u001b[0maxis\u001b[0m\u001b[0;34m=\u001b[0m\u001b[0mi\u001b[0m\u001b[0;34m,\u001b[0m \u001b[0mis_setter\u001b[0m\u001b[0;34m=\u001b[0m\u001b[0mis_setter\u001b[0m\u001b[0;34m)\u001b[0m\u001b[0;34m\u001b[0m\u001b[0;34m\u001b[0m\u001b[0m\n\u001b[0m\u001b[1;32m    755\u001b[0m                 \u001b[0mkeyidx\u001b[0m\u001b[0;34m.\u001b[0m\u001b[0mappend\u001b[0m\u001b[0;34m(\u001b[0m\u001b[0midx\u001b[0m\u001b[0;34m)\u001b[0m\u001b[0;34m\u001b[0m\u001b[0;34m\u001b[0m\u001b[0m\n\u001b[1;32m    756\u001b[0m \u001b[0;34m\u001b[0m\u001b[0m\n",
      "\u001b[0;32m~/anaconda3/lib/python3.8/site-packages/pandas/core/indexing.py\u001b[0m in \u001b[0;36m_convert_to_indexer\u001b[0;34m(self, key, axis, is_setter)\u001b[0m\n\u001b[1;32m   1204\u001b[0m         \u001b[0;32melif\u001b[0m \u001b[0mis_list_like_indexer\u001b[0m\u001b[0;34m(\u001b[0m\u001b[0mkey\u001b[0m\u001b[0;34m)\u001b[0m\u001b[0;34m:\u001b[0m\u001b[0;34m\u001b[0m\u001b[0;34m\u001b[0m\u001b[0m\n\u001b[1;32m   1205\u001b[0m \u001b[0;34m\u001b[0m\u001b[0m\n\u001b[0;32m-> 1206\u001b[0;31m             \u001b[0;32mif\u001b[0m \u001b[0mcom\u001b[0m\u001b[0;34m.\u001b[0m\u001b[0mis_bool_indexer\u001b[0m\u001b[0;34m(\u001b[0m\u001b[0mkey\u001b[0m\u001b[0;34m)\u001b[0m\u001b[0;34m:\u001b[0m\u001b[0;34m\u001b[0m\u001b[0;34m\u001b[0m\u001b[0m\n\u001b[0m\u001b[1;32m   1207\u001b[0m                 \u001b[0mkey\u001b[0m \u001b[0;34m=\u001b[0m \u001b[0mcheck_bool_indexer\u001b[0m\u001b[0;34m(\u001b[0m\u001b[0mlabels\u001b[0m\u001b[0;34m,\u001b[0m \u001b[0mkey\u001b[0m\u001b[0;34m)\u001b[0m\u001b[0;34m\u001b[0m\u001b[0;34m\u001b[0m\u001b[0m\n\u001b[1;32m   1208\u001b[0m                 \u001b[0;34m(\u001b[0m\u001b[0minds\u001b[0m\u001b[0;34m,\u001b[0m\u001b[0;34m)\u001b[0m \u001b[0;34m=\u001b[0m \u001b[0mkey\u001b[0m\u001b[0;34m.\u001b[0m\u001b[0mnonzero\u001b[0m\u001b[0;34m(\u001b[0m\u001b[0;34m)\u001b[0m\u001b[0;34m\u001b[0m\u001b[0;34m\u001b[0m\u001b[0m\n",
      "\u001b[0;32m~/anaconda3/lib/python3.8/site-packages/pandas/core/common.py\u001b[0m in \u001b[0;36mis_bool_indexer\u001b[0;34m(key)\u001b[0m\n\u001b[1;32m    112\u001b[0m                     \u001b[0;31m# Don't raise on e.g. [\"A\", \"B\", np.nan], see\u001b[0m\u001b[0;34m\u001b[0m\u001b[0;34m\u001b[0m\u001b[0;34m\u001b[0m\u001b[0m\n\u001b[1;32m    113\u001b[0m                     \u001b[0;31m#  test_loc_getitem_list_of_labels_categoricalindex_with_na\u001b[0m\u001b[0;34m\u001b[0m\u001b[0;34m\u001b[0m\u001b[0;34m\u001b[0m\u001b[0m\n\u001b[0;32m--> 114\u001b[0;31m                     \u001b[0;32mraise\u001b[0m \u001b[0mValueError\u001b[0m\u001b[0;34m(\u001b[0m\u001b[0mna_msg\u001b[0m\u001b[0;34m)\u001b[0m\u001b[0;34m\u001b[0m\u001b[0;34m\u001b[0m\u001b[0m\n\u001b[0m\u001b[1;32m    115\u001b[0m                 \u001b[0;32mreturn\u001b[0m \u001b[0;32mFalse\u001b[0m\u001b[0;34m\u001b[0m\u001b[0;34m\u001b[0m\u001b[0m\n\u001b[1;32m    116\u001b[0m             \u001b[0;32mreturn\u001b[0m \u001b[0;32mTrue\u001b[0m\u001b[0;34m\u001b[0m\u001b[0;34m\u001b[0m\u001b[0m\n",
      "\u001b[0;31mValueError\u001b[0m: Cannot mask with non-boolean array containing NA / NaN values"
     ]
    }
   ],
   "source": [
    "df.loc[df['Last'].str.contains('هذا المنتج '), 'is_in_stock'] = 0"
   ]
  },
  {
   "cell_type": "code",
   "execution_count": 37,
   "id": "b1e35d25",
   "metadata": {},
   "outputs": [],
   "source": [
    "df['First'] = df['First'].str.replace('\\n', '')"
   ]
  },
  {
   "cell_type": "code",
   "execution_count": 38,
   "id": "b0373d0e",
   "metadata": {},
   "outputs": [],
   "source": [
    "df['Last'] = df['Last'].str.replace(')', '', regex=False)"
   ]
  },
  {
   "cell_type": "code",
   "execution_count": 42,
   "id": "f6040e82",
   "metadata": {},
   "outputs": [],
   "source": [
    "df.loc[~df['toto'].isnull(), 'Last'] = df['toto'] "
   ]
  },
  {
   "cell_type": "code",
   "execution_count": 46,
   "id": "cbf1f767",
   "metadata": {},
   "outputs": [],
   "source": [
    "df.loc[~(df['Last'].isnull()| df['Last'].str.contains('هذا المنتج ')), 'Last'] = '__EMPTY__VALUE__'"
   ]
  },
  {
   "cell_type": "code",
   "execution_count": 47,
   "id": "e98d97ab",
   "metadata": {},
   "outputs": [],
   "source": [
    "df['name'] = df['First']"
   ]
  },
  {
   "cell_type": "code",
   "execution_count": 55,
   "id": "ea400ff6",
   "metadata": {},
   "outputs": [],
   "source": [
    "df['estimated_delivery_text'] = df['Last']"
   ]
  },
  {
   "cell_type": "code",
   "execution_count": 56,
   "id": "c22f20a0",
   "metadata": {},
   "outputs": [],
   "source": [
    "df.to_excel('test_midas.xlsx')"
   ]
  },
  {
   "cell_type": "code",
   "execution_count": null,
   "id": "9a83aff7",
   "metadata": {},
   "outputs": [],
   "source": []
  },
  {
   "cell_type": "code",
   "execution_count": 214,
   "id": "3c2a6d8c",
   "metadata": {},
   "outputs": [],
   "source": [
    "df.loc[df['Last'].isnull(), 'Last'] = '__EMPTY__VALUE__'"
   ]
  },
  {
   "cell_type": "code",
   "execution_count": 90,
   "id": "d92b4e0f",
   "metadata": {},
   "outputs": [
    {
     "data": {
      "text/html": [
       "<div>\n",
       "<style scoped>\n",
       "    .dataframe tbody tr th:only-of-type {\n",
       "        vertical-align: middle;\n",
       "    }\n",
       "\n",
       "    .dataframe tbody tr th {\n",
       "        vertical-align: top;\n",
       "    }\n",
       "\n",
       "    .dataframe thead th {\n",
       "        text-align: right;\n",
       "    }\n",
       "</style>\n",
       "<table border=\"1\" class=\"dataframe\">\n",
       "  <thead>\n",
       "    <tr style=\"text-align: right;\">\n",
       "      <th></th>\n",
       "      <th>sku</th>\n",
       "      <th>name</th>\n",
       "      <th>url_key</th>\n",
       "      <th>short_description</th>\n",
       "      <th>description</th>\n",
       "      <th>free_colors</th>\n",
       "      <th>raw_materials</th>\n",
       "      <th>ts_dimensions_width</th>\n",
       "      <th>ts_dimensions_height</th>\n",
       "      <th>ts_dimensions_length</th>\n",
       "      <th>...</th>\n",
       "      <th>attribute_set_code</th>\n",
       "      <th>product_type</th>\n",
       "      <th>store_view_code</th>\n",
       "      <th>supplier</th>\n",
       "      <th>style</th>\n",
       "      <th>cost</th>\n",
       "      <th>First</th>\n",
       "      <th>Last</th>\n",
       "      <th>toto</th>\n",
       "      <th>last</th>\n",
       "    </tr>\n",
       "  </thead>\n",
       "  <tbody>\n",
       "  </tbody>\n",
       "</table>\n",
       "<p>0 rows × 43 columns</p>\n",
       "</div>"
      ],
      "text/plain": [
       "Empty DataFrame\n",
       "Columns: [sku, name, url_key, short_description, description, free_colors, raw_materials, ts_dimensions_width, ts_dimensions_height, ts_dimensions_length, Weight, base_image, small_image, swatch_image, thumbnail_image, additional_images , categories1, categories2, categories3, price, special_price, visibility, tax_class_name, Link_url, qty, out_of_stock_qty, is_in_stock, product_online, allow_backorders, manufacturer, news_from_date, news_to_date, product_websites, attribute_set_code, product_type, store_view_code, supplier, style, cost, First, Last, toto, last]\n",
       "Index: []\n",
       "\n",
       "[0 rows x 43 columns]"
      ]
     },
     "execution_count": 90,
     "metadata": {},
     "output_type": "execute_result"
    }
   ],
   "source": [
    "df.loc[df['Last'].isnull()]"
   ]
  },
  {
   "cell_type": "code",
   "execution_count": 42,
   "id": "97c4b5ab",
   "metadata": {},
   "outputs": [],
   "source": []
  },
  {
   "cell_type": "code",
   "execution_count": 57,
   "id": "e717f112",
   "metadata": {},
   "outputs": [],
   "source": []
  },
  {
   "cell_type": "code",
   "execution_count": 59,
   "id": "be057dba",
   "metadata": {},
   "outputs": [],
   "source": [
    "df.loc[df['estimated_delivery_text'].isnull(), 'estimated_delivery_text'] = '__EMPTY__VALUE__'"
   ]
  },
  {
   "cell_type": "code",
   "execution_count": 87,
   "id": "cff5df5b",
   "metadata": {},
   "outputs": [],
   "source": [
    "df.loc[df['estimated_delivery_text'].str.contains('هذا المنتج '), 'is_in_stock'] = 0"
   ]
  },
  {
   "cell_type": "code",
   "execution_count": 31,
   "id": "35e0ec19",
   "metadata": {},
   "outputs": [],
   "source": [
    "df.loc[df['estimated_delivery_text'].str.contains('هذا المنتج '), 'estimated_delivery_enable'] = 'Static Text'"
   ]
  },
  {
   "cell_type": "code",
   "execution_count": null,
   "id": "befb1138",
   "metadata": {},
   "outputs": [],
   "source": [
    "df.loc[df['is_in_stock'] == 'متوفر', 'is_in_stock'] = 1"
   ]
  },
  {
   "cell_type": "code",
   "execution_count": 90,
   "id": "b97817e8",
   "metadata": {},
   "outputs": [],
   "source": [
    "df['allow_backorders'] = df['is_in_stock']"
   ]
  },
  {
   "cell_type": "code",
   "execution_count": 89,
   "id": "b01e9a9f",
   "metadata": {},
   "outputs": [],
   "source": [
    "df['product_online'] = df['is_in_stock']  "
   ]
  },
  {
   "cell_type": "code",
   "execution_count": 88,
   "id": "1fbfc1c0",
   "metadata": {},
   "outputs": [],
   "source": [
    "df.loc[df['is_in_stock'] == 0, 'product_online'] = 2"
   ]
  },
  {
   "cell_type": "code",
   "execution_count": 68,
   "id": "2723dc90",
   "metadata": {},
   "outputs": [],
   "source": [
    "df.to_excel('Midas_test2.xlsx')"
   ]
  },
  {
   "cell_type": "code",
   "execution_count": 43,
   "id": "cf759c55",
   "metadata": {},
   "outputs": [
    {
     "data": {
      "text/plain": [
       "'كنبة زاوية جرافتين'"
      ]
     },
     "execution_count": 43,
     "metadata": {},
     "output_type": "execute_result"
    }
   ],
   "source": [
    "df['First'][29]"
   ]
  },
  {
   "cell_type": "code",
   "execution_count": 63,
   "id": "b3aec2b3",
   "metadata": {},
   "outputs": [],
   "source": [
    "df['name'] = df['name'].str.replace('\\n', '')"
   ]
  },
  {
   "cell_type": "code",
   "execution_count": 241,
   "id": "bf590334",
   "metadata": {},
   "outputs": [],
   "source": [
    "df = None"
   ]
  },
  {
   "cell_type": "code",
   "execution_count": 207,
   "id": "b37153f2",
   "metadata": {},
   "outputs": [],
   "source": [
    "text = 'كنبة زاوية مارسينج نوفيلا(هذا المنتج سيكون متوفر للتوصيل بعد 162 ايام)'"
   ]
  },
  {
   "cell_type": "code",
   "execution_count": 248,
   "id": "3549b4e8",
   "metadata": {},
   "outputs": [
    {
     "data": {
      "text/plain": [
       "(5867, 43)"
      ]
     },
     "execution_count": 248,
     "metadata": {},
     "output_type": "execute_result"
    }
   ],
   "source": [
    "df.shape"
   ]
  },
  {
   "cell_type": "code",
   "execution_count": 35,
   "id": "6b755257",
   "metadata": {},
   "outputs": [],
   "source": [
    "df['Last'] = np.where(df['toto'].str.contains('هذا المنتج'), df['toto'], df['Last'])"
   ]
  },
  {
   "cell_type": "code",
   "execution_count": 43,
   "id": "03521acf",
   "metadata": {},
   "outputs": [
    {
     "ename": "ValueError",
     "evalue": "Must specify axis=0 or 1",
     "output_type": "error",
     "traceback": [
      "\u001b[0;31m---------------------------------------------------------------------------\u001b[0m",
      "\u001b[0;31mValueError\u001b[0m                                Traceback (most recent call last)",
      "\u001b[0;32m<ipython-input-43-9f01b8e08de6>\u001b[0m in \u001b[0;36m<module>\u001b[0;34m\u001b[0m\n\u001b[0;32m----> 1\u001b[0;31m \u001b[0mdf\u001b[0m\u001b[0;34m.\u001b[0m\u001b[0mwhere\u001b[0m\u001b[0;34m(\u001b[0m\u001b[0mdf\u001b[0m\u001b[0;34m[\u001b[0m\u001b[0;34m'toto'\u001b[0m\u001b[0;34m]\u001b[0m\u001b[0;34m.\u001b[0m\u001b[0mstr\u001b[0m\u001b[0;34m.\u001b[0m\u001b[0mcontains\u001b[0m\u001b[0;34m(\u001b[0m\u001b[0;34m'هذا المنتج'\u001b[0m\u001b[0;34m)\u001b[0m\u001b[0;34m,\u001b[0m \u001b[0mdf\u001b[0m\u001b[0;34m[\u001b[0m\u001b[0;34m'Last'\u001b[0m\u001b[0;34m]\u001b[0m \u001b[0;34m==\u001b[0m \u001b[0mdf\u001b[0m\u001b[0;34m[\u001b[0m\u001b[0;34m'toto'\u001b[0m\u001b[0;34m]\u001b[0m\u001b[0;34m)\u001b[0m\u001b[0;34m\u001b[0m\u001b[0;34m\u001b[0m\u001b[0m\n\u001b[0m",
      "\u001b[0;32m~/anaconda3/lib/python3.8/site-packages/pandas/core/generic.py\u001b[0m in \u001b[0;36mwhere\u001b[0;34m(self, cond, other, inplace, axis, level, errors, try_cast)\u001b[0m\n\u001b[1;32m   9284\u001b[0m         \"\"\"\n\u001b[1;32m   9285\u001b[0m         \u001b[0mother\u001b[0m \u001b[0;34m=\u001b[0m \u001b[0mcom\u001b[0m\u001b[0;34m.\u001b[0m\u001b[0mapply_if_callable\u001b[0m\u001b[0;34m(\u001b[0m\u001b[0mother\u001b[0m\u001b[0;34m,\u001b[0m \u001b[0mself\u001b[0m\u001b[0;34m)\u001b[0m\u001b[0;34m\u001b[0m\u001b[0;34m\u001b[0m\u001b[0m\n\u001b[0;32m-> 9286\u001b[0;31m         return self._where(\n\u001b[0m\u001b[1;32m   9287\u001b[0m             \u001b[0mcond\u001b[0m\u001b[0;34m,\u001b[0m \u001b[0mother\u001b[0m\u001b[0;34m,\u001b[0m \u001b[0minplace\u001b[0m\u001b[0;34m,\u001b[0m \u001b[0maxis\u001b[0m\u001b[0;34m,\u001b[0m \u001b[0mlevel\u001b[0m\u001b[0;34m,\u001b[0m \u001b[0merrors\u001b[0m\u001b[0;34m=\u001b[0m\u001b[0merrors\u001b[0m\u001b[0;34m,\u001b[0m \u001b[0mtry_cast\u001b[0m\u001b[0;34m=\u001b[0m\u001b[0mtry_cast\u001b[0m\u001b[0;34m\u001b[0m\u001b[0;34m\u001b[0m\u001b[0m\n\u001b[1;32m   9288\u001b[0m         )\n",
      "\u001b[0;32m~/anaconda3/lib/python3.8/site-packages/pandas/core/generic.py\u001b[0m in \u001b[0;36m_where\u001b[0;34m(self, cond, other, inplace, axis, level, errors, try_cast)\u001b[0m\n\u001b[1;32m   9054\u001b[0m             \u001b[0;32mif\u001b[0m \u001b[0mother\u001b[0m\u001b[0;34m.\u001b[0m\u001b[0mndim\u001b[0m \u001b[0;34m<=\u001b[0m \u001b[0mself\u001b[0m\u001b[0;34m.\u001b[0m\u001b[0mndim\u001b[0m\u001b[0;34m:\u001b[0m\u001b[0;34m\u001b[0m\u001b[0;34m\u001b[0m\u001b[0m\n\u001b[1;32m   9055\u001b[0m \u001b[0;34m\u001b[0m\u001b[0m\n\u001b[0;32m-> 9056\u001b[0;31m                 _, other = self.align(\n\u001b[0m\u001b[1;32m   9057\u001b[0m                     \u001b[0mother\u001b[0m\u001b[0;34m,\u001b[0m \u001b[0mjoin\u001b[0m\u001b[0;34m=\u001b[0m\u001b[0;34m\"left\"\u001b[0m\u001b[0;34m,\u001b[0m \u001b[0maxis\u001b[0m\u001b[0;34m=\u001b[0m\u001b[0maxis\u001b[0m\u001b[0;34m,\u001b[0m \u001b[0mlevel\u001b[0m\u001b[0;34m=\u001b[0m\u001b[0mlevel\u001b[0m\u001b[0;34m,\u001b[0m \u001b[0mfill_value\u001b[0m\u001b[0;34m=\u001b[0m\u001b[0mnp\u001b[0m\u001b[0;34m.\u001b[0m\u001b[0mnan\u001b[0m\u001b[0;34m\u001b[0m\u001b[0;34m\u001b[0m\u001b[0m\n\u001b[1;32m   9058\u001b[0m                 )\n",
      "\u001b[0;32m~/anaconda3/lib/python3.8/site-packages/pandas/core/frame.py\u001b[0m in \u001b[0;36malign\u001b[0;34m(self, other, join, axis, level, copy, fill_value, method, limit, fill_axis, broadcast_axis)\u001b[0m\n\u001b[1;32m   4100\u001b[0m         \u001b[0mbroadcast_axis\u001b[0m\u001b[0;34m=\u001b[0m\u001b[0;32mNone\u001b[0m\u001b[0;34m,\u001b[0m\u001b[0;34m\u001b[0m\u001b[0;34m\u001b[0m\u001b[0m\n\u001b[1;32m   4101\u001b[0m     ) -> DataFrame:\n\u001b[0;32m-> 4102\u001b[0;31m         return super().align(\n\u001b[0m\u001b[1;32m   4103\u001b[0m             \u001b[0mother\u001b[0m\u001b[0;34m,\u001b[0m\u001b[0;34m\u001b[0m\u001b[0;34m\u001b[0m\u001b[0m\n\u001b[1;32m   4104\u001b[0m             \u001b[0mjoin\u001b[0m\u001b[0;34m=\u001b[0m\u001b[0mjoin\u001b[0m\u001b[0;34m,\u001b[0m\u001b[0;34m\u001b[0m\u001b[0;34m\u001b[0m\u001b[0m\n",
      "\u001b[0;32m~/anaconda3/lib/python3.8/site-packages/pandas/core/generic.py\u001b[0m in \u001b[0;36malign\u001b[0;34m(self, other, join, axis, level, copy, fill_value, method, limit, fill_axis, broadcast_axis)\u001b[0m\n\u001b[1;32m   8823\u001b[0m             )\n\u001b[1;32m   8824\u001b[0m         \u001b[0;32melif\u001b[0m \u001b[0misinstance\u001b[0m\u001b[0;34m(\u001b[0m\u001b[0mother\u001b[0m\u001b[0;34m,\u001b[0m \u001b[0mABCSeries\u001b[0m\u001b[0;34m)\u001b[0m\u001b[0;34m:\u001b[0m\u001b[0;34m\u001b[0m\u001b[0;34m\u001b[0m\u001b[0m\n\u001b[0;32m-> 8825\u001b[0;31m             return self._align_series(\n\u001b[0m\u001b[1;32m   8826\u001b[0m                 \u001b[0mother\u001b[0m\u001b[0;34m,\u001b[0m\u001b[0;34m\u001b[0m\u001b[0;34m\u001b[0m\u001b[0m\n\u001b[1;32m   8827\u001b[0m                 \u001b[0mjoin\u001b[0m\u001b[0;34m=\u001b[0m\u001b[0mjoin\u001b[0m\u001b[0;34m,\u001b[0m\u001b[0;34m\u001b[0m\u001b[0;34m\u001b[0m\u001b[0m\n",
      "\u001b[0;32m~/anaconda3/lib/python3.8/site-packages/pandas/core/generic.py\u001b[0m in \u001b[0;36m_align_series\u001b[0;34m(self, other, join, axis, level, copy, fill_value, method, limit, fill_axis)\u001b[0m\n\u001b[1;32m   8964\u001b[0m                     \u001b[0mfdata\u001b[0m \u001b[0;34m=\u001b[0m \u001b[0mfdata\u001b[0m\u001b[0;34m.\u001b[0m\u001b[0mreindex_indexer\u001b[0m\u001b[0;34m(\u001b[0m\u001b[0mjoin_index\u001b[0m\u001b[0;34m,\u001b[0m \u001b[0mlidx\u001b[0m\u001b[0;34m,\u001b[0m \u001b[0maxis\u001b[0m\u001b[0;34m=\u001b[0m\u001b[0;36m0\u001b[0m\u001b[0;34m)\u001b[0m\u001b[0;34m\u001b[0m\u001b[0;34m\u001b[0m\u001b[0m\n\u001b[1;32m   8965\u001b[0m             \u001b[0;32melse\u001b[0m\u001b[0;34m:\u001b[0m\u001b[0;34m\u001b[0m\u001b[0;34m\u001b[0m\u001b[0m\n\u001b[0;32m-> 8966\u001b[0;31m                 \u001b[0;32mraise\u001b[0m \u001b[0mValueError\u001b[0m\u001b[0;34m(\u001b[0m\u001b[0;34m\"Must specify axis=0 or 1\"\u001b[0m\u001b[0;34m)\u001b[0m\u001b[0;34m\u001b[0m\u001b[0;34m\u001b[0m\u001b[0m\n\u001b[0m\u001b[1;32m   8967\u001b[0m \u001b[0;34m\u001b[0m\u001b[0m\n\u001b[1;32m   8968\u001b[0m             \u001b[0;32mif\u001b[0m \u001b[0mcopy\u001b[0m \u001b[0;32mand\u001b[0m \u001b[0mfdata\u001b[0m \u001b[0;32mis\u001b[0m \u001b[0mself\u001b[0m\u001b[0;34m.\u001b[0m\u001b[0m_mgr\u001b[0m\u001b[0;34m:\u001b[0m\u001b[0;34m\u001b[0m\u001b[0;34m\u001b[0m\u001b[0m\n",
      "\u001b[0;31mValueError\u001b[0m: Must specify axis=0 or 1"
     ]
    }
   ],
   "source": [
    "df.where(df['toto'].str.contains('هذا المنتج'), df['Last'] == df['toto'])"
   ]
  },
  {
   "cell_type": "code",
   "execution_count": 81,
   "id": "8880192b",
   "metadata": {},
   "outputs": [],
   "source": [
    "df['Last'] = df['Last'].str.replace(')', '', regex=False)"
   ]
  },
  {
   "cell_type": "code",
   "execution_count": 82,
   "id": "4bb20c4f",
   "metadata": {},
   "outputs": [],
   "source": [
    "df.to_excel('Midas_update_20_08_21v1.xlsx')"
   ]
  },
  {
   "cell_type": "code",
   "execution_count": null,
   "id": "1390a089",
   "metadata": {},
   "outputs": [],
   "source": []
  },
  {
   "cell_type": "code",
   "execution_count": 42,
   "id": "aef85ceb",
   "metadata": {},
   "outputs": [],
   "source": [
    "df = pd.read_csv('Midas_update_06_08_21_toto.csv')"
   ]
  },
  {
   "cell_type": "code",
   "execution_count": 39,
   "id": "0f43f7b1",
   "metadata": {},
   "outputs": [
    {
     "data": {
      "text/plain": [
       "Index(['sku', 'name', 'url_key', 'short_description', 'description',\n",
       "       'free_colors', 'raw_materials', 'ts_dimensions_width',\n",
       "       'ts_dimensions_height', 'ts_dimensions_length', 'Weight', 'base_image',\n",
       "       'small_image', 'swatch_image', 'thumbnail_image', 'additional_images ',\n",
       "       'categories1', 'categories2', 'categories3', 'special_price', 'price',\n",
       "       'visibility', 'tax_class_name', 'Link_url', 'qty', 'out_of_stock_qty',\n",
       "       'is_in_stock', 'product_online', 'allow_backorders', 'manufacturer',\n",
       "       'news_from_date', 'news_to_date', 'product_websites',\n",
       "       'attribute_set_code', 'product_type', 'store_view_code', 'supplier',\n",
       "       'style', 'cost', 'First', 'Last', 'toto', 'estimated_delivery_enable'],\n",
       "      dtype='object')"
      ]
     },
     "execution_count": 39,
     "metadata": {},
     "output_type": "execute_result"
    }
   ],
   "source": [
    "df.columns"
   ]
  },
  {
   "cell_type": "code",
   "execution_count": 38,
   "id": "7f729d2b",
   "metadata": {},
   "outputs": [],
   "source": [
    "df['is_in_stock'] = 1"
   ]
  },
  {
   "cell_type": "code",
   "execution_count": 44,
   "id": "5982b81a",
   "metadata": {},
   "outputs": [],
   "source": [
    "df['name'] = df['name'].str.replace('\\n', '')"
   ]
  },
  {
   "cell_type": "code",
   "execution_count": 220,
   "id": "940da815",
   "metadata": {},
   "outputs": [],
   "source": [
    "df['estimated_delivery_text'] = df['Last']"
   ]
  },
  {
   "cell_type": "code",
   "execution_count": 221,
   "id": "4b326118",
   "metadata": {},
   "outputs": [],
   "source": [
    "df.loc[df['estimated_delivery_text'].str.contains('هذا المنتج'), 'is_in_stock'] = 0"
   ]
  },
  {
   "cell_type": "code",
   "execution_count": 222,
   "id": "9c96241d",
   "metadata": {},
   "outputs": [],
   "source": [
    "df['allow_backorders'] = df['is_in_stock']"
   ]
  },
  {
   "cell_type": "code",
   "execution_count": 223,
   "id": "e9efa9f5",
   "metadata": {},
   "outputs": [],
   "source": [
    "df.loc[df['is_in_stock'] == 0, 'product_online'] = 2"
   ]
  },
  {
   "cell_type": "code",
   "execution_count": 101,
   "id": "4d9e50d7",
   "metadata": {},
   "outputs": [],
   "source": [
    "df['name'] = df['First']"
   ]
  },
  {
   "cell_type": "code",
   "execution_count": 102,
   "id": "5c8858c4",
   "metadata": {},
   "outputs": [],
   "source": [
    "df['estimated_delivery_text'] = df['Last']"
   ]
  },
  {
   "cell_type": "code",
   "execution_count": 224,
   "id": "9c1a7461",
   "metadata": {},
   "outputs": [],
   "source": [
    "df.loc[df['estimated_delivery_text'].isnull(), 'estimated_delivery_text'] = '__EMPTY__VALUE__'"
   ]
  },
  {
   "cell_type": "code",
   "execution_count": 67,
   "id": "7637f84a",
   "metadata": {},
   "outputs": [
    {
     "ename": "KeyError",
     "evalue": "'First'",
     "output_type": "error",
     "traceback": [
      "\u001b[0;31m---------------------------------------------------------------------------\u001b[0m",
      "\u001b[0;31mKeyError\u001b[0m                                  Traceback (most recent call last)",
      "\u001b[0;32m~/anaconda3/lib/python3.8/site-packages/pandas/core/indexes/base.py\u001b[0m in \u001b[0;36mget_loc\u001b[0;34m(self, key, method, tolerance)\u001b[0m\n\u001b[1;32m   3079\u001b[0m             \u001b[0;32mtry\u001b[0m\u001b[0;34m:\u001b[0m\u001b[0;34m\u001b[0m\u001b[0;34m\u001b[0m\u001b[0m\n\u001b[0;32m-> 3080\u001b[0;31m                 \u001b[0;32mreturn\u001b[0m \u001b[0mself\u001b[0m\u001b[0;34m.\u001b[0m\u001b[0m_engine\u001b[0m\u001b[0;34m.\u001b[0m\u001b[0mget_loc\u001b[0m\u001b[0;34m(\u001b[0m\u001b[0mcasted_key\u001b[0m\u001b[0;34m)\u001b[0m\u001b[0;34m\u001b[0m\u001b[0;34m\u001b[0m\u001b[0m\n\u001b[0m\u001b[1;32m   3081\u001b[0m             \u001b[0;32mexcept\u001b[0m \u001b[0mKeyError\u001b[0m \u001b[0;32mas\u001b[0m \u001b[0merr\u001b[0m\u001b[0;34m:\u001b[0m\u001b[0;34m\u001b[0m\u001b[0;34m\u001b[0m\u001b[0m\n",
      "\u001b[0;32mpandas/_libs/index.pyx\u001b[0m in \u001b[0;36mpandas._libs.index.IndexEngine.get_loc\u001b[0;34m()\u001b[0m\n",
      "\u001b[0;32mpandas/_libs/index.pyx\u001b[0m in \u001b[0;36mpandas._libs.index.IndexEngine.get_loc\u001b[0;34m()\u001b[0m\n",
      "\u001b[0;32mpandas/_libs/hashtable_class_helper.pxi\u001b[0m in \u001b[0;36mpandas._libs.hashtable.PyObjectHashTable.get_item\u001b[0;34m()\u001b[0m\n",
      "\u001b[0;32mpandas/_libs/hashtable_class_helper.pxi\u001b[0m in \u001b[0;36mpandas._libs.hashtable.PyObjectHashTable.get_item\u001b[0;34m()\u001b[0m\n",
      "\u001b[0;31mKeyError\u001b[0m: 'First'",
      "\nThe above exception was the direct cause of the following exception:\n",
      "\u001b[0;31mKeyError\u001b[0m                                  Traceback (most recent call last)",
      "\u001b[0;32m<ipython-input-67-eb0f1afd20b0>\u001b[0m in \u001b[0;36m<module>\u001b[0;34m\u001b[0m\n\u001b[0;32m----> 1\u001b[0;31m \u001b[0mdf\u001b[0m\u001b[0;34m[\u001b[0m\u001b[0;34m'First'\u001b[0m\u001b[0;34m]\u001b[0m\u001b[0;34m\u001b[0m\u001b[0;34m\u001b[0m\u001b[0m\n\u001b[0m",
      "\u001b[0;32m~/anaconda3/lib/python3.8/site-packages/pandas/core/frame.py\u001b[0m in \u001b[0;36m__getitem__\u001b[0;34m(self, key)\u001b[0m\n\u001b[1;32m   3022\u001b[0m             \u001b[0;32mif\u001b[0m \u001b[0mself\u001b[0m\u001b[0;34m.\u001b[0m\u001b[0mcolumns\u001b[0m\u001b[0;34m.\u001b[0m\u001b[0mnlevels\u001b[0m \u001b[0;34m>\u001b[0m \u001b[0;36m1\u001b[0m\u001b[0;34m:\u001b[0m\u001b[0;34m\u001b[0m\u001b[0;34m\u001b[0m\u001b[0m\n\u001b[1;32m   3023\u001b[0m                 \u001b[0;32mreturn\u001b[0m \u001b[0mself\u001b[0m\u001b[0;34m.\u001b[0m\u001b[0m_getitem_multilevel\u001b[0m\u001b[0;34m(\u001b[0m\u001b[0mkey\u001b[0m\u001b[0;34m)\u001b[0m\u001b[0;34m\u001b[0m\u001b[0;34m\u001b[0m\u001b[0m\n\u001b[0;32m-> 3024\u001b[0;31m             \u001b[0mindexer\u001b[0m \u001b[0;34m=\u001b[0m \u001b[0mself\u001b[0m\u001b[0;34m.\u001b[0m\u001b[0mcolumns\u001b[0m\u001b[0;34m.\u001b[0m\u001b[0mget_loc\u001b[0m\u001b[0;34m(\u001b[0m\u001b[0mkey\u001b[0m\u001b[0;34m)\u001b[0m\u001b[0;34m\u001b[0m\u001b[0;34m\u001b[0m\u001b[0m\n\u001b[0m\u001b[1;32m   3025\u001b[0m             \u001b[0;32mif\u001b[0m \u001b[0mis_integer\u001b[0m\u001b[0;34m(\u001b[0m\u001b[0mindexer\u001b[0m\u001b[0;34m)\u001b[0m\u001b[0;34m:\u001b[0m\u001b[0;34m\u001b[0m\u001b[0;34m\u001b[0m\u001b[0m\n\u001b[1;32m   3026\u001b[0m                 \u001b[0mindexer\u001b[0m \u001b[0;34m=\u001b[0m \u001b[0;34m[\u001b[0m\u001b[0mindexer\u001b[0m\u001b[0;34m]\u001b[0m\u001b[0;34m\u001b[0m\u001b[0;34m\u001b[0m\u001b[0m\n",
      "\u001b[0;32m~/anaconda3/lib/python3.8/site-packages/pandas/core/indexes/base.py\u001b[0m in \u001b[0;36mget_loc\u001b[0;34m(self, key, method, tolerance)\u001b[0m\n\u001b[1;32m   3080\u001b[0m                 \u001b[0;32mreturn\u001b[0m \u001b[0mself\u001b[0m\u001b[0;34m.\u001b[0m\u001b[0m_engine\u001b[0m\u001b[0;34m.\u001b[0m\u001b[0mget_loc\u001b[0m\u001b[0;34m(\u001b[0m\u001b[0mcasted_key\u001b[0m\u001b[0;34m)\u001b[0m\u001b[0;34m\u001b[0m\u001b[0;34m\u001b[0m\u001b[0m\n\u001b[1;32m   3081\u001b[0m             \u001b[0;32mexcept\u001b[0m \u001b[0mKeyError\u001b[0m \u001b[0;32mas\u001b[0m \u001b[0merr\u001b[0m\u001b[0;34m:\u001b[0m\u001b[0;34m\u001b[0m\u001b[0;34m\u001b[0m\u001b[0m\n\u001b[0;32m-> 3082\u001b[0;31m                 \u001b[0;32mraise\u001b[0m \u001b[0mKeyError\u001b[0m\u001b[0;34m(\u001b[0m\u001b[0mkey\u001b[0m\u001b[0;34m)\u001b[0m \u001b[0;32mfrom\u001b[0m \u001b[0merr\u001b[0m\u001b[0;34m\u001b[0m\u001b[0;34m\u001b[0m\u001b[0m\n\u001b[0m\u001b[1;32m   3083\u001b[0m \u001b[0;34m\u001b[0m\u001b[0m\n\u001b[1;32m   3084\u001b[0m         \u001b[0;32mif\u001b[0m \u001b[0mtolerance\u001b[0m \u001b[0;32mis\u001b[0m \u001b[0;32mnot\u001b[0m \u001b[0;32mNone\u001b[0m\u001b[0;34m:\u001b[0m\u001b[0;34m\u001b[0m\u001b[0;34m\u001b[0m\u001b[0m\n",
      "\u001b[0;31mKeyError\u001b[0m: 'First'"
     ]
    }
   ],
   "source": [
    "df['First']"
   ]
  },
  {
   "cell_type": "code",
   "execution_count": 246,
   "id": "5fb717e7",
   "metadata": {},
   "outputs": [],
   "source": [
    "df['estimated_delivery_enable'] = '__EMPTY__VALUE__'"
   ]
  },
  {
   "cell_type": "code",
   "execution_count": 247,
   "id": "8d0253d3",
   "metadata": {},
   "outputs": [],
   "source": [
    "df.loc[df['estimated_delivery_text'] != '__EMPTY__VALUE__', 'estimated_delivery_enable'] = 'Static Text'"
   ]
  },
  {
   "cell_type": "code",
   "execution_count": 248,
   "id": "bcc394c7",
   "metadata": {},
   "outputs": [],
   "source": [
    "df.loc[(~df['estimated_delivery_text'].str.contains('هذا المنتج')) & (df['estimated_delivery_text']!= '__EMPTY__VALUE__'), 'estimated_delivery_text' ] = '__EMPTY__VALUE__' "
   ]
  },
  {
   "cell_type": "code",
   "execution_count": 131,
   "id": "7f850da9",
   "metadata": {},
   "outputs": [],
   "source": [
    "df.loc[df['is_in_stock'] == 'متوفر', 'is_in_stock'] = 1"
   ]
  },
  {
   "cell_type": "code",
   "execution_count": 109,
   "id": "1725695d",
   "metadata": {},
   "outputs": [],
   "source": [
    "toto_clean('name')"
   ]
  },
  {
   "cell_type": "code",
   "execution_count": 110,
   "id": "b699e8e0",
   "metadata": {},
   "outputs": [],
   "source": [
    "df['name']  = df['name'].str.replace('\\n', '')"
   ]
  },
  {
   "cell_type": "code",
   "execution_count": 111,
   "id": "168d88ac",
   "metadata": {},
   "outputs": [],
   "source": [
    "df['url_key'] = df['sku'] + df['name']"
   ]
  },
  {
   "cell_type": "code",
   "execution_count": 69,
   "id": "f8189d39",
   "metadata": {},
   "outputs": [
    {
     "data": {
      "text/plain": [
       "0                           DAS-9278كنبة زاوية أكرينجتون\n",
       "1                             DAS-91285طقم زاوية لوبيليا\n",
       "2       DAS-88051طقم زاوية 2 قطعة - كرسي راحة هزاز تامبو\n",
       "3                           DAS-8180طقم كنب زاوية تراكلي\n",
       "4                                DAS-2914كنبة زاوية ماير\n",
       "                              ...                       \n",
       "6177                                     DAS-108989هيكسى\n",
       "6178                           DAS-108988صينية تقديم بيو\n",
       "6179                   DAS-130773طقم مائدة 75 قطعة لينشو\n",
       "6180                  DAS-126790طقم مائدة 75 قطعة روباني\n",
       "6181                   DAS-126788طقم مائدة 75 قطعة تمارا\n",
       "Name: url_key, Length: 6182, dtype: object"
      ]
     },
     "execution_count": 69,
     "metadata": {},
     "output_type": "execute_result"
    }
   ],
   "source": [
    "df['url_key']"
   ]
  },
  {
   "cell_type": "code",
   "execution_count": 130,
   "id": "f828ef57",
   "metadata": {},
   "outputs": [
    {
     "name": "stderr",
     "output_type": "stream",
     "text": [
      "/home/wafistos/anaconda3/lib/python3.8/site-packages/pandas/core/indexing.py:1720: SettingWithCopyWarning: \n",
      "A value is trying to be set on a copy of a slice from a DataFrame.\n",
      "Try using .loc[row_indexer,col_indexer] = value instead\n",
      "\n",
      "See the caveats in the documentation: https://pandas.pydata.org/pandas-docs/stable/user_guide/indexing.html#returning-a-view-versus-a-copy\n",
      "  self._setitem_single_column(loc, value, pi)\n"
     ]
    }
   ],
   "source": [
    "df.loc[df['raw_materials'].isnull(), 'raw_materials'] = '__EMPTY__VALUE__'"
   ]
  },
  {
   "cell_type": "code",
   "execution_count": 91,
   "id": "927cbac8",
   "metadata": {},
   "outputs": [],
   "source": [
    "df.to_excel('Midas_update_name_cat.xlsx')"
   ]
  },
  {
   "cell_type": "code",
   "execution_count": 40,
   "id": "a6d4dfee",
   "metadata": {},
   "outputs": [
    {
     "data": {
      "text/plain": [
       "Index(['Unnamed: 0', 'sku', 'name', 'estimated_delivery_text', 'is_in_stock',\n",
       "       'estimated_delivery_enable', 'url_key', 'short_description',\n",
       "       'description', 'free_colors', 'raw_materials', 'ts_dimensions_width',\n",
       "       'ts_dimensions_height', 'ts_dimensions_length', 'Weight', 'base_image',\n",
       "       'small_image', 'swatch_image', 'thumbnail_image', 'additional_images ',\n",
       "       'categories1', 'categories2', 'categories3', 'price', 'special_price',\n",
       "       'visibility', 'tax_class_name', 'Link_url', 'qty', 'out_of_stock_qty',\n",
       "       'product_online', 'allow_backorders', 'manufacturer', 'news_from_date',\n",
       "       'news_to_date', 'product_websites', 'attribute_set_code',\n",
       "       'product_type', 'store_view_code', 'supplier', 'style',\n",
       "       'sku number only'],\n",
       "      dtype='object')"
      ]
     },
     "execution_count": 40,
     "metadata": {},
     "output_type": "execute_result"
    }
   ],
   "source": [
    "df.columns"
   ]
  },
  {
   "cell_type": "code",
   "execution_count": 106,
   "id": "2e03d428",
   "metadata": {},
   "outputs": [],
   "source": [
    "df['sku number only'] = df['sku'].str.replace('DAS-', '')"
   ]
  },
  {
   "cell_type": "code",
   "execution_count": null,
   "id": "b6551cca",
   "metadata": {},
   "outputs": [],
   "source": [
    "df['']"
   ]
  },
  {
   "cell_type": "code",
   "execution_count": 108,
   "id": "b5020aa2",
   "metadata": {},
   "outputs": [],
   "source": [
    "df = df[['sku number only', 'sku', 'store_view_code', 'attribute_set_code', 'product_websites',\n",
    "         'name',  'estimated_delivery_enable', 'estimated_delivery_text',  'url_key',  'description', 'short_description'\n",
    ", 'Link_url', 'categories1', 'categories2', 'categories3', 'categories', \n",
    "         'free_colors', 'raw_materials','ts_dimensions_width', 'ts_dimensions_height', 'ts_dimensions_length',\n",
    "    'cost',  'price', 'special_price', 'visibility', 'tax_class_name', 'manufacturer',\n",
    "         'news_from_date', 'news_to_date', 'base_image', 'small_image', 'swatch_image' \n",
    "    , 'thumbnail_image', 'additional_images ', 'product_online', 'qty', 'out_of_stock_qty', 'allow_backorders'\n",
    "    , 'is_in_stock', 'style', 'supplier'\n",
    "        ]]"
   ]
  },
  {
   "cell_type": "code",
   "execution_count": 36,
   "id": "ff5b3a2c",
   "metadata": {},
   "outputs": [],
   "source": [
    "df = pd.read_csv('/home/wafistos/Documents/Projects/scaping_wafi/Scraping_Midas/Midas_update_06_08_2021v3.csv')"
   ]
  },
  {
   "cell_type": "code",
   "execution_count": 249,
   "id": "07f881b9",
   "metadata": {},
   "outputs": [],
   "source": [
    "df['fabric_type'] = ''"
   ]
  },
  {
   "cell_type": "code",
   "execution_count": 110,
   "id": "8de55788",
   "metadata": {},
   "outputs": [],
   "source": [
    "df.to_excel('Midas_update_27_08_2021v2.xlsx')"
   ]
  },
  {
   "cell_type": "code",
   "execution_count": 116,
   "id": "8fc91d99",
   "metadata": {},
   "outputs": [],
   "source": [
    "df['categories'] = ''"
   ]
  },
  {
   "cell_type": "code",
   "execution_count": 241,
   "id": "3dc22fd9",
   "metadata": {},
   "outputs": [],
   "source": [
    "df['sku number only'] = df['sku'].str.replace('DAS-', '')"
   ]
  },
  {
   "cell_type": "code",
   "execution_count": 242,
   "id": "8b9e975d",
   "metadata": {},
   "outputs": [
    {
     "data": {
      "text/plain": [
       "0         9278\n",
       "1        91285\n",
       "2        88051\n",
       "3         8180\n",
       "4         2914\n",
       "         ...  \n",
       "6253    108989\n",
       "6254    108988\n",
       "6255    130773\n",
       "6256    126790\n",
       "6257    126788\n",
       "Name: sku number only, Length: 5976, dtype: object"
      ]
     },
     "execution_count": 242,
     "metadata": {},
     "output_type": "execute_result"
    }
   ],
   "source": [
    "df['sku number only'] "
   ]
  },
  {
   "cell_type": "code",
   "execution_count": 245,
   "id": "bbea58af",
   "metadata": {},
   "outputs": [],
   "source": [
    "df.loc[ (~df['estimated_delivery_text'].str.contains('هذا المنتج ')) & (df['estimated_delivery_text'] != '__EMPTY__VALUE__'), 'estimated_delivery_text'] = '__EMPTY__VALUE__' "
   ]
  },
  {
   "cell_type": "code",
   "execution_count": 243,
   "id": "ab41d415",
   "metadata": {},
   "outputs": [],
   "source": [
    "df.loc[df['style'].isnull(), 'style'] = '__EMPTY__VALUE__'"
   ]
  },
  {
   "cell_type": "code",
   "execution_count": 65,
   "id": "483cf5e9",
   "metadata": {},
   "outputs": [],
   "source": [
    "toto.to_excel('free_colors.xlsx')"
   ]
  },
  {
   "cell_type": "code",
   "execution_count": 120,
   "id": "a9ab8420",
   "metadata": {},
   "outputs": [],
   "source": [
    "cats = pd.read_excel('/home/wafistos/Downloads/Midas category.xlsx')"
   ]
  },
  {
   "cell_type": "code",
   "execution_count": 121,
   "id": "f5630bcd",
   "metadata": {},
   "outputs": [
    {
     "data": {
      "text/html": [
       "<div>\n",
       "<style scoped>\n",
       "    .dataframe tbody tr th:only-of-type {\n",
       "        vertical-align: middle;\n",
       "    }\n",
       "\n",
       "    .dataframe tbody tr th {\n",
       "        vertical-align: top;\n",
       "    }\n",
       "\n",
       "    .dataframe thead th {\n",
       "        text-align: right;\n",
       "    }\n",
       "</style>\n",
       "<table border=\"1\" class=\"dataframe\">\n",
       "  <thead>\n",
       "    <tr style=\"text-align: right;\">\n",
       "      <th></th>\n",
       "      <th>Name of category</th>\n",
       "      <th>Num of category</th>\n",
       "    </tr>\n",
       "  </thead>\n",
       "  <tbody>\n",
       "    <tr>\n",
       "      <th>0</th>\n",
       "      <td>كنب زاوية</td>\n",
       "      <td>43790,43782,113</td>\n",
       "    </tr>\n",
       "    <tr>\n",
       "      <th>1</th>\n",
       "      <td>أطقم كنب</td>\n",
       "      <td>43441,42959,113</td>\n",
       "    </tr>\n",
       "    <tr>\n",
       "      <th>2</th>\n",
       "      <td>كنب ثلاث مقاعد و مقعدين</td>\n",
       "      <td>43790,24,113</td>\n",
       "    </tr>\n",
       "    <tr>\n",
       "      <th>3</th>\n",
       "      <td>كنب سرير</td>\n",
       "      <td>43790,43747,113</td>\n",
       "    </tr>\n",
       "    <tr>\n",
       "      <th>4</th>\n",
       "      <td>كراسي</td>\n",
       "      <td>43441,43790,43791,113</td>\n",
       "    </tr>\n",
       "    <tr>\n",
       "      <th>...</th>\n",
       "      <td>...</td>\n",
       "      <td>...</td>\n",
       "    </tr>\n",
       "    <tr>\n",
       "      <th>104</th>\n",
       "      <td>مرطبان</td>\n",
       "      <td>29,14553,43813,113</td>\n",
       "    </tr>\n",
       "    <tr>\n",
       "      <th>105</th>\n",
       "      <td>أدوات تناول الطعام</td>\n",
       "      <td>42915,43458,43797,113</td>\n",
       "    </tr>\n",
       "    <tr>\n",
       "      <th>106</th>\n",
       "      <td>مسكة منديل</td>\n",
       "      <td>42915,43458,113</td>\n",
       "    </tr>\n",
       "    <tr>\n",
       "      <th>107</th>\n",
       "      <td>أطقم أوانى الطعام</td>\n",
       "      <td>42915,43458,6718,113</td>\n",
       "    </tr>\n",
       "    <tr>\n",
       "      <th>108</th>\n",
       "      <td>أواني زجاجية وأباريق</td>\n",
       "      <td>42915,42918,113</td>\n",
       "    </tr>\n",
       "  </tbody>\n",
       "</table>\n",
       "<p>109 rows × 2 columns</p>\n",
       "</div>"
      ],
      "text/plain": [
       "           Name of category        Num of category \n",
       "0                  كنب زاوية        43790,43782,113\n",
       "1                   أطقم كنب        43441,42959,113\n",
       "2    كنب ثلاث مقاعد و مقعدين           43790,24,113\n",
       "3                   كنب سرير        43790,43747,113\n",
       "4                      كراسي  43441,43790,43791,113\n",
       "..                       ...                    ...\n",
       "104                   مرطبان     29,14553,43813,113\n",
       "105       أدوات تناول الطعام  42915,43458,43797,113\n",
       "106               مسكة منديل        42915,43458,113\n",
       "107        أطقم أوانى الطعام   42915,43458,6718,113\n",
       "108     أواني زجاجية وأباريق        42915,42918,113\n",
       "\n",
       "[109 rows x 2 columns]"
      ]
     },
     "execution_count": 121,
     "metadata": {},
     "output_type": "execute_result"
    }
   ],
   "source": [
    "cats"
   ]
  },
  {
   "cell_type": "code",
   "execution_count": 122,
   "id": "32205698",
   "metadata": {},
   "outputs": [],
   "source": [
    "list_cats = []\n",
    "for index, row in cats.iterrows():\n",
    "    list_cats.append([row['Name of category '], row['Num of category ']])"
   ]
  },
  {
   "cell_type": "code",
   "execution_count": 125,
   "id": "313ec1e4",
   "metadata": {},
   "outputs": [],
   "source": [
    "for tt in list_cats:\n",
    "    df.loc[df['categories3'] == tt[0], 'categories'] = tt[1]"
   ]
  },
  {
   "cell_type": "code",
   "execution_count": 126,
   "id": "09d4b5e4",
   "metadata": {},
   "outputs": [
    {
     "data": {
      "text/plain": [
       "0       43790,43782,113\n",
       "1       43790,43782,113\n",
       "2       43790,43782,113\n",
       "3       43790,43782,113\n",
       "4       43790,43782,113\n",
       "             ...       \n",
       "6241    42920,42935,113\n",
       "6242    42920,42935,113\n",
       "6243    42920,42935,113\n",
       "6244    42920,42935,113\n",
       "6245    42920,42935,113\n",
       "Name: categories, Length: 5976, dtype: object"
      ]
     },
     "execution_count": 126,
     "metadata": {},
     "output_type": "execute_result"
    }
   ],
   "source": [
    "df['categories']"
   ]
  },
  {
   "cell_type": "code",
   "execution_count": 143,
   "id": "74959d29",
   "metadata": {},
   "outputs": [],
   "source": [
    "df.loc[df['product_online'] == 2, 'is_in_stock'] = 0"
   ]
  },
  {
   "cell_type": "code",
   "execution_count": 144,
   "id": "9eaf5aa3",
   "metadata": {},
   "outputs": [
    {
     "name": "stderr",
     "output_type": "stream",
     "text": [
      "<ipython-input-144-990f151b08a6>:1: SettingWithCopyWarning: \n",
      "A value is trying to be set on a copy of a slice from a DataFrame.\n",
      "Try using .loc[row_indexer,col_indexer] = value instead\n",
      "\n",
      "See the caveats in the documentation: https://pandas.pydata.org/pandas-docs/stable/user_guide/indexing.html#returning-a-view-versus-a-copy\n",
      "  df['is_in_stock'] = df['allow_backorders']\n"
     ]
    }
   ],
   "source": [
    "df['is_in_stock'] = df['allow_backorders']"
   ]
  },
  {
   "cell_type": "code",
   "execution_count": 255,
   "id": "690e466e",
   "metadata": {},
   "outputs": [],
   "source": [
    "df.to_excel('update_midas_20_08_2021v11.xlsx')"
   ]
  },
  {
   "cell_type": "code",
   "execution_count": 71,
   "id": "f5b13023",
   "metadata": {},
   "outputs": [],
   "source": [
    "df['name'] = df['name'].str.replace('\\n', '')"
   ]
  },
  {
   "cell_type": "code",
   "execution_count": 254,
   "id": "2a0e651f",
   "metadata": {},
   "outputs": [],
   "source": [
    "df.loc[df['fabric_type'].isnull(), 'fabric_type'] = '__EMPTY__VALUE__'"
   ]
  },
  {
   "cell_type": "code",
   "execution_count": null,
   "id": "a2cbda95",
   "metadata": {},
   "outputs": [],
   "source": []
  },
  {
   "cell_type": "code",
   "execution_count": 161,
   "id": "6d686b60",
   "metadata": {},
   "outputs": [
    {
     "data": {
      "text/html": [
       "<div>\n",
       "<style scoped>\n",
       "    .dataframe tbody tr th:only-of-type {\n",
       "        vertical-align: middle;\n",
       "    }\n",
       "\n",
       "    .dataframe tbody tr th {\n",
       "        vertical-align: top;\n",
       "    }\n",
       "\n",
       "    .dataframe thead th {\n",
       "        text-align: right;\n",
       "    }\n",
       "</style>\n",
       "<table border=\"1\" class=\"dataframe\">\n",
       "  <thead>\n",
       "    <tr style=\"text-align: right;\">\n",
       "      <th></th>\n",
       "      <th>sku number only</th>\n",
       "      <th>sku</th>\n",
       "      <th>store_view_code</th>\n",
       "      <th>attribute_set_code</th>\n",
       "      <th>product_websites</th>\n",
       "      <th>name</th>\n",
       "      <th>estimated_delivery_enable</th>\n",
       "      <th>estimated_delivery_text</th>\n",
       "      <th>url_key</th>\n",
       "      <th>description</th>\n",
       "      <th>...</th>\n",
       "      <th>swatch_image</th>\n",
       "      <th>thumbnail_image</th>\n",
       "      <th>additional_images</th>\n",
       "      <th>product_online</th>\n",
       "      <th>qty</th>\n",
       "      <th>out_of_stock_qty</th>\n",
       "      <th>allow_backorders</th>\n",
       "      <th>is_in_stock</th>\n",
       "      <th>style</th>\n",
       "      <th>supplier</th>\n",
       "    </tr>\n",
       "  </thead>\n",
       "  <tbody>\n",
       "  </tbody>\n",
       "</table>\n",
       "<p>0 rows × 42 columns</p>\n",
       "</div>"
      ],
      "text/plain": [
       "Empty DataFrame\n",
       "Columns: [sku number only, sku, store_view_code, attribute_set_code, product_websites, name, estimated_delivery_enable, estimated_delivery_text, url_key, description, short_description, Link_url, categories1, categories2, categories3, categories, free_colors, raw_materials, fabric_type, ts_dimensions_width, ts_dimensions_height, ts_dimensions_length, cost, price, special_price, visibility, tax_class_name, manufacturer, news_from_date, news_to_date, base_image, small_image, swatch_image, thumbnail_image, additional_images , product_online, qty, out_of_stock_qty, allow_backorders, is_in_stock, style, supplier]\n",
       "Index: []\n",
       "\n",
       "[0 rows x 42 columns]"
      ]
     },
     "execution_count": 161,
     "metadata": {},
     "output_type": "execute_result"
    }
   ],
   "source": [
    "df.loc[df['short_description'].isnull()]"
   ]
  },
  {
   "cell_type": "code",
   "execution_count": null,
   "id": "68f7958b",
   "metadata": {},
   "outputs": [],
   "source": []
  },
  {
   "cell_type": "code",
   "execution_count": 19,
   "id": "74de9c28",
   "metadata": {},
   "outputs": [
    {
     "data": {
      "text/plain": [
       "Index(['sku number only', 'sku', 'store_view_code', 'attribute_set_code',\n",
       "       'product_websites', 'name', 'estimated_delivery_enable',\n",
       "       'estimated_delivery_text', 'url_key', 'description',\n",
       "       'short_description', 'Link_url', 'categories1', 'categories2',\n",
       "       'categories3', 'categories', 'free_colors', 'raw_materials',\n",
       "       'fabric_type', 'ts_dimensions_width', 'ts_dimensions_height',\n",
       "       'ts_dimensions_length', 'price', 'special_price', 'visibility',\n",
       "       'tax_class_name', 'manufacturer', 'news_from_date', 'news_to_date',\n",
       "       'base_image', 'small_image', 'swatch_image', 'thumbnail_image',\n",
       "       'additional_images ', 'product_online', 'qty', 'out_of_stock_qty',\n",
       "       'allow_backorders', 'is_in_stock', 'style', 'supplier', 'cost'],\n",
       "      dtype='object')"
      ]
     },
     "execution_count": 19,
     "metadata": {},
     "output_type": "execute_result"
    }
   ],
   "source": [
    "df.columns"
   ]
  },
  {
   "cell_type": "code",
   "execution_count": 4,
   "id": "eb08e9d0",
   "metadata": {},
   "outputs": [],
   "source": [
    "df = pd.read_excel('/home/wafistos/Documents/Projects/scaping_wafi/Scraping_Midas/update_midas_13_08_2021v2.xlsx')"
   ]
  },
  {
   "cell_type": "code",
   "execution_count": 11,
   "id": "5af2c167",
   "metadata": {},
   "outputs": [],
   "source": [
    "df_cost = pd.read_csv('/home/wafistos/Documents/Projects/scaping_wafi/Scraping_Midas/midas_update_13_08_2021.csv')"
   ]
  },
  {
   "cell_type": "code",
   "execution_count": 13,
   "id": "5295b4d8",
   "metadata": {},
   "outputs": [],
   "source": [
    "df['cost'] = df_cost['price']"
   ]
  },
  {
   "cell_type": "code",
   "execution_count": 127,
   "id": "ee59a8d9",
   "metadata": {},
   "outputs": [],
   "source": [
    "df['free_colors'] = df['free_colors'].str.strip()"
   ]
  },
  {
   "cell_type": "code",
   "execution_count": 23,
   "id": "4f3c2859",
   "metadata": {},
   "outputs": [],
   "source": [
    "df.loc[df['estimated_delivery_text'].str.contains('بدون'), 'estimated_delivery_text'] = '__EMPTY__VALUE__'"
   ]
  },
  {
   "cell_type": "code",
   "execution_count": 45,
   "id": "ce22086a",
   "metadata": {},
   "outputs": [],
   "source": [
    "df.to_excel('Midas_update_13_08_2021v1.xlsx')"
   ]
  },
  {
   "cell_type": "code",
   "execution_count": null,
   "id": "814f1e59",
   "metadata": {},
   "outputs": [],
   "source": []
  }
 ],
 "metadata": {
  "kernelspec": {
   "display_name": "Python 3",
   "language": "python",
   "name": "python3"
  },
  "language_info": {
   "codemirror_mode": {
    "name": "ipython",
    "version": 3
   },
   "file_extension": ".py",
   "mimetype": "text/x-python",
   "name": "python",
   "nbconvert_exporter": "python",
   "pygments_lexer": "ipython3",
   "version": "3.8.8"
  },
  "toc": {
   "base_numbering": 1,
   "nav_menu": {},
   "number_sections": true,
   "sideBar": true,
   "skip_h1_title": false,
   "title_cell": "Table of Contents",
   "title_sidebar": "Contents",
   "toc_cell": false,
   "toc_position": {
    "height": "calc(100% - 180px)",
    "left": "10px",
    "top": "150px",
    "width": "320px"
   },
   "toc_section_display": true,
   "toc_window_display": true
  }
 },
 "nbformat": 4,
 "nbformat_minor": 5
}
