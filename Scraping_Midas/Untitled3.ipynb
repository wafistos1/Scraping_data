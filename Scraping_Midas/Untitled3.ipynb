{
 "cells": [
  {
   "cell_type": "code",
   "execution_count": 3,
   "id": "8d3c2273",
   "metadata": {},
   "outputs": [],
   "source": [
    "import json"
   ]
  },
  {
   "cell_type": "code",
   "execution_count": null,
   "id": "e13f4f4a",
   "metadata": {},
   "outputs": [],
   "source": []
  },
  {
   "cell_type": "code",
   "execution_count": null,
   "id": "a2e80c51",
   "metadata": {},
   "outputs": [],
   "source": []
  },
  {
   "cell_type": "code",
   "execution_count": 18,
   "id": "120a7b3a",
   "metadata": {},
   "outputs": [],
   "source": [
    "toto = [\n",
    "    {\"id\": 33, \"link\": \"heep/toto\"},\n",
    "    {\"id\": 34, \"link\": \"heep/titi\"}, \n",
    "    {\"id\": 35, \"link\": \"heep/tata\"}, \n",
    "    {\"id\": 36, \"link\": \"heep/tutu\"}\n",
    "       ]"
   ]
  },
  {
   "cell_type": "code",
   "execution_count": null,
   "id": "db9ef644",
   "metadata": {},
   "outputs": [],
   "source": []
  },
  {
   "cell_type": "code",
   "execution_count": null,
   "id": "71f9b283",
   "metadata": {},
   "outputs": [],
   "source": []
  },
  {
   "cell_type": "code",
   "execution_count": 21,
   "id": "a929d237",
   "metadata": {},
   "outputs": [
    {
     "data": {
      "text/plain": [
       "[{'id': 33, 'link': 'heep/toto'},\n",
       " {'id': 34, 'link': 'heep/titi'},\n",
       " {'id': 35, 'link': 'heep/tata'},\n",
       " {'id': 36, 'link': 'heep/tutu'}]"
      ]
     },
     "execution_count": 21,
     "metadata": {},
     "output_type": "execute_result"
    }
   ],
   "source": [
    "toto "
   ]
  },
  {
   "cell_type": "code",
   "execution_count": null,
   "id": "75ab0e8d",
   "metadata": {},
   "outputs": [],
   "source": []
  },
  {
   "cell_type": "code",
   "execution_count": null,
   "id": "81037b26",
   "metadata": {},
   "outputs": [],
   "source": []
  },
  {
   "cell_type": "code",
   "execution_count": 19,
   "id": "2a3dbf83",
   "metadata": {},
   "outputs": [],
   "source": [
    "loaded_json = json.dumps(toto)"
   ]
  },
  {
   "cell_type": "code",
   "execution_count": null,
   "id": "f8c07d70",
   "metadata": {},
   "outputs": [],
   "source": []
  },
  {
   "cell_type": "code",
   "execution_count": 20,
   "id": "309d03fd",
   "metadata": {},
   "outputs": [],
   "source": [
    "toto_json = json.loads(loaded_json)"
   ]
  },
  {
   "cell_type": "code",
   "execution_count": null,
   "id": "963790a7",
   "metadata": {},
   "outputs": [],
   "source": []
  },
  {
   "cell_type": "code",
   "execution_count": 24,
   "id": "dbb61aa8",
   "metadata": {
    "scrolled": true
   },
   "outputs": [],
   "source": [
    "def return_link(id, json_file):\n",
    "    return [toto['link'] for toto in json_file if toto['id'] == id ][0]"
   ]
  },
  {
   "cell_type": "code",
   "execution_count": null,
   "id": "4a8d8e1f",
   "metadata": {},
   "outputs": [],
   "source": []
  },
  {
   "cell_type": "code",
   "execution_count": null,
   "id": "2533dc2d",
   "metadata": {},
   "outputs": [],
   "source": []
  },
  {
   "cell_type": "code",
   "execution_count": 14,
   "id": "5924e08e",
   "metadata": {},
   "outputs": [
    {
     "name": "stdout",
     "output_type": "stream",
     "text": [
      "SPI\n"
     ]
    }
   ],
   "source": [
    "for toto in toto_json:\n",
    "    if toto['Name'] == 'Arch Linux':\n",
    "        print(toto['Owner'])"
   ]
  },
  {
   "cell_type": "code",
   "execution_count": 16,
   "id": "868d5a2f",
   "metadata": {},
   "outputs": [
    {
     "data": {
      "text/plain": [
       "'SPI'"
      ]
     },
     "execution_count": 16,
     "metadata": {},
     "output_type": "execute_result"
    }
   ],
   "source": [
    "[toto['Owner'] for toto in toto_json if toto['Name'] == 'Arch Linux' ][0]"
   ]
  },
  {
   "cell_type": "code",
   "execution_count": 25,
   "id": "f55b730b",
   "metadata": {},
   "outputs": [
    {
     "data": {
      "text/plain": [
       "'heep/toto'"
      ]
     },
     "execution_count": 25,
     "metadata": {},
     "output_type": "execute_result"
    }
   ],
   "source": [
    "return_link(33, toto)"
   ]
  },
  {
   "cell_type": "code",
   "execution_count": null,
   "id": "f6f267fa",
   "metadata": {},
   "outputs": [],
   "source": []
  },
  {
   "cell_type": "code",
   "execution_count": null,
   "id": "c3c7ebf2",
   "metadata": {},
   "outputs": [],
   "source": []
  },
  {
   "cell_type": "code",
   "execution_count": null,
   "id": "ae8f7319",
   "metadata": {},
   "outputs": [],
   "source": []
  },
  {
   "cell_type": "code",
   "execution_count": null,
   "id": "42540327",
   "metadata": {},
   "outputs": [],
   "source": []
  },
  {
   "cell_type": "code",
   "execution_count": null,
   "id": "c0519afc",
   "metadata": {},
   "outputs": [],
   "source": []
  },
  {
   "cell_type": "code",
   "execution_count": null,
   "id": "d190463f",
   "metadata": {},
   "outputs": [],
   "source": []
  },
  {
   "cell_type": "code",
   "execution_count": null,
   "id": "a5847bb5",
   "metadata": {},
   "outputs": [],
   "source": []
  },
  {
   "cell_type": "code",
   "execution_count": null,
   "id": "4c8e5549",
   "metadata": {},
   "outputs": [],
   "source": []
  },
  {
   "cell_type": "code",
   "execution_count": null,
   "id": "41aded0e",
   "metadata": {},
   "outputs": [],
   "source": []
  }
 ],
 "metadata": {
  "kernelspec": {
   "display_name": "Python 3",
   "language": "python",
   "name": "python3"
  },
  "language_info": {
   "codemirror_mode": {
    "name": "ipython",
    "version": 3
   },
   "file_extension": ".py",
   "mimetype": "text/x-python",
   "name": "python",
   "nbconvert_exporter": "python",
   "pygments_lexer": "ipython3",
   "version": "3.8.8"
  },
  "toc": {
   "base_numbering": 1,
   "nav_menu": {},
   "number_sections": true,
   "sideBar": true,
   "skip_h1_title": false,
   "title_cell": "Table of Contents",
   "title_sidebar": "Contents",
   "toc_cell": false,
   "toc_position": {},
   "toc_section_display": true,
   "toc_window_display": false
  }
 },
 "nbformat": 4,
 "nbformat_minor": 5
}
