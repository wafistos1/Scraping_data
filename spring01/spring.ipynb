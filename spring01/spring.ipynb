{
 "cells": [
  {
   "cell_type": "code",
   "execution_count": 110,
   "id": "51b0a636",
   "metadata": {},
   "outputs": [],
   "source": [
    "#imports here\n",
    "from selenium import webdriver\n",
    "from selenium.webdriver.common.keys import Keys\n",
    "from selenium.webdriver.support import expected_conditions as EC\n",
    "from selenium.webdriver.common.by import By\n",
    "from selenium.webdriver.support.wait import WebDriverWait\n",
    "from selenium.webdriver.firefox.options import Options\n",
    "import time\n",
    "import os\n",
    "from fake_useragent import UserAgent\n",
    "from random import randint\n",
    "import pandas as pd\n",
    "import re\n",
    "from datetime import datetime\n",
    "from datetime import timedelta\n",
    "from bs4 import BeautifulSoup\n",
    "from unidecode import unidecode"
   ]
  },
  {
   "cell_type": "code",
   "execution_count": null,
   "id": "a6ebfd88",
   "metadata": {},
   "outputs": [],
   "source": []
  },
  {
   "cell_type": "code",
   "execution_count": 57,
   "id": "e81ce385",
   "metadata": {},
   "outputs": [
    {
     "name": "stdout",
     "output_type": "stream",
     "text": [
      "Mozilla/5.0 (Windows NT 5.0; rv:21.0) Gecko/20100101 Firefox/21.0\n"
     ]
    },
    {
     "name": "stderr",
     "output_type": "stream",
     "text": [
      "<ipython-input-57-5315509cced7>:7: DeprecationWarning: use options instead of firefox_options\n",
      "  driver = webdriver.Firefox(firefox_options=options)\n"
     ]
    }
   ],
   "source": [
    "options = Options()\n",
    "ua = UserAgent()\n",
    "userAgent = ua.random\n",
    "print(userAgent)\n",
    "options.add_argument(f'user-agent={userAgent}')\n",
    "#options.add_argument(\"--headless\")\n",
    "driver = webdriver.Firefox(firefox_options=options)\n",
    "#     driver = webdriver.Firefox()"
   ]
  },
  {
   "cell_type": "code",
   "execution_count": 3,
   "id": "0df0b3f9",
   "metadata": {},
   "outputs": [],
   "source": [
    "driver.get('https://spring01.com/%D8%A7%D8%B1%D9%83%D8%A7%D9%86-%D8%A7%D9%84%D9%82%D9%87%D9%88%D8%A9-%D9%88-%D8%A7%D9%83%D8%B3%D8%B3%D9%88%D8%A7%D8%B1%D8%A7%D8%AA%D9%87%D8%A7/c611158635')"
   ]
  },
  {
   "cell_type": "code",
   "execution_count": null,
   "id": "4eec53e4",
   "metadata": {},
   "outputs": [],
   "source": []
  },
  {
   "cell_type": "code",
   "execution_count": 104,
   "id": "fc76bf03",
   "metadata": {},
   "outputs": [
    {
     "name": "stdout",
     "output_type": "stream",
     "text": [
      "276\n"
     ]
    }
   ],
   "source": [
    "links_products = []\n",
    "\n",
    "\n",
    "\n",
    "\n",
    "\n",
    "urls = driver.find_elements_by_xpath(\"//a[@rel='canonical']\")\n",
    "len(urls)\n",
    "\n",
    "#Forloop to get all url products\n",
    "for url in urls:\n",
    "    links_products.append(url.get_attribute('href'))\n",
    "#     time.sleep(0.5)\n",
    "time.sleep(1)\n",
    "print(len(links_products))\n",
    "now = datetime.now()\n",
    "dt_string = now.strftime(\"%d-%m-%Y-%H-%M-%S\")\n",
    "#Save link in excel files\n",
    "link_living_rooms = {\n",
    "    'liste': links_products,\n",
    "}\n",
    "\n",
    "liste_link_living_rooms = pd.DataFrame(link_living_rooms)\n",
    "liste_link_living_rooms.to_excel(f'link_spring-{dt_string}.xlsx')"
   ]
  },
  {
   "cell_type": "code",
   "execution_count": 32,
   "id": "505b32e5",
   "metadata": {},
   "outputs": [],
   "source": [
    "links_products = pd.read_excel('list_100_scrape_product.xlsx')\n",
    "\n"
   ]
  },
  {
   "cell_type": "code",
   "execution_count": 33,
   "id": "855bc7cd",
   "metadata": {},
   "outputs": [],
   "source": [
    "links_products = links_products['link_url'].to_list()\n"
   ]
  },
  {
   "cell_type": "code",
   "execution_count": 68,
   "id": "8af3f918",
   "metadata": {},
   "outputs": [
    {
     "data": {
      "text/plain": [
       "91"
      ]
     },
     "execution_count": 68,
     "metadata": {},
     "output_type": "execute_result"
    }
   ],
   "source": [
    "len(links_products)"
   ]
  },
  {
   "cell_type": "code",
   "execution_count": 5,
   "id": "98f10bdb",
   "metadata": {},
   "outputs": [],
   "source": [
    "tiit = 'https://www.alrugaibfurniture.com/ar/collections/bedrooms/products/caracole-classic-fan-club-nightstand?lshst=collection'"
   ]
  },
  {
   "cell_type": "code",
   "execution_count": 6,
   "id": "e2c8a79b",
   "metadata": {},
   "outputs": [
    {
     "name": "stdout",
     "output_type": "stream",
     "text": [
      "745\n"
     ]
    }
   ],
   "source": [
    "for i, to in enumerate(links_products):\n",
    "    if to == tiit:\n",
    "        print(i)"
   ]
  },
  {
   "cell_type": "code",
   "execution_count": 5,
   "id": "d1a9715c",
   "metadata": {},
   "outputs": [],
   "source": [
    "link_url_all_product = pd.read_excel('/home/wafistos/Documents/Projects/scaping_wafi/scrapingalrugaibfurniture/link_all_products-26-06-2021-02-13-28.xlsx')"
   ]
  },
  {
   "cell_type": "code",
   "execution_count": 6,
   "id": "0cb596cd",
   "metadata": {},
   "outputs": [
    {
     "data": {
      "text/plain": [
       "Index(['Unnamed: 0', 'liste'], dtype='object')"
      ]
     },
     "execution_count": 6,
     "metadata": {},
     "output_type": "execute_result"
    }
   ],
   "source": [
    "link_url_all_product.columns\n"
   ]
  },
  {
   "cell_type": "code",
   "execution_count": 7,
   "id": "923d242c",
   "metadata": {},
   "outputs": [
    {
     "data": {
      "text/plain": [
       "9981"
      ]
     },
     "execution_count": 7,
     "metadata": {},
     "output_type": "execute_result"
    }
   ],
   "source": [
    "product_links = link_url_all_product['liste'].to_list()\n",
    "len(product_links)"
   ]
  },
  {
   "cell_type": "markdown",
   "id": "f481327f",
   "metadata": {},
   "source": [
    "# Create elements"
   ]
  },
  {
   "cell_type": "code",
   "execution_count": null,
   "id": "55fd7ca1",
   "metadata": {},
   "outputs": [],
   "source": []
  },
  {
   "cell_type": "code",
   "execution_count": null,
   "id": "2f820ae6",
   "metadata": {},
   "outputs": [],
   "source": []
  },
  {
   "cell_type": "code",
   "execution_count": null,
   "id": "2b5b31d7",
   "metadata": {},
   "outputs": [],
   "source": []
  },
  {
   "cell_type": "code",
   "execution_count": null,
   "id": "06be584f",
   "metadata": {},
   "outputs": [],
   "source": []
  },
  {
   "cell_type": "code",
   "execution_count": null,
   "id": "3a107ab1",
   "metadata": {},
   "outputs": [],
   "source": [
    "aaa"
   ]
  },
  {
   "cell_type": "code",
   "execution_count": null,
   "id": "8cc03281",
   "metadata": {},
   "outputs": [],
   "source": []
  },
  {
   "cell_type": "markdown",
   "id": "f57e48a4",
   "metadata": {},
   "source": [
    "# Regex size"
   ]
  },
  {
   "cell_type": "code",
   "execution_count": null,
   "id": "215e7d42",
   "metadata": {},
   "outputs": [],
   "source": []
  },
  {
   "cell_type": "code",
   "execution_count": 40,
   "id": "184fd98b",
   "metadata": {},
   "outputs": [],
   "source": [
    "df = pd.read_excel('spring_model.xlsx')"
   ]
  },
  {
   "cell_type": "code",
   "execution_count": null,
   "id": "9ddef47b",
   "metadata": {},
   "outputs": [],
   "source": []
  },
  {
   "cell_type": "markdown",
   "id": "3a1f4268",
   "metadata": {},
   "source": [
    "# Debut de la fonction"
   ]
  },
  {
   "cell_type": "code",
   "execution_count": 88,
   "id": "14f4125f",
   "metadata": {
    "scrolled": true
   },
   "outputs": [
    {
     "name": "stdout",
     "output_type": "stream",
     "text": [
      "***********************************************************\n",
      "Count: 0\n",
      "URl: https://spring01.com/%D9%83%D8%B1%D8%B3%D9%8A-%D8%AD%D8%AF%D9%8A%D9%82%D8%A9-%D8%AD%D8%AF%D9%8A%D8%AF-%D8%A7%D9%86%D8%AA%D9%83-%D9%88%D8%AE%D8%B4%D8%A8/p1743377022\n",
      "Cat1: ديكورات المنزل\n",
      "Cat2: طاولات و كراسي\n",
      "Cat3: \n",
      "len list images 3\n",
      "Title: كرسي حديقة حديد انتك وخشب\n",
      "Price: ٦٥٠\n",
      "Price old: 0\n",
      "Description: \n",
      "Colors: __EMPTY__VALUE__\n",
      "Matter: __EMPTY__VALUE__\n",
      "URl: https://spring01.com/%D9%83%D8%B1%D8%B3%D9%8A-%D8%AD%D8%AF%D9%8A%D9%82%D8%A9-%D8%AD%D8%AF%D9%8A%D8%AF-%D8%A7%D9%86%D8%AA%D9%83-%D9%88%D8%AE%D8%B4%D8%A8/p1743377022\n",
      "https://cdn.salla.sa/YzvAn/sOPfn41RBfRfjvmwXQWlzJzQHhdJw58L0iyF4MOP.jpg, https://cdn.salla.sa/YzvAn/sdnVX39PVdFAdGlJoyXVq0QwgWKWfaVonp1Gf3qW.jpg\n",
      "***********************************************************\n",
      "Count: 1\n",
      "URl: https://spring01.com/%D9%83%D8%B1%D8%B3%D9%8A-%D8%AD%D8%AF%D9%8A%D8%AF-%D8%A7%D9%86%D8%AA%D9%8A%D9%83/p968904911\n",
      "Cat1: ديكورات المنزل\n",
      "Cat2: طاولات و كراسي\n",
      "Cat3: \n",
      "len list images 2\n",
      "Title: كرسي حديد انتيك\n",
      "Price: ٣٩١\n",
      "Price old: 0\n",
      "Description: \n",
      "Colors: __EMPTY__VALUE__\n",
      "Matter: __EMPTY__VALUE__\n",
      "URl: https://spring01.com/%D9%83%D8%B1%D8%B3%D9%8A-%D8%AD%D8%AF%D9%8A%D8%AF-%D8%A7%D9%86%D8%AA%D9%8A%D9%83/p968904911\n",
      "https://cdn.salla.sa/YzvAn/VMb2MX6JSGuhwyzN5mMKZZhXKG6knolJLb70YYzn.jpg\n",
      "***********************************************************\n",
      "Count: 2\n",
      "URl: https://spring01.com/%D8%B7%D9%82%D9%85-%D9%85%D8%B1%D8%A7%D9%83%D9%86-%D8%B2%D8%B1%D8%B9-%D8%AE%D8%B4%D8%A8-3-%D9%82%D8%B7%D8%B9/p56795215\n",
      "Cat1: ديكورات المنزل\n",
      "Cat2: مستلزمات حدائق وجلسات خارجية\n",
      "Cat3: \n",
      "len list images 9\n",
      "Title: طقم مراكن زرع خشب 3 قطع\n",
      "Price: ٢٩٩\n",
      "Price old: 0\n",
      "Description: \n",
      "Colors: __EMPTY__VALUE__\n",
      "Matter: __EMPTY__VALUE__\n",
      "URl: https://spring01.com/%D8%B7%D9%82%D9%85-%D9%85%D8%B1%D8%A7%D9%83%D9%86-%D8%B2%D8%B1%D8%B9-%D8%AE%D8%B4%D8%A8-3-%D9%82%D8%B7%D8%B9/p56795215\n",
      "https://cdn.salla.sa/YzvAn/50sFvIsyguCYo5DhKWoj95ysDymhAAgd3boyANM7.jpg, https://cdn.salla.sa/YzvAn/VJHA4396IxYll4fxDHDM0DXO6Fj8E1kMiw09BZLV.jpg, https://cdn.salla.sa/YzvAn/rlTUSQ8ARjrUaHmsxXMxyKhcpiaJE4GmGnRKyfBb.jpg, https://cdn.salla.sa/YzvAn/unnkjYiCaWsm1Xr6BS3PyeOoKg9baq9X6s3RBzM6.jpg, https://cdn.salla.sa/YzvAn/qcMUTtYtAySoIMjuUs32eyLMiBZKQWTkEz01a6fG.jpg, https://cdn.salla.sa/YzvAn/kFt5mj8OvAFYlc3UbCSQ20vD5DHrygPibk0L4ew7.jpg, https://cdn.salla.sa/YzvAn/sooBKiJoNPFMc0g43UGUHxgkgmUSw8L7EqkdQZC5.jpg, https://cdn.salla.sa/YzvAn/0V14TKZHnVCpDn0l9xAJ7mgc3tYHWP6C7IFxJNpQ.jpg\n",
      "***********************************************************\n",
      "Count: 3\n",
      "URl: https://spring01.com/%D8%B9%D8%B1%D8%A8%D8%A9-%D9%82%D9%87%D9%88%D8%A9-%D8%B7%D8%A7%D9%88%D9%84%D8%A9-%D8%B1%D9%83%D9%86-%D9%82%D9%87%D9%88%D8%A9-%D8%B1%D9%83%D9%86-%D9%83%D9%88%D9%81%D9%8A/p1234945806\n",
      "Cat1: ديكورات المنزل\n",
      "Cat2: مستلزمات حدائق وجلسات خارجية\n",
      "Cat3: \n",
      "len list images 6\n",
      "Title: عربية خشب بني\n",
      "Price: ٢٩٩\n",
      "Price old: 0\n",
      "Description: \n",
      "Colors: __EMPTY__VALUE__\n",
      "Matter: __EMPTY__VALUE__\n",
      "URl: https://spring01.com/%D8%B9%D8%B1%D8%A8%D8%A9-%D9%82%D9%87%D9%88%D8%A9-%D8%B7%D8%A7%D9%88%D9%84%D8%A9-%D8%B1%D9%83%D9%86-%D9%82%D9%87%D9%88%D8%A9-%D8%B1%D9%83%D9%86-%D9%83%D9%88%D9%81%D9%8A/p1234945806\n",
      "https://cdn.salla.sa/YzvAn/LV0B3yAkgmmo8kJ3lq90QhAlTgndcFQ4sTmgg9CG.jpg, https://cdn.salla.sa/YzvAn/YzYKemW1wbJBciOshUj26lSfcCs9pP04RAJZ13t0.jpg, https://cdn.salla.sa/YzvAn/AOKGAsOHCDuG34Rjb0FfPj6nFMHjMI2Zvm9QpElm.jpg, https://cdn.salla.sa/YzvAn/b1dXQkqH6sItHTHRSFGAnUmrfY50ZFp9gFLFuqRR.jpg, https://cdn.salla.sa/YzvAn/x53RLDCSkeb8LOXGUGFGI7DgL5mdkqnDPQp1HJye.jpg\n",
      "***********************************************************\n",
      "Count: 4\n",
      "URl: https://spring01.com/%D9%85%D8%B1%D9%83%D9%86-%D8%B2%D8%B1%D8%B9-%D8%AE%D8%B4%D8%A8-%D8%A8%D9%86%D9%8A/p36282769\n",
      "Cat1: ديكورات المنزل\n",
      "Cat2: مستلزمات حدائق وجلسات خارجية\n",
      "Cat3: \n",
      "len list images 5\n",
      "Title: مركن زرع خشب بني\n",
      "Price: ١٧٠\n",
      "Price old: 0\n",
      "Description: \n",
      "Colors: __EMPTY__VALUE__\n",
      "Matter: __EMPTY__VALUE__\n",
      "URl: https://spring01.com/%D9%85%D8%B1%D9%83%D9%86-%D8%B2%D8%B1%D8%B9-%D8%AE%D8%B4%D8%A8-%D8%A8%D9%86%D9%8A/p36282769\n",
      "https://cdn.salla.sa/YzvAn/hB3AHmMaCQho3VFPMcRatXqwCSwm7KZsSvkA2mX3.jpg, https://cdn.salla.sa/YzvAn/jRTnejhdXwawYhsuKxwJPBoOcm4EyvFBRS6LS7yL.jpg, https://cdn.salla.sa/YzvAn/5vE67N9MB0RkTJ3OIuaIEogUMgACA6uBFAi1vznw.jpg, https://cdn.salla.sa/YzvAn/ypiEkRIyuzz8e141KLQpkzic1Emj3dRaInzp6ES8.jpg\n",
      "***********************************************************\n",
      "Count: 5\n",
      "URl: https://spring01.com/%D9%83%D8%B1%D8%B3%D9%8A-%D8%AE%D8%B4%D8%A8-%D8%B7%D8%A8%D9%8A%D8%B9%D9%8A-%D9%85%D9%81%D8%B1%D8%AF-%D9%84%D9%88%D9%86-%D8%B7%D8%A8%D9%8A%D8%B9%D9%8A/p599559302\n",
      "Cat1: ديكورات المنزل\n",
      "Cat2: طاولات و كراسي\n",
      "Cat3: \n",
      "len list images 1\n",
      "Title: كرسي خشب طبيعي مفرد لون طبيعي\n",
      "Price: ٣٢٠\n",
      "Price old: 0\n",
      "Description: \n",
      "Colors: __EMPTY__VALUE__\n",
      "Matter: __EMPTY__VALUE__\n",
      "URl: https://spring01.com/%D9%83%D8%B1%D8%B3%D9%8A-%D8%AE%D8%B4%D8%A8-%D8%B7%D8%A8%D9%8A%D8%B9%D9%8A-%D9%85%D9%81%D8%B1%D8%AF-%D9%84%D9%88%D9%86-%D8%B7%D8%A8%D9%8A%D8%B9%D9%8A/p599559302\n",
      "\n",
      "***********************************************************\n",
      "Count: 6\n",
      "URl: https://spring01.com/%D8%B7%D8%A7%D9%88%D9%84%D8%A9-%D9%85%D9%86%D8%AA%D8%B5%D9%81-%D8%AE%D8%B4%D8%A8-%D8%B7%D8%A8%D9%8A%D8%B9%D9%8A-%D9%85%D8%B3%D8%AA%D8%B7%D9%8A%D9%84%D8%A9-%D9%83%D8%A8%D9%8A%D8%B1%D8%A9/p1211452284\n",
      "Cat1: ديكورات المنزل\n",
      "Cat2: طاولات و كراسي\n",
      "Cat3: \n",
      "len list images 1\n",
      "Title: طاولة منتصف خشب طبيعي مستطيلة كبيرة\n",
      "Price: ٢٨٠\n",
      "Price old: 0\n",
      "Description: \n",
      "Colors: __EMPTY__VALUE__\n",
      "Matter: __EMPTY__VALUE__\n",
      "URl: https://spring01.com/%D8%B7%D8%A7%D9%88%D9%84%D8%A9-%D9%85%D9%86%D8%AA%D8%B5%D9%81-%D8%AE%D8%B4%D8%A8-%D8%B7%D8%A8%D9%8A%D8%B9%D9%8A-%D9%85%D8%B3%D8%AA%D8%B7%D9%8A%D9%84%D8%A9-%D9%83%D8%A8%D9%8A%D8%B1%D8%A9/p1211452284\n",
      "\n",
      "***********************************************************\n",
      "Count: 7\n",
      "URl: https://spring01.com/%D9%83%D8%B1%D8%B3%D9%8A-%D8%AE%D8%B4%D8%A8-%D8%B7%D8%A8%D9%8A%D8%B9%D9%8A-%D9%85%D9%81%D8%B1%D8%AF-%D9%84%D9%88%D9%86-%D8%A8%D9%86%D9%8A/p1471196562\n",
      "Cat1: ديكورات المنزل\n",
      "Cat2: طاولات و كراسي\n",
      "Cat3: \n",
      "len list images 1\n",
      "Title: كرسي خشب طبيعي مفرد لون بني\n",
      "Price: ٣٢٠\n",
      "Price old: 0\n",
      "Description: \n",
      "Colors: __EMPTY__VALUE__\n",
      "Matter: __EMPTY__VALUE__\n",
      "URl: https://spring01.com/%D9%83%D8%B1%D8%B3%D9%8A-%D8%AE%D8%B4%D8%A8-%D8%B7%D8%A8%D9%8A%D8%B9%D9%8A-%D9%85%D9%81%D8%B1%D8%AF-%D9%84%D9%88%D9%86-%D8%A8%D9%86%D9%8A/p1471196562\n",
      "\n",
      "***********************************************************\n",
      "Count: 8\n",
      "URl: https://spring01.com/%D9%83%D8%B1%D8%B3%D9%8A-%D8%AE%D8%B4%D8%A8-%D8%B7%D8%A8%D9%8A%D8%B9%D9%8A-%D8%AB%D9%86%D8%A7%D8%A6%D9%8A/p408883655\n",
      "Cat1: ديكورات المنزل\n",
      "Cat2: طاولات و كراسي\n",
      "Cat3: \n",
      "len list images 1\n",
      "Title: كرسي خشب طبيعي ثنائي\n",
      "Price: ٦٤٠\n",
      "Price old: 0\n",
      "Description: \n",
      "Colors: __EMPTY__VALUE__\n",
      "Matter: __EMPTY__VALUE__\n",
      "URl: https://spring01.com/%D9%83%D8%B1%D8%B3%D9%8A-%D8%AE%D8%B4%D8%A8-%D8%B7%D8%A8%D9%8A%D8%B9%D9%8A-%D8%AB%D9%86%D8%A7%D8%A6%D9%8A/p408883655\n",
      "\n",
      "***********************************************************\n",
      "Count: 9\n",
      "URl: https://spring01.com/%D8%AD%D9%88%D8%B6-%D8%B2%D8%B1%D8%B9-%D9%81%D8%AE%D8%A7%D8%B1/p1398288767\n",
      "Cat1: ديكورات المنزل\n",
      "Cat2: مستلزمات حدائق وجلسات خارجية\n",
      "Cat3: \n",
      "len list images 4\n",
      "Title: حوض زرع فخار\n",
      "Price: ٧٥\n",
      "Price old: 0\n",
      "Description: \n",
      "Colors: __EMPTY__VALUE__\n",
      "Matter: __EMPTY__VALUE__\n",
      "URl: https://spring01.com/%D8%AD%D9%88%D8%B6-%D8%B2%D8%B1%D8%B9-%D9%81%D8%AE%D8%A7%D8%B1/p1398288767\n",
      "https://cdn.salla.sa/YzvAn/bESgCqZydqB8XQjQdxzJbYqWKPZjbhC5LhK10cX0.jpg, https://cdn.salla.sa/YzvAn/mDwoLytJs01iDq3ajguiLN9LB2pivGCyob537ib1.jpg, https://cdn.salla.sa/YzvAn/e6Qz0BoBE6gCr4JPUT3RoCm5F8oQM8UVz9id6jxk.jpg\n",
      "***********************************************************\n",
      "Count: 10\n",
      "URl: https://spring01.com/%D8%AD%D9%88%D8%B6-%D8%B2%D8%B1%D8%B9-%D9%81%D8%AE%D8%A7%D8%B1/p720842187\n",
      "Cat1: ديكورات المنزل\n",
      "Cat2: مستلزمات حدائق وجلسات خارجية\n",
      "Cat3: \n",
      "len list images 4\n",
      "Title: حوض زرع فخار\n",
      "Price: ١٣٠\n",
      "Price old: 0\n",
      "Description: \n",
      "Colors: __EMPTY__VALUE__\n",
      "Matter: __EMPTY__VALUE__\n",
      "URl: https://spring01.com/%D8%AD%D9%88%D8%B6-%D8%B2%D8%B1%D8%B9-%D9%81%D8%AE%D8%A7%D8%B1/p720842187\n",
      "https://cdn.salla.sa/YzvAn/vHYgusLAbbrkJ8gYdAbLW7SpOUsgeCbThsr1GeRA.jpg, https://cdn.salla.sa/YzvAn/sA74RTjqGKYMnkZyHjcgcygmFycGML6Wo9Kxf3V5.jpg, https://cdn.salla.sa/YzvAn/Rrg1BGPv2F0LMBJQD004EIvDglnZ51SOaL0NhPEZ.jpg\n",
      "***********************************************************\n",
      "Count: 11\n",
      "URl: https://spring01.com/%D8%AD%D9%88%D8%B6-%D8%B2%D8%B1%D8%B9-%D9%81%D8%AE%D8%A7%D8%B1/p1914014868\n"
     ]
    },
    {
     "name": "stdout",
     "output_type": "stream",
     "text": [
      "Cat1: ديكورات المنزل\n",
      "Cat2: مستلزمات حدائق وجلسات خارجية\n",
      "Cat3: \n",
      "len list images 4\n",
      "Title: حوض زرع فخار\n",
      "Price: ١١٥\n",
      "Price old: 0\n",
      "Description: \n",
      "Colors: __EMPTY__VALUE__\n",
      "Matter: __EMPTY__VALUE__\n",
      "URl: https://spring01.com/%D8%AD%D9%88%D8%B6-%D8%B2%D8%B1%D8%B9-%D9%81%D8%AE%D8%A7%D8%B1/p1914014868\n",
      "https://cdn.salla.sa/YzvAn/KDI1MBQSlKGCl9uPrjWo9z3fCEpTTKDrQN3bO4no.jpg, https://cdn.salla.sa/YzvAn/Qdcw8ipfKe8IiVv7aazslghDD7xnEkfLERYpTdPj.jpg, https://cdn.salla.sa/YzvAn/JyrV71FTPoHQiHEjeSlR1XKHsl1fZQ8g125gYzBc.jpg\n",
      "***********************************************************\n",
      "Count: 12\n",
      "URl: https://spring01.com/%D8%AD%D9%88%D8%B6-%D8%B2%D8%B1%D8%B9-%D9%81%D8%AE%D8%A7%D8%B1/p954344302\n",
      "Cat1: ديكورات المنزل\n",
      "Cat2: مستلزمات حدائق وجلسات خارجية\n",
      "Cat3: \n",
      "len list images 4\n",
      "Title: حوض زرع فخار\n",
      "Price: ١١٥\n",
      "Price old: 0\n",
      "Description: \n",
      "Colors: __EMPTY__VALUE__\n",
      "Matter: __EMPTY__VALUE__\n",
      "URl: https://spring01.com/%D8%AD%D9%88%D8%B6-%D8%B2%D8%B1%D8%B9-%D9%81%D8%AE%D8%A7%D8%B1/p954344302\n",
      "https://cdn.salla.sa/YzvAn/3z7rSNdnELRryTkjwcUONCs8lXMCWnT5DVM4luTN.jpg, https://cdn.salla.sa/YzvAn/JxcIyJXpVlSCfuYINaOqvJ5imYFy4oYKAy9rIu7a.jpg, https://cdn.salla.sa/YzvAn/045yNu7jLqYy0LNC9WPQQev6ImzfuMcXL9DWgEST.jpg\n",
      "***********************************************************\n",
      "Count: 13\n",
      "URl: https://spring01.com/%D8%AD%D9%88%D8%B6-%D8%B2%D8%B1%D8%B9-%D9%81%D8%AE%D8%A7%D8%B1/p836978403\n",
      "Cat1: ديكورات المنزل\n",
      "Cat2: مستلزمات حدائق وجلسات خارجية\n",
      "Cat3: \n",
      "len list images 3\n",
      "Title: حوض زرع فخار\n",
      "Price: ٩٠\n",
      "Price old: 0\n",
      "Description: \n",
      "Colors: __EMPTY__VALUE__\n",
      "Matter: __EMPTY__VALUE__\n",
      "URl: https://spring01.com/%D8%AD%D9%88%D8%B6-%D8%B2%D8%B1%D8%B9-%D9%81%D8%AE%D8%A7%D8%B1/p836978403\n",
      "https://cdn.salla.sa/YzvAn/TgxpNDwqSbeqo3qJKC7SC21MZfP5UxRODR6pWQHc.jpg, https://cdn.salla.sa/YzvAn/7bRUxh0r1ce5EztJ4YvFcvTAehhl4FjtyeaSoQrj.jpg\n",
      "***********************************************************\n",
      "Count: 14\n",
      "URl: https://spring01.com/%D8%AD%D9%88%D8%B6-%D8%B2%D8%B1%D8%B9-%D9%81%D8%AE%D8%A7%D8%B1/p1741626023\n",
      "Cat1: ديكورات المنزل\n",
      "Cat2: مستلزمات حدائق وجلسات خارجية\n",
      "Cat3: \n",
      "len list images 4\n",
      "Title: حوض زرع فخار\n",
      "Price: ٩٥\n",
      "Price old: 0\n",
      "Description: \n",
      "Colors: __EMPTY__VALUE__\n",
      "Matter: __EMPTY__VALUE__\n",
      "URl: https://spring01.com/%D8%AD%D9%88%D8%B6-%D8%B2%D8%B1%D8%B9-%D9%81%D8%AE%D8%A7%D8%B1/p1741626023\n",
      "https://cdn.salla.sa/YzvAn/GhTqRAp3pPw4A8dbRPKcUXvJoxnZBunj942UpcUp.jpg, https://cdn.salla.sa/YzvAn/g6WWKGkkCNBcQA6u30LAgt1FzE5PDYFd4INm7IYr.jpg, https://cdn.salla.sa/YzvAn/RmL72aT8wEguH9rRTlYeoTlUS9I3f3X7CyZMH2vL.jpg\n",
      "***********************************************************\n",
      "Count: 15\n",
      "URl: https://spring01.com/%D8%AD%D9%88%D8%B6-%D8%B2%D8%B1%D8%B9-%D9%81%D8%AE%D8%A7%D8%B1/p857624276\n",
      "Cat1: ديكورات المنزل\n",
      "Cat2: مستلزمات حدائق وجلسات خارجية\n",
      "Cat3: \n",
      "len list images 3\n",
      "Title: حوض زرع فخار\n",
      "Price: ٨٠\n",
      "Price old: 0\n",
      "Description: \n",
      "Colors: __EMPTY__VALUE__\n",
      "Matter: __EMPTY__VALUE__\n",
      "URl: https://spring01.com/%D8%AD%D9%88%D8%B6-%D8%B2%D8%B1%D8%B9-%D9%81%D8%AE%D8%A7%D8%B1/p857624276\n",
      "https://cdn.salla.sa/YzvAn/icR0HNI8qYbGRNo1gQCyw3FLqBMyNnN28EuwqduF.jpg, https://cdn.salla.sa/YzvAn/8OocUXgaLloW0tLXlFsoqFJaXRMZDDqDPVVXH2U2.jpg\n"
     ]
    }
   ],
   "source": [
    "now = datetime.now()\n",
    "dt_string = now.strftime(\"%d-%m-%Y-%H-%M-%S\")\n",
    "count = 0\n",
    "list_images = [] \n",
    "list_input_collection = []\n",
    "list_input_title = []\n",
    "list_input_price = []\n",
    "list_input_images1 = []\n",
    "list_input_images2 = []\n",
    "list_input_images3 = []\n",
    "list_input_images4 = []\n",
    "list_input_price_was = []\n",
    "list_input_model = []\n",
    "list_input_size = []\n",
    "list_input_color = []\n",
    "list_input_sku = []\n",
    "list_input_style = []\n",
    "list_input_in_stock = []\n",
    "list_input_mater = []\n",
    "list_input_link_url = []\n",
    "list_input_category1 = []\n",
    "list_input_category2 = []\n",
    "list_input_category3 = []\n",
    "list_input_width = []\n",
    "list_input_height = []\n",
    "list_input_length = []\n",
    "list_description = []\n",
    "list_news_from_date = []\n",
    "list_news_to_date = []\n",
    "list_tax_class_name = []\n",
    "list_visibility = []\n",
    "list_manufacturer = []\n",
    "list_concatenation = []\n",
    "display_bool = False\n",
    "\n",
    "\n",
    "\n",
    "\n",
    "\n",
    "\n",
    "\n",
    "#**********************************************************************\n",
    "#**********************************************************************\n",
    "#**********************************************************************\n",
    "#**********************************************************************\n",
    "#**********************************************************************\n",
    "#ForLoop main\n",
    "df = pd.read_excel('spring_model.xlsx')\n",
    "for i, product in enumerate(links_products):\n",
    "    height = 0\n",
    "    length = 0\n",
    "    width = 0\n",
    "    series = None\n",
    "    time.sleep(1)\n",
    "    try:\n",
    "        print('***********************************************************')\n",
    "        print('Count:', i)\n",
    "        print('URl:', product)\n",
    "        driver.get(product)\n",
    "        time.sleep(3)\n",
    "        display_bool = False\n",
    "    except:\n",
    "        continue\n",
    "    \n",
    "#**********************************************************************\n",
    "#**********************************************************************\n",
    "   \n",
    "\n",
    "    link_url = str(product)\n",
    "    time.sleep(4)\n",
    "    \n",
    "    \n",
    "    try:\n",
    "        categories1 =  driver.find_elements_by_class_name('breadcrumb-item')[1].text\n",
    "    except:\n",
    "        categories1 = ''\n",
    "    try:\n",
    "        categories2 =  driver.find_elements_by_class_name('breadcrumb-item')[2].text\n",
    "    except:\n",
    "        categories2 = ''\n",
    "    try:\n",
    "        categories3 =  ''#driver.find_elements_by_xpath(\"//li[contains(@class, 'breadcrumb__item')]\")[2].text\n",
    "    except:\n",
    "        categories3 = ''\n",
    "    print('Cat1:', categories1)\n",
    "    print('Cat2:', categories2)\n",
    "    print('Cat3:', categories3)\n",
    "    time.sleep(1)\n",
    "    sku = 'SPR-' + link_url.split('/')[-1]\n",
    "    name = driver.find_element_by_xpath(\"//h1[@class='product-details__title ']\").text\n",
    "    url_key = (f'{sku}{name }').replace(',', '-').replace('*', '-').replace('،', '-')   \n",
    "\n",
    "    price = driver.find_element_by_class_name('product-price').text.replace('ر.س', '').strip()\n",
    "    try:\n",
    "        special_price =  0\n",
    "    except:\n",
    "        special_price = 0\n",
    "    time.sleep(1)\n",
    "\n",
    "# Description*********************************************************************************\n",
    "    \n",
    "    description = driver.find_element_by_class_name('product-detials__desc ').text\n",
    "    short_description = ''\n",
    "    \n",
    "    free_colors = '__EMPTY__VALUE__'\n",
    "    raw_materials = '__EMPTY__VALUE__'\n",
    "\n",
    "# Images*********************************************************************************\n",
    "    list_images = []\n",
    "    images = driver.find_elements_by_class_name('image_first_click')\n",
    "    len(images)\n",
    "    for img in images:\n",
    "        list_images.append(img.get_attribute('src'))\n",
    "        time.sleep(0.5)\n",
    "    print('len list images',len(list_images))\n",
    "    base_image = list_images[0]\n",
    "    small_image = list_images[0]\n",
    "    swatch_image = list_images[0]\n",
    "    thumbnail_image = list_images[0]\n",
    "#************************************************************************** \n",
    "    print('Title:', name)\n",
    "    print('Price:', price)\n",
    "    print('Price old:',old_price)\n",
    "    print('Description:',short_description)\n",
    "    print('Colors:',free_colors)\n",
    "    print('Matter:',raw_materials)\n",
    "#     print('Size:',Dimensions)\n",
    "    print('URl:',link_url)\n",
    "    \n",
    "    try:\n",
    "\n",
    "        image1 = list_images[0]\n",
    "    except:\n",
    "        image1 = ''\n",
    "\n",
    "    try:\n",
    "        image2 = list_images[1:]\n",
    "    except:\n",
    "        image2 = ''\n",
    "    try:\n",
    "        timage = ''\n",
    "        for i, img in enumerate(list_images[1:]):\n",
    "            if i == 0:\n",
    "                timage += str(img)\n",
    "            else:\n",
    "                timage += ', ' + str(img)\n",
    "#         list_input_images2.append(timage)\n",
    "        print(timage)\n",
    "    except:\n",
    "        timage = ''\n",
    "\n",
    "    additional_images = timage\n",
    "        #         list_input_images2.append(t)\n",
    "#*******************************************************\n",
    "    two_month = datetime.now() + timedelta(days=60)\n",
    "    two_month = two_month.strftime(\"%m/%d/%Y\")\n",
    "    today = datetime.today().strftime(\"%m/%d/%Y\")\n",
    "    list_news_from_date.append(today)\n",
    "    list_news_to_date.append(two_month)\n",
    "#*******************************************************\n",
    "\n",
    "    \n",
    "\n",
    "    \n",
    "\n",
    "    series = pd.Series([sku,\n",
    "                         name,\n",
    "                         url_key,\n",
    "                         name,\n",
    "                        description,\n",
    "                         free_colors,\n",
    "                         raw_materials,\n",
    "                         base_image,\n",
    "                         small_image,\n",
    "                         swatch_image,\n",
    "                         thumbnail_image,\n",
    "                         additional_images ,\n",
    "                         categories1,\n",
    "                         categories2,\n",
    "                         categories3,\n",
    "                         price ,\n",
    "                        special_price,\n",
    "                        'Catalog, Search',\n",
    "                        'Taxable Goods',\n",
    "                        link_url,\n",
    "                        0,\n",
    "                        -5,\n",
    "                        1,\n",
    "                        1,\n",
    "                        1,\n",
    "                        'مستوردة',\n",
    "\n",
    "                         today,\n",
    "                         two_month,\n",
    "                         'base',\n",
    "                         'Default',\n",
    "                         'simple',\n",
    "                         '',\n",
    "                        'SPR'\n",
    "\n",
    "                        ],  index=df.columns)\n",
    "    #df.append(df1)\n",
    "    df = df.append(series, ignore_index=True)\n",
    "    df.to_excel( f'spring_update_12.xlsx', index = False)\n"
   ]
  },
  {
   "cell_type": "code",
   "execution_count": 52,
   "id": "77568740",
   "metadata": {},
   "outputs": [
    {
     "data": {
      "text/plain": [
       "'p2136683293'"
      ]
     },
     "execution_count": 52,
     "metadata": {},
     "output_type": "execute_result"
    }
   ],
   "source": [
    "\n",
    "sku"
   ]
  },
  {
   "cell_type": "code",
   "execution_count": null,
   "id": "88069e64",
   "metadata": {},
   "outputs": [],
   "source": []
  },
  {
   "cell_type": "code",
   "execution_count": 89,
   "id": "778f6c2f",
   "metadata": {},
   "outputs": [],
   "source": [
    "df_spring1 = pd.read_excel('spring_update_1.xlsx')\n",
    "df_spring2 = pd.read_excel('spring_update_2.xlsx')\n",
    "df_spring3 = pd.read_excel('spring_update_3.xlsx')\n",
    "df_spring4 = pd.read_excel('spring_update_4.xlsx')\n",
    "df_spring5 = pd.read_excel('spring_update_5.xlsx')\n",
    "df_spring6 = pd.read_excel('spring_update_6.xlsx')\n",
    "df_spring7 = pd.read_excel('spring_update_7.xlsx')\n",
    "df_spring8 = pd.read_excel('spring_update_8.xlsx')\n",
    "df_spring9 = pd.read_excel('spring_update_9.xlsx')\n",
    "df_spring10 = pd.read_excel('spring_update_10.xlsx')\n",
    "df_spring11 = pd.read_excel('spring_update_11.xlsx')\n",
    "df_spring12 = pd.read_excel('spring_update_12.xlsx')\n",
    "\n",
    "\n",
    "\n",
    "\n",
    "\n",
    "\n"
   ]
  },
  {
   "cell_type": "code",
   "execution_count": 100,
   "id": "69b3fbc2",
   "metadata": {},
   "outputs": [],
   "source": [
    "df_all = pd.concat([df_all, df_spring12 ], ignore_index=True)"
   ]
  },
  {
   "cell_type": "code",
   "execution_count": 116,
   "id": "e71b6543",
   "metadata": {},
   "outputs": [],
   "source": [
    "df_all.to_excel('update_spring01_v1.xlsx')\n"
   ]
  },
  {
   "cell_type": "code",
   "execution_count": 106,
   "id": "2736f1ff",
   "metadata": {},
   "outputs": [],
   "source": [
    "df_all.drop_duplicates(subset=['sku'], inplace=True)"
   ]
  },
  {
   "cell_type": "code",
   "execution_count": 107,
   "id": "6736635a",
   "metadata": {},
   "outputs": [
    {
     "data": {
      "text/plain": [
       "(511, 33)"
      ]
     },
     "execution_count": 107,
     "metadata": {},
     "output_type": "execute_result"
    }
   ],
   "source": [
    "df_all.shape"
   ]
  },
  {
   "cell_type": "code",
   "execution_count": 115,
   "id": "bf71b203",
   "metadata": {},
   "outputs": [
    {
     "data": {
      "text/plain": [
       "0      650.0\n",
       "1       50.0\n",
       "2      120.0\n",
       "3      253.0\n",
       "4      850.0\n",
       "       ...  \n",
       "591    190.0\n",
       "592    190.0\n",
       "593    276.0\n",
       "594    276.0\n",
       "598    299.0\n",
       "Name: price, Length: 511, dtype: float64"
      ]
     },
     "execution_count": 115,
     "metadata": {},
     "output_type": "execute_result"
    }
   ],
   "source": [
    "df_all['price']"
   ]
  },
  {
   "cell_type": "code",
   "execution_count": null,
   "id": "985b5cc3",
   "metadata": {},
   "outputs": [],
   "source": [
    "198 W x 203 L x 46 H cm' 51 W x 66 L x 16 H cm  2” L x 2” W x 3.75” H"
   ]
  },
  {
   "cell_type": "code",
   "execution_count": null,
   "id": "29a8b49c",
   "metadata": {},
   "outputs": [],
   "source": [
    "4.5 x 4.5 x 2.75 inch, متري: 838.2 مم عرض × 889 مم عمق × 990.6 مم ارتفاع"
   ]
  },
  {
   "cell_type": "markdown",
   "id": "b7d8d492",
   "metadata": {},
   "source": [
    "# Fin de la fonction"
   ]
  },
  {
   "cell_type": "code",
   "execution_count": 114,
   "id": "3a22a88f",
   "metadata": {},
   "outputs": [],
   "source": [
    "df_all['price'] = pd.to_numeric(df_all.price.apply(unidecode), errors='coerce')"
   ]
  },
  {
   "cell_type": "code",
   "execution_count": null,
   "id": "53a97f1e",
   "metadata": {},
   "outputs": [],
   "source": []
  },
  {
   "cell_type": "code",
   "execution_count": null,
   "id": "800d2ed3",
   "metadata": {},
   "outputs": [],
   "source": []
  },
  {
   "cell_type": "code",
   "execution_count": null,
   "id": "23372af2",
   "metadata": {},
   "outputs": [],
   "source": []
  },
  {
   "cell_type": "code",
   "execution_count": 50,
   "id": "ee125233",
   "metadata": {},
   "outputs": [],
   "source": [
    "driver.get('https://www.alrugaibfurniture.com/ar/collections/rugs/products/fusion-rug-blue-multi-colored')"
   ]
  },
  {
   "cell_type": "code",
   "execution_count": 51,
   "id": "5a71234a",
   "metadata": {},
   "outputs": [
    {
     "data": {
      "text/plain": [
       "3"
      ]
     },
     "execution_count": 51,
     "metadata": {},
     "output_type": "execute_result"
    }
   ],
   "source": [
    "list_products_other = driver.find_elements_by_class_name('block-swatch__item-text')\n",
    "len(list_products_other)"
   ]
  },
  {
   "cell_type": "code",
   "execution_count": 52,
   "id": "1933edf4",
   "metadata": {},
   "outputs": [],
   "source": [
    "list_products_other[0].click()"
   ]
  },
  {
   "cell_type": "code",
   "execution_count": null,
   "id": "2d9bba02",
   "metadata": {},
   "outputs": [],
   "source": []
  },
  {
   "cell_type": "code",
   "execution_count": null,
   "id": "770e17a7",
   "metadata": {},
   "outputs": [],
   "source": []
  },
  {
   "cell_type": "code",
   "execution_count": null,
   "id": "1f2cea67",
   "metadata": {},
   "outputs": [],
   "source": []
  },
  {
   "cell_type": "code",
   "execution_count": null,
   "id": "e9367e21",
   "metadata": {},
   "outputs": [],
   "source": []
  },
  {
   "cell_type": "code",
   "execution_count": null,
   "id": "3ea0a4ee",
   "metadata": {},
   "outputs": [],
   "source": []
  },
  {
   "cell_type": "code",
   "execution_count": null,
   "id": "0ba4e69e",
   "metadata": {},
   "outputs": [],
   "source": []
  },
  {
   "cell_type": "code",
   "execution_count": null,
   "id": "dd23175e",
   "metadata": {},
   "outputs": [],
   "source": []
  },
  {
   "cell_type": "code",
   "execution_count": null,
   "id": "cddb2888",
   "metadata": {},
   "outputs": [],
   "source": []
  },
  {
   "cell_type": "code",
   "execution_count": null,
   "id": "a23abcb0",
   "metadata": {},
   "outputs": [],
   "source": []
  },
  {
   "cell_type": "code",
   "execution_count": null,
   "id": "5fb33f3d",
   "metadata": {},
   "outputs": [],
   "source": []
  },
  {
   "cell_type": "code",
   "execution_count": null,
   "id": "3991cdec",
   "metadata": {},
   "outputs": [],
   "source": []
  },
  {
   "cell_type": "code",
   "execution_count": null,
   "id": "291a3247",
   "metadata": {},
   "outputs": [],
   "source": []
  },
  {
   "cell_type": "code",
   "execution_count": null,
   "id": "2ceacf9c",
   "metadata": {},
   "outputs": [],
   "source": []
  },
  {
   "cell_type": "code",
   "execution_count": null,
   "id": "6308ec78",
   "metadata": {},
   "outputs": [],
   "source": []
  },
  {
   "cell_type": "code",
   "execution_count": null,
   "id": "53f9b991",
   "metadata": {},
   "outputs": [],
   "source": []
  },
  {
   "cell_type": "code",
   "execution_count": null,
   "id": "15550f0d",
   "metadata": {},
   "outputs": [],
   "source": []
  },
  {
   "cell_type": "code",
   "execution_count": null,
   "id": "9baa0d22",
   "metadata": {},
   "outputs": [],
   "source": []
  },
  {
   "cell_type": "code",
   "execution_count": null,
   "id": "f2899e3a",
   "metadata": {},
   "outputs": [],
   "source": []
  },
  {
   "cell_type": "code",
   "execution_count": null,
   "id": "714493c7",
   "metadata": {},
   "outputs": [],
   "source": []
  },
  {
   "cell_type": "code",
   "execution_count": null,
   "id": "e9eb60dd",
   "metadata": {},
   "outputs": [],
   "source": []
  }
 ],
 "metadata": {
  "celltoolbar": "Raw Cell Format",
  "kernelspec": {
   "display_name": "Python 3",
   "language": "python",
   "name": "python3"
  },
  "language_info": {
   "codemirror_mode": {
    "name": "ipython",
    "version": 3
   },
   "file_extension": ".py",
   "mimetype": "text/x-python",
   "name": "python",
   "nbconvert_exporter": "python",
   "pygments_lexer": "ipython3",
   "version": "3.8.8"
  },
  "toc": {
   "base_numbering": 1,
   "nav_menu": {},
   "number_sections": true,
   "sideBar": true,
   "skip_h1_title": false,
   "title_cell": "Table of Contents",
   "title_sidebar": "Contents",
   "toc_cell": false,
   "toc_position": {
    "height": "calc(100% - 180px)",
    "left": "10px",
    "top": "150px",
    "width": "352px"
   },
   "toc_section_display": true,
   "toc_window_display": true
  }
 },
 "nbformat": 4,
 "nbformat_minor": 5
}
