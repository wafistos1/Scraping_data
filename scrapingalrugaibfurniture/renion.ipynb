{
 "cells": [
  {
   "cell_type": "code",
   "execution_count": 2,
   "id": "798d9d0b",
   "metadata": {},
   "outputs": [],
   "source": [
    "#imports here\n",
    "from selenium import webdriver\n",
    "from selenium.webdriver.common.keys import Keys\n",
    "from selenium.webdriver.support import expected_conditions as EC\n",
    "from selenium.webdriver.common.by import By\n",
    "from selenium.webdriver.support.wait import WebDriverWait\n",
    "from selenium.webdriver.firefox.options import Options\n",
    "import time\n",
    "import os\n",
    "from fake_useragent import UserAgent\n",
    "from random import randint\n",
    "import pandas as pd\n",
    "import re\n",
    "import numpy as np"
   ]
  },
  {
   "cell_type": "code",
   "execution_count": 467,
   "id": "cba5e9aa",
   "metadata": {},
   "outputs": [],
   "source": [
    "df1 = pd.read_excel('living-rooms.xlsx')\n",
    "df2= pd.read_excel('living-rooms2.xlsx')\n",
    "df3 = pd.read_excel('living-rooms3.xlsx')\n",
    "df4 = pd.read_excel('living-rooms5.xlsx')"
   ]
  },
  {
   "cell_type": "code",
   "execution_count": 468,
   "id": "44f149f7",
   "metadata": {},
   "outputs": [],
   "source": [
    "df = pd.concat([df1, df2], ignore_index=True)\n",
    "df = pd.concat([df, df3], ignore_index=True)\n",
    "df = pd.concat([df, df4], ignore_index=True)\n"
   ]
  },
  {
   "cell_type": "code",
   "execution_count": 3,
   "id": "a416dd2f",
   "metadata": {},
   "outputs": [
    {
     "data": {
      "text/plain": [
       "(5850, 32)"
      ]
     },
     "execution_count": 3,
     "metadata": {},
     "output_type": "execute_result"
    }
   ],
   "source": [
    "df_midas = pd.read_excel('/home/wafistos/Documents/Projects/scaping_wafi/Scraping_Midas/midas_update_1.xlsx')\n",
    "df_midas.shape"
   ]
  },
  {
   "cell_type": "code",
   "execution_count": 1,
   "id": "9534579b",
   "metadata": {},
   "outputs": [
    {
     "ename": "NameError",
     "evalue": "name 'df_100' is not defined",
     "output_type": "error",
     "traceback": [
      "\u001b[0;31m---------------------------------------------------------------------------\u001b[0m",
      "\u001b[0;31mNameError\u001b[0m                                 Traceback (most recent call last)",
      "\u001b[0;32m<ipython-input-1-f9dfda07ba55>\u001b[0m in \u001b[0;36m<module>\u001b[0;34m\u001b[0m\n\u001b[0;32m----> 1\u001b[0;31m \u001b[0mdf_100\u001b[0m\u001b[0;34m.\u001b[0m\u001b[0mto_excel\u001b[0m\u001b[0;34m(\u001b[0m\u001b[0;34m'list_100_scrape_product.xlsx'\u001b[0m\u001b[0;34m)\u001b[0m\u001b[0;34m\u001b[0m\u001b[0;34m\u001b[0m\u001b[0m\n\u001b[0m",
      "\u001b[0;31mNameError\u001b[0m: name 'df_100' is not defined"
     ]
    }
   ],
   "source": [
    "df_100.to_excel('list_100_scrape_product.xlsx')"
   ]
  },
  {
   "cell_type": "code",
   "execution_count": 489,
   "id": "ce91d6a0",
   "metadata": {},
   "outputs": [
    {
     "data": {
      "text/plain": [
       "(3787, 30)"
      ]
     },
     "execution_count": 489,
     "metadata": {},
     "output_type": "execute_result"
    }
   ],
   "source": [
    "df.shape"
   ]
  },
  {
   "cell_type": "code",
   "execution_count": 269,
   "id": "e4342807",
   "metadata": {},
   "outputs": [],
   "source": [
    "df1 = pd.read_excel('accessoires_test1.xlsx')\n",
    "df2= pd.read_excel('accessoires_test2.xlsx')\n",
    "df3 = pd.read_excel('accessoires_test3.xlsx')\n",
    "\n"
   ]
  },
  {
   "cell_type": "code",
   "execution_count": 270,
   "id": "5c49ddec",
   "metadata": {},
   "outputs": [],
   "source": [
    "df = pd.concat([df1, df2], ignore_index=True)\n",
    "df = pd.concat([df, df3], ignore_index=True)"
   ]
  },
  {
   "cell_type": "code",
   "execution_count": null,
   "id": "99f54611",
   "metadata": {},
   "outputs": [],
   "source": []
  },
  {
   "cell_type": "code",
   "execution_count": 5,
   "id": "45d7eb7b",
   "metadata": {},
   "outputs": [
    {
     "data": {
      "text/plain": [
       "(97, 36)"
      ]
     },
     "execution_count": 5,
     "metadata": {},
     "output_type": "execute_result"
    }
   ],
   "source": [
    "df_100.shape"
   ]
  },
  {
   "cell_type": "code",
   "execution_count": 19,
   "id": "02e40bbf",
   "metadata": {},
   "outputs": [],
   "source": [
    "df.to_excel('/home/wafistos/Documents/Projects/scaping_wafi/Ashley/ashly-test1.xlsx', index=False)"
   ]
  },
  {
   "cell_type": "code",
   "execution_count": null,
   "id": "298a8b1f",
   "metadata": {},
   "outputs": [],
   "source": []
  },
  {
   "cell_type": "code",
   "execution_count": null,
   "id": "65a92bea",
   "metadata": {},
   "outputs": [],
   "source": []
  },
  {
   "cell_type": "code",
   "execution_count": null,
   "id": "7e16bef8",
   "metadata": {},
   "outputs": [],
   "source": []
  },
  {
   "cell_type": "code",
   "execution_count": null,
   "id": "74b8a306",
   "metadata": {},
   "outputs": [],
   "source": []
  },
  {
   "cell_type": "code",
   "execution_count": null,
   "id": "4fe68d91",
   "metadata": {},
   "outputs": [],
   "source": []
  },
  {
   "cell_type": "code",
   "execution_count": null,
   "id": "69434ab9",
   "metadata": {},
   "outputs": [],
   "source": []
  },
  {
   "cell_type": "code",
   "execution_count": null,
   "id": "339d8f69",
   "metadata": {},
   "outputs": [],
   "source": []
  },
  {
   "cell_type": "code",
   "execution_count": 272,
   "id": "f2931075",
   "metadata": {},
   "outputs": [],
   "source": [
    "df.rename(columns={'collection': 'mgs_brand', 'Width': 'ts_dimensions_width', 'Height': 'ts_dimensions_height', 'Length': 'ts_dimensions_length', 'free_colors': 'short_description', 'short_description': 'free_colors'}, inplace=True)"
   ]
  },
  {
   "cell_type": "code",
   "execution_count": 7,
   "id": "179d93fa",
   "metadata": {},
   "outputs": [],
   "source": [
    "df = df.loc[df['price'].str.contains(',', na=False, regex=False).str.replace(',', '')]"
   ]
  },
  {
   "cell_type": "code",
   "execution_count": null,
   "id": "cd261055",
   "metadata": {},
   "outputs": [],
   "source": [
    "df = df.loc[df['price'].str.contains(',', na=False, regex=False).str.replace(',', '')]"
   ]
  },
  {
   "cell_type": "code",
   "execution_count": 17,
   "id": "38ba3384",
   "metadata": {},
   "outputs": [
    {
     "data": {
      "text/plain": [
       "pandas.core.series.Series"
      ]
     },
     "execution_count": 17,
     "metadata": {},
     "output_type": "execute_result"
    }
   ],
   "source": [
    "type(df['price'])"
   ]
  },
  {
   "cell_type": "code",
   "execution_count": 40,
   "id": "ea9ed618",
   "metadata": {},
   "outputs": [
    {
     "data": {
      "text/plain": [
       "(2695, 25)"
      ]
     },
     "execution_count": 40,
     "metadata": {},
     "output_type": "execute_result"
    }
   ],
   "source": [
    "df = df_rugaib_toto\n",
    "df.shape"
   ]
  },
  {
   "cell_type": "code",
   "execution_count": 68,
   "id": "d6f23a4f",
   "metadata": {},
   "outputs": [
    {
     "data": {
      "text/plain": [
       "Index(['Unnamed: 0', 'sku', 'is_in_stock', 'name', 'price', 'special_price',\n",
       "       'short_description', 'free_colors', 'description', 'Width', 'Height',\n",
       "       'Length', 'collection', 'base_image', 'url_key', 'visibility',\n",
       "       'tax_class_name', 'manufacturer', 'news_from_date', 'news_to_date',\n",
       "       'Images2', 'link_url', 'categories1', 'categories2', 'categories3',\n",
       "       'estimated_delivery_enable', 'allow_backorders', 'out_of_stock_qty',\n",
       "       'qty', 'product_online', 'raw_materials', 'small_image', 'swatch_image',\n",
       "       'thumbnail_image', 'attribute_set_code', 'product_websites',\n",
       "       'product_type', 'supplier', 'store_view_code'],\n",
       "      dtype='object')"
      ]
     },
     "execution_count": 68,
     "metadata": {},
     "output_type": "execute_result"
    }
   ],
   "source": [
    "df.columns"
   ]
  },
  {
   "cell_type": "code",
   "execution_count": null,
   "id": "6dfdbe7f",
   "metadata": {},
   "outputs": [],
   "source": []
  },
  {
   "cell_type": "markdown",
   "id": "8d3952d6",
   "metadata": {},
   "source": [
    "# ADD Columns"
   ]
  },
  {
   "cell_type": "code",
   "execution_count": 42,
   "id": "58405006",
   "metadata": {},
   "outputs": [],
   "source": []
  },
  {
   "cell_type": "code",
   "execution_count": 6,
   "id": "758f931d",
   "metadata": {},
   "outputs": [],
   "source": [
    "df['estimated_delivery_text'] = 'الوقت المقدر لشحن هذا المنتج أسبوعين'"
   ]
  },
  {
   "cell_type": "code",
   "execution_count": 9,
   "id": "a457e05b",
   "metadata": {},
   "outputs": [],
   "source": [
    "df.rename(columns={'collection': 'mgs_brand', 'Width': 'ts_dimensions_width', 'Height': 'ts_dimensions_height', 'Length': 'ts_dimensions_length'}, inplace=True)"
   ]
  },
  {
   "cell_type": "code",
   "execution_count": 49,
   "id": "187c5f94",
   "metadata": {},
   "outputs": [],
   "source": [
    "df['raw_materials'] = ''"
   ]
  },
  {
   "cell_type": "code",
   "execution_count": 43,
   "id": "0138dee1",
   "metadata": {},
   "outputs": [],
   "source": []
  },
  {
   "cell_type": "code",
   "execution_count": 44,
   "id": "a5c74876",
   "metadata": {},
   "outputs": [],
   "source": []
  },
  {
   "cell_type": "code",
   "execution_count": 45,
   "id": "5da7e82b",
   "metadata": {},
   "outputs": [],
   "source": [
    "df['out_of_stock_qty'] = -5\n",
    "df['qty'] = 0\n",
    "df['product_online'] = df['is_in_stock']"
   ]
  },
  {
   "cell_type": "code",
   "execution_count": 46,
   "id": "4d1560c5",
   "metadata": {},
   "outputs": [],
   "source": []
  },
  {
   "cell_type": "code",
   "execution_count": 47,
   "id": "3eb8aa39",
   "metadata": {},
   "outputs": [],
   "source": []
  },
  {
   "cell_type": "code",
   "execution_count": 50,
   "id": "84974527",
   "metadata": {},
   "outputs": [],
   "source": []
  },
  {
   "cell_type": "code",
   "execution_count": 51,
   "id": "3d5fb24a",
   "metadata": {},
   "outputs": [],
   "source": []
  },
  {
   "cell_type": "code",
   "execution_count": 59,
   "id": "505fd35d",
   "metadata": {},
   "outputs": [],
   "source": [
    "df.rename(columns = {'base_image ': 'base_image'} ,inplace = True)\n",
    "df['small_image'] =  df['base_image']\n",
    "df['swatch_image'] =  df['base_image']\n",
    "df['thumbnail_image'] =  df['base_image']\n",
    "df['attribute_set_code'] = 'Default'\n",
    "df['product_websites'] = 'base'\n",
    "df['url_key'] = df['sku'] + df['name']\n",
    "df['raw_materials'] = df['raw_materials'].replace('', '__EMPTY__VALUE__')\n",
    "df['raw_materials'] = df['raw_materials'].replace(np.nan, '__EMPTY__VALUE__')\n",
    "df['free_colors'] = df['free_colors'].replace('', '__EMPTY__VALUE__')\n",
    "df['free_colors'] = df['free_colors'].replace(np.nan, '__EMPTY__VALUE__')\n",
    "df['allow_backorders'] = df['is_in_stock']\n",
    "df['estimated_delivery_enable'] = 'Static Text'"
   ]
  },
  {
   "cell_type": "code",
   "execution_count": 60,
   "id": "86139395",
   "metadata": {},
   "outputs": [],
   "source": [
    "df['small_image'] =  df['base_image']\n",
    "df['swatch_image'] =  df['base_image']\n",
    "df['thumbnail_image'] =  df['base_image']\n",
    "df['attribute_set_code'] = 'Default'\n",
    "df['product_websites'] = 'base'"
   ]
  },
  {
   "cell_type": "code",
   "execution_count": 61,
   "id": "ef371879",
   "metadata": {},
   "outputs": [],
   "source": [
    "df['swatch_image'] =  df['base_image']\n",
    "df['thumbnail_image'] =  df['base_image']\n",
    "df['attribute_set_code'] = 'Default'\n",
    "df['product_websites'] = 'bas"
   ]
  },
  {
   "cell_type": "code",
   "execution_count": 62,
   "id": "117f993c",
   "metadata": {},
   "outputs": [],
   "source": [
    "df['thumbnail_image'] =  df['base_image']\n",
    "df['attribute_set_code'] = 'Default'\n",
    "df['product_websites'] = 'bas"
   ]
  },
  {
   "cell_type": "code",
   "execution_count": 63,
   "id": "364f556f",
   "metadata": {},
   "outputs": [],
   "source": [
    "df['attribute_set_code'] = 'Default'\n",
    "df['product_websites'] = 'base'"
   ]
  },
  {
   "cell_type": "code",
   "execution_count": 64,
   "id": "aa9c28eb",
   "metadata": {},
   "outputs": [],
   "source": [
    "df['product_websites'] = 'base'"
   ]
  },
  {
   "cell_type": "code",
   "execution_count": 65,
   "id": "64c9ab85",
   "metadata": {},
   "outputs": [],
   "source": [
    "df['product_type'] = 'simple'"
   ]
  },
  {
   "cell_type": "code",
   "execution_count": 66,
   "id": "4cd41156",
   "metadata": {},
   "outputs": [],
   "source": [
    "df['supplier'] = 'SPR'"
   ]
  },
  {
   "cell_type": "code",
   "execution_count": 67,
   "id": "0667e59d",
   "metadata": {},
   "outputs": [],
   "source": [
    "df['store_view_code'] = ''"
   ]
  },
  {
   "cell_type": "code",
   "execution_count": 69,
   "id": "1b3a8866",
   "metadata": {},
   "outputs": [],
   "source": [
    "df.rename(columns = {'Images2': 'additional_images '} ,inplace = True)"
   ]
  },
  {
   "cell_type": "code",
   "execution_count": 70,
   "id": "0266be1a",
   "metadata": {},
   "outputs": [],
   "source": [
    "df['url_key'] = df['url_key'].str.replace(', ', '-')\n",
    "df['url_key'] = df['url_key'].str.replace('/', '-')\n",
    "df['url_key'] = df['url_key'].str.replace('\"', '-')\n",
    "df['url_key'] = df['url_key'].str.replace('%', '-')\n",
    "df['url_key'] = df['url_key'].str.replace('+', '-', regex=False)"
   ]
  },
  {
   "cell_type": "code",
   "execution_count": 71,
   "id": "94308800",
   "metadata": {},
   "outputs": [],
   "source": [
    "df.to_excel('update_new_product_rugaib_07_07_21.xlsx')"
   ]
  },
  {
   "cell_type": "code",
   "execution_count": 38,
   "id": "3a71b8d4",
   "metadata": {},
   "outputs": [
    {
     "data": {
      "text/plain": [
       "(2695, 25)"
      ]
     },
     "execution_count": 38,
     "metadata": {},
     "output_type": "execute_result"
    }
   ],
   "source": [
    "df_rugaib_toto = pd.read_excel('/home/wafistos/Documents/Projects/scaping_wafi/scrapingalrugaibfurniture/sub_categories/new_products_rugaib.xlsx')\n",
    "df_rugaib_toto.shape"
   ]
  },
  {
   "cell_type": "code",
   "execution_count": 35,
   "id": "0aa1ea51",
   "metadata": {},
   "outputs": [],
   "source": [
    "df_midas_toto.drop(columns='set_include', inplace=True)"
   ]
  },
  {
   "cell_type": "code",
   "execution_count": 37,
   "id": "caa73ceb",
   "metadata": {},
   "outputs": [],
   "source": [
    "df_midas_toto.to_excel('update_midas_07_07_2021.xlsx')"
   ]
  },
  {
   "cell_type": "code",
   "execution_count": 74,
   "id": "36d7939d",
   "metadata": {},
   "outputs": [],
   "source": [
    "df_rugaib_toto.drop(columns=['Unnamed: 0'], inplace=True)"
   ]
  },
  {
   "cell_type": "code",
   "execution_count": 76,
   "id": "7782239a",
   "metadata": {},
   "outputs": [],
   "source": [
    "df_rugaib_toto.to_excel('update_rugaib_newProducts_07_07_2021.xlsx')"
   ]
  },
  {
   "cell_type": "code",
   "execution_count": 77,
   "id": "e84a62e2",
   "metadata": {},
   "outputs": [],
   "source": [
    "toto_df = pd.read_excel('update_rugaib_newProducts_07_07_2021.xlsx')"
   ]
  },
  {
   "cell_type": "code",
   "execution_count": 17,
   "id": "04c97852",
   "metadata": {},
   "outputs": [],
   "source": [
    "df.rename(columns = {'Images1': 'base_image'} ,inplace = True)"
   ]
  },
  {
   "cell_type": "code",
   "execution_count": 484,
   "id": "fe347201",
   "metadata": {},
   "outputs": [],
   "source": [
    "df[\"special_price\"] = pd.to_numeric(df[\"special_price\"])\n",
    "df[\"price\"] = pd.to_numeric(df[\"price\"])"
   ]
  },
  {
   "cell_type": "code",
   "execution_count": null,
   "id": "1983022e",
   "metadata": {},
   "outputs": [],
   "source": []
  },
  {
   "cell_type": "code",
   "execution_count": 263,
   "id": "95fa8f15",
   "metadata": {},
   "outputs": [],
   "source": [
    "df['price'] = df['price'].str.replace(',', '')"
   ]
  },
  {
   "cell_type": "code",
   "execution_count": 427,
   "id": "aa4eb709",
   "metadata": {},
   "outputs": [],
   "source": [
    "df_acc = pd.read_excel('all_accessoires_update4.xlsx')"
   ]
  },
  {
   "cell_type": "code",
   "execution_count": 428,
   "id": "ad97ef64",
   "metadata": {},
   "outputs": [
    {
     "data": {
      "text/plain": [
       "9"
      ]
     },
     "execution_count": 428,
     "metadata": {},
     "output_type": "execute_result"
    }
   ],
   "source": [
    "df_acc.duplicated(subset=['sku']).sum()"
   ]
  },
  {
   "cell_type": "code",
   "execution_count": 374,
   "id": "31cd5bda",
   "metadata": {},
   "outputs": [
    {
     "data": {
      "text/plain": [
       "(1097, 30)"
      ]
     },
     "execution_count": 374,
     "metadata": {},
     "output_type": "execute_result"
    }
   ],
   "source": [
    "df_bed = pd.read_excel('all_bedrooms_update.xlsx')\n",
    "df_bed.shape"
   ]
  },
  {
   "cell_type": "code",
   "execution_count": 375,
   "id": "cbba4e0e",
   "metadata": {},
   "outputs": [
    {
     "data": {
      "text/plain": [
       "10"
      ]
     },
     "execution_count": 375,
     "metadata": {},
     "output_type": "execute_result"
    }
   ],
   "source": [
    "df_bed.duplicated(subset=['sku']).sum()"
   ]
  },
  {
   "cell_type": "code",
   "execution_count": 376,
   "id": "5b972143",
   "metadata": {},
   "outputs": [],
   "source": [
    "df_bed.drop_duplicates(subset=['sku'], inplace=True)"
   ]
  },
  {
   "cell_type": "code",
   "execution_count": 377,
   "id": "1ae594e9",
   "metadata": {},
   "outputs": [],
   "source": [
    "df_bed.to_excel('all_bedrooms_update1.xlsx', index=False)"
   ]
  },
  {
   "cell_type": "code",
   "execution_count": null,
   "id": "b8a2331c",
   "metadata": {},
   "outputs": [],
   "source": []
  },
  {
   "cell_type": "code",
   "execution_count": 127,
   "id": "2202b780",
   "metadata": {},
   "outputs": [
    {
     "data": {
      "text/plain": [
       "Index(['sku', 'is_in_stock', 'name', 'price', 'special_price',\n",
       "       'short_description', 'free_colors', 'description', 'Width', 'Height',\n",
       "       'Length', 'mgs_brand', 'base_image', 'url_key', 'visibility',\n",
       "       'tax_class_name', 'manufacturer', 'news_from_date', 'news_to_date',\n",
       "       'additional_images ', 'link_url', 'categories1', 'categories2',\n",
       "       'categories3', 'estimated_delivery_enable', 'allow_backorders',\n",
       "       'out_of_stock_qty', 'qty', 'product_online', 'raw_materials',\n",
       "       'small_image', 'swatch_image', 'thumbnail_image', 'attribute_set_code',\n",
       "       'product_websites', 'product_type', 'supplier', 'store_view_code'],\n",
       "      dtype='object')"
      ]
     },
     "execution_count": 127,
     "metadata": {},
     "output_type": "execute_result"
    }
   ],
   "source": [
    "toto_df = pd.read_excel('update_rugaib_newProducts_07_07_2021-v6.xlsx')\n",
    "toto_df.columns"
   ]
  },
  {
   "cell_type": "code",
   "execution_count": 129,
   "id": "11d73c0c",
   "metadata": {},
   "outputs": [],
   "source": [
    "toto_df.to_excel('update_rugaib_newProducts_07_07_2021-v6.xlsx')"
   ]
  },
  {
   "cell_type": "code",
   "execution_count": 123,
   "id": "31a0f3c9",
   "metadata": {},
   "outputs": [],
   "source": [
    "toto_df['special_price'] = toto_df['special_price'].str.replace(',', '')"
   ]
  },
  {
   "cell_type": "code",
   "execution_count": 119,
   "id": "2e631653",
   "metadata": {},
   "outputs": [],
   "source": [
    "toto_df['url_key']  = toto_df['url_key'].str.replace(\"،\", '-')"
   ]
  },
  {
   "cell_type": "code",
   "execution_count": 120,
   "id": "baed1d54",
   "metadata": {},
   "outputs": [
    {
     "data": {
      "text/plain": [
       "0                 ROG-6201-85001-MULTIMax Console Table\n",
       "1                            ROG-CVTOP2881Mother nature\n",
       "2       ROG-CVTOP264232 X 32 X 1.5-- TEMPERED GLASS ART\n",
       "3                                    ROG-CVTOP2712GLITZ\n",
       "4                        ROG-04129-UTTAustin Chalkboard\n",
       "                             ...                       \n",
       "2690        ROG-50327مصباح طاولة 30 بوصة - شفاف - رمادي\n",
       "2691                  ROG-29342-1-UTTLoredo Buffet Lamp\n",
       "2692               ROG-29199-1-UTTمصباح بوفيت بوردولانو\n",
       "2693                   ROG-27261-UTTKATERINI TABLE LAMP\n",
       "2694          ROG-ALR24498-CD-UTTFRANZEA 4 DOOR CONSOLE\n",
       "Name: url_key, Length: 2695, dtype: object"
      ]
     },
     "execution_count": 120,
     "metadata": {},
     "output_type": "execute_result"
    }
   ],
   "source": [
    "toto_df['url_key']"
   ]
  },
  {
   "cell_type": "code",
   "execution_count": 86,
   "id": "cf479c18",
   "metadata": {},
   "outputs": [
    {
     "data": {
      "text/plain": [
       "0       ROG\n",
       "1       ROG\n",
       "2       ROG\n",
       "3       ROG\n",
       "4       ROG\n",
       "       ... \n",
       "2690    ROG\n",
       "2691    ROG\n",
       "2692    ROG\n",
       "2693    ROG\n",
       "2694    ROG\n",
       "Name: supplier, Length: 2695, dtype: object"
      ]
     },
     "execution_count": 86,
     "metadata": {},
     "output_type": "execute_result"
    }
   ],
   "source": [
    "toto_df.loc[toto_df['Width'] == 0, 'Width'] = ''"
   ]
  },
  {
   "cell_type": "code",
   "execution_count": 128,
   "id": "2a5095ac",
   "metadata": {},
   "outputs": [],
   "source": [
    "toto_df['name'] = toto_df['name'].str.replace(', ', '-')\n",
    "toto_df['name'] = df['name'].str.replace('/', '-')\n",
    "toto_df['name'] = toto_df['name'].str.replace('\"', '-')\n",
    "toto_df['name'] = toto_df['name'].str.replace(\"''\", '-')\n",
    "toto_df['name'] = toto_df['name'].str.replace('%', '-')\n",
    "toto_df['name'] = toto_df['name'].str.replace('+', '-', regex=False)"
   ]
  },
  {
   "cell_type": "code",
   "execution_count": null,
   "id": "6cbe4035",
   "metadata": {},
   "outputs": [],
   "source": []
  },
  {
   "cell_type": "code",
   "execution_count": null,
   "id": "d060cbe4",
   "metadata": {},
   "outputs": [],
   "source": []
  },
  {
   "cell_type": "code",
   "execution_count": null,
   "id": "125659d5",
   "metadata": {},
   "outputs": [],
   "source": []
  },
  {
   "cell_type": "code",
   "execution_count": null,
   "id": "6f4db61f",
   "metadata": {},
   "outputs": [],
   "source": []
  },
  {
   "cell_type": "code",
   "execution_count": 399,
   "id": "f033e5ff",
   "metadata": {},
   "outputs": [
    {
     "data": {
      "text/plain": [
       "0"
      ]
     },
     "execution_count": 399,
     "metadata": {},
     "output_type": "execute_result"
    }
   ],
   "source": [
    "df_light.duplicated(subset=['sku']).sum()"
   ]
  },
  {
   "cell_type": "code",
   "execution_count": null,
   "id": "0f9b5b0f",
   "metadata": {},
   "outputs": [],
   "source": []
  },
  {
   "cell_type": "code",
   "execution_count": 398,
   "id": "7f4215e5",
   "metadata": {},
   "outputs": [],
   "source": [
    "df_light.drop_duplicates(subset=['sku'], inplace=True)"
   ]
  },
  {
   "cell_type": "code",
   "execution_count": 401,
   "id": "55e5b058",
   "metadata": {},
   "outputs": [],
   "source": [
    "df_light.to_excel('all_lighting_update1.xlsx', index=False)"
   ]
  },
  {
   "cell_type": "code",
   "execution_count": null,
   "id": "4b5b1372",
   "metadata": {},
   "outputs": [],
   "source": []
  },
  {
   "cell_type": "code",
   "execution_count": 150,
   "id": "d4b910e7",
   "metadata": {},
   "outputs": [],
   "source": [
    "df_ashl = pd.read_excel('/home/wafistos/Documents/Projects/scaping_wafi/Ashley/ashly-test2.xlsx')\n",
    "df_ashl1 = pd.read_excel('/home/wafistos/Documents/Projects/scaping_wafi/Ashley/ashly-test3.xlsx')\n",
    "df_ashl2 = pd.read_excel('/home/wafistos/Documents/Projects/scaping_wafi/Ashley/ashly-test4.xlsx')"
   ]
  },
  {
   "cell_type": "code",
   "execution_count": 151,
   "id": "10a69868",
   "metadata": {},
   "outputs": [],
   "source": [
    "df_ashl1['sku'] = df_ashl1['sku'].str.replace('AFHS', 'ASH-AFHS')"
   ]
  },
  {
   "cell_type": "code",
   "execution_count": 157,
   "id": "0c194df8",
   "metadata": {},
   "outputs": [],
   "source": [
    "df_ashl['sku'] = df_ashl['sku'].str.replace('AFHS', 'ASH-AFHS')"
   ]
  },
  {
   "cell_type": "code",
   "execution_count": null,
   "id": "179e3a61",
   "metadata": {},
   "outputs": [],
   "source": [
    "df_ashl2['sku'] = df_ashl2['sku'].str.replace('AFHS', 'ASH-AFHS')"
   ]
  },
  {
   "cell_type": "code",
   "execution_count": 158,
   "id": "2fc2a95a",
   "metadata": {},
   "outputs": [],
   "source": [
    "df_ashl5 = pd.concat([df_ashl, df_ashl1], ignore_index=True)"
   ]
  },
  {
   "cell_type": "code",
   "execution_count": 159,
   "id": "391ba0c6",
   "metadata": {},
   "outputs": [],
   "source": [
    "df_ashl5 = pd.concat([df_ashl5, df_ashl2], ignore_index=True)"
   ]
  },
  {
   "cell_type": "code",
   "execution_count": 160,
   "id": "a51ed6de",
   "metadata": {},
   "outputs": [
    {
     "data": {
      "text/plain": [
       "(1450, 24)"
      ]
     },
     "execution_count": 160,
     "metadata": {},
     "output_type": "execute_result"
    }
   ],
   "source": [
    "df_ashl5.shape"
   ]
  },
  {
   "cell_type": "code",
   "execution_count": 161,
   "id": "151ebbe6",
   "metadata": {},
   "outputs": [
    {
     "data": {
      "text/plain": [
       "0        ASH-AFHS-7500008\n",
       "1        ASH-AFHS-7500408\n",
       "2        ASH-AFHS-7500708\n",
       "3       ASH-AFHS-1485240K\n",
       "4        ASH-AFHS-5160215\n",
       "              ...        \n",
       "1445    ASH-AFHS-1461773K\n",
       "1446    ASH-AFHS-1461750K\n",
       "1447    ASH-AFHS-1461745K\n",
       "1448    ASH-AFHS-1461743K\n",
       "1449    ASH-AFHS-1461736K\n",
       "Name: sku, Length: 1450, dtype: object"
      ]
     },
     "execution_count": 161,
     "metadata": {},
     "output_type": "execute_result"
    }
   ],
   "source": [
    "df_ashl5['sku']"
   ]
  },
  {
   "cell_type": "code",
   "execution_count": 162,
   "id": "4b0bf357",
   "metadata": {},
   "outputs": [],
   "source": [
    "df_ashl5.to_excel('update_living_room_ashly.xlsx')"
   ]
  },
  {
   "cell_type": "code",
   "execution_count": null,
   "id": "780b113f",
   "metadata": {},
   "outputs": [],
   "source": []
  },
  {
   "cell_type": "code",
   "execution_count": null,
   "id": "877ce5a7",
   "metadata": {},
   "outputs": [],
   "source": []
  },
  {
   "cell_type": "code",
   "execution_count": null,
   "id": "f08af286",
   "metadata": {},
   "outputs": [],
   "source": []
  },
  {
   "cell_type": "code",
   "execution_count": null,
   "id": "8fde9ee5",
   "metadata": {},
   "outputs": [],
   "source": []
  },
  {
   "cell_type": "code",
   "execution_count": null,
   "id": "2776df40",
   "metadata": {},
   "outputs": [],
   "source": []
  },
  {
   "cell_type": "code",
   "execution_count": null,
   "id": "62993347",
   "metadata": {},
   "outputs": [],
   "source": []
  },
  {
   "cell_type": "code",
   "execution_count": null,
   "id": "89afc37e",
   "metadata": {},
   "outputs": [],
   "source": []
  },
  {
   "cell_type": "code",
   "execution_count": 331,
   "id": "ff37df22",
   "metadata": {},
   "outputs": [],
   "source": [
    "df_bed =  df_bed[:3] + df_bed[5:6] + df_bed[4:5] + df_bed[6:]"
   ]
  },
  {
   "cell_type": "code",
   "execution_count": null,
   "id": "0d275ca4",
   "metadata": {},
   "outputs": [],
   "source": []
  },
  {
   "cell_type": "code",
   "execution_count": 373,
   "id": "2041aab8",
   "metadata": {},
   "outputs": [
    {
     "data": {
      "text/plain": [
       "(906, 32)"
      ]
     },
     "execution_count": 373,
     "metadata": {},
     "output_type": "execute_result"
    }
   ],
   "source": [
    "df_ding = pd.read_excel('all_dining_room_update1.xlsx')\n",
    "df_ding.shape"
   ]
  },
  {
   "cell_type": "code",
   "execution_count": 370,
   "id": "94764573",
   "metadata": {},
   "outputs": [
    {
     "data": {
      "text/plain": [
       "0"
      ]
     },
     "execution_count": 370,
     "metadata": {},
     "output_type": "execute_result"
    }
   ],
   "source": [
    "df_ding.duplicated(subset=['sku']).sum()"
   ]
  },
  {
   "cell_type": "code",
   "execution_count": 369,
   "id": "fdc19c63",
   "metadata": {},
   "outputs": [],
   "source": [
    "df_ding.drop_duplicates(subset=['sku'], inplace=True)"
   ]
  },
  {
   "cell_type": "code",
   "execution_count": 371,
   "id": "55f38013",
   "metadata": {},
   "outputs": [
    {
     "data": {
      "text/plain": [
       "(906, 31)"
      ]
     },
     "execution_count": 371,
     "metadata": {},
     "output_type": "execute_result"
    }
   ],
   "source": [
    "df_ding.shape"
   ]
  },
  {
   "cell_type": "code",
   "execution_count": 372,
   "id": "02e0c426",
   "metadata": {},
   "outputs": [],
   "source": [
    "df_ding.to_excel('all_dining_room_update1.xlsx', index=False)"
   ]
  },
  {
   "cell_type": "code",
   "execution_count": 357,
   "id": "1fa856b4",
   "metadata": {},
   "outputs": [
    {
     "data": {
      "text/plain": [
       "Index(['sku', 'is_in_stock', 'name', 'price', 'special_price', 'free_colors',\n",
       "       'short_description', 'ts_dimensions_width', 'ts_dimensions_height',\n",
       "       'ts_dimensions_length', 'mgs_brand', 'Images1', 'url_key', 'visibility',\n",
       "       'tax_class_name', 'manufacturer', 'news_from_date', 'news_to_date',\n",
       "       'Images2', 'link_url', 'categories1', 'categories2', 'categories3',\n",
       "       'estimated_delivery_enable', 'estimated_delivery_text', 'raw_materials',\n",
       "       'qty', 'product_online', 'allow_backorders', 'out_of_stock_qty'],\n",
       "      dtype='object')"
      ]
     },
     "execution_count": 357,
     "metadata": {},
     "output_type": "execute_result"
    }
   ],
   "source": [
    "df_bed.columns"
   ]
  },
  {
   "cell_type": "code",
   "execution_count": null,
   "id": "acecc104",
   "metadata": {},
   "outputs": [],
   "source": []
  },
  {
   "cell_type": "code",
   "execution_count": null,
   "id": "30d7cb02",
   "metadata": {},
   "outputs": [],
   "source": []
  },
  {
   "cell_type": "code",
   "execution_count": null,
   "id": "19085eae",
   "metadata": {},
   "outputs": [],
   "source": []
  },
  {
   "cell_type": "code",
   "execution_count": 316,
   "id": "fa2c135c",
   "metadata": {},
   "outputs": [
    {
     "data": {
      "text/plain": [
       "(2684, 30)"
      ]
     },
     "execution_count": 316,
     "metadata": {},
     "output_type": "execute_result"
    }
   ],
   "source": [
    "df_acc.shape"
   ]
  },
  {
   "cell_type": "code",
   "execution_count": null,
   "id": "86303bca",
   "metadata": {},
   "outputs": [],
   "source": []
  },
  {
   "cell_type": "code",
   "execution_count": null,
   "id": "fe245bce",
   "metadata": {},
   "outputs": [],
   "source": []
  },
  {
   "cell_type": "code",
   "execution_count": 182,
   "id": "7ca0a3ae",
   "metadata": {},
   "outputs": [
    {
     "data": {
      "text/plain": [
       "Index(['sku', 'is_in_stock', 'name', 'price', 'special_price',\n",
       "       'short_description', 'free_colors', 'Width', 'Height', 'Length',\n",
       "       'mgs_brand', 'Images1', 'url_key', 'visibility', 'tax_class_name',\n",
       "       'manufacturer', 'news_from_date', 'news_to_date', 'Images2', 'link_url',\n",
       "       'categories1', 'categories2', 'categories3',\n",
       "       'estimated_delivery_enable', 'estimated_delivery_text', 'raw_materials',\n",
       "       'allow_backorders', 'out_of_stock_qty', 'qty', 'product_online'],\n",
       "      dtype='object')"
      ]
     },
     "execution_count": 182,
     "metadata": {},
     "output_type": "execute_result"
    }
   ],
   "source": [
    "df.columns"
   ]
  },
  {
   "cell_type": "code",
   "execution_count": null,
   "id": "6ddab8a5",
   "metadata": {},
   "outputs": [],
   "source": []
  },
  {
   "cell_type": "code",
   "execution_count": null,
   "id": "3825e9ae",
   "metadata": {},
   "outputs": [],
   "source": []
  },
  {
   "cell_type": "code",
   "execution_count": 267,
   "id": "7d7de721",
   "metadata": {},
   "outputs": [
    {
     "data": {
      "text/plain": [
       "(40, 30)"
      ]
     },
     "execution_count": 267,
     "metadata": {},
     "output_type": "execute_result"
    }
   ],
   "source": [
    "df.shape"
   ]
  },
  {
   "cell_type": "code",
   "execution_count": null,
   "id": "32e5f207",
   "metadata": {},
   "outputs": [],
   "source": []
  },
  {
   "cell_type": "code",
   "execution_count": null,
   "id": "b1cbf285",
   "metadata": {},
   "outputs": [],
   "source": []
  },
  {
   "cell_type": "code",
   "execution_count": null,
   "id": "7f18a749",
   "metadata": {},
   "outputs": [],
   "source": []
  },
  {
   "cell_type": "code",
   "execution_count": null,
   "id": "45b88a6d",
   "metadata": {},
   "outputs": [],
   "source": [
    "df.rename(columns = d, inplace = False)"
   ]
  },
  {
   "cell_type": "code",
   "execution_count": 34,
   "id": "01f903dd",
   "metadata": {},
   "outputs": [],
   "source": [
    "df.rename(columns = {'collection': 'mgs_brand'} ,inplace = True)"
   ]
  },
  {
   "cell_type": "code",
   "execution_count": 305,
   "id": "47e00297",
   "metadata": {},
   "outputs": [],
   "source": [
    "df_update.rename(columns={'free_colors': 'short_description', 'short_description': 'free_colors'}, inplace=True)"
   ]
  },
  {
   "cell_type": "code",
   "execution_count": null,
   "id": "0103916f",
   "metadata": {},
   "outputs": [],
   "source": []
  },
  {
   "cell_type": "code",
   "execution_count": 306,
   "id": "19eeebaa",
   "metadata": {},
   "outputs": [
    {
     "data": {
      "text/html": [
       "<div>\n",
       "<style scoped>\n",
       "    .dataframe tbody tr th:only-of-type {\n",
       "        vertical-align: middle;\n",
       "    }\n",
       "\n",
       "    .dataframe tbody tr th {\n",
       "        vertical-align: top;\n",
       "    }\n",
       "\n",
       "    .dataframe thead th {\n",
       "        text-align: right;\n",
       "    }\n",
       "</style>\n",
       "<table border=\"1\" class=\"dataframe\">\n",
       "  <thead>\n",
       "    <tr style=\"text-align: right;\">\n",
       "      <th></th>\n",
       "      <th>sku</th>\n",
       "      <th>is_in_stock</th>\n",
       "      <th>name</th>\n",
       "      <th>price</th>\n",
       "      <th>special_price</th>\n",
       "      <th>short_description</th>\n",
       "      <th>free_colors</th>\n",
       "      <th>Width</th>\n",
       "      <th>Height</th>\n",
       "      <th>Length</th>\n",
       "      <th>...</th>\n",
       "      <th>categories1</th>\n",
       "      <th>categories2</th>\n",
       "      <th>categories3</th>\n",
       "      <th>estimated_delivery_enable</th>\n",
       "      <th>estimated_delivery_text</th>\n",
       "      <th>raw_materials</th>\n",
       "      <th>allow_backorders</th>\n",
       "      <th>out_of_stock_qty</th>\n",
       "      <th>qty</th>\n",
       "      <th>product_online</th>\n",
       "    </tr>\n",
       "  </thead>\n",
       "  <tbody>\n",
       "    <tr>\n",
       "      <th>0</th>\n",
       "      <td>RAG-CVAER994</td>\n",
       "      <td>1</td>\n",
       "      <td>LAMP TABLE</td>\n",
       "      <td>569.25</td>\n",
       "      <td>NaN</td>\n",
       "      <td>NaN</td>\n",
       "      <td>__EMPTY__VALUE__</td>\n",
       "      <td>0</td>\n",
       "      <td>0</td>\n",
       "      <td>0</td>\n",
       "      <td>...</td>\n",
       "      <td>المنزل</td>\n",
       "      <td>عرض الكل</td>\n",
       "      <td>NaN</td>\n",
       "      <td>Static Text</td>\n",
       "      <td>الوقت المقدر لشحن هذا المنتج أسبوعين</td>\n",
       "      <td>__EMPTY__VALUE__</td>\n",
       "      <td>1</td>\n",
       "      <td>-5</td>\n",
       "      <td>0</td>\n",
       "      <td>1</td>\n",
       "    </tr>\n",
       "    <tr>\n",
       "      <th>1</th>\n",
       "      <td>RAG-CVABS382R</td>\n",
       "      <td>1</td>\n",
       "      <td>CRYSTAL LAMP</td>\n",
       "      <td>874.00</td>\n",
       "      <td>NaN</td>\n",
       "      <td>NaN</td>\n",
       "      <td>__EMPTY__VALUE__</td>\n",
       "      <td>0</td>\n",
       "      <td>0</td>\n",
       "      <td>0</td>\n",
       "      <td>...</td>\n",
       "      <td>المنزل</td>\n",
       "      <td>عرض الكل</td>\n",
       "      <td>NaN</td>\n",
       "      <td>Static Text</td>\n",
       "      <td>الوقت المقدر لشحن هذا المنتج أسبوعين</td>\n",
       "      <td>__EMPTY__VALUE__</td>\n",
       "      <td>1</td>\n",
       "      <td>-5</td>\n",
       "      <td>0</td>\n",
       "      <td>1</td>\n",
       "    </tr>\n",
       "    <tr>\n",
       "      <th>2</th>\n",
       "      <td>RAG-CVAVP1083</td>\n",
       "      <td>1</td>\n",
       "      <td>Potted Artichoke Table Lamp</td>\n",
       "      <td>168.19</td>\n",
       "      <td>224.25</td>\n",
       "      <td>NaN</td>\n",
       "      <td>__EMPTY__VALUE__</td>\n",
       "      <td>0</td>\n",
       "      <td>0</td>\n",
       "      <td>0</td>\n",
       "      <td>...</td>\n",
       "      <td>المنزل</td>\n",
       "      <td>عرض الكل</td>\n",
       "      <td>NaN</td>\n",
       "      <td>Static Text</td>\n",
       "      <td>الوقت المقدر لشحن هذا المنتج أسبوعين</td>\n",
       "      <td>__EMPTY__VALUE__</td>\n",
       "      <td>1</td>\n",
       "      <td>-5</td>\n",
       "      <td>0</td>\n",
       "      <td>1</td>\n",
       "    </tr>\n",
       "    <tr>\n",
       "      <th>3</th>\n",
       "      <td>RAG-CVAER315</td>\n",
       "      <td>1</td>\n",
       "      <td>مصباح طاولة أزتيكا 27 بوصة إتش تي</td>\n",
       "      <td>437.00</td>\n",
       "      <td>NaN</td>\n",
       "      <td>NaN</td>\n",
       "      <td>__EMPTY__VALUE__</td>\n",
       "      <td>0</td>\n",
       "      <td>0</td>\n",
       "      <td>0</td>\n",
       "      <td>...</td>\n",
       "      <td>المنزل</td>\n",
       "      <td>عرض الكل</td>\n",
       "      <td>NaN</td>\n",
       "      <td>Static Text</td>\n",
       "      <td>الوقت المقدر لشحن هذا المنتج أسبوعين</td>\n",
       "      <td>__EMPTY__VALUE__</td>\n",
       "      <td>1</td>\n",
       "      <td>-5</td>\n",
       "      <td>0</td>\n",
       "      <td>1</td>\n",
       "    </tr>\n",
       "    <tr>\n",
       "      <th>4</th>\n",
       "      <td>RAG-CVAER762</td>\n",
       "      <td>1</td>\n",
       "      <td>مصباح الطاولة</td>\n",
       "      <td>434.99</td>\n",
       "      <td>511.75</td>\n",
       "      <td>NaN</td>\n",
       "      <td>__EMPTY__VALUE__</td>\n",
       "      <td>0</td>\n",
       "      <td>0</td>\n",
       "      <td>0</td>\n",
       "      <td>...</td>\n",
       "      <td>المنزل</td>\n",
       "      <td>عرض الكل</td>\n",
       "      <td>NaN</td>\n",
       "      <td>Static Text</td>\n",
       "      <td>الوقت المقدر لشحن هذا المنتج أسبوعين</td>\n",
       "      <td>__EMPTY__VALUE__</td>\n",
       "      <td>1</td>\n",
       "      <td>-5</td>\n",
       "      <td>0</td>\n",
       "      <td>1</td>\n",
       "    </tr>\n",
       "    <tr>\n",
       "      <th>...</th>\n",
       "      <td>...</td>\n",
       "      <td>...</td>\n",
       "      <td>...</td>\n",
       "      <td>...</td>\n",
       "      <td>...</td>\n",
       "      <td>...</td>\n",
       "      <td>...</td>\n",
       "      <td>...</td>\n",
       "      <td>...</td>\n",
       "      <td>...</td>\n",
       "      <td>...</td>\n",
       "      <td>...</td>\n",
       "      <td>...</td>\n",
       "      <td>...</td>\n",
       "      <td>...</td>\n",
       "      <td>...</td>\n",
       "      <td>...</td>\n",
       "      <td>...</td>\n",
       "      <td>...</td>\n",
       "      <td>...</td>\n",
       "      <td>...</td>\n",
       "    </tr>\n",
       "    <tr>\n",
       "      <th>834</th>\n",
       "      <td>RAG-21268-UTT</td>\n",
       "      <td>1</td>\n",
       "      <td>تمورث ، 5 لتر ثريا</td>\n",
       "      <td>4755.25</td>\n",
       "      <td>NaN</td>\n",
       "      <td>تشطيب أوراق الشمبانيا الفضية المصقولة مع لمسات...</td>\n",
       "      <td>__EMPTY__VALUE__</td>\n",
       "      <td>NaN</td>\n",
       "      <td>NaN</td>\n",
       "      <td>NaN</td>\n",
       "      <td>...</td>\n",
       "      <td>المنزل</td>\n",
       "      <td>عرض الكل</td>\n",
       "      <td>NaN</td>\n",
       "      <td>Static Text</td>\n",
       "      <td>الوقت المقدر لشحن هذا المنتج أسبوعين</td>\n",
       "      <td>__EMPTY__VALUE__</td>\n",
       "      <td>1</td>\n",
       "      <td>-5</td>\n",
       "      <td>0</td>\n",
       "      <td>1</td>\n",
       "    </tr>\n",
       "    <tr>\n",
       "      <th>835</th>\n",
       "      <td>RAG-22138-UTT</td>\n",
       "      <td>1</td>\n",
       "      <td>ILONA, 1 LT PENDANT</td>\n",
       "      <td>1247.75</td>\n",
       "      <td>NaN</td>\n",
       "      <td>Clear seeded glass teardrop pendant with brush...</td>\n",
       "      <td>__EMPTY__VALUE__</td>\n",
       "      <td>0</td>\n",
       "      <td>48.26</td>\n",
       "      <td>NaN</td>\n",
       "      <td>...</td>\n",
       "      <td>المنزل</td>\n",
       "      <td>عرض الكل</td>\n",
       "      <td>NaN</td>\n",
       "      <td>Static Text</td>\n",
       "      <td>الوقت المقدر لشحن هذا المنتج أسبوعين</td>\n",
       "      <td>__EMPTY__VALUE__</td>\n",
       "      <td>1</td>\n",
       "      <td>-5</td>\n",
       "      <td>0</td>\n",
       "      <td>1</td>\n",
       "    </tr>\n",
       "    <tr>\n",
       "      <th>836</th>\n",
       "      <td>RAG-22158-UTT</td>\n",
       "      <td>1</td>\n",
       "      <td>ELM, 3 LT OUTDOOR PENDANT</td>\n",
       "      <td>1903.25</td>\n",
       "      <td>NaN</td>\n",
       "      <td>Highly styled 3 Lt. OUTDOOR pendant with ETL w...</td>\n",
       "      <td>__EMPTY__VALUE__</td>\n",
       "      <td>0</td>\n",
       "      <td>25.40</td>\n",
       "      <td>NaN</td>\n",
       "      <td>...</td>\n",
       "      <td>المنزل</td>\n",
       "      <td>عرض الكل</td>\n",
       "      <td>NaN</td>\n",
       "      <td>Static Text</td>\n",
       "      <td>الوقت المقدر لشحن هذا المنتج أسبوعين</td>\n",
       "      <td>__EMPTY__VALUE__</td>\n",
       "      <td>1</td>\n",
       "      <td>-5</td>\n",
       "      <td>0</td>\n",
       "      <td>1</td>\n",
       "    </tr>\n",
       "    <tr>\n",
       "      <th>837</th>\n",
       "      <td>RAG-R22076-UTT</td>\n",
       "      <td>1</td>\n",
       "      <td>FOLIA, 3 LT MINI PENDANT</td>\n",
       "      <td>1661.75</td>\n",
       "      <td>NaN</td>\n",
       "      <td>This leafy mini pendant features a warm antiqu...</td>\n",
       "      <td>__EMPTY__VALUE__</td>\n",
       "      <td>0</td>\n",
       "      <td>45.72</td>\n",
       "      <td>NaN</td>\n",
       "      <td>...</td>\n",
       "      <td>المنزل</td>\n",
       "      <td>عرض الكل</td>\n",
       "      <td>NaN</td>\n",
       "      <td>Static Text</td>\n",
       "      <td>الوقت المقدر لشحن هذا المنتج أسبوعين</td>\n",
       "      <td>__EMPTY__VALUE__</td>\n",
       "      <td>1</td>\n",
       "      <td>-5</td>\n",
       "      <td>0</td>\n",
       "      <td>1</td>\n",
       "    </tr>\n",
       "    <tr>\n",
       "      <th>838</th>\n",
       "      <td>RAG-R21277-UTT</td>\n",
       "      <td>1</td>\n",
       "      <td>ريديو ، ثريا 8 لتر</td>\n",
       "      <td>3754.75</td>\n",
       "      <td>NaN</td>\n",
       "      <td>اللف الناعم من الخيوط المعدنية يعطي شعوراً بال...</td>\n",
       "      <td>__EMPTY__VALUE__</td>\n",
       "      <td>NaN</td>\n",
       "      <td>NaN</td>\n",
       "      <td>NaN</td>\n",
       "      <td>...</td>\n",
       "      <td>المنزل</td>\n",
       "      <td>عرض الكل</td>\n",
       "      <td>NaN</td>\n",
       "      <td>Static Text</td>\n",
       "      <td>الوقت المقدر لشحن هذا المنتج أسبوعين</td>\n",
       "      <td>__EMPTY__VALUE__</td>\n",
       "      <td>1</td>\n",
       "      <td>-5</td>\n",
       "      <td>0</td>\n",
       "      <td>1</td>\n",
       "    </tr>\n",
       "  </tbody>\n",
       "</table>\n",
       "<p>839 rows × 30 columns</p>\n",
       "</div>"
      ],
      "text/plain": [
       "                sku  is_in_stock                               name    price  \\\n",
       "0      RAG-CVAER994            1                         LAMP TABLE   569.25   \n",
       "1     RAG-CVABS382R            1                       CRYSTAL LAMP   874.00   \n",
       "2     RAG-CVAVP1083            1        Potted Artichoke Table Lamp   168.19   \n",
       "3      RAG-CVAER315            1  مصباح طاولة أزتيكا 27 بوصة إتش تي   437.00   \n",
       "4      RAG-CVAER762            1                      مصباح الطاولة   434.99   \n",
       "..              ...          ...                                ...      ...   \n",
       "834   RAG-21268-UTT            1                 تمورث ، 5 لتر ثريا  4755.25   \n",
       "835   RAG-22138-UTT            1                ILONA, 1 LT PENDANT  1247.75   \n",
       "836   RAG-22158-UTT            1          ELM, 3 LT OUTDOOR PENDANT  1903.25   \n",
       "837  RAG-R22076-UTT            1           FOLIA, 3 LT MINI PENDANT  1661.75   \n",
       "838  RAG-R21277-UTT            1                 ريديو ، ثريا 8 لتر  3754.75   \n",
       "\n",
       "     special_price                                  short_description  \\\n",
       "0              NaN                                                NaN   \n",
       "1              NaN                                                NaN   \n",
       "2           224.25                                                NaN   \n",
       "3              NaN                                                NaN   \n",
       "4           511.75                                                NaN   \n",
       "..             ...                                                ...   \n",
       "834            NaN  تشطيب أوراق الشمبانيا الفضية المصقولة مع لمسات...   \n",
       "835            NaN  Clear seeded glass teardrop pendant with brush...   \n",
       "836            NaN  Highly styled 3 Lt. OUTDOOR pendant with ETL w...   \n",
       "837            NaN  This leafy mini pendant features a warm antiqu...   \n",
       "838            NaN  اللف الناعم من الخيوط المعدنية يعطي شعوراً بال...   \n",
       "\n",
       "          free_colors Width Height Length  ... categories1 categories2  \\\n",
       "0    __EMPTY__VALUE__     0      0      0  ...      المنزل    عرض الكل   \n",
       "1    __EMPTY__VALUE__     0      0      0  ...      المنزل    عرض الكل   \n",
       "2    __EMPTY__VALUE__     0      0      0  ...      المنزل    عرض الكل   \n",
       "3    __EMPTY__VALUE__     0      0      0  ...      المنزل    عرض الكل   \n",
       "4    __EMPTY__VALUE__     0      0      0  ...      المنزل    عرض الكل   \n",
       "..                ...   ...    ...    ...  ...         ...         ...   \n",
       "834  __EMPTY__VALUE__   NaN    NaN    NaN  ...      المنزل    عرض الكل   \n",
       "835  __EMPTY__VALUE__     0  48.26    NaN  ...      المنزل    عرض الكل   \n",
       "836  __EMPTY__VALUE__     0  25.40    NaN  ...      المنزل    عرض الكل   \n",
       "837  __EMPTY__VALUE__     0  45.72    NaN  ...      المنزل    عرض الكل   \n",
       "838  __EMPTY__VALUE__   NaN    NaN    NaN  ...      المنزل    عرض الكل   \n",
       "\n",
       "    categories3 estimated_delivery_enable  \\\n",
       "0           NaN               Static Text   \n",
       "1           NaN               Static Text   \n",
       "2           NaN               Static Text   \n",
       "3           NaN               Static Text   \n",
       "4           NaN               Static Text   \n",
       "..          ...                       ...   \n",
       "834         NaN               Static Text   \n",
       "835         NaN               Static Text   \n",
       "836         NaN               Static Text   \n",
       "837         NaN               Static Text   \n",
       "838         NaN               Static Text   \n",
       "\n",
       "                  estimated_delivery_text     raw_materials allow_backorders  \\\n",
       "0    الوقت المقدر لشحن هذا المنتج أسبوعين  __EMPTY__VALUE__                1   \n",
       "1    الوقت المقدر لشحن هذا المنتج أسبوعين  __EMPTY__VALUE__                1   \n",
       "2    الوقت المقدر لشحن هذا المنتج أسبوعين  __EMPTY__VALUE__                1   \n",
       "3    الوقت المقدر لشحن هذا المنتج أسبوعين  __EMPTY__VALUE__                1   \n",
       "4    الوقت المقدر لشحن هذا المنتج أسبوعين  __EMPTY__VALUE__                1   \n",
       "..                                    ...               ...              ...   \n",
       "834  الوقت المقدر لشحن هذا المنتج أسبوعين  __EMPTY__VALUE__                1   \n",
       "835  الوقت المقدر لشحن هذا المنتج أسبوعين  __EMPTY__VALUE__                1   \n",
       "836  الوقت المقدر لشحن هذا المنتج أسبوعين  __EMPTY__VALUE__                1   \n",
       "837  الوقت المقدر لشحن هذا المنتج أسبوعين  __EMPTY__VALUE__                1   \n",
       "838  الوقت المقدر لشحن هذا المنتج أسبوعين  __EMPTY__VALUE__                1   \n",
       "\n",
       "    out_of_stock_qty qty product_online  \n",
       "0                 -5   0              1  \n",
       "1                 -5   0              1  \n",
       "2                 -5   0              1  \n",
       "3                 -5   0              1  \n",
       "4                 -5   0              1  \n",
       "..               ...  ..            ...  \n",
       "834               -5   0              1  \n",
       "835               -5   0              1  \n",
       "836               -5   0              1  \n",
       "837               -5   0              1  \n",
       "838               -5   0              1  \n",
       "\n",
       "[839 rows x 30 columns]"
      ]
     },
     "execution_count": 306,
     "metadata": {},
     "output_type": "execute_result"
    }
   ],
   "source": [
    "df_update"
   ]
  },
  {
   "cell_type": "code",
   "execution_count": null,
   "id": "5c5da363",
   "metadata": {},
   "outputs": [],
   "source": []
  },
  {
   "cell_type": "code",
   "execution_count": null,
   "id": "7115aee0",
   "metadata": {},
   "outputs": [],
   "source": []
  },
  {
   "cell_type": "code",
   "execution_count": null,
   "id": "5cf40e43",
   "metadata": {},
   "outputs": [],
   "source": []
  },
  {
   "cell_type": "code",
   "execution_count": null,
   "id": "9e361ce5",
   "metadata": {},
   "outputs": [],
   "source": []
  },
  {
   "cell_type": "code",
   "execution_count": null,
   "id": "1b1ff38e",
   "metadata": {},
   "outputs": [],
   "source": []
  },
  {
   "cell_type": "code",
   "execution_count": 300,
   "id": "488271ed",
   "metadata": {},
   "outputs": [],
   "source": [
    "df.to_excel('all_dining_room_update.xlsx', index=False)\n"
   ]
  },
  {
   "cell_type": "code",
   "execution_count": null,
   "id": "ab205e6e",
   "metadata": {},
   "outputs": [],
   "source": []
  },
  {
   "cell_type": "code",
   "execution_count": null,
   "id": "b901ca2b",
   "metadata": {},
   "outputs": [],
   "source": []
  },
  {
   "cell_type": "code",
   "execution_count": 301,
   "id": "813cdc3e",
   "metadata": {},
   "outputs": [],
   "source": [
    "df_update = pd.read_excel('all_lighting_update.xlsx')"
   ]
  },
  {
   "cell_type": "code",
   "execution_count": 104,
   "id": "1aaddb79",
   "metadata": {},
   "outputs": [],
   "source": [
    "df_update['url_key'] = df_update['url_key'].str.replace(\"'\", '-')"
   ]
  },
  {
   "cell_type": "code",
   "execution_count": null,
   "id": "daf0a9a1",
   "metadata": {},
   "outputs": [],
   "source": []
  },
  {
   "cell_type": "code",
   "execution_count": 307,
   "id": "48bbb53f",
   "metadata": {},
   "outputs": [],
   "source": [
    "df1 = pd.read_excel('all_accessoires_update4.xlsx')\n",
    "df2= pd.read_excel('all_bedrooms_update.xlsx')\n",
    "df3 = pd.read_excel('all_dining_room_update1.xlsx')\n",
    "df4 = pd.read_excel('all_lighting_update.xlsx')\n",
    "df5 = pd.read_excel('all_living_rooms1.xlsx')\n",
    "df6 = pd.read_excel('all_exclusive-items.xlsx')"
   ]
  },
  {
   "cell_type": "code",
   "execution_count": 308,
   "id": "8f6870de",
   "metadata": {},
   "outputs": [],
   "source": [
    "df_update = pd.concat([df1, df2], ignore_index=True)\n",
    "df_update = pd.concat([df_update, df3], ignore_index=True)\n",
    "df_update = pd.concat([df_update, df4], ignore_index=True)\n",
    "df_update = pd.concat([df_update, df5], ignore_index=True)\n",
    "df_update = pd.concat([df_update, df6], ignore_index=True)\n"
   ]
  },
  {
   "cell_type": "code",
   "execution_count": 309,
   "id": "cf1aa2c7",
   "metadata": {},
   "outputs": [],
   "source": [
    "df_update.to_excel('all_update_06_27_2021_2.xlsx')"
   ]
  },
  {
   "cell_type": "code",
   "execution_count": 312,
   "id": "48b2d03b",
   "metadata": {},
   "outputs": [
    {
     "data": {
      "text/html": [
       "<div>\n",
       "<style scoped>\n",
       "    .dataframe tbody tr th:only-of-type {\n",
       "        vertical-align: middle;\n",
       "    }\n",
       "\n",
       "    .dataframe tbody tr th {\n",
       "        vertical-align: top;\n",
       "    }\n",
       "\n",
       "    .dataframe thead th {\n",
       "        text-align: right;\n",
       "    }\n",
       "</style>\n",
       "<table border=\"1\" class=\"dataframe\">\n",
       "  <thead>\n",
       "    <tr style=\"text-align: right;\">\n",
       "      <th></th>\n",
       "      <th>sku</th>\n",
       "      <th>is_in_stock</th>\n",
       "      <th>name</th>\n",
       "      <th>price</th>\n",
       "      <th>special_price</th>\n",
       "      <th>free_colors</th>\n",
       "      <th>short_description</th>\n",
       "      <th>ts_dimensions_width</th>\n",
       "      <th>ts_dimensions_height</th>\n",
       "      <th>ts_dimensions_length</th>\n",
       "      <th>...</th>\n",
       "      <th>estimated_delivery_enable</th>\n",
       "      <th>estimated_delivery_text</th>\n",
       "      <th>raw_materials</th>\n",
       "      <th>allow_backorders</th>\n",
       "      <th>out_of_stock_qty</th>\n",
       "      <th>qty</th>\n",
       "      <th>product_online</th>\n",
       "      <th>Width</th>\n",
       "      <th>Height</th>\n",
       "      <th>Length</th>\n",
       "    </tr>\n",
       "  </thead>\n",
       "  <tbody>\n",
       "    <tr>\n",
       "      <th>0</th>\n",
       "      <td>RAG-11130-01</td>\n",
       "      <td>1</td>\n",
       "      <td>FLOWER WALL PLAQUE</td>\n",
       "      <td>281.75</td>\n",
       "      <td>NaN</td>\n",
       "      <td>Gold</td>\n",
       "      <td>__EMPTY__VALUE__</td>\n",
       "      <td>39.37</td>\n",
       "      <td>11.43</td>\n",
       "      <td>39.37</td>\n",
       "      <td>...</td>\n",
       "      <td>Static Text</td>\n",
       "      <td>الوقت المقدر لشحن هذا المنتج أسبوعين</td>\n",
       "      <td>__EMPTY__VALUE__</td>\n",
       "      <td>1</td>\n",
       "      <td>-5</td>\n",
       "      <td>0</td>\n",
       "      <td>1</td>\n",
       "      <td>NaN</td>\n",
       "      <td>NaN</td>\n",
       "      <td>NaN</td>\n",
       "    </tr>\n",
       "    <tr>\n",
       "      <th>1</th>\n",
       "      <td>RAG-13007-03</td>\n",
       "      <td>1</td>\n",
       "      <td>زهرة اللوتس الزرقاء</td>\n",
       "      <td>224.25</td>\n",
       "      <td>NaN</td>\n",
       "      <td>أزرق</td>\n",
       "      <td>__EMPTY__VALUE__</td>\n",
       "      <td>NaN</td>\n",
       "      <td>12.06</td>\n",
       "      <td>33.02</td>\n",
       "      <td>...</td>\n",
       "      <td>Static Text</td>\n",
       "      <td>الوقت المقدر لشحن هذا المنتج أسبوعين</td>\n",
       "      <td>__EMPTY__VALUE__</td>\n",
       "      <td>1</td>\n",
       "      <td>-5</td>\n",
       "      <td>0</td>\n",
       "      <td>1</td>\n",
       "      <td>NaN</td>\n",
       "      <td>NaN</td>\n",
       "      <td>NaN</td>\n",
       "    </tr>\n",
       "    <tr>\n",
       "      <th>2</th>\n",
       "      <td>RAG-11131</td>\n",
       "      <td>1</td>\n",
       "      <td>زهرة الجدار الأسود / الذهبي 20 '11131</td>\n",
       "      <td>741.75</td>\n",
       "      <td>NaN</td>\n",
       "      <td>أسود</td>\n",
       "      <td>__EMPTY__VALUE__</td>\n",
       "      <td>NaN</td>\n",
       "      <td>13.97</td>\n",
       "      <td>50.80</td>\n",
       "      <td>...</td>\n",
       "      <td>Static Text</td>\n",
       "      <td>الوقت المقدر لشحن هذا المنتج أسبوعين</td>\n",
       "      <td>__EMPTY__VALUE__</td>\n",
       "      <td>1</td>\n",
       "      <td>-5</td>\n",
       "      <td>0</td>\n",
       "      <td>1</td>\n",
       "      <td>NaN</td>\n",
       "      <td>NaN</td>\n",
       "      <td>NaN</td>\n",
       "    </tr>\n",
       "    <tr>\n",
       "      <th>3</th>\n",
       "      <td>RAG-12040</td>\n",
       "      <td>1</td>\n",
       "      <td>White/Gold Wall Flower 15.5</td>\n",
       "      <td>396.75</td>\n",
       "      <td>NaN</td>\n",
       "      <td>WHITE</td>\n",
       "      <td>__EMPTY__VALUE__</td>\n",
       "      <td>15.5</td>\n",
       "      <td>4.5</td>\n",
       "      <td>15.5</td>\n",
       "      <td>...</td>\n",
       "      <td>Static Text</td>\n",
       "      <td>الوقت المقدر لشحن هذا المنتج أسبوعين</td>\n",
       "      <td>__EMPTY__VALUE__</td>\n",
       "      <td>1</td>\n",
       "      <td>-5</td>\n",
       "      <td>0</td>\n",
       "      <td>1</td>\n",
       "      <td>NaN</td>\n",
       "      <td>NaN</td>\n",
       "      <td>NaN</td>\n",
       "    </tr>\n",
       "    <tr>\n",
       "      <th>4</th>\n",
       "      <td>RAG-A0476285</td>\n",
       "      <td>1</td>\n",
       "      <td>لوحات زيتية بإطار - Ast 4</td>\n",
       "      <td>281.75</td>\n",
       "      <td>NaN</td>\n",
       "      <td>__EMPTY__VALUE__</td>\n",
       "      <td>الفراشات حرة في الطيران: حلق بعيدًا مع هذه الس...</td>\n",
       "      <td>45.09</td>\n",
       "      <td>45.09</td>\n",
       "      <td>0</td>\n",
       "      <td>...</td>\n",
       "      <td>Static Text</td>\n",
       "      <td>الوقت المقدر لشحن هذا المنتج أسبوعين</td>\n",
       "      <td>__EMPTY__VALUE__</td>\n",
       "      <td>1</td>\n",
       "      <td>-5</td>\n",
       "      <td>0</td>\n",
       "      <td>1</td>\n",
       "      <td>NaN</td>\n",
       "      <td>NaN</td>\n",
       "      <td>NaN</td>\n",
       "    </tr>\n",
       "    <tr>\n",
       "      <th>...</th>\n",
       "      <td>...</td>\n",
       "      <td>...</td>\n",
       "      <td>...</td>\n",
       "      <td>...</td>\n",
       "      <td>...</td>\n",
       "      <td>...</td>\n",
       "      <td>...</td>\n",
       "      <td>...</td>\n",
       "      <td>...</td>\n",
       "      <td>...</td>\n",
       "      <td>...</td>\n",
       "      <td>...</td>\n",
       "      <td>...</td>\n",
       "      <td>...</td>\n",
       "      <td>...</td>\n",
       "      <td>...</td>\n",
       "      <td>...</td>\n",
       "      <td>...</td>\n",
       "      <td>...</td>\n",
       "      <td>...</td>\n",
       "      <td>...</td>\n",
       "    </tr>\n",
       "    <tr>\n",
       "      <th>9311</th>\n",
       "      <td>RAG-23426-UTT</td>\n",
       "      <td>1</td>\n",
       "      <td>Tilda Nesting Ottomanss, S/2</td>\n",
       "      <td>1362.75</td>\n",
       "      <td>NaN</td>\n",
       "      <td>__EMPTY__VALUE__</td>\n",
       "      <td>Pull out for extra seating, or tuck away for a...</td>\n",
       "      <td>48.26</td>\n",
       "      <td>48.26</td>\n",
       "      <td>48.26</td>\n",
       "      <td>...</td>\n",
       "      <td>Static Text</td>\n",
       "      <td>الوقت المقدر لشحن هذا المنتج أسبوعين</td>\n",
       "      <td>__EMPTY__VALUE__</td>\n",
       "      <td>1</td>\n",
       "      <td>-5</td>\n",
       "      <td>0</td>\n",
       "      <td>1</td>\n",
       "      <td>NaN</td>\n",
       "      <td>NaN</td>\n",
       "      <td>NaN</td>\n",
       "    </tr>\n",
       "    <tr>\n",
       "      <th>9316</th>\n",
       "      <td>RAG-176541-5127AR</td>\n",
       "      <td>1</td>\n",
       "      <td>Charlotte - اريكة حمراء</td>\n",
       "      <td>8353.60</td>\n",
       "      <td>NaN</td>\n",
       "      <td>__EMPTY__VALUE__</td>\n",
       "      <td>NaN</td>\n",
       "      <td>0</td>\n",
       "      <td>0</td>\n",
       "      <td>0</td>\n",
       "      <td>...</td>\n",
       "      <td>Static Text</td>\n",
       "      <td>الوقت المقدر لشحن هذا المنتج أسبوعين</td>\n",
       "      <td>__EMPTY__VALUE__</td>\n",
       "      <td>1</td>\n",
       "      <td>-5</td>\n",
       "      <td>0</td>\n",
       "      <td>1</td>\n",
       "      <td>NaN</td>\n",
       "      <td>NaN</td>\n",
       "      <td>NaN</td>\n",
       "    </tr>\n",
       "    <tr>\n",
       "      <th>9317</th>\n",
       "      <td>RAG-176541-5227AR-set1</td>\n",
       "      <td>1</td>\n",
       "      <td>Provenance - Charlotte Grey - Set2</td>\n",
       "      <td>15962.00</td>\n",
       "      <td>NaN</td>\n",
       "      <td>__EMPTY__VALUE__</td>\n",
       "      <td>1- Sofa + 1-Accent Chair + 1-Chair</td>\n",
       "      <td>NaN</td>\n",
       "      <td>NaN</td>\n",
       "      <td>NaN</td>\n",
       "      <td>...</td>\n",
       "      <td>Static Text</td>\n",
       "      <td>الوقت المقدر لشحن هذا المنتج أسبوعين</td>\n",
       "      <td>__EMPTY__VALUE__</td>\n",
       "      <td>1</td>\n",
       "      <td>-5</td>\n",
       "      <td>0</td>\n",
       "      <td>1</td>\n",
       "      <td>NaN</td>\n",
       "      <td>NaN</td>\n",
       "      <td>NaN</td>\n",
       "    </tr>\n",
       "    <tr>\n",
       "      <th>9318</th>\n",
       "      <td>RAG-176541-5227AR-set</td>\n",
       "      <td>1</td>\n",
       "      <td>Provenance - Charlotte Grey Set</td>\n",
       "      <td>23431.25</td>\n",
       "      <td>NaN</td>\n",
       "      <td>__EMPTY__VALUE__</td>\n",
       "      <td>1-Sofa + 1-Loveseat + 1-Accent Chair + 1-Chair</td>\n",
       "      <td>NaN</td>\n",
       "      <td>NaN</td>\n",
       "      <td>NaN</td>\n",
       "      <td>...</td>\n",
       "      <td>Static Text</td>\n",
       "      <td>الوقت المقدر لشحن هذا المنتج أسبوعين</td>\n",
       "      <td>__EMPTY__VALUE__</td>\n",
       "      <td>1</td>\n",
       "      <td>-5</td>\n",
       "      <td>0</td>\n",
       "      <td>1</td>\n",
       "      <td>NaN</td>\n",
       "      <td>NaN</td>\n",
       "      <td>NaN</td>\n",
       "    </tr>\n",
       "    <tr>\n",
       "      <th>9319</th>\n",
       "      <td>RAG-513539-5127AA</td>\n",
       "      <td>1</td>\n",
       "      <td>Ava Bezel - Tufted Back Chair</td>\n",
       "      <td>5359.16</td>\n",
       "      <td>NaN</td>\n",
       "      <td>__EMPTY__VALUE__</td>\n",
       "      <td>NaN</td>\n",
       "      <td>NaN</td>\n",
       "      <td>NaN</td>\n",
       "      <td>NaN</td>\n",
       "      <td>...</td>\n",
       "      <td>Static Text</td>\n",
       "      <td>الوقت المقدر لشحن هذا المنتج أسبوعين</td>\n",
       "      <td>__EMPTY__VALUE__</td>\n",
       "      <td>1</td>\n",
       "      <td>-5</td>\n",
       "      <td>0</td>\n",
       "      <td>1</td>\n",
       "      <td>NaN</td>\n",
       "      <td>NaN</td>\n",
       "      <td>NaN</td>\n",
       "    </tr>\n",
       "  </tbody>\n",
       "</table>\n",
       "<p>6592 rows × 33 columns</p>\n",
       "</div>"
      ],
      "text/plain": [
       "                         sku  is_in_stock  \\\n",
       "0               RAG-11130-01            1   \n",
       "1               RAG-13007-03            1   \n",
       "2                  RAG-11131            1   \n",
       "3                  RAG-12040            1   \n",
       "4               RAG-A0476285            1   \n",
       "...                      ...          ...   \n",
       "9311           RAG-23426-UTT            1   \n",
       "9316       RAG-176541-5127AR            1   \n",
       "9317  RAG-176541-5227AR-set1            1   \n",
       "9318   RAG-176541-5227AR-set            1   \n",
       "9319       RAG-513539-5127AA            1   \n",
       "\n",
       "                                       name     price  special_price  \\\n",
       "0                        FLOWER WALL PLAQUE    281.75            NaN   \n",
       "1                       زهرة اللوتس الزرقاء    224.25            NaN   \n",
       "2     زهرة الجدار الأسود / الذهبي 20 '11131    741.75            NaN   \n",
       "3               White/Gold Wall Flower 15.5    396.75            NaN   \n",
       "4                 لوحات زيتية بإطار - Ast 4    281.75            NaN   \n",
       "...                                     ...       ...            ...   \n",
       "9311           Tilda Nesting Ottomanss, S/2   1362.75            NaN   \n",
       "9316                Charlotte - اريكة حمراء   8353.60            NaN   \n",
       "9317     Provenance - Charlotte Grey - Set2  15962.00            NaN   \n",
       "9318        Provenance - Charlotte Grey Set  23431.25            NaN   \n",
       "9319          Ava Bezel - Tufted Back Chair   5359.16            NaN   \n",
       "\n",
       "           free_colors                                  short_description  \\\n",
       "0                 Gold                                   __EMPTY__VALUE__   \n",
       "1                 أزرق                                   __EMPTY__VALUE__   \n",
       "2                 أسود                                   __EMPTY__VALUE__   \n",
       "3                WHITE                                   __EMPTY__VALUE__   \n",
       "4     __EMPTY__VALUE__  الفراشات حرة في الطيران: حلق بعيدًا مع هذه الس...   \n",
       "...                ...                                                ...   \n",
       "9311  __EMPTY__VALUE__  Pull out for extra seating, or tuck away for a...   \n",
       "9316  __EMPTY__VALUE__                                                NaN   \n",
       "9317  __EMPTY__VALUE__                 1- Sofa + 1-Accent Chair + 1-Chair   \n",
       "9318  __EMPTY__VALUE__     1-Sofa + 1-Loveseat + 1-Accent Chair + 1-Chair   \n",
       "9319  __EMPTY__VALUE__                                                NaN   \n",
       "\n",
       "     ts_dimensions_width ts_dimensions_height ts_dimensions_length  ...  \\\n",
       "0                  39.37                11.43                39.37  ...   \n",
       "1                    NaN                12.06                33.02  ...   \n",
       "2                    NaN                13.97                50.80  ...   \n",
       "3                  15.5                   4.5                15.5   ...   \n",
       "4                  45.09                45.09                    0  ...   \n",
       "...                  ...                  ...                  ...  ...   \n",
       "9311               48.26                48.26                48.26  ...   \n",
       "9316                   0                    0                    0  ...   \n",
       "9317                 NaN                  NaN                  NaN  ...   \n",
       "9318                 NaN                  NaN                  NaN  ...   \n",
       "9319                 NaN                  NaN                  NaN  ...   \n",
       "\n",
       "     estimated_delivery_enable               estimated_delivery_text  \\\n",
       "0                  Static Text  الوقت المقدر لشحن هذا المنتج أسبوعين   \n",
       "1                  Static Text  الوقت المقدر لشحن هذا المنتج أسبوعين   \n",
       "2                  Static Text  الوقت المقدر لشحن هذا المنتج أسبوعين   \n",
       "3                  Static Text  الوقت المقدر لشحن هذا المنتج أسبوعين   \n",
       "4                  Static Text  الوقت المقدر لشحن هذا المنتج أسبوعين   \n",
       "...                        ...                                   ...   \n",
       "9311               Static Text  الوقت المقدر لشحن هذا المنتج أسبوعين   \n",
       "9316               Static Text  الوقت المقدر لشحن هذا المنتج أسبوعين   \n",
       "9317               Static Text  الوقت المقدر لشحن هذا المنتج أسبوعين   \n",
       "9318               Static Text  الوقت المقدر لشحن هذا المنتج أسبوعين   \n",
       "9319               Static Text  الوقت المقدر لشحن هذا المنتج أسبوعين   \n",
       "\n",
       "         raw_materials allow_backorders out_of_stock_qty qty product_online  \\\n",
       "0     __EMPTY__VALUE__                1               -5   0              1   \n",
       "1     __EMPTY__VALUE__                1               -5   0              1   \n",
       "2     __EMPTY__VALUE__                1               -5   0              1   \n",
       "3     __EMPTY__VALUE__                1               -5   0              1   \n",
       "4     __EMPTY__VALUE__                1               -5   0              1   \n",
       "...                ...              ...              ...  ..            ...   \n",
       "9311  __EMPTY__VALUE__                1               -5   0              1   \n",
       "9316  __EMPTY__VALUE__                1               -5   0              1   \n",
       "9317  __EMPTY__VALUE__                1               -5   0              1   \n",
       "9318  __EMPTY__VALUE__                1               -5   0              1   \n",
       "9319  __EMPTY__VALUE__                1               -5   0              1   \n",
       "\n",
       "     Width Height Length  \n",
       "0      NaN    NaN    NaN  \n",
       "1      NaN    NaN    NaN  \n",
       "2      NaN    NaN    NaN  \n",
       "3      NaN    NaN    NaN  \n",
       "4      NaN    NaN    NaN  \n",
       "...    ...    ...    ...  \n",
       "9311   NaN    NaN    NaN  \n",
       "9316   NaN    NaN    NaN  \n",
       "9317   NaN    NaN    NaN  \n",
       "9318   NaN    NaN    NaN  \n",
       "9319   NaN    NaN    NaN  \n",
       "\n",
       "[6592 rows x 33 columns]"
      ]
     },
     "execution_count": 312,
     "metadata": {},
     "output_type": "execute_result"
    }
   ],
   "source": [
    "df_update.drop_duplicates(subset=['sku'])"
   ]
  },
  {
   "cell_type": "code",
   "execution_count": null,
   "id": "90630a16",
   "metadata": {},
   "outputs": [],
   "source": []
  },
  {
   "cell_type": "code",
   "execution_count": null,
   "id": "1ff79e8b",
   "metadata": {},
   "outputs": [],
   "source": []
  },
  {
   "cell_type": "code",
   "execution_count": 244,
   "id": "0ea32eff",
   "metadata": {},
   "outputs": [
    {
     "data": {
      "text/plain": [
       "Index(['sku', 'is_in_stock', 'name', 'price', 'special_price', 'free_colors',\n",
       "       'short_description', 'ts_dimensions_width', 'ts_dimensions_height',\n",
       "       'ts_dimensions_length', 'mgs_brand', 'Images1', 'url_key', 'visibility',\n",
       "       'tax_class_name', 'manufacturer', 'news_from_date', 'news_to_date',\n",
       "       'Images2', 'link_url', 'categories1', 'categories2', 'categories3',\n",
       "       'out_of_stock_qty', 'allow_backorders', 'estimated_delivery_enable',\n",
       "       'estimated_delivery_text', 'raw_materials', 'qty', 'product_online'],\n",
       "      dtype='object')"
      ]
     },
     "execution_count": 244,
     "metadata": {},
     "output_type": "execute_result"
    }
   ],
   "source": [
    "df1.columns"
   ]
  },
  {
   "cell_type": "code",
   "execution_count": null,
   "id": "c7c07d65",
   "metadata": {},
   "outputs": [],
   "source": []
  },
  {
   "cell_type": "code",
   "execution_count": null,
   "id": "ca908a92",
   "metadata": {},
   "outputs": [],
   "source": []
  },
  {
   "cell_type": "code",
   "execution_count": null,
   "id": "8556b4e6",
   "metadata": {},
   "outputs": [],
   "source": []
  },
  {
   "cell_type": "code",
   "execution_count": null,
   "id": "bdfd6d14",
   "metadata": {},
   "outputs": [],
   "source": []
  },
  {
   "cell_type": "code",
   "execution_count": null,
   "id": "84226e3c",
   "metadata": {},
   "outputs": [],
   "source": []
  },
  {
   "cell_type": "code",
   "execution_count": null,
   "id": "8e765659",
   "metadata": {},
   "outputs": [],
   "source": []
  },
  {
   "cell_type": "code",
   "execution_count": null,
   "id": "d188ee4f",
   "metadata": {},
   "outputs": [],
   "source": []
  }
 ],
 "metadata": {
  "kernelspec": {
   "display_name": "Python 3",
   "language": "python",
   "name": "python3"
  },
  "language_info": {
   "codemirror_mode": {
    "name": "ipython",
    "version": 3
   },
   "file_extension": ".py",
   "mimetype": "text/x-python",
   "name": "python",
   "nbconvert_exporter": "python",
   "pygments_lexer": "ipython3",
   "version": "3.8.8"
  },
  "toc": {
   "base_numbering": 1,
   "nav_menu": {},
   "number_sections": true,
   "sideBar": true,
   "skip_h1_title": false,
   "title_cell": "Table of Contents",
   "title_sidebar": "Contents",
   "toc_cell": false,
   "toc_position": {},
   "toc_section_display": true,
   "toc_window_display": true
  }
 },
 "nbformat": 4,
 "nbformat_minor": 5
}
