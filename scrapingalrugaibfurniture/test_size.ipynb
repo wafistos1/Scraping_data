{
 "cells": [
  {
   "cell_type": "code",
   "execution_count": 1,
   "id": "51b0a636",
   "metadata": {},
   "outputs": [],
   "source": [
    "#imports here\n",
    "from selenium import webdriver\n",
    "from selenium.webdriver.common.keys import Keys\n",
    "from selenium.webdriver.support import expected_conditions as EC\n",
    "from selenium.webdriver.common.by import By\n",
    "from selenium.webdriver.support.wait import WebDriverWait\n",
    "from selenium.webdriver.firefox.options import Options\n",
    "import time\n",
    "import os\n",
    "from fake_useragent import UserAgent\n",
    "from random import randint\n",
    "import pandas as pd\n",
    "import numpy as np\n",
    "import re\n",
    "from datetime import datetime\n",
    "from datetime import timedelta\n",
    "from bs4 import BeautifulSoup"
   ]
  },
  {
   "cell_type": "code",
   "execution_count": null,
   "id": "473d8b51",
   "metadata": {},
   "outputs": [],
   "source": []
  },
  {
   "cell_type": "code",
   "execution_count": null,
   "id": "d9e338bc",
   "metadata": {},
   "outputs": [],
   "source": []
  },
  {
   "cell_type": "code",
   "execution_count": null,
   "id": "18f749f5",
   "metadata": {},
   "outputs": [],
   "source": []
  },
  {
   "cell_type": "code",
   "execution_count": null,
   "id": "a6ebfd88",
   "metadata": {},
   "outputs": [],
   "source": []
  },
  {
   "cell_type": "code",
   "execution_count": 2,
   "id": "e81ce385",
   "metadata": {},
   "outputs": [
    {
     "name": "stdout",
     "output_type": "stream",
     "text": [
      "Mozilla/5.0 (Windows NT 6.3; WOW64) AppleWebKit/537.36 (KHTML, like Gecko) Chrome/41.0.2226.0 Safari/537.36\n"
     ]
    },
    {
     "name": "stderr",
     "output_type": "stream",
     "text": [
      "<ipython-input-2-5315509cced7>:7: DeprecationWarning: use options instead of firefox_options\n",
      "  driver = webdriver.Firefox(firefox_options=options)\n"
     ]
    }
   ],
   "source": [
    "options = Options()\n",
    "ua = UserAgent()\n",
    "userAgent = ua.random\n",
    "print(userAgent)\n",
    "options.add_argument(f'user-agent={userAgent}')\n",
    "#options.add_argument(\"--headless\")\n",
    "driver = webdriver.Firefox(firefox_options=options)\n",
    "#     driver = webdriver.Firefox()"
   ]
  },
  {
   "cell_type": "code",
   "execution_count": null,
   "id": "ef8ac5aa",
   "metadata": {},
   "outputs": [],
   "source": []
  },
  {
   "cell_type": "markdown",
   "id": "657f231e",
   "metadata": {},
   "source": [
    "# EXtract description text"
   ]
  },
  {
   "cell_type": "code",
   "execution_count": 21,
   "id": "0df0b3f9",
   "metadata": {},
   "outputs": [
    {
     "name": "stdout",
     "output_type": "stream",
     "text": [
      "Material:Polyresin\n",
      "Color:Gold\n",
      "Weight:5.0 lbs\n",
      "Dimensions:15.5\" x 15.5\" x 4.5\"\n",
      "زهرة اللوتس الزرقاء للحائط 14.25 بوصة\n",
      "المواد: بوليريسين\n",
      "اللون: أزرق\n",
      "الوزن: 2.3 رطل\n",
      "الأبعاد: 14.25 × 13 × 4.75 بوصة\n",
      "زهرة الجدار الأسود / الذهبي 20\n",
      "المواد: بوليريسين\n",
      "اللون: أسود\n",
      "الوزن: 10.5 رطل\n",
      "الأبعاد: 20 × 20 × 5.5 بوصة\n"
     ]
    }
   ],
   "source": [
    "for toto in links_products[:3]:\n",
    "    driver.get(str(toto))\n",
    "    time.sleep(2)\n",
    "    description_list1 = driver.find_element_by_class_name('expandable-content').text\n",
    "    print(description_list1 )"
   ]
  },
  {
   "cell_type": "code",
   "execution_count": 22,
   "id": "d8c0f82f",
   "metadata": {},
   "outputs": [
    {
     "data": {
      "text/plain": [
       "'Width 30 5/8\" x Depth 1 1/4\"x Height 38 5/8\"'"
      ]
     },
     "execution_count": 22,
     "metadata": {},
     "output_type": "execute_result"
    }
   ],
   "source": [
    "driver.find_element_by_class_name('expandable-content').text\n"
   ]
  },
  {
   "cell_type": "code",
   "execution_count": null,
   "id": "730d02a7",
   "metadata": {},
   "outputs": [],
   "source": []
  },
  {
   "cell_type": "code",
   "execution_count": null,
   "id": "4eec53e4",
   "metadata": {},
   "outputs": [],
   "source": []
  },
  {
   "cell_type": "code",
   "execution_count": 4,
   "id": "fc76bf03",
   "metadata": {},
   "outputs": [
    {
     "name": "stdout",
     "output_type": "stream",
     "text": [
      "2687\n"
     ]
    }
   ],
   "source": [
    "links_products = []\n",
    "def return_details(value, list_dic):\n",
    "        val = ''\n",
    "        for i in list_dic:\n",
    "            if value in i:\n",
    "                val = i.replace(value, '')\n",
    "        return val\n",
    "for i in range(1, 114):\n",
    "    driver.get(f'https://www.alrugaibfurniture.com/ar/collections/accessories?page={i}')\n",
    "    \n",
    "    products = driver.find_elements_by_class_name('product-item__image-wrapper')\n",
    "    \n",
    "    \n",
    "    #Forloop to get all url products\n",
    "    for product in products:\n",
    "\n",
    "        links_products.append(product.get_attribute('href'))\n",
    "        time.sleep(1)\n",
    "    time.sleep(1)\n",
    "print(len(links_products))"
   ]
  },
  {
   "cell_type": "code",
   "execution_count": 15,
   "id": "f917aa48",
   "metadata": {},
   "outputs": [],
   "source": [
    "links_products = pd.read_excel('link_accssoires-25-06-2021-18-36-47.xlsx')"
   ]
  },
  {
   "cell_type": "code",
   "execution_count": 16,
   "id": "80c13c02",
   "metadata": {},
   "outputs": [
    {
     "data": {
      "text/html": [
       "<div>\n",
       "<style scoped>\n",
       "    .dataframe tbody tr th:only-of-type {\n",
       "        vertical-align: middle;\n",
       "    }\n",
       "\n",
       "    .dataframe tbody tr th {\n",
       "        vertical-align: top;\n",
       "    }\n",
       "\n",
       "    .dataframe thead th {\n",
       "        text-align: right;\n",
       "    }\n",
       "</style>\n",
       "<table border=\"1\" class=\"dataframe\">\n",
       "  <thead>\n",
       "    <tr style=\"text-align: right;\">\n",
       "      <th></th>\n",
       "      <th>Unnamed: 0</th>\n",
       "      <th>listes</th>\n",
       "    </tr>\n",
       "  </thead>\n",
       "  <tbody>\n",
       "    <tr>\n",
       "      <th>0</th>\n",
       "      <td>0</td>\n",
       "      <td>https://www.alrugaibfurniture.com/ar/collectio...</td>\n",
       "    </tr>\n",
       "    <tr>\n",
       "      <th>1</th>\n",
       "      <td>1</td>\n",
       "      <td>https://www.alrugaibfurniture.com/ar/collectio...</td>\n",
       "    </tr>\n",
       "    <tr>\n",
       "      <th>2</th>\n",
       "      <td>2</td>\n",
       "      <td>https://www.alrugaibfurniture.com/ar/collectio...</td>\n",
       "    </tr>\n",
       "    <tr>\n",
       "      <th>3</th>\n",
       "      <td>3</td>\n",
       "      <td>https://www.alrugaibfurniture.com/ar/collectio...</td>\n",
       "    </tr>\n",
       "    <tr>\n",
       "      <th>4</th>\n",
       "      <td>4</td>\n",
       "      <td>https://www.alrugaibfurniture.com/ar/collectio...</td>\n",
       "    </tr>\n",
       "    <tr>\n",
       "      <th>...</th>\n",
       "      <td>...</td>\n",
       "      <td>...</td>\n",
       "    </tr>\n",
       "    <tr>\n",
       "      <th>2682</th>\n",
       "      <td>2682</td>\n",
       "      <td>https://www.alrugaibfurniture.com/ar/collectio...</td>\n",
       "    </tr>\n",
       "    <tr>\n",
       "      <th>2683</th>\n",
       "      <td>2683</td>\n",
       "      <td>https://www.alrugaibfurniture.com/ar/collectio...</td>\n",
       "    </tr>\n",
       "    <tr>\n",
       "      <th>2684</th>\n",
       "      <td>2684</td>\n",
       "      <td>https://www.alrugaibfurniture.com/ar/collectio...</td>\n",
       "    </tr>\n",
       "    <tr>\n",
       "      <th>2685</th>\n",
       "      <td>2685</td>\n",
       "      <td>https://www.alrugaibfurniture.com/ar/collectio...</td>\n",
       "    </tr>\n",
       "    <tr>\n",
       "      <th>2686</th>\n",
       "      <td>2686</td>\n",
       "      <td>https://www.alrugaibfurniture.com/ar/collectio...</td>\n",
       "    </tr>\n",
       "  </tbody>\n",
       "</table>\n",
       "<p>2687 rows × 2 columns</p>\n",
       "</div>"
      ],
      "text/plain": [
       "      Unnamed: 0                                             listes\n",
       "0              0  https://www.alrugaibfurniture.com/ar/collectio...\n",
       "1              1  https://www.alrugaibfurniture.com/ar/collectio...\n",
       "2              2  https://www.alrugaibfurniture.com/ar/collectio...\n",
       "3              3  https://www.alrugaibfurniture.com/ar/collectio...\n",
       "4              4  https://www.alrugaibfurniture.com/ar/collectio...\n",
       "...          ...                                                ...\n",
       "2682        2682  https://www.alrugaibfurniture.com/ar/collectio...\n",
       "2683        2683  https://www.alrugaibfurniture.com/ar/collectio...\n",
       "2684        2684  https://www.alrugaibfurniture.com/ar/collectio...\n",
       "2685        2685  https://www.alrugaibfurniture.com/ar/collectio...\n",
       "2686        2686  https://www.alrugaibfurniture.com/ar/collectio...\n",
       "\n",
       "[2687 rows x 2 columns]"
      ]
     },
     "execution_count": 16,
     "metadata": {},
     "output_type": "execute_result"
    }
   ],
   "source": [
    "links_products"
   ]
  },
  {
   "cell_type": "code",
   "execution_count": 4,
   "id": "8d486a34",
   "metadata": {},
   "outputs": [],
   "source": [
    "driver.get('https://www.alrugaibfurniture.com/ar/collections/accessories/products/7-oz-mediterranean-jasmine-crystal-candle?lshst=collection')"
   ]
  },
  {
   "cell_type": "code",
   "execution_count": 17,
   "id": "ce65f591",
   "metadata": {},
   "outputs": [
    {
     "name": "stdout",
     "output_type": "stream",
     "text": [
      "2687\n"
     ]
    }
   ],
   "source": [
    "links_products = links_products['listes'].to_list()\n",
    "print(len(links_products))"
   ]
  },
  {
   "cell_type": "code",
   "execution_count": null,
   "id": "9c7f6ca6",
   "metadata": {},
   "outputs": [],
   "source": []
  },
  {
   "cell_type": "code",
   "execution_count": 10,
   "id": "7c3660c6",
   "metadata": {},
   "outputs": [
    {
     "name": "stdout",
     "output_type": "stream",
     "text": [
      "1313\n"
     ]
    }
   ],
   "source": [
    "for i, to in enumerate(links_products):\n",
    "    if to == 'https://www.alrugaibfurniture.com/ar/collections/accessories/products/7-oz-mediterranean-jasmine-crystal-candle?lshst=collection':\n",
    "        print(i)"
   ]
  },
  {
   "cell_type": "code",
   "execution_count": null,
   "id": "49d252e6",
   "metadata": {},
   "outputs": [],
   "source": []
  },
  {
   "cell_type": "code",
   "execution_count": null,
   "id": "99f84aff",
   "metadata": {},
   "outputs": [],
   "source": []
  },
  {
   "cell_type": "code",
   "execution_count": null,
   "id": "7131da18",
   "metadata": {},
   "outputs": [],
   "source": []
  },
  {
   "cell_type": "code",
   "execution_count": null,
   "id": "d4652195",
   "metadata": {},
   "outputs": [],
   "source": []
  },
  {
   "cell_type": "code",
   "execution_count": null,
   "id": "c8e0c5c8",
   "metadata": {},
   "outputs": [],
   "source": []
  },
  {
   "cell_type": "code",
   "execution_count": 13,
   "id": "505b32e5",
   "metadata": {},
   "outputs": [],
   "source": [
    "now = datetime.now()\n",
    "dt_string = now.strftime(\"%d-%m-%Y-%H-%M-%S\")\n",
    "#Save link in excel files\n",
    "link_living_rooms = {\n",
    "    'listes': links_products,\n",
    "}\n",
    "\n",
    "liste_link_living_rooms = pd.DataFrame(link_living_rooms)\n",
    "liste_link_living_rooms.to_excel(f'link_accssoires-{dt_string}.xlsx')"
   ]
  },
  {
   "cell_type": "code",
   "execution_count": 156,
   "id": "0537a76f",
   "metadata": {},
   "outputs": [],
   "source": [
    "driver.get('https://www.alrugaibfurniture.com/ar/collections/offices/products/arlenbry-home-office-desk')"
   ]
  },
  {
   "cell_type": "code",
   "execution_count": null,
   "id": "e57e17d7",
   "metadata": {},
   "outputs": [],
   "source": []
  },
  {
   "cell_type": "code",
   "execution_count": null,
   "id": "d4439a84",
   "metadata": {},
   "outputs": [],
   "source": []
  },
  {
   "cell_type": "code",
   "execution_count": null,
   "id": "2755c12f",
   "metadata": {},
   "outputs": [],
   "source": []
  },
  {
   "cell_type": "code",
   "execution_count": 5,
   "id": "14f4125f",
   "metadata": {
    "scrolled": true
   },
   "outputs": [
    {
     "ename": "SyntaxError",
     "evalue": "invalid syntax (<ipython-input-5-366d7dc66974>, line 396)",
     "output_type": "error",
     "traceback": [
      "\u001b[0;36m  File \u001b[0;32m\"<ipython-input-5-366d7dc66974>\"\u001b[0;36m, line \u001b[0;32m396\u001b[0m\n\u001b[0;31m    list_images = []\u001b[0m\n\u001b[0m    ^\u001b[0m\n\u001b[0;31mSyntaxError\u001b[0m\u001b[0;31m:\u001b[0m invalid syntax\n"
     ]
    }
   ],
   "source": [
    "count = 0\n",
    "list_images = [] \n",
    "list_input_collection = []\n",
    "list_input_title = []\n",
    "list_input_price = []\n",
    "list_input_images1 = []\n",
    "list_input_images2 = []\n",
    "list_input_images3 = []\n",
    "list_input_images4 = []\n",
    "list_input_price_was = []\n",
    "list_input_model = []\n",
    "list_input_size = []\n",
    "list_input_color = []\n",
    "list_input_sku = []\n",
    "list_input_style = []\n",
    "list_input_in_stock = []\n",
    "list_input_mater = []\n",
    "list_input_link_url = []\n",
    "list_input_category1 = []\n",
    "list_input_category2 = []\n",
    "list_input_category3 = []\n",
    "list_input_width = []\n",
    "list_input_height = []\n",
    "list_input_length = []\n",
    "list_description = []\n",
    "list_news_from_date = []\n",
    "list_news_to_date = []\n",
    "list_tax_class_name = []\n",
    "list_visibility = []\n",
    "list_manufacturer = []\n",
    "list_concatenation = []\n",
    "display_bool = False\n",
    "\n",
    "def return_centimers(inches):\n",
    "    \n",
    "    pattern = re.compile(r'(\\w+) \\((\\d+\\.\\d+ )\\)')\n",
    "    result = None\n",
    "    if inches == None or inches == 0 or inches == '':\n",
    "        print('elif cent')\n",
    "\n",
    "        return 0\n",
    "    elif pattern.search(inches) != None:\n",
    "        print('elif cent')\n",
    "        toto = pattern.search(inches)\n",
    "\n",
    "        return toto.group(2)\n",
    "\n",
    "    else:\n",
    "        try:\n",
    "            inches = inches.replace('\"', '').replace('inch', '').replace('بوصة', '')\n",
    "            print('j ai remplacer', inches)\n",
    "            try:\n",
    "                inches = int(inches)\n",
    "                result = inches * 2.54\n",
    "                result = f\"{result:.2f}\"\n",
    "                return result\n",
    "            except:\n",
    "               \n",
    "                inches = float(inches)\n",
    "                print('foat', inches)\n",
    "                result = inches * 2.54\n",
    "                result = f\"{result:.2f}\"\n",
    "                print('result',result)\n",
    "                return result\n",
    "        except:\n",
    "            pass\n",
    "\n",
    "            \n",
    "def return_string_width(dico):\n",
    "        Regex_width = re.compile(r'(\\d+.\\.\\d+)\"W x (\\d+.\\.\\d+)\"D x (\\d+.\\.\\d+)\"H')\n",
    "        for toto in dico:\n",
    "            if Regex_width.search(toto) != None:\n",
    "\n",
    "                lengnt = Regex_width.search(toto).group(1)\n",
    "                width = Regex_width.search(toto).group(2)\n",
    "                heigt = Regex_width.search(toto).group(3)\n",
    "                return lengnt, width, heigt\n",
    "def check_string_width(dico):\n",
    "    Regex_width = re.compile(r'(\\d+.\\.\\d+)\"W x (\\d+.\\.\\d+)\"D x (\\d+.\\.\\d+)\"H')\n",
    "    for toto in dico:\n",
    "        if Regex_width.search(toto) != None:\n",
    "            return True     \n",
    "\n",
    "def search_word_list(word, list_search):\n",
    "    for text in list_search:\n",
    "        if word in text:\n",
    "            return True\n",
    "\n",
    "def return_i(text, y):\n",
    "    for i, toto in enumerate(text):\n",
    "        if y in toto:\n",
    "            return i\n",
    "        \n",
    "#**********************************************************************\n",
    "#**********************************************************************\n",
    "#**********************************************************************\n",
    "#**********************************************************************\n",
    "#**********************************************************************\n",
    "#ForLoop main\n",
    "df = pd.read_excel('accssoires.xlsx')\n",
    "for i, product in enumerate(links_products[:]):\n",
    "    series = None\n",
    "    time.sleep(1)\n",
    "    try:\n",
    "        print('***********************************************************')\n",
    "        print('Count:', i)\n",
    "        print('URl:', product)\n",
    "        driver.get(product)\n",
    "        time.sleep(3)\n",
    "        display_bool = False\n",
    "    except:\n",
    "        continue\n",
    "\n",
    "    \n",
    "    \n",
    "    link_url = str(product)\n",
    "    time.sleep(4)\n",
    "    try:\n",
    "        #click button more\n",
    "        #click button more\n",
    "        click_more = driver.find_element_by_class_name('expandable-content__toggle-icon')\n",
    "        driver.execute_script(\"arguments[0].click();\", click_more)\n",
    "        display_bool = True\n",
    "    except:\n",
    "        pass\n",
    "    \n",
    "     # CATEGORY  *******************************************   \n",
    "\n",
    "    #     try:\n",
    "    #         category1 =  'المنزل '#driver.find_element_by_class_name('category47').text\n",
    "    #     except:\n",
    "    #         category1 = ''\n",
    "    #     try:\n",
    "    #         category2 =  'مقاعد'#driver.find_element_by_class_name('category52').text\n",
    "    #     except:\n",
    "    #         category2 = ''\n",
    "    #     try:\n",
    "    #         category3 =  ''#driver.find_element_by_class_name('').text\n",
    "    #     except:\n",
    "    #         category3 = ''\n",
    "    #     print('Cat1:', category1)\n",
    "    #     print('Cat2:', category2)\n",
    "    #     print('Cat3:', category3)\n",
    "\n",
    " # CATEGORY  *******************************************   \n",
    " \n",
    "    try:\n",
    "        category1 =  driver.find_elements_by_xpath(\"//li[contains(@class, 'breadcrumb__item')]\")[0].text\n",
    "    except:\n",
    "        category1 = ''\n",
    "    try:\n",
    "        category2 =  driver.find_elements_by_xpath(\"//li[contains(@class, 'breadcrumb__item')]\")[1].text\n",
    "    except:\n",
    "        category2 = ''\n",
    "    try:\n",
    "        category3 =  ''#driver.find_elements_by_xpath(\"//li[contains(@class, 'breadcrumb__item')]\")[2].text\n",
    "    except:\n",
    "        category3 = ''\n",
    "    print('Cat1:', category1)\n",
    "    print('Cat2:', category2)\n",
    "    print('Cat3:', category3)\n",
    "    time.sleep(1)\n",
    "    try:\n",
    "        try:\n",
    "            title = driver.find_element_by_class_name('product-meta__title').text\n",
    "        except:\n",
    "            time.sleep(5)\n",
    "            title = driver.find_element_by_class_name('product-meta__title').text\n",
    "    except:\n",
    "        print('pas de produit')\n",
    "        continue\n",
    "    \n",
    "    try:\n",
    "        sku = driver.find_element_by_class_name('product-meta__sku').text.replace('SKU: ', '')\n",
    "        sku = 'RAG-'+ sku\n",
    "    except:\n",
    "        sku = 'NONE'\n",
    "\n",
    "    prices = driver.find_elements_by_class_name('money')\n",
    "\n",
    "    price = prices[0].text.replace(' SAR', '')\n",
    "    try:\n",
    "        old_price = prices[1].text.replace(' SAR', '')\n",
    "    except:\n",
    "        old_price = 0\n",
    "    \n",
    "\n",
    "  \n",
    "    time.sleep(3)\n",
    "    \n",
    "    descriptions = driver.find_elements_by_class_name('card__section')\n",
    "    description_list = descriptions[2].text.split('/n')[0]\n",
    "    description_list1 = description_list.split('\\n')\n",
    "# Master_Item_Number*********************************************************************************\n",
    "    try:\n",
    "        try:\n",
    "            Master_Item_Number = description_list1[description_list1.index('Master Item Number:')+1]\n",
    "        except:\n",
    "            Master_Item_Number = description_list1[description_list1.index('MATERIAL:')+1]\n",
    "            \n",
    "    except:\n",
    "        Master_Item_Number = ''\n",
    "        \n",
    "# Collection *******************************************************************************\n",
    "    try:\n",
    "        collection = driver.find_element_by_class_name('product-meta__vendor ').text\n",
    "    except:\n",
    "        pass\n",
    "    \n",
    "     \n",
    "# Description*********************************************************************************\n",
    "    try:\n",
    "        try:  \n",
    "            short_description = driver.find_element_by_class_name('product__description').text\n",
    "        except:\n",
    "            short_description = driver.find_element_by_xpath(\"//div[contains(@data-mce-fragment, '1')]\").text\n",
    "    except:\n",
    "        short_description = ''\n",
    "    if short_description == '':\n",
    "        try:\n",
    "            short_description = driver.find_element_by_xpath(\"//div[contains(@class, 'rte')]/p\").text\n",
    "        except:\n",
    "            pass\n",
    "\n",
    "    if short_description == '':\n",
    "        try:\n",
    "            short_description = driver.find_element_by_class_name('product-description').text\n",
    "        except:\n",
    "            pass\n",
    "    if '\"H' in short_description or  'ارتفاع' in short_description:\n",
    "        short_description = ''\n",
    "    print(\"short_description:\", short_description)\n",
    "\n",
    "        \n",
    "# Series*********************************************************************************\n",
    "    try:\n",
    "        Series = description_list1[description_list1.index('Series:')+1]\n",
    "    except:\n",
    "        Series = ''\n",
    "        \n",
    "        \n",
    "        \n",
    "# Colors*********************************************************************************\n",
    "    try:\n",
    "        colors = description_list1[description_list1.index('Colors:')+1]\n",
    "    except:\n",
    "        colors = ''\n",
    "    if colors == '' or colors == None:\n",
    "        try:\n",
    "            colors = driver.find_element_by_class_name('product__color').text.split(':')[1]\n",
    "        except:\n",
    "            colors = ''\n",
    "    if colors == '' or colors == None:\n",
    "        colors = '__EMPTY__VALUE__'\n",
    "    \n",
    "        \n",
    "# Size*********************************************************************************\n",
    "    time.sleep(2)\n",
    "    if display_bool == False:\n",
    "        try:\n",
    "            #click button more\n",
    "            #click button more\n",
    "            click_more = driver.find_element_by_class_name('expandable-content__toggle-icon')\n",
    "            driver.execute_script(\"arguments[0].click();\", click_more)\n",
    "            display_bool = True\n",
    "        except:\n",
    "            pass\n",
    "\n",
    "\n",
    "\n",
    "\n",
    "\n",
    "\n",
    "#*********************************************************************************************************\n",
    "\n",
    "    \n",
    "    descriptions = driver.find_elements_by_class_name('card__section')\n",
    "\n",
    "\n",
    "    description_list = descriptions[2].text.split('/n')[0]\n",
    "    description_list1 = description_list.split('\\n')\n",
    "    #description_list1 = [x for x in description_list1 if x.isdigit()]\n",
    "    description_list1\n",
    "\n",
    "#*********************************************************************************************************\n",
    "    size_all = ''\n",
    "    size_all1 = [ '']\n",
    "    #Cas1\n",
    "    try:\n",
    "        \n",
    "        #Cas4\n",
    "        if search_word_list('Dimensions:', description_list1) or  search_word_list('Product Dimensions', description_list1):\n",
    "            print('Cas4')\n",
    "            toto = description_list1[return_i(description_list1, 'Dimensions:')].replace('Dimensions:', '').split('x')\n",
    "\n",
    "            #Fisrt case:\n",
    "            cas2_regex = re.compile(r'(\\s*\\d+.?\\d+\\s*)” L*')\n",
    "            #seconde case:\n",
    "            cas1_regex = re.compile(r'(\\s*\\d+.?\\d+\\s*)( |\"| W) (x|X) (\\s*\\d+.?\\d+\\s*)( |\"| H) *')\n",
    "\n",
    "\n",
    "            if cas2_regex.search(toto) != None:\n",
    "\n",
    "\n",
    "                print('toto')\n",
    "                toto1 = toto.split('X')\n",
    "                print(toto1)\n",
    "                try:\n",
    "                    length = return_centimers(toto1[return_i(toto1, 'L')].replace('”', '').replace('L', '').strip())\n",
    "\n",
    "                except:\n",
    "                    length = ''\n",
    "                try:\n",
    "                    height = return_centimers(toto1[return_i(toto1, 'H')].replace('”', '').replace('H', '').strip())\n",
    "\n",
    "                except:\n",
    "                    height = ''\n",
    "                try:\n",
    "                    width = return_centimers(toto1[return_i(toto1, 'W')].replace('”', '').replace('W', '').strip())\n",
    "                except:\n",
    "                    width = ''\n",
    "\n",
    "            elif cas1_regex.search(toto) != None:\n",
    "\n",
    "                print('toto')\n",
    "                toto1 = toto.split('X')\n",
    "                print(toto1)\n",
    "                try:\n",
    "                    length = return_centimers(toto1[return_i(toto1, 'L')].replace('”', '').replace('L', '').strip())\n",
    "\n",
    "                except:\n",
    "                    length = ''\n",
    "                try:\n",
    "                    height = return_centimers(toto1[return_i(toto1, 'H')].replace('”', '').replace('H', '').strip())\n",
    "\n",
    "                except:\n",
    "                    height = ''\n",
    "                try:\n",
    "                    width = return_centimers(toto1[return_i(toto1, 'W')].replace('”', '').replace('W', '').strip())\n",
    "                except:\n",
    "                    width = ''\n",
    "\n",
    "        else:\n",
    "            print('else')\n",
    "            height = ''\n",
    "            length = ''\n",
    "            width = ''\n",
    "        #Cas6\n",
    "        if width == '' and height == '' and length == '':\n",
    "            print('Cas6')\n",
    "            try:\n",
    "                size_all1 = driver.find_element_by_class_name('product__dimensions').text.split(':')\n",
    "                size_all = size_all1[1].replace('inch', '').replace('بوصة', '').strip()\n",
    "                print(size_all1)\n",
    "                try:\n",
    "                    try:\n",
    "                        width = size_all.split('x')[0]\n",
    "                    except:\n",
    "                        width = size_all.split('×')[0]\n",
    "                except:\n",
    "                    width = ''\n",
    "                try:\n",
    "                    try:\n",
    "                        length = size_all.split('x')[1]\n",
    "                    except:\n",
    "                        length = size_all.split('×')[1]\n",
    "                except:\n",
    "                    length = ''\n",
    "                try:\n",
    "                    try:\n",
    "                        height = size_all.split('x')[2]\n",
    "                    except:\n",
    "                        height = size_all.split('×')[2]\n",
    "                except:\n",
    "                    height = ''\n",
    "\n",
    "            except:\n",
    "                height = ''\n",
    "                length = ''\n",
    "                width = ''\n",
    "\n",
    "\n",
    "\n",
    "            if 'inch' in size_all1[0] or '\"' in size_all or search_word_list('(in)', description_list1) or search_word_list('بوصة', description_list1) or search_word_list('\"', description_list1):\n",
    "                height = return_centimers(height)\n",
    "                length = return_centimers(length)\n",
    "                width = return_centimers(width)\n",
    "                print('Change inches to cm')\n",
    "            print('H', height)\n",
    "            print('L',length)\n",
    "            print('W',width)\n",
    "\n",
    "\n",
    "\n",
    "# Images*********************************************************************************\n",
    "    list_images = []\n",
    "    time.sleep(2)\n",
    "    images_click = driver.find_elements_by_class_name('product-gallery__thumbnail')\n",
    "\n",
    "\n",
    "    for ele in images_click:\n",
    "        #ele.click()\n",
    "        driver.execute_script(\"arguments[0].click();\", ele)\n",
    "        time.sleep(1)\n",
    "    images = driver.find_elements_by_class_name('product-gallery__image')\n",
    "    len(images)\n",
    "    for img in images:\n",
    "        #list_images.append('https:'+img.get_attribute('data-srcset').split(' ')[0])\n",
    "    #     print(':', img.get_attribute('srcset').split(', ')[0].split('?')[0])\n",
    "        time.sleep(1)\n",
    "        try:\n",
    "            t = 'https:'+img.get_attribute('data-srcset').split(', ')[0].split('?')[0]\n",
    "        except:\n",
    "            continue\n",
    "    #     print(img.get_attribute('data-srcset'))\n",
    "    #     soup = BeautifulSoup(img.get_attribute('innerHTML'), 'html.parser')\n",
    "    #     print('toto',soup)\n",
    "        print(t)\n",
    "        list_images.append(t)\n",
    "    print('len list images',len(list_images))\n",
    "#************************************************************************** \n",
    "    print('Title:', title)\n",
    "    print('Price:', price)\n",
    "    print('Price old:',old_price)\n",
    "    print('ollection:',collection)\n",
    "    print('Description:',short_description)\n",
    "    print('Colors:',colors)\n",
    "#     print('Size:',Dimensions)\n",
    "    print('URl:',link_url)\n",
    "    print('Sku:',sku)\n",
    "    print('H', height)\n",
    "    print('L',length)\n",
    "    print('W',width)\n",
    "    list_input_title.append(title)\n",
    "    list_input_price.append(price)\n",
    "    list_input_price_was.append(old_price)\n",
    "#     list_input_model.append(description)\n",
    "    list_input_color.append(colors)\n",
    "    list_input_in_stock.append(1)\n",
    "#     list_input_size.append(Dimensions)\n",
    "    list_input_sku.append(sku)\n",
    "    list_input_category1.append(category1)\n",
    "    list_input_category2.append(category2)\n",
    "    list_input_category3.append(category3)\n",
    "    list_input_link_url.append(link_url)\n",
    "    list_input_collection.append(collection)\n",
    "    list_input_width.append(width)\n",
    "    list_input_height.append(height)\n",
    "    list_input_length.append(length)\n",
    "    list_description.append(short_description)\n",
    "    list_tax_class_name.append('Taxable Goods')\n",
    "    list_visibility.append('Catalog, Search')\n",
    "    list_manufacturer.append('مستوردة')\n",
    "    if list_images[0]:\n",
    "        image1 = list_images[0]\n",
    "    else:\n",
    "        image1 = ''\n",
    "    \n",
    "    try:\n",
    "        image2 = list_images[1:]\n",
    "    except:\n",
    "        image2 = ''\n",
    "    try:\n",
    "        timage = ''\n",
    "        for i, img in enumerate(list_images[1:]):\n",
    "            if i == 0:\n",
    "                timage += str(img)\n",
    "            else:\n",
    "                timage += ', ' + str(img)\n",
    "#         list_input_images2.append(timage)\n",
    "        print(timage)\n",
    "    except:\n",
    "        timage = ''\n",
    "#         list_input_images2.append(t)\n",
    "#*******************************************************\n",
    "    two_month = datetime.now() + timedelta(days=60)\n",
    "    two_month = two_month.strftime(\"%m/%d/%Y\")\n",
    "    today = datetime.today().strftime(\"%m/%d/%Y\")\n",
    "    list_news_from_date.append(today)\n",
    "    list_news_to_date.append(two_month)\n",
    "#*******************************************************\n",
    "\n",
    "    url_key = f'{sku} {title}'\n",
    "    \n",
    "    url_key = url_key.replace(',', '-').replace('*', '-').replace('،', '-')\n",
    "    list_concatenation.append(url_key)\n",
    "    \n",
    "    series = pd.Series([sku,\n",
    "                         1,\n",
    "                         title,\n",
    "                         price,\n",
    "                         old_price,\n",
    "                         short_description,\n",
    "                         colors,\n",
    "                         \n",
    "                         width,\n",
    "                         height,\n",
    "                         length,\n",
    "                         collection,\n",
    "                         image1,\n",
    "                         url_key,\n",
    "                         'Catalog, Search',\n",
    "                         'Taxable Goods',\n",
    "                         'مستوردة',\n",
    "                         today,\n",
    "                         two_month,\n",
    "                         timage,\n",
    "                         link_url,\n",
    "                         category1,\n",
    "                         category2,\n",
    "                         category3,\n",
    "                         \n",
    "                        ],  index=df.columns)\n",
    "    #df.append(df1)\n",
    "    df = df.append(series, ignore_index=True)\n",
    "    df.to_excel( 'accessoires_test3.xlsx', index = False)\n",
    "    \n",
    "# df = pd.DataFrame({'sku': list_input_sku,\n",
    "#                    'is_in_stock': list_input_in_stock,\n",
    "#                     'name': list_input_title,\n",
    "#                    'price': list_input_price, \n",
    "#                    \"special_price\":list_input_price_was,\n",
    "#                    'short_description': list_description,\n",
    "# #                    'Model': list_input_model, \n",
    "#                    'free_colors': list_input_color, \n",
    "#                    'Width': list_input_width,\n",
    "#                    'Height': list_input_height,\n",
    "#                    'Length': list_input_length,\n",
    "#                    'collection': list_input_collection,\n",
    "#                    'Images1': list_input_images1,\n",
    "#                    'url_key': list_concatenation,\n",
    "#                    'visibility':list_visibility,\n",
    "#                        'tax_class_name':list_tax_class_name,\n",
    "#                        'manufacturer': list_manufacturer,\n",
    "# #                     'raw_materials': list_input_mater,\n",
    "#                    'news_from_date': list_news_from_date,\n",
    "#                    'news_to_date': list_news_to_date,\n",
    "#                    'Images2': list_input_images2,\n",
    "#                    'link_url': list_input_link_url,\n",
    "#                    'categories1': list_input_category1,\n",
    "#                    'categories2': list_input_category2,\n",
    "#                    'categories3': list_input_category3,\n",
    "# #                    'Images3': list_input_images3,\n",
    "# #                    'Images4': list_input_images4,\n",
    "\n",
    "#                   })\n",
    "\n",
    "# #     new_df = pd.concat([df])\n",
    "# df.to_excel( 'accessoires_test.xlsx', index = True)"
   ]
  },
  {
   "cell_type": "markdown",
   "id": "07dc49dc",
   "metadata": {},
   "source": [
    "# Test Size"
   ]
  },
  {
   "cell_type": "code",
   "execution_count": null,
   "id": "fe9cdd11",
   "metadata": {},
   "outputs": [],
   "source": []
  },
  {
   "cell_type": "code",
   "execution_count": 157,
   "id": "42e50858",
   "metadata": {},
   "outputs": [],
   "source": [
    "driver.get('https://www.alrugaibfurniture.com/ar/collections/offices/products/arlenbry-home-office-desk')"
   ]
  },
  {
   "cell_type": "code",
   "execution_count": 24,
   "id": "cbde63ee",
   "metadata": {},
   "outputs": [],
   "source": [
    "def return_centimers(inches):\n",
    "    \n",
    "    pattern = re.compile(r'(\\w+) \\((\\d+\\.\\d+ )\\)')\n",
    "    result = None\n",
    "    if inches == None or inches == 0 or inches == '':\n",
    "        print('elif cent')\n",
    "\n",
    "        return 0\n",
    "    elif pattern.search(inches) != None:\n",
    "        print('elif cent')\n",
    "        toto = pattern.search(inches)\n",
    "\n",
    "        return toto.group(2)\n",
    "\n",
    "    else:\n",
    "        try:\n",
    "            inches = inches.replace('\"', '').replace('inch', '').replace('بوصة', '')\n",
    "            print('j ai remplacer', inches)\n",
    "            try:\n",
    "                inches = int(inches)\n",
    "                result = inches * 2.54\n",
    "                result = f\"{result:.2f}\"\n",
    "                return result\n",
    "            except:\n",
    "               \n",
    "                inches = float(inches)\n",
    "                print('foat', inches)\n",
    "                result = inches * 2.54\n",
    "                result = f\"{result:.2f}\"\n",
    "                print('result',result)\n",
    "                return result\n",
    "        except:\n",
    "            pass\n",
    "\n",
    "            \n",
    "def return_string_width(dico):\n",
    "        Regex_width = re.compile(r'(\\d+.\\.\\d+)\"W x (\\d+.\\.\\d+)\"D x (\\d+.\\.\\d+)\"H')\n",
    "        for toto in dico:\n",
    "            if Regex_width.search(toto) != None:\n",
    "\n",
    "                lengnt = Regex_width.search(toto).group(1)\n",
    "                width = Regex_width.search(toto).group(2)\n",
    "                heigt = Regex_width.search(toto).group(3)\n",
    "                return lengnt, width, heigt\n",
    "def check_string_width(dico):\n",
    "    Regex_width = re.compile(r'(\\d+.\\.\\d+)\"W x (\\d+.\\.\\d+)\"D x (\\d+.\\.\\d+)\"H')\n",
    "    for toto in dico:\n",
    "        if Regex_width.search(toto) != None:\n",
    "            return True     \n",
    "\n",
    "def search_word_list(word, list_search):\n",
    "    for text in list_search:\n",
    "        if word in text:\n",
    "            return True\n",
    "\n",
    "def return_i(text, y):\n",
    "    for i, toto in enumerate(text):\n",
    "        if y in toto:\n",
    "            return i"
   ]
  },
  {
   "cell_type": "code",
   "execution_count": 158,
   "id": "25a0676b",
   "metadata": {},
   "outputs": [
    {
     "data": {
      "text/plain": [
       "['رقم العنصر الرئيسي:',\n",
       " 'H275-14',\n",
       " 'وصف:',\n",
       " 'مكتب المنزل',\n",
       " 'سلسلة:',\n",
       " 'H275 ارلينبري',\n",
       " 'الألوان:',\n",
       " 'اللون الرمادي',\n",
       " 'الأبعاد (مؤكدة):',\n",
       " 'بوصة: 47.25 بوصة عرض × 19.5 بوصة عمق × 30 بوصة ارتفاع']"
      ]
     },
     "execution_count": 158,
     "metadata": {},
     "output_type": "execute_result"
    }
   ],
   "source": [
    "descriptions = driver.find_elements_by_class_name('card__section')\n",
    "\n",
    "\n",
    "description_list = descriptions[2].text.split('/n')[0]\n",
    "description_list1 = description_list.split('\\n')\n",
    "#description_list1 = [x for x in description_list1 if x.isdigit()]\n",
    "description_list1"
   ]
  },
  {
   "cell_type": "code",
   "execution_count": 10,
   "id": "0e11fc2f",
   "metadata": {},
   "outputs": [
    {
     "data": {
      "text/plain": [
       "'شموع 7 أوقية من Agraria عبارة عن مزيج خاص من الشموع الناعمة ذات الأساس النباتي. إنها شموع مضيئة بشكل جميل ورائحة ونظيفة. كل شمعة عبارة عن ظل أبيض ، حسب اللون الطبيعي لزيت العطر. لا يوجد ملونات مضافة للشمع.\\nأيضًا ، بعد أن تحترق الشمعة تمامًا ، احتفظ بالزجاج المزخرف للحفاظ على فراشي المكياج منظمة ، أو امسك مشابك الورق على مكتبك ، أو قم بترتيبات زهور صغيرة كإعدادات مكان لوجبة فطور وغداء المقبل.\\n7 أوقية / 198 جرام\\n• وقت الحرق التقريبي: 40-50 ساعة\\n• تنظيف الاحتراق بدون ملونات مضافة\\n• شمع نباتي ناعم ممتاز\\n• لا يحتوي على البارافين أو العطور الاصطناعية أو غيرها من المكونات الضارة\\n• فتيل ملتوي يدويًا وخالي من الرصاص\\n• لا يشمل الغطاء'"
      ]
     },
     "execution_count": 10,
     "metadata": {},
     "output_type": "execute_result"
    }
   ],
   "source": [
    "description_list1 = driver.find_element_by_class_name('table-wrapper').text\n",
    "description_list1"
   ]
  },
  {
   "cell_type": "code",
   "execution_count": null,
   "id": "26fe6cfa",
   "metadata": {},
   "outputs": [],
   "source": []
  },
  {
   "cell_type": "code",
   "execution_count": null,
   "id": "0331180f",
   "metadata": {},
   "outputs": [],
   "source": []
  },
  {
   "cell_type": "code",
   "execution_count": null,
   "id": "5193a124",
   "metadata": {},
   "outputs": [],
   "source": []
  },
  {
   "cell_type": "code",
   "execution_count": 29,
   "id": "5a469df6",
   "metadata": {},
   "outputs": [
    {
     "name": "stdout",
     "output_type": "stream",
     "text": [
      "else\n",
      "Cas6\n",
      "H \n",
      "L \n",
      "W \n"
     ]
    }
   ],
   "source": [
    "size_all1 = []\n",
    "if search_word_list('إرتفاع', description_list1[0].split('×')) or search_word_list('عمق', description_list1[0].split('×')) or search_word_list('عرض', description_list1[0].split('×')):\n",
    "    toto = description_list1[0].split('×')\n",
    "    print('Cas1')\n",
    "\n",
    "    try:\n",
    "        height = [x for x in toto if 'إرتفاع' in x or ' ارتفاع'in x or 'الارتفاع' in x  ][0].replace('الارتفاع', '').replace('سم', '').replace('ارتفاع', '').replace('بوصة', '').strip()\n",
    "    except:\n",
    "        height = ''\n",
    "    try:\n",
    "        length = [x for x in toto if 'عمق' in x or 'العمق' in x][0].replace('عمق', '').replace('العمق', '').replace('سم', '').replace('بوصة', '').strip()\n",
    "    except:\n",
    "        length = ''\n",
    "    try:\n",
    "        width = [x for x in toto if 'عرض' in x or 'العرض' in x][0].replace('العرض', '').replace('عرض', '').replace('سم', '').replace('بوصة', '').strip()\n",
    "    except:\n",
    "        width = ''\n",
    "\n",
    "elif search_word_list('إرتفاع', description_list1[1].split('×')) or search_word_list('عمق', description_list1[1].split('×')) or search_word_list('عرض', description_list1[1].split('×')):\n",
    "    toto = description_list1[1].split('×')\n",
    "    print('Cas1.1')\n",
    "\n",
    "    try:\n",
    "        height = [x for x in toto if 'إرتفاع' in x or 'ارتفاع'in x or 'الارتفاع' in x  ][0].replace(')', '').replace('(', '').replace('\"', '').replace('الارتفاع', '').replace('سم', '').replace('الأبعاد:', '').replace('ارتفاع', '').replace('بوصة', '').strip()\n",
    "    except:\n",
    "        height = ''\n",
    "    try:\n",
    "        length = [x for x in toto if 'عمق' in x or 'العمق' in x][0].replace('عمق', '').replace(')', '').replace('(', '').replace('\"', '').replace('العمق', '').replace('سم', '').replace('بوصة', '').replace('الأبعاد:', '').strip()\n",
    "    except:\n",
    "        length = ''\n",
    "    try:\n",
    "        width = [x for x in toto if 'عرض' in x or 'العرض' in x][0].replace('العرض', '').replace(')', '').replace('(', '').replace('\"', '').replace('عرض', '').replace('سم', '').replace('بوصة', '').replace('الأبعاد:', '').strip()\n",
    "    except:\n",
    "        width = ''\n",
    "#Cas4\n",
    "elif search_word_list('Dimensions:', description_list1) or  search_word_list('Product Dimensions', description_list1):\n",
    "    print('Cas4')\n",
    "    toto = description_list1[return_i(description_list1, 'Dimensions:')].replace('Dimensions:', '').split('x')\n",
    "    \n",
    "    #Fisrt case:\n",
    "    cas2_regex = re.compile(r'(\\s*\\d+.?\\d+\\s*)” L*')\n",
    "    #seconde case:\n",
    "    cas1_regex = re.compile(r'(\\s*\\d+.?\\d+\\s*)( |\"| W) (x|X) (\\s*\\d+.?\\d+\\s*)( |\"| H) *')\n",
    "    \n",
    "    \n",
    "    if cas2_regex.search(toto) != None:\n",
    "        \n",
    "        \n",
    "        print('toto')\n",
    "        toto1 = toto.split('X')\n",
    "        print(toto1)\n",
    "        try:\n",
    "            length = return_centimers(toto1[return_i(toto1, 'L')].replace('”', '').replace('L', '').strip())\n",
    "\n",
    "        except:\n",
    "            length = ''\n",
    "        try:\n",
    "            height = return_centimers(toto1[return_i(toto1, 'H')].replace('”', '').replace('H', '').strip())\n",
    "\n",
    "        except:\n",
    "            height = ''\n",
    "        try:\n",
    "            width = return_centimers(toto1[return_i(toto1, 'W')].replace('”', '').replace('W', '').strip())\n",
    "        except:\n",
    "            width = ''\n",
    "            \n",
    "    elif cas1_regex.search(toto) != None:\n",
    "        \n",
    "        print('toto')\n",
    "        toto1 = toto.split('X')\n",
    "        print(toto1)\n",
    "        try:\n",
    "            length = return_centimers(toto1[return_i(toto1, 'L')].replace('”', '').replace('L', '').strip())\n",
    "\n",
    "        except:\n",
    "            length = ''\n",
    "        try:\n",
    "            height = return_centimers(toto1[return_i(toto1, 'H')].replace('”', '').replace('H', '').strip())\n",
    "\n",
    "        except:\n",
    "            height = ''\n",
    "        try:\n",
    "            width = return_centimers(toto1[return_i(toto1, 'W')].replace('”', '').replace('W', '').strip())\n",
    "        except:\n",
    "            width = ''\n",
    "\n",
    "#Cas2      \n",
    "elif search_word_list('Depth', description_list1) or search_word_list('Height', description_list1) or search_word_list('Width', description_list1): \n",
    "    print('Cas2')\n",
    "\n",
    "    toto = description_list1\n",
    "    length = [x for x in toto if 'Depth' in x ][0].replace('Depth', '').replace(':', '').replace('cm', '').replace('(in)', '').replace('\"', '').strip()\n",
    "    height = [x for x in toto if 'Height:' in x ][0].replace('Height', '').replace(':', '').replace('cm', '').replace('(in)', '').replace('\"', '').strip()\n",
    "    width = [x for x in toto if 'Width' in x ][0].replace('Width', '').replace(':', '').replace('cm', '').replace('(in)', '').replace('\"', '').strip()\n",
    "\n",
    "\n",
    "\n",
    "#Cas3\n",
    "# elif search_word_list('\"H', description_list1) or search_word_list('\"W', description_list1) or search_word_list('\"W', description_list1):\n",
    "#     print('Cas3')\n",
    "\n",
    "#     toto = description_list1[0].split('x')\n",
    "#     length = [x for x in toto if 'D' in x ][0].replace('D', '').replace('\"', '').replace('cm', '').replace('(in)', '').strip()\n",
    "#     height = [x for x in toto if 'H' in x ][0].replace('H', '').replace('\"', '').replace('cm', '').replace('(in)', '').strip()\n",
    "#     width = [x for x in toto if 'W' in x ][0].replace('W', '').replace('\"', '').replace('cm', '').replace('(in)', '').strip()\n",
    "\n",
    "\n",
    "#Cas5\n",
    "\n",
    "elif check_string_width(description_list1):\n",
    "    print('Cas5')\n",
    "    width, height, length = return_string_width(description_list1)\n",
    "\n",
    "\n",
    "\n",
    "else:\n",
    "    print('else')\n",
    "    height = ''\n",
    "    length = ''\n",
    "    width = ''\n",
    "#Cas6\n",
    "if width == '' and height == '' and length == '':\n",
    "    print('Cas6')\n",
    "    try:\n",
    "        size_all1 = driver.find_element_by_class_name('product__dimensions').text.split(':')\n",
    "        size_all = size_all1[1].replace('inch', '').replace('بوصة', '').strip()\n",
    "        print(size_all1)\n",
    "        try:\n",
    "            try:\n",
    "                width = size_all.split('x')[0]\n",
    "            except:\n",
    "                width = size_all.split('×')[0]\n",
    "        except:\n",
    "            width = ''\n",
    "        try:\n",
    "            try:\n",
    "                length = size_all.split('x')[1]\n",
    "            except:\n",
    "                length = size_all.split('×')[1]\n",
    "        except:\n",
    "            length = ''\n",
    "        try:\n",
    "            try:\n",
    "                height = size_all.split('x')[2]\n",
    "            except:\n",
    "                height = size_all.split('×')[2]\n",
    "        except:\n",
    "            height = ''\n",
    "\n",
    "    except:\n",
    "        height = ''\n",
    "        length = ''\n",
    "        width = ''\n",
    "\n",
    "\n",
    "        \n",
    "#     if 'inch' in size_all1[0] or '\"' in size_all or search_word_list('(in)', description_list1) or search_word_list('بوصة', description_list1) or search_word_list('\"', description_list1):\n",
    "#         height = return_centimers(height)\n",
    "#         length = return_centimers(length)\n",
    "#         width = return_centimers(width)\n",
    "#         print('Change inches to cm')\n",
    "    print('H', height)\n",
    "    print('L',length)\n",
    "    print('W',width)\n"
   ]
  },
  {
   "cell_type": "code",
   "execution_count": 30,
   "id": "f7908c71",
   "metadata": {},
   "outputs": [
    {
     "ename": "TypeError",
     "evalue": "string indices must be integers",
     "output_type": "error",
     "traceback": [
      "\u001b[0;31m---------------------------------------------------------------------------\u001b[0m",
      "\u001b[0;31mTypeError\u001b[0m                                 Traceback (most recent call last)",
      "\u001b[0;32m<ipython-input-30-b5dbf804e3ce>\u001b[0m in \u001b[0;36m<module>\u001b[0;34m\u001b[0m\n\u001b[0;32m----> 1\u001b[0;31m \u001b[0mtoto\u001b[0m \u001b[0;34m=\u001b[0m \u001b[0mdescription_list1\u001b[0m\u001b[0;34m[\u001b[0m\u001b[0mreturn_i\u001b[0m\u001b[0;34m(\u001b[0m\u001b[0mdescription_list1\u001b[0m\u001b[0;34m,\u001b[0m \u001b[0;34m'Dimensions:'\u001b[0m\u001b[0;34m)\u001b[0m\u001b[0;34m]\u001b[0m\u001b[0;34m.\u001b[0m\u001b[0mreplace\u001b[0m\u001b[0;34m(\u001b[0m\u001b[0;34m'Dimensions:'\u001b[0m\u001b[0;34m,\u001b[0m \u001b[0;34m''\u001b[0m\u001b[0;34m)\u001b[0m\u001b[0;34m.\u001b[0m\u001b[0msplit\u001b[0m\u001b[0;34m(\u001b[0m\u001b[0;34m'x'\u001b[0m\u001b[0;34m)\u001b[0m\u001b[0;34m[\u001b[0m\u001b[0;36m0\u001b[0m\u001b[0;34m]\u001b[0m\u001b[0;34m\u001b[0m\u001b[0;34m\u001b[0m\u001b[0m\n\u001b[0m\u001b[1;32m      2\u001b[0m \u001b[0mtoto\u001b[0m\u001b[0;34m\u001b[0m\u001b[0;34m\u001b[0m\u001b[0m\n",
      "\u001b[0;31mTypeError\u001b[0m: string indices must be integers"
     ]
    }
   ],
   "source": [
    "toto = description_list1[return_i(description_list1, 'Dimensions:')].replace('Dimensions:', '').split('x')[0]\n",
    "toto "
   ]
  },
  {
   "cell_type": "code",
   "execution_count": 35,
   "id": "117b850c",
   "metadata": {},
   "outputs": [
    {
     "data": {
      "text/plain": [
       "['زهرة الجدار الأسود / الذهبي 20\\nالمواد: بوليريسين\\nاللون: أسود\\nالوزن: 10.5 رطل\\nالأبعاد: 20 × 20 × 5.5 بوصة']"
      ]
     },
     "execution_count": 35,
     "metadata": {},
     "output_type": "execute_result"
    }
   ],
   "source": [
    "description_list1.split('/n')\n",
    "                        "
   ]
  },
  {
   "cell_type": "code",
   "execution_count": null,
   "id": "aa3ff0c1",
   "metadata": {},
   "outputs": [],
   "source": []
  },
  {
   "cell_type": "code",
   "execution_count": null,
   "id": "9a525ed1",
   "metadata": {},
   "outputs": [],
   "source": []
  },
  {
   "cell_type": "code",
   "execution_count": null,
   "id": "83f040df",
   "metadata": {},
   "outputs": [],
   "source": []
  },
  {
   "cell_type": "code",
   "execution_count": 26,
   "id": "b2aadb71",
   "metadata": {},
   "outputs": [
    {
     "ename": "NameError",
     "evalue": "name 'cas1_regex' is not defined",
     "output_type": "error",
     "traceback": [
      "\u001b[0;31m---------------------------------------------------------------------------\u001b[0m",
      "\u001b[0;31mNameError\u001b[0m                                 Traceback (most recent call last)",
      "\u001b[0;32m<ipython-input-26-3eae1232f9ba>\u001b[0m in \u001b[0;36m<module>\u001b[0;34m\u001b[0m\n\u001b[0;32m----> 1\u001b[0;31m \u001b[0;32mif\u001b[0m \u001b[0mcas1_regex\u001b[0m\u001b[0;34m.\u001b[0m\u001b[0msearch\u001b[0m\u001b[0;34m(\u001b[0m\u001b[0mtoto\u001b[0m\u001b[0;34m)\u001b[0m \u001b[0;34m!=\u001b[0m \u001b[0;32mNone\u001b[0m\u001b[0;34m:\u001b[0m\u001b[0;34m\u001b[0m\u001b[0;34m\u001b[0m\u001b[0m\n\u001b[0m\u001b[1;32m      2\u001b[0m     \u001b[0mprint\u001b[0m\u001b[0;34m(\u001b[0m\u001b[0;34m'toto'\u001b[0m\u001b[0;34m)\u001b[0m\u001b[0;34m\u001b[0m\u001b[0;34m\u001b[0m\u001b[0m\n\u001b[1;32m      3\u001b[0m     \u001b[0mtoto1\u001b[0m \u001b[0;34m=\u001b[0m \u001b[0mtoto\u001b[0m\u001b[0;34m.\u001b[0m\u001b[0msplit\u001b[0m\u001b[0;34m(\u001b[0m\u001b[0;34m'X'\u001b[0m\u001b[0;34m)\u001b[0m\u001b[0;34m\u001b[0m\u001b[0;34m\u001b[0m\u001b[0m\n\u001b[1;32m      4\u001b[0m     \u001b[0mprint\u001b[0m\u001b[0;34m(\u001b[0m\u001b[0mtoto1\u001b[0m\u001b[0;34m)\u001b[0m\u001b[0;34m\u001b[0m\u001b[0;34m\u001b[0m\u001b[0m\n\u001b[1;32m      5\u001b[0m     \u001b[0;32mtry\u001b[0m\u001b[0;34m:\u001b[0m\u001b[0;34m\u001b[0m\u001b[0;34m\u001b[0m\u001b[0m\n",
      "\u001b[0;31mNameError\u001b[0m: name 'cas1_regex' is not defined"
     ]
    }
   ],
   "source": [
    "if cas1_regex.search(toto) != None:\n",
    "    print('toto')\n",
    "    toto1 = toto.split('X')\n",
    "    print(toto1)\n",
    "    try:\n",
    "        length = return_centimers(toto1[return_i(toto1, 'L')].replace('”', '').replace('L', '').strip())\n",
    "\n",
    "    except:\n",
    "        length = ''\n",
    "    try:\n",
    "        height = return_centimers(toto1[return_i(toto1, 'H')].replace('”', '').replace('H', '').strip())\n",
    "\n",
    "    except:\n",
    "        height = ''\n",
    "    try:\n",
    "        width = return_centimers(toto1[return_i(toto1, 'W')].replace('”', '').replace('W', '').strip())\n",
    "    except:\n",
    "        width = ''\n",
    "print('H', height)\n",
    "print('L',length)\n",
    "print('W',width)"
   ]
  },
  {
   "cell_type": "code",
   "execution_count": 331,
   "id": "a7c18fe9",
   "metadata": {},
   "outputs": [
    {
     "name": "stdout",
     "output_type": "stream",
     "text": [
      "[' 61 W ', ' 41 H ', ' 2 D (in)']\n"
     ]
    }
   ],
   "source": [
    "\n",
    "print(toto.split('X'))"
   ]
  },
  {
   "cell_type": "code",
   "execution_count": 337,
   "id": "ca2ecb29",
   "metadata": {},
   "outputs": [
    {
     "data": {
      "text/plain": [
       "' 2 D (in)'"
      ]
     },
     "execution_count": 337,
     "metadata": {},
     "output_type": "execute_result"
    }
   ],
   "source": [
    "toto1[return_i(text, 'H')]"
   ]
  },
  {
   "cell_type": "code",
   "execution_count": 202,
   "id": "dd46d4f2",
   "metadata": {},
   "outputs": [
    {
     "data": {
      "text/plain": [
       "['رقم العنصر الرئيسي:',\n",
       " 'H275-14',\n",
       " 'وصف:',\n",
       " 'مكتب المنزل',\n",
       " 'سلسلة:',\n",
       " 'H275 ارلينبري',\n",
       " 'الألوان:',\n",
       " 'اللون الرمادي',\n",
       " 'الأبعاد (مؤكدة):',\n",
       " 'بوصة: 47.25 بوصة عرض × 19.5 بوصة عمق × 30 بوصة ارتفاع']"
      ]
     },
     "execution_count": 202,
     "metadata": {},
     "output_type": "execute_result"
    }
   ],
   "source": [
    "description_list1"
   ]
  },
  {
   "cell_type": "markdown",
   "id": "456570af",
   "metadata": {},
   "source": [
    "# les cas regex "
   ]
  },
  {
   "cell_type": "code",
   "execution_count": 154,
   "id": "44f17c80",
   "metadata": {},
   "outputs": [
    {
     "name": "stdout",
     "output_type": "stream",
     "text": [
      "Cas4\n",
      "Dimensions:48 W X 72 H X 1 D (in)\n",
      "regex1\n"
     ]
    }
   ],
   "source": [
    "\n",
    "print('Cas4')\n",
    "\n",
    "toto1 = description_list1\n",
    "#toto = toto1[return_i(toto1, 'الأبعاد')]\n",
    "toto = toto1[return_i(toto1, 'Dimensions')]\n",
    "toto = toto1[return_i(toto1, 'Dimensions')]\n",
    "print(toto)\n",
    "regex_pass(toto)\n",
    "\n",
    "\n",
    "    "
   ]
  },
  {
   "cell_type": "code",
   "execution_count": 65,
   "id": "98191fb9",
   "metadata": {},
   "outputs": [
    {
     "name": "stdout",
     "output_type": "stream",
     "text": [
      "<re.Match object; span=(11, 21), match='48 W X 72 '>\n"
     ]
    }
   ],
   "source": [
    "print(cas1_regex.search(toto))"
   ]
  },
  {
   "cell_type": "code",
   "execution_count": 242,
   "id": "e66de9cf",
   "metadata": {},
   "outputs": [],
   "source": [
    "driver.get('https://www.alrugaibfurniture.com/ar/collections/living-rooms/products/chest-28')"
   ]
  },
  {
   "cell_type": "code",
   "execution_count": 254,
   "id": "2d2090cf",
   "metadata": {},
   "outputs": [
    {
     "data": {
      "text/plain": [
       "['106.6x45.7x142']"
      ]
     },
     "execution_count": 254,
     "metadata": {},
     "output_type": "execute_result"
    }
   ],
   "source": [
    "toto_des = driver.find_element_by_class_name('expandable-content').text.split('\\n')\n",
    "toto_des"
   ]
  },
  {
   "cell_type": "code",
   "execution_count": 255,
   "id": "703f6c06",
   "metadata": {},
   "outputs": [
    {
     "name": "stdout",
     "output_type": "stream",
     "text": [
      "regex10\n",
      "106.6x45.7x142\n"
     ]
    }
   ],
   "source": [
    "for des in toto_des:\n",
    "    regex_pass(des)"
   ]
  },
  {
   "cell_type": "code",
   "execution_count": 53,
   "id": "7db1c918",
   "metadata": {},
   "outputs": [
    {
     "name": "stdout",
     "output_type": "stream",
     "text": [
      "4\n"
     ]
    }
   ],
   "source": [
    "print(return_i(description_list12, 'الأبعاد'))\n",
    "       "
   ]
  },
  {
   "cell_type": "code",
   "execution_count": 253,
   "id": "640e8a2a",
   "metadata": {},
   "outputs": [],
   "source": [
    "def regex_pass(toto):\n",
    "    \n",
    "#     if cas2_regex.search(toto) != None:\n",
    "#         print('regex2')\n",
    "#     if cas3_regex.search(toto) != None:\n",
    "#         print('regex3')\n",
    "#     if cas4_regex.search(toto) != None:\n",
    "#         print('regex4')\n",
    "    if cas5_regex.search(toto) != None:\n",
    "        print('regex5')\n",
    "        toto = toto.split('x')\n",
    "#         print(toto)\n",
    "        filter_data_size_regex5(toto)        \n",
    "    elif cas1_regex.search(toto) != None:\n",
    "        print('regex1')\n",
    "    elif cas7_regex.search(toto) != None:\n",
    "        print(toto)\n",
    "        print('regex7')\n",
    "    elif cas3_regex.search(toto) != None:\n",
    "        print('regex3')\n",
    "        print(toto)\n",
    "    elif cas8_regex.search(toto) != None:\n",
    "        print('regex8')\n",
    "        print(toto)\n",
    "    elif cas9_regex.search(toto) != None:\n",
    "        print('regex9')\n",
    "        print(toto)\n",
    "    elif cas10_regex.search(toto) != None:\n",
    "        print('regex10')\n",
    "        print(toto)\n",
    "    elif cas11_regex.search(toto) != None:\n",
    "        print('regex11')\n",
    "        print(toto)\n",
    "        "
   ]
  },
  {
   "cell_type": "code",
   "execution_count": 252,
   "id": "77e26afe",
   "metadata": {},
   "outputs": [],
   "source": [
    "cas2_regex = re.compile(r'(\\s*\\d+.?\\d+\\s*)\"L *')\n",
    "cas3_regex = re.compile(r'(\\s*\\d+.?\\d+\\s*)\"H *')\n",
    "cas4_regex = re.compile(r'(\\s*\\d+.?\\d+\\s*)\"D *')\n",
    "cas5_regex = re.compile(r'(\\s*\\d+.?\\d+\\s*)\"W *')\n",
    "cas8_regex = re.compile(r'(\\s*\\d+.?\\d+\\s*)\" W *')\n",
    "cas7_regex = re.compile(r'بوصة عرض × (\\s*\\d+.?\\d+\\s*) *')\n",
    "cas9_regex = re.compile(r'عرض \\* (\\s*\\d+.?\\d+\\s*) *')\n",
    "cas10_regex = re.compile(r'(\\s*\\d+.?\\d+\\s*)x(\\s*\\d+.?\\d+\\s*)x(\\s*\\d+.?\\d+\\s*)')\n",
    "cas11_regex = re.compile(r'W(\\s*\\d+.?\\d+\\s*)xD(\\s*\\d+.?\\d+\\s*)xH(\\s*\\d+.?\\d+\\s*)')\n",
    "#seconde case:\n",
    "\n",
    "cas1_regex = re.compile(r'(\\s*\\d+.?\\d+\\s*)( |\"| W) (x|X) (\\s*\\d+.?\\d+\\s*)( |\"| H) *')\n",
    "#cas6_regex = re.compile(r'(\\s*\\d+.?\\d+\\s*)( |\"| W) *')\n",
    "\n",
    "regex_list = [ \n",
    "cas1_regex,\n",
    "cas2_regex,\n",
    "cas3_regex,\n",
    "cas4_regex,\n",
    "cas5_regex,\n",
    "cas6_regex,\n",
    "cas7_regex,\n",
    "    \n",
    "]"
   ]
  },
  {
   "cell_type": "code",
   "execution_count": 152,
   "id": "6af9432a",
   "metadata": {},
   "outputs": [
    {
     "name": "stdout",
     "output_type": "stream",
     "text": [
      "regex5\n",
      "['54\"W ', ' 18\"D ', ' 30\"H']\n",
      "width (108.0, 54)\n",
      "lenght (36.0, 54)\n",
      "hight (60.0, 54)\n",
      "W: (108.0, 54)\n",
      "L: (36.0, 54)\n",
      "H: (60.0, 54)\n"
     ]
    }
   ],
   "source": [
    "regex_pass('الابعاد: 174 عرض * 96 عمق * 79 ارتفاع')"
   ]
  },
  {
   "cell_type": "code",
   "execution_count": 343,
   "id": "b4624414",
   "metadata": {},
   "outputs": [],
   "source": [
    "cas2_regex = re.compile(r'(\\s*\\d+.?\\d+\\s*)\"L *')\n",
    "cas3_regex = re.compile(r'(\\s*\\d+.?\\d+\\s*)\"H *')\n",
    "cas4_regex = re.compile(r'(\\s*\\d+.?\\d+\\s*)\"D *')\n",
    "cas5_regex = re.compile(r'(\\s*\\d+.?\\d+\\s*)\"W *')\n",
    "cas8_regex = re.compile(r'(\\s*\\d+.?\\d+\\s*)\" W *')#Inches: 75\" W x 79\" D x 13\" H\n",
    "cas7_regex = re.compile(r'بوصة عرض × (\\s*\\d+.?\\d+\\s*) *')\n",
    "cas13_regex = re.compile(r'(\\s*\\d+.?\\d+\\s*) بوصة ارتفاع *')#'82.1 بوصة × 88.8 بوصة عمق × 41.7 بوصة ارتفاع'     بوصة: 59 بوصة × 79 بوصة عمق × 16.5 بوصة ارتفاع\n",
    "cas9_regex = re.compile(r'عرض \\* (\\s*\\d+.?\\d+\\s*) *')#58.25\" عرض * 15.75\" عمق * 33.13\" ارتفاع\n",
    "cas10_regex = re.compile(r'(\\s*\\d+.?\\d+\\s*)x(\\s*\\d+.?\\d+\\s*)x(\\s*\\d+.?\\d+\\s*)')#'137.5x43.5x91.7'\n",
    "cas12_regex = re.compile(r'(\\s*\\d+.?\\d+\\s*)W x (\\s*\\d+.?\\d+\\s*)D x(\\s*\\d+.?\\d+\\s*)H')\n",
    "cas11_regex = re.compile(r'W(\\s*\\d+.?\\d+\\s*)xD(\\s*\\d+.?\\d+\\s*)xH(\\s*\\d+.?\\d+\\s*)') \n",
    "cas14_regex = re.compile(r'w-(\\s*\\d+.?\\d+\\s*) in x d-(\\s*\\d+.?\\d+\\s*) in x h-(\\s*\\d+.?\\d+\\s*)in')#w-85.04 in x d-55.31 in x h-8.11 in\n",
    "cas16_regex = re.compile(r'w-(\\s*\\d+.?\\d+\\s*) في x d-(\\s*\\d+.?\\d+\\s*) في x h-(\\s*\\d+.?\\d+\\s*)')# w-28.30 في x d-22 في x h-35.40 بوصة\n",
    "cas15_regex = re.compile(r'(\\s*\\d+.?\\d+\\s*)W x (\\s*\\d+.?\\d+\\s*)H x (\\s*\\d+.?\\d+\\s*)D')#Dimension: 59.0W x 14.0H x 79.0D\n",
    "cas17_regex = re.compile(r'العمق: (\\s*\\d+.?\\d+\\s*) بوصة')#'العرض: 59 بوصة العمق: 79 بوصة (بوصة)'"
   ]
  },
  {
   "cell_type": "code",
   "execution_count": 304,
   "id": "94ea6473",
   "metadata": {},
   "outputs": [
    {
     "name": "stdout",
     "output_type": "stream",
     "text": [
      "بوصة: 59 بوصة × 79 بوصة عمق × 16.5 بوصة ارتفاع\n"
     ]
    },
    {
     "ename": "ValueError",
     "evalue": "invalid literal for int() with base 10: 'بوصة: 59 بوصة × 79 بوصة عمق × 16.5 بوصة ارتفاع'",
     "output_type": "error",
     "traceback": [
      "\u001b[0;31m---------------------------------------------------------------------------\u001b[0m",
      "\u001b[0;31mValueError\u001b[0m                                Traceback (most recent call last)",
      "\u001b[0;32m<ipython-input-303-d2aaef64c58d>\u001b[0m in \u001b[0;36mfilter_data_size_regex7\u001b[0;34m(text)\u001b[0m\n\u001b[1;32m     29\u001b[0m             \u001b[0;32mtry\u001b[0m\u001b[0;34m:\u001b[0m\u001b[0;34m\u001b[0m\u001b[0;34m\u001b[0m\u001b[0m\n\u001b[0;32m---> 30\u001b[0;31m                 \u001b[0mhight\u001b[0m \u001b[0;34m=\u001b[0m \u001b[0;34m(\u001b[0m\u001b[0mfloat\u001b[0m\u001b[0;34m(\u001b[0m\u001b[0mx\u001b[0m\u001b[0;34m.\u001b[0m\u001b[0mreplace\u001b[0m\u001b[0;34m(\u001b[0m\u001b[0;34m'\"'\u001b[0m\u001b[0;34m,\u001b[0m \u001b[0;34m''\u001b[0m\u001b[0;34m)\u001b[0m\u001b[0;34m.\u001b[0m\u001b[0mreplace\u001b[0m\u001b[0;34m(\u001b[0m\u001b[0;34m'H'\u001b[0m\u001b[0;34m,\u001b[0m \u001b[0;34m''\u001b[0m\u001b[0;34m)\u001b[0m\u001b[0;34m.\u001b[0m\u001b[0mstrip\u001b[0m\u001b[0;34m(\u001b[0m\u001b[0;34m)\u001b[0m\u001b[0;34m)\u001b[0m\u001b[0;34m*\u001b[0m \u001b[0;36m2.54\u001b[0m\u001b[0;34m)\u001b[0m\u001b[0;34m\u001b[0m\u001b[0;34m\u001b[0m\u001b[0m\n\u001b[0m\u001b[1;32m     31\u001b[0m                 \u001b[0mprint\u001b[0m\u001b[0;34m(\u001b[0m\u001b[0;34m'hight'\u001b[0m\u001b[0;34m,\u001b[0m \u001b[0mhight\u001b[0m\u001b[0;34m)\u001b[0m\u001b[0;34m\u001b[0m\u001b[0;34m\u001b[0m\u001b[0m\n",
      "\u001b[0;31mValueError\u001b[0m: could not convert string to float: 'بوصة: 59 بوصة × 79 بوصة عمق × 16.5 بوصة ارتفاع'",
      "\nDuring handling of the above exception, another exception occurred:\n",
      "\u001b[0;31mValueError\u001b[0m                                Traceback (most recent call last)",
      "\u001b[0;32m<ipython-input-304-4adf78ada5fc>\u001b[0m in \u001b[0;36m<module>\u001b[0;34m\u001b[0m\n\u001b[1;32m      1\u001b[0m \u001b[0mtext\u001b[0m \u001b[0;34m=\u001b[0m \u001b[0;34m'بوصة: 59 بوصة × 79 بوصة عمق × 16.5 بوصة ارتفاع'\u001b[0m\u001b[0;34m\u001b[0m\u001b[0;34m\u001b[0m\u001b[0m\n\u001b[0;32m----> 2\u001b[0;31m \u001b[0mprint\u001b[0m\u001b[0;34m(\u001b[0m\u001b[0mfilter_data_size_regex7\u001b[0m\u001b[0;34m(\u001b[0m\u001b[0mtext\u001b[0m\u001b[0;34m)\u001b[0m\u001b[0;34m)\u001b[0m\u001b[0;34m\u001b[0m\u001b[0;34m\u001b[0m\u001b[0m\n\u001b[0m",
      "\u001b[0;32m<ipython-input-303-d2aaef64c58d>\u001b[0m in \u001b[0;36mfilter_data_size_regex7\u001b[0;34m(text)\u001b[0m\n\u001b[1;32m     31\u001b[0m                 \u001b[0mprint\u001b[0m\u001b[0;34m(\u001b[0m\u001b[0;34m'hight'\u001b[0m\u001b[0;34m,\u001b[0m \u001b[0mhight\u001b[0m\u001b[0;34m)\u001b[0m\u001b[0;34m\u001b[0m\u001b[0;34m\u001b[0m\u001b[0m\n\u001b[1;32m     32\u001b[0m             \u001b[0;32mexcept\u001b[0m\u001b[0;34m:\u001b[0m\u001b[0;34m\u001b[0m\u001b[0;34m\u001b[0m\u001b[0m\n\u001b[0;32m---> 33\u001b[0;31m                 \u001b[0mhight\u001b[0m \u001b[0;34m=\u001b[0m \u001b[0;34m(\u001b[0m\u001b[0mint\u001b[0m\u001b[0;34m(\u001b[0m\u001b[0mx\u001b[0m\u001b[0;34m.\u001b[0m\u001b[0mreplace\u001b[0m\u001b[0;34m(\u001b[0m\u001b[0;34m'\"'\u001b[0m\u001b[0;34m,\u001b[0m \u001b[0;34m''\u001b[0m\u001b[0;34m)\u001b[0m\u001b[0;34m.\u001b[0m\u001b[0mreplace\u001b[0m\u001b[0;34m(\u001b[0m\u001b[0;34m'H'\u001b[0m\u001b[0;34m,\u001b[0m \u001b[0;34m''\u001b[0m\u001b[0;34m)\u001b[0m\u001b[0;34m.\u001b[0m\u001b[0mstrip\u001b[0m\u001b[0;34m(\u001b[0m\u001b[0;34m)\u001b[0m\u001b[0;34m)\u001b[0m\u001b[0;34m*\u001b[0m \u001b[0;36m2.54\u001b[0m\u001b[0;34m)\u001b[0m\u001b[0;34m\u001b[0m\u001b[0;34m\u001b[0m\u001b[0m\n\u001b[0m\u001b[1;32m     34\u001b[0m                 \u001b[0mprint\u001b[0m\u001b[0;34m(\u001b[0m\u001b[0;34m'hight'\u001b[0m\u001b[0;34m,\u001b[0m \u001b[0mhight\u001b[0m\u001b[0;34m)\u001b[0m\u001b[0;34m\u001b[0m\u001b[0;34m\u001b[0m\u001b[0m\n\u001b[1;32m     35\u001b[0m     \u001b[0mprint\u001b[0m\u001b[0;34m(\u001b[0m\u001b[0;34m'W:'\u001b[0m\u001b[0;34m,\u001b[0m \u001b[0mwidth\u001b[0m\u001b[0;34m)\u001b[0m\u001b[0;34m\u001b[0m\u001b[0;34m\u001b[0m\u001b[0m\n",
      "\u001b[0;31mValueError\u001b[0m: invalid literal for int() with base 10: 'بوصة: 59 بوصة × 79 بوصة عمق × 16.5 بوصة ارتفاع'"
     ]
    }
   ],
   "source": []
  },
  {
   "cell_type": "code",
   "execution_count": null,
   "id": "2fdb5f0c",
   "metadata": {},
   "outputs": [],
   "source": []
  },
  {
   "cell_type": "code",
   "execution_count": 369,
   "id": "8f79fabb",
   "metadata": {},
   "outputs": [],
   "source": [
    "def filter_data_size_regex5(text):\n",
    "    print(text)\n",
    "    width = 0.0\n",
    "    lenght = 0.0\n",
    "    hight = 0.0\n",
    "    for x in text:\n",
    "#     print(data)\n",
    "        \n",
    "        if 'W' in x:\n",
    "    #         print(x)\n",
    "            try:\n",
    "                width = float(delete_all_carecter(x)) * 2.54\n",
    "                print('width', width)\n",
    "            except:\n",
    "                width = delete_all_carecter(x) * 2.54\n",
    "                print('width', width)\n",
    "        elif 'D' in x:\n",
    "    #         print(x)\n",
    "            try:\n",
    "                lenght = float(delete_all_carecter(x)) * 2.54\n",
    "                print('width', lenght)\n",
    "            except:\n",
    "                lenght = delete_all_carecter(x) * 2.54\n",
    "                print('width', lenght)\n",
    "\n",
    "        else:\n",
    "    #         print(x)\n",
    "            try:\n",
    "                hight = float(delete_all_carecter(x)) * 2.54\n",
    "                print('width', hight)\n",
    "            except:\n",
    "                hight = delete_all_carecter(x) * 2.54\n",
    "                print('width', hight)\n",
    "    print('W:', width)\n",
    "    print('L:', lenght)\n",
    "    print('H:', hight)\n",
    "    return width, lenght, hight"
   ]
  },
  {
   "cell_type": "code",
   "execution_count": 367,
   "id": "a9c7e034",
   "metadata": {},
   "outputs": [],
   "source": [
    "def filter_data_size_regex7(text):\n",
    "    \n",
    "    width = 0.0\n",
    "    lenght = 0.0\n",
    "    hight = 0.0\n",
    "    text1 = text.split('×')\n",
    "    print(text1)\n",
    "    for x in text1:\n",
    "#     print(data)\n",
    "        \n",
    "        if 'عمق' in x:\n",
    "            print(x)\n",
    "            try:\n",
    "                width = float(delete_all_carecter(x) ) * 2.54\n",
    "                print('width', width)\n",
    "            except:\n",
    "                width = delete_all_carecter(x) * 2.54\n",
    "                print('width', width)\n",
    "        elif 'ارتفاع' in x:\n",
    "            print(x)\n",
    "            try:\n",
    "                lenght = float(delete_all_carecter(x)) * 2.54\n",
    "                print('lenght', lenght)\n",
    "            except:\n",
    "                lenght = delete_all_carecter(x) * 2.54\n",
    "                print('lenght', lenght)\n",
    "\n",
    "        else:\n",
    "            print(x)\n",
    "            try:\n",
    "                hight = float(delete_all_carecter(x)) * 2.54\n",
    "                print('hight', hight)\n",
    "            except:\n",
    "                hight = delete_all_carecter(x)* 2.54\n",
    "                print('hight', hight)\n",
    "    print('W:', width)\n",
    "    print('L:', lenght)\n",
    "    print('H:', hight)\n",
    "    return width, lenght, hight"
   ]
  },
  {
   "cell_type": "code",
   "execution_count": 341,
   "id": "ae672778",
   "metadata": {},
   "outputs": [],
   "source": [
    "def filter_data_size_regex8(text):\n",
    "    \n",
    "    width = 0.0\n",
    "    lenght = 0.0\n",
    "    hight = 0.0\n",
    "    text1 = text.split('x')\n",
    "    print(text1)\n",
    "    for x in text1:\n",
    "#     print(data)\n",
    "        \n",
    "        if 'W' in x:\n",
    "    #         print(x)\n",
    "            try:\n",
    "                width = float(delete_all_carecter(x)) * 2.54\n",
    "                print('width', width)\n",
    "            except:\n",
    "                width = delete_all_carecter(x) * 2.54\n",
    "                print('width', width)\n",
    "        elif 'D' in x:\n",
    "    #         print(x)\n",
    "            try:\n",
    "                lenght = float(delete_all_carecter(x)) * 2.54\n",
    "                print('lenght', lenght)\n",
    "            except:\n",
    "                lenght = delete_all_carecter(x) * 2.54\n",
    "                print('lenght', lenght)\n",
    "\n",
    "        else:\n",
    "    #         print(x)\n",
    "            try:\n",
    "                hight = float(delete_all_carecter(x))* 2.54 \n",
    "                print('hight', hight)\n",
    "            except:\n",
    "                hight = delete_all_carecter(x) * 2.54\n",
    "                print('hight', hight)\n",
    "    print('W:', width)\n",
    "    print('L:', lenght)\n",
    "    print('H:', hight)\n",
    "    return width, lenght, hight"
   ]
  },
  {
   "cell_type": "code",
   "execution_count": 368,
   "id": "a0a32e4d",
   "metadata": {},
   "outputs": [
    {
     "name": "stdout",
     "output_type": "stream",
     "text": [
      "['بوصة: 59 بوصة ', ' 79 بوصة عمق ', ' 16.5 بوصة ارتفاع']\n",
      "بوصة: 59 بوصة \n",
      "hight 149.86\n",
      " 79 بوصة عمق \n",
      "width 200.66\n",
      " 16.5 بوصة ارتفاع\n",
      "lenght 41.910000000000004\n",
      "W: 200.66\n",
      "L: 41.910000000000004\n",
      "H: 149.86\n"
     ]
    },
    {
     "data": {
      "text/plain": [
       "(200.66, 41.910000000000004, 149.86)"
      ]
     },
     "execution_count": 368,
     "metadata": {},
     "output_type": "execute_result"
    }
   ],
   "source": [
    "text = 'بوصة: 59 بوصة × 79 بوصة عمق × 16.5 بوصة ارتفاع'\n",
    "filter_data_size_regex7(text)\n"
   ]
  },
  {
   "cell_type": "code",
   "execution_count": null,
   "id": "6fcec0db",
   "metadata": {},
   "outputs": [],
   "source": []
  },
  {
   "cell_type": "code",
   "execution_count": 362,
   "id": "248df721",
   "metadata": {},
   "outputs": [],
   "source": [
    "def delete_all_carecter(text):\n",
    "    list_car = [\n",
    "        'W', 'w', ':', '\"', 'x', 'X', '\"', 'Inches', 'inches', 'inche', 'Inche', '', 'بوصة', 'ارتفاع', 'عمق', 'الأبعاد','عرض',\n",
    "        'D', 'H', 'h', 'd', 'بوصة:', 'بوصة', 'ة'\n",
    "    ]\n",
    "    for car in list_car:\n",
    "        text = text.replace(car, '')\n",
    "    return text.strip()"
   ]
  },
  {
   "cell_type": "code",
   "execution_count": null,
   "id": "838c9d86",
   "metadata": {},
   "outputs": [],
   "source": []
  },
  {
   "cell_type": "code",
   "execution_count": null,
   "id": "858783d6",
   "metadata": {},
   "outputs": [],
   "source": [
    "cas7_regex = re.compile(r'بوصة عرض × (\\s*\\d+.?\\d+\\s*) *')"
   ]
  },
  {
   "cell_type": "code",
   "execution_count": 353,
   "id": "c46025a6",
   "metadata": {},
   "outputs": [
    {
     "data": {
      "text/plain": [
       "<filter at 0x7fc973182c40>"
      ]
     },
     "execution_count": 353,
     "metadata": {},
     "output_type": "execute_result"
    }
   ],
   "source": [
    "toto = filter(str.isdigit, '')\n",
    "toto"
   ]
  },
  {
   "cell_type": "code",
   "execution_count": 355,
   "id": "12d38d7b",
   "metadata": {},
   "outputs": [
    {
     "data": {
      "text/plain": [
       "'6659'"
      ]
     },
     "execution_count": 355,
     "metadata": {},
     "output_type": "execute_result"
    }
   ],
   "source": [
    "''.join(filter(str.isdigit, 'بوصة: 6.659 بوصة'))"
   ]
  },
  {
   "cell_type": "code",
   "execution_count": 359,
   "id": "1c45dfef",
   "metadata": {},
   "outputs": [],
   "source": [
    "cc = '79 بوصة عمق '"
   ]
  },
  {
   "cell_type": "code",
   "execution_count": 361,
   "id": "d3179e48",
   "metadata": {},
   "outputs": [
    {
     "data": {
      "text/plain": [
       "'79   '"
      ]
     },
     "execution_count": 361,
     "metadata": {},
     "output_type": "execute_result"
    }
   ],
   "source": [
    "cc = cc.replace('عمق', '').replace('بوصة', '')\n",
    "cc"
   ]
  },
  {
   "cell_type": "code",
   "execution_count": null,
   "id": "8f029787",
   "metadata": {},
   "outputs": [],
   "source": []
  },
  {
   "cell_type": "code",
   "execution_count": 218,
   "id": "500cf3a5",
   "metadata": {},
   "outputs": [
    {
     "name": "stdout",
     "output_type": "stream",
     "text": [
      "regex8\n",
      "Inches: 63\" W x 28\" D x 32.5\" H\n"
     ]
    }
   ],
   "source": [
    "for des in toto_des:\n",
    "    regex_pass(des)"
   ]
  },
  {
   "cell_type": "code",
   "execution_count": null,
   "id": "1a14629c",
   "metadata": {},
   "outputs": [],
   "source": []
  },
  {
   "cell_type": "code",
   "execution_count": null,
   "id": "674c27ee",
   "metadata": {},
   "outputs": [],
   "source": []
  },
  {
   "cell_type": "code",
   "execution_count": null,
   "id": "84f3ec3f",
   "metadata": {},
   "outputs": [],
   "source": []
  },
  {
   "cell_type": "code",
   "execution_count": 176,
   "id": "c226830b",
   "metadata": {},
   "outputs": [],
   "source": [
    "text2 = 'وصة: 47.38 بوصة عرض × 23.63 بوصة عمق × 30 بوصة ارتفاع'"
   ]
  },
  {
   "cell_type": "code",
   "execution_count": 177,
   "id": "8223e9f7",
   "metadata": {},
   "outputs": [
    {
     "name": "stdout",
     "output_type": "stream",
     "text": [
      "<re.Match object; span=(11, 28), match='بوصة عرض × 23.63 '>\n"
     ]
    }
   ],
   "source": [
    "cas6_regex = re.compile(r'بوصة عرض × (\\s*\\d+.?\\d+\\s*) *')\n",
    "print(cas5_regex.search(text2))"
   ]
  },
  {
   "cell_type": "code",
   "execution_count": null,
   "id": "3da59949",
   "metadata": {},
   "outputs": [],
   "source": []
  },
  {
   "cell_type": "code",
   "execution_count": null,
   "id": "51023732",
   "metadata": {},
   "outputs": [],
   "source": []
  },
  {
   "cell_type": "code",
   "execution_count": null,
   "id": "3efb8bc5",
   "metadata": {},
   "outputs": [],
   "source": []
  },
  {
   "cell_type": "code",
   "execution_count": null,
   "id": "acdd6d72",
   "metadata": {},
   "outputs": [],
   "source": []
  },
  {
   "cell_type": "code",
   "execution_count": 45,
   "id": "e553aa77",
   "metadata": {},
   "outputs": [],
   "source": [
    "description_list12 = description_list1.split('\\n')"
   ]
  },
  {
   "cell_type": "code",
   "execution_count": 128,
   "id": "cd71a204",
   "metadata": {},
   "outputs": [],
   "source": [
    "text = ['15.8\"W ', ' 15.8\"D ', ' 18\"H']"
   ]
  },
  {
   "cell_type": "code",
   "execution_count": 139,
   "id": "c5443058",
   "metadata": {},
   "outputs": [
    {
     "name": "stdout",
     "output_type": "stream",
     "text": [
      "width 15.8\n"
     ]
    }
   ],
   "source": [
    "for x in text:\n",
    "#     print(data)\n",
    "    width = 0.0\n",
    "    lenght = 0.0\n",
    "    hight = 0.0\n",
    "    if 'W' in x:\n",
    "#         print(x)\n",
    "        try:\n",
    "            width = float(x.replace('\"', '').replace('W', '').strip())\n",
    "            print('width', width)\n",
    "        except:\n",
    "            width = int(x.replace('\"', '').replace('W', '').strip())\n",
    "            print('width', width)\n",
    "    if 'D' in x:\n",
    "#         print(x)\n",
    "        try:\n",
    "            lenght = float(x.replace('\"', '').replace('D', '').strip())\n",
    "            print('lenght', width)\n",
    "        except:\n",
    "            lenght = int(x.replace('\"', '').replace('D', '').strip())\n",
    "            print('lenght', width)\n",
    "            \n",
    "    if 'H' in x:\n",
    "#         print(x)\n",
    "        try:\n",
    "            hight = float(x.replace('\"', '').replace('H', '').strip())\n",
    "            print('width', width)\n",
    "        except:\n",
    "            hight = int(x.replace('\"', '').replace('H', '').strip())\n",
    "            print('width', width)"
   ]
  },
  {
   "cell_type": "code",
   "execution_count": null,
   "id": "4780612a",
   "metadata": {},
   "outputs": [],
   "source": []
  },
  {
   "cell_type": "code",
   "execution_count": null,
   "id": "da92df20",
   "metadata": {},
   "outputs": [],
   "source": []
  },
  {
   "cell_type": "code",
   "execution_count": null,
   "id": "19c06dd6",
   "metadata": {},
   "outputs": [],
   "source": []
  },
  {
   "cell_type": "code",
   "execution_count": null,
   "id": "7a3e4e09",
   "metadata": {},
   "outputs": [],
   "source": []
  },
  {
   "cell_type": "code",
   "execution_count": null,
   "id": "5a8525e0",
   "metadata": {},
   "outputs": [],
   "source": []
  },
  {
   "cell_type": "code",
   "execution_count": null,
   "id": "e48fdb1d",
   "metadata": {},
   "outputs": [],
   "source": []
  },
  {
   "cell_type": "code",
   "execution_count": null,
   "id": "956bf86a",
   "metadata": {},
   "outputs": [],
   "source": []
  },
  {
   "cell_type": "code",
   "execution_count": null,
   "id": "ac96ffef",
   "metadata": {},
   "outputs": [],
   "source": []
  },
  {
   "cell_type": "code",
   "execution_count": 323,
   "id": "169b4b4a",
   "metadata": {},
   "outputs": [
    {
     "data": {
      "text/plain": [
       "'2 D (in)'"
      ]
     },
     "execution_count": 323,
     "metadata": {},
     "output_type": "execute_result"
    }
   ],
   "source": [
    "toto[return_i(text, 'H')].replace('”', '').replace('H', '').strip()\n"
   ]
  },
  {
   "cell_type": "code",
   "execution_count": null,
   "id": "c5eb13bb",
   "metadata": {},
   "outputs": [],
   "source": []
  },
  {
   "cell_type": "code",
   "execution_count": null,
   "id": "04710072",
   "metadata": {},
   "outputs": [],
   "source": []
  },
  {
   "cell_type": "code",
   "execution_count": null,
   "id": "43b9f44c",
   "metadata": {},
   "outputs": [],
   "source": []
  },
  {
   "cell_type": "code",
   "execution_count": null,
   "id": "7d058df1",
   "metadata": {},
   "outputs": [],
   "source": []
  },
  {
   "cell_type": "code",
   "execution_count": 308,
   "id": "cafef249",
   "metadata": {},
   "outputs": [
    {
     "name": "stdout",
     "output_type": "stream",
     "text": [
      "j ai remplacer 2\n"
     ]
    },
    {
     "data": {
      "text/plain": [
       "'5.08'"
      ]
     },
     "execution_count": 308,
     "metadata": {},
     "output_type": "execute_result"
    }
   ],
   "source": [
    "lenght = return_centimers(text[return_i(text, 'L')].replace('”', '').replace('L', '').strip())\n",
    "lenght"
   ]
  },
  {
   "cell_type": "code",
   "execution_count": 109,
   "id": "b309c761",
   "metadata": {},
   "outputs": [],
   "source": [
    "cas1_regex = re.compile('[0-9]+ W X [0-9]+ H X [0-9]+ D')"
   ]
  },
  {
   "cell_type": "code",
   "execution_count": 126,
   "id": "88d5d175",
   "metadata": {},
   "outputs": [
    {
     "data": {
      "text/plain": [
       "'15.5\" x 15.5\" x 4.5\"'"
      ]
     },
     "execution_count": 126,
     "metadata": {},
     "output_type": "execute_result"
    }
   ],
   "source": [
    "cas2 = '\\'Dimensions:15.5\" x 15.5\" x 4.5\"'.split(':')[1]\n",
    "cas2"
   ]
  },
  {
   "cell_type": "code",
   "execution_count": 237,
   "id": "ad628a93",
   "metadata": {},
   "outputs": [],
   "source": [
    "cas1 = '22 W X 34 H X 3 D (in)'"
   ]
  },
  {
   "cell_type": "code",
   "execution_count": 231,
   "id": "bef4c6fb",
   "metadata": {},
   "outputs": [],
   "source": [
    "cas3 = '15.5\" x 15.5\" x 4.5\"'"
   ]
  },
  {
   "cell_type": "code",
   "execution_count": 205,
   "id": "f6f6946b",
   "metadata": {},
   "outputs": [],
   "source": [
    "cas2 =  '61 W X 41 H X 2 D'"
   ]
  },
  {
   "cell_type": "code",
   "execution_count": null,
   "id": "a60db2ab",
   "metadata": {},
   "outputs": [],
   "source": [
    "cas2_regex = re.compile(r'(\\s*\\d+.?\\d+\\s*)(\"|W)')"
   ]
  },
  {
   "cell_type": "code",
   "execution_count": 301,
   "id": "2c961818",
   "metadata": {},
   "outputs": [],
   "source": [
    "cas1_regex = re.compile(r'(\\s*\\d+.?\\d+\\s*)( |\"| W) (x|X) (\\s*\\d+.?\\d+\\s*)( |\"| H) *')"
   ]
  },
  {
   "cell_type": "code",
   "execution_count": 252,
   "id": "45b1932d",
   "metadata": {},
   "outputs": [
    {
     "name": "stdout",
     "output_type": "stream",
     "text": [
      "None\n"
     ]
    }
   ],
   "source": [
    "\n",
    "print(cas2_regex.search(cas4))"
   ]
  },
  {
   "cell_type": "code",
   "execution_count": 302,
   "id": "cec1a842",
   "metadata": {},
   "outputs": [
    {
     "name": "stdout",
     "output_type": "stream",
     "text": [
      "<re.Match object; span=(13, 20), match=' 3.75” '>\n"
     ]
    }
   ],
   "source": [
    "# '2” L x 2” W x 3.75” H'\n",
    "cas2_regex = re.compile(r'(\\s*\\d+.?\\d+\\s*)” L*')\n",
    "print(cas2_regex.search(cas4))"
   ]
  },
  {
   "cell_type": "code",
   "execution_count": 270,
   "id": "78c0550a",
   "metadata": {},
   "outputs": [],
   "source": [
    "cas4 =  '2” L x 2” W x 3.75” H'"
   ]
  },
  {
   "cell_type": "code",
   "execution_count": 287,
   "id": "f329384a",
   "metadata": {},
   "outputs": [
    {
     "data": {
      "text/plain": [
       "['2” L ', ' 2” W ', ' 3.75” H']"
      ]
     },
     "execution_count": 287,
     "metadata": {},
     "output_type": "execute_result"
    }
   ],
   "source": [
    "text = cas4.split('x')\n",
    "text"
   ]
  },
  {
   "cell_type": "code",
   "execution_count": 293,
   "id": "6e50889b",
   "metadata": {},
   "outputs": [
    {
     "name": "stdout",
     "output_type": "stream",
     "text": [
      "j ai remplacer 2\n"
     ]
    },
    {
     "data": {
      "text/plain": [
       "'5.08'"
      ]
     },
     "execution_count": 293,
     "metadata": {},
     "output_type": "execute_result"
    }
   ],
   "source": [
    "lenght = return_centimers(text[return_i(text, 'L')].replace('”', '').replace('L', '').strip())\n",
    "lenght"
   ]
  },
  {
   "cell_type": "code",
   "execution_count": null,
   "id": "b89bf5b2",
   "metadata": {},
   "outputs": [],
   "source": []
  },
  {
   "cell_type": "code",
   "execution_count": 294,
   "id": "96d385f0",
   "metadata": {},
   "outputs": [
    {
     "name": "stdout",
     "output_type": "stream",
     "text": [
      "j ai remplacer 3.75\n",
      "foat 3.75\n",
      "result 9.53\n"
     ]
    },
    {
     "data": {
      "text/plain": [
       "'9.53'"
      ]
     },
     "execution_count": 294,
     "metadata": {},
     "output_type": "execute_result"
    }
   ],
   "source": [
    "height = return_centimers(text[return_i(text, 'H')].replace('”', '').replace('H', '').strip())\n",
    "width = return_centimers(text[return_i(text, 'W')].replace('”', '').replace('W', '').strip())\n",
    "height"
   ]
  },
  {
   "cell_type": "code",
   "execution_count": null,
   "id": "e4c73853",
   "metadata": {},
   "outputs": [],
   "source": []
  },
  {
   "cell_type": "code",
   "execution_count": 296,
   "id": "7a8efa1f",
   "metadata": {},
   "outputs": [
    {
     "name": "stdout",
     "output_type": "stream",
     "text": [
      "j ai remplacer 2\n"
     ]
    },
    {
     "data": {
      "text/plain": [
       "'5.08'"
      ]
     },
     "execution_count": 296,
     "metadata": {},
     "output_type": "execute_result"
    }
   ],
   "source": [
    "width = return_centimers(text[return_i(text, 'W')].replace('”', '').replace('W', '').strip())\n",
    "width"
   ]
  },
  {
   "cell_type": "code",
   "execution_count": null,
   "id": "4e8e4170",
   "metadata": {},
   "outputs": [],
   "source": []
  },
  {
   "cell_type": "code",
   "execution_count": null,
   "id": "f83762ff",
   "metadata": {},
   "outputs": [],
   "source": []
  },
  {
   "cell_type": "code",
   "execution_count": null,
   "id": "22048aea",
   "metadata": {},
   "outputs": [],
   "source": []
  },
  {
   "cell_type": "code",
   "execution_count": 289,
   "id": "9d3431d8",
   "metadata": {},
   "outputs": [
    {
     "data": {
      "text/plain": [
       "1"
      ]
     },
     "execution_count": 289,
     "metadata": {},
     "output_type": "execute_result"
    }
   ],
   "source": [
    "return_i(text, 'W')\n"
   ]
  },
  {
   "cell_type": "code",
   "execution_count": null,
   "id": "418d1bf4",
   "metadata": {},
   "outputs": [],
   "source": []
  },
  {
   "cell_type": "code",
   "execution_count": null,
   "id": "77252b31",
   "metadata": {},
   "outputs": [],
   "source": []
  },
  {
   "cell_type": "code",
   "execution_count": null,
   "id": "866ccce6",
   "metadata": {},
   "outputs": [],
   "source": []
  },
  {
   "cell_type": "code",
   "execution_count": null,
   "id": "08912c61",
   "metadata": {},
   "outputs": [],
   "source": []
  },
  {
   "cell_type": "code",
   "execution_count": null,
   "id": "b69c0e14",
   "metadata": {},
   "outputs": [],
   "source": []
  },
  {
   "cell_type": "code",
   "execution_count": null,
   "id": "54cbe151",
   "metadata": {},
   "outputs": [],
   "source": []
  },
  {
   "cell_type": "code",
   "execution_count": null,
   "id": "7bf70467",
   "metadata": {},
   "outputs": [],
   "source": []
  },
  {
   "cell_type": "code",
   "execution_count": null,
   "id": "1fe10a4f",
   "metadata": {},
   "outputs": [],
   "source": []
  },
  {
   "cell_type": "code",
   "execution_count": null,
   "id": "db8bcb22",
   "metadata": {},
   "outputs": [],
   "source": []
  },
  {
   "cell_type": "code",
   "execution_count": 170,
   "id": "106e0824",
   "metadata": {},
   "outputs": [],
   "source": [
    "def return_centimers(inches):\n",
    "    \n",
    "    pattern = re.compile(r'(\\w+) \\((\\d+\\.\\d+ )\\)')\n",
    "    result = None\n",
    "    if inches == None or inches == 0 or inches == '':\n",
    "        print('elif cent')\n",
    "\n",
    "        return 0\n",
    "    elif pattern.search(inches) != None:\n",
    "        print('elif cent')\n",
    "        toto = pattern.search(inches)\n",
    "\n",
    "        return toto.group(2)\n",
    "\n",
    "    else:\n",
    "        try:\n",
    "            inches = inches.replace('\"', '')\n",
    "            print('j ai remplacer', inches)\n",
    "            try:\n",
    "                inches = int(inches)\n",
    "                result = inches * 2.54\n",
    "                result = f\"{result:.2f}\"\n",
    "                return result\n",
    "            except:\n",
    "               \n",
    "                inches = float(inches)\n",
    "                print('foat', inches)\n",
    "                result = inches * 2.54\n",
    "                result = f\"{result:.2f}\"\n",
    "                print('result',result)\n",
    "                return result\n",
    "        except:\n",
    "            pass"
   ]
  },
  {
   "cell_type": "code",
   "execution_count": null,
   "id": "3ea0a4ee",
   "metadata": {},
   "outputs": [],
   "source": []
  },
  {
   "cell_type": "code",
   "execution_count": null,
   "id": "0ba4e69e",
   "metadata": {},
   "outputs": [],
   "source": []
  },
  {
   "cell_type": "code",
   "execution_count": null,
   "id": "dd23175e",
   "metadata": {},
   "outputs": [],
   "source": []
  },
  {
   "cell_type": "code",
   "execution_count": null,
   "id": "cddb2888",
   "metadata": {},
   "outputs": [],
   "source": []
  },
  {
   "cell_type": "code",
   "execution_count": null,
   "id": "a23abcb0",
   "metadata": {},
   "outputs": [],
   "source": []
  },
  {
   "cell_type": "code",
   "execution_count": 175,
   "id": "f69e9c82",
   "metadata": {},
   "outputs": [
    {
     "name": "stdout",
     "output_type": "stream",
     "text": [
      "['الأبعاد', ' 14.25 × 13 × 4.75 بوصة']\n"
     ]
    },
    {
     "ename": "IndexError",
     "evalue": "list index out of range",
     "output_type": "error",
     "traceback": [
      "\u001b[0;31m---------------------------------------------------------------------------\u001b[0m",
      "\u001b[0;31mIndexError\u001b[0m                                Traceback (most recent call last)",
      "\u001b[0;32m<ipython-input-175-0fe50e9e8e7d>\u001b[0m in \u001b[0;36m<module>\u001b[0;34m\u001b[0m\n\u001b[1;32m      3\u001b[0m \u001b[0mprint\u001b[0m\u001b[0;34m(\u001b[0m\u001b[0msize_all1\u001b[0m\u001b[0;34m)\u001b[0m\u001b[0;34m\u001b[0m\u001b[0;34m\u001b[0m\u001b[0m\n\u001b[1;32m      4\u001b[0m \u001b[0mwidth\u001b[0m \u001b[0;34m=\u001b[0m \u001b[0msize_all\u001b[0m\u001b[0;34m.\u001b[0m\u001b[0msplit\u001b[0m\u001b[0;34m(\u001b[0m\u001b[0;34m'x'\u001b[0m\u001b[0;34m)\u001b[0m\u001b[0;34m[\u001b[0m\u001b[0;36m0\u001b[0m\u001b[0;34m]\u001b[0m\u001b[0;34m\u001b[0m\u001b[0;34m\u001b[0m\u001b[0m\n\u001b[0;32m----> 5\u001b[0;31m \u001b[0mlength\u001b[0m \u001b[0;34m=\u001b[0m \u001b[0msize_all\u001b[0m\u001b[0;34m.\u001b[0m\u001b[0msplit\u001b[0m\u001b[0;34m(\u001b[0m\u001b[0;34m'x'\u001b[0m\u001b[0;34m)\u001b[0m\u001b[0;34m[\u001b[0m\u001b[0;36m1\u001b[0m\u001b[0;34m]\u001b[0m\u001b[0;34m\u001b[0m\u001b[0;34m\u001b[0m\u001b[0m\n\u001b[0m\u001b[1;32m      6\u001b[0m \u001b[0mheight\u001b[0m \u001b[0;34m=\u001b[0m \u001b[0msize_all\u001b[0m\u001b[0;34m.\u001b[0m\u001b[0msplit\u001b[0m\u001b[0;34m(\u001b[0m\u001b[0;34m'x'\u001b[0m\u001b[0;34m)\u001b[0m\u001b[0;34m[\u001b[0m\u001b[0;36m2\u001b[0m\u001b[0;34m]\u001b[0m\u001b[0;34m\u001b[0m\u001b[0;34m\u001b[0m\u001b[0m\n\u001b[1;32m      7\u001b[0m \u001b[0mprint\u001b[0m\u001b[0;34m(\u001b[0m\u001b[0;34m'H'\u001b[0m\u001b[0;34m,\u001b[0m \u001b[0mheight\u001b[0m\u001b[0;34m)\u001b[0m\u001b[0;34m\u001b[0m\u001b[0;34m\u001b[0m\u001b[0m\n",
      "\u001b[0;31mIndexError\u001b[0m: list index out of range"
     ]
    }
   ],
   "source": [
    "size_all1 = driver.find_element_by_class_name('product__dimensions').text.split(':')\n",
    "size_all = size_all1[1].replace('inch', '').replace('بوصة', '').strip()\n",
    "print(size_all1)\n",
    "width = size_all.split('x')[0]\n",
    "length = size_all.split('x')[1]\n",
    "height = size_all.split('x')[2]\n",
    "print('H', height)\n",
    "print('L',length)\n",
    "print('W',width)"
   ]
  },
  {
   "cell_type": "code",
   "execution_count": 180,
   "id": "1a630771",
   "metadata": {},
   "outputs": [
    {
     "name": "stdout",
     "output_type": "stream",
     "text": [
      "H  4.75\n",
      "L  13 \n",
      "W 14.25 \n"
     ]
    }
   ],
   "source": [
    "size_all1 = driver.find_element_by_class_name('product__dimensions').text.split(':')\n",
    "size_all = size_all1[1].replace('inch', '').replace('بوصة', '').strip()\n",
    "size_all\n",
    "width = size_all.split('×')[0]\n",
    "length = size_all.split('×')[1]\n",
    "height = size_all.split('×')[2]\n",
    "print('H', height)\n",
    "print('L',length)\n",
    "print('W',width)"
   ]
  },
  {
   "cell_type": "code",
   "execution_count": null,
   "id": "5fb33f3d",
   "metadata": {},
   "outputs": [],
   "source": []
  },
  {
   "cell_type": "code",
   "execution_count": 7,
   "id": "16689423",
   "metadata": {},
   "outputs": [
    {
     "name": "stdout",
     "output_type": "stream",
     "text": [
      "https://cdn.shopify.com/s/files/1/0773/5495/products/tra-mirror-006-hr_400x.jpg\n",
      "https://cdn.shopify.com/s/files/1/0773/5495/products/tra-closto-037_RS_400x.jpg\n",
      "https://cdn.shopify.com/s/files/1/0773/5495/products/tra-closto-037_RS2_400x.jpg\n",
      "https://cdn.shopify.com/s/files/1/0773/5495/products/tra-closto-042_RS_400x.jpg\n",
      "len list images 4\n"
     ]
    }
   ],
   "source": [
    "list_images = []\n",
    "time.sleep(2)\n",
    "images_click = driver.find_elements_by_class_name('product-gallery__thumbnail')\n",
    "\n",
    "\n",
    "for ele in images_click:\n",
    "    #ele.click()\n",
    "    driver.execute_script(\"arguments[0].click();\", ele)\n",
    "    time.sleep(1)\n",
    "images = driver.find_elements_by_class_name('product-gallery__image')\n",
    "len(images)\n",
    "for img in images:\n",
    "    #list_images.append('https:'+img.get_attribute('data-srcset').split(' ')[0])\n",
    "#     print(':', img.get_attribute('srcset').split(', ')[0].split('?')[0])\n",
    "    t = 'https:'+img.get_attribute('data-srcset').split(', ')[0].split('?')[0]\n",
    "#     print(img.get_attribute('data-srcset'))\n",
    "#     soup = BeautifulSoup(img.get_attribute('innerHTML'), 'html.parser')\n",
    "#     print('toto',soup)\n",
    "    print(t)\n",
    "    list_images.append(t)\n",
    "print('len list images',len(list_images))"
   ]
  },
  {
   "cell_type": "code",
   "execution_count": null,
   "id": "382ff1f0",
   "metadata": {},
   "outputs": [],
   "source": []
  },
  {
   "cell_type": "code",
   "execution_count": null,
   "id": "291a3247",
   "metadata": {},
   "outputs": [],
   "source": []
  },
  {
   "cell_type": "code",
   "execution_count": null,
   "id": "2ceacf9c",
   "metadata": {},
   "outputs": [],
   "source": []
  },
  {
   "cell_type": "code",
   "execution_count": null,
   "id": "6308ec78",
   "metadata": {},
   "outputs": [],
   "source": []
  },
  {
   "cell_type": "code",
   "execution_count": null,
   "id": "53f9b991",
   "metadata": {},
   "outputs": [],
   "source": []
  },
  {
   "cell_type": "code",
   "execution_count": null,
   "id": "15550f0d",
   "metadata": {},
   "outputs": [],
   "source": []
  },
  {
   "cell_type": "code",
   "execution_count": null,
   "id": "9baa0d22",
   "metadata": {},
   "outputs": [],
   "source": []
  },
  {
   "cell_type": "code",
   "execution_count": null,
   "id": "f2899e3a",
   "metadata": {},
   "outputs": [],
   "source": []
  },
  {
   "cell_type": "code",
   "execution_count": null,
   "id": "714493c7",
   "metadata": {},
   "outputs": [],
   "source": []
  },
  {
   "cell_type": "code",
   "execution_count": 172,
   "id": "bd03afbf",
   "metadata": {},
   "outputs": [
    {
     "name": "stdout",
     "output_type": "stream",
     "text": [
      "toto\n",
      "H  4.5\"\n",
      "L  15.5\" \n",
      "W 15.5\" \n",
      "j ai remplacer  4.5\n",
      "foat 4.5\n",
      "result 11.43\n",
      "j ai remplacer  15.5 \n",
      "foat 15.5\n",
      "result 39.37\n",
      "j ai remplacer 15.5 \n",
      "foat 15.5\n",
      "result 39.37\n",
      "Change inches to cm\n",
      "H 11.43\n",
      "L 39.37\n",
      "W 39.37\n"
     ]
    }
   ],
   "source": [
    "if 'inch' in size_all1[0] or '\"' in size_all:\n",
    "    print('toto')\n",
    "    print('H', height)\n",
    "    print('L',length)\n",
    "    print('W',width)\n",
    "    height = return_centimers(height)\n",
    "    length = return_centimers(length)\n",
    "    width = return_centimers(width)\n",
    "    print('Change inches to cm')\n",
    "print('H', height)\n",
    "print('L',length)\n",
    "print('W',width)"
   ]
  },
  {
   "cell_type": "code",
   "execution_count": null,
   "id": "4dfdf373",
   "metadata": {},
   "outputs": [],
   "source": []
  },
  {
   "cell_type": "code",
   "execution_count": null,
   "id": "6bfc01a8",
   "metadata": {},
   "outputs": [],
   "source": []
  },
  {
   "cell_type": "code",
   "execution_count": 159,
   "id": "778d8d9b",
   "metadata": {},
   "outputs": [
    {
     "data": {
      "text/plain": [
       "'15.5'"
      ]
     },
     "execution_count": 159,
     "metadata": {},
     "output_type": "execute_result"
    }
   ],
   "source": [
    "'15.5\"'.replace('\"', '')"
   ]
  },
  {
   "cell_type": "code",
   "execution_count": null,
   "id": "6eb48cdf",
   "metadata": {},
   "outputs": [],
   "source": []
  },
  {
   "cell_type": "code",
   "execution_count": null,
   "id": "3ae91643",
   "metadata": {},
   "outputs": [],
   "source": []
  },
  {
   "cell_type": "code",
   "execution_count": null,
   "id": "0db67c49",
   "metadata": {},
   "outputs": [],
   "source": []
  },
  {
   "cell_type": "code",
   "execution_count": null,
   "id": "5b7f2ed7",
   "metadata": {},
   "outputs": [],
   "source": []
  },
  {
   "cell_type": "code",
   "execution_count": null,
   "id": "de30e85c",
   "metadata": {},
   "outputs": [],
   "source": []
  },
  {
   "cell_type": "code",
   "execution_count": null,
   "id": "79c596d4",
   "metadata": {},
   "outputs": [],
   "source": []
  },
  {
   "cell_type": "code",
   "execution_count": null,
   "id": "6f050081",
   "metadata": {},
   "outputs": [],
   "source": []
  },
  {
   "cell_type": "code",
   "execution_count": null,
   "id": "72122fcb",
   "metadata": {},
   "outputs": [],
   "source": []
  },
  {
   "cell_type": "code",
   "execution_count": null,
   "id": "90e99d32",
   "metadata": {},
   "outputs": [],
   "source": []
  },
  {
   "cell_type": "code",
   "execution_count": null,
   "id": "5d5b4d13",
   "metadata": {},
   "outputs": [],
   "source": []
  },
  {
   "cell_type": "code",
   "execution_count": null,
   "id": "eeef5282",
   "metadata": {},
   "outputs": [],
   "source": []
  },
  {
   "cell_type": "code",
   "execution_count": null,
   "id": "a3d409f2",
   "metadata": {},
   "outputs": [],
   "source": []
  },
  {
   "cell_type": "code",
   "execution_count": null,
   "id": "484b62db",
   "metadata": {},
   "outputs": [],
   "source": [
    "s"
   ]
  },
  {
   "cell_type": "code",
   "execution_count": null,
   "id": "e4566fb7",
   "metadata": {},
   "outputs": [],
   "source": []
  },
  {
   "cell_type": "code",
   "execution_count": null,
   "id": "c9b3ba73",
   "metadata": {},
   "outputs": [],
   "source": []
  },
  {
   "cell_type": "code",
   "execution_count": null,
   "id": "f19cf674",
   "metadata": {},
   "outputs": [],
   "source": []
  },
  {
   "cell_type": "code",
   "execution_count": null,
   "id": "61d759d3",
   "metadata": {},
   "outputs": [],
   "source": []
  },
  {
   "cell_type": "code",
   "execution_count": null,
   "id": "9183b15c",
   "metadata": {},
   "outputs": [],
   "source": []
  },
  {
   "cell_type": "code",
   "execution_count": null,
   "id": "d71b29a6",
   "metadata": {},
   "outputs": [],
   "source": []
  },
  {
   "cell_type": "code",
   "execution_count": 106,
   "id": "70dca28d",
   "metadata": {},
   "outputs": [
    {
     "name": "stdout",
     "output_type": "stream",
     "text": [
      "H  4.5\n",
      "L  15.5 \n",
      "W 15.5 \n"
     ]
    }
   ],
   "source": [
    "width = size_all.split('x')[0]\n",
    "length = size_all.split('x')[1]\n",
    "height = size_all.split('x')[2]\n",
    "print('H', height)\n",
    "print('L',length)\n",
    "print('W',width)\n"
   ]
  },
  {
   "cell_type": "code",
   "execution_count": null,
   "id": "95698f54",
   "metadata": {},
   "outputs": [],
   "source": []
  },
  {
   "cell_type": "code",
   "execution_count": null,
   "id": "9425d0ca",
   "metadata": {},
   "outputs": [],
   "source": []
  },
  {
   "cell_type": "code",
   "execution_count": null,
   "id": "18e7c121",
   "metadata": {},
   "outputs": [],
   "source": []
  },
  {
   "cell_type": "code",
   "execution_count": null,
   "id": "90c6f534",
   "metadata": {},
   "outputs": [],
   "source": []
  },
  {
   "cell_type": "code",
   "execution_count": null,
   "id": "8dc536c0",
   "metadata": {},
   "outputs": [],
   "source": []
  },
  {
   "cell_type": "code",
   "execution_count": null,
   "id": "8102866b",
   "metadata": {},
   "outputs": [],
   "source": [
    "width = size_all.split('x')[0]\n",
    "width"
   ]
  },
  {
   "cell_type": "code",
   "execution_count": null,
   "id": "a0faecd3",
   "metadata": {},
   "outputs": [],
   "source": []
  },
  {
   "cell_type": "code",
   "execution_count": null,
   "id": "74727bd9",
   "metadata": {},
   "outputs": [],
   "source": []
  },
  {
   "cell_type": "code",
   "execution_count": null,
   "id": "ea197e10",
   "metadata": {},
   "outputs": [],
   "source": []
  },
  {
   "cell_type": "code",
   "execution_count": null,
   "id": "71b984dc",
   "metadata": {},
   "outputs": [],
   "source": []
  },
  {
   "cell_type": "code",
   "execution_count": null,
   "id": "52356a48",
   "metadata": {},
   "outputs": [],
   "source": []
  },
  {
   "cell_type": "code",
   "execution_count": null,
   "id": "1da4d913",
   "metadata": {},
   "outputs": [],
   "source": []
  },
  {
   "cell_type": "code",
   "execution_count": 39,
   "id": "1c435132",
   "metadata": {},
   "outputs": [
    {
     "ename": "AttributeError",
     "evalue": "'list' object has no attribute 'get_attribute'",
     "output_type": "error",
     "traceback": [
      "\u001b[0;31m---------------------------------------------------------------------------\u001b[0m",
      "\u001b[0;31mAttributeError\u001b[0m                            Traceback (most recent call last)",
      "\u001b[0;32m<ipython-input-39-9e618f07aa64>\u001b[0m in \u001b[0;36m<module>\u001b[0;34m\u001b[0m\n\u001b[0;32m----> 1\u001b[0;31m \u001b[0msoup\u001b[0m \u001b[0;34m=\u001b[0m \u001b[0mimages\u001b[0m\u001b[0;34m.\u001b[0m\u001b[0mget_attribute\u001b[0m\u001b[0;34m(\u001b[0m\u001b[0;34m'innerHTML'\u001b[0m\u001b[0;34m)\u001b[0m\u001b[0;34m\u001b[0m\u001b[0;34m\u001b[0m\u001b[0m\n\u001b[0m",
      "\u001b[0;31mAttributeError\u001b[0m: 'list' object has no attribute 'get_attribute'"
     ]
    }
   ],
   "source": [
    "soup = images.get_attribute('innerHTML')"
   ]
  },
  {
   "cell_type": "code",
   "execution_count": null,
   "id": "15070238",
   "metadata": {},
   "outputs": [],
   "source": [
    "product-gallery product-gallery--with-thumbnails"
   ]
  },
  {
   "cell_type": "code",
   "execution_count": 40,
   "id": "5fd1fcda",
   "metadata": {},
   "outputs": [],
   "source": [
    "images = driver.find_element_by_class_name('product-gallery')"
   ]
  },
  {
   "cell_type": "code",
   "execution_count": 52,
   "id": "7afa6377",
   "metadata": {},
   "outputs": [],
   "source": [
    "soup = images.get_attribute('innerHTML')\n",
    "soup_image = BeautifulSoup(soup, 'html.parser')\n"
   ]
  },
  {
   "cell_type": "code",
   "execution_count": 83,
   "id": "f5535343",
   "metadata": {},
   "outputs": [
    {
     "name": "stdout",
     "output_type": "stream",
     "text": [
      " أسود\n"
     ]
    }
   ],
   "source": [
    "colors = driver.find_element_by_class_name('product__color').text.split(':')[1]\n",
    "print(colors)"
   ]
  },
  {
   "cell_type": "code",
   "execution_count": null,
   "id": "fc00cac2",
   "metadata": {},
   "outputs": [],
   "source": []
  },
  {
   "cell_type": "code",
   "execution_count": null,
   "id": "04cdb912",
   "metadata": {},
   "outputs": [],
   "source": []
  },
  {
   "cell_type": "code",
   "execution_count": null,
   "id": "6e0113b4",
   "metadata": {},
   "outputs": [],
   "source": []
  },
  {
   "cell_type": "code",
   "execution_count": null,
   "id": "0a8dc492",
   "metadata": {},
   "outputs": [],
   "source": []
  },
  {
   "cell_type": "code",
   "execution_count": null,
   "id": "e210a936",
   "metadata": {},
   "outputs": [],
   "source": []
  },
  {
   "cell_type": "code",
   "execution_count": 51,
   "id": "5a7bb2d1",
   "metadata": {},
   "outputs": [
    {
     "name": "stdout",
     "output_type": "stream",
     "text": [
      "None\n"
     ]
    }
   ],
   "source": [
    "url_images = soup_image.find('div', {'class': 'product-gallery'})\n",
    "print(url_images)"
   ]
  },
  {
   "cell_type": "code",
   "execution_count": null,
   "id": "8f289eb5",
   "metadata": {},
   "outputs": [],
   "source": []
  },
  {
   "cell_type": "code",
   "execution_count": null,
   "id": "ec6b0b0e",
   "metadata": {},
   "outputs": [],
   "source": []
  },
  {
   "cell_type": "code",
   "execution_count": null,
   "id": "b30472e0",
   "metadata": {},
   "outputs": [],
   "source": []
  },
  {
   "cell_type": "code",
   "execution_count": null,
   "id": "b4aae218",
   "metadata": {},
   "outputs": [],
   "source": []
  },
  {
   "cell_type": "code",
   "execution_count": null,
   "id": "a045884d",
   "metadata": {},
   "outputs": [],
   "source": []
  },
  {
   "cell_type": "code",
   "execution_count": null,
   "id": "a5494d2c",
   "metadata": {},
   "outputs": [],
   "source": []
  },
  {
   "cell_type": "code",
   "execution_count": null,
   "id": "aa4900a7",
   "metadata": {},
   "outputs": [],
   "source": []
  },
  {
   "cell_type": "code",
   "execution_count": null,
   "id": "428a431b",
   "metadata": {},
   "outputs": [],
   "source": []
  },
  {
   "cell_type": "code",
   "execution_count": null,
   "id": "fd87a7ba",
   "metadata": {},
   "outputs": [],
   "source": []
  },
  {
   "cell_type": "code",
   "execution_count": null,
   "id": "128923d0",
   "metadata": {},
   "outputs": [],
   "source": []
  },
  {
   "cell_type": "code",
   "execution_count": null,
   "id": "255e3778",
   "metadata": {},
   "outputs": [],
   "source": []
  },
  {
   "cell_type": "code",
   "execution_count": 77,
   "id": "829ea79f",
   "metadata": {},
   "outputs": [
    {
     "name": "stdout",
     "output_type": "stream",
     "text": [
      "https://cdn.shopify.com/s/files/1/0773/5495/products/11131_400x.jpg\n"
     ]
    }
   ],
   "source": [
    "images_click = driver.find_elements_by_class_name('product-gallery__thumbnail')\n",
    "\n",
    "    \n",
    "for ele in images_click:\n",
    "    #ele.click()\n",
    "    driver.execute_script(\"arguments[0].click();\", ele)\n",
    "    time.sleep(1)\n",
    "images = driver.find_elements_by_class_name('product-gallery__image')\n",
    "len(images)\n",
    "for img in images:\n",
    "    #list_images.append('https:'+img.get_attribute('data-srcset').split(' ')[0])\n",
    "#     print(':', img.get_attribute('srcset').split(', ')[0].split('?')[0])\n",
    "    t = 'https:'+img.get_attribute('data-srcset').split(', ')[0].split('?')[0]\n",
    "#     print(img.get_attribute('data-srcset'))\n",
    "#     soup = BeautifulSoup(img.get_attribute('innerHTML'), 'html.parser')\n",
    "#     print('toto',soup)\n",
    "    print(t)\n",
    "    list_images.append(t)"
   ]
  },
  {
   "cell_type": "code",
   "execution_count": null,
   "id": "b527911e",
   "metadata": {},
   "outputs": [],
   "source": []
  },
  {
   "cell_type": "code",
   "execution_count": null,
   "id": "457c24e4",
   "metadata": {},
   "outputs": [],
   "source": []
  },
  {
   "cell_type": "code",
   "execution_count": null,
   "id": "42943dd7",
   "metadata": {},
   "outputs": [],
   "source": []
  },
  {
   "cell_type": "code",
   "execution_count": null,
   "id": "5965ae62",
   "metadata": {},
   "outputs": [],
   "source": []
  },
  {
   "cell_type": "code",
   "execution_count": 71,
   "id": "fd6da38b",
   "metadata": {},
   "outputs": [
    {
     "data": {
      "text/plain": [
       "3"
      ]
     },
     "execution_count": 71,
     "metadata": {},
     "output_type": "execute_result"
    }
   ],
   "source": [
    "images = driver.find_elements_by_class_name('product-gallery__image')\n",
    "len(images)"
   ]
  },
  {
   "cell_type": "code",
   "execution_count": null,
   "id": "961b52c1",
   "metadata": {},
   "outputs": [],
   "source": []
  },
  {
   "cell_type": "code",
   "execution_count": 196,
   "id": "cbd26ff4",
   "metadata": {
    "scrolled": true
   },
   "outputs": [
    {
     "ename": "NoSuchElementException",
     "evalue": "Message: Unable to locate element: .product__description\n",
     "output_type": "error",
     "traceback": [
      "\u001b[0;31m---------------------------------------------------------------------------\u001b[0m",
      "\u001b[0;31mNoSuchElementException\u001b[0m                    Traceback (most recent call last)",
      "\u001b[0;32m<ipython-input-196-6611cc5e34ba>\u001b[0m in \u001b[0;36m<module>\u001b[0;34m\u001b[0m\n\u001b[0;32m----> 1\u001b[0;31m \u001b[0mdescription\u001b[0m \u001b[0;34m=\u001b[0m \u001b[0mdriver\u001b[0m\u001b[0;34m.\u001b[0m\u001b[0mfind_element_by_class_name\u001b[0m\u001b[0;34m(\u001b[0m\u001b[0;34m'product__description'\u001b[0m\u001b[0;34m)\u001b[0m\u001b[0;34m.\u001b[0m\u001b[0mtext\u001b[0m\u001b[0;34m\u001b[0m\u001b[0;34m\u001b[0m\u001b[0m\n\u001b[0m",
      "\u001b[0;32m~/anaconda3/lib/python3.8/site-packages/selenium/webdriver/remote/webdriver.py\u001b[0m in \u001b[0;36mfind_element_by_class_name\u001b[0;34m(self, name)\u001b[0m\n\u001b[1;32m    562\u001b[0m             \u001b[0melement\u001b[0m \u001b[0;34m=\u001b[0m \u001b[0mdriver\u001b[0m\u001b[0;34m.\u001b[0m\u001b[0mfind_element_by_class_name\u001b[0m\u001b[0;34m(\u001b[0m\u001b[0;34m'foo'\u001b[0m\u001b[0;34m)\u001b[0m\u001b[0;34m\u001b[0m\u001b[0;34m\u001b[0m\u001b[0m\n\u001b[1;32m    563\u001b[0m         \"\"\"\n\u001b[0;32m--> 564\u001b[0;31m         \u001b[0;32mreturn\u001b[0m \u001b[0mself\u001b[0m\u001b[0;34m.\u001b[0m\u001b[0mfind_element\u001b[0m\u001b[0;34m(\u001b[0m\u001b[0mby\u001b[0m\u001b[0;34m=\u001b[0m\u001b[0mBy\u001b[0m\u001b[0;34m.\u001b[0m\u001b[0mCLASS_NAME\u001b[0m\u001b[0;34m,\u001b[0m \u001b[0mvalue\u001b[0m\u001b[0;34m=\u001b[0m\u001b[0mname\u001b[0m\u001b[0;34m)\u001b[0m\u001b[0;34m\u001b[0m\u001b[0;34m\u001b[0m\u001b[0m\n\u001b[0m\u001b[1;32m    565\u001b[0m \u001b[0;34m\u001b[0m\u001b[0m\n\u001b[1;32m    566\u001b[0m     \u001b[0;32mdef\u001b[0m \u001b[0mfind_elements_by_class_name\u001b[0m\u001b[0;34m(\u001b[0m\u001b[0mself\u001b[0m\u001b[0;34m,\u001b[0m \u001b[0mname\u001b[0m\u001b[0;34m)\u001b[0m\u001b[0;34m:\u001b[0m\u001b[0;34m\u001b[0m\u001b[0;34m\u001b[0m\u001b[0m\n",
      "\u001b[0;32m~/anaconda3/lib/python3.8/site-packages/selenium/webdriver/remote/webdriver.py\u001b[0m in \u001b[0;36mfind_element\u001b[0;34m(self, by, value)\u001b[0m\n\u001b[1;32m    974\u001b[0m                 \u001b[0mby\u001b[0m \u001b[0;34m=\u001b[0m \u001b[0mBy\u001b[0m\u001b[0;34m.\u001b[0m\u001b[0mCSS_SELECTOR\u001b[0m\u001b[0;34m\u001b[0m\u001b[0;34m\u001b[0m\u001b[0m\n\u001b[1;32m    975\u001b[0m                 \u001b[0mvalue\u001b[0m \u001b[0;34m=\u001b[0m \u001b[0;34m'[name=\"%s\"]'\u001b[0m \u001b[0;34m%\u001b[0m \u001b[0mvalue\u001b[0m\u001b[0;34m\u001b[0m\u001b[0;34m\u001b[0m\u001b[0m\n\u001b[0;32m--> 976\u001b[0;31m         return self.execute(Command.FIND_ELEMENT, {\n\u001b[0m\u001b[1;32m    977\u001b[0m             \u001b[0;34m'using'\u001b[0m\u001b[0;34m:\u001b[0m \u001b[0mby\u001b[0m\u001b[0;34m,\u001b[0m\u001b[0;34m\u001b[0m\u001b[0;34m\u001b[0m\u001b[0m\n\u001b[1;32m    978\u001b[0m             'value': value})['value']\n",
      "\u001b[0;32m~/anaconda3/lib/python3.8/site-packages/selenium/webdriver/remote/webdriver.py\u001b[0m in \u001b[0;36mexecute\u001b[0;34m(self, driver_command, params)\u001b[0m\n\u001b[1;32m    319\u001b[0m         \u001b[0mresponse\u001b[0m \u001b[0;34m=\u001b[0m \u001b[0mself\u001b[0m\u001b[0;34m.\u001b[0m\u001b[0mcommand_executor\u001b[0m\u001b[0;34m.\u001b[0m\u001b[0mexecute\u001b[0m\u001b[0;34m(\u001b[0m\u001b[0mdriver_command\u001b[0m\u001b[0;34m,\u001b[0m \u001b[0mparams\u001b[0m\u001b[0;34m)\u001b[0m\u001b[0;34m\u001b[0m\u001b[0;34m\u001b[0m\u001b[0m\n\u001b[1;32m    320\u001b[0m         \u001b[0;32mif\u001b[0m \u001b[0mresponse\u001b[0m\u001b[0;34m:\u001b[0m\u001b[0;34m\u001b[0m\u001b[0;34m\u001b[0m\u001b[0m\n\u001b[0;32m--> 321\u001b[0;31m             \u001b[0mself\u001b[0m\u001b[0;34m.\u001b[0m\u001b[0merror_handler\u001b[0m\u001b[0;34m.\u001b[0m\u001b[0mcheck_response\u001b[0m\u001b[0;34m(\u001b[0m\u001b[0mresponse\u001b[0m\u001b[0;34m)\u001b[0m\u001b[0;34m\u001b[0m\u001b[0;34m\u001b[0m\u001b[0m\n\u001b[0m\u001b[1;32m    322\u001b[0m             response['value'] = self._unwrap_value(\n\u001b[1;32m    323\u001b[0m                 response.get('value', None))\n",
      "\u001b[0;32m~/anaconda3/lib/python3.8/site-packages/selenium/webdriver/remote/errorhandler.py\u001b[0m in \u001b[0;36mcheck_response\u001b[0;34m(self, response)\u001b[0m\n\u001b[1;32m    240\u001b[0m                 \u001b[0malert_text\u001b[0m \u001b[0;34m=\u001b[0m \u001b[0mvalue\u001b[0m\u001b[0;34m[\u001b[0m\u001b[0;34m'alert'\u001b[0m\u001b[0;34m]\u001b[0m\u001b[0;34m.\u001b[0m\u001b[0mget\u001b[0m\u001b[0;34m(\u001b[0m\u001b[0;34m'text'\u001b[0m\u001b[0;34m)\u001b[0m\u001b[0;34m\u001b[0m\u001b[0;34m\u001b[0m\u001b[0m\n\u001b[1;32m    241\u001b[0m             \u001b[0;32mraise\u001b[0m \u001b[0mexception_class\u001b[0m\u001b[0;34m(\u001b[0m\u001b[0mmessage\u001b[0m\u001b[0;34m,\u001b[0m \u001b[0mscreen\u001b[0m\u001b[0;34m,\u001b[0m \u001b[0mstacktrace\u001b[0m\u001b[0;34m,\u001b[0m \u001b[0malert_text\u001b[0m\u001b[0;34m)\u001b[0m\u001b[0;34m\u001b[0m\u001b[0;34m\u001b[0m\u001b[0m\n\u001b[0;32m--> 242\u001b[0;31m         \u001b[0;32mraise\u001b[0m \u001b[0mexception_class\u001b[0m\u001b[0;34m(\u001b[0m\u001b[0mmessage\u001b[0m\u001b[0;34m,\u001b[0m \u001b[0mscreen\u001b[0m\u001b[0;34m,\u001b[0m \u001b[0mstacktrace\u001b[0m\u001b[0;34m)\u001b[0m\u001b[0;34m\u001b[0m\u001b[0;34m\u001b[0m\u001b[0m\n\u001b[0m\u001b[1;32m    243\u001b[0m \u001b[0;34m\u001b[0m\u001b[0m\n\u001b[1;32m    244\u001b[0m     \u001b[0;32mdef\u001b[0m \u001b[0m_value_or_default\u001b[0m\u001b[0;34m(\u001b[0m\u001b[0mself\u001b[0m\u001b[0;34m,\u001b[0m \u001b[0mobj\u001b[0m\u001b[0;34m,\u001b[0m \u001b[0mkey\u001b[0m\u001b[0;34m,\u001b[0m \u001b[0mdefault\u001b[0m\u001b[0;34m)\u001b[0m\u001b[0;34m:\u001b[0m\u001b[0;34m\u001b[0m\u001b[0;34m\u001b[0m\u001b[0m\n",
      "\u001b[0;31mNoSuchElementException\u001b[0m: Message: Unable to locate element: .product__description\n"
     ]
    }
   ],
   "source": [
    "description = driver.find_element_by_class_name('product__description').text"
   ]
  },
  {
   "cell_type": "code",
   "execution_count": null,
   "id": "5414e48b",
   "metadata": {},
   "outputs": [],
   "source": [
    "data-mce-fragment"
   ]
  },
  {
   "cell_type": "code",
   "execution_count": 199,
   "id": "a2e02b73",
   "metadata": {},
   "outputs": [
    {
     "data": {
      "text/plain": [
       "'Homey. Hearty. Heavenly hued. Luring with a distressed weathered gray finish, the Johnelle dining room upholstered bench is sure to make your homestead feel that much more like home. Fresh and neutral linen-weave upholstery is punctuated with contrasting nailhead trim for added character.\\nMade of solid wood\\nDistressed weathered gray finish\\nWeight\\n41 lbs. (18.6 kgs.)'"
      ]
     },
     "execution_count": 199,
     "metadata": {},
     "output_type": "execute_result"
    }
   ],
   "source": [
    "description = driver.find_element_by_xpath(\"//div[contains(@data-mce-fragment, '1')]\").text\n",
    "description"
   ]
  },
  {
   "cell_type": "code",
   "execution_count": null,
   "id": "3ac8e42c",
   "metadata": {},
   "outputs": [],
   "source": []
  },
  {
   "cell_type": "code",
   "execution_count": null,
   "id": "2e5642ca",
   "metadata": {},
   "outputs": [],
   "source": []
  },
  {
   "cell_type": "code",
   "execution_count": null,
   "id": "08daade9",
   "metadata": {},
   "outputs": [],
   "source": []
  },
  {
   "cell_type": "code",
   "execution_count": null,
   "id": "4629b7bd",
   "metadata": {},
   "outputs": [],
   "source": []
  },
  {
   "cell_type": "code",
   "execution_count": null,
   "id": "c2e73cf2",
   "metadata": {},
   "outputs": [],
   "source": []
  },
  {
   "cell_type": "code",
   "execution_count": null,
   "id": "79f6b4aa",
   "metadata": {},
   "outputs": [],
   "source": []
  },
  {
   "cell_type": "code",
   "execution_count": null,
   "id": "f4a82ed4",
   "metadata": {},
   "outputs": [],
   "source": []
  },
  {
   "cell_type": "code",
   "execution_count": null,
   "id": "7b6707ee",
   "metadata": {},
   "outputs": [],
   "source": []
  },
  {
   "cell_type": "code",
   "execution_count": null,
   "id": "f37d7b3d",
   "metadata": {},
   "outputs": [],
   "source": []
  },
  {
   "cell_type": "code",
   "execution_count": null,
   "id": "8438e392",
   "metadata": {},
   "outputs": [],
   "source": []
  },
  {
   "cell_type": "code",
   "execution_count": 138,
   "id": "54692817",
   "metadata": {},
   "outputs": [
    {
     "name": "stdout",
     "output_type": "stream",
     "text": [
      "None\n"
     ]
    }
   ],
   "source": [
    "phoneNumRegex = re.match(r'(?P<CM>\\w+) \\((?P<PC>\\d+)\\)', '18 (45 )' )\n",
    "print(phoneNumRegex)"
   ]
  },
  {
   "cell_type": "code",
   "execution_count": 160,
   "id": "54993f5e",
   "metadata": {},
   "outputs": [],
   "source": [
    "pattern = re.compile(r'(\\w+) \\((\\d+\\.\\d+ )\\)')\n"
   ]
  },
  {
   "cell_type": "code",
   "execution_count": 170,
   "id": "6cc9ff8e",
   "metadata": {},
   "outputs": [
    {
     "data": {
      "text/plain": [
       "2"
      ]
     },
     "execution_count": 170,
     "metadata": {},
     "output_type": "execute_result"
    }
   ],
   "source": [
    "list_images = []\n",
    "images_click = driver.find_elements_by_class_name('product-gallery__thumbnail')\n",
    "\n",
    "\n",
    "for ele in images_click:\n",
    "    #ele.click()\n",
    "    driver.execute_script(\"arguments[0].click();\", ele)\n",
    "    time.sleep(0.8)\n",
    "\n",
    "\n",
    "images = driver.find_elements_by_class_name('product-gallery__image')\n",
    "\n",
    "# print(len(images))\n",
    "for img in images:\n",
    "    #list_images.append('https:'+img.get_attribute('data-srcset').split(' ')[0])\n",
    "    #print(':', img.get_attribute('data-srcset'))\n",
    "    t = 'https:'+img.get_attribute('data-srcset').split(', ')[0].split('?')[0]\n",
    "    #print(t)\n",
    "    list_images.append(t)\n",
    "len(images)"
   ]
  },
  {
   "cell_type": "code",
   "execution_count": null,
   "id": "a3916b8d",
   "metadata": {},
   "outputs": [],
   "source": []
  },
  {
   "cell_type": "code",
   "execution_count": null,
   "id": "625e7454",
   "metadata": {},
   "outputs": [],
   "source": []
  },
  {
   "cell_type": "code",
   "execution_count": null,
   "id": "a0fc7e2f",
   "metadata": {},
   "outputs": [],
   "source": []
  },
  {
   "cell_type": "code",
   "execution_count": null,
   "id": "612d4457",
   "metadata": {},
   "outputs": [],
   "source": []
  },
  {
   "cell_type": "code",
   "execution_count": null,
   "id": "e6cfbc59",
   "metadata": {},
   "outputs": [],
   "source": []
  },
  {
   "cell_type": "code",
   "execution_count": null,
   "id": "8662c6d5",
   "metadata": {},
   "outputs": [],
   "source": []
  },
  {
   "cell_type": "code",
   "execution_count": 163,
   "id": "7b6e10c2",
   "metadata": {},
   "outputs": [
    {
     "name": "stdout",
     "output_type": "stream",
     "text": [
      "45.7 \n"
     ]
    }
   ],
   "source": [
    "toto = pattern.search('18 (45.7 )')\n",
    "print(toto.group(2))\n"
   ]
  },
  {
   "cell_type": "code",
   "execution_count": null,
   "id": "55fb1bea",
   "metadata": {},
   "outputs": [],
   "source": []
  },
  {
   "cell_type": "code",
   "execution_count": null,
   "id": "5673291b",
   "metadata": {},
   "outputs": [],
   "source": []
  },
  {
   "cell_type": "code",
   "execution_count": null,
   "id": "4e70f5ec",
   "metadata": {},
   "outputs": [],
   "source": []
  },
  {
   "cell_type": "code",
   "execution_count": 164,
   "id": "5f0a427b",
   "metadata": {},
   "outputs": [
    {
     "data": {
      "text/plain": [
       "['Width: 28\" (71.1 cm)',\n",
       " 'Depth: 18\" (45.7 cm)',\n",
       " 'Height: 18\" (45.7 cm)',\n",
       " '',\n",
       " ' ']"
      ]
     },
     "execution_count": 164,
     "metadata": {},
     "output_type": "execute_result"
    }
   ],
   "source": [
    "    def return_centimers(inches):\n",
    "        pattern = re.compile(r'(\\w+) \\((\\d+\\.\\d+ )\\)')\n",
    "        result = None\n",
    "        if inches == None or inches == 0 or inches == '':\n",
    "            return 0\n",
    "        elif pattern.search(inches) != None:\n",
    "            return pattern.group(2)\n",
    "        \n",
    "        else:\n",
    "            try:\n",
    "                inches = int(inches)\n",
    "                result = inches * 2.54\n",
    "                result = f\"{result:.2f}\"\n",
    "                return result\n",
    "            except:\n",
    "                print('foat', inches)\n",
    "                inches = float(inches)\n",
    "\n",
    "                result = inches * 2.54\n",
    "                result = f\"{result:.2f}\"\n",
    "                return result\n",
    "\n",
    "\n"
   ]
  },
  {
   "cell_type": "code",
   "execution_count": null,
   "id": "5d9c51e9",
   "metadata": {},
   "outputs": [],
   "source": []
  },
  {
   "cell_type": "code",
   "execution_count": null,
   "id": "77a138c1",
   "metadata": {},
   "outputs": [],
   "source": []
  },
  {
   "cell_type": "code",
   "execution_count": null,
   "id": "ad3b66c1",
   "metadata": {},
   "outputs": [],
   "source": []
  },
  {
   "cell_type": "code",
   "execution_count": null,
   "id": "90bf4bb9",
   "metadata": {},
   "outputs": [],
   "source": []
  },
  {
   "cell_type": "code",
   "execution_count": null,
   "id": "9fed4833",
   "metadata": {},
   "outputs": [],
   "source": []
  },
  {
   "cell_type": "code",
   "execution_count": null,
   "id": "73b4d0a1",
   "metadata": {},
   "outputs": [],
   "source": []
  },
  {
   "cell_type": "code",
   "execution_count": null,
   "id": "3f96d3c4",
   "metadata": {},
   "outputs": [],
   "source": []
  },
  {
   "cell_type": "code",
   "execution_count": null,
   "id": "673ad48c",
   "metadata": {},
   "outputs": [],
   "source": []
  },
  {
   "cell_type": "code",
   "execution_count": null,
   "id": "4e0bb0f2",
   "metadata": {},
   "outputs": [],
   "source": []
  },
  {
   "cell_type": "code",
   "execution_count": null,
   "id": "7964bf77",
   "metadata": {},
   "outputs": [],
   "source": []
  },
  {
   "cell_type": "code",
   "execution_count": null,
   "id": "732203bb",
   "metadata": {},
   "outputs": [],
   "source": []
  },
  {
   "cell_type": "code",
   "execution_count": null,
   "id": "c5732262",
   "metadata": {},
   "outputs": [],
   "source": []
  },
  {
   "cell_type": "code",
   "execution_count": null,
   "id": "cfb45f13",
   "metadata": {},
   "outputs": [],
   "source": []
  },
  {
   "cell_type": "code",
   "execution_count": null,
   "id": "642c2782",
   "metadata": {},
   "outputs": [],
   "source": []
  },
  {
   "cell_type": "code",
   "execution_count": null,
   "id": "e7a26eae",
   "metadata": {},
   "outputs": [],
   "source": []
  },
  {
   "cell_type": "code",
   "execution_count": null,
   "id": "02ddba25",
   "metadata": {},
   "outputs": [],
   "source": []
  },
  {
   "cell_type": "code",
   "execution_count": null,
   "id": "fe966883",
   "metadata": {},
   "outputs": [],
   "source": []
  },
  {
   "cell_type": "code",
   "execution_count": null,
   "id": "1c573877",
   "metadata": {},
   "outputs": [],
   "source": []
  },
  {
   "cell_type": "code",
   "execution_count": null,
   "id": "1fe072d4",
   "metadata": {},
   "outputs": [],
   "source": []
  },
  {
   "cell_type": "code",
   "execution_count": null,
   "id": "d99a58e1",
   "metadata": {},
   "outputs": [],
   "source": []
  },
  {
   "cell_type": "code",
   "execution_count": 143,
   "id": "d313b3d7",
   "metadata": {},
   "outputs": [
    {
     "name": "stdout",
     "output_type": "stream",
     "text": [
      "<re.Match object; span=(0, 9), match='18 (45.7)'>\n"
     ]
    }
   ],
   "source": [
    "phoneNumRegex = re.match(r'(\\w+) \\((\\d+\\.\\d+)\\)', '18 (45.7)' )\n",
    "print(phoneNumRegex)"
   ]
  },
  {
   "cell_type": "code",
   "execution_count": null,
   "id": "793e2b63",
   "metadata": {},
   "outputs": [],
   "source": []
  },
  {
   "cell_type": "code",
   "execution_count": null,
   "id": "5d869bdf",
   "metadata": {},
   "outputs": [],
   "source": []
  },
  {
   "cell_type": "code",
   "execution_count": 135,
   "id": "deff100b",
   "metadata": {},
   "outputs": [
    {
     "data": {
      "text/plain": [
       "'45.7'"
      ]
     },
     "execution_count": 135,
     "metadata": {},
     "output_type": "execute_result"
    }
   ],
   "source": [
    "phoneNumRegex[2]"
   ]
  },
  {
   "cell_type": "code",
   "execution_count": 383,
   "id": "96d1ae7c",
   "metadata": {},
   "outputs": [],
   "source": [
    "df1 = pd.read_excel('all_accessoires_update5.xlsx')\n",
    "df2= pd.read_excel('all_bedrooms_update1.xlsx')\n",
    "df3 = pd.read_excel('all_dining_room_update1.xlsx')\n",
    "df4 = pd.read_excel('all_lighting_update1.xlsx')\n",
    "df5 = pd.read_excel('all_living_rooms.xlsx')\n",
    "df6 = pd.read_excel('all_exclusive-items.xlsx')\n",
    "df7 = pd.read_excel('all_office.xlsx')"
   ]
  },
  {
   "cell_type": "code",
   "execution_count": 384,
   "id": "9df3f551",
   "metadata": {},
   "outputs": [],
   "source": [
    "df_update = pd.concat([df1, df2], ignore_index=True)\n",
    "df_update = pd.concat([df_update, df3], ignore_index=True)\n",
    "df_update = pd.concat([df_update, df4], ignore_index=True)\n",
    "df_update = pd.concat([df_update, df5], ignore_index=True)\n",
    "df_update = pd.concat([df_update, df6], ignore_index=True)\n",
    "df_update = pd.concat([df_update, df7], ignore_index=True)\n"
   ]
  },
  {
   "cell_type": "code",
   "execution_count": 364,
   "id": "9afc99a6",
   "metadata": {},
   "outputs": [],
   "source": [
    "df_update.to_excel('all_update_06_27_2021_4.xlsx')"
   ]
  },
  {
   "cell_type": "code",
   "execution_count": null,
   "id": "5799a6e1",
   "metadata": {},
   "outputs": [],
   "source": []
  },
  {
   "cell_type": "code",
   "execution_count": 388,
   "id": "d680c091",
   "metadata": {},
   "outputs": [
    {
     "data": {
      "text/plain": [
       "0"
      ]
     },
     "execution_count": 388,
     "metadata": {},
     "output_type": "execute_result"
    }
   ],
   "source": [
    "df_update.duplicated(subset=['sku']).sum()"
   ]
  },
  {
   "cell_type": "code",
   "execution_count": 387,
   "id": "ce0710c9",
   "metadata": {},
   "outputs": [
    {
     "data": {
      "text/plain": [
       "(9480, 37)"
      ]
     },
     "execution_count": 387,
     "metadata": {},
     "output_type": "execute_result"
    }
   ],
   "source": [
    "df_update.shape"
   ]
  },
  {
   "cell_type": "code",
   "execution_count": 365,
   "id": "470ffa5c",
   "metadata": {},
   "outputs": [
    {
     "data": {
      "text/plain": [
       "Index(['sku', 'is_in_stock', 'name', 'price', 'special_price', 'free_colors',\n",
       "       'short_description', 'ts_dimensions_width', 'ts_dimensions_height',\n",
       "       'ts_dimensions_length', 'mgs_brand', 'Images1', 'url_key', 'visibility',\n",
       "       'tax_class_name', 'manufacturer', 'news_from_date', 'news_to_date',\n",
       "       'Images2', 'link_url', 'categories1', 'categories2', 'categories3',\n",
       "       'short_description ', 'Unnamed: 7', 'estimated_delivery_enable',\n",
       "       'estimated_delivery_text', 'raw_materials', 'allow_backorders',\n",
       "       'out_of_stock_qty', 'qty', 'product_online', 'Width', 'Height',\n",
       "       'Length', 'Unnamed: 0', 'free_colors '],\n",
       "      dtype='object')"
      ]
     },
     "execution_count": 365,
     "metadata": {},
     "output_type": "execute_result"
    }
   ],
   "source": [
    "df_update.columns"
   ]
  },
  {
   "cell_type": "code",
   "execution_count": null,
   "id": "fad5d62a",
   "metadata": {},
   "outputs": [],
   "source": []
  },
  {
   "cell_type": "code",
   "execution_count": 386,
   "id": "4097a5ee",
   "metadata": {},
   "outputs": [],
   "source": [
    "df_update.drop_duplicates(subset=['sku'], inplace=True)"
   ]
  },
  {
   "cell_type": "code",
   "execution_count": 389,
   "id": "8b841bbb",
   "metadata": {},
   "outputs": [],
   "source": [
    "df_update['url_key'] = df_update['url_key'].str.replace('RAG', 'RUG')"
   ]
  },
  {
   "cell_type": "code",
   "execution_count": 390,
   "id": "8fd62c8d",
   "metadata": {},
   "outputs": [],
   "source": [
    "df_update['sku'] = df_update['sku'].str.replace('RAG', 'RUG')"
   ]
  },
  {
   "cell_type": "code",
   "execution_count": 372,
   "id": "3f14254c",
   "metadata": {},
   "outputs": [
    {
     "ename": "KeyError",
     "evalue": "'url_key'",
     "output_type": "error",
     "traceback": [
      "\u001b[0;31m---------------------------------------------------------------------------\u001b[0m",
      "\u001b[0;31mKeyError\u001b[0m                                  Traceback (most recent call last)",
      "\u001b[0;32m~/anaconda3/lib/python3.8/site-packages/pandas/core/indexes/base.py\u001b[0m in \u001b[0;36mget_loc\u001b[0;34m(self, key, method, tolerance)\u001b[0m\n\u001b[1;32m   3079\u001b[0m             \u001b[0;32mtry\u001b[0m\u001b[0;34m:\u001b[0m\u001b[0;34m\u001b[0m\u001b[0;34m\u001b[0m\u001b[0m\n\u001b[0;32m-> 3080\u001b[0;31m                 \u001b[0;32mreturn\u001b[0m \u001b[0mself\u001b[0m\u001b[0;34m.\u001b[0m\u001b[0m_engine\u001b[0m\u001b[0;34m.\u001b[0m\u001b[0mget_loc\u001b[0m\u001b[0;34m(\u001b[0m\u001b[0mcasted_key\u001b[0m\u001b[0;34m)\u001b[0m\u001b[0;34m\u001b[0m\u001b[0;34m\u001b[0m\u001b[0m\n\u001b[0m\u001b[1;32m   3081\u001b[0m             \u001b[0;32mexcept\u001b[0m \u001b[0mKeyError\u001b[0m \u001b[0;32mas\u001b[0m \u001b[0merr\u001b[0m\u001b[0;34m:\u001b[0m\u001b[0;34m\u001b[0m\u001b[0;34m\u001b[0m\u001b[0m\n",
      "\u001b[0;32mpandas/_libs/index.pyx\u001b[0m in \u001b[0;36mpandas._libs.index.IndexEngine.get_loc\u001b[0;34m()\u001b[0m\n",
      "\u001b[0;32mpandas/_libs/index.pyx\u001b[0m in \u001b[0;36mpandas._libs.index.IndexEngine.get_loc\u001b[0;34m()\u001b[0m\n",
      "\u001b[0;32mpandas/_libs/index_class_helper.pxi\u001b[0m in \u001b[0;36mpandas._libs.index.Int64Engine._check_type\u001b[0;34m()\u001b[0m\n",
      "\u001b[0;31mKeyError\u001b[0m: 'url_key'",
      "\nThe above exception was the direct cause of the following exception:\n",
      "\u001b[0;31mKeyError\u001b[0m                                  Traceback (most recent call last)",
      "\u001b[0;32m<ipython-input-372-38b6499033d6>\u001b[0m in \u001b[0;36m<module>\u001b[0;34m\u001b[0m\n\u001b[0;32m----> 1\u001b[0;31m \u001b[0mdf_update\u001b[0m\u001b[0;34m[\u001b[0m\u001b[0;34m'url_key'\u001b[0m\u001b[0;34m]\u001b[0m\u001b[0;34m\u001b[0m\u001b[0;34m\u001b[0m\u001b[0m\n\u001b[0m",
      "\u001b[0;32m~/anaconda3/lib/python3.8/site-packages/pandas/core/series.py\u001b[0m in \u001b[0;36m__getitem__\u001b[0;34m(self, key)\u001b[0m\n\u001b[1;32m    851\u001b[0m \u001b[0;34m\u001b[0m\u001b[0m\n\u001b[1;32m    852\u001b[0m         \u001b[0;32melif\u001b[0m \u001b[0mkey_is_scalar\u001b[0m\u001b[0;34m:\u001b[0m\u001b[0;34m\u001b[0m\u001b[0;34m\u001b[0m\u001b[0m\n\u001b[0;32m--> 853\u001b[0;31m             \u001b[0;32mreturn\u001b[0m \u001b[0mself\u001b[0m\u001b[0;34m.\u001b[0m\u001b[0m_get_value\u001b[0m\u001b[0;34m(\u001b[0m\u001b[0mkey\u001b[0m\u001b[0;34m)\u001b[0m\u001b[0;34m\u001b[0m\u001b[0;34m\u001b[0m\u001b[0m\n\u001b[0m\u001b[1;32m    854\u001b[0m \u001b[0;34m\u001b[0m\u001b[0m\n\u001b[1;32m    855\u001b[0m         \u001b[0;32mif\u001b[0m \u001b[0mis_hashable\u001b[0m\u001b[0;34m(\u001b[0m\u001b[0mkey\u001b[0m\u001b[0;34m)\u001b[0m\u001b[0;34m:\u001b[0m\u001b[0;34m\u001b[0m\u001b[0;34m\u001b[0m\u001b[0m\n",
      "\u001b[0;32m~/anaconda3/lib/python3.8/site-packages/pandas/core/series.py\u001b[0m in \u001b[0;36m_get_value\u001b[0;34m(self, label, takeable)\u001b[0m\n\u001b[1;32m    959\u001b[0m \u001b[0;34m\u001b[0m\u001b[0m\n\u001b[1;32m    960\u001b[0m         \u001b[0;31m# Similar to Index.get_value, but we do not fall back to positional\u001b[0m\u001b[0;34m\u001b[0m\u001b[0;34m\u001b[0m\u001b[0;34m\u001b[0m\u001b[0m\n\u001b[0;32m--> 961\u001b[0;31m         \u001b[0mloc\u001b[0m \u001b[0;34m=\u001b[0m \u001b[0mself\u001b[0m\u001b[0;34m.\u001b[0m\u001b[0mindex\u001b[0m\u001b[0;34m.\u001b[0m\u001b[0mget_loc\u001b[0m\u001b[0;34m(\u001b[0m\u001b[0mlabel\u001b[0m\u001b[0;34m)\u001b[0m\u001b[0;34m\u001b[0m\u001b[0;34m\u001b[0m\u001b[0m\n\u001b[0m\u001b[1;32m    962\u001b[0m         \u001b[0;32mreturn\u001b[0m \u001b[0mself\u001b[0m\u001b[0;34m.\u001b[0m\u001b[0mindex\u001b[0m\u001b[0;34m.\u001b[0m\u001b[0m_get_values_for_loc\u001b[0m\u001b[0;34m(\u001b[0m\u001b[0mself\u001b[0m\u001b[0;34m,\u001b[0m \u001b[0mloc\u001b[0m\u001b[0;34m,\u001b[0m \u001b[0mlabel\u001b[0m\u001b[0;34m)\u001b[0m\u001b[0;34m\u001b[0m\u001b[0;34m\u001b[0m\u001b[0m\n\u001b[1;32m    963\u001b[0m \u001b[0;34m\u001b[0m\u001b[0m\n",
      "\u001b[0;32m~/anaconda3/lib/python3.8/site-packages/pandas/core/indexes/base.py\u001b[0m in \u001b[0;36mget_loc\u001b[0;34m(self, key, method, tolerance)\u001b[0m\n\u001b[1;32m   3080\u001b[0m                 \u001b[0;32mreturn\u001b[0m \u001b[0mself\u001b[0m\u001b[0;34m.\u001b[0m\u001b[0m_engine\u001b[0m\u001b[0;34m.\u001b[0m\u001b[0mget_loc\u001b[0m\u001b[0;34m(\u001b[0m\u001b[0mcasted_key\u001b[0m\u001b[0;34m)\u001b[0m\u001b[0;34m\u001b[0m\u001b[0;34m\u001b[0m\u001b[0m\n\u001b[1;32m   3081\u001b[0m             \u001b[0;32mexcept\u001b[0m \u001b[0mKeyError\u001b[0m \u001b[0;32mas\u001b[0m \u001b[0merr\u001b[0m\u001b[0;34m:\u001b[0m\u001b[0;34m\u001b[0m\u001b[0;34m\u001b[0m\u001b[0m\n\u001b[0;32m-> 3082\u001b[0;31m                 \u001b[0;32mraise\u001b[0m \u001b[0mKeyError\u001b[0m\u001b[0;34m(\u001b[0m\u001b[0mkey\u001b[0m\u001b[0;34m)\u001b[0m \u001b[0;32mfrom\u001b[0m \u001b[0merr\u001b[0m\u001b[0;34m\u001b[0m\u001b[0;34m\u001b[0m\u001b[0m\n\u001b[0m\u001b[1;32m   3083\u001b[0m \u001b[0;34m\u001b[0m\u001b[0m\n\u001b[1;32m   3084\u001b[0m         \u001b[0;32mif\u001b[0m \u001b[0mtolerance\u001b[0m \u001b[0;32mis\u001b[0m \u001b[0;32mnot\u001b[0m \u001b[0;32mNone\u001b[0m\u001b[0;34m:\u001b[0m\u001b[0;34m\u001b[0m\u001b[0;34m\u001b[0m\u001b[0m\n",
      "\u001b[0;31mKeyError\u001b[0m: 'url_key'"
     ]
    }
   ],
   "source": [
    "df_update['url_key']"
   ]
  },
  {
   "cell_type": "code",
   "execution_count": 393,
   "id": "bdadf67b",
   "metadata": {},
   "outputs": [],
   "source": [
    "df_update.to_excel('all_update_06_27_2021_7.xlsx', index=False)"
   ]
  },
  {
   "cell_type": "code",
   "execution_count": null,
   "id": "e5d1c3f4",
   "metadata": {},
   "outputs": [],
   "source": []
  },
  {
   "cell_type": "code",
   "execution_count": 392,
   "id": "4000e0bb",
   "metadata": {},
   "outputs": [
    {
     "ename": "FileNotFoundError",
     "evalue": "[Errno 2] No such file or directory: 'all_update_06_27_2021_7.xlsx'",
     "output_type": "error",
     "traceback": [
      "\u001b[0;31m---------------------------------------------------------------------------\u001b[0m",
      "\u001b[0;31mFileNotFoundError\u001b[0m                         Traceback (most recent call last)",
      "\u001b[0;32m<ipython-input-392-cb666a9d52b6>\u001b[0m in \u001b[0;36m<module>\u001b[0;34m\u001b[0m\n\u001b[0;32m----> 1\u001b[0;31m \u001b[0mdf_update\u001b[0m \u001b[0;34m=\u001b[0m \u001b[0mpd\u001b[0m\u001b[0;34m.\u001b[0m\u001b[0mread_excel\u001b[0m\u001b[0;34m(\u001b[0m\u001b[0;34m'all_update_06_27_2021_7.xlsx'\u001b[0m\u001b[0;34m)\u001b[0m\u001b[0;34m\u001b[0m\u001b[0;34m\u001b[0m\u001b[0m\n\u001b[0m",
      "\u001b[0;32m~/anaconda3/lib/python3.8/site-packages/pandas/util/_decorators.py\u001b[0m in \u001b[0;36mwrapper\u001b[0;34m(*args, **kwargs)\u001b[0m\n\u001b[1;32m    297\u001b[0m                 )\n\u001b[1;32m    298\u001b[0m                 \u001b[0mwarnings\u001b[0m\u001b[0;34m.\u001b[0m\u001b[0mwarn\u001b[0m\u001b[0;34m(\u001b[0m\u001b[0mmsg\u001b[0m\u001b[0;34m,\u001b[0m \u001b[0mFutureWarning\u001b[0m\u001b[0;34m,\u001b[0m \u001b[0mstacklevel\u001b[0m\u001b[0;34m=\u001b[0m\u001b[0mstacklevel\u001b[0m\u001b[0;34m)\u001b[0m\u001b[0;34m\u001b[0m\u001b[0;34m\u001b[0m\u001b[0m\n\u001b[0;32m--> 299\u001b[0;31m             \u001b[0;32mreturn\u001b[0m \u001b[0mfunc\u001b[0m\u001b[0;34m(\u001b[0m\u001b[0;34m*\u001b[0m\u001b[0margs\u001b[0m\u001b[0;34m,\u001b[0m \u001b[0;34m**\u001b[0m\u001b[0mkwargs\u001b[0m\u001b[0;34m)\u001b[0m\u001b[0;34m\u001b[0m\u001b[0;34m\u001b[0m\u001b[0m\n\u001b[0m\u001b[1;32m    300\u001b[0m \u001b[0;34m\u001b[0m\u001b[0m\n\u001b[1;32m    301\u001b[0m         \u001b[0;32mreturn\u001b[0m \u001b[0mwrapper\u001b[0m\u001b[0;34m\u001b[0m\u001b[0;34m\u001b[0m\u001b[0m\n",
      "\u001b[0;32m~/anaconda3/lib/python3.8/site-packages/pandas/io/excel/_base.py\u001b[0m in \u001b[0;36mread_excel\u001b[0;34m(io, sheet_name, header, names, index_col, usecols, squeeze, dtype, engine, converters, true_values, false_values, skiprows, nrows, na_values, keep_default_na, na_filter, verbose, parse_dates, date_parser, thousands, comment, skipfooter, convert_float, mangle_dupe_cols, storage_options)\u001b[0m\n\u001b[1;32m    334\u001b[0m     \u001b[0;32mif\u001b[0m \u001b[0;32mnot\u001b[0m \u001b[0misinstance\u001b[0m\u001b[0;34m(\u001b[0m\u001b[0mio\u001b[0m\u001b[0;34m,\u001b[0m \u001b[0mExcelFile\u001b[0m\u001b[0;34m)\u001b[0m\u001b[0;34m:\u001b[0m\u001b[0;34m\u001b[0m\u001b[0;34m\u001b[0m\u001b[0m\n\u001b[1;32m    335\u001b[0m         \u001b[0mshould_close\u001b[0m \u001b[0;34m=\u001b[0m \u001b[0;32mTrue\u001b[0m\u001b[0;34m\u001b[0m\u001b[0;34m\u001b[0m\u001b[0m\n\u001b[0;32m--> 336\u001b[0;31m         \u001b[0mio\u001b[0m \u001b[0;34m=\u001b[0m \u001b[0mExcelFile\u001b[0m\u001b[0;34m(\u001b[0m\u001b[0mio\u001b[0m\u001b[0;34m,\u001b[0m \u001b[0mstorage_options\u001b[0m\u001b[0;34m=\u001b[0m\u001b[0mstorage_options\u001b[0m\u001b[0;34m,\u001b[0m \u001b[0mengine\u001b[0m\u001b[0;34m=\u001b[0m\u001b[0mengine\u001b[0m\u001b[0;34m)\u001b[0m\u001b[0;34m\u001b[0m\u001b[0;34m\u001b[0m\u001b[0m\n\u001b[0m\u001b[1;32m    337\u001b[0m     \u001b[0;32melif\u001b[0m \u001b[0mengine\u001b[0m \u001b[0;32mand\u001b[0m \u001b[0mengine\u001b[0m \u001b[0;34m!=\u001b[0m \u001b[0mio\u001b[0m\u001b[0;34m.\u001b[0m\u001b[0mengine\u001b[0m\u001b[0;34m:\u001b[0m\u001b[0;34m\u001b[0m\u001b[0;34m\u001b[0m\u001b[0m\n\u001b[1;32m    338\u001b[0m         raise ValueError(\n",
      "\u001b[0;32m~/anaconda3/lib/python3.8/site-packages/pandas/io/excel/_base.py\u001b[0m in \u001b[0;36m__init__\u001b[0;34m(self, path_or_buffer, engine, storage_options)\u001b[0m\n\u001b[1;32m   1069\u001b[0m                 \u001b[0mext\u001b[0m \u001b[0;34m=\u001b[0m \u001b[0;34m\"xls\"\u001b[0m\u001b[0;34m\u001b[0m\u001b[0;34m\u001b[0m\u001b[0m\n\u001b[1;32m   1070\u001b[0m             \u001b[0;32melse\u001b[0m\u001b[0;34m:\u001b[0m\u001b[0;34m\u001b[0m\u001b[0;34m\u001b[0m\u001b[0m\n\u001b[0;32m-> 1071\u001b[0;31m                 ext = inspect_excel_format(\n\u001b[0m\u001b[1;32m   1072\u001b[0m                     \u001b[0mcontent\u001b[0m\u001b[0;34m=\u001b[0m\u001b[0mpath_or_buffer\u001b[0m\u001b[0;34m,\u001b[0m \u001b[0mstorage_options\u001b[0m\u001b[0;34m=\u001b[0m\u001b[0mstorage_options\u001b[0m\u001b[0;34m\u001b[0m\u001b[0;34m\u001b[0m\u001b[0m\n\u001b[1;32m   1073\u001b[0m                 )\n",
      "\u001b[0;32m~/anaconda3/lib/python3.8/site-packages/pandas/io/excel/_base.py\u001b[0m in \u001b[0;36minspect_excel_format\u001b[0;34m(path, content, storage_options)\u001b[0m\n\u001b[1;32m    947\u001b[0m     \u001b[0;32massert\u001b[0m \u001b[0mcontent_or_path\u001b[0m \u001b[0;32mis\u001b[0m \u001b[0;32mnot\u001b[0m \u001b[0;32mNone\u001b[0m\u001b[0;34m\u001b[0m\u001b[0;34m\u001b[0m\u001b[0m\n\u001b[1;32m    948\u001b[0m \u001b[0;34m\u001b[0m\u001b[0m\n\u001b[0;32m--> 949\u001b[0;31m     with get_handle(\n\u001b[0m\u001b[1;32m    950\u001b[0m         \u001b[0mcontent_or_path\u001b[0m\u001b[0;34m,\u001b[0m \u001b[0;34m\"rb\"\u001b[0m\u001b[0;34m,\u001b[0m \u001b[0mstorage_options\u001b[0m\u001b[0;34m=\u001b[0m\u001b[0mstorage_options\u001b[0m\u001b[0;34m,\u001b[0m \u001b[0mis_text\u001b[0m\u001b[0;34m=\u001b[0m\u001b[0;32mFalse\u001b[0m\u001b[0;34m\u001b[0m\u001b[0;34m\u001b[0m\u001b[0m\n\u001b[1;32m    951\u001b[0m     ) as handle:\n",
      "\u001b[0;32m~/anaconda3/lib/python3.8/site-packages/pandas/io/common.py\u001b[0m in \u001b[0;36mget_handle\u001b[0;34m(path_or_buf, mode, encoding, compression, memory_map, is_text, errors, storage_options)\u001b[0m\n\u001b[1;32m    649\u001b[0m         \u001b[0;32melse\u001b[0m\u001b[0;34m:\u001b[0m\u001b[0;34m\u001b[0m\u001b[0;34m\u001b[0m\u001b[0m\n\u001b[1;32m    650\u001b[0m             \u001b[0;31m# Binary mode\u001b[0m\u001b[0;34m\u001b[0m\u001b[0;34m\u001b[0m\u001b[0;34m\u001b[0m\u001b[0m\n\u001b[0;32m--> 651\u001b[0;31m             \u001b[0mhandle\u001b[0m \u001b[0;34m=\u001b[0m \u001b[0mopen\u001b[0m\u001b[0;34m(\u001b[0m\u001b[0mhandle\u001b[0m\u001b[0;34m,\u001b[0m \u001b[0mioargs\u001b[0m\u001b[0;34m.\u001b[0m\u001b[0mmode\u001b[0m\u001b[0;34m)\u001b[0m\u001b[0;34m\u001b[0m\u001b[0;34m\u001b[0m\u001b[0m\n\u001b[0m\u001b[1;32m    652\u001b[0m         \u001b[0mhandles\u001b[0m\u001b[0;34m.\u001b[0m\u001b[0mappend\u001b[0m\u001b[0;34m(\u001b[0m\u001b[0mhandle\u001b[0m\u001b[0;34m)\u001b[0m\u001b[0;34m\u001b[0m\u001b[0;34m\u001b[0m\u001b[0m\n\u001b[1;32m    653\u001b[0m \u001b[0;34m\u001b[0m\u001b[0m\n",
      "\u001b[0;31mFileNotFoundError\u001b[0m: [Errno 2] No such file or directory: 'all_update_06_27_2021_7.xlsx'"
     ]
    }
   ],
   "source": [
    "df_update = pd.read_excel('all_update_06_27_2021_7.xlsx')"
   ]
  },
  {
   "cell_type": "code",
   "execution_count": 374,
   "id": "9be1d0ea",
   "metadata": {},
   "outputs": [
    {
     "data": {
      "text/plain": [
       "(7730, 37)"
      ]
     },
     "execution_count": 374,
     "metadata": {},
     "output_type": "execute_result"
    }
   ],
   "source": [
    "toto.shape"
   ]
  },
  {
   "cell_type": "code",
   "execution_count": 380,
   "id": "f9275365",
   "metadata": {},
   "outputs": [],
   "source": [
    "toto['sku'] = toto['sku'].str.replace('RAG', 'RUG')"
   ]
  },
  {
   "cell_type": "code",
   "execution_count": 381,
   "id": "cf2b5d8d",
   "metadata": {},
   "outputs": [
    {
     "data": {
      "text/plain": [
       "0          RUG-11130-01\n",
       "1          RUG-13007-03\n",
       "2             RUG-11131\n",
       "3             RUG-12040\n",
       "4          RUG-A0476285\n",
       "             ...       \n",
       "7725        RUG-H467-17\n",
       "7726    RUG-CLA-419-811\n",
       "7727        RUG-H642-40\n",
       "7728    RUG-247801-2936\n",
       "7729        RUG-H527-17\n",
       "Name: sku, Length: 7730, dtype: object"
      ]
     },
     "execution_count": 381,
     "metadata": {},
     "output_type": "execute_result"
    }
   ],
   "source": [
    "toto['sku']"
   ]
  },
  {
   "cell_type": "code",
   "execution_count": null,
   "id": "6cf6c0a7",
   "metadata": {},
   "outputs": [],
   "source": []
  },
  {
   "cell_type": "code",
   "execution_count": 382,
   "id": "f919c90e",
   "metadata": {},
   "outputs": [],
   "source": [
    "toto.to_excel('all_update_06_27_2021_6.xlsx')"
   ]
  },
  {
   "cell_type": "code",
   "execution_count": null,
   "id": "fb0f817e",
   "metadata": {},
   "outputs": [],
   "source": []
  },
  {
   "cell_type": "code",
   "execution_count": null,
   "id": "3c519622",
   "metadata": {},
   "outputs": [],
   "source": []
  },
  {
   "cell_type": "code",
   "execution_count": null,
   "id": "a91a2e90",
   "metadata": {},
   "outputs": [],
   "source": []
  },
  {
   "cell_type": "code",
   "execution_count": null,
   "id": "37231d6a",
   "metadata": {},
   "outputs": [],
   "source": []
  },
  {
   "cell_type": "code",
   "execution_count": null,
   "id": "b2da8948",
   "metadata": {},
   "outputs": [],
   "source": []
  },
  {
   "cell_type": "code",
   "execution_count": null,
   "id": "5ef72a68",
   "metadata": {},
   "outputs": [],
   "source": []
  },
  {
   "cell_type": "code",
   "execution_count": null,
   "id": "f97f49e1",
   "metadata": {},
   "outputs": [],
   "source": []
  },
  {
   "cell_type": "code",
   "execution_count": null,
   "id": "41cf1b97",
   "metadata": {},
   "outputs": [],
   "source": []
  },
  {
   "cell_type": "code",
   "execution_count": null,
   "id": "4ad29cd8",
   "metadata": {},
   "outputs": [],
   "source": []
  },
  {
   "cell_type": "code",
   "execution_count": null,
   "id": "fa83c38c",
   "metadata": {},
   "outputs": [],
   "source": []
  },
  {
   "cell_type": "code",
   "execution_count": null,
   "id": "19cbf8ca",
   "metadata": {},
   "outputs": [],
   "source": []
  },
  {
   "cell_type": "code",
   "execution_count": null,
   "id": "331e7777",
   "metadata": {},
   "outputs": [],
   "source": []
  },
  {
   "cell_type": "code",
   "execution_count": null,
   "id": "5f4ff266",
   "metadata": {},
   "outputs": [],
   "source": []
  },
  {
   "cell_type": "code",
   "execution_count": null,
   "id": "3386e554",
   "metadata": {},
   "outputs": [],
   "source": []
  },
  {
   "cell_type": "code",
   "execution_count": null,
   "id": "d5f0af64",
   "metadata": {},
   "outputs": [],
   "source": []
  },
  {
   "cell_type": "code",
   "execution_count": null,
   "id": "63238346",
   "metadata": {},
   "outputs": [],
   "source": []
  },
  {
   "cell_type": "code",
   "execution_count": null,
   "id": "d0769748",
   "metadata": {},
   "outputs": [],
   "source": []
  },
  {
   "cell_type": "code",
   "execution_count": null,
   "id": "f302c6f4",
   "metadata": {},
   "outputs": [],
   "source": []
  },
  {
   "cell_type": "code",
   "execution_count": null,
   "id": "2154191e",
   "metadata": {},
   "outputs": [],
   "source": []
  },
  {
   "cell_type": "code",
   "execution_count": null,
   "id": "d44a2a2d",
   "metadata": {},
   "outputs": [],
   "source": []
  },
  {
   "cell_type": "code",
   "execution_count": null,
   "id": "753fa04d",
   "metadata": {},
   "outputs": [],
   "source": []
  },
  {
   "cell_type": "code",
   "execution_count": null,
   "id": "ff58610b",
   "metadata": {},
   "outputs": [],
   "source": []
  },
  {
   "cell_type": "code",
   "execution_count": null,
   "id": "7784ac06",
   "metadata": {},
   "outputs": [],
   "source": []
  },
  {
   "cell_type": "code",
   "execution_count": null,
   "id": "f77481de",
   "metadata": {},
   "outputs": [],
   "source": []
  },
  {
   "cell_type": "code",
   "execution_count": 112,
   "id": "10cfeb6a",
   "metadata": {},
   "outputs": [
    {
     "name": "stdout",
     "output_type": "stream",
     "text": [
      "None\n"
     ]
    }
   ],
   "source": [
    "mo = phoneNumRegex.search('12 (12)')\n",
    "print(mo)"
   ]
  },
  {
   "cell_type": "code",
   "execution_count": null,
   "id": "c7d1c7bd",
   "metadata": {},
   "outputs": [],
   "source": []
  },
  {
   "cell_type": "code",
   "execution_count": null,
   "id": "e75a3063",
   "metadata": {},
   "outputs": [],
   "source": []
  },
  {
   "cell_type": "code",
   "execution_count": null,
   "id": "7d9512e4",
   "metadata": {},
   "outputs": [],
   "source": []
  },
  {
   "cell_type": "code",
   "execution_count": null,
   "id": "ed5713b1",
   "metadata": {},
   "outputs": [],
   "source": []
  },
  {
   "cell_type": "code",
   "execution_count": null,
   "id": "fe4917a5",
   "metadata": {},
   "outputs": [],
   "source": []
  },
  {
   "cell_type": "code",
   "execution_count": null,
   "id": "262965c9",
   "metadata": {},
   "outputs": [],
   "source": []
  },
  {
   "cell_type": "code",
   "execution_count": null,
   "id": "3731a3d3",
   "metadata": {},
   "outputs": [],
   "source": []
  },
  {
   "cell_type": "code",
   "execution_count": null,
   "id": "e586055b",
   "metadata": {},
   "outputs": [],
   "source": []
  },
  {
   "cell_type": "code",
   "execution_count": null,
   "id": "e1c0bde4",
   "metadata": {},
   "outputs": [],
   "source": []
  },
  {
   "cell_type": "code",
   "execution_count": null,
   "id": "7c5d48ad",
   "metadata": {},
   "outputs": [],
   "source": []
  },
  {
   "cell_type": "code",
   "execution_count": null,
   "id": "81102a13",
   "metadata": {},
   "outputs": [],
   "source": []
  },
  {
   "cell_type": "code",
   "execution_count": null,
   "id": "609f9cf9",
   "metadata": {},
   "outputs": [],
   "source": []
  },
  {
   "cell_type": "code",
   "execution_count": null,
   "id": "809d6c07",
   "metadata": {},
   "outputs": [],
   "source": []
  },
  {
   "cell_type": "code",
   "execution_count": 93,
   "id": "8d70875f",
   "metadata": {},
   "outputs": [
    {
     "ename": "AttributeError",
     "evalue": "'NoneType' object has no attribute 'group'",
     "output_type": "error",
     "traceback": [
      "\u001b[0;31m---------------------------------------------------------------------------\u001b[0m",
      "\u001b[0;31mAttributeError\u001b[0m                            Traceback (most recent call last)",
      "\u001b[0;32m<ipython-input-93-cd2a814e9d6f>\u001b[0m in \u001b[0;36m<module>\u001b[0;34m\u001b[0m\n\u001b[0;32m----> 1\u001b[0;31m \u001b[0mmo\u001b[0m\u001b[0;34m.\u001b[0m\u001b[0mgroup\u001b[0m\u001b[0;34m(\u001b[0m\u001b[0;36m0\u001b[0m\u001b[0;34m)\u001b[0m\u001b[0;34m\u001b[0m\u001b[0;34m\u001b[0m\u001b[0m\n\u001b[0m",
      "\u001b[0;31mAttributeError\u001b[0m: 'NoneType' object has no attribute 'group'"
     ]
    }
   ],
   "source": [
    "mo.group(0)"
   ]
  },
  {
   "cell_type": "code",
   "execution_count": null,
   "id": "681b9a03",
   "metadata": {},
   "outputs": [],
   "source": []
  },
  {
   "cell_type": "code",
   "execution_count": null,
   "id": "f3096887",
   "metadata": {},
   "outputs": [],
   "source": []
  },
  {
   "cell_type": "code",
   "execution_count": null,
   "id": "8ebef398",
   "metadata": {},
   "outputs": [],
   "source": []
  },
  {
   "cell_type": "code",
   "execution_count": null,
   "id": "36b41085",
   "metadata": {},
   "outputs": [],
   "source": []
  },
  {
   "cell_type": "code",
   "execution_count": null,
   "id": "8200dd58",
   "metadata": {},
   "outputs": [],
   "source": []
  },
  {
   "cell_type": "code",
   "execution_count": null,
   "id": "8c9c0252",
   "metadata": {},
   "outputs": [],
   "source": []
  },
  {
   "cell_type": "code",
   "execution_count": null,
   "id": "209fc778",
   "metadata": {},
   "outputs": [],
   "source": []
  },
  {
   "cell_type": "code",
   "execution_count": 49,
   "id": "328a8fe2",
   "metadata": {},
   "outputs": [],
   "source": [
    "try:\n",
    "    #click button more\n",
    "    click_more = driver.find_element_by_class_name('expandable-content__toggle')\n",
    "    click_more.click()\n",
    "    \n",
    "except:\n",
    "    pass"
   ]
  },
  {
   "cell_type": "code",
   "execution_count": null,
   "id": "5804d9f0",
   "metadata": {},
   "outputs": [],
   "source": []
  },
  {
   "cell_type": "code",
   "execution_count": null,
   "id": "0802d5e0",
   "metadata": {},
   "outputs": [],
   "source": []
  },
  {
   "cell_type": "code",
   "execution_count": null,
   "id": "3b970dc7",
   "metadata": {},
   "outputs": [],
   "source": []
  },
  {
   "cell_type": "code",
   "execution_count": null,
   "id": "996e59a1",
   "metadata": {},
   "outputs": [],
   "source": []
  },
  {
   "cell_type": "code",
   "execution_count": null,
   "id": "33c42f7d",
   "metadata": {},
   "outputs": [],
   "source": []
  },
  {
   "cell_type": "code",
   "execution_count": null,
   "id": "03de1718",
   "metadata": {},
   "outputs": [],
   "source": []
  },
  {
   "cell_type": "code",
   "execution_count": null,
   "id": "a13322fa",
   "metadata": {},
   "outputs": [],
   "source": []
  },
  {
   "cell_type": "code",
   "execution_count": null,
   "id": "49444e4e",
   "metadata": {},
   "outputs": [],
   "source": []
  },
  {
   "cell_type": "code",
   "execution_count": null,
   "id": "a06dda90",
   "metadata": {},
   "outputs": [],
   "source": []
  },
  {
   "cell_type": "code",
   "execution_count": null,
   "id": "1c14de6d",
   "metadata": {},
   "outputs": [],
   "source": []
  },
  {
   "cell_type": "code",
   "execution_count": null,
   "id": "31cf132b",
   "metadata": {},
   "outputs": [],
   "source": []
  },
  {
   "cell_type": "code",
   "execution_count": 212,
   "id": "fc66eec8",
   "metadata": {},
   "outputs": [
    {
     "name": "stdout",
     "output_type": "stream",
     "text": [
      "['https://cdn.shopify.com/s/files/1/0773/5495/products/TOV-O53.media.01_400x.jpg']\n"
     ]
    }
   ],
   "source": [
    "list_images = []\n",
    "images_click = driver.find_elements_by_class_name('product-gallery__thumbnail')\n",
    "\n",
    "\n",
    "for ele in images_click:\n",
    "    #ele.click()\n",
    "    driver.execute_script(\"arguments[0].click();\", ele)\n",
    "    time.sleep(0.5)\n",
    "\n",
    "\n",
    "images = driver.find_elements_by_class_name('product-gallery__image')\n",
    "\n",
    "# print(len(images))\n",
    "for img in images:\n",
    "    #list_images.append('https:'+img.get_attribute('data-srcset').split(' ')[0])\n",
    "    #print(':', img.get_attribute('data-srcset'))\n",
    "    t = 'https:'+img.get_attribute('data-srcset').split(', ')[0].split('?')[0]\n",
    "    #print(t)\n",
    "    list_images.append(t)\n",
    "print(list_images)"
   ]
  },
  {
   "cell_type": "code",
   "execution_count": null,
   "id": "0e793143",
   "metadata": {},
   "outputs": [],
   "source": []
  },
  {
   "cell_type": "code",
   "execution_count": null,
   "id": "80da4907",
   "metadata": {},
   "outputs": [],
   "source": []
  },
  {
   "cell_type": "code",
   "execution_count": null,
   "id": "8f49948e",
   "metadata": {},
   "outputs": [],
   "source": []
  },
  {
   "cell_type": "code",
   "execution_count": null,
   "id": "1a951936",
   "metadata": {},
   "outputs": [],
   "source": []
  },
  {
   "cell_type": "code",
   "execution_count": 74,
   "id": "a47e9187",
   "metadata": {},
   "outputs": [],
   "source": [
    "driver.get('https://www.alrugaibfurniture.com/ar/collections/benches/products/johnelle-dining-bench')"
   ]
  },
  {
   "cell_type": "code",
   "execution_count": null,
   "id": "365c6446",
   "metadata": {},
   "outputs": [],
   "source": []
  },
  {
   "cell_type": "code",
   "execution_count": null,
   "id": "7f655857",
   "metadata": {},
   "outputs": [],
   "source": []
  },
  {
   "cell_type": "code",
   "execution_count": null,
   "id": "4544058d",
   "metadata": {},
   "outputs": [],
   "source": []
  },
  {
   "cell_type": "code",
   "execution_count": null,
   "id": "4223ae7d",
   "metadata": {},
   "outputs": [],
   "source": []
  },
  {
   "cell_type": "code",
   "execution_count": 87,
   "id": "2a6bb526",
   "metadata": {},
   "outputs": [],
   "source": [
    "#click button more\n",
    "click_more = driver.find_element_by_class_name('expandable-content__toggle-icon')\n",
    "driver.execute_script(\"arguments[0].click();\", click_more)"
   ]
  },
  {
   "cell_type": "code",
   "execution_count": 86,
   "id": "2e147718",
   "metadata": {},
   "outputs": [
    {
     "data": {
      "text/plain": [
       "['Homey. Hearty. Heavenly hued. Luring with a distressed weathered gray finish, the Johnelle dining room upholstered bench is sure to make your homestead feel that much more like home. Fresh and neutral linen-weave upholstery is punctuated with contrasting nailhead trim for added character.',\n",
       " 'Made of solid wood',\n",
       " 'Distressed weathered gray finish',\n",
       " 'Weight',\n",
       " '41 lbs. (18.6 kgs.)',\n",
       " 'Dimensions',\n",
       " 'Width: 63.00\"',\n",
       " 'Depth: 16.50\"',\n",
       " 'عرض المزيد']"
      ]
     },
     "execution_count": 86,
     "metadata": {},
     "output_type": "execute_result"
    }
   ],
   "source": [
    "def search_word_list(word, list_search):\n",
    "    for text in list_search:\n",
    "        if word in text:\n",
    "            return True\n",
    "descriptions = driver.find_elements_by_class_name('card__section')\n",
    "    \n",
    "    \n",
    "description_list = descriptions[2].text.split('/n')[0]\n",
    "description_list1 = description_list.split('\\n')\n",
    "#description_list1 = [x for x in description_list1 if x.isdigit()]\n",
    "description_list1"
   ]
  },
  {
   "cell_type": "code",
   "execution_count": 59,
   "id": "05614bb1",
   "metadata": {},
   "outputs": [],
   "source": [
    "toto = '31.3'\n",
    "toto = float(toto)"
   ]
  },
  {
   "cell_type": "code",
   "execution_count": 60,
   "id": "c02ca980",
   "metadata": {},
   "outputs": [
    {
     "data": {
      "text/plain": [
       "31.3"
      ]
     },
     "execution_count": 60,
     "metadata": {},
     "output_type": "execute_result"
    }
   ],
   "source": [
    "toto"
   ]
  },
  {
   "cell_type": "code",
   "execution_count": null,
   "id": "252ff4ed",
   "metadata": {},
   "outputs": [],
   "source": []
  },
  {
   "cell_type": "code",
   "execution_count": null,
   "id": "010fb159",
   "metadata": {},
   "outputs": [],
   "source": []
  },
  {
   "cell_type": "code",
   "execution_count": null,
   "id": "349df047",
   "metadata": {},
   "outputs": [],
   "source": []
  },
  {
   "cell_type": "code",
   "execution_count": 166,
   "id": "25fe7e12",
   "metadata": {},
   "outputs": [
    {
     "name": "stdout",
     "output_type": "stream",
     "text": [
      "Cas2\n",
      "Change inches to cm\n",
      "H 45.7 \n",
      "L 45.7 \n",
      "W 71.1 \n"
     ]
    }
   ],
   "source": [
    "\n",
    "\n",
    "def return_centimers(inches):\n",
    "        pattern = re.compile(r'(\\w+) \\((\\d+\\.\\d+ )\\)')\n",
    "        result = None\n",
    "        if inches == None or inches == 0 or inches == '':\n",
    "            return 0\n",
    "        elif pattern.search(inches) != None:\n",
    "            toto = pattern.search(inches)\n",
    "\n",
    "            return toto.group(2)\n",
    "        \n",
    "        else:\n",
    "            try:\n",
    "                inches = int(inches)\n",
    "                result = inches * 2.54\n",
    "                result = f\"{result:.2f}\"\n",
    "                return result\n",
    "            except:\n",
    "                print('foat', inches)\n",
    "                inches = float(inches)\n",
    "\n",
    "                result = inches * 2.54\n",
    "                result = f\"{result:.2f}\"\n",
    "                return result\n",
    "\n",
    "\n",
    "def return_string_width(dico):\n",
    "    Regex_width = re.compile(r'(\\d+.\\.\\d+)\"W x (\\d+.\\.\\d+)\"D x (\\d+.\\.\\d+)\"H')\n",
    "    for toto in dico:\n",
    "        if Regex_width.search(toto) != None:\n",
    "\n",
    "            lengnt = Regex_width.search(toto).group(1)\n",
    "            width = Regex_width.search(toto).group(2)\n",
    "            heigt = Regex_width.search(toto).group(3)\n",
    "            return lengnt, width, heigt\n",
    "def check_string_width(dico):\n",
    "    Regex_width = re.compile(r'(\\d+.\\.\\d+)\"W x (\\d+.\\.\\d+)\"D x (\\d+.\\.\\d+)\"H')\n",
    "    for toto in dico:\n",
    "        if Regex_width.search(toto) != None:\n",
    "            return True     \n",
    "\n",
    "def search_word_list(word, list_search):\n",
    "    for text in list_search:\n",
    "        if word in text:\n",
    "            return True\n",
    "\n",
    "def return_i(text, y):\n",
    "    for i, toto in enumerate(text):\n",
    "        if y in toto:\n",
    "            return i\n",
    "descriptions = driver.find_elements_by_class_name('card__section')\n",
    "\n",
    "\n",
    "description_list = descriptions[2].text.split('/n')[0]\n",
    "description_list1 = description_list.split('\\n')\n",
    "#description_list1 = [x for x in description_list1 if x.isdigit()]\n",
    "description_list1\n",
    "\n",
    "\n",
    "#Cas1\n",
    "if search_word_list('إرتفاع', description_list1[0].split('×')) or search_word_list('عمق', description_list1[0].split('×')) or search_word_list('عرض', description_list1[0].split('×')):\n",
    "    toto = description_list1[0].split('×')\n",
    "    print('Cas1')\n",
    "\n",
    "    try:\n",
    "        height = [x for x in toto if 'إرتفاع' in x or ' ارتفاع'in x or 'الارتفاع' in x  ][0].replace('الارتفاع', '').replace('سم', '').replace('ارتفاع', '').replace('بوصة', '').strip()\n",
    "    except:\n",
    "        height = ''\n",
    "    try:\n",
    "        length = [x for x in toto if 'عمق' in x or 'العمق' in x][0].replace('عمق', '').replace('العمق', '').replace('سم', '').replace('بوصة', '').strip()\n",
    "    except:\n",
    "        length = ''\n",
    "    try:\n",
    "        width = [x for x in toto if 'عرض' in x or 'العرض' in x][0].replace('العرض', '').replace('عرض', '').replace('سم', '').replace('بوصة', '').strip()\n",
    "    except:\n",
    "        width = ''\n",
    "\n",
    "#Cas4\n",
    "elif search_word_list('Dimensions:', description_list1) or  search_word_list('Product Dimensions', description_list1):\n",
    "    print('Cas4')\n",
    "    if search_word_list('Dimensions:', description_list1):\n",
    "        toto = description_list1[return_i(description_list1, 'Dimensions:')].replace('Dimensions:', '').split('x')\n",
    "    else:\n",
    "        toto = description_list1[return_i(description_list1, 'Product Dimensions')].replace('Product Dimensions', '').split('x')\n",
    "    if len(toto) == 1:\n",
    "        toto = toto[0].split('X')\n",
    "    try:\n",
    "        length = [x for x in toto if 'D' in x or 'L' in x][0].replace('L', '').replace('D', '').replace('\"', '').replace('(in)', '').replace('cm', '').strip()\n",
    "\n",
    "    except:\n",
    "        lenght = ''\n",
    "    try:\n",
    "        height = [x for x in toto if 'H' in x ][0].replace('H', '').replace('\"', '').replace('cm', '').replace('(in)', '').strip()\n",
    "    except:\n",
    "        height = ''\n",
    "    try:\n",
    "        width = [x for x in toto if 'W' in x ][0].replace('W', '').replace('\"', '').replace('cm', '').replace('(in)', '').strip()\n",
    "    except:\n",
    "        width = ''\n",
    "\n",
    "#Cas2      \n",
    "elif search_word_list('Depth', description_list1) or search_word_list('Height', description_list1) or search_word_list('Width', description_list1): \n",
    "    print('Cas2')\n",
    "\n",
    "    toto = description_list1\n",
    "    length = [x for x in toto if 'Depth' in x ][0].replace('Depth', '').replace(':', '').replace('cm', '').replace('(in)', '').replace('\"', '').strip()\n",
    "    height = [x for x in toto if 'Height:' in x ][0].replace('Height', '').replace(':', '').replace('cm', '').replace('(in)', '').replace('\"', '').strip()\n",
    "    width = [x for x in toto if 'Width' in x ][0].replace('Width', '').replace(':', '').replace('cm', '').replace('(in)', '').replace('\"', '').strip()\n",
    "\n",
    "\n",
    "\n",
    "#Cas3\n",
    "elif search_word_list('\"H', description_list1) or search_word_list('\"W', description_list1) or search_word_list('\"W', description_list1):\n",
    "    print('Cas3')\n",
    "\n",
    "    toto = description_list1[0].split('x')\n",
    "    length = [x for x in toto if 'D' in x ][0].replace('D', '').replace('\"', '').replace('cm', '').replace('(in)', '').strip()\n",
    "    height = [x for x in toto if 'H' in x ][0].replace('H', '').replace('\"', '').replace('cm', '').replace('(in)', '').strip()\n",
    "    width = [x for x in toto if 'W' in x ][0].replace('W', '').replace('\"', '').replace('cm', '').replace('(in)', '').strip()\n",
    "\n",
    "\n",
    "#Cas5\n",
    "\n",
    "elif check_string_width(description_list1):\n",
    "    print('Cas5')\n",
    "    width, height, length = return_string_width(description_list1)\n",
    "\n",
    "\n",
    "\n",
    "\n",
    "else:\n",
    "    print('else')\n",
    "\n",
    "    height = ''\n",
    "    length = ''\n",
    "    width = ''\n",
    "if search_word_list('(in)', description_list1) or search_word_list('بوصة', description_list1) or search_word_list('\"', description_list1):\n",
    "    height = return_centimers(height)\n",
    "    length = return_centimers(length)\n",
    "    width = return_centimers(width)\n",
    "    print('Change inches to cm')\n",
    "print('H', height)\n",
    "print('L',length)\n",
    "print('W',width)\n"
   ]
  },
  {
   "cell_type": "code",
   "execution_count": null,
   "id": "6fb3247d",
   "metadata": {},
   "outputs": [],
   "source": []
  },
  {
   "cell_type": "code",
   "execution_count": 68,
   "id": "e6a80f2c",
   "metadata": {},
   "outputs": [],
   "source": [
    "H = 41.910000000000004\n",
    "L = 37.592000000000006"
   ]
  },
  {
   "cell_type": "code",
   "execution_count": null,
   "id": "15445547",
   "metadata": {},
   "outputs": [],
   "source": []
  },
  {
   "cell_type": "code",
   "execution_count": 69,
   "id": "fb50d020",
   "metadata": {},
   "outputs": [],
   "source": [
    "H = f\"{H:.2f}\""
   ]
  },
  {
   "cell_type": "code",
   "execution_count": 70,
   "id": "702eaa19",
   "metadata": {},
   "outputs": [
    {
     "data": {
      "text/plain": [
       "'41.91'"
      ]
     },
     "execution_count": 70,
     "metadata": {},
     "output_type": "execute_result"
    }
   ],
   "source": [
    "H"
   ]
  },
  {
   "cell_type": "code",
   "execution_count": null,
   "id": "933790ee",
   "metadata": {},
   "outputs": [],
   "source": []
  },
  {
   "cell_type": "code",
   "execution_count": null,
   "id": "cce51b64",
   "metadata": {},
   "outputs": [],
   "source": []
  },
  {
   "cell_type": "code",
   "execution_count": null,
   "id": "ade184d0",
   "metadata": {},
   "outputs": [],
   "source": []
  },
  {
   "cell_type": "code",
   "execution_count": null,
   "id": "3ce26d73",
   "metadata": {},
   "outputs": [],
   "source": []
  },
  {
   "cell_type": "code",
   "execution_count": null,
   "id": "632b5c47",
   "metadata": {},
   "outputs": [],
   "source": []
  },
  {
   "cell_type": "code",
   "execution_count": 45,
   "id": "273fd3f6",
   "metadata": {},
   "outputs": [],
   "source": [
    "driver.get(links_products[15])"
   ]
  },
  {
   "cell_type": "code",
   "execution_count": 77,
   "id": "4d2355e0",
   "metadata": {},
   "outputs": [
    {
     "data": {
      "text/plain": [
       "['DESCRIPTION',\n",
       " 'Made with genuine sheepskin, the Nomo bench from TŌV Furniture is the perfect chic accessory that is versatile for a verity of uses and spaces. The fabulously fluffy top is perched upon a shapely gold stainless steel base. We love how this small-scale piece makes such a large-scale statement in any room.',\n",
       " 'Real sheepskin',\n",
       " 'Shapely gold stainless steel base',\n",
       " 'Handmade by skilled furniture craftsman',\n",
       " 'Ships assembled',\n",
       " '  Product Dimensions 19\"W x 19\"D x 20\"H',\n",
       " 'Net Weight 11.2',\n",
       " 'Product Color White, Gold',\n",
       " 'Product Material Sheepskin, Stainless Steel',\n",
       " 'Seat Width 19',\n",
       " 'Seat Depth 19',\n",
       " 'Seat Height 20',\n",
       " 'Leg Color Gold',\n",
       " 'Leg Material Stainless Steel',\n",
       " 'Weight Capacity 300',\n",
       " 'SKU TOV-O77',\n",
       " 'عرض أقل']"
      ]
     },
     "execution_count": 77,
     "metadata": {},
     "output_type": "execute_result"
    }
   ],
   "source": [
    "description_list = descriptions[2].text.split('/n')[0]\n",
    "description_list1 = description_list.split('\\n')\n",
    "#description_list1 = [x for x in description_list1 if x.isdigit()]\n",
    "description_list1\n"
   ]
  },
  {
   "cell_type": "code",
   "execution_count": 19,
   "id": "205bb82b",
   "metadata": {},
   "outputs": [
    {
     "data": {
      "text/plain": [
       "['Woven tailoring in shimmery sand features teflon(r) fabric protector, silver nail accents, on a solid wooden frame featuring a black crackle finish.',\n",
       " 'Dimensions:42 W X 20 H X 17 D (in)',\n",
       " 'Weight:29']"
      ]
     },
     "execution_count": 19,
     "metadata": {},
     "output_type": "execute_result"
    }
   ],
   "source": [
    "descriptions = driver.find_elements_by_class_name('card__section')\n",
    "    \n",
    "    \n",
    "description_list = descriptions[2].text.split('/n')[0]\n",
    "description_list1 = description_list.split('\\n')\n",
    "#description_list1 = [x for x in description_list1 if x.isdigit()]\n",
    "description_list1"
   ]
  },
  {
   "cell_type": "code",
   "execution_count": 20,
   "id": "3982ad6d",
   "metadata": {},
   "outputs": [
    {
     "data": {
      "text/plain": [
       "True"
      ]
     },
     "execution_count": 20,
     "metadata": {},
     "output_type": "execute_result"
    }
   ],
   "source": []
  },
  {
   "cell_type": "code",
   "execution_count": 21,
   "id": "7d879f10",
   "metadata": {},
   "outputs": [],
   "source": [
    "def return_centimers(inches):\n",
    "    return inches * 2.54"
   ]
  },
  {
   "cell_type": "code",
   "execution_count": null,
   "id": "28e81887",
   "metadata": {},
   "outputs": [],
   "source": []
  },
  {
   "cell_type": "code",
   "execution_count": 22,
   "id": "cdae8afd",
   "metadata": {},
   "outputs": [
    {
     "data": {
      "text/plain": [
       "30.48"
      ]
     },
     "execution_count": 22,
     "metadata": {},
     "output_type": "execute_result"
    }
   ],
   "source": [
    "return_centimers(12)"
   ]
  },
  {
   "cell_type": "code",
   "execution_count": null,
   "id": "250ee6ae",
   "metadata": {},
   "outputs": [],
   "source": []
  },
  {
   "cell_type": "code",
   "execution_count": null,
   "id": "55413830",
   "metadata": {},
   "outputs": [],
   "source": []
  },
  {
   "cell_type": "code",
   "execution_count": null,
   "id": "2d361def",
   "metadata": {},
   "outputs": [],
   "source": []
  },
  {
   "cell_type": "code",
   "execution_count": null,
   "id": "12608054",
   "metadata": {},
   "outputs": [],
   "source": []
  },
  {
   "cell_type": "code",
   "execution_count": 197,
   "id": "deff2dce",
   "metadata": {},
   "outputs": [],
   "source": [
    "def return_i(text, y):\n",
    "    for i, toto in enumerate(text):\n",
    "        if y in toto:\n",
    "            return i"
   ]
  },
  {
   "cell_type": "code",
   "execution_count": null,
   "id": "44a9c88b",
   "metadata": {},
   "outputs": [],
   "source": []
  },
  {
   "cell_type": "code",
   "execution_count": null,
   "id": "23f807c2",
   "metadata": {},
   "outputs": [],
   "source": []
  },
  {
   "cell_type": "code",
   "execution_count": 198,
   "id": "a1878b50",
   "metadata": {},
   "outputs": [
    {
     "data": {
      "text/plain": [
       "'  Product Dimensions 19\"W x 19\"D x 20\"H'"
      ]
     },
     "execution_count": 198,
     "metadata": {},
     "output_type": "execute_result"
    }
   ],
   "source": [
    "toto = description_list1[return_i(description_list1, 'Dimensions')]\n",
    "toto"
   ]
  },
  {
   "cell_type": "code",
   "execution_count": null,
   "id": "f4472edf",
   "metadata": {},
   "outputs": [],
   "source": []
  },
  {
   "cell_type": "code",
   "execution_count": 196,
   "id": "6dc36c7a",
   "metadata": {},
   "outputs": [],
   "source": [
    "return_i(description_list1, 'Product Dimensions')"
   ]
  },
  {
   "cell_type": "code",
   "execution_count": null,
   "id": "7f9fea10",
   "metadata": {},
   "outputs": [],
   "source": []
  },
  {
   "cell_type": "code",
   "execution_count": null,
   "id": "ffc3495f",
   "metadata": {},
   "outputs": [],
   "source": []
  },
  {
   "cell_type": "code",
   "execution_count": 189,
   "id": "a03af7e8",
   "metadata": {},
   "outputs": [
    {
     "name": "stdout",
     "output_type": "stream",
     "text": [
      "None\n"
     ]
    }
   ],
   "source": [
    "print(return_i(description_list1, 'Product Dimensions'))"
   ]
  },
  {
   "cell_type": "code",
   "execution_count": 195,
   "id": "bec9af6d",
   "metadata": {},
   "outputs": [
    {
     "data": {
      "text/plain": [
       "'  Product Dimensions 19\"W x 19\"D x 20\"H'"
      ]
     },
     "execution_count": 195,
     "metadata": {},
     "output_type": "execute_result"
    }
   ],
   "source": [
    "description_list1[6]"
   ]
  },
  {
   "cell_type": "code",
   "execution_count": null,
   "id": "37346ae8",
   "metadata": {},
   "outputs": [],
   "source": []
  },
  {
   "cell_type": "code",
   "execution_count": null,
   "id": "257641f3",
   "metadata": {},
   "outputs": [],
   "source": []
  },
  {
   "cell_type": "code",
   "execution_count": null,
   "id": "9a9e3858",
   "metadata": {},
   "outputs": [],
   "source": []
  },
  {
   "cell_type": "code",
   "execution_count": null,
   "id": "d31028c2",
   "metadata": {},
   "outputs": [],
   "source": []
  },
  {
   "cell_type": "code",
   "execution_count": null,
   "id": "d6c23ffb",
   "metadata": {},
   "outputs": [],
   "source": []
  },
  {
   "cell_type": "code",
   "execution_count": null,
   "id": "298ecd56",
   "metadata": {},
   "outputs": [],
   "source": []
  },
  {
   "cell_type": "code",
   "execution_count": 172,
   "id": "3b0a4bb1",
   "metadata": {},
   "outputs": [
    {
     "data": {
      "text/plain": [
       "[\"There's no classier place to put on your feet. The Endora bench features a smooth, top-grain cowhide leather in a ribbed style quilting for a sophisticated look and feeling. The matte gold legs just refines the overall aesthetic.\",\n",
       " 'Dimensions: 59\"W x 19\"D x 16.5\"H',\n",
       " 'Materials:',\n",
       " 'Top Grain Leather',\n",
       " 'Iron Legs',\n",
       " 'Foam,Plywood',\n",
       " 'PK-14']"
      ]
     },
     "execution_count": 172,
     "metadata": {},
     "output_type": "execute_result"
    }
   ],
   "source": [
    "description_list1"
   ]
  },
  {
   "cell_type": "code",
   "execution_count": null,
   "id": "98490bac",
   "metadata": {},
   "outputs": [],
   "source": []
  },
  {
   "cell_type": "code",
   "execution_count": null,
   "id": "d8f8ef6e",
   "metadata": {},
   "outputs": [],
   "source": []
  },
  {
   "cell_type": "code",
   "execution_count": null,
   "id": "d04ba855",
   "metadata": {},
   "outputs": [],
   "source": []
  },
  {
   "cell_type": "code",
   "execution_count": 168,
   "id": "7bd1048a",
   "metadata": {},
   "outputs": [
    {
     "data": {
      "text/plain": [
       "1"
      ]
     },
     "execution_count": 168,
     "metadata": {},
     "output_type": "execute_result"
    }
   ],
   "source": [
    "return_i(description_list1, 'Dimensions:')"
   ]
  },
  {
   "cell_type": "code",
   "execution_count": null,
   "id": "00fb3b84",
   "metadata": {},
   "outputs": [],
   "source": []
  },
  {
   "cell_type": "code",
   "execution_count": null,
   "id": "691d7690",
   "metadata": {},
   "outputs": [],
   "source": []
  },
  {
   "cell_type": "code",
   "execution_count": null,
   "id": "97677f3d",
   "metadata": {},
   "outputs": [],
   "source": []
  },
  {
   "cell_type": "code",
   "execution_count": null,
   "id": "712b667e",
   "metadata": {},
   "outputs": [],
   "source": []
  },
  {
   "cell_type": "code",
   "execution_count": null,
   "id": "b15f1b80",
   "metadata": {},
   "outputs": [],
   "source": []
  },
  {
   "cell_type": "code",
   "execution_count": null,
   "id": "39f95ea7",
   "metadata": {},
   "outputs": [],
   "source": []
  },
  {
   "cell_type": "code",
   "execution_count": null,
   "id": "7657c799",
   "metadata": {},
   "outputs": [],
   "source": []
  },
  {
   "cell_type": "code",
   "execution_count": null,
   "id": "2d851d5d",
   "metadata": {},
   "outputs": [],
   "source": []
  },
  {
   "cell_type": "code",
   "execution_count": null,
   "id": "df64b147",
   "metadata": {},
   "outputs": [],
   "source": []
  },
  {
   "cell_type": "code",
   "execution_count": null,
   "id": "a11d5da5",
   "metadata": {},
   "outputs": [],
   "source": []
  },
  {
   "cell_type": "code",
   "execution_count": null,
   "id": "9b493c6e",
   "metadata": {},
   "outputs": [],
   "source": []
  },
  {
   "cell_type": "code",
   "execution_count": null,
   "id": "3a7b3a17",
   "metadata": {},
   "outputs": [],
   "source": []
  },
  {
   "cell_type": "code",
   "execution_count": null,
   "id": "b8e3e640",
   "metadata": {},
   "outputs": [],
   "source": []
  },
  {
   "cell_type": "code",
   "execution_count": null,
   "id": "e9c17499",
   "metadata": {},
   "outputs": [],
   "source": []
  },
  {
   "cell_type": "code",
   "execution_count": null,
   "id": "8ac9715c",
   "metadata": {},
   "outputs": [],
   "source": []
  },
  {
   "cell_type": "code",
   "execution_count": 127,
   "id": "04589525",
   "metadata": {},
   "outputs": [],
   "source": [
    "toto = description_list1[return_i(description_list1, 'Dimensions:')].replace('Dimensions:', '').split('x')\n",
    "if len(toto) == 1:\n",
    "    toto = toto[0].split('X')"
   ]
  },
  {
   "cell_type": "code",
   "execution_count": null,
   "id": "b968a48c",
   "metadata": {},
   "outputs": [],
   "source": []
  },
  {
   "cell_type": "code",
   "execution_count": 128,
   "id": "6b495a8b",
   "metadata": {},
   "outputs": [
    {
     "data": {
      "text/plain": [
       "['25 ', ' 15.5 ', ' 21 inch']"
      ]
     },
     "execution_count": 128,
     "metadata": {},
     "output_type": "execute_result"
    }
   ],
   "source": [
    "toto\n"
   ]
  },
  {
   "cell_type": "code",
   "execution_count": 131,
   "id": "99f05c9d",
   "metadata": {},
   "outputs": [],
   "source": [
    "length = [x for x in toto if 'D' in x or 'L' in x ]\n"
   ]
  },
  {
   "cell_type": "code",
   "execution_count": 132,
   "id": "ec9fca99",
   "metadata": {},
   "outputs": [
    {
     "data": {
      "text/plain": [
       "[]"
      ]
     },
     "execution_count": 132,
     "metadata": {},
     "output_type": "execute_result"
    }
   ],
   "source": [
    "length"
   ]
  },
  {
   "cell_type": "code",
   "execution_count": null,
   "id": "56a95506",
   "metadata": {},
   "outputs": [],
   "source": []
  },
  {
   "cell_type": "code",
   "execution_count": null,
   "id": "a2cc2fb1",
   "metadata": {},
   "outputs": [],
   "source": []
  },
  {
   "cell_type": "code",
   "execution_count": null,
   "id": "bfe339ee",
   "metadata": {},
   "outputs": [],
   "source": []
  },
  {
   "cell_type": "code",
   "execution_count": null,
   "id": "5c4e1d17",
   "metadata": {},
   "outputs": [],
   "source": []
  },
  {
   "cell_type": "code",
   "execution_count": null,
   "id": "c29659f1",
   "metadata": {},
   "outputs": [],
   "source": []
  },
  {
   "cell_type": "code",
   "execution_count": null,
   "id": "cfec7de3",
   "metadata": {},
   "outputs": [],
   "source": []
  },
  {
   "cell_type": "code",
   "execution_count": 129,
   "id": "15a538d0",
   "metadata": {},
   "outputs": [
    {
     "ename": "IndexError",
     "evalue": "list index out of range",
     "output_type": "error",
     "traceback": [
      "\u001b[0;31m---------------------------------------------------------------------------\u001b[0m",
      "\u001b[0;31mIndexError\u001b[0m                                Traceback (most recent call last)",
      "\u001b[0;32m<ipython-input-129-9704d1dc4ca6>\u001b[0m in \u001b[0;36m<module>\u001b[0;34m\u001b[0m\n\u001b[0;32m----> 1\u001b[0;31m \u001b[0mlength\u001b[0m \u001b[0;34m=\u001b[0m \u001b[0;34m[\u001b[0m\u001b[0mx\u001b[0m \u001b[0;32mfor\u001b[0m \u001b[0mx\u001b[0m \u001b[0;32min\u001b[0m \u001b[0mtoto\u001b[0m \u001b[0;32mif\u001b[0m \u001b[0;34m'D'\u001b[0m \u001b[0;32min\u001b[0m \u001b[0mx\u001b[0m \u001b[0;32mor\u001b[0m \u001b[0;34m'L'\u001b[0m \u001b[0;32min\u001b[0m \u001b[0mx\u001b[0m \u001b[0;34m]\u001b[0m\u001b[0;34m[\u001b[0m\u001b[0;36m0\u001b[0m\u001b[0;34m]\u001b[0m\u001b[0;34m.\u001b[0m\u001b[0mreplace\u001b[0m\u001b[0;34m(\u001b[0m\u001b[0;34m'D'\u001b[0m\u001b[0;34m,\u001b[0m \u001b[0;34m''\u001b[0m\u001b[0;34m)\u001b[0m\u001b[0;34m.\u001b[0m\u001b[0mreplace\u001b[0m\u001b[0;34m(\u001b[0m\u001b[0;34m'\"'\u001b[0m\u001b[0;34m,\u001b[0m \u001b[0;34m''\u001b[0m\u001b[0;34m)\u001b[0m\u001b[0;34m.\u001b[0m\u001b[0mreplace\u001b[0m\u001b[0;34m(\u001b[0m\u001b[0;34m'cm'\u001b[0m\u001b[0;34m,\u001b[0m \u001b[0;34m''\u001b[0m\u001b[0;34m)\u001b[0m\u001b[0;34m.\u001b[0m\u001b[0mstrip\u001b[0m\u001b[0;34m(\u001b[0m\u001b[0;34m)\u001b[0m\u001b[0;34m\u001b[0m\u001b[0;34m\u001b[0m\u001b[0m\n\u001b[0m\u001b[1;32m      2\u001b[0m \u001b[0mheight\u001b[0m \u001b[0;34m=\u001b[0m \u001b[0;34m[\u001b[0m\u001b[0mx\u001b[0m \u001b[0;32mfor\u001b[0m \u001b[0mx\u001b[0m \u001b[0;32min\u001b[0m \u001b[0mtoto\u001b[0m \u001b[0;32mif\u001b[0m \u001b[0;34m'H'\u001b[0m \u001b[0;32min\u001b[0m \u001b[0mx\u001b[0m \u001b[0;34m]\u001b[0m\u001b[0;34m[\u001b[0m\u001b[0;36m0\u001b[0m\u001b[0;34m]\u001b[0m\u001b[0;34m.\u001b[0m\u001b[0mreplace\u001b[0m\u001b[0;34m(\u001b[0m\u001b[0;34m'H'\u001b[0m\u001b[0;34m,\u001b[0m \u001b[0;34m''\u001b[0m\u001b[0;34m)\u001b[0m\u001b[0;34m.\u001b[0m\u001b[0mreplace\u001b[0m\u001b[0;34m(\u001b[0m\u001b[0;34m'\"'\u001b[0m\u001b[0;34m,\u001b[0m \u001b[0;34m''\u001b[0m\u001b[0;34m)\u001b[0m\u001b[0;34m.\u001b[0m\u001b[0mreplace\u001b[0m\u001b[0;34m(\u001b[0m\u001b[0;34m'cm'\u001b[0m\u001b[0;34m,\u001b[0m \u001b[0;34m''\u001b[0m\u001b[0;34m)\u001b[0m\u001b[0;34m.\u001b[0m\u001b[0mstrip\u001b[0m\u001b[0;34m(\u001b[0m\u001b[0;34m)\u001b[0m\u001b[0;34m\u001b[0m\u001b[0;34m\u001b[0m\u001b[0m\n\u001b[1;32m      3\u001b[0m \u001b[0mwidth\u001b[0m \u001b[0;34m=\u001b[0m \u001b[0;34m[\u001b[0m\u001b[0mx\u001b[0m \u001b[0;32mfor\u001b[0m \u001b[0mx\u001b[0m \u001b[0;32min\u001b[0m \u001b[0mtoto\u001b[0m \u001b[0;32mif\u001b[0m \u001b[0;34m'W'\u001b[0m \u001b[0;32min\u001b[0m \u001b[0mx\u001b[0m \u001b[0;34m]\u001b[0m\u001b[0;34m[\u001b[0m\u001b[0;36m0\u001b[0m\u001b[0;34m]\u001b[0m\u001b[0;34m.\u001b[0m\u001b[0mreplace\u001b[0m\u001b[0;34m(\u001b[0m\u001b[0;34m'W'\u001b[0m\u001b[0;34m,\u001b[0m \u001b[0;34m''\u001b[0m\u001b[0;34m)\u001b[0m\u001b[0;34m.\u001b[0m\u001b[0mreplace\u001b[0m\u001b[0;34m(\u001b[0m\u001b[0;34m'\"'\u001b[0m\u001b[0;34m,\u001b[0m \u001b[0;34m''\u001b[0m\u001b[0;34m)\u001b[0m\u001b[0;34m.\u001b[0m\u001b[0mreplace\u001b[0m\u001b[0;34m(\u001b[0m\u001b[0;34m'cm'\u001b[0m\u001b[0;34m,\u001b[0m \u001b[0;34m''\u001b[0m\u001b[0;34m)\u001b[0m\u001b[0;34m.\u001b[0m\u001b[0mstrip\u001b[0m\u001b[0;34m(\u001b[0m\u001b[0;34m)\u001b[0m\u001b[0;34m\u001b[0m\u001b[0;34m\u001b[0m\u001b[0m\n",
      "\u001b[0;31mIndexError\u001b[0m: list index out of range"
     ]
    }
   ],
   "source": [
    "length = [x for x in toto if 'D' in x or 'L' in x ][0].replace('D', '').replace('\"', '').replace('cm', '').strip()\n",
    "height = [x for x in toto if 'H' in x ][0].replace('H', '').replace('\"', '').replace('cm', '').strip()\n",
    "width = [x for x in toto if 'W' in x ][0].replace('W', '').replace('\"', '').replace('cm', '').strip()"
   ]
  },
  {
   "cell_type": "code",
   "execution_count": null,
   "id": "d41188a2",
   "metadata": {},
   "outputs": [],
   "source": []
  },
  {
   "cell_type": "code",
   "execution_count": 117,
   "id": "3e267bb4",
   "metadata": {},
   "outputs": [
    {
     "data": {
      "text/plain": [
       "'21'"
      ]
     },
     "execution_count": 117,
     "metadata": {},
     "output_type": "execute_result"
    }
   ],
   "source": [
    "height"
   ]
  },
  {
   "cell_type": "code",
   "execution_count": null,
   "id": "1e10a4d2",
   "metadata": {},
   "outputs": [],
   "source": []
  },
  {
   "cell_type": "code",
   "execution_count": 116,
   "id": "71ef8f34",
   "metadata": {},
   "outputs": [
    {
     "data": {
      "text/plain": [
       "'16  (in)'"
      ]
     },
     "execution_count": 116,
     "metadata": {},
     "output_type": "execute_result"
    }
   ],
   "source": [
    "length"
   ]
  },
  {
   "cell_type": "code",
   "execution_count": null,
   "id": "72f1b6ea",
   "metadata": {},
   "outputs": [],
   "source": []
  },
  {
   "cell_type": "code",
   "execution_count": null,
   "id": "b06743eb",
   "metadata": {},
   "outputs": [],
   "source": []
  },
  {
   "cell_type": "code",
   "execution_count": null,
   "id": "7ac27fea",
   "metadata": {},
   "outputs": [],
   "source": []
  },
  {
   "cell_type": "code",
   "execution_count": 99,
   "id": "420a2d36",
   "metadata": {},
   "outputs": [
    {
     "data": {
      "text/plain": [
       "'18'"
      ]
     },
     "execution_count": 99,
     "metadata": {},
     "output_type": "execute_result"
    }
   ],
   "source": [
    "height"
   ]
  },
  {
   "cell_type": "code",
   "execution_count": null,
   "id": "62e1a5f5",
   "metadata": {},
   "outputs": [],
   "source": []
  },
  {
   "cell_type": "code",
   "execution_count": null,
   "id": "d392d8e9",
   "metadata": {},
   "outputs": [],
   "source": []
  },
  {
   "cell_type": "code",
   "execution_count": null,
   "id": "cdc47866",
   "metadata": {},
   "outputs": [],
   "source": []
  },
  {
   "cell_type": "code",
   "execution_count": null,
   "id": "db974d60",
   "metadata": {},
   "outputs": [],
   "source": []
  },
  {
   "cell_type": "code",
   "execution_count": null,
   "id": "af2062cc",
   "metadata": {},
   "outputs": [],
   "source": []
  },
  {
   "cell_type": "code",
   "execution_count": 16,
   "id": "8457546a",
   "metadata": {},
   "outputs": [
    {
     "data": {
      "text/plain": [
       "[\"There's no classier place to put on your feet. The Endora bench features a smooth, top-grain cowhide leather in a ribbed style quilting for a sophisticated look and feeling. The matte gold legs just refines the overall aesthetic.\"]"
      ]
     },
     "execution_count": 16,
     "metadata": {},
     "output_type": "execute_result"
    }
   ],
   "source": [
    "toto = description_list1[return_i(description_list1, 'Dimensions:')].replace('Dimensions:', '').split('x')\n",
    "toto"
   ]
  },
  {
   "cell_type": "code",
   "execution_count": 17,
   "id": "a0f3bb15",
   "metadata": {},
   "outputs": [
    {
     "data": {
      "text/plain": [
       "0"
      ]
     },
     "execution_count": 17,
     "metadata": {},
     "output_type": "execute_result"
    }
   ],
   "source": [
    "return_i(description_list1, 'Dimensions:')"
   ]
  },
  {
   "cell_type": "code",
   "execution_count": 18,
   "id": "ac7cc695",
   "metadata": {},
   "outputs": [
    {
     "data": {
      "text/plain": [
       "[\"There's no classier place to put on your feet. The Endora bench features a smooth, top-grain cowhide leather in a ribbed style quilting for a sophisticated look and feeling. The matte gold legs just refines the overall aesthetic.\",\n",
       " 'Dimensions: 59\"W x 19\"D x 16.5\"H',\n",
       " 'Materials:',\n",
       " 'Top Grain Leather',\n",
       " 'Iron Legs',\n",
       " 'Foam,Plywood',\n",
       " 'PK-14']"
      ]
     },
     "execution_count": 18,
     "metadata": {},
     "output_type": "execute_result"
    }
   ],
   "source": [
    "description_list1"
   ]
  },
  {
   "cell_type": "code",
   "execution_count": null,
   "id": "96a15f77",
   "metadata": {},
   "outputs": [],
   "source": []
  },
  {
   "cell_type": "code",
   "execution_count": null,
   "id": "446639a9",
   "metadata": {},
   "outputs": [],
   "source": []
  },
  {
   "cell_type": "code",
   "execution_count": null,
   "id": "c16cd494",
   "metadata": {},
   "outputs": [],
   "source": []
  },
  {
   "cell_type": "code",
   "execution_count": null,
   "id": "b7a1ed22",
   "metadata": {},
   "outputs": [],
   "source": []
  },
  {
   "cell_type": "code",
   "execution_count": 8,
   "id": "a08a7938",
   "metadata": {},
   "outputs": [
    {
     "data": {
      "text/plain": [
       "[\"There's no classier place to put on your feet. The Endora bench features a smooth, top-grain cowhide leather in a ribbed style quilting for a sophisticated look and feeling. The matte gold legs just refines the overall aesthetic.\"]"
      ]
     },
     "execution_count": 8,
     "metadata": {},
     "output_type": "execute_result"
    }
   ],
   "source": [
    "toto = description_list1[0].replace('Dimensions:', '').split('x')\n",
    "toto"
   ]
  },
  {
   "cell_type": "code",
   "execution_count": 10,
   "id": "24d9ea7e",
   "metadata": {},
   "outputs": [
    {
     "name": "stdout",
     "output_type": "stream",
     "text": [
      "1\n"
     ]
    }
   ],
   "source": [
    "\n",
    "if search_word_list('Dimensions:', description_list1):\n",
    "    print('1')"
   ]
  },
  {
   "cell_type": "code",
   "execution_count": null,
   "id": "a637c1f2",
   "metadata": {},
   "outputs": [],
   "source": []
  },
  {
   "cell_type": "code",
   "execution_count": null,
   "id": "3cc42156",
   "metadata": {},
   "outputs": [],
   "source": []
  },
  {
   "cell_type": "code",
   "execution_count": null,
   "id": "2996e48b",
   "metadata": {},
   "outputs": [],
   "source": []
  },
  {
   "cell_type": "code",
   "execution_count": null,
   "id": "388a98ff",
   "metadata": {},
   "outputs": [],
   "source": []
  },
  {
   "cell_type": "code",
   "execution_count": null,
   "id": "bac0d239",
   "metadata": {},
   "outputs": [],
   "source": []
  },
  {
   "cell_type": "code",
   "execution_count": null,
   "id": "72b379e4",
   "metadata": {},
   "outputs": [],
   "source": []
  },
  {
   "cell_type": "code",
   "execution_count": null,
   "id": "884046cb",
   "metadata": {},
   "outputs": [],
   "source": []
  },
  {
   "cell_type": "code",
   "execution_count": null,
   "id": "208e95e2",
   "metadata": {},
   "outputs": [],
   "source": []
  },
  {
   "cell_type": "code",
   "execution_count": null,
   "id": "1772f1f1",
   "metadata": {},
   "outputs": [],
   "source": []
  },
  {
   "cell_type": "code",
   "execution_count": null,
   "id": "6b896e77",
   "metadata": {},
   "outputs": [],
   "source": []
  },
  {
   "cell_type": "code",
   "execution_count": 220,
   "id": "cb232881",
   "metadata": {},
   "outputs": [
    {
     "name": "stdout",
     "output_type": "stream",
     "text": [
      "toto\n"
     ]
    }
   ],
   "source": [
    "if search_word_list('إرتفاع', description_list1[0].split('×')) or search_word_list('عمق', description_list1[0].split('×')) or search_word_list('عرض', description_list1[0].split('×')):\n",
    "    description_list1\n",
    "    print('toto')"
   ]
  },
  {
   "cell_type": "code",
   "execution_count": null,
   "id": "03461cde",
   "metadata": {},
   "outputs": [],
   "source": []
  },
  {
   "cell_type": "code",
   "execution_count": null,
   "id": "e3d503f7",
   "metadata": {},
   "outputs": [],
   "source": []
  },
  {
   "cell_type": "code",
   "execution_count": null,
   "id": "57ceccc0",
   "metadata": {},
   "outputs": [],
   "source": []
  },
  {
   "cell_type": "code",
   "execution_count": null,
   "id": "f50b995c",
   "metadata": {},
   "outputs": [],
   "source": []
  },
  {
   "cell_type": "code",
   "execution_count": null,
   "id": "f4b16ec3",
   "metadata": {},
   "outputs": [],
   "source": []
  },
  {
   "cell_type": "code",
   "execution_count": null,
   "id": "7acedcc7",
   "metadata": {},
   "outputs": [],
   "source": []
  },
  {
   "cell_type": "code",
   "execution_count": null,
   "id": "2f5a733e",
   "metadata": {},
   "outputs": [],
   "source": []
  },
  {
   "cell_type": "code",
   "execution_count": 203,
   "id": "c497c8e5",
   "metadata": {},
   "outputs": [
    {
     "data": {
      "text/plain": [
       "7"
      ]
     },
     "execution_count": 203,
     "metadata": {},
     "output_type": "execute_result"
    }
   ],
   "source": [
    "list_images = []\n",
    "images_click = driver.find_elements_by_class_name('product-gallery__thumbnail')\n",
    "\n",
    "\n",
    "for ele in images_click:\n",
    "    ele.click()\n",
    "    time.sleep(0.5)\n",
    "\n",
    "\n",
    "images = driver.find_elements_by_class_name('product-gallery__image')\n",
    "\n",
    "# print(len(images))\n",
    "for img in images:\n",
    "    #list_images.append('https:'+img.get_attribute('data-srcset').split(' ')[0])\n",
    "    #print(':', img.get_attribute('data-srcset'))\n",
    "    t = 'https:'+img.get_attribute('data-srcset').split(', ')[0]\n",
    "    #print(t)\n",
    "    list_images.append(t)\n",
    "len(images)"
   ]
  },
  {
   "cell_type": "code",
   "execution_count": null,
   "id": "ebc0dc93",
   "metadata": {},
   "outputs": [],
   "source": []
  },
  {
   "cell_type": "code",
   "execution_count": null,
   "id": "e81bb235",
   "metadata": {},
   "outputs": [],
   "source": []
  },
  {
   "cell_type": "code",
   "execution_count": null,
   "id": "0917acb9",
   "metadata": {},
   "outputs": [],
   "source": []
  },
  {
   "cell_type": "code",
   "execution_count": null,
   "id": "b11c7e47",
   "metadata": {},
   "outputs": [],
   "source": []
  },
  {
   "cell_type": "code",
   "execution_count": null,
   "id": "9d581326",
   "metadata": {},
   "outputs": [],
   "source": []
  },
  {
   "cell_type": "code",
   "execution_count": 121,
   "id": "8d641471",
   "metadata": {},
   "outputs": [],
   "source": [
    "def search_word_list(word, list_search):\n",
    "    for text in list_search:\n",
    "        if text.find(text) == 0:\n",
    "            return True\n",
    "        "
   ]
  },
  {
   "cell_type": "code",
   "execution_count": null,
   "id": "0194c9be",
   "metadata": {},
   "outputs": [],
   "source": []
  },
  {
   "cell_type": "code",
   "execution_count": null,
   "id": "01509bf8",
   "metadata": {},
   "outputs": [],
   "source": []
  },
  {
   "cell_type": "code",
   "execution_count": null,
   "id": "5c5b80b1",
   "metadata": {},
   "outputs": [],
   "source": []
  },
  {
   "cell_type": "code",
   "execution_count": 106,
   "id": "774342c9",
   "metadata": {},
   "outputs": [
    {
     "name": "stdout",
     "output_type": "stream",
     "text": [
      "H 50.17\n",
      "L 84.46\n",
      "W 193.68\n"
     ]
    }
   ],
   "source": [
    "\n",
    "print('H', height1)\n",
    "print('L',length1)\n",
    "print('W',width1)"
   ]
  },
  {
   "cell_type": "code",
   "execution_count": null,
   "id": "61a2f79a",
   "metadata": {},
   "outputs": [],
   "source": []
  },
  {
   "cell_type": "code",
   "execution_count": null,
   "id": "4c824fc6",
   "metadata": {},
   "outputs": [],
   "source": []
  },
  {
   "cell_type": "code",
   "execution_count": 82,
   "id": "aad30deb",
   "metadata": {},
   "outputs": [
    {
     "data": {
      "text/plain": [
       "'Metal frame. Glass top. Shelf at bottom with trellis pattern.'"
      ]
     },
     "execution_count": 82,
     "metadata": {},
     "output_type": "execute_result"
    }
   ],
   "source": [
    "Description = description_list1[description_list1.index('FEATURES:')+1]\n",
    "Description"
   ]
  },
  {
   "cell_type": "code",
   "execution_count": 89,
   "id": "cfecc7c0",
   "metadata": {},
   "outputs": [
    {
     "data": {
      "text/plain": [
       "'127W x 127D x 47.63H cm'"
      ]
     },
     "execution_count": 89,
     "metadata": {},
     "output_type": "execute_result"
    }
   ],
   "source": [
    "Dimensions= description_list1[description_list1.index('DIMENSIONS (CM):')+1]\n",
    "Dimensions"
   ]
  },
  {
   "cell_type": "code",
   "execution_count": 90,
   "id": "897161da",
   "metadata": {},
   "outputs": [
    {
     "data": {
      "text/plain": [
       "'Steel Metal and Cast Iron'"
      ]
     },
     "execution_count": 90,
     "metadata": {},
     "output_type": "execute_result"
    }
   ],
   "source": [
    "Master_Item_Number = description_list1[description_list1.index('MATERIAL:')+1]\n",
    "Master_Item_Number\n"
   ]
  },
  {
   "cell_type": "code",
   "execution_count": 143,
   "id": "c2fcb0e8",
   "metadata": {},
   "outputs": [],
   "source": [
    "driver.get(links_products[78])"
   ]
  },
  {
   "cell_type": "code",
   "execution_count": 144,
   "id": "6debd022",
   "metadata": {},
   "outputs": [],
   "source": [
    "collection = driver.find_element_by_class_name('product-meta__vendor ').text"
   ]
  },
  {
   "cell_type": "code",
   "execution_count": 145,
   "id": "73b2097b",
   "metadata": {},
   "outputs": [
    {
     "data": {
      "text/plain": [
       "'TOV'"
      ]
     },
     "execution_count": 145,
     "metadata": {},
     "output_type": "execute_result"
    }
   ],
   "source": [
    "collection"
   ]
  },
  {
   "cell_type": "code",
   "execution_count": null,
   "id": "7c4067ff",
   "metadata": {},
   "outputs": [],
   "source": []
  },
  {
   "cell_type": "code",
   "execution_count": null,
   "id": "66fe91ed",
   "metadata": {},
   "outputs": [],
   "source": []
  },
  {
   "cell_type": "code",
   "execution_count": null,
   "id": "7f3698ee",
   "metadata": {},
   "outputs": [],
   "source": []
  },
  {
   "cell_type": "code",
   "execution_count": null,
   "id": "53822c10",
   "metadata": {},
   "outputs": [],
   "source": []
  },
  {
   "cell_type": "code",
   "execution_count": null,
   "id": "6ae9fdac",
   "metadata": {},
   "outputs": [],
   "source": [
    "#Cas 1:\n",
    "# 'الأبعاد (سم):',\n",
    " '162.56 عرض x 59.06 عمق x 66.68 ارتفاع \n",
    "    \n",
    "#Cas 2:\n",
    "\n",
    " ['Color: Blue', 'Depth: 50.8 cm', 'Height: 45.27 cm', 'Width: 99 cm']\n",
    "    \n",
    "#Cas 3:\n",
    "# 'الأبعاد (سم):',\n",
    " 'Dimensions:22 W X 19 H X 17 D (in)',\n",
    "    \n",
    "#Cas 4:\n",
    "# 'الأبعاد (سم):',\n",
    " '78.8\"W x 15.8\"D x 18\"H',"
   ]
  },
  {
   "cell_type": "code",
   "execution_count": 67,
   "id": "bbca90ea",
   "metadata": {},
   "outputs": [],
   "source": [
    "text = ['Color: Blue', 'Depth: 50.8 cm', 'Height: 45.27 cm', 'Width: 99 cm']"
   ]
  },
  {
   "cell_type": "code",
   "execution_count": 166,
   "id": "b6fc392d",
   "metadata": {},
   "outputs": [],
   "source": [
    "driver.get(links_products[80])"
   ]
  },
  {
   "cell_type": "code",
   "execution_count": null,
   "id": "3180920d",
   "metadata": {},
   "outputs": [],
   "source": []
  },
  {
   "cell_type": "code",
   "execution_count": 206,
   "id": "6922b186",
   "metadata": {},
   "outputs": [
    {
     "data": {
      "text/plain": [
       "['Material:METAL / FABRIC',\n",
       " 'Color:IVORY/BEIGE',\n",
       " 'Weight:11.2 lbs',\n",
       " 'Dimensions:25 x 15.5 x 21 inch']"
      ]
     },
     "execution_count": 206,
     "metadata": {},
     "output_type": "execute_result"
    }
   ],
   "source": [
    "\n",
    "descriptions = driver.find_elements_by_class_name('card__section')\n",
    "    \n",
    "    \n",
    "description_list = descriptions[2].text.split('/n')[0]\n",
    "description_list1 = description_list.split('\\n')\n",
    "#description_list1 = [x for x in description_list1 if x.isdigit()]\n",
    "description_list1"
   ]
  },
  {
   "cell_type": "code",
   "execution_count": null,
   "id": "704cd3a4",
   "metadata": {},
   "outputs": [],
   "source": []
  },
  {
   "cell_type": "code",
   "execution_count": 171,
   "id": "cc4f6f72",
   "metadata": {},
   "outputs": [
    {
     "data": {
      "text/plain": [
       "['50\"W ', ' 24\"D ', ' 14.9\"H']"
      ]
     },
     "execution_count": 171,
     "metadata": {},
     "output_type": "execute_result"
    }
   ],
   "source": [
    "toto = description_list1[0].split('x')\n",
    "toto"
   ]
  },
  {
   "cell_type": "code",
   "execution_count": null,
   "id": "b874bf72",
   "metadata": {},
   "outputs": [],
   "source": []
  },
  {
   "cell_type": "code",
   "execution_count": null,
   "id": "4c792236",
   "metadata": {},
   "outputs": [],
   "source": []
  },
  {
   "cell_type": "code",
   "execution_count": null,
   "id": "2bec2217",
   "metadata": {},
   "outputs": [],
   "source": []
  },
  {
   "cell_type": "code",
   "execution_count": 180,
   "id": "d4ae041d",
   "metadata": {},
   "outputs": [
    {
     "name": "stdout",
     "output_type": "stream",
     "text": [
      "height 14.9\n",
      "length 24\n",
      "width 50\n"
     ]
    }
   ],
   "source": [
    "if search_word_list('\"H', description_list1) or search_word_list('\"W', description_list1) or search_word_list('\"W', description_list1):\n",
    "\n",
    "    toto = description_list1[0].split('x')\n",
    "    length = [x for x in toto if 'D' in x ][0].replace('D', '').replace('\"', '').replace('cm', '').strip()\n",
    "    height = [x for x in toto if 'H' in x ][0].replace('H', '').replace('\"', '').replace('cm', '').strip()\n",
    "    width = [x for x in toto if 'W' in x ][0].replace('W', '').replace('\"', '').replace('cm', '').strip()\n",
    "\n",
    "\n",
    "\n",
    "    print('height', height)\n",
    "    print('length', length)\n",
    "    print('width', width)"
   ]
  },
  {
   "cell_type": "code",
   "execution_count": null,
   "id": "ed2eb491",
   "metadata": {},
   "outputs": [],
   "source": []
  },
  {
   "cell_type": "code",
   "execution_count": null,
   "id": "f23d8ec4",
   "metadata": {},
   "outputs": [],
   "source": []
  },
  {
   "cell_type": "code",
   "execution_count": null,
   "id": "fcd22f7a",
   "metadata": {},
   "outputs": [],
   "source": []
  },
  {
   "cell_type": "code",
   "execution_count": null,
   "id": "a719c288",
   "metadata": {},
   "outputs": [],
   "source": []
  },
  {
   "cell_type": "code",
   "execution_count": null,
   "id": "90d77340",
   "metadata": {},
   "outputs": [],
   "source": []
  },
  {
   "cell_type": "code",
   "execution_count": null,
   "id": "54de70b5",
   "metadata": {},
   "outputs": [],
   "source": [
    "my_regex_pattern = r\"https://subscene.com/subtitles/(?P<title>[\\w-]+)/(?P<language>[\\w-]+)/(?P<product_id>[\\w-]+)\"\n",
    "\n",
    "for lin in links:\n",
    "    try:\n",
    "        my_match = regex.match(lin.get_attribute('href'))\n",
    "        if my_match != None and my_match['language'] == 'arabic':\n",
    "            link_list.append(lin.get_attribute('href'))\n",
    "    except:\n",
    "        pass"
   ]
  },
  {
   "cell_type": "code",
   "execution_count": 38,
   "id": "2dc52a89",
   "metadata": {},
   "outputs": [],
   "source": [
    "def isfloat(value):\n",
    "    try:\n",
    "        float(value)\n",
    "        return True\n",
    "    except ValueError:\n",
    "        return False\n"
   ]
  },
  {
   "cell_type": "code",
   "execution_count": null,
   "id": "4551d8b2",
   "metadata": {},
   "outputs": [],
   "source": []
  },
  {
   "cell_type": "code",
   "execution_count": 146,
   "id": "ab6f7a42",
   "metadata": {},
   "outputs": [
    {
     "data": {
      "text/plain": [
       "['48.8\"W x 18.5\"D x 18.3\"H']"
      ]
     },
     "execution_count": 146,
     "metadata": {},
     "output_type": "execute_result"
    }
   ],
   "source": [
    "\n",
    "descriptions = driver.find_elements_by_class_name('card__section')\n",
    "    \n",
    "    \n",
    "description_list = descriptions[2].text.split('/n')[0]\n",
    "description_list1 = description_list.split('\\n')\n",
    "#description_list1 = [x for x in description_list1 if x.isdigit()]\n",
    "description_list1"
   ]
  },
  {
   "cell_type": "code",
   "execution_count": null,
   "id": "37a6d0ae",
   "metadata": {},
   "outputs": [],
   "source": []
  },
  {
   "cell_type": "code",
   "execution_count": null,
   "id": "322774cc",
   "metadata": {},
   "outputs": [],
   "source": []
  },
  {
   "cell_type": "code",
   "execution_count": null,
   "id": "0684b147",
   "metadata": {},
   "outputs": [],
   "source": []
  },
  {
   "cell_type": "code",
   "execution_count": null,
   "id": "ecf9ad9a",
   "metadata": {},
   "outputs": [],
   "source": []
  },
  {
   "cell_type": "code",
   "execution_count": 25,
   "id": "f7f35617",
   "metadata": {},
   "outputs": [
    {
     "data": {
      "text/plain": [
       "['Master Item Number:',\n",
       " 'D647-00',\n",
       " 'Description:',\n",
       " 'Large UPH Dining Room Bench',\n",
       " 'Series:',\n",
       " 'D647 Bolanburg',\n",
       " 'Colors:',\n",
       " 'Two-tone',\n",
       " 'Style:',\n",
       " 'Vintage Casual®',\n",
       " 'Dimensions (Confirmed):',\n",
       " 'Inches: 50.13\" W x 15.13\" D x 19.5\" H',\n",
       " 'Metric: 1273.3mm W x 384.3mm D x 495.3mm H',\n",
       " 'Carton:',\n",
       " 'Inches: 53.5\" W x 20.5\" D x 5.88\" H',\n",
       " 'Metric: 1358.9mm W x 520.7mm D x 149.35mm H',\n",
       " 'Weight (lbs/kgs):',\n",
       " '44 / 19.96',\n",
       " 'Cubes (ft/m):',\n",
       " '3.73 / 0.11',\n",
       " 'عرض أقل']"
      ]
     },
     "execution_count": 25,
     "metadata": {},
     "output_type": "execute_result"
    }
   ],
   "source": [
    "descriptions[2].text.split('\\n')"
   ]
  },
  {
   "cell_type": "code",
   "execution_count": null,
   "id": "c3c92b62",
   "metadata": {},
   "outputs": [],
   "source": []
  },
  {
   "cell_type": "code",
   "execution_count": 3,
   "id": "6b9b667c",
   "metadata": {},
   "outputs": [],
   "source": [
    "driver.get('https://www.alrugaibfurniture.com/ar/collections/benches/products/endora-bench-cappuccino')"
   ]
  },
  {
   "cell_type": "code",
   "execution_count": null,
   "id": "27010c28",
   "metadata": {},
   "outputs": [],
   "source": []
  },
  {
   "cell_type": "code",
   "execution_count": null,
   "id": "33aa9d43",
   "metadata": {},
   "outputs": [],
   "source": []
  },
  {
   "cell_type": "code",
   "execution_count": null,
   "id": "c5c2f1ef",
   "metadata": {},
   "outputs": [],
   "source": []
  },
  {
   "cell_type": "code",
   "execution_count": null,
   "id": "6b1f6224",
   "metadata": {},
   "outputs": [],
   "source": []
  },
  {
   "cell_type": "code",
   "execution_count": null,
   "id": "c92c9077",
   "metadata": {},
   "outputs": [],
   "source": []
  },
  {
   "cell_type": "code",
   "execution_count": 70,
   "id": "9c2e4aae",
   "metadata": {},
   "outputs": [],
   "source": [
    "click_more = driver.find_element_by_class_name('expandable-content__toggle-icon')\n",
    "click_more.click()"
   ]
  },
  {
   "cell_type": "code",
   "execution_count": null,
   "id": "57ec90a2",
   "metadata": {},
   "outputs": [],
   "source": []
  },
  {
   "cell_type": "code",
   "execution_count": null,
   "id": "e2255077",
   "metadata": {},
   "outputs": [],
   "source": []
  },
  {
   "cell_type": "code",
   "execution_count": null,
   "id": "e899a19f",
   "metadata": {},
   "outputs": [],
   "source": []
  },
  {
   "cell_type": "code",
   "execution_count": null,
   "id": "bb57e84d",
   "metadata": {},
   "outputs": [],
   "source": []
  },
  {
   "cell_type": "code",
   "execution_count": null,
   "id": "5c486818",
   "metadata": {},
   "outputs": [],
   "source": []
  },
  {
   "cell_type": "code",
   "execution_count": 30,
   "id": "09932391",
   "metadata": {},
   "outputs": [],
   "source": [
    "\n"
   ]
  },
  {
   "cell_type": "code",
   "execution_count": 75,
   "id": "4427c002",
   "metadata": {},
   "outputs": [
    {
     "data": {
      "text/plain": [
       "2"
      ]
     },
     "execution_count": 75,
     "metadata": {},
     "output_type": "execute_result"
    }
   ],
   "source": [
    "images = driver.find_elements_by_class_name('product-gallery__thumbnail')\n",
    "\n",
    "for ele in images:\n",
    "    ele.click()\n",
    "    time.sleep(0.5)\n",
    "\n",
    "images = driver.find_elements_by_class_name('product-gallery__image')\n",
    "images_tab = []\n",
    "# print(len(images))\n",
    "for img in images:\n",
    "    #list_images.append('https:'+img.get_attribute('data-srcset').split(' ')[0])\n",
    "    #print(':', img.get_attribute('data-srcset'))\n",
    "    t = 'https:'+img.get_attribute('data-srcset').split(', ')[0]\n",
    "    #print(t)\n",
    "    images_tab.append(t)\n",
    "images_tab\n",
    "len(images)"
   ]
  },
  {
   "cell_type": "code",
   "execution_count": null,
   "id": "91b717ea",
   "metadata": {},
   "outputs": [],
   "source": []
  },
  {
   "cell_type": "code",
   "execution_count": null,
   "id": "85d2be10",
   "metadata": {},
   "outputs": [],
   "source": []
  },
  {
   "cell_type": "code",
   "execution_count": null,
   "id": "a06fb935",
   "metadata": {},
   "outputs": [],
   "source": []
  },
  {
   "cell_type": "code",
   "execution_count": null,
   "id": "f521d0e5",
   "metadata": {},
   "outputs": [],
   "source": []
  },
  {
   "cell_type": "code",
   "execution_count": null,
   "id": "20f8d76e",
   "metadata": {},
   "outputs": [],
   "source": []
  },
  {
   "cell_type": "code",
   "execution_count": null,
   "id": "3ebdc3b2",
   "metadata": {},
   "outputs": [],
   "source": []
  },
  {
   "cell_type": "code",
   "execution_count": 72,
   "id": "66374633",
   "metadata": {},
   "outputs": [
    {
     "data": {
      "text/plain": [
       "9"
      ]
     },
     "execution_count": 72,
     "metadata": {},
     "output_type": "execute_result"
    }
   ],
   "source": []
  },
  {
   "cell_type": "code",
   "execution_count": null,
   "id": "a4c43738",
   "metadata": {},
   "outputs": [],
   "source": []
  },
  {
   "cell_type": "code",
   "execution_count": null,
   "id": "aadd65db",
   "metadata": {},
   "outputs": [],
   "source": []
  },
  {
   "cell_type": "code",
   "execution_count": 73,
   "id": "b7ec332d",
   "metadata": {},
   "outputs": [
    {
     "data": {
      "text/plain": [
       "['https://cdn.shopify.com/s/files/1/0773/5495/products/IK-1002-18_400x.jpg?v=1602243614 400w',\n",
       " 'https://cdn.shopify.com/s/files/1/0773/5495/products/ik-1002-18_1_400x.jpg?v=1602243616 400w',\n",
       " 'https://cdn.shopify.com/s/files/1/0773/5495/products/ik-1002-18_2_400x.jpg?v=1602243617 400w',\n",
       " 'https://cdn.shopify.com/s/files/1/0773/5495/products/ik-1002-18_3_400x.jpg?v=1602243618 400w',\n",
       " 'https://cdn.shopify.com/s/files/1/0773/5495/products/ik-1002-18_537bc3b1-16c9-4929-abc2-3d20e7a7e448_400x.jpg?v=1602243619 400w',\n",
       " 'https://cdn.shopify.com/s/files/1/0773/5495/products/IK-1002-02_1_400x.jpg?v=1602243620 400w',\n",
       " 'https://cdn.shopify.com/s/files/1/0773/5495/products/IK-1002-02_2_400x.jpg?v=1602243622 400w',\n",
       " 'https://cdn.shopify.com/s/files/1/0773/5495/products/IK-1002-02_3_400x.jpg?v=1602243623 400w',\n",
       " 'https://cdn.shopify.com/s/files/1/0773/5495/products/IK-1002-02_400x.jpg?v=1602243624 400w']"
      ]
     },
     "execution_count": 73,
     "metadata": {},
     "output_type": "execute_result"
    }
   ],
   "source": [
    "images_tab"
   ]
  },
  {
   "cell_type": "code",
   "execution_count": null,
   "id": "fd09fb9d",
   "metadata": {},
   "outputs": [],
   "source": []
  },
  {
   "cell_type": "code",
   "execution_count": null,
   "id": "9343c31b",
   "metadata": {},
   "outputs": [],
   "source": []
  },
  {
   "cell_type": "code",
   "execution_count": null,
   "id": "47b10cd7",
   "metadata": {},
   "outputs": [],
   "source": []
  },
  {
   "cell_type": "code",
   "execution_count": null,
   "id": "2717664c",
   "metadata": {},
   "outputs": [],
   "source": []
  },
  {
   "cell_type": "code",
   "execution_count": null,
   "id": "f539f2d8",
   "metadata": {},
   "outputs": [],
   "source": []
  },
  {
   "cell_type": "code",
   "execution_count": null,
   "id": "4f18c485",
   "metadata": {},
   "outputs": [],
   "source": []
  },
  {
   "cell_type": "code",
   "execution_count": null,
   "id": "f25ad542",
   "metadata": {},
   "outputs": [],
   "source": []
  },
  {
   "cell_type": "code",
   "execution_count": null,
   "id": "aea5911e",
   "metadata": {},
   "outputs": [],
   "source": []
  },
  {
   "cell_type": "code",
   "execution_count": null,
   "id": "87c37a4d",
   "metadata": {},
   "outputs": [],
   "source": []
  },
  {
   "cell_type": "code",
   "execution_count": null,
   "id": "7faf3414",
   "metadata": {},
   "outputs": [],
   "source": []
  },
  {
   "cell_type": "code",
   "execution_count": null,
   "id": "d44705a4",
   "metadata": {},
   "outputs": [],
   "source": []
  },
  {
   "cell_type": "code",
   "execution_count": null,
   "id": "4e4e306f",
   "metadata": {},
   "outputs": [],
   "source": []
  },
  {
   "cell_type": "code",
   "execution_count": null,
   "id": "6144cfe6",
   "metadata": {},
   "outputs": [],
   "source": []
  },
  {
   "cell_type": "code",
   "execution_count": null,
   "id": "ce39cefb",
   "metadata": {},
   "outputs": [],
   "source": []
  },
  {
   "cell_type": "code",
   "execution_count": null,
   "id": "8a5537a5",
   "metadata": {},
   "outputs": [],
   "source": []
  },
  {
   "cell_type": "code",
   "execution_count": 57,
   "id": "2284f244",
   "metadata": {},
   "outputs": [
    {
     "data": {
      "text/plain": [
       "[]"
      ]
     },
     "execution_count": 57,
     "metadata": {},
     "output_type": "execute_result"
    }
   ],
   "source": [
    "tab = images_tab\n",
    "tab"
   ]
  },
  {
   "cell_type": "code",
   "execution_count": null,
   "id": "700622bf",
   "metadata": {},
   "outputs": [],
   "source": []
  },
  {
   "cell_type": "code",
   "execution_count": null,
   "id": "6f8b00f6",
   "metadata": {},
   "outputs": [],
   "source": []
  },
  {
   "cell_type": "code",
   "execution_count": null,
   "id": "aad46be2",
   "metadata": {},
   "outputs": [],
   "source": []
  },
  {
   "cell_type": "code",
   "execution_count": null,
   "id": "33c10043",
   "metadata": {},
   "outputs": [],
   "source": []
  },
  {
   "cell_type": "code",
   "execution_count": null,
   "id": "838bf33a",
   "metadata": {},
   "outputs": [],
   "source": []
  },
  {
   "cell_type": "code",
   "execution_count": null,
   "id": "47e17800",
   "metadata": {},
   "outputs": [],
   "source": []
  },
  {
   "cell_type": "code",
   "execution_count": null,
   "id": "93b09299",
   "metadata": {},
   "outputs": [],
   "source": []
  },
  {
   "cell_type": "code",
   "execution_count": null,
   "id": "6dc119bd",
   "metadata": {},
   "outputs": [],
   "source": []
  },
  {
   "cell_type": "code",
   "execution_count": null,
   "id": "95f6447f",
   "metadata": {},
   "outputs": [],
   "source": []
  },
  {
   "cell_type": "code",
   "execution_count": null,
   "id": "2fdbbd05",
   "metadata": {},
   "outputs": [],
   "source": []
  },
  {
   "cell_type": "code",
   "execution_count": null,
   "id": "63175ae0",
   "metadata": {},
   "outputs": [],
   "source": []
  },
  {
   "cell_type": "code",
   "execution_count": null,
   "id": "3e9d577a",
   "metadata": {},
   "outputs": [],
   "source": []
  },
  {
   "cell_type": "code",
   "execution_count": null,
   "id": "a505510e",
   "metadata": {},
   "outputs": [],
   "source": []
  },
  {
   "cell_type": "code",
   "execution_count": null,
   "id": "4fe2ada2",
   "metadata": {},
   "outputs": [],
   "source": []
  },
  {
   "cell_type": "code",
   "execution_count": 25,
   "id": "661f2c69",
   "metadata": {},
   "outputs": [],
   "source": [
    "image2 = ': //cdn.shopify.com/s/files/1/0773/5495/products/coffee1_400x.jpg?v=1611220472 400w, //cdn.shopify.com/s/files/1/0773/5495/products/coffee1_500x.jpg?v=1611220472 500w, //cdn.shopify.com/s/files/1/0773/5495/products/coffee1_600x.jpg?v=1611220472 600w, //cdn.shopify.com/s/files/1/0773/5495/products/coffee1_700x.jpg?v=1611220472 700w, //cdn.shopify.com/s/files/1/0773/5495/products/coffee1_800x.jpg?v=1611220472 800w, //cdn.shopify.com/s/files/1/0773/5495/products/coffee1_900x.jpg?v=1611220472 900w, //cdn.shopify.com/s/files/1/0773/5495/products/coffee1_1000x.jpg?v=1611220472 1000w, //cdn.shopify.com/s/files/1/0773/5495/products/coffee1_1100x.jpg?v=1611220472 1100w, //cdn.shopify.com/s/files/1/0773/5495/products/coffee1_1200x.jpg?v=1611220472 1200w'"
   ]
  },
  {
   "cell_type": "code",
   "execution_count": 26,
   "id": "81253a76",
   "metadata": {},
   "outputs": [
    {
     "data": {
      "text/plain": [
       "[': //cdn.shopify.com/s/files/1/0773/5495/products/coffee1_400x.jpg?v=1611220472 400w',\n",
       " '//cdn.shopify.com/s/files/1/0773/5495/products/coffee1_500x.jpg?v=1611220472 500w',\n",
       " '//cdn.shopify.com/s/files/1/0773/5495/products/coffee1_600x.jpg?v=1611220472 600w',\n",
       " '//cdn.shopify.com/s/files/1/0773/5495/products/coffee1_700x.jpg?v=1611220472 700w',\n",
       " '//cdn.shopify.com/s/files/1/0773/5495/products/coffee1_800x.jpg?v=1611220472 800w',\n",
       " '//cdn.shopify.com/s/files/1/0773/5495/products/coffee1_900x.jpg?v=1611220472 900w',\n",
       " '//cdn.shopify.com/s/files/1/0773/5495/products/coffee1_1000x.jpg?v=1611220472 1000w',\n",
       " '//cdn.shopify.com/s/files/1/0773/5495/products/coffee1_1100x.jpg?v=1611220472 1100w',\n",
       " '//cdn.shopify.com/s/files/1/0773/5495/products/coffee1_1200x.jpg?v=1611220472 1200w']"
      ]
     },
     "execution_count": 26,
     "metadata": {},
     "output_type": "execute_result"
    }
   ],
   "source": [
    "\n"
   ]
  },
  {
   "cell_type": "code",
   "execution_count": null,
   "id": "5ba055c5",
   "metadata": {},
   "outputs": [],
   "source": []
  },
  {
   "cell_type": "code",
   "execution_count": null,
   "id": "15e47889",
   "metadata": {},
   "outputs": [],
   "source": []
  },
  {
   "cell_type": "code",
   "execution_count": null,
   "id": "bf833923",
   "metadata": {},
   "outputs": [],
   "source": []
  },
  {
   "cell_type": "code",
   "execution_count": null,
   "id": "27177ae2",
   "metadata": {},
   "outputs": [],
   "source": []
  },
  {
   "cell_type": "code",
   "execution_count": 23,
   "id": "f6eac34a",
   "metadata": {},
   "outputs": [
    {
     "data": {
      "text/plain": [
       "'https: //cdn.shopify.com/s/files/1/0773/5495/products/coffee1_400x.jpg?v=1611220472 400w, //cdn.shopify.com/s/files/1/0773/5495/products/coffee1_500x.jpg?v=1611220472 500w, //cdn.shopify.com/s/files/1/0773/5495/products/coffee1_600x.jpg?v=1611220472 600w, //cdn.shopify.com/s/files/1/0773/5495/products/coffee1_700x.jpg?v=1611220472 700w, //cdn.shopify.com/s/files/1/0773/5495/products/coffee1_800x.jpg?v=1611220472 800w, //cdn.shopify.com/s/files/1/0773/5495/products/coffee1_900x.jpg?v=1611220472 900w, //cdn.shopify.com/s/files/1/0773/5495/products/coffee1_1000x.jpg?v=1611220472 1000w, //cdn.shopify.com/s/files/1/0773/5495/products/coffee1_1100x.jpg?v=1611220472 1100w, //cdn.shopify.com/s/files/1/0773/5495/products/coffee1_1200x.jpg?v=1611220472 1200w'"
      ]
     },
     "execution_count": 23,
     "metadata": {},
     "output_type": "execute_result"
    }
   ],
   "source": [
    "image = 'https'+image1\n",
    "image"
   ]
  },
  {
   "cell_type": "code",
   "execution_count": 24,
   "id": "956e2c72",
   "metadata": {},
   "outputs": [
    {
     "data": {
      "text/plain": [
       "['https: //cdn.shopify.com/s/files/1/0773/5495/products/coffee1_400x.jpg?v=1611220472 400w',\n",
       " '//cdn.shopify.com/s/files/1/0773/5495/products/coffee1_500x.jpg?v=1611220472 500w',\n",
       " '//cdn.shopify.com/s/files/1/0773/5495/products/coffee1_600x.jpg?v=1611220472 600w',\n",
       " '//cdn.shopify.com/s/files/1/0773/5495/products/coffee1_700x.jpg?v=1611220472 700w',\n",
       " '//cdn.shopify.com/s/files/1/0773/5495/products/coffee1_800x.jpg?v=1611220472 800w',\n",
       " '//cdn.shopify.com/s/files/1/0773/5495/products/coffee1_900x.jpg?v=1611220472 900w',\n",
       " '//cdn.shopify.com/s/files/1/0773/5495/products/coffee1_1000x.jpg?v=1611220472 1000w',\n",
       " '//cdn.shopify.com/s/files/1/0773/5495/products/coffee1_1100x.jpg?v=1611220472 1100w',\n",
       " '//cdn.shopify.com/s/files/1/0773/5495/products/coffee1_1200x.jpg?v=1611220472 1200w']"
      ]
     },
     "execution_count": 24,
     "metadata": {},
     "output_type": "execute_result"
    }
   ],
   "source": [
    "tab = image.split(', ')\n",
    "tab\n"
   ]
  },
  {
   "cell_type": "code",
   "execution_count": null,
   "id": "5b91f116",
   "metadata": {},
   "outputs": [],
   "source": []
  },
  {
   "cell_type": "code",
   "execution_count": null,
   "id": "e3decb60",
   "metadata": {},
   "outputs": [],
   "source": []
  },
  {
   "cell_type": "code",
   "execution_count": null,
   "id": "6e982ce4",
   "metadata": {},
   "outputs": [],
   "source": []
  },
  {
   "cell_type": "code",
   "execution_count": null,
   "id": "60dde6a6",
   "metadata": {},
   "outputs": [],
   "source": []
  },
  {
   "cell_type": "code",
   "execution_count": 18,
   "id": "d55ed9ea",
   "metadata": {},
   "outputs": [
    {
     "data": {
      "text/plain": [
       "'httpshttps:: //cdn.shopify.com/s/files/1/0773/5495/products/coffee1_400x.jpg?v=1611220472 400w, //cdn.shopify.com/s/files/1/0773/5495/products/coffee1_500x.jpg?v=1611220472 500w, //cdn.shopify.com/s/files/1/0773/5495/products/coffee1_600x.jpg?v=1611220472 600w, //cdn.shopify.com/s/files/1/0773/5495/products/coffee1_700x.jpg?v=1611220472 700w, //cdn.shopify.com/s/files/1/0773/5495/products/coffee1_800x.jpg?v=1611220472 800w, //cdn.shopify.com/s/files/1/0773/5495/products/coffee1_900x.jpg?v=1611220472 900w, //cdn.shopify.com/s/files/1/0773/5495/products/coffee1_1000x.jpg?v=1611220472 1000w, //cdn.shopify.com/s/files/1/0773/5495/products/coffee1_1100x.jpg?v=1611220472 1100w, //cdn.shopify.com/s/files/1/0773/5495/products/coffee1_1200x.jpg?v=1611220472 1200w'"
      ]
     },
     "execution_count": 18,
     "metadata": {},
     "output_type": "execute_result"
    }
   ],
   "source": [
    "image"
   ]
  },
  {
   "cell_type": "code",
   "execution_count": null,
   "id": "12b96eac",
   "metadata": {},
   "outputs": [],
   "source": []
  },
  {
   "cell_type": "code",
   "execution_count": null,
   "id": "01989d84",
   "metadata": {},
   "outputs": [],
   "source": []
  },
  {
   "cell_type": "code",
   "execution_count": null,
   "id": "1850bdbd",
   "metadata": {},
   "outputs": [],
   "source": []
  },
  {
   "cell_type": "code",
   "execution_count": null,
   "id": "c1061dee",
   "metadata": {},
   "outputs": [],
   "source": []
  },
  {
   "cell_type": "code",
   "execution_count": null,
   "id": "aa699793",
   "metadata": {},
   "outputs": [],
   "source": []
  },
  {
   "cell_type": "code",
   "execution_count": null,
   "id": "3e9b7d9f",
   "metadata": {},
   "outputs": [],
   "source": []
  },
  {
   "cell_type": "code",
   "execution_count": null,
   "id": "aa6df0a6",
   "metadata": {},
   "outputs": [],
   "source": []
  },
  {
   "cell_type": "code",
   "execution_count": null,
   "id": "8898b8a5",
   "metadata": {},
   "outputs": [],
   "source": []
  },
  {
   "cell_type": "code",
   "execution_count": null,
   "id": "a21283ca",
   "metadata": {},
   "outputs": [],
   "source": []
  },
  {
   "cell_type": "code",
   "execution_count": null,
   "id": "60972fba",
   "metadata": {},
   "outputs": [],
   "source": []
  },
  {
   "cell_type": "code",
   "execution_count": null,
   "id": "60ca9538",
   "metadata": {},
   "outputs": [],
   "source": []
  },
  {
   "cell_type": "code",
   "execution_count": null,
   "id": "559df172",
   "metadata": {},
   "outputs": [],
   "source": []
  },
  {
   "cell_type": "code",
   "execution_count": null,
   "id": "de9784ae",
   "metadata": {},
   "outputs": [],
   "source": []
  },
  {
   "cell_type": "code",
   "execution_count": null,
   "id": "8c54a738",
   "metadata": {},
   "outputs": [],
   "source": []
  },
  {
   "cell_type": "code",
   "execution_count": null,
   "id": "eb54f72a",
   "metadata": {},
   "outputs": [],
   "source": []
  },
  {
   "cell_type": "code",
   "execution_count": 64,
   "id": "e79a93e1",
   "metadata": {},
   "outputs": [
    {
     "name": "stdout",
     "output_type": "stream",
     "text": [
      "https://cdn.shopify.com/s/files/1/0773/5495/products/540801_1_400x.jpg?v=1602201517\n",
      "https://cdn.shopify.com/s/files/1/0773/5495/products/540801_7_400x.jpg?v=1602201518\n"
     ]
    }
   ],
   "source": []
  },
  {
   "cell_type": "code",
   "execution_count": null,
   "id": "e539793d",
   "metadata": {},
   "outputs": [],
   "source": []
  },
  {
   "cell_type": "code",
   "execution_count": null,
   "id": "1fe1d8ff",
   "metadata": {},
   "outputs": [],
   "source": []
  },
  {
   "cell_type": "code",
   "execution_count": null,
   "id": "25b38901",
   "metadata": {},
   "outputs": [],
   "source": []
  },
  {
   "cell_type": "code",
   "execution_count": null,
   "id": "9479fade",
   "metadata": {},
   "outputs": [],
   "source": []
  },
  {
   "cell_type": "code",
   "execution_count": null,
   "id": "36b8198c",
   "metadata": {},
   "outputs": [],
   "source": []
  },
  {
   "cell_type": "code",
   "execution_count": null,
   "id": "2c329fa5",
   "metadata": {},
   "outputs": [],
   "source": []
  },
  {
   "cell_type": "code",
   "execution_count": null,
   "id": "90f1cb8f",
   "metadata": {},
   "outputs": [],
   "source": []
  },
  {
   "cell_type": "code",
   "execution_count": null,
   "id": "5276741a",
   "metadata": {},
   "outputs": [],
   "source": []
  },
  {
   "cell_type": "code",
   "execution_count": null,
   "id": "d6c14f47",
   "metadata": {},
   "outputs": [],
   "source": []
  },
  {
   "cell_type": "code",
   "execution_count": null,
   "id": "8052ff85",
   "metadata": {},
   "outputs": [],
   "source": []
  },
  {
   "cell_type": "code",
   "execution_count": null,
   "id": "a741a9a2",
   "metadata": {},
   "outputs": [],
   "source": []
  },
  {
   "cell_type": "code",
   "execution_count": null,
   "id": "b0d2c758",
   "metadata": {},
   "outputs": [],
   "source": []
  },
  {
   "cell_type": "code",
   "execution_count": null,
   "id": "79bc9574",
   "metadata": {},
   "outputs": [],
   "source": []
  },
  {
   "cell_type": "code",
   "execution_count": null,
   "id": "2143e803",
   "metadata": {},
   "outputs": [],
   "source": []
  },
  {
   "cell_type": "code",
   "execution_count": null,
   "id": "7c22eef4",
   "metadata": {},
   "outputs": [],
   "source": []
  },
  {
   "cell_type": "code",
   "execution_count": null,
   "id": "0be23331",
   "metadata": {},
   "outputs": [],
   "source": []
  },
  {
   "cell_type": "code",
   "execution_count": null,
   "id": "43a0e625",
   "metadata": {},
   "outputs": [],
   "source": []
  },
  {
   "cell_type": "code",
   "execution_count": null,
   "id": "9749e1dc",
   "metadata": {},
   "outputs": [],
   "source": []
  },
  {
   "cell_type": "code",
   "execution_count": null,
   "id": "8d1e5858",
   "metadata": {},
   "outputs": [],
   "source": []
  },
  {
   "cell_type": "code",
   "execution_count": null,
   "id": "53ce9ec6",
   "metadata": {},
   "outputs": [],
   "source": []
  },
  {
   "cell_type": "code",
   "execution_count": null,
   "id": "5e281f83",
   "metadata": {},
   "outputs": [],
   "source": []
  },
  {
   "cell_type": "code",
   "execution_count": null,
   "id": "b9bbd396",
   "metadata": {},
   "outputs": [],
   "source": []
  },
  {
   "cell_type": "code",
   "execution_count": null,
   "id": "aa9ac683",
   "metadata": {},
   "outputs": [],
   "source": []
  },
  {
   "cell_type": "code",
   "execution_count": null,
   "id": "8f2674a7",
   "metadata": {},
   "outputs": [],
   "source": []
  },
  {
   "cell_type": "code",
   "execution_count": null,
   "id": "8555b4b5",
   "metadata": {},
   "outputs": [],
   "source": []
  },
  {
   "cell_type": "code",
   "execution_count": null,
   "id": "d53a04a7",
   "metadata": {},
   "outputs": [],
   "source": []
  },
  {
   "cell_type": "code",
   "execution_count": 29,
   "id": "af4bbd53",
   "metadata": {},
   "outputs": [
    {
     "data": {
      "text/plain": [
       "117"
      ]
     },
     "execution_count": 29,
     "metadata": {},
     "output_type": "execute_result"
    }
   ],
   "source": [
    "len(images)"
   ]
  },
  {
   "cell_type": "code",
   "execution_count": null,
   "id": "6173b144",
   "metadata": {},
   "outputs": [],
   "source": []
  },
  {
   "cell_type": "code",
   "execution_count": null,
   "id": "f709aace",
   "metadata": {},
   "outputs": [],
   "source": []
  },
  {
   "cell_type": "code",
   "execution_count": null,
   "id": "20e13f85",
   "metadata": {},
   "outputs": [],
   "source": []
  },
  {
   "cell_type": "code",
   "execution_count": null,
   "id": "c3a4d2a5",
   "metadata": {},
   "outputs": [],
   "source": []
  },
  {
   "cell_type": "code",
   "execution_count": 22,
   "id": "06f60a1a",
   "metadata": {},
   "outputs": [
    {
     "data": {
      "text/plain": [
       "2"
      ]
     },
     "execution_count": 22,
     "metadata": {},
     "output_type": "execute_result"
    }
   ],
   "source": [
    "len(images)"
   ]
  },
  {
   "cell_type": "code",
   "execution_count": 23,
   "id": "f1f949d8",
   "metadata": {},
   "outputs": [
    {
     "name": "stdout",
     "output_type": "stream",
     "text": [
      "https://cdn.shopify.com/s/files/1/0773/5495/products/540801_1_60x.jpg?v=1602201517\n",
      "https://cdn.shopify.com/s/files/1/0773/5495/products/540801_7_60x.jpg?v=1602201518\n"
     ]
    }
   ],
   "source": [
    "for img in images:\n",
    "    print(img.get_attribute('src'))"
   ]
  },
  {
   "cell_type": "code",
   "execution_count": null,
   "id": "67d9dda6",
   "metadata": {},
   "outputs": [],
   "source": []
  },
  {
   "cell_type": "code",
   "execution_count": null,
   "id": "39f5ac4d",
   "metadata": {},
   "outputs": [],
   "source": []
  },
  {
   "cell_type": "code",
   "execution_count": null,
   "id": "56de4721",
   "metadata": {},
   "outputs": [],
   "source": []
  },
  {
   "cell_type": "code",
   "execution_count": null,
   "id": "809ada81",
   "metadata": {},
   "outputs": [],
   "source": []
  },
  {
   "cell_type": "code",
   "execution_count": null,
   "id": "4336bdba",
   "metadata": {},
   "outputs": [],
   "source": []
  },
  {
   "cell_type": "code",
   "execution_count": null,
   "id": "8cffd72b",
   "metadata": {},
   "outputs": [],
   "source": []
  },
  {
   "cell_type": "code",
   "execution_count": null,
   "id": "97438dc6",
   "metadata": {},
   "outputs": [],
   "source": []
  },
  {
   "cell_type": "code",
   "execution_count": 18,
   "id": "421a7339",
   "metadata": {},
   "outputs": [
    {
     "name": "stdout",
     "output_type": "stream",
     "text": [
      "https://www.alrugaibfurniture.com/collections/coffee-tables/products/realyn-oval-cocktail-table?lshst=collection\n",
      "https://www.alrugaibfurniture.com/collections/coffee-tables/products/watson-rectangular-cocktail-table?lshst=collection\n",
      "https://www.alrugaibfurniture.com/collections/coffee-tables/products/coylin-square-cocktail-table?lshst=collection\n",
      "https://www.alrugaibfurniture.com/collections/coffee-tables/products/sociables?lshst=collection\n",
      "https://www.alrugaibfurniture.com/collections/coffee-tables/products/stainless-steel-glass-coffee-table-silver-kd?lshst=collection\n",
      "https://www.alrugaibfurniture.com/collections/coffee-tables/products/coralayne-silver-finish-oval-cocktail-table?lshst=collection\n",
      "https://www.alrugaibfurniture.com/collections/coffee-tables/products/wesling-rectangular-coctail-table?lshst=collection\n",
      "https://www.alrugaibfurniture.com/collections/coffee-tables/products/kisper-cocktail-table?lshst=collection\n",
      "https://www.alrugaibfurniture.com/collections/coffee-tables/products/terzo-white-marble-coffee-table?lshst=collection\n",
      "https://www.alrugaibfurniture.com/collections/coffee-tables/products/johnelle-coffee-table?lshst=collection\n",
      "https://www.alrugaibfurniture.com/collections/coffee-tables/products/henzler-coffee-table?lshst=collection\n",
      "https://www.alrugaibfurniture.com/collections/coffee-tables/products/provenance-round-cocktail-table-linen?lshst=collection\n",
      "https://www.alrugaibfurniture.com/collections/coffee-tables/products/havalance-cocktail-table?lshst=collection\n",
      "https://www.alrugaibfurniture.com/collections/coffee-tables/products/socialite?lshst=collection\n",
      "https://www.alrugaibfurniture.com/collections/coffee-tables/products/richard-marble-cocktail-table?lshst=collection\n",
      "https://www.alrugaibfurniture.com/collections/coffee-tables/products/gemma-black-marble-coffee-table?lshst=collection\n",
      "https://www.alrugaibfurniture.com/collections/coffee-tables/products/tempo-marble-cocktail-table?lshst=collection\n",
      "https://www.alrugaibfurniture.com/collections/coffee-tables/products/haroflyn-square-cocktail-table?lshst=collection\n",
      "https://www.alrugaibfurniture.com/collections/coffee-tables/products/volker-coffee-table?lshst=collection\n",
      "https://www.alrugaibfurniture.com/collections/coffee-tables/products/cocktail-couture?lshst=collection\n",
      "https://www.alrugaibfurniture.com/collections/coffee-tables/products/gately-lift-top-cocktail-table?lshst=collection\n",
      "https://www.alrugaibfurniture.com/collections/coffee-tables/products/taja-coffee-table?lshst=collection\n",
      "https://www.alrugaibfurniture.com/collections/coffee-tables/products/catali-coffee-table?lshst=collection\n",
      "https://www.alrugaibfurniture.com/collections/coffee-tables/products/borlofield-ottoman-cocktail-table?lshst=collection\n"
     ]
    }
   ],
   "source": [
    "for pro in products:\n",
    "    print(pro.get_attribute('href'))"
   ]
  },
  {
   "cell_type": "code",
   "execution_count": null,
   "id": "cb952115",
   "metadata": {},
   "outputs": [],
   "source": []
  },
  {
   "cell_type": "code",
   "execution_count": 17,
   "id": "e61fef2c",
   "metadata": {},
   "outputs": [
    {
     "data": {
      "text/plain": [
       "['https://www.alrugaibfurniture.com/collections/coffee-tables/products/realyn-oval-cocktail-table?lshst=collection',\n",
       " 'https://www.alrugaibfurniture.com/collections/coffee-tables/products/watson-rectangular-cocktail-table?lshst=collection',\n",
       " 'https://www.alrugaibfurniture.com/collections/coffee-tables/products/coylin-square-cocktail-table?lshst=collection',\n",
       " 'https://www.alrugaibfurniture.com/collections/coffee-tables/products/sociables?lshst=collection',\n",
       " 'https://www.alrugaibfurniture.com/collections/coffee-tables/products/stainless-steel-glass-coffee-table-silver-kd?lshst=collection',\n",
       " 'https://www.alrugaibfurniture.com/collections/coffee-tables/products/coralayne-silver-finish-oval-cocktail-table?lshst=collection',\n",
       " 'https://www.alrugaibfurniture.com/collections/coffee-tables/products/wesling-rectangular-coctail-table?lshst=collection',\n",
       " 'https://www.alrugaibfurniture.com/collections/coffee-tables/products/kisper-cocktail-table?lshst=collection',\n",
       " 'https://www.alrugaibfurniture.com/collections/coffee-tables/products/terzo-white-marble-coffee-table?lshst=collection',\n",
       " 'https://www.alrugaibfurniture.com/collections/coffee-tables/products/johnelle-coffee-table?lshst=collection',\n",
       " 'https://www.alrugaibfurniture.com/collections/coffee-tables/products/henzler-coffee-table?lshst=collection',\n",
       " 'https://www.alrugaibfurniture.com/collections/coffee-tables/products/provenance-round-cocktail-table-linen?lshst=collection',\n",
       " 'https://www.alrugaibfurniture.com/collections/coffee-tables/products/havalance-cocktail-table?lshst=collection',\n",
       " 'https://www.alrugaibfurniture.com/collections/coffee-tables/products/socialite?lshst=collection',\n",
       " 'https://www.alrugaibfurniture.com/collections/coffee-tables/products/richard-marble-cocktail-table?lshst=collection',\n",
       " 'https://www.alrugaibfurniture.com/collections/coffee-tables/products/gemma-black-marble-coffee-table?lshst=collection',\n",
       " 'https://www.alrugaibfurniture.com/collections/coffee-tables/products/tempo-marble-cocktail-table?lshst=collection',\n",
       " 'https://www.alrugaibfurniture.com/collections/coffee-tables/products/haroflyn-square-cocktail-table?lshst=collection',\n",
       " 'https://www.alrugaibfurniture.com/collections/coffee-tables/products/volker-coffee-table?lshst=collection',\n",
       " 'https://www.alrugaibfurniture.com/collections/coffee-tables/products/cocktail-couture?lshst=collection',\n",
       " 'https://www.alrugaibfurniture.com/collections/coffee-tables/products/gately-lift-top-cocktail-table?lshst=collection',\n",
       " 'https://www.alrugaibfurniture.com/collections/coffee-tables/products/taja-coffee-table?lshst=collection',\n",
       " 'https://www.alrugaibfurniture.com/collections/coffee-tables/products/catali-coffee-table?lshst=collection',\n",
       " 'https://www.alrugaibfurniture.com/collections/coffee-tables/products/borlofield-ottoman-cocktail-table?lshst=collection']"
      ]
     },
     "execution_count": 17,
     "metadata": {},
     "output_type": "execute_result"
    }
   ],
   "source": [
    "[pro.get_attribute('href') for pro in products ]"
   ]
  },
  {
   "cell_type": "code",
   "execution_count": null,
   "id": "74c74565",
   "metadata": {},
   "outputs": [],
   "source": []
  },
  {
   "cell_type": "code",
   "execution_count": null,
   "id": "05a69b61",
   "metadata": {},
   "outputs": [],
   "source": []
  },
  {
   "cell_type": "code",
   "execution_count": null,
   "id": "f607b0b1",
   "metadata": {},
   "outputs": [],
   "source": []
  },
  {
   "cell_type": "code",
   "execution_count": 13,
   "id": "f8c17279",
   "metadata": {},
   "outputs": [],
   "source": [
    "products[0].get_attribute('href')\n"
   ]
  },
  {
   "cell_type": "code",
   "execution_count": null,
   "id": "88135bcb",
   "metadata": {},
   "outputs": [],
   "source": []
  },
  {
   "cell_type": "code",
   "execution_count": null,
   "id": "fee5acab",
   "metadata": {},
   "outputs": [],
   "source": []
  },
  {
   "cell_type": "code",
   "execution_count": null,
   "id": "c578d937",
   "metadata": {},
   "outputs": [],
   "source": []
  },
  {
   "cell_type": "code",
   "execution_count": null,
   "id": "f397bf97",
   "metadata": {},
   "outputs": [],
   "source": []
  },
  {
   "cell_type": "code",
   "execution_count": null,
   "id": "f917293f",
   "metadata": {},
   "outputs": [],
   "source": []
  },
  {
   "cell_type": "code",
   "execution_count": null,
   "id": "916ac2f2",
   "metadata": {},
   "outputs": [],
   "source": []
  },
  {
   "cell_type": "code",
   "execution_count": null,
   "id": "7f7049a1",
   "metadata": {},
   "outputs": [],
   "source": []
  },
  {
   "cell_type": "code",
   "execution_count": null,
   "id": "49745982",
   "metadata": {},
   "outputs": [],
   "source": []
  },
  {
   "cell_type": "code",
   "execution_count": null,
   "id": "49f4372a",
   "metadata": {},
   "outputs": [],
   "source": []
  },
  {
   "cell_type": "code",
   "execution_count": null,
   "id": "e9eb60dd",
   "metadata": {},
   "outputs": [],
   "source": []
  }
 ],
 "metadata": {
  "kernelspec": {
   "display_name": "Python 3",
   "language": "python",
   "name": "python3"
  },
  "language_info": {
   "codemirror_mode": {
    "name": "ipython",
    "version": 3
   },
   "file_extension": ".py",
   "mimetype": "text/x-python",
   "name": "python",
   "nbconvert_exporter": "python",
   "pygments_lexer": "ipython3",
   "version": "3.8.8"
  },
  "toc": {
   "base_numbering": 1,
   "nav_menu": {},
   "number_sections": true,
   "sideBar": true,
   "skip_h1_title": false,
   "title_cell": "Table of Contents",
   "title_sidebar": "Contents",
   "toc_cell": false,
   "toc_position": {
    "height": "calc(100% - 180px)",
    "left": "10px",
    "top": "150px",
    "width": "352px"
   },
   "toc_section_display": true,
   "toc_window_display": false
  }
 },
 "nbformat": 4,
 "nbformat_minor": 5
}
