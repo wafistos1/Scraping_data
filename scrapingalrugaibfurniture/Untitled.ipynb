{
 "cells": [
  {
   "cell_type": "code",
   "execution_count": 1,
   "id": "b36ce488",
   "metadata": {},
   "outputs": [],
   "source": [
    "#imports here\n",
    "from selenium import webdriver\n",
    "from selenium.webdriver.common.keys import Keys\n",
    "from selenium.webdriver.support import expected_conditions as EC\n",
    "from selenium.webdriver.common.by import By\n",
    "from selenium.webdriver.support.wait import WebDriverWait\n",
    "from selenium.webdriver.firefox.options import Options\n",
    "import time\n",
    "import os\n",
    "from fake_useragent import UserAgent\n",
    "from random import randint\n",
    "import pandas as pd\n",
    "import re\n",
    "from datetime import datetime\n",
    "from datetime import timedelta"
   ]
  },
  {
   "cell_type": "code",
   "execution_count": 2,
   "id": "cc0fcd37",
   "metadata": {},
   "outputs": [],
   "source": []
  },
  {
   "cell_type": "code",
   "execution_count": 6,
   "id": "9076804a",
   "metadata": {},
   "outputs": [],
   "source": [
    "df = pd.DataFrame({'sku': [1],\n",
    "                   'is_in_stock': [1],\n",
    "                    'name': [1],\n",
    "                   'price': [1], \n",
    "                   \"special_price\":[1],\n",
    "                   'short_description': [1],\n",
    "#                    'Model': list_input_model, \n",
    "                   'free_colors': [1], \n",
    "                   'Width': [1],\n",
    "                   'Height': [1],\n",
    "                   'Length': [1],\n",
    "                   'collection': [1],\n",
    "                   'Images1': [1],\n",
    "                   'url_key': [1],\n",
    "                   'visibility':[1],\n",
    "                       'tax_class_name':[1],\n",
    "                       'manufacturer': [1],\n",
    "#                     'raw_materials': list_input_mater,\n",
    "                   'news_from_date': [1],\n",
    "                   'news_to_date': [1],\n",
    "                   'Images2': [1],\n",
    "                   'link_url': [1],\n",
    "                   'categories1': [1],\n",
    "                   'categories2': [1],\n",
    "                   'categories3': [1],\n",
    "#                    'Images3': list_input_images3,\n",
    "#                    'Images4': list_input_images4,\n",
    "\n",
    "                  })\n",
    "df.to_excel('accssoires.xlsx')"
   ]
  },
  {
   "cell_type": "code",
   "execution_count": 2,
   "id": "f74e829c",
   "metadata": {},
   "outputs": [],
   "source": [
    "toto = ['tata', 'titi', 'tutu']"
   ]
  },
  {
   "cell_type": "code",
   "execution_count": null,
   "id": "36943e85",
   "metadata": {},
   "outputs": [],
   "source": []
  },
  {
   "cell_type": "code",
   "execution_count": 3,
   "id": "c2fce751",
   "metadata": {},
   "outputs": [],
   "source": [
    "titi = {\n",
    "    'liste': toto,\n",
    "}"
   ]
  },
  {
   "cell_type": "code",
   "execution_count": 5,
   "id": "4e56d9f6",
   "metadata": {},
   "outputs": [],
   "source": [
    "data_list_link = pd.DataFrame(titi)"
   ]
  },
  {
   "cell_type": "code",
   "execution_count": 6,
   "id": "4b464687",
   "metadata": {},
   "outputs": [
    {
     "data": {
      "text/html": [
       "<div>\n",
       "<style scoped>\n",
       "    .dataframe tbody tr th:only-of-type {\n",
       "        vertical-align: middle;\n",
       "    }\n",
       "\n",
       "    .dataframe tbody tr th {\n",
       "        vertical-align: top;\n",
       "    }\n",
       "\n",
       "    .dataframe thead th {\n",
       "        text-align: right;\n",
       "    }\n",
       "</style>\n",
       "<table border=\"1\" class=\"dataframe\">\n",
       "  <thead>\n",
       "    <tr style=\"text-align: right;\">\n",
       "      <th></th>\n",
       "      <th>liste</th>\n",
       "    </tr>\n",
       "  </thead>\n",
       "  <tbody>\n",
       "    <tr>\n",
       "      <th>0</th>\n",
       "      <td>tata</td>\n",
       "    </tr>\n",
       "    <tr>\n",
       "      <th>1</th>\n",
       "      <td>titi</td>\n",
       "    </tr>\n",
       "    <tr>\n",
       "      <th>2</th>\n",
       "      <td>tutu</td>\n",
       "    </tr>\n",
       "  </tbody>\n",
       "</table>\n",
       "</div>"
      ],
      "text/plain": [
       "  liste\n",
       "0  tata\n",
       "1  titi\n",
       "2  tutu"
      ]
     },
     "execution_count": 6,
     "metadata": {},
     "output_type": "execute_result"
    }
   ],
   "source": [
    "data_list_link"
   ]
  },
  {
   "cell_type": "code",
   "execution_count": 8,
   "id": "c02c9cce",
   "metadata": {},
   "outputs": [],
   "source": [
    "data_list_link.to_excel('data_list_link.xlsx')"
   ]
  },
  {
   "cell_type": "code",
   "execution_count": 2,
   "id": "72331684",
   "metadata": {},
   "outputs": [
    {
     "name": "stdout",
     "output_type": "stream",
     "text": [
      "Mozilla/5.0 (Windows NT 6.2; WOW64) AppleWebKit/537.36 (KHTML, like Gecko) Chrome/27.0.1500.55 Safari/537.36\n"
     ]
    },
    {
     "name": "stderr",
     "output_type": "stream",
     "text": [
      "<ipython-input-2-5315509cced7>:7: DeprecationWarning: use options instead of firefox_options\n",
      "  driver = webdriver.Firefox(firefox_options=options)\n"
     ]
    }
   ],
   "source": [
    "options = Options()\n",
    "ua = UserAgent()\n",
    "userAgent = ua.random\n",
    "print(userAgent)\n",
    "options.add_argument(f'user-agent={userAgent}')\n",
    "#options.add_argument(\"--headless\")\n",
    "driver = webdriver.Firefox(firefox_options=options)\n",
    "#     driver = webdriver.Firefox()"
   ]
  },
  {
   "cell_type": "code",
   "execution_count": 3,
   "id": "a37512f5",
   "metadata": {},
   "outputs": [
    {
     "name": "stdout",
     "output_type": "stream",
     "text": [
      "9981\n"
     ]
    }
   ],
   "source": [
    "links_products = []\n",
    "def return_details(value, list_dic):\n",
    "        val = ''\n",
    "        for i in list_dic:\n",
    "            if value in i:\n",
    "                val = i.replace(value, '')\n",
    "        return val\n",
    "for i in range(1, 419):\n",
    "    driver.get(f'https://www.alrugaibfurniture.com/ar/collections/all?page={i}')\n",
    "    \n",
    "    products = driver.find_elements_by_class_name('product-item__image-wrapper')\n",
    "    \n",
    "    \n",
    "    #Forloop to get all url products\n",
    "    for product in products:\n",
    "\n",
    "        links_products.append(product.get_attribute('href'))\n",
    "        time.sleep(1)\n",
    "    time.sleep(1)\n",
    "print(len(links_products))\n",
    "now = datetime.now()\n",
    "dt_string = now.strftime(\"%d-%m-%Y-%H-%M-%S\")\n",
    "#Save link in excel files\n",
    "link_living_rooms = {\n",
    "    'liste': links_products,\n",
    "}\n",
    "\n",
    "liste_link_living_rooms = pd.DataFrame(link_living_rooms)\n",
    "liste_link_living_rooms.to_excel(f'link_all_products-{dt_string}.xlsx')"
   ]
  },
  {
   "cell_type": "code",
   "execution_count": null,
   "id": "3c2f3306",
   "metadata": {},
   "outputs": [],
   "source": []
  },
  {
   "cell_type": "code",
   "execution_count": null,
   "id": "ce5699f5",
   "metadata": {},
   "outputs": [],
   "source": []
  }
 ],
 "metadata": {
  "kernelspec": {
   "display_name": "Python 3",
   "language": "python",
   "name": "python3"
  },
  "language_info": {
   "codemirror_mode": {
    "name": "ipython",
    "version": 3
   },
   "file_extension": ".py",
   "mimetype": "text/x-python",
   "name": "python",
   "nbconvert_exporter": "python",
   "pygments_lexer": "ipython3",
   "version": "3.8.8"
  },
  "toc": {
   "base_numbering": 1,
   "nav_menu": {},
   "number_sections": true,
   "sideBar": true,
   "skip_h1_title": false,
   "title_cell": "Table of Contents",
   "title_sidebar": "Contents",
   "toc_cell": false,
   "toc_position": {},
   "toc_section_display": true,
   "toc_window_display": false
  }
 },
 "nbformat": 4,
 "nbformat_minor": 5
}
