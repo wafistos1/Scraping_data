{
 "cells": [
  {
   "cell_type": "code",
   "execution_count": 1,
   "id": "9768d799",
   "metadata": {},
   "outputs": [],
   "source": [
    "#imports here\n",
    "from selenium import webdriver\n",
    "from selenium.webdriver.common.keys import Keys\n",
    "from selenium.webdriver.support import expected_conditions as EC\n",
    "from selenium.webdriver.common.by import By\n",
    "from selenium.webdriver.support.wait import WebDriverWait\n",
    "from selenium.webdriver.firefox.options import Options\n",
    "import time\n",
    "import os\n",
    "from fake_useragent import UserAgent\n",
    "from random import randint\n",
    "import pandas as pd\n",
    "import re\n",
    "import numpy as np\n",
    "from bs4 import BeautifulSoup\n",
    "from selenium.webdriver.support import expected_conditions as EC\n",
    "from selenium.webdriver.common.by import By\n",
    "from selenium.webdriver.support.ui import WebDriverWait\n",
    "from datetime import datetime\n",
    "from datetime import timedelta  \n",
    "import pyautogui\n",
    "import ast"
   ]
  },
  {
   "cell_type": "code",
   "execution_count": 2,
   "id": "2bc6ba5c",
   "metadata": {},
   "outputs": [
    {
     "data": {
      "text/plain": [
       "datetime.date(2021, 8, 26)"
      ]
     },
     "execution_count": 2,
     "metadata": {},
     "output_type": "execute_result"
    }
   ],
   "source": [
    "curr_date = pd.to_datetime('today').date()\n",
    "curr_date"
   ]
  },
  {
   "cell_type": "code",
   "execution_count": 19,
   "id": "5317e258",
   "metadata": {},
   "outputs": [
    {
     "data": {
      "text/plain": [
       "'09/23/2021'"
      ]
     },
     "execution_count": 19,
     "metadata": {},
     "output_type": "execute_result"
    }
   ],
   "source": [
    "two_month = datetime.now() + timedelta(days=60)\n",
    "two_month = two_month.strftime(\"%m/%d/%Y\")\n",
    "today = datetime.today().strftime(\"%m/%d/%Y\")\n",
    "two_month"
   ]
  },
  {
   "cell_type": "code",
   "execution_count": 27,
   "id": "4970a169",
   "metadata": {},
   "outputs": [],
   "source": [
    "df = pd.read_excel('/home/wafistos/Documents/Projects/scaping_wafi/tavolashop/tavolashop-update_oman.xlsx')"
   ]
  },
  {
   "cell_type": "code",
   "execution_count": 24,
   "id": "1c8f9a10",
   "metadata": {},
   "outputs": [],
   "source": [
    "test = pd.read_excel('/home/wafistos/Downloads/Tavola magento.xlsx')"
   ]
  },
  {
   "cell_type": "code",
   "execution_count": 8,
   "id": "64d7e852",
   "metadata": {},
   "outputs": [
    {
     "data": {
      "text/plain": [
       "Index(['SKU'], dtype='object')"
      ]
     },
     "execution_count": 8,
     "metadata": {},
     "output_type": "execute_result"
    }
   ],
   "source": [
    "test.columns"
   ]
  },
  {
   "cell_type": "code",
   "execution_count": 9,
   "id": "ad4fa27e",
   "metadata": {},
   "outputs": [],
   "source": [
    "list_sku = test['SKU'].to_list()"
   ]
  },
  {
   "cell_type": "code",
   "execution_count": 14,
   "id": "f7bbcbfd",
   "metadata": {},
   "outputs": [
    {
     "data": {
      "text/plain": [
       "['TAV-KV-3150005A',\n",
       " 'TAV-JPT-862360',\n",
       " 'TAV-JPT-862750',\n",
       " 'TAV-KV-3150003A',\n",
       " 'TAV-JJ-20105',\n",
       " 'TAV-WT-2113-1276',\n",
       " 'TAV-WT-415-1414',\n",
       " 'TAV-WT-415-1110',\n",
       " 'TAV-WT-415-1325',\n",
       " 'TAV-WT-415-2505',\n",
       " 'TAV-KE-0025-460V',\n",
       " 'TAV-SN-KT1162',\n",
       " 'TAV-WT-2105-5450',\n",
       " 'TAV-KR-769325',\n",
       " 'TAV-WT-2305-128',\n",
       " 'TAV-WT-2103-310',\n",
       " 'TAV-JJ-10151',\n",
       " 'TAV-MH-RS-1',\n",
       " 'TAV-KC-KCMINIWHISK',\n",
       " 'TAV-JJ-10105',\n",
       " 'TAV-WT-2103-355',\n",
       " 'TAV-WT-2103-434',\n",
       " 'TAV-LE-0201645R14',\n",
       " 'TAV-JJ-20108',\n",
       " 'TAV-JJ-10110',\n",
       " 'TAV-KC-MCSILGLOVE',\n",
       " 'TAV-WT-1904-552',\n",
       " 'TAV-WT-1904-1166',\n",
       " 'TAV-WT-1912-9469',\n",
       " 'TAV-JJ-20039',\n",
       " 'TAV-WT-2304-1055',\n",
       " 'TAV-ZS-910015',\n",
       " 'TAV-JJ-20073',\n",
       " 'TAV-JJ-10169',\n",
       " 'TAV-WM-18-7357-6030',\n",
       " 'TAV-GF-21820',\n",
       " 'TAV-JJ-10162',\n",
       " 'TAV-ZS-980004',\n",
       " 'TAV-GF-12330',\n",
       " 'TAV-WM-06-0868-6030',\n",
       " 'TAV-ZG-40990-005',\n",
       " 'TAV-WT-2105-0365',\n",
       " 'TAV-WT-2105-0911',\n",
       " 'TAV-WT-2105-9961',\n",
       " 'TAV-WT-2105-5748',\n",
       " 'TAV-WT-307-0838',\n",
       " 'TAV-NE-80348',\n",
       " 'TAV-CB-CMET26701',\n",
       " 'TAV-ZG-38738-000',\n",
       " 'TAV-ZG-34931-009',\n",
       " 'TAV-MY-34536-007',\n",
       " 'TAV-BD-11653-18',\n",
       " 'TAV-HO-CM-502C',\n",
       " 'TAV-WM-12-9160-6040',\n",
       " 'TAV-WM-11-7700-6041',\n",
       " 'TAV-WM-11-0191-6030',\n",
       " 'TAV-WM-12-9137-6040',\n",
       " 'TAV-WM-12-9146-6040',\n",
       " 'TAV-WM-12-9159-6040',\n",
       " 'TAV-WM-12-9140-6046',\n",
       " 'TAV-PG-25434',\n",
       " 'TAV-CH-100455-001',\n",
       " 'TAV-CH-100142-003',\n",
       " 'TAV-CH-100137-002',\n",
       " 'TAV-CH-100142-002',\n",
       " 'TAV-CH-100148-001',\n",
       " 'TAV-WM-12-9735-6040',\n",
       " 'TAV-IV-5548-3',\n",
       " 'TAV-AS-1942-013',\n",
       " 'TAV-WT-307-250',\n",
       " 'TAV-WT-1512-136',\n",
       " 'TAV-WT-307-0837',\n",
       " 'TAV-WT-307-856',\n",
       " 'TAV-WT-307-2502',\n",
       " 'TAV-ZG-40110-014',\n",
       " 'TAV-WT-2115-0030',\n",
       " 'TAV-WT-1912-2350',\n",
       " 'TAV-WT-2115-0229',\n",
       " 'TAV-SK-2532187-0065',\n",
       " 'TAV-INP-113-0008-01',\n",
       " 'TAV-INP-112-0029-01',\n",
       " 'TAV-INP-113-0007-01',\n",
       " 'TAV-INP-112-0027-01',\n",
       " 'TAV-AS-1930-013',\n",
       " 'TAV-AS-1912-013',\n",
       " 'TAV-BD-4554-10',\n",
       " 'TAV-KC-ARTMINIJUGPK2',\n",
       " 'TAV-KV-3150004A',\n",
       " 'TAV-WM-12-9174-6046',\n",
       " 'TAV-WM-18-7138-6030',\n",
       " 'TAV-ZG-33415-000',\n",
       " 'TAV-ZS-950019',\n",
       " 'TAV-WT-2104-1188',\n",
       " 'TAV-NE-01920',\n",
       " 'TAV-WT-409-2548',\n",
       " 'TAV-WT-415-9668',\n",
       " 'TAV-KR-659695',\n",
       " 'TAV-WM-07-8524-6380',\n",
       " 'TAV-SB-1980-00-01',\n",
       " 'TAV-LE-0850200R01C150',\n",
       " 'TAV-JJ-85158',\n",
       " 'TAV-JJ-81081',\n",
       " 'TAV-JJ-20120',\n",
       " 'TAV-JJ-20112',\n",
       " 'TAV-JJ-10118',\n",
       " 'TAV-WT-02-0-0001',\n",
       " 'TAV-WT-1907-1019',\n",
       " 'TAV-WT-1907-1349',\n",
       " 'TAV-WT-1907-1363',\n",
       " 'TAV-WT-2104-0236',\n",
       " 'TAV-WT-2105-182',\n",
       " 'TAV-WT-2105-2044',\n",
       " 'TAV-WT-2105-3281',\n",
       " 'TAV-WT-2105-6746',\n",
       " 'TAV-WT-2105-7790',\n",
       " 'TAV-WT-2115-8515',\n",
       " 'TAV-WT-409-2563',\n",
       " 'TAV-WT-415-0906',\n",
       " 'TAV-WT-417-7555',\n",
       " 'TAV-JJ-85053',\n",
       " 'TAV-JJ-85146',\n",
       " 'TAV-JJ-85145',\n",
       " 'TAV-JJ-10048',\n",
       " 'TAV-DA-0255052',\n",
       " 'TAV-WT-409-2556',\n",
       " 'TAV-KC-KCHMBBASKBAG',\n",
       " 'TAV-LE-0301020R06U150',\n",
       " 'TAV-WM-06-8622-9440',\n",
       " 'TAV-WT-2105-2185',\n",
       " 'TAV-WT-2105-8213',\n",
       " 'TAV-WT-2105-953',\n",
       " 'TAV-AR-AM-1-BM',\n",
       " 'TAV-AR-CA-2-TIN',\n",
       " 'TAV-AS-25421-250',\n",
       " 'TAV-AS-25502-250',\n",
       " 'TAV-AS-27141-118',\n",
       " 'TAV-AS-27161-107',\n",
       " 'TAV-AS-27161-118',\n",
       " 'TAV-AS-27231-118',\n",
       " 'TAV-AS-4196-147',\n",
       " 'TAV-AS-4700-147',\n",
       " 'TAV-AS-93301-970',\n",
       " 'TAV-BAM-GR-LB-LO15',\n",
       " 'TAV-BD-10325-10',\n",
       " 'TAV-BD-10326-10',\n",
       " 'TAV-BD-10602/10',\n",
       " 'TAV-BD-10604-10A',\n",
       " 'TAV-BD-10685-01',\n",
       " 'TAV-BD-11195-16',\n",
       " 'TAV-BD-11571-109',\n",
       " 'TAV-BD-11592-109',\n",
       " 'TAV-BD-11848-10SA',\n",
       " 'TAV-BD-11849-10SA',\n",
       " 'TAV-BD-1801-16',\n",
       " 'TAV-BD-1807-16',\n",
       " 'TAV-BD-1812-01',\n",
       " 'TAV-BD-1903-01',\n",
       " 'TAV-BD-1903-01B',\n",
       " 'TAV-BD-1908-913',\n",
       " 'TAV-BD-1923-16',\n",
       " 'TAV-BD-1928-16',\n",
       " 'TAV-BD-4557-10A',\n",
       " 'TAV-BD-4558-10',\n",
       " 'TAV-BD-4559-10A',\n",
       " 'TAV-BD-A11103-XYB-Y18',\n",
       " 'TAV-BD-K11102-01',\n",
       " 'TAV-BE-0001682-NW',\n",
       " 'TAV-BE-0001685-NW',\n",
       " 'TAV-BE-0003418EXPMR',\n",
       " 'TAV-BE-0800013',\n",
       " 'TAV-BE-0800014',\n",
       " 'TAV-BE-1162',\n",
       " 'TAV-BN-190566',\n",
       " 'TAV-BN-191440',\n",
       " 'TAV-BN-191488',\n",
       " 'TAV-BN-194854',\n",
       " 'TAV-BN-195868',\n",
       " 'TAV-BN-198067',\n",
       " 'TAV-BX-101-284',\n",
       " 'TAV-BX-430-001',\n",
       " 'TAV-CH-0201-TXSAB',\n",
       " 'TAV-CH-100142-001',\n",
       " 'TAV-CH-100488-001',\n",
       " 'TAV-CH-100494-002',\n",
       " 'TAV-CI-13830C',\n",
       " 'TAV-CW-2000',\n",
       " 'TAV-CW-2000LCAP-T',\n",
       " 'TAV-CW-2016EC',\n",
       " 'TAV-CW-2016ERM',\n",
       " 'TAV-CW-2100STRAW-EG',\n",
       " 'TAV-DA-0060210',\n",
       " 'TAV-DA-0062670',\n",
       " 'TAV-DA-0932562',\n",
       " 'TAV-DN-CA-E-BLO-BLUE',\n",
       " 'TAV-FI-220026',\n",
       " 'TAV-FI-40-WC017',\n",
       " 'TAV-FI-LCP517N2',\n",
       " 'TAV-FT-IPHA-4',\n",
       " 'TAV-FT-IPRD-53',\n",
       " 'TAV-FT-IPRD-73',\n",
       " 'TAV-FT-ISSRD-3030',\n",
       " 'TAV-GB-GSF-4023',\n",
       " 'TAV-GF-12660',\n",
       " 'TAV-GF-13422',\n",
       " 'TAV-GF-21870',\n",
       " 'TAV-HF-BBS618',\n",
       " 'TAV-HF-W20BTS001',\n",
       " 'TAV-HF-W20BTS340',\n",
       " 'TAV-HF-W20BTS415',\n",
       " 'TAV-HO-SGS-80',\n",
       " 'TAV-JJ-10108',\n",
       " 'TAV-JJ-10527',\n",
       " 'TAV-JJ-10531',\n",
       " 'TAV-JJ-10536',\n",
       " 'TAV-JJ-20017',\n",
       " 'TAV-JJ-60154',\n",
       " 'TAV-JJ-81097',\n",
       " 'TAV-JJ-85042',\n",
       " 'TAV-JJ-85052',\n",
       " 'TAV-JJ-85056',\n",
       " 'TAV-JJ-85120',\n",
       " 'TAV-JJ-85127',\n",
       " 'TAV-JJ-85139',\n",
       " 'TAV-JJ-85155',\n",
       " 'TAV-JJ-85156',\n",
       " 'TAV-JJ-85157',\n",
       " 'TAV-JJ-UNITG-0100',\n",
       " 'TAV-KC-ARTPLATTER',\n",
       " 'TAV-KC-KCBOWLSET',\n",
       " 'TAV-KD-CBSHOPE',\n",
       " 'TAV-KE-0025-007V',\n",
       " 'TAV-KE-0025-490V',\n",
       " 'TAV-KE-0025-495V',\n",
       " 'TAV-KE-0025-734V',\n",
       " 'TAV-KE-0025-741V',\n",
       " 'TAV-KE-0025-742V',\n",
       " 'TAV-KE-0025-745V',\n",
       " 'TAV-KI-299601',\n",
       " 'TAV-KR-646206',\n",
       " 'TAV-KR-659541',\n",
       " 'TAV-KR-659558',\n",
       " 'TAV-KR-659664',\n",
       " 'TAV-KV-3150001A',\n",
       " 'TAV-LE-0231340B04',\n",
       " 'TAV-LE-0620609N01',\n",
       " 'TAV-LE-0620811N01',\n",
       " 'TAV-LE-0621118N01',\n",
       " 'TAV-LE-0621806N01',\n",
       " 'TAV-MAR-AT-150-CLS',\n",
       " 'TAV-MAR-TP-NEU',\n",
       " 'TAV-MCS-KCMCCB33',\n",
       " 'TAV-NE-88377',\n",
       " 'TAV-NE-91777',\n",
       " 'TAV-OX-UT-BLUE',\n",
       " 'TAV-OX-UT-MEADOW',\n",
       " 'TAV-OX-UT-PURPLE',\n",
       " 'TAV-OX-UT-SUN',\n",
       " 'TAV-PE-CBS864',\n",
       " 'TAV-PE-CCS838',\n",
       " 'TAV-PE-FC1032',\n",
       " 'TAV-PE-FS009',\n",
       " 'TAV-PE-FW126',\n",
       " 'TAV-PG-27803',\n",
       " 'TAV-PG-27810',\n",
       " 'TAV-PG-34924',\n",
       " 'TAV-PL-1290594',\n",
       " 'TAV-SK-2036987-0065',\n",
       " 'TAV-SK-2037413-0065',\n",
       " 'TAV-SK-2042600-0065',\n",
       " 'TAV-SK-2214877-0065',\n",
       " 'TAV-SK-2234187-0065',\n",
       " 'TAV-SK-2235087-0065',\n",
       " 'TAV-SK-2530413-0065',\n",
       " 'TAV-SK-2629013-0065',\n",
       " 'TAV-SK-2820287-0065',\n",
       " 'TAV-SK-9940099-0002',\n",
       " 'TAV-SK-9940199-0002',\n",
       " 'TAV-SK-SCG19',\n",
       " 'TAV-SN-BT1098',\n",
       " 'TAV-SN-CW0166',\n",
       " 'TAV-SN-CW0168',\n",
       " 'TAV-SN-CW0173',\n",
       " 'TAV-SN-CW1834',\n",
       " 'TAV-SW-32001203',\n",
       " 'TAV-TM-1034-LLT',\n",
       " 'TAV-TM-1035-LLT',\n",
       " 'TAV-TM-1256-RGLLT',\n",
       " 'TAV-TM-4048-PKLLT',\n",
       " 'TAV-TM-6796-LLT',\n",
       " 'TAV-TM-72031-MG',\n",
       " 'TAV-WA-T-144',\n",
       " 'TAV-WA-T-146',\n",
       " 'TAV-WA-T-641',\n",
       " 'TAV-WA-T-644',\n",
       " 'TAV-WA-T-647',\n",
       " 'TAV-WA-T-667',\n",
       " 'TAV-WM-06-1770-6040',\n",
       " 'TAV-WM-06-1915-6030',\n",
       " 'TAV-WM-06-6163-6040',\n",
       " 'TAV-WM-06-9066-6040',\n",
       " 'TAV-WM-07-9038-6991',\n",
       " 'TAV-WM-12-8600-6040',\n",
       " 'TAV-WM-18-7101-6030',\n",
       " 'TAV-WM-18-7108-6030',\n",
       " 'TAV-WM-60-9613-9510',\n",
       " 'TAV-WMC-04-1409-0011',\n",
       " 'TAV-WT-04-0-0031',\n",
       " 'TAV-WT-04-0-0032',\n",
       " 'TAV-WT-04-0-0033',\n",
       " 'TAV-WT-04-0-0034',\n",
       " 'TAV-WT-04-0-0035',\n",
       " 'TAV-WT-04-0-0036',\n",
       " 'TAV-WT-04-0-0037',\n",
       " 'TAV-WT-04-0-0043',\n",
       " 'TAV-WT-04-0-0044',\n",
       " 'TAV-WT-04-0-0045',\n",
       " 'TAV-WT-04-0-0047',\n",
       " 'TAV-WT-1904-1019',\n",
       " 'TAV-WT-2104-1167',\n",
       " 'TAV-WT-2104-1187',\n",
       " 'TAV-WT-2104-1190',\n",
       " 'TAV-WT-2104-552',\n",
       " 'TAV-WT-2105-1832',\n",
       " 'TAV-WT-2105-2079',\n",
       " 'TAV-WT-2105-2132',\n",
       " 'TAV-WT-2105-2215',\n",
       " 'TAV-WT-2105-405',\n",
       " 'TAV-WT-2105-406',\n",
       " 'TAV-WT-2105-601',\n",
       " 'TAV-WT-2105-6103',\n",
       " 'TAV-WT-2116-2116',\n",
       " 'TAV-WT-2811-8421',\n",
       " 'TAV-WT-2811-858',\n",
       " 'TAV-WT-2811-8946',\n",
       " 'TAV-WT-409-7715',\n",
       " 'TAV-WT-415-0725',\n",
       " 'TAV-WT-415-0966',\n",
       " 'TAV-WT-570-6012',\n",
       " 'TAV-YE-1348242',\n",
       " 'TAV-YE-1519670E',\n",
       " 'TAV-YE-1577823E',\n",
       " 'TAV-YE-1577826E',\n",
       " 'TAV-YE-1578735E',\n",
       " 'TAV-YE-1578736E',\n",
       " 'TAV-YI-6775',\n",
       " 'TAV-YI-6776',\n",
       " 'TAV-ZG-35001-008',\n",
       " 'TAV-ZG-37160-012',\n",
       " 'TAV-ZG-38437-000',\n",
       " 'TAV-ZG-38634-000',\n",
       " 'TAV-ZG-42436-000',\n",
       " 'TAV-ZG-42452-000',\n",
       " 'TAV-ZG-47355-091',\n",
       " 'TAV-ZG-89004-000',\n",
       " 'TAV-ZJ-TC-02-WH',\n",
       " 'TAV-ZK-118-BK',\n",
       " 'TAV-ZK-312-BL',\n",
       " 'TAV-ZK-312-PK',\n",
       " 'TAV-ZOL-KO001',\n",
       " 'TAV-ZS-900011']"
      ]
     },
     "execution_count": 14,
     "metadata": {},
     "output_type": "execute_result"
    }
   ],
   "source": [
    "list_sku"
   ]
  },
  {
   "cell_type": "code",
   "execution_count": 13,
   "id": "a3aab066",
   "metadata": {},
   "outputs": [],
   "source": [
    "\n",
    "    df.loc[df['sku'] == tt]"
   ]
  },
  {
   "cell_type": "code",
   "execution_count": 26,
   "id": "a050f74a",
   "metadata": {},
   "outputs": [],
   "source": [
    "df2 = df.loc[df['sku'].isin(list_sku)]       "
   ]
  },
  {
   "cell_type": "code",
   "execution_count": 29,
   "id": "add3b92c",
   "metadata": {},
   "outputs": [],
   "source": [
    " df1 = df.loc[df['sku'].isin(list_sku)]  "
   ]
  },
  {
   "cell_type": "code",
   "execution_count": 31,
   "id": "9060c30d",
   "metadata": {},
   "outputs": [],
   "source": [
    "df_all1.to_excel('Tavola unavailable on magento_SCRAP.xlsx')"
   ]
  },
  {
   "cell_type": "code",
   "execution_count": 32,
   "id": "394b0fad",
   "metadata": {},
   "outputs": [],
   "source": [
    "df_all.to_excel('Tavola magento_SCRAP.xlsx')"
   ]
  },
  {
   "cell_type": "code",
   "execution_count": 33,
   "id": "24368f94",
   "metadata": {},
   "outputs": [],
   "source": [
    "list_magento = df_all['Link_url'].to_list()"
   ]
  },
  {
   "cell_type": "code",
   "execution_count": null,
   "id": "3b132604",
   "metadata": {},
   "outputs": [],
   "source": []
  },
  {
   "cell_type": "code",
   "execution_count": null,
   "id": "f85d1868",
   "metadata": {},
   "outputs": [],
   "source": []
  },
  {
   "cell_type": "code",
   "execution_count": 10,
   "id": "9da75cdf",
   "metadata": {},
   "outputs": [],
   "source": [
    "\n",
    "cat1 = df['categories1'].unique().tolist()"
   ]
  },
  {
   "cell_type": "code",
   "execution_count": 11,
   "id": "b867532d",
   "metadata": {},
   "outputs": [],
   "source": [
    "cat2 = df['categories2'].unique().tolist()"
   ]
  },
  {
   "cell_type": "code",
   "execution_count": 12,
   "id": "8eb9aa26",
   "metadata": {},
   "outputs": [],
   "source": [
    "cat3 = df['categories3'].unique().tolist()"
   ]
  },
  {
   "cell_type": "code",
   "execution_count": 17,
   "id": "3e31e437",
   "metadata": {},
   "outputs": [
    {
     "data": {
      "text/plain": [
       "195"
      ]
     },
     "execution_count": 17,
     "metadata": {},
     "output_type": "execute_result"
    }
   ],
   "source": [
    "len(cat1)"
   ]
  },
  {
   "cell_type": "code",
   "execution_count": 14,
   "id": "32942335",
   "metadata": {},
   "outputs": [
    {
     "data": {
      "text/plain": [
       "28"
      ]
     },
     "execution_count": 14,
     "metadata": {},
     "output_type": "execute_result"
    }
   ],
   "source": [
    "len(cat2)"
   ]
  },
  {
   "cell_type": "code",
   "execution_count": 15,
   "id": "0cd86180",
   "metadata": {},
   "outputs": [
    {
     "data": {
      "text/plain": [
       "195"
      ]
     },
     "execution_count": 15,
     "metadata": {},
     "output_type": "execute_result"
    }
   ],
   "source": [
    "len(cat3)"
   ]
  },
  {
   "cell_type": "code",
   "execution_count": 18,
   "id": "389e4ad3",
   "metadata": {},
   "outputs": [],
   "source": [
    "for toto in range(28, 195):\n",
    "    cat2.append('')"
   ]
  },
  {
   "cell_type": "code",
   "execution_count": 19,
   "id": "974f6407",
   "metadata": {},
   "outputs": [],
   "source": [
    "list_cats = {\n",
    "    'cat1': cat1,\n",
    "    'cat2': cat2,\n",
    "    'cat3': cat3,\n",
    "    \n",
    "}\n",
    "\n",
    "lis_ct = pd.DataFrame(list_cats)"
   ]
  },
  {
   "cell_type": "code",
   "execution_count": 21,
   "id": "244d62ea",
   "metadata": {},
   "outputs": [],
   "source": [
    "lis_ct.to_excel('Tavola_categories.xlsx')"
   ]
  },
  {
   "cell_type": "code",
   "execution_count": null,
   "id": "64b387fb",
   "metadata": {},
   "outputs": [],
   "source": []
  },
  {
   "cell_type": "code",
   "execution_count": null,
   "id": "722c4785",
   "metadata": {},
   "outputs": [],
   "source": []
  },
  {
   "cell_type": "code",
   "execution_count": null,
   "id": "17afc53d",
   "metadata": {},
   "outputs": [],
   "source": []
  },
  {
   "cell_type": "code",
   "execution_count": null,
   "id": "6a085723",
   "metadata": {},
   "outputs": [],
   "source": []
  },
  {
   "cell_type": "markdown",
   "id": "d8d8dcc6",
   "metadata": {},
   "source": [
    "# Firefox"
   ]
  },
  {
   "cell_type": "code",
   "execution_count": 15,
   "id": "fce21921",
   "metadata": {},
   "outputs": [
    {
     "name": "stdout",
     "output_type": "stream",
     "text": [
      "Mozilla/5.0 (Windows NT 6.4; WOW64) AppleWebKit/537.36 (KHTML, like Gecko) Chrome/41.0.2225.0 Safari/537.36\n"
     ]
    },
    {
     "name": "stderr",
     "output_type": "stream",
     "text": [
      "<ipython-input-15-ff447d2b114e>:7: DeprecationWarning: use options instead of firefox_options\n",
      "  driver = webdriver.Firefox(firefox_options=options)\n"
     ]
    }
   ],
   "source": [
    "options = Options()\n",
    "ua = UserAgent()\n",
    "userAgent = ua.random\n",
    "print(userAgent)\n",
    "options.add_argument(f'user-agent={userAgent}')\n",
    "#options.add_argument(\"--headless\")\n",
    "driver = webdriver.Firefox(firefox_options=options)\n",
    "#     driver = webdriver.Firefox()\n",
    " "
   ]
  },
  {
   "cell_type": "code",
   "execution_count": 22,
   "id": "82d90f5e",
   "metadata": {},
   "outputs": [],
   "source": [
    "def return_details(value, list_dic):\n",
    "        val = ''\n",
    "        for i in list_dic:\n",
    "            if value in i:\n",
    "                val = i.replace(value, '')\n",
    "        return val"
   ]
  },
  {
   "cell_type": "code",
   "execution_count": 20,
   "id": "b2265104",
   "metadata": {},
   "outputs": [
    {
     "data": {
      "text/plain": [
       "'2'"
      ]
     },
     "execution_count": 20,
     "metadata": {},
     "output_type": "execute_result"
    }
   ],
   "source": [
    "f'{list_product_urls[0][1] }'"
   ]
  },
  {
   "cell_type": "markdown",
   "id": "ac896076",
   "metadata": {},
   "source": [
    "# get url\n",
    "\n"
   ]
  },
  {
   "cell_type": "code",
   "execution_count": 5,
   "id": "7b82c85a",
   "metadata": {},
   "outputs": [
    {
     "name": "stdout",
     "output_type": "stream",
     "text": [
      "i 1 range 2\n",
      "URL https://www.tavolashop.com/sa-ar/kitchen-tools/essential-kitchen-utensils/utensil-sets?p=1\n",
      "Cat1: أدوات المطبخ\n",
      "Cat2: أدوات طبخ أساسية\n",
      "Cat3: أطقم ملاعق طبخ\n",
      "i 1 range 3\n",
      "URL https://www.tavolashop.com/sa-ar/kitchen-tools/essential-kitchen-utensils/spatulas-turners?p=1\n",
      "Cat1: أدوات المطبخ\n",
      "Cat2: أدوات طبخ أساسية\n",
      "Cat3: سباتولات وملاعق تقليب\n",
      "i 2 range 3\n",
      "URL https://www.tavolashop.com/sa-ar/kitchen-tools/essential-kitchen-utensils/spatulas-turners?p=2\n",
      "Cat1: أدوات المطبخ\n",
      "Cat2: أدوات طبخ أساسية\n",
      "Cat3: سباتولات وملاعق تقليب\n",
      "i 1 range 2\n",
      "URL https://www.tavolashop.com/sa-ar/kitchen-tools/essential-kitchen-utensils/spoons-ladles?p=1\n",
      "Cat1: أدوات المطبخ\n",
      "Cat2: أدوات طبخ أساسية\n",
      "Cat3: ملاعق كبيرة ومغارف\n",
      "i 1 range 2\n",
      "URL https://www.tavolashop.com/sa-ar/kitchen-tools/essential-kitchen-utensils/whisks-brushes?p=?p=1\n",
      "Cat1: أدوات المطبخ\n",
      "Cat2: أدوات طبخ أساسية\n",
      "Cat3: مضارب وفراشي\n",
      "i 1 range 2\n",
      "URL https://www.tavolashop.com/sa-ar/kitchen-tools/food-preparation-tools/mandolines-slicers?p=1\n",
      "Cat1: أدوات المطبخ\n",
      "Cat2: أدوات تجهيز الطعام\n",
      "Cat3: قطاعات خضار وفواكه لشرائح\n",
      "i 1 range 2\n",
      "URL https://www.tavolashop.com/sa-ar/kitchen-tools/food-preparation-tools/spiralizers-corers?p=1\n",
      "Cat1: أدوات المطبخ\n",
      "Cat2: أدوات تجهيز الطعام\n",
      "Cat3: قطاعات شرائح حلزونية وحفارات خضار\n",
      "i 1 range 2\n",
      "URL https://www.tavolashop.com/sa-ar/kitchen-tools/food-preparation-tools/graters-zesters?p=1\n",
      "Cat1: أدوات المطبخ\n",
      "Cat2: أدوات تجهيز الطعام\n",
      "Cat3: مباشر جبن وقشر الحامض\n",
      "i 1 range 2\n",
      "URL https://www.tavolashop.com/sa-ar/kitchen-tools/food-preparation-tools/peelers?p=1\n",
      "Cat1: أدوات المطبخ\n",
      "Cat2: أدوات تجهيز الطعام\n",
      "Cat3: قشارات خضار وفواكه\n",
      "i 1 range 3\n",
      "URL https://www.tavolashop.com/sa-ar/kitchen-tools/food-preparation-tools/choppers-presses?p=1\n",
      "Cat1: أدوات المطبخ\n",
      "Cat2: أدوات تجهيز الطعام\n",
      "Cat3: قطاعات وهراسات\n",
      "i 2 range 3\n",
      "URL https://www.tavolashop.com/sa-ar/kitchen-tools/food-preparation-tools/choppers-presses?p=2\n",
      "Cat1: أدوات المطبخ\n",
      "Cat2: أدوات تجهيز الطعام\n",
      "Cat3: قطاعات وهراسات\n",
      "i 1 range 2\n",
      "URL https://www.tavolashop.com/sa-ar/kitchen-tools/food-preparation-tools/ricers-mashers?p=1\n",
      "i 1 range 3\n",
      "URL https://www.tavolashop.com/sa-ar/kitchen-tools/food-preparation-tools/colanders-strainers?p=1\n",
      "i 2 range 3\n",
      "URL https://www.tavolashop.com/sa-ar/kitchen-tools/food-preparation-tools/colanders-strainers?p=2\n",
      "Cat1: أدوات المطبخ\n",
      "Cat2: أدوات تجهيز الطعام\n",
      "Cat3: مصافي مطبخ وقماش تصفية\n",
      "i 1 range 2\n",
      "URL https://www.tavolashop.com/sa-ar/kitchen-tools/food-preparation-tools/mixing-bowls?p=1\n",
      "Cat1: أدوات المطبخ\n",
      "Cat2: أدوات تجهيز الطعام\n",
      "Cat3: زبديات خلط\n",
      "i 1 range 2\n",
      "URL https://www.tavolashop.com/sa-ar/kitchen-tools/food-preparation-tools/measuring-cups-spoons-jars?p=1\n",
      "Cat1: أدوات المطبخ\n",
      "Cat2: أدوات تجهيز الطعام\n",
      "Cat3: ملاعق وأكواب معيارية\n",
      "i 1 range 2\n",
      "URL https://www.tavolashop.com/sa-ar/kitchen-tools/food-preparation-tools/tongs-forks?p=1\n",
      "Cat1: أدوات المطبخ\n",
      "Cat2: أدوات تجهيز الطعام\n",
      "Cat3: ملاقط وشوك\n",
      "i 1 range 2\n",
      "URL https://www.tavolashop.com/sa-ar/kitchen-tools/food-preparation-tools/chopping-boards?p=1\n",
      "Cat1: أدوات المطبخ\n",
      "Cat2: أدوات تجهيز الطعام\n",
      "Cat3: ألواح تقطيع\n",
      "i 1 range 2\n",
      "URL https://www.tavolashop.com/sa-ar/kitchen-tools/essential-tools-gadgets/kitchen-scales?p=1\n",
      "Cat1: أدوات المطبخ\n",
      "Cat2: ادوات ومعدات طبخ\n",
      "Cat3: موازين مطبخ\n",
      "i 1 range 2\n",
      "URL https://www.tavolashop.com/sa-ar/kitchen-tools/essential-tools-gadgets/thermometers-timers?p=1\n",
      "Cat1: أدوات المطبخ\n",
      "Cat2: ادوات ومعدات طبخ\n",
      "Cat3: مؤقتات مطبخ ومقاييس حرارة\n",
      "i 1 range 2\n",
      "URL https://www.tavolashop.com/sa-ar/kitchen-tools/essential-tools-gadgets/can-jar-openers?p=1\n",
      "Cat1: أدوات المطبخ\n",
      "Cat2: ادوات ومعدات طبخ\n",
      "Cat3: فتاحات برطمانات وعلب معدنية\n",
      "i 1 range 4\n",
      "URL https://www.tavolashop.com/sa-ar/kitchen-tools/speciality-tools/salad-tools?p=1\n",
      "Cat1: أدوات المطبخ\n",
      "Cat2: ادوات مطبخ متخصصة\n",
      "Cat3: ادوات سلطة\n",
      "i 2 range 4\n",
      "URL https://www.tavolashop.com/sa-ar/kitchen-tools/speciality-tools/salad-tools?p=2\n",
      "Cat1: أدوات المطبخ\n",
      "Cat2: ادوات مطبخ متخصصة\n",
      "Cat3: ادوات سلطة\n",
      "i 3 range 4\n",
      "URL https://www.tavolashop.com/sa-ar/kitchen-tools/speciality-tools/salad-tools?p=3\n",
      "Cat1: أدوات المطبخ\n",
      "Cat2: ادوات مطبخ متخصصة\n",
      "Cat3: ادوات سلطة\n",
      "i 1 range 3\n",
      "URL https://www.tavolashop.com/sa-ar/kitchen-tools/speciality-tools/garlic-herb-tools?p=1\n",
      "Cat1: أدوات المطبخ\n",
      "Cat2: ادوات مطبخ متخصصة\n",
      "Cat3: ادوات ثوم وورقيات\n",
      "i 2 range 3\n",
      "URL https://www.tavolashop.com/sa-ar/kitchen-tools/speciality-tools/garlic-herb-tools?p=2\n",
      "Cat1: أدوات المطبخ\n",
      "Cat2: ادوات مطبخ متخصصة\n",
      "Cat3: ادوات ثوم وورقيات\n",
      "i 1 range 3\n",
      "URL https://www.tavolashop.com/sa-ar/kitchen-tools/speciality-tools/fruit-citrus-tools?p=1\n",
      "Cat1: أدوات المطبخ\n",
      "Cat2: ادوات مطبخ متخصصة\n",
      "Cat3: ادوات فواكه وحمضيات\n",
      "i 2 range 3\n",
      "URL https://www.tavolashop.com/sa-ar/kitchen-tools/speciality-tools/fruit-citrus-tools?p=2\n",
      "Cat1: أدوات المطبخ\n",
      "Cat2: ادوات مطبخ متخصصة\n",
      "Cat3: ادوات فواكه وحمضيات\n",
      "i 1 range 3\n",
      "URL https://www.tavolashop.com/sa-ar/kitchen-tools/speciality-tools/meat-poultry-tools?p=1\n",
      "Cat1: أدوات المطبخ\n",
      "Cat2: ادوات مطبخ متخصصة\n",
      "Cat3: ادوات لحوم ودواجن\n",
      "i 2 range 3\n",
      "URL https://www.tavolashop.com/sa-ar/kitchen-tools/speciality-tools/meat-poultry-tools?p=2\n",
      "Cat1: أدوات المطبخ\n",
      "Cat2: ادوات مطبخ متخصصة\n",
      "Cat3: ادوات لحوم ودواجن\n",
      "i 1 range 2\n",
      "URL https://www.tavolashop.com/sa-ar/kitchen-tools/speciality-tools/kitchen-textiles?p=1\n",
      "Cat1: أدوات المطبخ\n",
      "Cat2: ادوات مطبخ متخصصة\n",
      "Cat3: بياضات المطبخ\n",
      "i 1 range 2\n",
      "URL https://www.tavolashop.com/sa-ar/kitchen-tools/speciality-tools/flour-tools?p=1\n",
      "Cat1: أدوات المطبخ\n",
      "Cat2: ادوات مطبخ متخصصة\n",
      "Cat3: ادوات دقيق\n",
      "i 1 range 3\n",
      "URL https://www.tavolashop.com/sa-ar/kitchen-tools/speciality-tools/pizza-pasta-tools?p=1\n",
      "Cat1: أدوات المطبخ\n",
      "Cat2: ادوات مطبخ متخصصة\n",
      "Cat3: ادوات بيتزا وباستا\n",
      "i 2 range 3\n",
      "URL https://www.tavolashop.com/sa-ar/kitchen-tools/speciality-tools/pizza-pasta-tools?p=2\n",
      "Cat1: أدوات المطبخ\n",
      "Cat2: ادوات مطبخ متخصصة\n",
      "Cat3: ادوات بيتزا وباستا\n",
      "i 1 range 3\n",
      "URL https://www.tavolashop.com/sa-ar/kitchen-tools/speciality-tools/grill-tools?p=1\n",
      "Cat1: أدوات المطبخ\n",
      "Cat2: ادوات مطبخ متخصصة\n",
      "Cat3: ادوات شوي وباربيكيو\n",
      "i 2 range 3\n",
      "URL https://www.tavolashop.com/sa-ar/kitchen-tools/speciality-tools/grill-tools?p=2\n",
      "Cat1: أدوات المطبخ\n",
      "Cat2: ادوات مطبخ متخصصة\n",
      "Cat3: ادوات شوي وباربيكيو\n",
      "i 1 range 2\n",
      "URL https://www.tavolashop.com/sa-ar/kitchen-tools/speciality-tools/chef-torches?p=1\n",
      "Cat1: أدوات المطبخ\n",
      "Cat2: ادوات مطبخ متخصصة\n",
      "Cat3: شعلة مطبخ\n",
      "i 1 range 2\n",
      "URL https://www.tavolashop.com/sa-ar/kitchen-tools/speciality-tools/egg-tools?p=1\n",
      "Cat1: أدوات المطبخ\n",
      "Cat2: ادوات مطبخ متخصصة\n",
      "Cat3: ادوات بيض\n",
      "i 1 range 2\n",
      "URL https://www.tavolashop.com/sa-ar/kitchen-tools/seasoning-oil/salt-pepper-mills?p=1\n",
      "Cat1: أدوات المطبخ\n",
      "Cat2: لوازم تتبيل وتقديم زيت\n",
      "Cat3: مطاحن فلفل وملح\n",
      "i 1 range 2\n",
      "URL https://www.tavolashop.com/sa-ar/kitchen-tools/seasoning-oil/spice-shakers-nut-tools?p=1\n",
      "Cat1: أدوات المطبخ\n",
      "Cat2: لوازم تتبيل وتقديم زيت\n",
      "Cat3: مرشات وموزعات توابل ومكسرات\n",
      "i 1 range 2\n",
      "URL https://www.tavolashop.com/sa-ar/kitchen-tools/seasoning-oil/oil-vinegar-dispensers?p=1\n",
      "Cat1: أدوات المطبخ\n",
      "Cat2: لوازم تتبيل وتقديم زيت\n",
      "Cat3: قناني زيت وخل\n",
      "i 1 range 2\n",
      "URL https://www.tavolashop.com/sa-ar/kitchen-tools/seasoning-oil/mortars-pestles?p=1\n",
      "Cat1: أدوات المطبخ\n",
      "Cat2: لوازم تتبيل وتقديم زيت\n",
      "Cat3: أطقم هاون ومدقة\n",
      "i 1 range 3\n",
      "URL https://www.tavolashop.com/sa-ar/kitchen-tools/storage-organization/food-storage-jars-containers?p=1\n",
      "Cat1: أدوات المطبخ\n",
      "Cat2: تخزين وتوضيب الطعام\n",
      "Cat3: برطمانات وعلب توضيب طعام\n",
      "i 2 range 3\n",
      "URL https://www.tavolashop.com/sa-ar/kitchen-tools/storage-organization/food-storage-jars-containers?p=2\n",
      "Cat1: أدوات المطبخ\n",
      "Cat2: تخزين وتوضيب الطعام\n",
      "Cat3: برطمانات وعلب توضيب طعام\n",
      "i 1 range 2\n",
      "URL https://www.tavolashop.com/sa-ar/kitchen-tools/storage-organization/food-covers?p=1\n",
      "Cat1: أدوات المطبخ\n",
      "Cat2: تخزين وتوضيب الطعام\n",
      "Cat3: أغطية حفظ طعام\n",
      "i 1 range 2\n",
      "URL https://www.tavolashop.com/sa-ar/kitchen-tools/storage-organization/bread-bins?p=1\n",
      "Cat1: أدوات المطبخ\n",
      "Cat2: تخزين وتوضيب الطعام\n",
      "Cat3: علب حفظ خبز\n",
      "i 1 range 2\n",
      "URL https://www.tavolashop.com/sa-ar/kitchen-tools/storage-organization/utensil-holders?p=1\n",
      "Cat1: أدوات المطبخ\n",
      "Cat2: تخزين وتوضيب الطعام\n",
      "Cat3: حاملة ادوات طبخ\n",
      "i 1 range 3\n",
      "URL https://www.tavolashop.com/sa-ar/kitchen-tools/beverage-tools/water-filters-bottles?p=1\n",
      "Cat1: أدوات المطبخ\n",
      "Cat2: لوازم المشروبات\n",
      "Cat3: أباريق ماء وأباريق بفلتر\n",
      "i 2 range 3\n",
      "URL https://www.tavolashop.com/sa-ar/kitchen-tools/beverage-tools/water-filters-bottles?p=2\n"
     ]
    },
    {
     "name": "stdout",
     "output_type": "stream",
     "text": [
      "Cat1: أدوات المطبخ\n",
      "Cat2: لوازم المشروبات\n",
      "Cat3: أباريق ماء وأباريق بفلتر\n",
      "i 1 range 2\n",
      "URL https://www.tavolashop.com/sa-ar/kitchen-tools/beverage-tools/carbonated-drink-makers?p=1\n",
      "Cat1: أدوات المطبخ\n",
      "Cat2: لوازم المشروبات\n",
      "Cat3: صانعات مشروبات غازية\n",
      "i 1 range 2\n",
      "URL https://www.tavolashop.com/sa-ar/kitchen-tools/beverage-tools/ice-cube-trays?p=1\n",
      "Cat1: أدوات المطبخ\n",
      "Cat2: لوازم المشروبات\n",
      "Cat3: قوالب مكعبات ثلج\n",
      "i 1 range 3\n",
      "URL https://www.tavolashop.com/sa-ar/bakeware/baking-tools/baking-pastry-tools?p=1\n",
      "Cat1: أواني الخبز\n",
      "Cat2: أدوات الخبز\n",
      "Cat3: أدوات خبز وتحضير العجين\n",
      "i 2 range 3\n",
      "URL https://www.tavolashop.com/sa-ar/bakeware/baking-tools/baking-pastry-tools?p=2\n",
      "Cat1: أواني الخبز\n",
      "Cat2: أدوات الخبز\n",
      "Cat3: أدوات خبز وتحضير العجين\n",
      "i 1 range 2\n",
      "URL https://www.tavolashop.com/sa-ar/bakeware/baking-tools/baking-cups-wraps?p=1\n",
      "Cat1: أواني الخبز\n",
      "Cat2: أدوات الخبز\n",
      "Cat3: أكواب وأوراق الخبز\n",
      "i 1 range 2\n",
      "URL https://www.tavolashop.com/sa-ar/bakeware/baking-tools/weighing-measuring-tools?p=1\n",
      "Cat1: أواني الخبز\n",
      "Cat2: أدوات الخبز\n",
      "Cat3: أدوات الوزن والقياس\n",
      "i 1 range 6\n",
      "URL https://www.tavolashop.com/sa-ar/bakeware/baking-tools/cookie-cutters-accessories?p=1\n",
      "Cat1: أواني الخبز\n",
      "Cat2: أدوات الخبز\n",
      "Cat3: قطاعات واكسسوارات الكوكيز\n",
      "i 2 range 6\n",
      "URL https://www.tavolashop.com/sa-ar/bakeware/baking-tools/cookie-cutters-accessories?p=2\n",
      "Cat1: أواني الخبز\n",
      "Cat2: أدوات الخبز\n",
      "Cat3: قطاعات واكسسوارات الكوكيز\n",
      "i 3 range 6\n",
      "URL https://www.tavolashop.com/sa-ar/bakeware/baking-tools/cookie-cutters-accessories?p=3\n",
      "Cat1: أواني الخبز\n",
      "Cat2: أدوات الخبز\n",
      "Cat3: قطاعات واكسسوارات الكوكيز\n",
      "i 4 range 6\n",
      "URL https://www.tavolashop.com/sa-ar/bakeware/baking-tools/cookie-cutters-accessories?p=4\n",
      "Cat1: أواني الخبز\n",
      "Cat2: أدوات الخبز\n",
      "Cat3: قطاعات واكسسوارات الكوكيز\n",
      "i 5 range 6\n",
      "URL https://www.tavolashop.com/sa-ar/bakeware/baking-tools/cookie-cutters-accessories?p=5\n",
      "Cat1: أواني الخبز\n",
      "Cat2: أدوات الخبز\n",
      "Cat3: قطاعات واكسسوارات الكوكيز\n",
      "i 1 range 2\n",
      "URL https://www.tavolashop.com/sa-ar/bakeware/baking-tools/cooling-racks?p=1\n",
      "Cat1: أواني الخبز\n",
      "Cat2: أدوات الخبز\n",
      "Cat3: رفوف تبريد\n",
      "i 1 range 2\n",
      "URL https://www.tavolashop.com/sa-ar/bakeware/baking-tools/rolling-pins-baking-mats?p=1\n",
      "Cat1: أواني الخبز\n",
      "Cat2: أدوات الخبز\n",
      "Cat3: فرادات وحصائر العجين\n",
      "i 1 range 3\n",
      "URL https://www.tavolashop.com/sa-ar/bakeware/baking-tools/baking-pastry-tools?p=1\n",
      "Cat1: أواني الخبز\n",
      "Cat2: أدوات الخبز\n",
      "Cat3: أدوات خبز وتحضير العجين\n",
      "i 2 range 3\n",
      "URL https://www.tavolashop.com/sa-ar/bakeware/baking-tools/baking-pastry-tools?p=2\n",
      "Cat1: أواني الخبز\n",
      "Cat2: أدوات الخبز\n",
      "Cat3: أدوات خبز وتحضير العجين\n",
      "i 1 range 3\n",
      "URL https://www.tavolashop.com/sa-ar/bakeware/display-storage/cake-cupcake-stands?p=1\n",
      "Cat1: أواني الخبز\n",
      "Cat2: تقديم وحفظ الحلويات\n",
      "Cat3: حاملات الكيك والكب كيك\n",
      "i 2 range 3\n",
      "URL https://www.tavolashop.com/sa-ar/bakeware/display-storage/cake-cupcake-stands?p=2\n",
      "Cat1: أواني الخبز\n",
      "Cat2: تقديم وحفظ الحلويات\n",
      "Cat3: حاملات الكيك والكب كيك\n",
      "i 1 range 3\n",
      "URL https://www.tavolashop.com/sa-ar/bakeware/display-storage/cake-cupcake-boxes?p=1\n",
      "Cat1: أواني الخبز\n",
      "Cat2: تقديم وحفظ الحلويات\n",
      "Cat3: علب الكيك والكب كيك\n",
      "i 2 range 3\n",
      "URL https://www.tavolashop.com/sa-ar/bakeware/display-storage/cake-cupcake-boxes?p=2\n",
      "Cat1: أواني الخبز\n",
      "Cat2: تقديم وحفظ الحلويات\n",
      "Cat3: علب الكيك والكب كيك\n",
      "i 1 range 3\n",
      "URL https://www.tavolashop.com/sa-ar/bakeware/display-storage/cookie-boxes?p=1\n",
      "Cat1: أواني الخبز\n",
      "Cat2: تقديم وحفظ الحلويات\n",
      "Cat3: علب الكوكيز\n",
      "i 2 range 3\n",
      "URL https://www.tavolashop.com/sa-ar/bakeware/display-storage/cookie-boxes?p=2\n",
      "Cat1: أواني الخبز\n",
      "Cat2: تقديم وحفظ الحلويات\n",
      "Cat3: علب الكوكيز\n",
      "i 1 range 3\n",
      "URL https://www.tavolashop.com/sa-ar/bakeware/display-storage/candy-boxes-wrappers?p=1\n",
      "Cat1: أواني الخبز\n",
      "Cat2: تقديم وحفظ الحلويات\n",
      "Cat3: علب وأوراق تغليف الحلوى\n",
      "i 2 range 3\n",
      "URL https://www.tavolashop.com/sa-ar/bakeware/display-storage/candy-boxes-wrappers?p=2\n",
      "Cat1: أواني الخبز\n",
      "Cat2: تقديم وحفظ الحلويات\n",
      "Cat3: علب وأوراق تغليف الحلوى\n",
      "i 1 range 3\n",
      "URL https://www.tavolashop.com/sa-ar/bakeware/display-storage/treat-bags-boxes?p=1\n",
      "Cat1: أواني الخبز\n",
      "Cat2: تقديم وحفظ الحلويات\n",
      "Cat3: أكياس وعلب الحلوى\n",
      "i 2 range 3\n",
      "URL https://www.tavolashop.com/sa-ar/bakeware/display-storage/treat-bags-boxes?p=2\n",
      "Cat1: أواني الخبز\n",
      "Cat2: تقديم وحفظ الحلويات\n",
      "Cat3: أكياس وعلب الحلوى\n",
      "i 1 range 3\n",
      "URL https://www.tavolashop.com/sa-ar/bakeware/display-storage/cake-carriers-storage?p=1\n",
      "Cat1: أواني الخبز\n",
      "Cat2: تقديم وحفظ الحلويات\n",
      "Cat3: حاملات وعلب توضيب الكيك\n",
      "i 2 range 3\n",
      "URL https://www.tavolashop.com/sa-ar/bakeware/display-storage/cake-carriers-storage?p=2\n",
      "Cat1: أواني الخبز\n",
      "Cat2: تقديم وحفظ الحلويات\n",
      "Cat3: حاملات وعلب توضيب الكيك\n"
     ]
    }
   ],
   "source": [
    "links_products = []\n",
    "\n",
    "for i, product in  enumerate(list_tavola):\n",
    "    range_product = product[1]\n",
    "    url_product = product[0]\n",
    "    \n",
    "    for i in range(1, range_product):\n",
    "        print('i', i, 'range', range_product)\n",
    "        \n",
    "        url = f'{url_product}' +  str(i)\n",
    "        print('URL', url)\n",
    "        driver.get(url)\n",
    "        try:\n",
    "            category1 =  driver.find_elements_by_xpath(\"//li[contains(@class, 'category')]\")[0].text\n",
    "            category2 =  driver.find_elements_by_xpath(\"//li[contains(@class, 'category')]\")[1].text\n",
    "            category3 = driver.find_elements_by_xpath(\"//li[contains(@class, 'category')]\")[2].text\n",
    "        except:\n",
    "            continue\n",
    "        print('Cat1:', category1)\n",
    "        print('Cat2:', category2)\n",
    "        print('Cat3:', category3)\n",
    "\n",
    "        products = driver.find_elements_by_class_name('product-item-link')\n",
    "\n",
    "\n",
    "        #Forloop to get all url products\n",
    "        for product in products:\n",
    "\n",
    "            links_products.append([product.get_attribute('href'), category1, category2, category3], )\n",
    "            \n",
    "        time.sleep(1)\n",
    "#***********************************************************************************************\n"
   ]
  },
  {
   "cell_type": "code",
   "execution_count": 6,
   "id": "89c40bc8",
   "metadata": {},
   "outputs": [
    {
     "data": {
      "text/plain": [
       "1021"
      ]
     },
     "execution_count": 6,
     "metadata": {},
     "output_type": "execute_result"
    }
   ],
   "source": [
    "len(links_products)\n"
   ]
  },
  {
   "cell_type": "code",
   "execution_count": 13,
   "id": "c0eb56a3",
   "metadata": {},
   "outputs": [],
   "source": [
    "cat1 = []\n",
    "cat2 = []\n",
    "cat3 = []\n",
    "for tt in links_products:\n",
    "    cat1.append(tt[1])    \n",
    "    cat2.append(tt[2])\n",
    "    cat3.append(tt[3])\n",
    "    "
   ]
  },
  {
   "cell_type": "code",
   "execution_count": 14,
   "id": "1ffe47dc",
   "metadata": {},
   "outputs": [],
   "source": [
    "cats = {\n",
    "    'cat1': cat1,\n",
    "    'cat2': cat2,\n",
    "    'cat3': cat3,\n",
    "}\n",
    "cat_df = pd.DataFrame(cats)"
   ]
  },
  {
   "cell_type": "code",
   "execution_count": 20,
   "id": "b8e5655e",
   "metadata": {},
   "outputs": [
    {
     "data": {
      "text/plain": [
       "2"
      ]
     },
     "execution_count": 20,
     "metadata": {},
     "output_type": "execute_result"
    }
   ],
   "source": [
    "ccat1 = cat_df['cat1'].unique().tolist()\n",
    "len(ccat1)"
   ]
  },
  {
   "cell_type": "code",
   "execution_count": 19,
   "id": "2f84a0f1",
   "metadata": {},
   "outputs": [
    {
     "data": {
      "text/plain": [
       "9"
      ]
     },
     "execution_count": 19,
     "metadata": {},
     "output_type": "execute_result"
    }
   ],
   "source": [
    "ccat2 = cat_df['cat2'].unique().tolist()\n",
    "len(ccat2)"
   ]
  },
  {
   "cell_type": "code",
   "execution_count": 18,
   "id": "16128c70",
   "metadata": {},
   "outputs": [
    {
     "data": {
      "text/plain": [
       "50"
      ]
     },
     "execution_count": 18,
     "metadata": {},
     "output_type": "execute_result"
    }
   ],
   "source": [
    "ccat3 = cat_df['cat3'].unique().tolist()\n",
    "len(ccat3)"
   ]
  },
  {
   "cell_type": "code",
   "execution_count": 22,
   "id": "c81599fa",
   "metadata": {},
   "outputs": [],
   "source": [
    "for i in range(9, 50):\n",
    "    ccat2.append('')"
   ]
  },
  {
   "cell_type": "code",
   "execution_count": 23,
   "id": "0597aabf",
   "metadata": {},
   "outputs": [],
   "source": [
    "cats = {\n",
    "    'cat1': ccat1,\n",
    "    'cat2': ccat2,\n",
    "    'cat3': ccat3,\n",
    "}\n",
    "cat_df = pd.DataFrame(cats)"
   ]
  },
  {
   "cell_type": "code",
   "execution_count": null,
   "id": "14df3e4d",
   "metadata": {},
   "outputs": [],
   "source": [
    "cat_df."
   ]
  },
  {
   "cell_type": "code",
   "execution_count": null,
   "id": "359f692f",
   "metadata": {},
   "outputs": [],
   "source": []
  },
  {
   "cell_type": "code",
   "execution_count": 24,
   "id": "5957467a",
   "metadata": {},
   "outputs": [],
   "source": [
    "cat_df.to_excel('cats_TAVOLA.xlsx')"
   ]
  },
  {
   "cell_type": "code",
   "execution_count": 5,
   "id": "53cf51f5",
   "metadata": {},
   "outputs": [],
   "source": [
    "urls_test = pd.read_excel('/home/wafistos/Downloads/سحب اسكيو تافولا من الموقع العماني.xlsx')"
   ]
  },
  {
   "cell_type": "code",
   "execution_count": 8,
   "id": "95e749d6",
   "metadata": {},
   "outputs": [],
   "source": [
    "df =  pd.read_excel('/home/wafistos/Documents/Projects/scaping_wafi/tavolashop/update_all_tavola_kw.xlsx')"
   ]
  },
  {
   "cell_type": "code",
   "execution_count": 6,
   "id": "e6690a2a",
   "metadata": {},
   "outputs": [],
   "source": [
    "sku = urls_test['sku'].to_list()"
   ]
  },
  {
   "cell_type": "code",
   "execution_count": 9,
   "id": "08d1f807",
   "metadata": {},
   "outputs": [
    {
     "data": {
      "text/html": [
       "<div>\n",
       "<style scoped>\n",
       "    .dataframe tbody tr th:only-of-type {\n",
       "        vertical-align: middle;\n",
       "    }\n",
       "\n",
       "    .dataframe tbody tr th {\n",
       "        vertical-align: top;\n",
       "    }\n",
       "\n",
       "    .dataframe thead th {\n",
       "        text-align: right;\n",
       "    }\n",
       "</style>\n",
       "<table border=\"1\" class=\"dataframe\">\n",
       "  <thead>\n",
       "    <tr style=\"text-align: right;\">\n",
       "      <th></th>\n",
       "      <th>sku</th>\n",
       "      <th>is_in_stock</th>\n",
       "      <th>estimated_delivery_text</th>\n",
       "      <th>name</th>\n",
       "      <th>url_key</th>\n",
       "      <th>free_colors</th>\n",
       "      <th>raw_materials</th>\n",
       "      <th>short_description</th>\n",
       "      <th>description</th>\n",
       "      <th>ts_dimensions_width</th>\n",
       "      <th>...</th>\n",
       "      <th>manufacturer</th>\n",
       "      <th>url_video</th>\n",
       "      <th>news_from_date</th>\n",
       "      <th>news_to_date</th>\n",
       "      <th>product_websites</th>\n",
       "      <th>attribute_set_code</th>\n",
       "      <th>product_type</th>\n",
       "      <th>store_view_code</th>\n",
       "      <th>supplier</th>\n",
       "      <th>Cost</th>\n",
       "    </tr>\n",
       "  </thead>\n",
       "  <tbody>\n",
       "    <tr>\n",
       "      <th>1635</th>\n",
       "      <td>TAV-GF-12703</td>\n",
       "      <td>1</td>\n",
       "      <td>2-3 أيام عمل</td>\n",
       "      <td>Gefu Glass Straw 4 pcs - Brush 18 cm, Black</td>\n",
       "      <td>tav-gf-12703 gefu glass straw 4 pcs + brush 18...</td>\n",
       "      <td>__EMPTY__VALUE__</td>\n",
       "      <td>__EMPTY__VALUE__</td>\n",
       "      <td>Gefu Glass Straw 4 pcs - Brush 18 cm, Black</td>\n",
       "      <td>Use and Care\\nDishwasher safe\\nHeat-resistant\\...</td>\n",
       "      <td>__EMPTY__VALUE__</td>\n",
       "      <td>...</td>\n",
       "      <td>مستوردة</td>\n",
       "      <td>__EMPTY__VALUE__</td>\n",
       "      <td>08/04/2021</td>\n",
       "      <td>10/03/2021</td>\n",
       "      <td>base</td>\n",
       "      <td>Default</td>\n",
       "      <td>simple</td>\n",
       "      <td>NaN</td>\n",
       "      <td>TAV</td>\n",
       "      <td>2.1</td>\n",
       "    </tr>\n",
       "    <tr>\n",
       "      <th>2036</th>\n",
       "      <td>TAV-ZG-42445-000</td>\n",
       "      <td>1</td>\n",
       "      <td>2-3 أيام عمل</td>\n",
       "      <td>مقص أظافر توينوكس على شكل سلسلة مفاتيح، زويلين...</td>\n",
       "      <td>tav-zg-42445-000 مقص أظافر توينوكس على شكل سلس...</td>\n",
       "      <td>__EMPTY__VALUE__</td>\n",
       "      <td>__EMPTY__VALUE__</td>\n",
       "      <td>مقص أظافر توينوكس على شكل سلسلة مفاتيح، زويلين...</td>\n",
       "      <td>0</td>\n",
       "      <td>__EMPTY__VALUE__</td>\n",
       "      <td>...</td>\n",
       "      <td>مستوردة</td>\n",
       "      <td>__EMPTY__VALUE__</td>\n",
       "      <td>08/04/2021</td>\n",
       "      <td>10/03/2021</td>\n",
       "      <td>base</td>\n",
       "      <td>Default</td>\n",
       "      <td>simple</td>\n",
       "      <td>NaN</td>\n",
       "      <td>TAV</td>\n",
       "      <td>7.0</td>\n",
       "    </tr>\n",
       "  </tbody>\n",
       "</table>\n",
       "<p>2 rows × 42 columns</p>\n",
       "</div>"
      ],
      "text/plain": [
       "                   sku  is_in_stock estimated_delivery_text  \\\n",
       "1635      TAV-GF-12703            1            2-3 أيام عمل   \n",
       "2036  TAV-ZG-42445-000            1            2-3 أيام عمل   \n",
       "\n",
       "                                                   name  \\\n",
       "1635        Gefu Glass Straw 4 pcs - Brush 18 cm, Black   \n",
       "2036  مقص أظافر توينوكس على شكل سلسلة مفاتيح، زويلين...   \n",
       "\n",
       "                                                url_key       free_colors  \\\n",
       "1635  tav-gf-12703 gefu glass straw 4 pcs + brush 18...  __EMPTY__VALUE__   \n",
       "2036  tav-zg-42445-000 مقص أظافر توينوكس على شكل سلس...  __EMPTY__VALUE__   \n",
       "\n",
       "         raw_materials                                  short_description  \\\n",
       "1635  __EMPTY__VALUE__        Gefu Glass Straw 4 pcs - Brush 18 cm, Black   \n",
       "2036  __EMPTY__VALUE__  مقص أظافر توينوكس على شكل سلسلة مفاتيح، زويلين...   \n",
       "\n",
       "                                            description ts_dimensions_width  \\\n",
       "1635  Use and Care\\nDishwasher safe\\nHeat-resistant\\...    __EMPTY__VALUE__   \n",
       "2036                                                  0    __EMPTY__VALUE__   \n",
       "\n",
       "      ... manufacturer         url_video news_from_date news_to_date  \\\n",
       "1635  ...      مستوردة  __EMPTY__VALUE__     08/04/2021   10/03/2021   \n",
       "2036  ...      مستوردة  __EMPTY__VALUE__     08/04/2021   10/03/2021   \n",
       "\n",
       "     product_websites attribute_set_code product_type store_view_code  \\\n",
       "1635             base            Default       simple             NaN   \n",
       "2036             base            Default       simple             NaN   \n",
       "\n",
       "     supplier Cost  \n",
       "1635      TAV  2.1  \n",
       "2036      TAV  7.0  \n",
       "\n",
       "[2 rows x 42 columns]"
      ]
     },
     "execution_count": 9,
     "metadata": {},
     "output_type": "execute_result"
    }
   ],
   "source": [
    "df.loc[df['sku'].isin(sku)]"
   ]
  },
  {
   "cell_type": "code",
   "execution_count": null,
   "id": "3e48ad29",
   "metadata": {},
   "outputs": [],
   "source": []
  },
  {
   "cell_type": "code",
   "execution_count": null,
   "id": "59c0c000",
   "metadata": {},
   "outputs": [],
   "source": []
  },
  {
   "cell_type": "code",
   "execution_count": null,
   "id": "849665c0",
   "metadata": {},
   "outputs": [],
   "source": []
  },
  {
   "cell_type": "code",
   "execution_count": 5,
   "id": "8b8d95cf",
   "metadata": {},
   "outputs": [],
   "source": [
    "driver.get()"
   ]
  },
  {
   "cell_type": "code",
   "execution_count": null,
   "id": "4a969adb",
   "metadata": {},
   "outputs": [],
   "source": [
    "for product in products:\n",
    "\n",
    "        links_products.append(product.get_attribute('href'))\n",
    "        time.sleep(1)"
   ]
  },
  {
   "cell_type": "code",
   "execution_count": 244,
   "id": "2452d062",
   "metadata": {
    "scrolled": true
   },
   "outputs": [],
   "source": [
    "uurls = pd.read_excel('/home/wafistos/Downloads/Tavola .xlsx')"
   ]
  },
  {
   "cell_type": "code",
   "execution_count": 245,
   "id": "0ca0ca70",
   "metadata": {},
   "outputs": [
    {
     "data": {
      "text/plain": [
       "(781, 10)"
      ]
     },
     "execution_count": 245,
     "metadata": {},
     "output_type": "execute_result"
    }
   ],
   "source": [
    "uurls.shape"
   ]
  },
  {
   "cell_type": "code",
   "execution_count": 247,
   "id": "b37f2cf7",
   "metadata": {},
   "outputs": [
    {
     "data": {
      "text/plain": [
       "Index(['Unnamed: 0', 'Item Description', 'Classification', 'BUOM', 'BuomEAN',\n",
       "       'RSP excl. VAT (SAR)', 'RSP (SAR)', 'Jeddah', 'Unnamed: 8',\n",
       "       'Unnamed: 9'],\n",
       "      dtype='object')"
      ]
     },
     "execution_count": 247,
     "metadata": {},
     "output_type": "execute_result"
    }
   ],
   "source": [
    "uurls.columns"
   ]
  },
  {
   "cell_type": "code",
   "execution_count": 248,
   "id": "4c75651f",
   "metadata": {},
   "outputs": [],
   "source": [
    "list_url = uurls['Unnamed: 0'].to_list()"
   ]
  },
  {
   "cell_type": "code",
   "execution_count": 256,
   "id": "8c733805",
   "metadata": {},
   "outputs": [
    {
     "data": {
      "text/plain": [
       "781"
      ]
     },
     "execution_count": 256,
     "metadata": {},
     "output_type": "execute_result"
    }
   ],
   "source": [
    "len(list_url)"
   ]
  },
  {
   "cell_type": "code",
   "execution_count": 250,
   "id": "225603bc",
   "metadata": {},
   "outputs": [],
   "source": [
    "data = pd.read_excel('/home/wafistos/Documents/Projects/scaping_wafi/tavolashop/tavolashop-cookware7.xlsx')"
   ]
  },
  {
   "cell_type": "code",
   "execution_count": 257,
   "id": "f761aeb7",
   "metadata": {},
   "outputs": [
    {
     "data": {
      "text/plain": [
       "0       TAV-WM-07-9468-9991\n",
       "1          TAV-SB-122-26-18\n",
       "2           TAV-SW-32151200\n",
       "3       TAV-WM-17-5648-6411\n",
       "4       TAV-WM-17-7128-6021\n",
       "               ...         \n",
       "2852    TAV-AI-5708-205-050\n",
       "2853    TAV-AI-5708-205-075\n",
       "2854          TAV-HF-LBS250\n",
       "2855           TAV-WA-T-666\n",
       "2856          TAV-OP-001953\n",
       "Name: sku, Length: 2857, dtype: object"
      ]
     },
     "execution_count": 257,
     "metadata": {},
     "output_type": "execute_result"
    }
   ],
   "source": [
    "data['sku']"
   ]
  },
  {
   "cell_type": "code",
   "execution_count": 254,
   "id": "eaf92a9d",
   "metadata": {},
   "outputs": [],
   "source": [
    "pp = data.loc[data['sku'].isin(list_url)]"
   ]
  },
  {
   "cell_type": "code",
   "execution_count": 255,
   "id": "d8c1a334",
   "metadata": {},
   "outputs": [],
   "source": [
    "pp.to_excel('Tavola_find_products.xlsx')"
   ]
  },
  {
   "cell_type": "code",
   "execution_count": null,
   "id": "565ec77c",
   "metadata": {},
   "outputs": [],
   "source": []
  },
  {
   "cell_type": "code",
   "execution_count": null,
   "id": "d75fd162",
   "metadata": {},
   "outputs": [],
   "source": []
  },
  {
   "cell_type": "code",
   "execution_count": null,
   "id": "a99e5ff1",
   "metadata": {},
   "outputs": [],
   "source": []
  },
  {
   "cell_type": "code",
   "execution_count": null,
   "id": "9e9dc38b",
   "metadata": {},
   "outputs": [],
   "source": []
  },
  {
   "cell_type": "code",
   "execution_count": 76,
   "id": "5b9a484c",
   "metadata": {},
   "outputs": [],
   "source": [
    "def extraire_function(word, list_word):\n",
    "    for t in list_word:\n",
    "        if word in t:\n",
    "            return t.replace(word, '').replace(':', '')\n",
    "        "
   ]
  },
  {
   "cell_type": "code",
   "execution_count": null,
   "id": "c79075c3",
   "metadata": {},
   "outputs": [],
   "source": []
  },
  {
   "cell_type": "code",
   "execution_count": 38,
   "id": "38295236",
   "metadata": {},
   "outputs": [
    {
     "data": {
      "text/plain": [
       "'ستوب'"
      ]
     },
     "execution_count": 38,
     "metadata": {},
     "output_type": "execute_result"
    }
   ],
   "source": [
    "mgs_brand = driver.find_element_by_class_name('brand-link').get_attribute('title')\n",
    "mgs_brand"
   ]
  },
  {
   "cell_type": "code",
   "execution_count": 7,
   "id": "76916541",
   "metadata": {},
   "outputs": [],
   "source": [
    "driver.get('https://www.tavolashop.com/sa-ar/cookware?p=1')"
   ]
  },
  {
   "cell_type": "code",
   "execution_count": null,
   "id": "633a4bdc",
   "metadata": {},
   "outputs": [],
   "source": []
  },
  {
   "cell_type": "code",
   "execution_count": 126,
   "id": "9244ee7f",
   "metadata": {},
   "outputs": [
    {
     "name": "stdout",
     "output_type": "stream",
     "text": [
      "Cat1: اواني الطبخ\n",
      "Cat2: \n",
      "Cat3: \n"
     ]
    }
   ],
   "source": [
    "try:\n",
    "    category1 =  driver.find_elements_by_xpath(\"//li[contains(@class, 'category')]\")[0].text\n",
    "except:\n",
    "    category1 = ''\n",
    "try:\n",
    "    category2 =  driver.find_elements_by_xpath(\"//li[contains(@class, 'category')]\")[1].text\n",
    "except:\n",
    "    category2 = ''\n",
    "try:\n",
    "    category3 = driver.find_elements_by_xpath(\"//li[contains(@class, 'category')]\")[2].text\n",
    "except:\n",
    "    category3 = ''\n",
    "print('Cat1:', category1)\n",
    "print('Cat2:', category2)\n",
    "print('Cat3:', category3)"
   ]
  },
  {
   "cell_type": "code",
   "execution_count": null,
   "id": "21064fd4",
   "metadata": {},
   "outputs": [],
   "source": []
  },
  {
   "cell_type": "code",
   "execution_count": 3,
   "id": "32d97ddc",
   "metadata": {},
   "outputs": [],
   "source": [
    "df = pd.read_excel('New brand (1).xlsx')"
   ]
  },
  {
   "cell_type": "code",
   "execution_count": 5,
   "id": "ceef42a1",
   "metadata": {},
   "outputs": [
    {
     "data": {
      "text/plain": [
       "Index(['Item Code', 'Item Description', 'Classification', 'BUOM', 'BuomEAN',\n",
       "       'RSP excl. VAT (SAR)', 'RSP (SAR)', 'Jeddah'],\n",
       "      dtype='object')"
      ]
     },
     "execution_count": 5,
     "metadata": {},
     "output_type": "execute_result"
    }
   ],
   "source": [
    "df"
   ]
  },
  {
   "cell_type": "code",
   "execution_count": 8,
   "id": "e259af00",
   "metadata": {},
   "outputs": [],
   "source": [
    "# List url products"
   ]
  },
  {
   "cell_type": "markdown",
   "id": "f8565151",
   "metadata": {},
   "source": []
  },
  {
   "cell_type": "markdown",
   "id": "aeb6973a",
   "metadata": {},
   "source": [
    "# List url products\n"
   ]
  },
  {
   "cell_type": "markdown",
   "id": "b3d9b1b2",
   "metadata": {},
   "source": []
  },
  {
   "cell_type": "code",
   "execution_count": 28,
   "id": "1f6fd442",
   "metadata": {},
   "outputs": [],
   "source": [
    "list_product_urls = [\n",
    "    [\n",
    "'https://www.tavolashop.com/sa-ar/cookware/stovetops/frying-saute-pans?p=', 2   \n",
    "    ],\n",
    "    [\n",
    "'https://www.tavolashop.com/sa-ar/cookware/stovetops/cookware-sets?p=', 2\n",
    "    ],\n",
    "    [\n",
    " 'https://www.tavolashop.com/sa-ar/cookware/stovetops/grill-pans-griddles?p=', 2    \n",
    "    ],\n",
    "    [\n",
    "'https://www.tavolashop.com/sa-ar/cookware/stovetops/saucepans?p=', 2\n",
    "    ],\n",
    "    [\n",
    "    'https://www.tavolashop.com/sa-ar/cookware/stovetops/woks?p=', 2\n",
    "    ],\n",
    "    [\n",
    "    'https://www.tavolashop.com/sa-ar/cookware/stovetops/stock-pots-pasta-pots?p= ', 2\n",
    "    ],\n",
    "    [\n",
    "    'https://www.tavolashop.com/sa-ar/cookware/stovetops/casseroles-braisers?p=', 2\n",
    "    ],\n",
    "    [\n",
    "    'https://www.tavolashop.com/sa-ar/cookware/stovetops/cookware-cleaners?p=', 2\n",
    "    ],\n",
    "    [\n",
    "    'https://www.tavolashop.com/sa-ar/cookware/stovetops/milk-pots-double-boilers?p=', 2\n",
    "    ],\n",
    "    [\n",
    "    'https://www.tavolashop.com/sa-ar/cookware/oven/ovenware?p=', 3\n",
    "    ],\n",
    "    [\n",
    "    'https://www.tavolashop.com/sa-ar/cookware/oven/roasting-pans?p=', 2\n",
    "    ],\n",
    "    [\n",
    "    'https://www.tavolashop.com/sa-ar/cookware/specialty-cookware/pressure-cookers?p=', 2\n",
    "    ],\n",
    "    [\n",
    "    'https://www.tavolashop.com/sa-ar/cookware/specialty-cookware/fondue-sets-raclette-makers?p=', 2\n",
    "    ],\n",
    "    [\n",
    "    'https://www.tavolashop.com/sa-ar/cookware/specialty-cookware/microwave-cookware?p=', 2\n",
    "    ],\n",
    "    [\n",
    "    'https://www.tavolashop.com/sa-ar/cookware/specialty-cookware/steamers-poachers?p=', 2\n",
    "    ],\n",
    "    [\n",
    "    'https://www.tavolashop.com/sa-ar/cookware/specialty-cookware/tagines-paella-pans?p=', 2\n",
    "    ],\n",
    "    [\n",
    "    'https://www.tavolashop.com/sa-ar/appliances/essential-appliances/juicers?p=', 3\n",
    "    ],\n",
    "    [\n",
    "    'https://www.tavolashop.com/sa-ar/appliances/essential-appliances/stand-mixers-attachments?p=', 2\n",
    "    ],\n",
    "    [\n",
    "    'https://www.tavolashop.com/sa-ar/appliances/essential-appliances/food-processors?p=', 2\n",
    "    ],\n",
    "    [   \n",
    "    'https://www.tavolashop.com/sa-ar/appliances/essential-appliances/hand-blenders?p=', 2\n",
    "    ],\n",
    "    [\n",
    "    'https://www.tavolashop.com/sa-ar/appliances/essential-appliances/toasters?p=', 2\n",
    "    ],\n",
    "    [\n",
    "    'https://www.tavolashop.com/sa-ar/appliances/essential-appliances/instant-pot?p=', 2\n",
    "    ],\n",
    "    \n",
    "    [\n",
    "    'https://www.tavolashop.com/sa-ar/appliances/coffee-tea/coffee-makers-grinders?p=', 2\n",
    "    ],\n",
    "    [\n",
    "    'https://www.tavolashop.com/sa-ar/appliances/coffee-tea/electric-kettles?p=', 2\n",
    "    ],\n",
    "    [\n",
    "    'https://www.tavolashop.com/sa-ar/appliances/specialty-appliances/food-dehydrators?p=', 2\n",
    "    ],\n",
    "    [   \n",
    "    'https://www.tavolashop.com/sa-ar/appliances/specialty-appliances/yogurt-cheese-makers?p=', 2\n",
    "    ],\n",
    "    [\n",
    "    'https://www.tavolashop.com/sa-ar/appliances/specialty-appliances/ice-cream-makers?p=', 2\n",
    "    ],\n",
    "    [\n",
    "    'https://www.tavolashop.com/sa-ar/appliances/specialty-appliances/cupcake-makers?p=', 2\n",
    "    ],\n",
    "    [\n",
    "    'https://www.tavolashop.com/sa-ar/appliances/specialty-appliances/raclettes?p=', 2\n",
    "    ],\n",
    "    [\n",
    "    'https://www.tavolashop.com/sa-ar/knives/kitchen-knives/knife-sets?p=', 2\n",
    "    ],\n",
    "    [\n",
    "    'https://www.tavolashop.com/sa-ar/knives/kitchen-knives/paring-peeling-knives?p=', 2\n",
    "    ],\n",
    "    [   \n",
    "    'https://www.tavolashop.com/sa-ar/knives/kitchen-knives/utility-knives?p=', 2\n",
    "    ],\n",
    "    [\n",
    "    'https://www.tavolashop.com/sa-ar/knives/kitchen-knives/slicing-carving-knives?p=', 2\n",
    "    ],\n",
    "    [\n",
    "    'https://www.tavolashop.com/sa-ar/knives/kitchen-knives/cleavers-boning-knives?p=', 2\n",
    "    ],\n",
    "    \n",
    "    [\n",
    "    'https://www.tavolashop.com/sa-ar/knives/kitchen-knives/bread-knives?p=', 2\n",
    "    ],\n",
    "    [\n",
    "    'https://www.tavolashop.com/sa-ar/knives/kitchen-knives/steak-knives?p=', 2\n",
    "    ],\n",
    "    [\n",
    "    'https://www.tavolashop.com/sa-ar/knives/kitchen-knives/speciality-knives?p=', 2\n",
    "    ],\n",
    "    [   \n",
    "    'https://www.tavolashop.com/sa-ar/knives/kitchen-knives/santoku-knives?p=', 2\n",
    "    ],\n",
    "    [\n",
    "    'https://www.tavolashop.com/sa-ar/knives/knife-accessories/knife-storage?p=', 2\n",
    "    ],\n",
    "    [\n",
    "    'https://www.tavolashop.com/sa-ar/knives/knife-accessories/knife-sharpeners?p=', 2\n",
    "    ],\n",
    "    [\n",
    "    'https://www.tavolashop.com/sa-ar/knives/knife-accessories/cutting-boards?p=', 3\n",
    "    ],\n",
    "    [\n",
    "    'https://www.tavolashop.com/sa-ar/knives/knife-accessories/kitchen-shears-scissors?p=', 2\n",
    "    ],\n",
    "    \n",
    "    [\n",
    "    'https://www.tavolashop.com/sa-ar/kitchen-tools/essential-kitchen-utensils/utensil-sets?p=', 2\n",
    "    ],\n",
    "    [\n",
    "    'https://www.tavolashop.com/sa-ar/kitchen-tools/essential-kitchen-utensils/spatulas-turners?p=', 3\n",
    "    ],\n",
    "    [\n",
    "    'https://www.tavolashop.com/sa-ar/kitchen-tools/essential-kitchen-utensils/spoons-ladles?p=', 2\n",
    "    ],\n",
    "    [   \n",
    "    'https://www.tavolashop.com/sa-ar/kitchen-tools/essential-kitchen-utensils/whisks-brushes?p=?p=', 2\n",
    "    ],\n",
    "    [\n",
    "    'https://www.tavolashop.com/sa-ar/kitchen-tools/food-preparation-tools/mandolines-slicers?p=', 2\n",
    "    ],\n",
    "    [\n",
    "    'https://www.tavolashop.com/sa-ar/kitchen-tools/food-preparation-tools/spiralizers-corers?p=', 2\n",
    "    ],\n",
    "    [\n",
    "    'https://www.tavolashop.com/sa-ar/kitchen-tools/food-preparation-tools/graters-zesters?p=', 2\n",
    "    ],\n",
    "    [\n",
    "    'https://www.tavolashop.com/sa-ar/kitchen-tools/food-preparation-tools/peelers?p=', 2\n",
    "    ],\n",
    "    \n",
    "    [\n",
    "    'https://www.tavolashop.com/sa-ar/kitchen-tools/food-preparation-tools/choppers-presses?p=', 3\n",
    "    ],\n",
    "    [\n",
    "    'https://www.tavolashop.com/sa-ar/kitchen-tools/food-preparation-tools/ricers-mashers?p=', 2\n",
    "    ],\n",
    "    [\n",
    "    'https://www.tavolashop.com/sa-ar/kitchen-tools/food-preparation-tools/colanders-strainers?p=', 3\n",
    "    ],\n",
    "    [   \n",
    "    'https://www.tavolashop.com/sa-ar/kitchen-tools/food-preparation-tools/mixing-bowls?p=', 2\n",
    "    ],\n",
    "    [\n",
    "    'https://www.tavolashop.com/sa-ar/kitchen-tools/food-preparation-tools/measuring-cups-spoons-jars?p=', 2\n",
    "    ],\n",
    "    [\n",
    "    'https://www.tavolashop.com/sa-ar/kitchen-tools/food-preparation-tools/tongs-forks?p=', 2\n",
    "    ],\n",
    "    [\n",
    "    'https://www.tavolashop.com/sa-ar/kitchen-tools/food-preparation-tools/chopping-boards?p=', 2\n",
    "    ],\n",
    "    [\n",
    "    'https://www.tavolashop.com/sa-ar/kitchen-tools/essential-tools-gadgets/kitchen-scales?p=', 2\n",
    "    ],\n",
    "    \n",
    "    [\n",
    "    'https://www.tavolashop.com/sa-ar/kitchen-tools/essential-tools-gadgets/thermometers-timers?p=', 2\n",
    "    ],\n",
    "    [\n",
    "    'https://www.tavolashop.com/sa-ar/kitchen-tools/essential-tools-gadgets/can-jar-openers?p=', 2\n",
    "    ],\n",
    "    [\n",
    "    'https://www.tavolashop.com/sa-ar/kitchen-tools/speciality-tools/salad-tools?p=', 4\n",
    "    ],\n",
    "    [   \n",
    "    'https://www.tavolashop.com/sa-ar/kitchen-tools/speciality-tools/garlic-herb-tools?p=', 3\n",
    "    ],\n",
    "    [\n",
    "    'https://www.tavolashop.com/sa-ar/kitchen-tools/speciality-tools/fruit-citrus-tools?p=', 3\n",
    "    ],\n",
    "    [\n",
    "    'https://www.tavolashop.com/sa-ar/kitchen-tools/speciality-tools/meat-poultry-tools?p=', 3\n",
    "    ],\n",
    "\n",
    "    [\n",
    "    'https://www.tavolashop.com/sa-ar/kitchen-tools/speciality-tools/kitchen-textiles?p=', 2\n",
    "    ],\n",
    "    [\n",
    "    'https://www.tavolashop.com/sa-ar/kitchen-tools/speciality-tools/flour-tools?p=', 2\n",
    "    ],\n",
    "    \n",
    "    [\n",
    "    'https://www.tavolashop.com/sa-ar/kitchen-tools/speciality-tools/pizza-pasta-tools?p=', 3\n",
    "    ],\n",
    "    [\n",
    "    'https://www.tavolashop.com/sa-ar/kitchen-tools/speciality-tools/grill-tools?p=', 3\n",
    "    ],\n",
    "    [\n",
    "    'https://www.tavolashop.com/sa-ar/kitchen-tools/speciality-tools/chef-torches?p=', 2\n",
    "    ],\n",
    "    [   \n",
    "    'https://www.tavolashop.com/sa-ar/kitchen-tools/speciality-tools/egg-tools?p=', 2\n",
    "    ],\n",
    "    [\n",
    "    'https://www.tavolashop.com/sa-ar/kitchen-tools/seasoning-oil/salt-pepper-mills?p=', 2\n",
    "    ],\n",
    "    [\n",
    "    'https://www.tavolashop.com/sa-ar/kitchen-tools/seasoning-oil/spice-shakers-nut-tools?p=', 2\n",
    "    ],\n",
    "    [\n",
    "    'https://www.tavolashop.com/sa-ar/kitchen-tools/seasoning-oil/oil-vinegar-dispensers?p=', 2\n",
    "    ],\n",
    "    [\n",
    "    'https://www.tavolashop.com/sa-ar/kitchen-tools/seasoning-oil/mortars-pestles?p=', 2\n",
    "    ],\n",
    "    [\n",
    "    'https://www.tavolashop.com/sa-ar/kitchen-tools/storage-organization/food-storage-jars-containers?p=', 3\n",
    "    ],\n",
    "    [\n",
    "    'https://www.tavolashop.com/sa-ar/kitchen-tools/storage-organization/food-covers?p=', 2\n",
    "    ],\n",
    "    [\n",
    "    'https://www.tavolashop.com/sa-ar/kitchen-tools/storage-organization/bread-bins?p=', 2\n",
    "    ],\n",
    "    [\n",
    "    'https://www.tavolashop.com/sa-ar/kitchen-tools/storage-organization/utensil-holders?p=', 2\n",
    "    ],\n",
    "    [\n",
    "    'https://www.tavolashop.com/sa-ar/kitchen-tools/beverage-tools/water-filters-bottles?p=', 3\n",
    "    ],\n",
    "    [\n",
    "    'https://www.tavolashop.com/sa-ar/kitchen-tools/beverage-tools/carbonated-drink-makers?p=', 2\n",
    "    ],\n",
    "    [\n",
    "    'https://www.tavolashop.com/sa-ar/kitchen-tools/beverage-tools/ice-cube-trays?p=', 2\n",
    "    ],\n",
    "    [\n",
    "    'https://www.tavolashop.com/sa-ar/bakeware/pans-moulds/cake-pans?p=', 3\n",
    "    ],\n",
    "    [\n",
    "    'https://www.tavolashop.com/sa-ar/bakeware/pans-moulds/bundt-pans?p=', 2\n",
    "    ],\n",
    "    [\n",
    "    'https://www.tavolashop.com/sa-ar/bakeware/pans-moulds/springforms-cheesecake-pans?p=', 2\n",
    "    ],\n",
    "    [\n",
    "    'https://www.tavolashop.com/sa-ar/bakeware/pans-moulds/pizza-pie-tart-pans?p=', 2\n",
    "    ],\n",
    "    [\n",
    "    'https://www.tavolashop.com/sa-ar/bakeware/pans-moulds/bread-loaf-pans?p=', 2\n",
    "    ],\n",
    "    [\n",
    "    'https://www.tavolashop.com/sa-ar/bakeware/pans-moulds/cupcake-muffin-pans?p=', 2\n",
    "    ],\n",
    "    [\n",
    "    'https://www.tavolashop.com/sa-ar/bakeware/pans-moulds/multi-cavity-pans?p=', 2\n",
    "    ],\n",
    "    [\n",
    "    'https://www.tavolashop.com/sa-ar/bakeware/pans-moulds/mini-treat-pans?p=', 2\n",
    "    ],\n",
    "    [\n",
    "    'https://www.tavolashop.com/sa-ar/bakeware/pans-moulds/baking-pans-cookie-sheets?p=', 2\n",
    "    ],\n",
    "    [\n",
    "    'https://www.tavolashop.com/sa-ar/bakeware/pans-moulds/pancake-waffles-pans?p=', 2\n",
    "    ],\n",
    "    [\n",
    "    'https://www.tavolashop.com/sa-ar/bakeware/pans-moulds/bakeware-sets?p=', 2\n",
    "    ],\n",
    "    \n",
    "    \n",
    "    \n",
    "    [\n",
    "    'https://www.tavolashop.com/sa-ar/bakeware/baking-tools/baking-pastry-tools?p=', 3\n",
    "    ],\n",
    "    [\n",
    "    'https://www.tavolashop.com/sa-ar/bakeware/baking-tools/baking-cups-wraps?p=', 2\n",
    "    ],\n",
    "\n",
    "    [\n",
    "    'https://www.tavolashop.com/sa-ar/bakeware/baking-tools/weighing-measuring-tools?p=', 2\n",
    "    ],\n",
    "    [\n",
    "    'https://www.tavolashop.com/sa-ar/bakeware/baking-tools/cookie-cutters-accessories?p=', 6\n",
    "    ],\n",
    "    [\n",
    "    'https://www.tavolashop.com/sa-ar/bakeware/baking-tools/cooling-racks?p=', 2\n",
    "    ],\n",
    "    [\n",
    "    'https://www.tavolashop.com/sa-ar/bakeware/baking-tools/rolling-pins-baking-mats?p=', 2\n",
    "    ],\n",
    "    [\n",
    "    'https://www.tavolashop.com/sa-ar/bakeware/baking-tools/baking-pastry-tools?p=',3\n",
    "    ],\n",
    "    \n",
    "    \n",
    "    [\n",
    "    'https://www.tavolashop.com/sa-ar/bakeware/display-storage/cake-cupcake-stands?p=', 2\n",
    "    ],\n",
    "    [\n",
    "    'https://www.tavolashop.com/sa-ar/bakeware/display-storage/cake-cupcake-boxes?p=', 2\n",
    "    ],\n",
    "    [\n",
    "    'https://www.tavolashop.com/sa-ar/bakeware/display-storage/cookie-boxes?p=', 2\n",
    "    ],\n",
    "    [\n",
    "    'https://www.tavolashop.com/sa-ar/bakeware/display-storage/candy-boxes-wrappers?p=', 2\n",
    "    ],\n",
    "    [\n",
    "    'https://www.tavolashop.com/sa-ar/bakeware/display-storage/treat-bags-boxes?p=', 2\n",
    "    ],\n",
    "    [\n",
    "    'https://www.tavolashop.com/sa-ar/bakeware/display-storage/cake-carriers-storage?p=', 2\n",
    "    ],\n",
    "    [\n",
    "    'https://www.tavolashop.com/sa-ar/bakeware/occasions/halloween?p=', 2\n",
    "    ],\n",
    "    [\n",
    "    'https://www.tavolashop.com/sa-ar/bakeware/occasions/christmas?p=', 3\n",
    "    ],\n",
    "    [\n",
    "    'https://www.tavolashop.com/sa-ar/bakeware/occasions/valentine?p=', 2\n",
    "    ],\n",
    "    [\n",
    "    'https://www.tavolashop.com/sa-ar/bakeware/occasions/weddings?p=', 2\n",
    "    ],\n",
    "    [\n",
    "    'https://www.tavolashop.com/sa-ar/bakeware/occasions/parties-birthdays?p=', 4\n",
    "    ],\n",
    "    [\n",
    "    'https://www.tavolashop.com/sa-ar/bakeware/occasions/baby-shower?p=', 2\n",
    "    ],\n",
    "    [\n",
    "    'https://www.tavolashop.com/sa-ar/bakeware/occasions/easter?p=', 2\n",
    "    ],\n",
    "    [\n",
    "    'https://www.tavolashop.com/sa-ar/bakeware/occasions/mothers-day?p=', 3\n",
    "    ],\n",
    "    [\n",
    "    'https://www.tavolashop.com/sa-ar/bakeware/occasions/eid-el-adha?p=', 2\n",
    "    ],\n",
    "    [\n",
    "    'https://www.tavolashop.com/sa-ar/bakeware/occasions/eid-el-fitr?p=', 2\n",
    "    ],\n",
    "    [\n",
    "    'https://www.tavolashop.com/sa-ar/bakeware/occasions/back-to-school?p=', 2\n",
    "    ],\n",
    "    [\n",
    "    'https://www.tavolashop.com/sa-ar/bakeware/occasions/football-fever?p=', 2\n",
    "    ],\n",
    "    [\n",
    "    'https://www.tavolashop.com/sa-ar/bakeware/occasions/ramadan?p=', 2\n",
    "    ],\n",
    "    [\n",
    "    'https://www.tavolashop.com/sa-ar/cake-decoration/tools-accessories/decorating-tips-accessories?p=', 3\n",
    "    ],\n",
    "    [\n",
    "    'https://www.tavolashop.com/sa-ar/cake-decoration/tools-accessories/decorating-tools-turntables?p=', 2\n",
    "    ],\n",
    "    [\n",
    "    'https://www.tavolashop.com/sa-ar/cake-decoration/tools-accessories/piping-bags-couplers-covers?p=', 2\n",
    "    ],\n",
    "    [\n",
    "    'https://www.tavolashop.com/sa-ar/cake-decoration/tools-accessories/decorating-sets?p=', 2\n",
    "    ],\n",
    "    [\n",
    "    'https://www.tavolashop.com/sa-ar/cake-decoration/tools-accessories/fondant-gum-paste-tools?p=', 4\n",
    "    ],\n",
    "    [\n",
    "    'https://www.tavolashop.com/sa-ar/cake-decoration/tools-accessories/sugar-flower-making-tools?p=', 2\n",
    "    ],\n",
    "    [\n",
    "    'https://www.tavolashop.com/sa-ar/cake-decoration/tools-accessories/cake-decorating-molds?p=', 3\n",
    "    ],\n",
    "    [\n",
    "    'https://www.tavolashop.com/sa-ar/cake-decoration/tools-accessories/mats-boards-rollers?p=', 2\n",
    "    ],\n",
    "    [\n",
    "    'https://www.tavolashop.com/sa-ar/cake-decoration/tools-accessories/plungers-cutters?p=', 2\n",
    "    ],\n",
    "    [\n",
    "    'https://www.tavolashop.com/sa-ar/cake-decoration/tools-accessories/cake-boards-drums-dummies?p=', 2\n",
    "    ],\n",
    "    [\n",
    "    'https://www.tavolashop.com/sa-ar/edibles/edibles-ingredients/sprinkles?p=', 2\n",
    "    ],\n",
    "    [\n",
    "    'https://www.tavolashop.com/sa-ar/edibles/edibles-ingredients/food-colors?p=', 2\n",
    "    ],\n",
    "    [\n",
    "    'https://www.tavolashop.com/sa-ar/edibles/edibles-ingredients/cake-mixes?p=', 2\n",
    "    ],\n",
    "    [\n",
    "    'https://www.tavolashop.com/sa-ar/edibles/edibles-ingredients/flavourings?p=', 2\n",
    "    ],\n",
    "    [\n",
    "    'https://www.tavolashop.com/sa-ar/coffee-tea/coffee/french-press?p=', 2\n",
    "    ],\n",
    "    [\n",
    "    'https://www.tavolashop.com/sa-ar/coffee-tea/coffee/moka-pot?p=', 2\n",
    "    ],\n",
    "    [\n",
    "    'https://www.tavolashop.com/sa-ar/coffee-tea/coffee/syphon?p=', 2\n",
    "    ],\n",
    "    [\n",
    "    'https://www.tavolashop.com/sa-ar/coffee-tea/coffee/pour-over-v60?p=', 2\n",
    "    ],\n",
    "    [\n",
    "    'https://www.tavolashop.com/sa-ar/coffee-tea/coffee/coffee-machines?p=', 2\n",
    "    ],\n",
    "    [\n",
    "    'https://www.tavolashop.com/sa-ar/coffee-tea/coffee/coffee-grinders?p=', 2\n",
    "    ],\n",
    "    [\n",
    "    'https://www.tavolashop.com/sa-ar/coffee-tea/coffee/milk-frothers?p=', 2\n",
    "    ],\n",
    "    [\n",
    "    'https://www.tavolashop.com/sa-ar/tea-coffee/coffee/gooseneck-kettles?p=', 2\n",
    "    ],\n",
    "    [\n",
    "    'https://www.tavolashop.com/sa-ar/tea-coffee/coffee/coffee-spare-parts-accessories?p=', 2\n",
    "    ],\n",
    "    [\n",
    "    'https://www.tavolashop.com/sa-ar/tea-coffee/tea/tea-press?p=', 2\n",
    "    ],\n",
    "    [\n",
    "    'https://www.tavolashop.com/sa-ar/tea-coffee/tea/tea-pots?p=', 2\n",
    "    ],\n",
    "    [\n",
    "    'https://www.tavolashop.com/sa-ar/tea-coffee/tea/tea-infusers-strainers?p=', 2\n",
    "    ],\n",
    "    [\n",
    "    'https://www.tavolashop.com/sa-ar/tea-coffee/tea/kettles?p=', 2\n",
    "    ],\n",
    "    [\n",
    "    'https://www.tavolashop.com/sa-ar/coffee-tea/tea/tea-warmers?p=', 2\n",
    "    ],\n",
    "    [\n",
    "    'https://www.tavolashop.com/sa-ar/tea-coffee/coffee-tea-serveware/thermal-flasks?p=', 3\n",
    "    ],\n",
    "    [\n",
    "    'https://www.tavolashop.com/sa-ar/tea-coffee/coffee-tea-serveware/teacups?p=', 2\n",
    "    ],\n",
    "    [\n",
    "    'https://www.tavolashop.com/sa-ar/tea-coffee/coffee-tea-serveware/espresso-cups?p=', 2\n",
    "    ],\n",
    "    [\n",
    "    'https://www.tavolashop.com/sa-ar/tea-coffee/coffee-tea-serveware/arabic-coffee-cups?p=', 2\n",
    "    ],\n",
    "    [\n",
    "    'https://www.tavolashop.com/sa-ar/tea-coffee/coffee-tea-serveware/glasses-mugs?p=', 3\n",
    "    ],\n",
    "    [\n",
    "    'https://www.tavolashop.com/sa-ar/tea-coffee/coffee-tea-serveware/tea-sets?p=', 2\n",
    "    ],\n",
    "    [\n",
    "    'https://www.tavolashop.com/sa-ar/tea-coffee/coffee-tea-serveware/coffee-tea-spoons?p=', 2\n",
    "    ],\n",
    "    [\n",
    "    'https://www.tavolashop.com/sa-ar/tea-coffee/coffee-tea-serveware/sugar-bowls-honey-pots-creamers?p=', 2\n",
    "    ],\n",
    "    [\n",
    "    'https://www.tavolashop.com/sa-ar/tea-coffee/coffee-tea-serveware/travel-mugs?p=', 2\n",
    "    ],\n",
    "    [\n",
    "    'https://www.tavolashop.com/sa-ar/table-home/tableware/dinnerware?p=', 2\n",
    "    ],\n",
    "    [\n",
    "    'https://www.tavolashop.com/sa-ar/table-home/tableware/cutlery-sets?p=', 3\n",
    "    ],\n",
    "    [\n",
    "    'https://www.tavolashop.com/sa-ar/table-home/tableware/serving-tools?p=', 4\n",
    "    ],\n",
    "    [\n",
    "    'https://www.tavolashop.com/sa-ar/table-home/tableware/serveware?p=', 3\n",
    "    ],\n",
    "    [\n",
    "    'https://www.tavolashop.com/sa-ar/table-home/tableware/drinkware?p=', 3\n",
    "    ],\n",
    "    [\n",
    "    'https://www.tavolashop.com/sa-ar/table-home/tableware/table-accessories?p=', 2\n",
    "    ],\n",
    "    [\n",
    "    'https://www.tavolashop.com/sa-ar/table-home/tableware/placemats?p=', 3\n",
    "    ],\n",
    "    [\n",
    "    'https://www.tavolashop.com/sa-ar/table-home/tableware/salt-pepper-shakers?p=', 3\n",
    "    ],\n",
    "    [\n",
    "    'https://www.tavolashop.com/sa-ar/table-home/tableware/dinner-plates?p=', 2\n",
    "    ],\n",
    "    [\n",
    "    'https://www.tavolashop.com/sa-ar/table-home/tableware/side-plates?p=', 2\n",
    "    ],\n",
    "    [\n",
    "    'https://www.tavolashop.com/sa-ar/table-home/tableware/bowls?p=', 2\n",
    "    ],\n",
    "    [\n",
    "    'https://www.tavolashop.com/sa-ar/table-home/tableware/serving-bowls?p=', 2\n",
    "    ],\n",
    "    [\n",
    "    'https://www.tavolashop.com/sa-ar/table-home/tableware/dessert-plates-cake-stands?p=', 3\n",
    "    ],\n",
    "    [\n",
    "    'https://www.tavolashop.com/sa-ar/table-home/tableware/trays?p=', 2\n",
    "    ],\n",
    "    [\n",
    "    'https://www.tavolashop.com/sa-ar/table-home/tableware/cheese-boards?p=', 2\n",
    "    ],\n",
    "    [\n",
    "    'https://www.tavolashop.com/sa-ar/table-home/tableware/baskets?p=', 2\n",
    "    ],\n",
    "    [\n",
    "    'https://www.tavolashop.com/sa-ar/table-home/tableware/tablecloths-napkins?p=', 2\n",
    "    ],\n",
    "    [\n",
    "    'https://www.tavolashop.com/sa-ar/table-home/outdoor-dining/bbq-grills?p=', 2\n",
    "    ],\n",
    "    [\n",
    "    'https://www.tavolashop.com/sa-ar/table-home/outdoor-dining/picnic-baskets?p=', 2\n",
    "    ],\n",
    "    [\n",
    "    'https://www.tavolashop.com/sa-ar/table-home/outdoor-dining/cooler-bags?p=', 3\n",
    "    ],\n",
    "    [\n",
    "    'https://www.tavolashop.com/sa-ar/table-home/homeware/mirrors?p=', 2\n",
    "    ],\n",
    "    [\n",
    "    'https://www.tavolashop.com/sa-ar/table-home/homeware/personal-care?p=', 3\n",
    "    ],\n",
    "    [\n",
    "    'https://www.tavolashop.com/sa-ar/table-home/homeware/floor-mats?p=', 2\n",
    "    ],\n",
    "    [\n",
    "    'https://www.tavolashop.com/sa-ar/table-home/homeware/waste-bins?p=', 2\n",
    "    ],\n",
    "    [\n",
    "    'https://www.tavolashop.com/sa-ar/table-home/homeware/dish-racks?p=', 2\n",
    "    ],\n",
    "    [\n",
    "    'https://www.tavolashop.com/sa-ar/table-home/homeware/soap-dispensers?p=', 2\n",
    "    ],\n",
    "    [\n",
    "    'https://www.tavolashop.com/sa-ar/table-home/homeware/cleaning-organisation?p=', 3\n",
    "    ],\n",
    "    [\n",
    "    'https://www.tavolashop.com/sa-ar/table-home/homeware/bathroom-tools?p=', 2\n",
    "    ],\n",
    "    [\n",
    "    'https://www.tavolashop.com/sa-ar/table-home/homeware/sensor-mirrors?p=', 2\n",
    "    ],\n",
    "    [\n",
    "    'https://www.tavolashop.com/sa-ar/on-the-go/travel-accessories/water-bottles?p=', 3\n",
    "    ],\n",
    "    [\n",
    "    'https://www.tavolashop.com/sa-ar/on-the-go/travel-accessories/travel-mugs-jars-flasks?p=', 5\n",
    "    ],\n",
    "    [\n",
    "    'https://www.tavolashop.com/sa-ar/on-the-go/travel-accessories/lunch-boxes?p=', 4\n",
    "    ],\n",
    "    [\n",
    "    'https://www.tavolashop.com/sa-ar/on-the-go/travel-accessories/pocket-knives?p=', 2\n",
    "    ],\n",
    "   \n",
    "\n",
    "\n",
    "]"
   ]
  },
  {
   "cell_type": "code",
   "execution_count": 261,
   "id": "bf44c3ec",
   "metadata": {},
   "outputs": [],
   "source": [
    "list_product_urls_kw = [\n",
    "    [\n",
    "'https://www.tavolashop.com/kw-ar/cookware/stovetops/frying-saute-pans?p=', 2   \n",
    "    ],\n",
    "    [\n",
    "'https://www.tavolashop.com/kw-ar/cookware/stovetops/cookware-sets?p=', 2\n",
    "    ],\n",
    "    [\n",
    " 'https://www.tavolashop.com/kw-ar/cookware/stovetops/grill-pans-griddles?p=', 2    \n",
    "    ],\n",
    "    [\n",
    "'https://www.tavolashop.com/kw-ar/cookware/stovetops/saucepans?p=', 2\n",
    "    ],\n",
    "    [\n",
    "    'https://www.tavolashop.com/kw-ar/cookware/stovetops/woks?p=', 2\n",
    "    ],\n",
    "    [\n",
    "    'https://www.tavolashop.com/kw-ar/cookware/stovetops/stock-pots-pasta-pots?p= ', 2\n",
    "    ],\n",
    "    [\n",
    "    'https://www.tavolashop.com/kw-ar/cookware/stovetops/casseroles-braisers?p=', 3\n",
    "    ],\n",
    "    [\n",
    "    'https://www.tavolashop.com/kw-ar/cookware/stovetops/cookware-cleaners?p=', 2\n",
    "    ],\n",
    "    [\n",
    "    'https://www.tavolashop.com/kw-ar/cookware/stovetops/milk-pots-double-boilers?p=', 2\n",
    "    ],\n",
    "    [\n",
    "    'https://www.tavolashop.com/kw-ar/cookware/oven/ovenware?p=', 3\n",
    "    ],\n",
    "    [\n",
    "    'https://www.tavolashop.com/kw-ar/cookware/oven/roasting-pans?p=', 2\n",
    "    ],\n",
    "    [\n",
    "    'https://www.tavolashop.com/kw-ar/cookware/specialty-cookware/pressure-cookers?p=', 2\n",
    "    ],\n",
    "    [\n",
    "    'https://www.tavolashop.com/kw-ar/cookware/specialty-cookware/fondue-sets-raclette-makers?p=', 2\n",
    "    ],\n",
    "    [\n",
    "    'https://www.tavolashop.com/kw-ar/cookware/specialty-cookware/microwave-cookware?p=', 2\n",
    "    ],\n",
    "    [\n",
    "    'https://www.tavolashop.com/kw-ar/cookware/specialty-cookware/steamers-poachers?p=', 2\n",
    "    ],\n",
    "    [\n",
    "    'https://www.tavolashop.com/kw-ar/cookware/specialty-cookware/tagines-paella-pans?p=', 2\n",
    "    ],\n",
    "    [\n",
    "    'https://www.tavolashop.com/kw-ar/appliances/essential-appliances/juicers?p=', 2\n",
    "    ],\n",
    "    [\n",
    "        'https://www.tavolashop.com/kw-ar/appliances/essential-appliances/blenders?p=', 2\n",
    "    ],\n",
    "    [\n",
    "    'https://www.tavolashop.com/kw-ar/appliances/essential-appliances/stand-mixers-attachments?p=', 2\n",
    "    ],\n",
    "    [\n",
    "    'https://www.tavolashop.com/kw-ar/appliances/essential-appliances/food-processors?p=', 2\n",
    "    ],\n",
    "    [   \n",
    "    'https://www.tavolashop.com/kw-ar/appliances/essential-appliances/hand-blenders?p=', 2\n",
    "    ],\n",
    "    [\n",
    "    'https://www.tavolashop.com/kw-ar/appliances/essential-appliances/toasters?p=', 2\n",
    "    ],\n",
    "    [\n",
    "    'https://www.tavolashop.com/kw-ar/appliances/essential-appliances/instant-pot?p=', 2\n",
    "    ],\n",
    "    \n",
    "    [\n",
    "    'https://www.tavolashop.com/kw-ar/appliances/coffee-tea/coffee-makers-grinders?p=', 2\n",
    "    ],\n",
    "    [\n",
    "    'https://www.tavolashop.com/kw-ar/appliances/coffee-tea/electric-kettles?p=', 2\n",
    "    ],\n",
    "    [\n",
    "        'https://www.tavolashop.com/kw-ar/appliances/specialty-appliances/indoor-grills-panini-presses?p=', 2\n",
    "    ],\n",
    "    [\n",
    "    'https://www.tavolashop.com/kw-ar/appliances/specialty-appliances/food-dehydrators?p=', 2\n",
    "    ],\n",
    "    [   \n",
    "    'https://www.tavolashop.com/kw-ar/appliances/specialty-appliances/yogurt-cheese-makers?p=', 2\n",
    "    ],\n",
    "    [\n",
    "        'https://www.tavolashop.com/kw-ar/appliances/specialty-appliances/waffle-makers?p=', 2\n",
    "    ],\n",
    "    [\n",
    "    'https://www.tavolashop.com/kw-ar/appliances/specialty-appliances/ice-cream-makers?p=', 2\n",
    "    ],\n",
    "    [\n",
    "    'https://www.tavolashop.com/kw-ar/appliances/specialty-appliances/cupcake-makers?p=', 2\n",
    "    ],\n",
    "    [\n",
    "    'https://www.tavolashop.com/kw-ar/appliances/specialty-appliances/raclettes?p=', 2\n",
    "    ],\n",
    "    [\n",
    "    'https://www.tavolashop.com/kw-ar/knives/kitchen-knives/knife-sets?p=', 2\n",
    "    ],\n",
    "    [\n",
    "        'https://www.tavolashop.com/kw-ar/knives/kitchen-knives/chef-knives?p=', 2\n",
    "    ],\n",
    "    [\n",
    "    'https://www.tavolashop.com/kw-ar/knives/kitchen-knives/paring-peeling-knives?p=', 2\n",
    "    ],\n",
    "    [   \n",
    "    'https://www.tavolashop.com/kw-ar/knives/kitchen-knives/utility-knives?p=', 2\n",
    "    ],\n",
    "    [\n",
    "    'https://www.tavolashop.com/kw-ar/knives/kitchen-knives/slicing-carving-knives?p=', 2\n",
    "    ],\n",
    "    [\n",
    "    'https://www.tavolashop.com/kw-ar/knives/kitchen-knives/cleavers-boning-knives?p=', 2\n",
    "    ],\n",
    "    \n",
    "    [\n",
    "    'https://www.tavolashop.com/kw-ar/knives/kitchen-knives/bread-knives?p=', 2\n",
    "    ],\n",
    "    [\n",
    "    'https://www.tavolashop.com/kw-ar/knives/kitchen-knives/steak-knives?p=', 2\n",
    "    ],\n",
    "    [\n",
    "    'https://www.tavolashop.com/kw-ar/knives/kitchen-knives/speciality-knives?p=', 2\n",
    "    ],\n",
    "    [   \n",
    "    'https://www.tavolashop.com/kw-ar/knives/kitchen-knives/santoku-knives?p=', 2\n",
    "    ],\n",
    "    [\n",
    "    'https://www.tavolashop.com/kw-ar/knives/knife-accessories/knife-storage?p=', 2\n",
    "    ],\n",
    "    [\n",
    "    'https://www.tavolashop.com/kw-ar/knives/knife-accessories/knife-sharpeners?p=', 2\n",
    "    ],\n",
    "    [\n",
    "    'https://www.tavolashop.com/kw-ar/knives/knife-accessories/cutting-boards?p=', 3\n",
    "    ],\n",
    "    [\n",
    "    'https://www.tavolashop.com/kw-ar/knives/knife-accessories/kitchen-shears-scissors?p=', 2\n",
    "    ],\n",
    "    \n",
    "    [\n",
    "    'https://www.tavolashop.com/kw-ar/kitchen-tools/essential-kitchen-utensils/utensil-sets?p=', 2\n",
    "    ],\n",
    "    [\n",
    "    'https://www.tavolashop.com/kw-ar/kitchen-tools/essential-kitchen-utensils/spatulas-turners?p=', 3\n",
    "    ],\n",
    "    [\n",
    "    'https://www.tavolashop.com/kw-ar/kitchen-tools/essential-kitchen-utensils/spoons-ladles?p=', 3\n",
    "    ],\n",
    "    [   \n",
    "    'https://www.tavolashop.com/kw-ar/kitchen-tools/essential-kitchen-utensils/whisks-brushes?p=?p=', 2\n",
    "    ],\n",
    "    [\n",
    "    'https://www.tavolashop.com/kw-ar/kitchen-tools/food-preparation-tools/mandolines-slicers?p=', 2\n",
    "    ],\n",
    "    [\n",
    "    'https://www.tavolashop.com/kw-ar/kitchen-tools/food-preparation-tools/spiralizers-corers?p=', 2\n",
    "    ],\n",
    "    [\n",
    "    'https://www.tavolashop.com/kw-ar/kitchen-tools/food-preparation-tools/graters-zesters?p=', 2\n",
    "    ],\n",
    "    [\n",
    "    'https://www.tavolashop.com/kw-ar/kitchen-tools/food-preparation-tools/peelers?p=', 2\n",
    "    ],\n",
    "    \n",
    "    [\n",
    "    'https://www.tavolashop.com/kw-ar/kitchen-tools/food-preparation-tools/choppers-presses?p=', 3\n",
    "    ],\n",
    "    [\n",
    "    'https://www.tavolashop.com/kw-ar/kitchen-tools/food-preparation-tools/ricers-mashers?p=', 2\n",
    "    ],\n",
    "    [\n",
    "    'https://www.tavolashop.com/kw-ar/kitchen-tools/food-preparation-tools/colanders-strainers?p=', 3\n",
    "    ],\n",
    "    [   \n",
    "    'https://www.tavolashop.com/kw-ar/kitchen-tools/food-preparation-tools/mixing-bowls?p=', 2\n",
    "    ],\n",
    "    [\n",
    "    'https://www.tavolashop.com/kw-ar/kitchen-tools/food-preparation-tools/measuring-cups-spoons-jars?p=', 2\n",
    "    ],\n",
    "    [\n",
    "    'https://www.tavolashop.com/kw-ar/kitchen-tools/food-preparation-tools/tongs-forks?p=', 2\n",
    "    ],\n",
    "    [\n",
    "    'https://www.tavolashop.com/kw-ar/kitchen-tools/food-preparation-tools/chopping-boards?p=', 2\n",
    "    ],\n",
    "    [\n",
    "    'https://www.tavolashop.com/kw-ar/kitchen-tools/essential-tools-gadgets/kitchen-scales?p=', 2\n",
    "    ],\n",
    "    \n",
    "    [\n",
    "    'https://www.tavolashop.com/kw-ar/kitchen-tools/essential-tools-gadgets/thermometers-timers?p=', 2\n",
    "    ],\n",
    "    [\n",
    "    'https://www.tavolashop.com/kw-ar/kitchen-tools/essential-tools-gadgets/can-jar-openers?p=', 2\n",
    "    ],\n",
    "    [\n",
    "    'https://www.tavolashop.com/kw-ar/kitchen-tools/speciality-tools/salad-tools?p=', 4\n",
    "    ],\n",
    "    [   \n",
    "    'https://www.tavolashop.com/kw-ar/kitchen-tools/speciality-tools/garlic-herb-tools?p=', 3\n",
    "    ],\n",
    "    [\n",
    "    'https://www.tavolashop.com/kw-ar/kitchen-tools/speciality-tools/fruit-citrus-tools?p=', 3\n",
    "    ],\n",
    "    [\n",
    "    'https://www.tavolashop.com/kw-ar/kitchen-tools/speciality-tools/meat-poultry-tools?p=', 3\n",
    "    ],\n",
    "\n",
    "    [\n",
    "    'https://www.tavolashop.com/kw-ar/kitchen-tools/speciality-tools/kitchen-textiles?p=', 2\n",
    "    ],\n",
    "    [\n",
    "    'https://www.tavolashop.com/kw-ar/kitchen-tools/speciality-tools/flour-tools?p=', 2\n",
    "    ],\n",
    "    \n",
    "    [\n",
    "    'https://www.tavolashop.com/kw-ar/kitchen-tools/speciality-tools/pizza-pasta-tools?p=', 3\n",
    "    ],\n",
    "    [\n",
    "    'https://www.tavolashop.com/kw-ar/kitchen-tools/speciality-tools/grill-tools?p=', 3\n",
    "    ],\n",
    "    [\n",
    "    'https://www.tavolashop.com/kw-ar/kitchen-tools/speciality-tools/chef-torches?p=', 2\n",
    "    ],\n",
    "    [   \n",
    "    'https://www.tavolashop.com/kw-ar/kitchen-tools/speciality-tools/egg-tools?p=', 2\n",
    "    ],\n",
    "    [\n",
    "    'https://www.tavolashop.com/kw-ar/kitchen-tools/seasoning-oil/salt-pepper-mills?p=', 2\n",
    "    ],\n",
    "    [\n",
    "    'https://www.tavolashop.com/kw-ar/kitchen-tools/seasoning-oil/spice-shakers-nut-tools?p=', 2\n",
    "    ],\n",
    "    [\n",
    "    'https://www.tavolashop.com/kw-ar/kitchen-tools/seasoning-oil/oil-vinegar-dispensers?p=', 2\n",
    "    ],\n",
    "    [\n",
    "    'https://www.tavolashop.com/kw-ar/kitchen-tools/seasoning-oil/mortars-pestles?p=', 2\n",
    "    ],\n",
    "    [\n",
    "    'https://www.tavolashop.com/kw-ar/kitchen-tools/storage-organization/food-storage-jars-containers?p=', 3\n",
    "    ],\n",
    "    [\n",
    "    'https://www.tavolashop.com/kw-ar/kitchen-tools/storage-organization/food-covers?p=', 2\n",
    "    ],\n",
    "    [\n",
    "    'https://www.tavolashop.com/kw-ar/kitchen-tools/storage-organization/bread-bins?p=', 2\n",
    "    ],\n",
    "    [\n",
    "    'https://www.tavolashop.com/kw-ar/kitchen-tools/storage-organization/utensil-holders?p=', 2\n",
    "    ],\n",
    "    [\n",
    "    'https://www.tavolashop.com/kw-ar/kitchen-tools/beverage-tools/water-filters-bottles?p=', 3\n",
    "    ],\n",
    "    [\n",
    "    'https://www.tavolashop.com/kw-ar/kitchen-tools/beverage-tools/carbonated-drink-makers?p=', 2\n",
    "    ],\n",
    "    [\n",
    "    'https://www.tavolashop.com/kw-ar/kitchen-tools/beverage-tools/ice-cube-trays?p=', 2\n",
    "    ],\n",
    "    [\n",
    "    'https://www.tavolashop.com/kw-ar/bakeware/pans-moulds/cake-pans?p=', 3\n",
    "    ],\n",
    "    [\n",
    "    'https://www.tavolashop.com/kw-ar/bakeware/pans-moulds/bundt-pans?p=', 2\n",
    "    ],\n",
    "    [\n",
    "    'https://www.tavolashop.com/kw-ar/bakeware/pans-moulds/springforms-cheesecake-pans?p=', 2\n",
    "    ],\n",
    "    [\n",
    "    'https://www.tavolashop.com/kw-ar/bakeware/pans-moulds/pizza-pie-tart-pans?p=', 2\n",
    "    ],\n",
    "    [\n",
    "    'https://www.tavolashop.com/kw-ar/bakeware/pans-moulds/bread-loaf-pans?p=', 2\n",
    "    ],\n",
    "    [\n",
    "    'https://www.tavolashop.com/kw-ar/bakeware/pans-moulds/cupcake-muffin-pans?p=', 2\n",
    "    ],\n",
    "    [\n",
    "    'https://www.tavolashop.com/kw-ar/bakeware/pans-moulds/multi-cavity-pans?p=', 2\n",
    "    ],\n",
    "    [\n",
    "    'https://www.tavolashop.com/kw-ar/bakeware/pans-moulds/mini-treat-pans?p=', 2\n",
    "    ],\n",
    "    [\n",
    "    'https://www.tavolashop.com/kw-ar/bakeware/pans-moulds/baking-pans-cookie-sheets?p=', 2\n",
    "    ],\n",
    "    [\n",
    "    'https://www.tavolashop.com/kw-ar/bakeware/pans-moulds/pancake-waffles-pans?p=', 2\n",
    "    ],\n",
    "    [\n",
    "    'https://www.tavolashop.com/kw-ar/bakeware/pans-moulds/bakeware-sets?p=', 2\n",
    "    ],\n",
    "    [\n",
    "    'https://www.tavolashop.com/kw-ar/bakeware/baking-tools/baking-pastry-tools?p=', 3\n",
    "    ],\n",
    "    [\n",
    "    'https://www.tavolashop.com/kw-ar/bakeware/baking-tools/baking-cups-wraps?p=', 2\n",
    "    ],\n",
    "\n",
    "    [\n",
    "    'https://www.tavolashop.com/kw-ar/bakeware/baking-tools/weighing-measuring-tools?p=', 2\n",
    "    ],\n",
    "    [\n",
    "    'https://www.tavolashop.com/kw-ar/bakeware/baking-tools/cookie-cutters-accessories?p=', 3\n",
    "    ],\n",
    "    [\n",
    "    'https://www.tavolashop.com/kw-ar/bakeware/baking-tools/cooling-racks?p=', 2\n",
    "    ],\n",
    "    [\n",
    "    'https://www.tavolashop.com/kw-ar/bakeware/baking-tools/rolling-pins-baking-mats?p=', 2\n",
    "    ],\n",
    "    [\n",
    "    'https://www.tavolashop.com/kw-ar/bakeware/display-storage/cake-cupcake-stands?p=', 2\n",
    "    ],\n",
    "    [\n",
    "    'https://www.tavolashop.com/kw-ar/bakeware/display-storage/cake-cupcake-boxes?p=', 2\n",
    "    ],\n",
    "    [\n",
    "    'https://www.tavolashop.com/kw-ar/bakeware/display-storage/cookie-boxes?p=', 2\n",
    "    ],\n",
    "    [\n",
    "    'https://www.tavolashop.com/kw-ar/bakeware/display-storage/candy-boxes-wrappers?p=', 2\n",
    "    ],\n",
    "    [\n",
    "    'https://www.tavolashop.com/kw-ar/bakeware/display-storage/treat-bags-boxes?p=', 2\n",
    "    ],\n",
    "    [\n",
    "    'https://www.tavolashop.com/kw-ar/bakeware/display-storage/cake-carriers-storage?p=', 2\n",
    "    ],\n",
    "    [\n",
    "    'https://www.tavolashop.com/kw-ar/bakeware/occasions/halloween?p=', 2\n",
    "    ],\n",
    "    [\n",
    "    'https://www.tavolashop.com/kw-ar/bakeware/occasions/christmas?p=', 3\n",
    "    ],\n",
    "    [\n",
    "    'https://www.tavolashop.com/kw-ar/bakeware/occasions/valentine?p=', 2\n",
    "    ],\n",
    "    [\n",
    "    'https://www.tavolashop.com/kw-ar/bakeware/occasions/weddings?p=', 2\n",
    "    ],\n",
    "    [\n",
    "    'https://www.tavolashop.com/kw-ar/bakeware/occasions/parties-birthdays?p=', 4\n",
    "    ],\n",
    "    [\n",
    "    'https://www.tavolashop.com/kw-ar/bakeware/occasions/baby-shower?p=', 2\n",
    "    ],\n",
    "    [\n",
    "    'https://www.tavolashop.com/kw-ar/bakeware/occasions/easter?p=', 2\n",
    "    ],\n",
    "    [\n",
    "    'https://www.tavolashop.com/kw-ar/bakeware/occasions/mothers-day?p=', 3\n",
    "    ],\n",
    "    [\n",
    "    'https://www.tavolashop.com/kw-ar/bakeware/occasions/eid-el-adha?p=', 2\n",
    "    ],\n",
    "    [\n",
    "    'https://www.tavolashop.com/kw-ar/bakeware/occasions/eid-el-fitr?p=', 2\n",
    "    ],\n",
    "    [\n",
    "    'https://www.tavolashop.com/kw-ar/bakeware/occasions/back-to-school?p=', 2\n",
    "    ],\n",
    "    [\n",
    "    'https://www.tavolashop.com/kw-ar/bakeware/occasions/football-fever?p=', 2\n",
    "    ],\n",
    "    [\n",
    "    'https://www.tavolashop.com/kw-ar/bakeware/occasions/ramadan?p=', 2\n",
    "    ],\n",
    "    [\n",
    "    'https://www.tavolashop.com/kw-ar/cake-decoration/tools-accessories/decorating-tips-accessories?p=', 3\n",
    "    ],\n",
    "    [\n",
    "    'https://www.tavolashop.com/kw-ar/cake-decoration/tools-accessories/decorating-tools-turntables?p=', 2\n",
    "    ],\n",
    "    [\n",
    "    'https://www.tavolashop.com/kw-ar/cake-decoration/tools-accessories/piping-bags-couplers-covers?p=', 2\n",
    "    ],\n",
    "    [\n",
    "    'https://www.tavolashop.com/kw-ar/cake-decoration/tools-accessories/decorating-sets?p=', 2\n",
    "    ],\n",
    "    [\n",
    "    'https://www.tavolashop.com/kw-ar/cake-decoration/tools-accessories/fondant-gum-paste-tools?p=', 4\n",
    "    ],\n",
    "    [\n",
    "    'https://www.tavolashop.com/kw-ar/cake-decoration/tools-accessories/sugar-flower-making-tools?p=', 2\n",
    "    ],\n",
    "    [\n",
    "    'https://www.tavolashop.com/kw-ar/cake-decoration/tools-accessories/cake-decorating-molds?p=', 3\n",
    "    ],\n",
    "    [\n",
    "    'https://www.tavolashop.com/kw-ar/cake-decoration/tools-accessories/mats-boards-rollers?p=', 2\n",
    "    ],\n",
    "    [\n",
    "    'https://www.tavolashop.com/kw-ar/cake-decoration/tools-accessories/plungers-cutters?p=', 2\n",
    "    ],\n",
    "    [\n",
    "    'https://www.tavolashop.com/kw-ar/cake-decoration/tools-accessories/cake-boards-drums-dummies?p=', 2\n",
    "    ],\n",
    "    [\n",
    "    'https://www.tavolashop.com/kw-ar/edibles/edibles-ingredients/sprinkles?p=', 2\n",
    "    ],\n",
    "    [\n",
    "    'https://www.tavolashop.com/kw-ar/edibles/edibles-ingredients/food-colors?p=', 2\n",
    "    ],\n",
    "    [\n",
    "    'https://www.tavolashop.com/kw-ar/edibles/edibles-ingredients/cake-mixes?p=', 2\n",
    "    ],\n",
    "    [\n",
    "    'https://www.tavolashop.com/kw-ar/edibles/edibles-ingredients/flavourings?p=', 2\n",
    "    ],\n",
    "    [\n",
    "    'https://www.tavolashop.com/kw-ar/coffee-tea/coffee/french-press?p=', 2\n",
    "    ],\n",
    "    [\n",
    "    'https://www.tavolashop.com/kw-ar/coffee-tea/coffee/moka-pot?p=', 2\n",
    "    ],\n",
    "    [\n",
    "    'https://www.tavolashop.com/kw-ar/coffee-tea/coffee/syphon?p=', 2\n",
    "    ],\n",
    "    [\n",
    "    'https://www.tavolashop.com/kw-ar/coffee-tea/coffee/pour-over-v60?p=', 2\n",
    "    ],\n",
    "    [\n",
    "    'https://www.tavolashop.com/kw-ar/coffee-tea/coffee/coffee-machines?p=', 2\n",
    "    ],\n",
    "    [\n",
    "    'https://www.tavolashop.com/kw-ar/coffee-tea/coffee/coffee-grinders?p=', 2\n",
    "    ],\n",
    "    [\n",
    "    'https://www.tavolashop.com/kw-ar/coffee-tea/coffee/milk-frothers?p=', 2\n",
    "    ],\n",
    "    [\n",
    "    'https://www.tavolashop.com/kw-ar/tea-coffee/coffee/gooseneck-kettles?p=', 2\n",
    "    ],\n",
    "    [\n",
    "    'https://www.tavolashop.com/kw-ar/tea-coffee/coffee/coffee-spare-parts-accessories?p=', 2\n",
    "    ],\n",
    "    [\n",
    "    'https://www.tavolashop.com/kw-ar/tea-coffee/tea/tea-press?p=', 2\n",
    "    ],\n",
    "    [\n",
    "    'https://www.tavolashop.com/kw-ar/tea-coffee/tea/tea-pots?p=', 2\n",
    "    ],\n",
    "    [\n",
    "    'https://www.tavolashop.com/kw-ar/tea-coffee/tea/tea-infusers-strainers?p=', 2\n",
    "    ],\n",
    "    [\n",
    "    'https://www.tavolashop.com/kw-ar/tea-coffee/tea/kettles?p=', 2\n",
    "    ],\n",
    "    [\n",
    "    'https://www.tavolashop.com/kw-ar/coffee-tea/tea/tea-warmers?p=', 2\n",
    "    ],\n",
    "    [\n",
    "    'https://www.tavolashop.com/kw-ar/tea-coffee/coffee-tea-serveware/thermal-flasks?p=', 3\n",
    "    ],\n",
    "    [\n",
    "    'https://www.tavolashop.com/kw-ar/tea-coffee/coffee-tea-serveware/teacups?p=', 2\n",
    "    ],\n",
    "    [\n",
    "    'https://www.tavolashop.com/kw-ar/tea-coffee/coffee-tea-serveware/espresso-cups?p=', 2\n",
    "    ],\n",
    "    [\n",
    "    'https://www.tavolashop.com/kw-ar/tea-coffee/coffee-tea-serveware/arabic-coffee-cups?p=', 2\n",
    "    ],\n",
    "    [\n",
    "    'https://www.tavolashop.com/kw-ar/tea-coffee/coffee-tea-serveware/glasses-mugs?p=', 3\n",
    "    ],\n",
    "    [\n",
    "    'https://www.tavolashop.com/kw-ar/tea-coffee/coffee-tea-serveware/tea-sets?p=', 2\n",
    "    ],\n",
    "    [\n",
    "    'https://www.tavolashop.com/kw-ar/tea-coffee/coffee-tea-serveware/coffee-tea-spoons?p=', 2\n",
    "    ],\n",
    "    [\n",
    "    'https://www.tavolashop.com/kw-ar/tea-coffee/coffee-tea-serveware/sugar-bowls-honey-pots-creamers?p=', 2\n",
    "    ],\n",
    "    [\n",
    "    'https://www.tavolashop.com/kw-ar/tea-coffee/coffee-tea-serveware/travel-mugs?p=', 2\n",
    "    ],\n",
    "    [\n",
    "    'https://www.tavolashop.com/kw-ar/table-home/tableware/dinnerware?p=', 2\n",
    "    ],\n",
    "    [\n",
    "    'https://www.tavolashop.com/kw-ar/table-home/tableware/cutlery-sets?p=', 3\n",
    "    ],\n",
    "    [\n",
    "    'https://www.tavolashop.com/kw-ar/table-home/tableware/serving-tools?p=', 4\n",
    "    ],\n",
    "    [\n",
    "    'https://www.tavolashop.com/kw-ar/table-home/tableware/serveware?p=', 3\n",
    "    ],\n",
    "    [\n",
    "    'https://www.tavolashop.com/kw-ar/table-home/tableware/drinkware?p=', 3\n",
    "    ],\n",
    "    [\n",
    "    'https://www.tavolashop.com/kw-ar/table-home/tableware/table-accessories?p=', 2\n",
    "    ],\n",
    "    [\n",
    "    'https://www.tavolashop.com/kw-ar/table-home/tableware/placemats?p=', 3\n",
    "    ],\n",
    "    [\n",
    "    'https://www.tavolashop.com/kw-ar/table-home/tableware/salt-pepper-shakers?p=', 3\n",
    "    ],\n",
    "    [\n",
    "    'https://www.tavolashop.com/kw-ar/table-home/tableware/dinner-plates?p=', 2\n",
    "    ],\n",
    "    [\n",
    "    'https://www.tavolashop.com/kw-ar/table-home/tableware/side-plates?p=', 2\n",
    "    ],\n",
    "    [\n",
    "    'https://www.tavolashop.com/kw-ar/table-home/tableware/bowls?p=', 2\n",
    "    ],\n",
    "    [\n",
    "    'https://www.tavolashop.com/kw-ar/table-home/tableware/serving-bowls?p=', 2\n",
    "    ],\n",
    "    [\n",
    "    'https://www.tavolashop.com/kw-ar/table-home/tableware/dessert-plates-cake-stands?p=', 3\n",
    "    ],\n",
    "    [\n",
    "    'https://www.tavolashop.com/kw-ar/table-home/tableware/trays?p=', 2\n",
    "    ],\n",
    "    [\n",
    "    'https://www.tavolashop.com/kw-ar/table-home/tableware/cheese-boards?p=', 2\n",
    "    ],\n",
    "    [\n",
    "    'https://www.tavolashop.com/kw-ar/table-home/tableware/baskets?p=', 2\n",
    "    ],\n",
    "    [\n",
    "    'https://www.tavolashop.com/kw-ar/table-home/tableware/tablecloths-napkins?p=', 2\n",
    "    ],\n",
    "    [\n",
    "    'https://www.tavolashop.com/kw-ar/table-home/outdoor-dining/bbq-grills?p=', 2\n",
    "    ],\n",
    "    [\n",
    "    'https://www.tavolashop.com/kw-ar/table-home/outdoor-dining/picnic-baskets?p=', 2\n",
    "    ],\n",
    "    [\n",
    "    'https://www.tavolashop.com/kw-ar/table-home/outdoor-dining/cooler-bags?p=', 3\n",
    "    ],\n",
    "    [\n",
    "    'https://www.tavolashop.com/kw-ar/table-home/homeware/mirrors?p=', 2\n",
    "    ],\n",
    "    [\n",
    "    'https://www.tavolashop.com/kw-ar/table-home/homeware/personal-care?p=', 3\n",
    "    ],\n",
    "    [\n",
    "    'https://www.tavolashop.com/kw-ar/table-home/homeware/floor-mats?p=', 2\n",
    "    ],\n",
    "    [\n",
    "    'https://www.tavolashop.com/kw-ar/table-home/homeware/waste-bins?p=', 2\n",
    "    ],\n",
    "    [\n",
    "    'https://www.tavolashop.com/kw-ar/table-home/homeware/dish-racks?p=', 2\n",
    "    ],\n",
    "    [\n",
    "    'https://www.tavolashop.com/kw-ar/table-home/homeware/soap-dispensers?p=', 2\n",
    "    ],\n",
    "    [\n",
    "    'https://www.tavolashop.com/kw-ar/table-home/homeware/cleaning-organisation?p=', 3\n",
    "    ],\n",
    "    [\n",
    "    'https://www.tavolashop.com/kw-ar/table-home/homeware/bathroom-tools?p=', 2\n",
    "    ],\n",
    "    [\n",
    "    'https://www.tavolashop.com/kw-ar/table-home/homeware/sensor-mirrors?p=', 2\n",
    "    ],\n",
    "    [\n",
    "    'https://www.tavolashop.com/kw-ar/on-the-go/travel-accessories/water-bottles?p=', 3\n",
    "    ],\n",
    "    [\n",
    "    'https://www.tavolashop.com/kw-ar/on-the-go/travel-accessories/travel-mugs-jars-flasks?p=', 5\n",
    "    ],\n",
    "    [\n",
    "    'https://www.tavolashop.com/kw-ar/on-the-go/travel-accessories/lunch-boxes?p=', 4\n",
    "    ],\n",
    "    [\n",
    "    'https://www.tavolashop.com/kw-ar/on-the-go/travel-accessories/pocket-knives?p=', 2\n",
    "    ],\n",
    "   \n",
    "\n",
    "\n",
    "]"
   ]
  },
  {
   "cell_type": "code",
   "execution_count": null,
   "id": "20061253",
   "metadata": {},
   "outputs": [],
   "source": []
  },
  {
   "cell_type": "code",
   "execution_count": null,
   "id": "712de369",
   "metadata": {},
   "outputs": [],
   "source": []
  },
  {
   "cell_type": "code",
   "execution_count": null,
   "id": "4f3a2c1a",
   "metadata": {},
   "outputs": [],
   "source": []
  },
  {
   "cell_type": "code",
   "execution_count": null,
   "id": "02a3a025",
   "metadata": {},
   "outputs": [],
   "source": []
  },
  {
   "cell_type": "code",
   "execution_count": 4,
   "id": "7259613e",
   "metadata": {},
   "outputs": [],
   "source": [
    "list_tavola = [\n",
    "    # أدوات المطبخ \n",
    "    \n",
    "    [\n",
    "    'https://www.tavolashop.com/sa-ar/kitchen-tools/essential-kitchen-utensils/utensil-sets?p=', 2\n",
    "    ],\n",
    "    [\n",
    "    'https://www.tavolashop.com/sa-ar/kitchen-tools/essential-kitchen-utensils/spatulas-turners?p=', 3\n",
    "    ],\n",
    "    [\n",
    "    'https://www.tavolashop.com/sa-ar/kitchen-tools/essential-kitchen-utensils/spoons-ladles?p=', 2\n",
    "    ],\n",
    "    [   \n",
    "    'https://www.tavolashop.com/sa-ar/kitchen-tools/essential-kitchen-utensils/whisks-brushes?p=?p=', 2\n",
    "    ],\n",
    "    [\n",
    "    'https://www.tavolashop.com/sa-ar/kitchen-tools/food-preparation-tools/mandolines-slicers?p=', 2\n",
    "    ],\n",
    "    [\n",
    "    'https://www.tavolashop.com/sa-ar/kitchen-tools/food-preparation-tools/spiralizers-corers?p=', 2\n",
    "    ],\n",
    "    [\n",
    "    'https://www.tavolashop.com/sa-ar/kitchen-tools/food-preparation-tools/graters-zesters?p=', 2\n",
    "    ],\n",
    "    [\n",
    "    'https://www.tavolashop.com/sa-ar/kitchen-tools/food-preparation-tools/peelers?p=', 2\n",
    "    ],\n",
    "    \n",
    "    [\n",
    "    'https://www.tavolashop.com/sa-ar/kitchen-tools/food-preparation-tools/choppers-presses?p=', 3\n",
    "    ],\n",
    "    [\n",
    "    'https://www.tavolashop.com/sa-ar/kitchen-tools/food-preparation-tools/ricers-mashers?p=', 2\n",
    "    ],\n",
    "    [\n",
    "    'https://www.tavolashop.com/sa-ar/kitchen-tools/food-preparation-tools/colanders-strainers?p=', 3\n",
    "    ],\n",
    "    [   \n",
    "    'https://www.tavolashop.com/sa-ar/kitchen-tools/food-preparation-tools/mixing-bowls?p=', 2\n",
    "    ],\n",
    "    [\n",
    "    'https://www.tavolashop.com/sa-ar/kitchen-tools/food-preparation-tools/measuring-cups-spoons-jars?p=', 2\n",
    "    ],\n",
    "    [\n",
    "    'https://www.tavolashop.com/sa-ar/kitchen-tools/food-preparation-tools/tongs-forks?p=', 2\n",
    "    ],\n",
    "    [\n",
    "    'https://www.tavolashop.com/sa-ar/kitchen-tools/food-preparation-tools/chopping-boards?p=', 2\n",
    "    ],\n",
    "    [\n",
    "    'https://www.tavolashop.com/sa-ar/kitchen-tools/essential-tools-gadgets/kitchen-scales?p=', 2\n",
    "    ],\n",
    "    \n",
    "    [\n",
    "    'https://www.tavolashop.com/sa-ar/kitchen-tools/essential-tools-gadgets/thermometers-timers?p=', 2\n",
    "    ],\n",
    "    [\n",
    "    'https://www.tavolashop.com/sa-ar/kitchen-tools/essential-tools-gadgets/can-jar-openers?p=', 2\n",
    "    ],\n",
    "    [\n",
    "    'https://www.tavolashop.com/sa-ar/kitchen-tools/speciality-tools/salad-tools?p=', 4\n",
    "    ],\n",
    "    [   \n",
    "    'https://www.tavolashop.com/sa-ar/kitchen-tools/speciality-tools/garlic-herb-tools?p=', 3\n",
    "    ],\n",
    "    [\n",
    "    'https://www.tavolashop.com/sa-ar/kitchen-tools/speciality-tools/fruit-citrus-tools?p=', 3\n",
    "    ],\n",
    "    [\n",
    "    'https://www.tavolashop.com/sa-ar/kitchen-tools/speciality-tools/meat-poultry-tools?p=', 3\n",
    "    ],\n",
    "\n",
    "    [\n",
    "    'https://www.tavolashop.com/sa-ar/kitchen-tools/speciality-tools/kitchen-textiles?p=', 2\n",
    "    ],\n",
    "    [\n",
    "    'https://www.tavolashop.com/sa-ar/kitchen-tools/speciality-tools/flour-tools?p=', 2\n",
    "    ],\n",
    "    \n",
    "    [\n",
    "    'https://www.tavolashop.com/sa-ar/kitchen-tools/speciality-tools/pizza-pasta-tools?p=', 3\n",
    "    ],\n",
    "    [\n",
    "    'https://www.tavolashop.com/sa-ar/kitchen-tools/speciality-tools/grill-tools?p=', 3\n",
    "    ],\n",
    "    [\n",
    "    'https://www.tavolashop.com/sa-ar/kitchen-tools/speciality-tools/chef-torches?p=', 2\n",
    "    ],\n",
    "    [   \n",
    "    'https://www.tavolashop.com/sa-ar/kitchen-tools/speciality-tools/egg-tools?p=', 2\n",
    "    ],\n",
    "    [\n",
    "    'https://www.tavolashop.com/sa-ar/kitchen-tools/seasoning-oil/salt-pepper-mills?p=', 2\n",
    "    ],\n",
    "    [\n",
    "    'https://www.tavolashop.com/sa-ar/kitchen-tools/seasoning-oil/spice-shakers-nut-tools?p=', 2\n",
    "    ],\n",
    "    [\n",
    "    'https://www.tavolashop.com/sa-ar/kitchen-tools/seasoning-oil/oil-vinegar-dispensers?p=', 2\n",
    "    ],\n",
    "    [\n",
    "    'https://www.tavolashop.com/sa-ar/kitchen-tools/seasoning-oil/mortars-pestles?p=', 2\n",
    "    ],\n",
    "    [\n",
    "    'https://www.tavolashop.com/sa-ar/kitchen-tools/storage-organization/food-storage-jars-containers?p=', 3\n",
    "    ],\n",
    "    [\n",
    "    'https://www.tavolashop.com/sa-ar/kitchen-tools/storage-organization/food-covers?p=', 2\n",
    "    ],\n",
    "    [\n",
    "    'https://www.tavolashop.com/sa-ar/kitchen-tools/storage-organization/bread-bins?p=', 2\n",
    "    ],\n",
    "    [\n",
    "    'https://www.tavolashop.com/sa-ar/kitchen-tools/storage-organization/utensil-holders?p=', 2\n",
    "    ],\n",
    "    [\n",
    "    'https://www.tavolashop.com/sa-ar/kitchen-tools/beverage-tools/water-filters-bottles?p=', 3\n",
    "    ],\n",
    "    [\n",
    "    'https://www.tavolashop.com/sa-ar/kitchen-tools/beverage-tools/carbonated-drink-makers?p=', 2\n",
    "    ],\n",
    "    [\n",
    "    'https://www.tavolashop.com/sa-ar/kitchen-tools/beverage-tools/ice-cube-trays?p=', 2\n",
    "    ],\n",
    "    \n",
    "    # أدوات الخبز \n",
    "    \n",
    "    [\n",
    "    'https://www.tavolashop.com/sa-ar/bakeware/baking-tools/baking-pastry-tools?p=', 3\n",
    "    ],\n",
    "    [\n",
    "    'https://www.tavolashop.com/sa-ar/bakeware/baking-tools/baking-cups-wraps?p=', 2\n",
    "    ],\n",
    "\n",
    "    [\n",
    "    'https://www.tavolashop.com/sa-ar/bakeware/baking-tools/weighing-measuring-tools?p=', 2\n",
    "    ],\n",
    "    [\n",
    "    'https://www.tavolashop.com/sa-ar/bakeware/baking-tools/cookie-cutters-accessories?p=', 6\n",
    "    ],\n",
    "    [\n",
    "    'https://www.tavolashop.com/sa-ar/bakeware/baking-tools/cooling-racks?p=', 2\n",
    "    ],\n",
    "    [\n",
    "    'https://www.tavolashop.com/sa-ar/bakeware/baking-tools/rolling-pins-baking-mats?p=', 2\n",
    "    ],\n",
    "    [\n",
    "    'https://www.tavolashop.com/sa-ar/bakeware/baking-tools/baking-pastry-tools?p=',3\n",
    "    ],\n",
    "    \n",
    "    #  تقديم وحفظ الحلويات \n",
    "    \n",
    "    [\n",
    "    'https://www.tavolashop.com/sa-ar/bakeware/display-storage/cake-cupcake-stands?p=',3\n",
    "    ],\n",
    "    [\n",
    "    'https://www.tavolashop.com/sa-ar/bakeware/display-storage/cake-cupcake-boxes?p=',3\n",
    "    ],\n",
    "    [\n",
    "    'https://www.tavolashop.com/sa-ar/bakeware/display-storage/cookie-boxes?p=',3\n",
    "    ],\n",
    "    [\n",
    "    'https://www.tavolashop.com/sa-ar/bakeware/display-storage/candy-boxes-wrappers?p=',3\n",
    "    ],\n",
    "    [\n",
    "    'https://www.tavolashop.com/sa-ar/bakeware/display-storage/treat-bags-boxes?p=',3\n",
    "    ],\n",
    "    [\n",
    "    'https://www.tavolashop.com/sa-ar/bakeware/display-storage/cake-carriers-storage?p=',3\n",
    "    ],\n",
    "    \n",
    "    \n",
    "    \n",
    "    \n",
    "    \n",
    "    \n",
    "    \n",
    "    \n",
    "    \n",
    "    \n",
    "    \n",
    "    \n",
    "]"
   ]
  },
  {
   "cell_type": "code",
   "execution_count": 34,
   "id": "ab87aa96",
   "metadata": {},
   "outputs": [],
   "source": [
    "tto = pd.read_excel('/home/wafistos/Documents/Projects/scaping_wafi/tavolashop/tavolashop-cat_toto.xlsx')   "
   ]
  },
  {
   "cell_type": "code",
   "execution_count": 37,
   "id": "175f55c6",
   "metadata": {},
   "outputs": [
    {
     "data": {
      "text/html": [
       "<div>\n",
       "<style scoped>\n",
       "    .dataframe tbody tr th:only-of-type {\n",
       "        vertical-align: middle;\n",
       "    }\n",
       "\n",
       "    .dataframe tbody tr th {\n",
       "        vertical-align: top;\n",
       "    }\n",
       "\n",
       "    .dataframe thead th {\n",
       "        text-align: right;\n",
       "    }\n",
       "</style>\n",
       "<table border=\"1\" class=\"dataframe\">\n",
       "  <thead>\n",
       "    <tr style=\"text-align: right;\">\n",
       "      <th></th>\n",
       "      <th>url</th>\n",
       "      <th>cat1</th>\n",
       "      <th>cat2</th>\n",
       "      <th>cat3</th>\n",
       "    </tr>\n",
       "  </thead>\n",
       "  <tbody>\n",
       "  </tbody>\n",
       "</table>\n",
       "</div>"
      ],
      "text/plain": [
       "Empty DataFrame\n",
       "Columns: [url, cat1, cat2, cat3]\n",
       "Index: []"
      ]
     },
     "execution_count": 37,
     "metadata": {},
     "output_type": "execute_result"
    }
   ],
   "source": [
    "tto.loc[tto['url'].isin(list_magento)]"
   ]
  },
  {
   "cell_type": "code",
   "execution_count": 39,
   "id": "5fee979e",
   "metadata": {},
   "outputs": [
    {
     "data": {
      "text/plain": [
       "0       https://www.tavolashop.com/sa-ar/wmf-profi-res...\n",
       "1       https://www.tavolashop.com/sa-ar/scanpan-class...\n",
       "2       https://www.tavolashop.com/sa-ar/scanpan-class...\n",
       "3       https://www.tavolashop.com/sa-ar/scanpan-class...\n",
       "4       https://www.tavolashop.com/sa-ar/wmf-profi-res...\n",
       "                              ...                        \n",
       "4174    https://www.tavolashop.com/sa-ar/packit-freeza...\n",
       "4175    https://www.tavolashop.com/sa-ar/packit-freeza...\n",
       "4176    https://www.tavolashop.com/sa-ar/packit-freeza...\n",
       "4177    https://www.tavolashop.com/sa-ar/alfi-outdoor-...\n",
       "4178    https://www.tavolashop.com/sa-ar/opinel-foldin...\n",
       "Name: url, Length: 4179, dtype: object"
      ]
     },
     "execution_count": 39,
     "metadata": {},
     "output_type": "execute_result"
    }
   ],
   "source": [
    "tto['url']"
   ]
  },
  {
   "cell_type": "code",
   "execution_count": 38,
   "id": "fb88698f",
   "metadata": {},
   "outputs": [
    {
     "data": {
      "text/plain": [
       "['https://www.tavolashop.com/om-ar/joseph-joseph-goavocado-3-in-1-avocado-tool',\n",
       " 'https://www.tavolashop.com/om-ar/joseph-joseph-spiro-3-in-1-handheld-spiralizer',\n",
       " 'https://www.tavolashop.com/om-ar/all-cheese-rotary-grater',\n",
       " 'https://www.tavolashop.com/om-ar/joseph-joseph-twistgrater-2-in-1-coarse-and-fine-grater-with-adjustable-handle',\n",
       " 'https://www.tavolashop.com/om-ar/joseph-joseph-shred-line-garlic-and-ginger-grater',\n",
       " 'https://www.tavolashop.com/om-ar/joseph-joseph-tri-peeler-3-in-1-vegetable-peeler',\n",
       " 'https://www.tavolashop.com/om-ar/zyliss-julienne-peeler-1',\n",
       " 'https://www.tavolashop.com/om-ar/joseph-joseph-multi-peel-straight-peeler',\n",
       " 'https://www.tavolashop.com/om-ar/joseph-joseph-multi-peeltm-y-shaped-juliene-peeler-orange',\n",
       " 'https://www.tavolashop.com/om-ar/zyliss-easy-pull-food-processor',\n",
       " 'https://www.tavolashop.com/om-ar/gefu-herb-scissors-with-cleaning-comb',\n",
       " 'https://www.tavolashop.com/om-ar/wmf-profi-plus-potato-masher',\n",
       " 'https://www.tavolashop.com/om-ar/01-liv-stainless-steel-tea-strainer-yezi',\n",
       " 'https://www.tavolashop.com/om-ar/wmf-profi-plus-pasta-serving-spoon',\n",
       " 'https://www.tavolashop.com/om-ar/wmf-profi-plus-mesh-wok-strainer',\n",
       " 'https://www.tavolashop.com/om-ar/kitchencraft-bowls-set-of-4',\n",
       " 'https://www.tavolashop.com/om-ar/joseph-joseph-elevate-tongs',\n",
       " 'https://www.tavolashop.com/om-ar/wmf-nuova-pasta-tongs',\n",
       " 'https://www.tavolashop.com/om-ar/wmf-roast-thermometer',\n",
       " 'https://www.tavolashop.com/om-ar/gefu-digital-thermometer-scala',\n",
       " 'https://www.tavolashop.com/om-ar/gefu-oven-thermometer',\n",
       " 'https://www.tavolashop.com/om-ar/gefu-digital-timer',\n",
       " 'https://www.tavolashop.com/om-ar/joseph-joseph-spiro-3-in-1-handheld-spiralizer',\n",
       " 'https://www.tavolashop.com/om-ar/joseph-joseph-tri-peeler-3-in-1-vegetable-peeler',\n",
       " 'https://www.tavolashop.com/om-ar/joseph-joseph-twistgrater-2-in-1-coarse-and-fine-grater-with-adjustable-handle',\n",
       " 'https://www.tavolashop.com/om-ar/zyliss-easy-pull-food-processor',\n",
       " 'https://www.tavolashop.com/om-ar/gefu-herb-scissors-with-cleaning-comb',\n",
       " 'https://www.tavolashop.com/om-ar/joseph-joseph-shred-line-garlic-and-ginger-grater',\n",
       " 'https://www.tavolashop.com/om-ar/joseph-joseph-multi-peel-straight-peeler',\n",
       " 'https://www.tavolashop.com/om-ar/joseph-joseph-multi-peeltm-y-shaped-juliene-peeler-orange',\n",
       " 'https://www.tavolashop.com/om-ar/zyliss-easy-pull-food-processor',\n",
       " 'https://www.tavolashop.com/om-ar/gefu-herb-scissors-with-cleaning-comb',\n",
       " 'https://www.tavolashop.com/om-ar/joseph-joseph-shred-line-garlic-and-ginger-grater',\n",
       " 'https://www.tavolashop.com/om-ar/kilner-spice-jar',\n",
       " 'https://www.tavolashop.com/om-ar/joseph-joseph-goavocado-3-in-1-avocado-tool',\n",
       " 'https://www.tavolashop.com/om-ar/kitchencraft-masterclass-single-oven-glove',\n",
       " 'https://www.tavolashop.com/om-ar/wmf-roast-thermometer',\n",
       " 'https://www.tavolashop.com/om-ar/gefu-digital-thermometer-scala',\n",
       " 'https://www.tavolashop.com/om-ar/made-sustained-re-sack-reusable-fruit-and-vegetable-bag-2-piece-set',\n",
       " 'https://www.tavolashop.com/om-ar/kitchencraft-masterclass-single-oven-glove',\n",
       " 'https://www.tavolashop.com/om-ar/wilton-silicone-baking-mat',\n",
       " 'https://www.tavolashop.com/om-ar/wilton-roll-n-cut-mat',\n",
       " 'https://www.tavolashop.com/om-ar/wilton-silicone-baking-mat',\n",
       " 'https://www.tavolashop.com/om-ar/wilton-roll-n-cut-mat',\n",
       " 'https://www.tavolashop.com/om-ar/joseph-joseph-twistgrater-2-in-1-coarse-and-fine-grater-with-adjustable-handle',\n",
       " 'https://www.tavolashop.com/om-ar/zyliss-pasta-tong',\n",
       " 'https://www.tavolashop.com/om-ar/marcato-pasta-drying-rack-tacapasta',\n",
       " 'https://www.tavolashop.com/om-ar/wilton-pastry-wheel',\n",
       " 'https://www.tavolashop.com/om-ar/wmf-profi-plus-pasta-serving-spoon',\n",
       " 'https://www.tavolashop.com/om-ar/wmf-nuova-pasta-tongs',\n",
       " 'https://www.tavolashop.com/kw-ar/joseph-joseph-cupboardstore-compact-tiered-organiser',\n",
       " 'https://www.tavolashop.com/kw-ar/joseph-joseph-easy-teartm-dark-grey-grey-kitchen-roll-holder-with-tearing-blade',\n",
       " 'https://www.tavolashop.com/kw-ar/simplehuman-tension-arm-kitchen-roll-holder',\n",
       " 'https://www.tavolashop.com/kw-ar/hydro-flask-vacuum-bottle-with-wide-mouth',\n",
       " 'https://www.tavolashop.com/kw-ar/zoku-ice-sphere-mold-black-set-of-2',\n",
       " 'https://www.tavolashop.com/kw-ar/wilton-performance-pans-round-pan-12-x-2-in',\n",
       " 'https://www.tavolashop.com/kw-ar/nordic-ware-jubilee-gold-bundt-pan',\n",
       " 'https://www.tavolashop.com/kw-ar/nordic-ware-crown-bundt-pan',\n",
       " 'https://www.tavolashop.com/kw-ar/kaiser-inspiration-flan-pan-28cm',\n",
       " 'https://www.tavolashop.com/kw-ar/silikomart-mini-tart-sand-kit-6-cavities',\n",
       " 'https://www.tavolashop.com/kw-ar/chicago-metallic-maryann-cake-pan-27cm',\n",
       " 'https://www.tavolashop.com/kw-ar/kaiser-12-cup-standard-muffin-pan',\n",
       " 'https://www.tavolashop.com/kw-ar/wilton-excelle-eliter-non-stick-6-cup-muffin-pan',\n",
       " 'https://www.tavolashop.com/kw-ar/silikomart-3d-mini-weave-mold',\n",
       " 'https://www.tavolashop.com/kw-ar/nordic-ware-mini-angel-food-pan',\n",
       " 'https://www.tavolashop.com/kw-ar/nordic-ware-smiley-face-pan',\n",
       " 'https://www.tavolashop.com/kw-ar/wilton-checkerboard-cake-set',\n",
       " 'https://www.tavolashop.com/kw-ar/wilton-easy-layers-square-cake-pan-set-6-in',\n",
       " 'https://www.tavolashop.com/kw-ar/wilton-emoji-standard-baking-cups',\n",
       " 'https://www.tavolashop.com/kw-ar/wilton-versa-tools-measure-mix-spoon',\n",
       " 'https://www.tavolashop.com/kw-ar/wilton-50-pc-animal-pals-cutter-set',\n",
       " 'https://www.tavolashop.com/kw-ar/birkmann-handbag-cutter-with-detailing',\n",
       " 'https://www.tavolashop.com/kw-ar/birkmann-german-shepherd-cutter',\n",
       " 'https://www.tavolashop.com/kw-ar/birkmann-pug-cutter',\n",
       " 'https://www.tavolashop.com/kw-ar/birkmann-hand-cutter-6-5cm',\n",
       " 'https://www.tavolashop.com/kw-ar/birkmann-saxophone-cutter',\n",
       " 'https://www.tavolashop.com/kw-ar/decora-princess-cookie-cutter-set-2pcs',\n",
       " 'https://www.tavolashop.com/kw-ar/wilton-oblong-cake-and-cupcake-caddy',\n",
       " 'https://www.tavolashop.com/kw-ar/wilton-orange-icing-color',\n",
       " 'https://www.tavolashop.com/kw-ar/wilton-black-icing-color',\n",
       " 'https://www.tavolashop.com/kw-ar/nordic-ware-mini-angel-food-pan',\n",
       " 'https://www.tavolashop.com/kw-ar/wilton-candy-melts-candy-mold-set',\n",
       " 'https://www.tavolashop.com/kw-ar/fiesta-pump-powder-pearl-gold-10g',\n",
       " 'https://www.tavolashop.com/kw-ar/birkmann-german-shepherd-cutter',\n",
       " 'https://www.tavolashop.com/kw-ar/birkmann-pug-cutter',\n",
       " 'https://www.tavolashop.com/kw-ar/birkmann-hand-cutter-6-5cm',\n",
       " 'https://www.tavolashop.com/kw-ar/wilton-versa-tools-measure-mix-spoon',\n",
       " 'https://www.tavolashop.com/kw-ar/silikomart-3d-choco-heart-mold',\n",
       " 'https://www.tavolashop.com/kw-ar/wilton-gold-dot-birthday-candles-pack-of-12',\n",
       " 'https://www.tavolashop.com/kw-ar/wilton-drawstring-lollipop-bag',\n",
       " 'https://www.tavolashop.com/kw-ar/birkmann-saxophone-cutter',\n",
       " 'https://www.tavolashop.com/kw-ar/pme-football-soccer-topper-set',\n",
       " 'https://www.tavolashop.com/kw-ar/instant-pot-duo-6-5-7l',\n",
       " 'https://www.tavolashop.com/kw-ar/wmf-barista-cappuccino-cup-saucer',\n",
       " 'https://www.tavolashop.com/kw-ar/instant-pot-duo-8-8l',\n",
       " 'https://www.tavolashop.com/kw-ar/instant-pot-duo-plus-6-5-7l',\n",
       " 'https://www.tavolashop.com/kw-ar/instant-pot-duo-plus-8-8l',\n",
       " 'https://www.tavolashop.com/kw-ar/bodum-pavina-outdoor-double-wall-tumbler-250ml',\n",
       " 'https://www.tavolashop.com/kw-ar/silikomart-3d-gemma-mold-1-6l',\n",
       " 'https://www.tavolashop.com/kw-ar/wilton-checkerboard-cake-set',\n",
       " 'https://www.tavolashop.com/kw-ar/wilton-orange-icing-color',\n",
       " 'https://www.tavolashop.com/kw-ar/wilton-black-icing-color',\n",
       " 'https://www.tavolashop.com/kw-ar/pme-football-soccer-topper-set',\n",
       " 'https://www.tavolashop.com/kw-ar/nordic-ware-jubilee-gold-bundt-pan',\n",
       " 'https://www.tavolashop.com/kw-ar/silikomart-3d-mini-weave-mold',\n",
       " 'https://www.tavolashop.com/kw-ar/wilton-high-and-low-turntable',\n",
       " 'https://www.tavolashop.com/kw-ar/wilton-dessert-decorator-plus',\n",
       " 'https://www.tavolashop.com/kw-ar/wilton-fondant-ribbon-cutter-25-piece-set',\n",
       " 'https://www.tavolashop.com/kw-ar/wilton-fern-fondant-and-gum-paste-mold',\n",
       " 'https://www.tavolashop.com/kw-ar/wilton-fern-fondant-and-gum-paste-mold',\n",
       " 'https://www.tavolashop.com/kw-ar/fiesta-pump-powder-pearl-gold-10g',\n",
       " 'https://www.tavolashop.com/kw-ar/wilton-brown-icing-color',\n",
       " 'https://www.tavolashop.com/kw-ar/wilton-orange-icing-color',\n",
       " 'https://www.tavolashop.com/kw-ar/wilton-lemon-yellow-icing-color',\n",
       " 'https://www.tavolashop.com/kw-ar/wilton-black-icing-color',\n",
       " 'https://www.tavolashop.com/kw-ar/pme-natural-juniper-green-icing-color',\n",
       " 'https://www.tavolashop.com/kw-ar/wilton-pink-icing-color',\n",
       " 'https://www.tavolashop.com/kw-ar/wilton-rose-icing-color',\n",
       " 'https://www.tavolashop.com/kw-ar/wilton-violet-icing-color',\n",
       " 'https://www.tavolashop.com/kw-ar/wilton-royal-blue-icing-color',\n",
       " 'https://www.tavolashop.com/kw-ar/wilton-leaf-green-icing-color',\n",
       " 'https://www.tavolashop.com/kw-ar/wilton-red-red-icing-color',\n",
       " 'https://www.tavolashop.com/kw-ar/fiesta-organic-vanilla-extract-200g',\n",
       " 'https://www.tavolashop.com/kw-ar/hario-wood-coffee-mill',\n",
       " 'https://www.tavolashop.com/kw-ar/aerolatte-cappuccino-art-stencils-6-designs',\n",
       " 'https://www.tavolashop.com/kw-ar/wmf-impulse-tea-flask-1l-stainless-steel',\n",
       " 'https://www.tavolashop.com/kw-ar/asa-a-table-tea-cup-and-saucer',\n",
       " 'https://www.tavolashop.com/kw-ar/asa-a-table-espresso-cup-and-saucer',\n",
       " 'https://www.tavolashop.com/kw-ar/wmf-barista-cappuccino-cup-saucer',\n",
       " 'https://www.tavolashop.com/kw-ar/bodum-pavina-outdoor-double-wall-tumbler-250ml',\n",
       " 'https://www.tavolashop.com/kw-ar/bodum-pavina-outdoor-double-wall-tumbler-350ml',\n",
       " 'https://www.tavolashop.com/kw-ar/bodum-assam-double-wall-glass-2-piece-set-100ml',\n",
       " 'https://www.tavolashop.com/kw-ar/wmf-nuova-coffee-spoon-set',\n",
       " 'https://www.tavolashop.com/kw-ar/wmf-silk-30-piece-cutlery-set',\n",
       " 'https://www.tavolashop.com/kw-ar/wmf-nuova-cake-set-13-pieces',\n",
       " 'https://www.tavolashop.com/kw-ar/wmf-nuova-long-drink-spoon-set',\n",
       " 'https://www.tavolashop.com/kw-ar/wmf-nuova-egg-spoon-set',\n",
       " 'https://www.tavolashop.com/kw-ar/wmf-nuova-soup-spoon-set',\n",
       " 'https://www.tavolashop.com/kw-ar/wmf-palermo-66-piece-cutlery-set',\n",
       " 'https://www.tavolashop.com/kw-ar/kitchencraft-artesa-mini-sauce-boat-2-piece-set',\n",
       " 'https://www.tavolashop.com/kw-ar/asa-a-table-sauce-boat-15-2-cm',\n",
       " 'https://www.tavolashop.com/kw-ar/wmf-nuova-cake-set-13-pieces',\n",
       " 'https://www.tavolashop.com/kw-ar/wmf-nuova-dessert-set',\n",
       " 'https://www.tavolashop.com/kw-ar/wmf-nuova-pasta-tongs',\n",
       " 'https://www.tavolashop.com/kw-ar/asa-grande-sauce-jug',\n",
       " 'https://www.tavolashop.com/kw-ar/corkcicle-straws-with-brush-gold-set-of-3',\n",
       " 'https://www.tavolashop.com/kw-ar/bodum-pavina-outdoor-double-wall-tumbler-250ml',\n",
       " 'https://www.tavolashop.com/kw-ar/bodum-pavina-outdoor-double-wall-tumbler-350ml',\n",
       " 'https://www.tavolashop.com/kw-ar/chilewich-kaleidoscope-placemat-gunmetal',\n",
       " 'https://www.tavolashop.com/kw-ar/chilewich-tuxedo-stripe-gold-placemat',\n",
       " 'https://www.tavolashop.com/kw-ar/chilewich-ombre-placemat-gold',\n",
       " 'https://www.tavolashop.com/kw-ar/chilewich-pressed-dahlia-round-placemat-silver',\n",
       " 'https://www.tavolashop.com/kw-ar/chilewich-interlace-placemat-36x48cm-sapphire',\n",
       " 'https://www.tavolashop.com/kw-ar/chilewich-pressed-vinyl-dahlia-gunmetal-placemat',\n",
       " 'https://www.tavolashop.com/kw-ar/chilewich-metallic-lace-silver-placemat',\n",
       " 'https://www.tavolashop.com/kw-ar/peugeot-daman-salt-mill-16-cm',\n",
       " 'https://www.tavolashop.com/kw-ar/asa-grande-dinner-plate-29-cm',\n",
       " 'https://www.tavolashop.com/kw-ar/asa-saison-dinner-plate-27-cm-grey',\n",
       " 'https://www.tavolashop.com/kw-ar/asa-kolibri-low-bowl-chestnut',\n",
       " 'https://www.tavolashop.com/kw-ar/asa-saison-bowl-21-cm-grey',\n",
       " 'https://www.tavolashop.com/kw-ar/kitchencraft-bowls-set-of-4',\n",
       " 'https://www.tavolashop.com/kw-ar/ivv-diamante-fruit-bowl-32cm-beige',\n",
       " 'https://www.tavolashop.com/kw-ar/joseph-joseph-bread-bin-with-lid',\n",
       " 'https://www.tavolashop.com/kw-ar/gefu-digital-thermometer-scala',\n",
       " 'https://www.tavolashop.com/kw-ar/becool-city-silver-small-10l',\n",
       " 'https://www.tavolashop.com/kw-ar/becool-city-gold-cooler-bag',\n",
       " 'https://www.tavolashop.com/kw-ar/tweezerman-mini-led-lighted-mirror-15x-magnification',\n",
       " 'https://www.tavolashop.com/kw-ar/tweezerman-procurl-eye-lash-curler',\n",
       " 'https://www.tavolashop.com/kw-ar/tweezerman-rose-gold-slant-tweezer',\n",
       " 'https://www.tavolashop.com/kw-ar/zwilling-j-a-henckels-twinox-combination-nail-scissors-9cm',\n",
       " 'https://www.tavolashop.com/kw-ar/tweezerman-precision-eye-lash-curler',\n",
       " 'https://www.tavolashop.com/kw-ar/tweezerman-petite-tweezer-set',\n",
       " 'https://www.tavolashop.com/kw-ar/tweezerman-gear-moustache-scissors-and-comb-set',\n",
       " 'https://www.tavolashop.com/kw-ar/simplehuman-bin-liner-h-pack',\n",
       " 'https://www.tavolashop.com/kw-ar/simplehuman-bin-liner-m-pack',\n",
       " 'https://www.tavolashop.com/kw-ar/joseph-joseph-c-pump-soap-dispenser',\n",
       " 'https://www.tavolashop.com/kw-ar/joseph-joseph-cupboardstore-compact-tiered-organiser',\n",
       " 'https://www.tavolashop.com/kw-ar/joseph-joseph-cupboardstore-expandable-3-tiered-organiser-grey',\n",
       " 'https://www.tavolashop.com/kw-ar/joseph-joseph-cleantech-scrubber-blue-pack-of-2',\n",
       " 'https://www.tavolashop.com/kw-ar/joseph-joseph-cleantech-scrubber-green-pack-of-2',\n",
       " 'https://www.tavolashop.com/kw-ar/joseph-joseph-cleantech-brush-blue-set-of-2',\n",
       " 'https://www.tavolashop.com/kw-ar/joseph-joseph-cleantech-brush-green-set-of-2',\n",
       " 'https://www.tavolashop.com/kw-ar/hydro-flask-vacuum-bottle-with-wide-mouth',\n",
       " 'https://www.tavolashop.com/kw-ar/bodum-black-travel-press-with-extra-lid-350-ml',\n",
       " 'https://www.tavolashop.com/kw-ar/lekue-jar-to-go-600-ml-coral',\n",
       " 'https://www.tavolashop.com/kw-ar/zwilling-j-a-henckels-twin-nova-6-piece-cookware-set',\n",
       " 'https://www.tavolashop.com/kw-ar/zwilling-j-a-henckels-twinr-specials-pasta-or-asparagus-pot-16-cm',\n",
       " 'https://www.tavolashop.com/kw-ar/instant-pot-duo-6-5-7l',\n",
       " 'https://www.tavolashop.com/kw-ar/instant-pot-duo-8-8l',\n",
       " 'https://www.tavolashop.com/kw-ar/instant-pot-duo-plus-6-5-7l',\n",
       " 'https://www.tavolashop.com/kw-ar/instant-pot-duo-plus-8-8l',\n",
       " 'https://www.tavolashop.com/kw-ar/kuvings-citrus-juice-attachment',\n",
       " 'https://www.tavolashop.com/kw-ar/kuvings-ice-cream-strainer-for-kuvings-whole-slow-juicer',\n",
       " 'https://www.tavolashop.com/kw-ar/kuvings-smoothie-strainer-for-b6000-whole-slow-juicer',\n",
       " 'https://www.tavolashop.com/kw-ar/bamix-m180-deluxe-hand-blender-white',\n",
       " 'https://www.tavolashop.com/kw-ar/instant-pot-duo-6-5-7l',\n",
       " 'https://www.tavolashop.com/kw-ar/instant-pot-duo-8-8l',\n",
       " 'https://www.tavolashop.com/kw-ar/instant-pot-duo-plus-6-5-7l',\n",
       " 'https://www.tavolashop.com/kw-ar/instant-pot-duo-plus-8-8l',\n",
       " 'https://www.tavolashop.com/kw-ar/instant-pot-duo-6-5-7l',\n",
       " 'https://www.tavolashop.com/kw-ar/instant-pot-duo-8-8l',\n",
       " 'https://www.tavolashop.com/kw-ar/instant-pot-duo-plus-6-5-7l',\n",
       " 'https://www.tavolashop.com/kw-ar/instant-pot-duo-plus-8-8l',\n",
       " 'https://www.tavolashop.com/kw-ar/staub-wooden-spreader',\n",
       " 'https://www.tavolashop.com/kw-ar/zwilling-j-a-henckels-twinr-four-star-ii-3-piece-set',\n",
       " 'https://www.tavolashop.com/kw-ar/zwillingr-pro-6-piece-set',\n",
       " 'https://www.tavolashop.com/kw-ar/zwilling-j-a-henckels-twinr-chef-3-piece-set',\n",
       " 'https://www.tavolashop.com/kw-ar/zwilling-j-a-henckels-twin-grip-3-piece-knife-set',\n",
       " 'https://www.tavolashop.com/kw-ar/joseph-joseph-drawerstore-knife-organiser-grey',\n",
       " 'https://www.tavolashop.com/kw-ar/miyabi-pull-through-handheld-knife-sharpener',\n",
       " 'https://www.tavolashop.com/kw-ar/joseph-joseph-rota-folding-knife-sharpner-honer-grey-red',\n",
       " 'https://www.tavolashop.com/kw-ar/joseph-joseph-chop2pot-large-dovegrey',\n",
       " 'https://www.tavolashop.com/kw-ar/joseph-joseph-elevate-carousel-6-piece-set-multicolour',\n",
       " 'https://www.tavolashop.com/kw-ar/joseph-joseph-elevate-carousel-grey-kitchen-utensil-set',\n",
       " 'https://www.tavolashop.com/kw-ar/joseph-joseph-scoop-picktm-jar-spoon-and-fork-set-of-2',\n",
       " 'https://www.tavolashop.com/kw-ar/zwilling-pro-wok-turner-stainless-steel-37cm',\n",
       " 'https://www.tavolashop.com/kw-ar/wmf-profi-plus-mesh-wok-strainer',\n",
       " 'https://www.tavolashop.com/kw-ar/kitchencraft-mini-whisk-set',\n",
       " 'https://www.tavolashop.com/kw-ar/joseph-joseph-twisttm-2-in-1-multi-colour-silicone-whisk',\n",
       " 'https://www.tavolashop.com/kw-ar/joseph-joseph-goavocado-3-in-1-avocado-tool',\n",
       " 'https://www.tavolashop.com/kw-ar/joseph-joseph-spiro-3-in-1-handheld-spiralizer',\n",
       " 'https://www.tavolashop.com/kw-ar/all-cheese-rotary-grater',\n",
       " 'https://www.tavolashop.com/kw-ar/joseph-joseph-twistgrater-2-in-1-coarse-and-fine-grater-with-adjustable-handle',\n",
       " 'https://www.tavolashop.com/kw-ar/joseph-joseph-shred-line-garlic-and-ginger-grater',\n",
       " 'https://www.tavolashop.com/kw-ar/joseph-joseph-tri-peeler-3-in-1-vegetable-peeler',\n",
       " 'https://www.tavolashop.com/kw-ar/zyliss-julienne-peeler-1',\n",
       " 'https://www.tavolashop.com/kw-ar/joseph-joseph-multi-peel-straight-peeler',\n",
       " 'https://www.tavolashop.com/kw-ar/joseph-joseph-multi-peeltm-y-shaped-juliene-peeler-orange',\n",
       " 'https://www.tavolashop.com/kw-ar/joseph-joseph-chop2pot-large-dovegrey',\n",
       " 'https://www.tavolashop.com/kw-ar/zyliss-easy-pull-food-processor',\n",
       " 'https://www.tavolashop.com/kw-ar/gefu-herb-scissors-with-cleaning-comb',\n",
       " 'https://www.tavolashop.com/kw-ar/wmf-profi-plus-potato-masher',\n",
       " 'https://www.tavolashop.com/kw-ar/wmf-profi-plus-pasta-serving-spoon',\n",
       " 'https://www.tavolashop.com/kw-ar/01-liv-stainless-steel-tea-strainer-yezi',\n",
       " 'https://www.tavolashop.com/kw-ar/wmf-profi-plus-mesh-wok-strainer',\n",
       " 'https://www.tavolashop.com/kw-ar/kitchencraft-bowls-set-of-4',\n",
       " 'https://www.tavolashop.com/kw-ar/joseph-joseph-elevate-tongs',\n",
       " 'https://www.tavolashop.com/kw-ar/wmf-nuova-pasta-tongs',\n",
       " 'https://www.tavolashop.com/kw-ar/joseph-joseph-chop2pot-large-dovegrey',\n",
       " 'https://www.tavolashop.com/kw-ar/wmf-roast-thermometer',\n",
       " 'https://www.tavolashop.com/kw-ar/gefu-oven-thermometer',\n",
       " 'https://www.tavolashop.com/kw-ar/gefu-digital-timer',\n",
       " 'https://www.tavolashop.com/kw-ar/gefu-digital-thermometer-scala',\n",
       " 'https://www.tavolashop.com/kw-ar/joseph-joseph-spiro-3-in-1-handheld-spiralizer',\n",
       " 'https://www.tavolashop.com/kw-ar/joseph-joseph-tri-peeler-3-in-1-vegetable-peeler',\n",
       " 'https://www.tavolashop.com/kw-ar/joseph-joseph-twistgrater-2-in-1-coarse-and-fine-grater-with-adjustable-handle',\n",
       " 'https://www.tavolashop.com/kw-ar/zyliss-easy-pull-food-processor',\n",
       " 'https://www.tavolashop.com/kw-ar/gefu-herb-scissors-with-cleaning-comb',\n",
       " 'https://www.tavolashop.com/kw-ar/joseph-joseph-shred-line-garlic-and-ginger-grater',\n",
       " 'https://www.tavolashop.com/kw-ar/joseph-joseph-multi-peel-straight-peeler',\n",
       " 'https://www.tavolashop.com/kw-ar/joseph-joseph-multi-peeltm-y-shaped-juliene-peeler-orange',\n",
       " 'https://www.tavolashop.com/kw-ar/kilner-spice-jar',\n",
       " 'https://www.tavolashop.com/kw-ar/zyliss-easy-pull-food-processor',\n",
       " 'https://www.tavolashop.com/kw-ar/gefu-herb-scissors-with-cleaning-comb',\n",
       " 'https://www.tavolashop.com/kw-ar/joseph-joseph-shred-line-garlic-and-ginger-grater',\n",
       " 'https://www.tavolashop.com/kw-ar/joseph-joseph-goavocado-3-in-1-avocado-tool',\n",
       " 'https://www.tavolashop.com/kw-ar/kitchencraft-masterclass-single-oven-glove',\n",
       " 'https://www.tavolashop.com/kw-ar/wmf-roast-thermometer',\n",
       " 'https://www.tavolashop.com/kw-ar/gefu-digital-thermometer-scala',\n",
       " 'https://www.tavolashop.com/kw-ar/kitchencraft-masterclass-single-oven-glove',\n",
       " 'https://www.tavolashop.com/kw-ar/made-sustained-re-sack-reusable-fruit-and-vegetable-bag-2-piece-set',\n",
       " 'https://www.tavolashop.com/kw-ar/joseph-joseph-twistgrater-2-in-1-coarse-and-fine-grater-with-adjustable-handle',\n",
       " 'https://www.tavolashop.com/kw-ar/wmf-profi-plus-pasta-serving-spoon',\n",
       " 'https://www.tavolashop.com/kw-ar/zyliss-pasta-tong',\n",
       " 'https://www.tavolashop.com/kw-ar/marcato-pasta-drying-rack-tacapasta',\n",
       " 'https://www.tavolashop.com/kw-ar/wmf-nuova-pasta-tongs',\n",
       " 'https://www.tavolashop.com/kw-ar/kitchencraft-masterclass-single-oven-glove',\n",
       " 'https://www.tavolashop.com/kw-ar/gefu-digital-thermometer-scala',\n",
       " 'https://www.tavolashop.com/kw-ar/joseph-joseph-froach-pods-egg-ring-set-2pcs',\n",
       " 'https://www.tavolashop.com/kw-ar/wmf-nuova-egg-spoon-set',\n",
       " 'https://www.tavolashop.com/kw-ar/joseph-joseph-twistgrater-2-in-1-coarse-and-fine-grater-with-adjustable-handle',\n",
       " 'https://www.tavolashop.com/kw-ar/silikomart-mini-vintage-ice-cream-mold',\n",
       " 'https://www.tavolashop.com/kw-ar/zoku-ice-sphere-mold-black-set-of-2',\n",
       " 'https://www.tavolashop.com/kw-ar/silikomart-3d-choco-heart-mold',\n",
       " 'https://www.tavolashop.com/kw-ar/wilton-drawstring-lollipop-bag',\n",
       " 'https://www.tavolashop.com/kw-ar/wilton-candy-melts-candy-mold-set',\n",
       " 'https://www.tavolashop.com/kw-ar/joseph-joseph-spiro-3-in-1-handheld-spiralizer',\n",
       " 'https://www.tavolashop.com/kw-ar/kilner-spice-jar',\n",
       " 'https://www.tavolashop.com/kw-ar/joseph-joseph-nest-lock-storage-container-5-piece-set']"
      ]
     },
     "execution_count": 38,
     "metadata": {},
     "output_type": "execute_result"
    }
   ],
   "source": [
    "list_magento"
   ]
  },
  {
   "cell_type": "code",
   "execution_count": 3,
   "id": "7a5e1a1b",
   "metadata": {},
   "outputs": [],
   "source": [
    "lsit_test = [\n",
    "    'https://www.tavolashop.com/sa-en/joseph-joseph-wash-draintm-dishwashing-bowl-with-straining-plug',\n",
    "    'https://www.tavolashop.com/sa-en/joseph-joseph-index-steel-chopping-board-set'\n",
    "]"
   ]
  },
  {
   "cell_type": "code",
   "execution_count": 10,
   "id": "310a5d16",
   "metadata": {},
   "outputs": [],
   "source": [
    "def extrair_video_url():\n",
    "    url_video = ''\n",
    "    click_videos = driver.find_element_by_css_selector('.wistia-popover\\[height\\=337\\,playerColor\\=7b796a\\,width\\=550\\]')\n",
    "    click_videos.click()\n",
    "    time.sleep(1)\n",
    "    videos = driver.find_elements_by_xpath('//iframe')\n",
    "    for i in videos:\n",
    "        src = i.get_attribute('src')\n",
    "\n",
    "        if 'http' in src:\n",
    "            url_video = src\n",
    "\n",
    "    time.sleep(0.5)\n",
    "    close_videos = driver.find_element_by_class_name('fancybox-item')\n",
    "    close_videos.click()\n",
    "    return url_video"
   ]
  },
  {
   "cell_type": "code",
   "execution_count": 12,
   "id": "d78c1d91",
   "metadata": {},
   "outputs": [
    {
     "ename": "NoSuchElementException",
     "evalue": "Message: Unable to locate element: .wistia-popover\\[height\\=337\\,playerColor\\=7b796a\\,width\\=550\\]\n",
     "output_type": "error",
     "traceback": [
      "\u001b[0;31m---------------------------------------------------------------------------\u001b[0m",
      "\u001b[0;31mNoSuchElementException\u001b[0m                    Traceback (most recent call last)",
      "\u001b[0;32m<ipython-input-12-42322fa2c531>\u001b[0m in \u001b[0;36m<module>\u001b[0;34m\u001b[0m\n\u001b[0;32m----> 1\u001b[0;31m \u001b[0mextrair_video_url\u001b[0m\u001b[0;34m(\u001b[0m\u001b[0;34m)\u001b[0m\u001b[0;34m\u001b[0m\u001b[0;34m\u001b[0m\u001b[0m\n\u001b[0m",
      "\u001b[0;32m<ipython-input-10-022272a72219>\u001b[0m in \u001b[0;36mextrair_video_url\u001b[0;34m()\u001b[0m\n\u001b[1;32m      1\u001b[0m \u001b[0;32mdef\u001b[0m \u001b[0mextrair_video_url\u001b[0m\u001b[0;34m(\u001b[0m\u001b[0;34m)\u001b[0m\u001b[0;34m:\u001b[0m\u001b[0;34m\u001b[0m\u001b[0;34m\u001b[0m\u001b[0m\n\u001b[1;32m      2\u001b[0m     \u001b[0murl_video\u001b[0m \u001b[0;34m=\u001b[0m \u001b[0;34m''\u001b[0m\u001b[0;34m\u001b[0m\u001b[0;34m\u001b[0m\u001b[0m\n\u001b[0;32m----> 3\u001b[0;31m     \u001b[0mclick_videos\u001b[0m \u001b[0;34m=\u001b[0m \u001b[0mdriver\u001b[0m\u001b[0;34m.\u001b[0m\u001b[0mfind_element_by_css_selector\u001b[0m\u001b[0;34m(\u001b[0m\u001b[0;34m'.wistia-popover\\[height\\=337\\,playerColor\\=7b796a\\,width\\=550\\]'\u001b[0m\u001b[0;34m)\u001b[0m\u001b[0;34m\u001b[0m\u001b[0;34m\u001b[0m\u001b[0m\n\u001b[0m\u001b[1;32m      4\u001b[0m     \u001b[0mclick_videos\u001b[0m\u001b[0;34m.\u001b[0m\u001b[0mclick\u001b[0m\u001b[0;34m(\u001b[0m\u001b[0;34m)\u001b[0m\u001b[0;34m\u001b[0m\u001b[0;34m\u001b[0m\u001b[0m\n\u001b[1;32m      5\u001b[0m     \u001b[0mtime\u001b[0m\u001b[0;34m.\u001b[0m\u001b[0msleep\u001b[0m\u001b[0;34m(\u001b[0m\u001b[0;36m1\u001b[0m\u001b[0;34m)\u001b[0m\u001b[0;34m\u001b[0m\u001b[0;34m\u001b[0m\u001b[0m\n",
      "\u001b[0;32m~/anaconda3/lib/python3.8/site-packages/selenium/webdriver/remote/webdriver.py\u001b[0m in \u001b[0;36mfind_element_by_css_selector\u001b[0;34m(self, css_selector)\u001b[0m\n\u001b[1;32m    596\u001b[0m             \u001b[0melement\u001b[0m \u001b[0;34m=\u001b[0m \u001b[0mdriver\u001b[0m\u001b[0;34m.\u001b[0m\u001b[0mfind_element_by_css_selector\u001b[0m\u001b[0;34m(\u001b[0m\u001b[0;34m'#foo'\u001b[0m\u001b[0;34m)\u001b[0m\u001b[0;34m\u001b[0m\u001b[0;34m\u001b[0m\u001b[0m\n\u001b[1;32m    597\u001b[0m         \"\"\"\n\u001b[0;32m--> 598\u001b[0;31m         \u001b[0;32mreturn\u001b[0m \u001b[0mself\u001b[0m\u001b[0;34m.\u001b[0m\u001b[0mfind_element\u001b[0m\u001b[0;34m(\u001b[0m\u001b[0mby\u001b[0m\u001b[0;34m=\u001b[0m\u001b[0mBy\u001b[0m\u001b[0;34m.\u001b[0m\u001b[0mCSS_SELECTOR\u001b[0m\u001b[0;34m,\u001b[0m \u001b[0mvalue\u001b[0m\u001b[0;34m=\u001b[0m\u001b[0mcss_selector\u001b[0m\u001b[0;34m)\u001b[0m\u001b[0;34m\u001b[0m\u001b[0;34m\u001b[0m\u001b[0m\n\u001b[0m\u001b[1;32m    599\u001b[0m \u001b[0;34m\u001b[0m\u001b[0m\n\u001b[1;32m    600\u001b[0m     \u001b[0;32mdef\u001b[0m \u001b[0mfind_elements_by_css_selector\u001b[0m\u001b[0;34m(\u001b[0m\u001b[0mself\u001b[0m\u001b[0;34m,\u001b[0m \u001b[0mcss_selector\u001b[0m\u001b[0;34m)\u001b[0m\u001b[0;34m:\u001b[0m\u001b[0;34m\u001b[0m\u001b[0;34m\u001b[0m\u001b[0m\n",
      "\u001b[0;32m~/anaconda3/lib/python3.8/site-packages/selenium/webdriver/remote/webdriver.py\u001b[0m in \u001b[0;36mfind_element\u001b[0;34m(self, by, value)\u001b[0m\n\u001b[1;32m    974\u001b[0m                 \u001b[0mby\u001b[0m \u001b[0;34m=\u001b[0m \u001b[0mBy\u001b[0m\u001b[0;34m.\u001b[0m\u001b[0mCSS_SELECTOR\u001b[0m\u001b[0;34m\u001b[0m\u001b[0;34m\u001b[0m\u001b[0m\n\u001b[1;32m    975\u001b[0m                 \u001b[0mvalue\u001b[0m \u001b[0;34m=\u001b[0m \u001b[0;34m'[name=\"%s\"]'\u001b[0m \u001b[0;34m%\u001b[0m \u001b[0mvalue\u001b[0m\u001b[0;34m\u001b[0m\u001b[0;34m\u001b[0m\u001b[0m\n\u001b[0;32m--> 976\u001b[0;31m         return self.execute(Command.FIND_ELEMENT, {\n\u001b[0m\u001b[1;32m    977\u001b[0m             \u001b[0;34m'using'\u001b[0m\u001b[0;34m:\u001b[0m \u001b[0mby\u001b[0m\u001b[0;34m,\u001b[0m\u001b[0;34m\u001b[0m\u001b[0;34m\u001b[0m\u001b[0m\n\u001b[1;32m    978\u001b[0m             'value': value})['value']\n",
      "\u001b[0;32m~/anaconda3/lib/python3.8/site-packages/selenium/webdriver/remote/webdriver.py\u001b[0m in \u001b[0;36mexecute\u001b[0;34m(self, driver_command, params)\u001b[0m\n\u001b[1;32m    319\u001b[0m         \u001b[0mresponse\u001b[0m \u001b[0;34m=\u001b[0m \u001b[0mself\u001b[0m\u001b[0;34m.\u001b[0m\u001b[0mcommand_executor\u001b[0m\u001b[0;34m.\u001b[0m\u001b[0mexecute\u001b[0m\u001b[0;34m(\u001b[0m\u001b[0mdriver_command\u001b[0m\u001b[0;34m,\u001b[0m \u001b[0mparams\u001b[0m\u001b[0;34m)\u001b[0m\u001b[0;34m\u001b[0m\u001b[0;34m\u001b[0m\u001b[0m\n\u001b[1;32m    320\u001b[0m         \u001b[0;32mif\u001b[0m \u001b[0mresponse\u001b[0m\u001b[0;34m:\u001b[0m\u001b[0;34m\u001b[0m\u001b[0;34m\u001b[0m\u001b[0m\n\u001b[0;32m--> 321\u001b[0;31m             \u001b[0mself\u001b[0m\u001b[0;34m.\u001b[0m\u001b[0merror_handler\u001b[0m\u001b[0;34m.\u001b[0m\u001b[0mcheck_response\u001b[0m\u001b[0;34m(\u001b[0m\u001b[0mresponse\u001b[0m\u001b[0;34m)\u001b[0m\u001b[0;34m\u001b[0m\u001b[0;34m\u001b[0m\u001b[0m\n\u001b[0m\u001b[1;32m    322\u001b[0m             response['value'] = self._unwrap_value(\n\u001b[1;32m    323\u001b[0m                 response.get('value', None))\n",
      "\u001b[0;32m~/anaconda3/lib/python3.8/site-packages/selenium/webdriver/remote/errorhandler.py\u001b[0m in \u001b[0;36mcheck_response\u001b[0;34m(self, response)\u001b[0m\n\u001b[1;32m    240\u001b[0m                 \u001b[0malert_text\u001b[0m \u001b[0;34m=\u001b[0m \u001b[0mvalue\u001b[0m\u001b[0;34m[\u001b[0m\u001b[0;34m'alert'\u001b[0m\u001b[0;34m]\u001b[0m\u001b[0;34m.\u001b[0m\u001b[0mget\u001b[0m\u001b[0;34m(\u001b[0m\u001b[0;34m'text'\u001b[0m\u001b[0;34m)\u001b[0m\u001b[0;34m\u001b[0m\u001b[0;34m\u001b[0m\u001b[0m\n\u001b[1;32m    241\u001b[0m             \u001b[0;32mraise\u001b[0m \u001b[0mexception_class\u001b[0m\u001b[0;34m(\u001b[0m\u001b[0mmessage\u001b[0m\u001b[0;34m,\u001b[0m \u001b[0mscreen\u001b[0m\u001b[0;34m,\u001b[0m \u001b[0mstacktrace\u001b[0m\u001b[0;34m,\u001b[0m \u001b[0malert_text\u001b[0m\u001b[0;34m)\u001b[0m\u001b[0;34m\u001b[0m\u001b[0;34m\u001b[0m\u001b[0m\n\u001b[0;32m--> 242\u001b[0;31m         \u001b[0;32mraise\u001b[0m \u001b[0mexception_class\u001b[0m\u001b[0;34m(\u001b[0m\u001b[0mmessage\u001b[0m\u001b[0;34m,\u001b[0m \u001b[0mscreen\u001b[0m\u001b[0;34m,\u001b[0m \u001b[0mstacktrace\u001b[0m\u001b[0;34m)\u001b[0m\u001b[0;34m\u001b[0m\u001b[0;34m\u001b[0m\u001b[0m\n\u001b[0m\u001b[1;32m    243\u001b[0m \u001b[0;34m\u001b[0m\u001b[0m\n\u001b[1;32m    244\u001b[0m     \u001b[0;32mdef\u001b[0m \u001b[0m_value_or_default\u001b[0m\u001b[0;34m(\u001b[0m\u001b[0mself\u001b[0m\u001b[0;34m,\u001b[0m \u001b[0mobj\u001b[0m\u001b[0;34m,\u001b[0m \u001b[0mkey\u001b[0m\u001b[0;34m,\u001b[0m \u001b[0mdefault\u001b[0m\u001b[0;34m)\u001b[0m\u001b[0;34m:\u001b[0m\u001b[0;34m\u001b[0m\u001b[0;34m\u001b[0m\u001b[0m\n",
      "\u001b[0;31mNoSuchElementException\u001b[0m: Message: Unable to locate element: .wistia-popover\\[height\\=337\\,playerColor\\=7b796a\\,width\\=550\\]\n"
     ]
    }
   ],
   "source": [
    "extrair_video_url()"
   ]
  },
  {
   "cell_type": "markdown",
   "id": "c7e17358",
   "metadata": {},
   "source": [
    "# fonction "
   ]
  },
  {
   "cell_type": "code",
   "execution_count": 23,
   "id": "94974960",
   "metadata": {},
   "outputs": [
    {
     "name": "stdout",
     "output_type": "stream",
     "text": [
      "*****************************************************************\n",
      "Count: 0\n",
      "Cat1: \n",
      "Cat2: \n",
      "Cat3: \n",
      "preview trouver\n",
      "preview trouver\n",
      "preview trouver\n",
      "preview trouver\n",
      "preview trouver\n",
      "Images: ['https://www.tavolashop.com/media/catalog/product/cache/52fde94c7e92f5761de6797543ff7ff7/w/h/white_wash_drain.jpg', 'https://www.tavolashop.com/media/catalog/product/cache/52fde94c7e92f5761de6797543ff7ff7/l/l/ll_2__0023s_0001_wash_drain_-_in_sink.jpg-3_1.jpeg', 'https://www.tavolashop.com/media/catalog/product/cache/52fde94c7e92f5761de6797543ff7ff7/i/m/image_23_3.jpg', 'https://www.tavolashop.com/media/catalog/product/cache/52fde94c7e92f5761de6797543ff7ff7/i/m/image_26_2.jpg', 'https://www.tavolashop.com/media/catalog/product/cache/52fde94c7e92f5761de6797543ff7ff7/p/a/packaging_2.jpg']\n",
      "Click video 1\n",
      "je suis dans le 2\n",
      "URL video: https://fast.wistia.net/embed/iframe/hiycsye9wj?popover=true\n",
      "Color: __EMPTY__VALUE__\n",
      "Size: None\n",
      "Matter: None\n",
      "*****************************************************************\n",
      "Count: 1\n",
      "Cat1: \n",
      "Cat2: \n",
      "Cat3: \n",
      "preview trouver\n",
      "preview trouver\n",
      "preview trouver\n",
      "preview trouver\n",
      "preview trouver\n",
      "preview trouver\n",
      "preview trouver\n",
      "Images: ['https://www.tavolashop.com/media/catalog/product/cache/52fde94c7e92f5761de6797543ff7ff7/j/j/jj-60095.jpg', 'https://www.tavolashop.com/media/catalog/product/cache/52fde94c7e92f5761de6797543ff7ff7/j/j/jj-60095_1.jpg', 'https://www.tavolashop.com/media/catalog/product/cache/52fde94c7e92f5761de6797543ff7ff7/j/j/jj-60095_3.jpg', 'https://www.tavolashop.com/media/catalog/product/cache/52fde94c7e92f5761de6797543ff7ff7/j/j/jj-60095_4.jpg', 'https://www.tavolashop.com/media/catalog/product/cache/52fde94c7e92f5761de6797543ff7ff7/j/j/jj-60095_5.jpg', 'https://www.tavolashop.com/media/catalog/product/cache/52fde94c7e92f5761de6797543ff7ff7/j/j/jj-60095_6.jpg', 'https://www.tavolashop.com/media/catalog/product/cache/52fde94c7e92f5761de6797543ff7ff7/j/j/jj-60095_7.jpg']\n",
      "Click video 0\n",
      "1\n",
      "Video extract\n",
      "URL video: https://fast.wistia.net/embed/iframe/35sdenx04n\n",
      "Color: __EMPTY__VALUE__\n",
      "Size: None\n",
      "Matter: None\n"
     ]
    }
   ],
   "source": [
    "count = 0\n",
    "list_images = []\n",
    "list_input_title = []\n",
    "list_input_price = []\n",
    "list_input_estimated_shipping = []\n",
    "list_input_products_marque = []\n",
    "list_input_image_marque = []\n",
    "\n",
    "\n",
    "list_input_images1 = []\n",
    "list_input_images2 = []\n",
    "list_input_images3 = []\n",
    "\n",
    "list_input_price_special = []\n",
    "list_input_model = []\n",
    "list_input_size = []\n",
    "list_input_color = []\n",
    "list_input_sku = []\n",
    "list_input_style = []\n",
    "list_input_in_stock = []\n",
    "list_input_mater = []\n",
    "list_input_link_url = []\n",
    "list_input_category1 = []\n",
    "list_input_category2 = []\n",
    "list_input_category3 = []\n",
    "list_input_width = []\n",
    "list_input_height = []\n",
    "list_input_length = []\n",
    "list_input_note = []\n",
    "list_input_overview = []\n",
    "list_input_product_size = []\n",
    "list_tax_class_name = []\n",
    "list_visibility = []\n",
    "list_concatenation = []\n",
    "list_url_video = []\n",
    "list_specifications = []\n",
    "list_mgs_brand = []\n",
    "list_qty = []\n",
    "list_out_of_stock_qty = []\n",
    "list_allow_backorders = []\n",
    "list_product_online = []\n",
    "list_manufacturer = []\n",
    "list_news_from_date = []\n",
    "list_news_to_date = []\n",
    "list_discription = []\n",
    "list_overview = []\n",
    "list_set_include = []\n",
    "\n",
    "note = ''\n",
    "\n",
    "def extrair_video_url():\n",
    "    url_video = ''\n",
    "    click_videos = driver.find_element_by_css_selector('.wistia-popover\\[height\\=337\\,playerColor\\=7b796a\\,width\\=550\\]')\n",
    "    click_videos.click()\n",
    "    time.sleep(1)\n",
    "    videos = driver.find_elements_by_xpath('//iframe')\n",
    "    for i in videos:\n",
    "        src = i.get_attribute('src')\n",
    "\n",
    "        if 'http' in src:\n",
    "            url_video = src\n",
    "          \n",
    "            \n",
    "    time.sleep(0.5)\n",
    "    close_videos = driver.find_element_by_class_name('fancybox-item')\n",
    "    close_videos.click()\n",
    "    return url_video\n",
    "\n",
    "\n",
    "def extrair_img():\n",
    "    url_image = driver.find_element_by_id('preview')\n",
    "    print('preview trouver')\n",
    "    url_image.get_attribute('innerHTML')\n",
    "    soup = BeautifulSoup(url_image.get_attribute('innerHTML'), 'html.parser')\n",
    "    src = soup.find('img')\n",
    "    src = src['src']\n",
    "    return src\n",
    "\n",
    "\n",
    "def extraire_function(word, list_word):\n",
    "    for t in list_word:\n",
    "        if word in t:\n",
    "            return t.replace(word, '').replace(':', '')\n",
    "#**************************************************************************\n",
    "#**************************************************************************\n",
    "#**************************************************************************\n",
    "#**************************************************************************\n",
    "name_excel = 'tavolashop-2products.xlsx'\n",
    "df = pd.read_excel('tavola_model.xlsx')\n",
    "#ForLoop main\n",
    "for i , product in enumerate(lsit_test):\n",
    "    print('*****************************************************************')\n",
    "    print('Count:', i)\n",
    "    try:\n",
    "        driver.get(product)\n",
    "        time.sleep(1)\n",
    "        sku = 'TAV-' +driver.find_element_by_class_name('value').text\n",
    "        \n",
    "    except:\n",
    "        print('pas de produit')\n",
    "        continue\n",
    "    try:\n",
    "        title = driver.find_element_by_class_name('base').text\n",
    "    except:\n",
    "        continue\n",
    "#**************************************************************************\n",
    "\n",
    "\n",
    "    link_url = str(product[0])\n",
    "    try:\n",
    "        in_stock1 = driver.find_element_by_class_name('stock').text\n",
    "    except:\n",
    "        in_stock1 = driver.find_element_by_class_name('available').text\n",
    "    if in_stock1 == 'متوفر':\n",
    "        in_stock  = 1\n",
    "    else:\n",
    "        in_stock = 0\n",
    "#**************************************************************************\n",
    "\n",
    "    \n",
    "#**************************************************************************\n",
    "     \n",
    "    try:\n",
    "        mgs_brand = driver.find_element_by_class_name('brand-link').get_attribute('title')\n",
    "    except:\n",
    "        mgs_brand = ''\n",
    "#**************************************************************************\n",
    "\n",
    "    price = driver.find_element_by_class_name('price').text.replace('SAR', '').split()[0]\n",
    "    old_price = ''\n",
    "    \n",
    "#**************************************************************************\n",
    "    \n",
    "    try:\n",
    "        estimated_shipping = driver.find_element_by_class_name('product_detail_estimated_shipping').text.split(':')[1]\n",
    "    except:\n",
    "        estimated_shipping = '__EMPTY__VALUE__'\n",
    "#**************************************************************************\n",
    "        \n",
    "    try:\n",
    "        products_marque = driver.find_element_by_class_name('brand-link').get_attribute('href')\n",
    "    except:\n",
    "        products_marque = ''\n",
    "    try:\n",
    "        \n",
    "        image_marque = driver.find_element_by_class_name('brand-image').get_attribute('src')\n",
    "    except:\n",
    "        image_marque = ''\n",
    "#**************************************************************************\n",
    "    \n",
    "#     except:\n",
    "#         print('continue')\n",
    "#         continue\n",
    "\n",
    "    \n",
    " # CATEGORY  *******************************************   \n",
    " \n",
    "    try:\n",
    "        category1 = ''\n",
    "    except:\n",
    "        category1 = ''\n",
    "    try:\n",
    "        category2 = ''\n",
    "    except:\n",
    "        category2 = ''\n",
    "    try:\n",
    "        category3 = ''\n",
    "    except: \n",
    "        category3 = ''\n",
    "    print('Cat1:', category1)\n",
    "    print('Cat2:', category2)\n",
    "    print('Cat3:', category3)\n",
    "    # IMAGES ***************************************************\n",
    "    time.sleep(1)\n",
    "    list_images = []\n",
    "    images = driver.find_elements_by_class_name('fotorama__nav__frame--thumb')\n",
    "\n",
    "    if images == []:\n",
    "        image = driver.find_element_by_class_name('fotorama__img').get_attribute('src')\n",
    "        time.sleep(1)\n",
    "        list_images.append(image)\n",
    "    else:\n",
    "        len(images)\n",
    "        for i in images:\n",
    "            try:\n",
    "                \n",
    "                i.click()\n",
    "                time.sleep(0.5)\n",
    "\n",
    "                list_images.append(extrair_img())\n",
    "\n",
    "\n",
    "            except:\n",
    "                print('Pas d images')\n",
    "\n",
    "    print('Images:', list_images)\n",
    "    \n",
    "    # Videos ******************************************************\n",
    "    \n",
    "    try :\n",
    "        click_videos = driver.find_elements_by_xpath(\"//a[contains(@class, 'wistia-popover')]\")\n",
    "        print('Click video', len(click_videos))\n",
    "        if len(click_videos) != 0:\n",
    "            click_videos[0].click()\n",
    "            print('je suis dans le 2')\n",
    "            pip = driver.find_elements_by_xpath('//iframe')\n",
    "            len(pip)\n",
    "            regex = re.compile('^https:*')\n",
    "            for p in pip:\n",
    "                if regex.search(str(p.get_attribute('src'))) != None:\n",
    "                    url_video = p.get_attribute('src')\n",
    "        else:\n",
    "            url_video = ''\n",
    "    except:\n",
    "        url_video = ''\n",
    "    \n",
    "    \n",
    "    if url_video == '':\n",
    "        videos = driver.find_elements_by_xpath('//*[contains(text(),\"Video\")]')\n",
    "        print(len(videos))\n",
    "        if len(videos) != 0:\n",
    "            print('Video extract')\n",
    "            toto = videos[0].get_attribute('innerHTML')\n",
    "            dic = toto.replace('[', '').replace(']', '').replace(\"'\", '')\n",
    "            toto_dic = ast.literal_eval(dic)\n",
    "            url_video = toto_dic['@id']\n",
    "        else:\n",
    "            url_video = ''\n",
    "    print('URL video:', url_video)\n",
    "    time.sleep(1)\n",
    "\n",
    "\n",
    "    # Specifications *******************************************\n",
    "    \n",
    "   # Click and extract discription  *******************************************    \n",
    "    try:\n",
    "        btn_additional = driver.find_element_by_id('tab-label-additional')\n",
    "        driver.execute_script(\"arguments[0].click();\", btn_additional)\n",
    "    except:\n",
    "        pass\n",
    "    try:\n",
    "        additinal = driver.find_element_by_id('additional')\n",
    "        list_additional = additinal.text.split('\\n')\n",
    "    except:\n",
    "        list_additional = ''\n",
    " # Size  *******************************************   \n",
    "\n",
    "\n",
    " # Color  *******************************************   \n",
    "    color = extraire_function('اللون', list_additional)\n",
    "    if color == '':\n",
    "        color = extraire_function('الللون', list_additional)\n",
    "    if color == '' or color == None:\n",
    "        color = '__EMPTY__VALUE__'\n",
    "    print('Color:', color)\n",
    "    \n",
    " # Size  *******************************************   \n",
    "    size = extraire_function('الأبعاد', list_additional)\n",
    "    if size == '':\n",
    "        size = extraire_function('القياسات', list_additional)\n",
    "    if size == '':\n",
    "        size = '__EMPTY__VALUE__'\n",
    "    print('Size:', size)\n",
    "# Matter ***************************************************\n",
    "    matter = extraire_function('المادة', list_additional)\n",
    "\n",
    "    if matter == '':\n",
    "        matter = '__EMPTY__VALUE__'\n",
    "    print('Matter:', matter)\n",
    "\n",
    "#++++++++++++++++++++++++++++++++++++++++++++++++++++++++=\n",
    "\n",
    "    try:\n",
    "        try:\n",
    "            btn_additional = driver.find_element_by_id('tab-label-additional').click()\n",
    "        except:\n",
    "            btn_additional = driver.find_element_by_id('tab-label-additional')\n",
    "            driver.execute_script(\"arguments[0].click();\", btn_additional)\n",
    "            time.sleep(0.5)\n",
    "    except:\n",
    "        continue\n",
    "    try:\n",
    "        specifications = driver.find_element_by_xpath('//td[@data-th=\"Specification\"]').text\n",
    "\n",
    "    except:\n",
    "        specifications = ''\n",
    "    list_specifications.append(specifications)\n",
    "    #  ***************************************************\n",
    "    \n",
    "    try:\n",
    "        description = driver.find_element_by_class_name('description').text\n",
    "    except:\n",
    "        description = ''\n",
    "    \n",
    "    # *********************************************************\n",
    "    try:\n",
    "        overview = driver.find_element_by_class_name('overview').text.split('\\n')[0]\n",
    "\n",
    "    except:\n",
    "        overview = ''\n",
    "    \n",
    "    try:\n",
    "        set_include = \"\".join(driver.find_element_by_class_name('overview').text.split('\\n')[1:])\n",
    "    except:\n",
    "        set_include = \" \" \n",
    "    # ****************************************************\n",
    "    url_key = f'{sku} {title}'\n",
    "    \n",
    "    url_key = url_key.replace(',', '-').replace('*', '-').replace('،', '-')\n",
    "    list_concatenation.append(url_key)\n",
    " #  ***************************************************\n",
    "\n",
    "    two_month = datetime.now() + timedelta(days=60)\n",
    "    two_month = two_month.strftime(\"%m/%d/%Y\")\n",
    "    today = datetime.today().strftime(\"%m/%d/%Y\")\n",
    " #  ***************************************************\n",
    "\n",
    "\n",
    "    list_input_title.append(title)\n",
    "    list_input_price.append(price)\n",
    "    list_input_price_special.append(old_price)\n",
    "#     list_input_model.append(detail)\n",
    "    list_input_color.append(color)\n",
    "    list_input_size.append(size)\n",
    "    list_input_estimated_shipping.append(estimated_shipping)\n",
    "    list_input_products_marque.append(products_marque)\n",
    "    list_input_image_marque.append(image_marque)\n",
    "    list_input_in_stock.append(in_stock)\n",
    "    list_allow_backorders.append(in_stock)\n",
    "\n",
    "    product_online = ''\n",
    "    \n",
    "    try:\n",
    "        list_input_images1.append(list_images[0])\n",
    "    except:\n",
    "        list_input_images1.append('')\n",
    "        \n",
    "    try:\n",
    "        additional_images = ''\n",
    "        \n",
    "        for i, img in enumerate(list_images[1:]):\n",
    "            if i == 0:\n",
    "                additional_images += str(img)\n",
    "            if i == 1:\n",
    "                pass\n",
    "            else:\n",
    "                additional_images += ', ' + str(img)\n",
    "       \n",
    "    except:\n",
    "        t =''\n",
    "    try:\n",
    "        base_image = list_images[0]\n",
    "    except:\n",
    "        base_image = ''\n",
    "    small_image = base_image\n",
    "    swatch_image = base_image\n",
    "    thumbnail_image = base_image\n",
    "\n",
    "    series = pd.Series([sku,\n",
    "                        in_stock,\n",
    "                        estimated_shipping,\n",
    "                     title,\n",
    "                     url_key,\n",
    "\n",
    "                     color,\n",
    "                     matter,\n",
    "                    overview,\n",
    "                    specifications,\n",
    "                    '__EMPTY__VALUE__',#width,\n",
    "                    '__EMPTY__VALUE__',#height,\n",
    "                    '__EMPTY__VALUE__',#length,\n",
    "                    '__EMPTY__VALUE__',#weight,\n",
    "                     base_image,\n",
    "                     small_image,\n",
    "                     swatch_image,\n",
    "                     thumbnail_image,\n",
    "                    mgs_brand,\n",
    "                     additional_images ,\n",
    "                     category1,\n",
    "                     category2,\n",
    "                     category3,\n",
    "                     price ,\n",
    "                    old_price,\n",
    "                    'Catalog, Search',\n",
    "                    'Taxable Goods',\n",
    "                    link_url,\n",
    "                    0,\n",
    "                    -5,\n",
    "                    1,\n",
    "                    1,\n",
    "                    1,\n",
    "                    'مستوردة',\n",
    "                    url_video,\n",
    "                     today,\n",
    "                     two_month,\n",
    "                     'base',\n",
    "                     'Default',\n",
    "                     'simple',\n",
    "                     '',\n",
    "                    'TAV'\n",
    "\n",
    "                    ],  index=df.columns)\n",
    "    #df.append(df1)\n",
    "    df = df.append(series, ignore_index=True)\n",
    "    df.to_excel( f'{name_excel}', index = False)\n"
   ]
  },
  {
   "cell_type": "code",
   "execution_count": 165,
   "id": "a3a3bee1",
   "metadata": {},
   "outputs": [
    {
     "ename": "IndexError",
     "evalue": "list index out of range",
     "output_type": "error",
     "traceback": [
      "\u001b[0;31m---------------------------------------------------------------------------\u001b[0m",
      "\u001b[0;31mIndexError\u001b[0m                                Traceback (most recent call last)",
      "\u001b[0;32m<ipython-input-165-9321c3b9a48a>\u001b[0m in \u001b[0;36m<module>\u001b[0;34m\u001b[0m\n\u001b[0;32m----> 1\u001b[0;31m \u001b[0mlist_news_to_date\u001b[0m\u001b[0;34m[\u001b[0m\u001b[0;36m9\u001b[0m\u001b[0;34m]\u001b[0m\u001b[0;34m\u001b[0m\u001b[0;34m\u001b[0m\u001b[0m\n\u001b[0m",
      "\u001b[0;31mIndexError\u001b[0m: list index out of range"
     ]
    }
   ],
   "source": [
    "list_news_to_date[9]"
   ]
  },
  {
   "cell_type": "code",
   "execution_count": 63,
   "id": "e199e7bc",
   "metadata": {},
   "outputs": [
    {
     "ename": "NoSuchElementException",
     "evalue": "Message: Unable to locate element: .wistia-popover\\[height\\=337\\,playerColor\\=7b796a\\,width\\=550\\]\n",
     "output_type": "error",
     "traceback": [
      "\u001b[0;31m---------------------------------------------------------------------------\u001b[0m",
      "\u001b[0;31mNoSuchElementException\u001b[0m                    Traceback (most recent call last)",
      "\u001b[0;32m<ipython-input-63-bb9702879f12>\u001b[0m in \u001b[0;36m<module>\u001b[0;34m\u001b[0m\n\u001b[0;32m----> 1\u001b[0;31m \u001b[0murl_video\u001b[0m \u001b[0;34m=\u001b[0m \u001b[0mextrair_video_url\u001b[0m\u001b[0;34m(\u001b[0m\u001b[0;34m)\u001b[0m\u001b[0;34m\u001b[0m\u001b[0;34m\u001b[0m\u001b[0m\n\u001b[0m\u001b[1;32m      2\u001b[0m \u001b[0murl_video\u001b[0m\u001b[0;34m\u001b[0m\u001b[0;34m\u001b[0m\u001b[0m\n",
      "\u001b[0;32m<ipython-input-62-22aa36c9ad13>\u001b[0m in \u001b[0;36mextrair_video_url\u001b[0;34m()\u001b[0m\n\u001b[1;32m     51\u001b[0m \u001b[0;32mdef\u001b[0m \u001b[0mextrair_video_url\u001b[0m\u001b[0;34m(\u001b[0m\u001b[0;34m)\u001b[0m\u001b[0;34m:\u001b[0m\u001b[0;34m\u001b[0m\u001b[0;34m\u001b[0m\u001b[0m\n\u001b[1;32m     52\u001b[0m     \u001b[0murl_video\u001b[0m \u001b[0;34m=\u001b[0m \u001b[0;34m''\u001b[0m\u001b[0;34m\u001b[0m\u001b[0;34m\u001b[0m\u001b[0m\n\u001b[0;32m---> 53\u001b[0;31m     \u001b[0mclick_videos\u001b[0m \u001b[0;34m=\u001b[0m \u001b[0mdriver\u001b[0m\u001b[0;34m.\u001b[0m\u001b[0mfind_element_by_css_selector\u001b[0m\u001b[0;34m(\u001b[0m\u001b[0;34m'.wistia-popover\\[height\\=337\\,playerColor\\=7b796a\\,width\\=550\\]'\u001b[0m\u001b[0;34m)\u001b[0m\u001b[0;34m\u001b[0m\u001b[0;34m\u001b[0m\u001b[0m\n\u001b[0m\u001b[1;32m     54\u001b[0m     \u001b[0mclick_videos\u001b[0m\u001b[0;34m.\u001b[0m\u001b[0mclick\u001b[0m\u001b[0;34m(\u001b[0m\u001b[0;34m)\u001b[0m\u001b[0;34m\u001b[0m\u001b[0;34m\u001b[0m\u001b[0m\n\u001b[1;32m     55\u001b[0m     \u001b[0mtime\u001b[0m\u001b[0;34m.\u001b[0m\u001b[0msleep\u001b[0m\u001b[0;34m(\u001b[0m\u001b[0;36m1\u001b[0m\u001b[0;34m)\u001b[0m\u001b[0;34m\u001b[0m\u001b[0;34m\u001b[0m\u001b[0m\n",
      "\u001b[0;32m~/anaconda3/lib/python3.8/site-packages/selenium/webdriver/remote/webdriver.py\u001b[0m in \u001b[0;36mfind_element_by_css_selector\u001b[0;34m(self, css_selector)\u001b[0m\n\u001b[1;32m    596\u001b[0m             \u001b[0melement\u001b[0m \u001b[0;34m=\u001b[0m \u001b[0mdriver\u001b[0m\u001b[0;34m.\u001b[0m\u001b[0mfind_element_by_css_selector\u001b[0m\u001b[0;34m(\u001b[0m\u001b[0;34m'#foo'\u001b[0m\u001b[0;34m)\u001b[0m\u001b[0;34m\u001b[0m\u001b[0;34m\u001b[0m\u001b[0m\n\u001b[1;32m    597\u001b[0m         \"\"\"\n\u001b[0;32m--> 598\u001b[0;31m         \u001b[0;32mreturn\u001b[0m \u001b[0mself\u001b[0m\u001b[0;34m.\u001b[0m\u001b[0mfind_element\u001b[0m\u001b[0;34m(\u001b[0m\u001b[0mby\u001b[0m\u001b[0;34m=\u001b[0m\u001b[0mBy\u001b[0m\u001b[0;34m.\u001b[0m\u001b[0mCSS_SELECTOR\u001b[0m\u001b[0;34m,\u001b[0m \u001b[0mvalue\u001b[0m\u001b[0;34m=\u001b[0m\u001b[0mcss_selector\u001b[0m\u001b[0;34m)\u001b[0m\u001b[0;34m\u001b[0m\u001b[0;34m\u001b[0m\u001b[0m\n\u001b[0m\u001b[1;32m    599\u001b[0m \u001b[0;34m\u001b[0m\u001b[0m\n\u001b[1;32m    600\u001b[0m     \u001b[0;32mdef\u001b[0m \u001b[0mfind_elements_by_css_selector\u001b[0m\u001b[0;34m(\u001b[0m\u001b[0mself\u001b[0m\u001b[0;34m,\u001b[0m \u001b[0mcss_selector\u001b[0m\u001b[0;34m)\u001b[0m\u001b[0;34m:\u001b[0m\u001b[0;34m\u001b[0m\u001b[0;34m\u001b[0m\u001b[0m\n",
      "\u001b[0;32m~/anaconda3/lib/python3.8/site-packages/selenium/webdriver/remote/webdriver.py\u001b[0m in \u001b[0;36mfind_element\u001b[0;34m(self, by, value)\u001b[0m\n\u001b[1;32m    974\u001b[0m                 \u001b[0mby\u001b[0m \u001b[0;34m=\u001b[0m \u001b[0mBy\u001b[0m\u001b[0;34m.\u001b[0m\u001b[0mCSS_SELECTOR\u001b[0m\u001b[0;34m\u001b[0m\u001b[0;34m\u001b[0m\u001b[0m\n\u001b[1;32m    975\u001b[0m                 \u001b[0mvalue\u001b[0m \u001b[0;34m=\u001b[0m \u001b[0;34m'[name=\"%s\"]'\u001b[0m \u001b[0;34m%\u001b[0m \u001b[0mvalue\u001b[0m\u001b[0;34m\u001b[0m\u001b[0;34m\u001b[0m\u001b[0m\n\u001b[0;32m--> 976\u001b[0;31m         return self.execute(Command.FIND_ELEMENT, {\n\u001b[0m\u001b[1;32m    977\u001b[0m             \u001b[0;34m'using'\u001b[0m\u001b[0;34m:\u001b[0m \u001b[0mby\u001b[0m\u001b[0;34m,\u001b[0m\u001b[0;34m\u001b[0m\u001b[0;34m\u001b[0m\u001b[0m\n\u001b[1;32m    978\u001b[0m             'value': value})['value']\n",
      "\u001b[0;32m~/anaconda3/lib/python3.8/site-packages/selenium/webdriver/remote/webdriver.py\u001b[0m in \u001b[0;36mexecute\u001b[0;34m(self, driver_command, params)\u001b[0m\n\u001b[1;32m    319\u001b[0m         \u001b[0mresponse\u001b[0m \u001b[0;34m=\u001b[0m \u001b[0mself\u001b[0m\u001b[0;34m.\u001b[0m\u001b[0mcommand_executor\u001b[0m\u001b[0;34m.\u001b[0m\u001b[0mexecute\u001b[0m\u001b[0;34m(\u001b[0m\u001b[0mdriver_command\u001b[0m\u001b[0;34m,\u001b[0m \u001b[0mparams\u001b[0m\u001b[0;34m)\u001b[0m\u001b[0;34m\u001b[0m\u001b[0;34m\u001b[0m\u001b[0m\n\u001b[1;32m    320\u001b[0m         \u001b[0;32mif\u001b[0m \u001b[0mresponse\u001b[0m\u001b[0;34m:\u001b[0m\u001b[0;34m\u001b[0m\u001b[0;34m\u001b[0m\u001b[0m\n\u001b[0;32m--> 321\u001b[0;31m             \u001b[0mself\u001b[0m\u001b[0;34m.\u001b[0m\u001b[0merror_handler\u001b[0m\u001b[0;34m.\u001b[0m\u001b[0mcheck_response\u001b[0m\u001b[0;34m(\u001b[0m\u001b[0mresponse\u001b[0m\u001b[0;34m)\u001b[0m\u001b[0;34m\u001b[0m\u001b[0;34m\u001b[0m\u001b[0m\n\u001b[0m\u001b[1;32m    322\u001b[0m             response['value'] = self._unwrap_value(\n\u001b[1;32m    323\u001b[0m                 response.get('value', None))\n",
      "\u001b[0;32m~/anaconda3/lib/python3.8/site-packages/selenium/webdriver/remote/errorhandler.py\u001b[0m in \u001b[0;36mcheck_response\u001b[0;34m(self, response)\u001b[0m\n\u001b[1;32m    240\u001b[0m                 \u001b[0malert_text\u001b[0m \u001b[0;34m=\u001b[0m \u001b[0mvalue\u001b[0m\u001b[0;34m[\u001b[0m\u001b[0;34m'alert'\u001b[0m\u001b[0;34m]\u001b[0m\u001b[0;34m.\u001b[0m\u001b[0mget\u001b[0m\u001b[0;34m(\u001b[0m\u001b[0;34m'text'\u001b[0m\u001b[0;34m)\u001b[0m\u001b[0;34m\u001b[0m\u001b[0;34m\u001b[0m\u001b[0m\n\u001b[1;32m    241\u001b[0m             \u001b[0;32mraise\u001b[0m \u001b[0mexception_class\u001b[0m\u001b[0;34m(\u001b[0m\u001b[0mmessage\u001b[0m\u001b[0;34m,\u001b[0m \u001b[0mscreen\u001b[0m\u001b[0;34m,\u001b[0m \u001b[0mstacktrace\u001b[0m\u001b[0;34m,\u001b[0m \u001b[0malert_text\u001b[0m\u001b[0;34m)\u001b[0m\u001b[0;34m\u001b[0m\u001b[0;34m\u001b[0m\u001b[0m\n\u001b[0;32m--> 242\u001b[0;31m         \u001b[0;32mraise\u001b[0m \u001b[0mexception_class\u001b[0m\u001b[0;34m(\u001b[0m\u001b[0mmessage\u001b[0m\u001b[0;34m,\u001b[0m \u001b[0mscreen\u001b[0m\u001b[0;34m,\u001b[0m \u001b[0mstacktrace\u001b[0m\u001b[0;34m)\u001b[0m\u001b[0;34m\u001b[0m\u001b[0;34m\u001b[0m\u001b[0m\n\u001b[0m\u001b[1;32m    243\u001b[0m \u001b[0;34m\u001b[0m\u001b[0m\n\u001b[1;32m    244\u001b[0m     \u001b[0;32mdef\u001b[0m \u001b[0m_value_or_default\u001b[0m\u001b[0;34m(\u001b[0m\u001b[0mself\u001b[0m\u001b[0;34m,\u001b[0m \u001b[0mobj\u001b[0m\u001b[0;34m,\u001b[0m \u001b[0mkey\u001b[0m\u001b[0;34m,\u001b[0m \u001b[0mdefault\u001b[0m\u001b[0;34m)\u001b[0m\u001b[0;34m:\u001b[0m\u001b[0;34m\u001b[0m\u001b[0;34m\u001b[0m\u001b[0m\n",
      "\u001b[0;31mNoSuchElementException\u001b[0m: Message: Unable to locate element: .wistia-popover\\[height\\=337\\,playerColor\\=7b796a\\,width\\=550\\]\n"
     ]
    }
   ],
   "source": [
    "url_video = extrair_video_url()\n",
    "url_video"
   ]
  },
  {
   "cell_type": "code",
   "execution_count": 13,
   "id": "137350b5",
   "metadata": {},
   "outputs": [
    {
     "name": "stdout",
     "output_type": "stream",
     "text": [
      "Click video 1\n",
      "je suis dans le 2\n"
     ]
    }
   ],
   "source": []
  },
  {
   "cell_type": "code",
   "execution_count": null,
   "id": "864ac5ce",
   "metadata": {},
   "outputs": [],
   "source": []
  },
  {
   "cell_type": "code",
   "execution_count": null,
   "id": "9616fc16",
   "metadata": {},
   "outputs": [],
   "source": []
  },
  {
   "cell_type": "code",
   "execution_count": 119,
   "id": "9a8dff13",
   "metadata": {},
   "outputs": [],
   "source": [
    "driver.get('https://www.tavolashop.com/sa-ar/lekue-microwave-grill')"
   ]
  },
  {
   "cell_type": "code",
   "execution_count": null,
   "id": "381bdda2",
   "metadata": {},
   "outputs": [],
   "source": []
  },
  {
   "cell_type": "code",
   "execution_count": 105,
   "id": "d68b5247",
   "metadata": {},
   "outputs": [],
   "source": [
    "url_key = 'TAVSB-110-31-25 كسرولة بيضاوية، أسود مطفي، 31 سنتم، ستوب-Staub'"
   ]
  },
  {
   "cell_type": "code",
   "execution_count": 131,
   "id": "dc178c80",
   "metadata": {},
   "outputs": [],
   "source": [
    "try:\n",
    "    btn_additional = driver.find_element_by_id('tab-label-additional')\n",
    "    driver.execute_script(\"arguments[0].click();\", btn_additional)\n",
    "except:\n",
    "    pass\n",
    "try:\n",
    "    additinal = driver.find_element_by_id('additional')\n",
    "    list_additional = additinal.text.split('\\n')\n",
    "except:\n",
    "    list_additional = ''"
   ]
  },
  {
   "cell_type": "code",
   "execution_count": 181,
   "id": "d1d439bd",
   "metadata": {},
   "outputs": [
    {
     "data": {
      "text/plain": [
       "(2857, 41)"
      ]
     },
     "execution_count": 181,
     "metadata": {},
     "output_type": "execute_result"
    }
   ],
   "source": [
    "df.shape\n"
   ]
  },
  {
   "cell_type": "code",
   "execution_count": 196,
   "id": "344c6284",
   "metadata": {},
   "outputs": [],
   "source": [
    "df.loc[df1['raw_materials'].isnull(), 'raw_materials'] = '__EMPTY__VALUE__'"
   ]
  },
  {
   "cell_type": "code",
   "execution_count": 183,
   "id": "6fcb2032",
   "metadata": {},
   "outputs": [],
   "source": [
    "df1 = pd.read_excel('tavolashop-cookware5.xlsx')"
   ]
  },
  {
   "cell_type": "code",
   "execution_count": 184,
   "id": "6edd0114",
   "metadata": {},
   "outputs": [
    {
     "data": {
      "text/plain": [
       "(2857, 41)"
      ]
     },
     "execution_count": 184,
     "metadata": {},
     "output_type": "execute_result"
    }
   ],
   "source": [
    "df1.shape"
   ]
  },
  {
   "cell_type": "code",
   "execution_count": 189,
   "id": "c97ffb70",
   "metadata": {},
   "outputs": [
    {
     "data": {
      "text/plain": [
       "0       2\n",
       "1       2\n",
       "2       2\n",
       "3       2\n",
       "5       2\n",
       "       ..\n",
       "2846    2\n",
       "2847    2\n",
       "2849    2\n",
       "2853    2\n",
       "2856    2\n",
       "Name: product_online, Length: 1235, dtype: int64"
      ]
     },
     "execution_count": 189,
     "metadata": {},
     "output_type": "execute_result"
    }
   ],
   "source": [
    "df1.loc[df1['is_in_stock'] == 0, 'product_online' ] "
   ]
  },
  {
   "cell_type": "code",
   "execution_count": 187,
   "id": "ead310c3",
   "metadata": {},
   "outputs": [],
   "source": [
    "df1['product_online'] = df1['is_in_stock'] "
   ]
  },
  {
   "cell_type": "code",
   "execution_count": 193,
   "id": "dcbb750c",
   "metadata": {},
   "outputs": [],
   "source": [
    "df1.to_excel('tavolashop-cookware6.xlsx')"
   ]
  },
  {
   "cell_type": "code",
   "execution_count": null,
   "id": "8ff5f355",
   "metadata": {},
   "outputs": [],
   "source": []
  },
  {
   "cell_type": "code",
   "execution_count": 108,
   "id": "f76e3e71",
   "metadata": {},
   "outputs": [],
   "source": [
    "url_key = url_key.replace(',', '-').replace('*', '-').replace('،', '-')"
   ]
  },
  {
   "cell_type": "code",
   "execution_count": null,
   "id": "a9a6f359",
   "metadata": {},
   "outputs": [],
   "source": []
  },
  {
   "cell_type": "code",
   "execution_count": 128,
   "id": "7e7b90dc",
   "metadata": {},
   "outputs": [
    {
     "ename": "NoSuchElementException",
     "evalue": "Message: Unable to locate element: [id=\"tab-label-additional\"]\n",
     "output_type": "error",
     "traceback": [
      "\u001b[0;31m---------------------------------------------------------------------------\u001b[0m",
      "\u001b[0;31mNoSuchElementException\u001b[0m                    Traceback (most recent call last)",
      "\u001b[0;32m<ipython-input-128-bb68af83d686>\u001b[0m in \u001b[0;36m<module>\u001b[0;34m\u001b[0m\n\u001b[0;32m----> 1\u001b[0;31m \u001b[0mbtn_additional\u001b[0m \u001b[0;34m=\u001b[0m \u001b[0mdriver\u001b[0m\u001b[0;34m.\u001b[0m\u001b[0mfind_element_by_id\u001b[0m\u001b[0;34m(\u001b[0m\u001b[0;34m'tab-label-additional'\u001b[0m\u001b[0;34m)\u001b[0m\u001b[0;34m\u001b[0m\u001b[0;34m\u001b[0m\u001b[0m\n\u001b[0m\u001b[1;32m      2\u001b[0m \u001b[0mdriver\u001b[0m\u001b[0;34m.\u001b[0m\u001b[0mexecute_script\u001b[0m\u001b[0;34m(\u001b[0m\u001b[0;34m\"arguments[0].click();\"\u001b[0m\u001b[0;34m,\u001b[0m \u001b[0mbtn_additional\u001b[0m\u001b[0;34m)\u001b[0m\u001b[0;34m\u001b[0m\u001b[0;34m\u001b[0m\u001b[0m\n\u001b[1;32m      3\u001b[0m \u001b[0madditinal\u001b[0m \u001b[0;34m=\u001b[0m \u001b[0mdriver\u001b[0m\u001b[0;34m.\u001b[0m\u001b[0mfind_element_by_id\u001b[0m\u001b[0;34m(\u001b[0m\u001b[0;34m'additional'\u001b[0m\u001b[0;34m)\u001b[0m\u001b[0;34m\u001b[0m\u001b[0;34m\u001b[0m\u001b[0m\n\u001b[1;32m      4\u001b[0m \u001b[0mlist_additional\u001b[0m \u001b[0;34m=\u001b[0m \u001b[0madditinal\u001b[0m\u001b[0;34m.\u001b[0m\u001b[0mtext\u001b[0m\u001b[0;34m.\u001b[0m\u001b[0msplit\u001b[0m\u001b[0;34m(\u001b[0m\u001b[0;34m'\\n'\u001b[0m\u001b[0;34m)\u001b[0m\u001b[0;34m\u001b[0m\u001b[0;34m\u001b[0m\u001b[0m\n",
      "\u001b[0;32m~/anaconda3/lib/python3.8/site-packages/selenium/webdriver/remote/webdriver.py\u001b[0m in \u001b[0;36mfind_element_by_id\u001b[0;34m(self, id_)\u001b[0m\n\u001b[1;32m    358\u001b[0m             \u001b[0melement\u001b[0m \u001b[0;34m=\u001b[0m \u001b[0mdriver\u001b[0m\u001b[0;34m.\u001b[0m\u001b[0mfind_element_by_id\u001b[0m\u001b[0;34m(\u001b[0m\u001b[0;34m'foo'\u001b[0m\u001b[0;34m)\u001b[0m\u001b[0;34m\u001b[0m\u001b[0;34m\u001b[0m\u001b[0m\n\u001b[1;32m    359\u001b[0m         \"\"\"\n\u001b[0;32m--> 360\u001b[0;31m         \u001b[0;32mreturn\u001b[0m \u001b[0mself\u001b[0m\u001b[0;34m.\u001b[0m\u001b[0mfind_element\u001b[0m\u001b[0;34m(\u001b[0m\u001b[0mby\u001b[0m\u001b[0;34m=\u001b[0m\u001b[0mBy\u001b[0m\u001b[0;34m.\u001b[0m\u001b[0mID\u001b[0m\u001b[0;34m,\u001b[0m \u001b[0mvalue\u001b[0m\u001b[0;34m=\u001b[0m\u001b[0mid_\u001b[0m\u001b[0;34m)\u001b[0m\u001b[0;34m\u001b[0m\u001b[0;34m\u001b[0m\u001b[0m\n\u001b[0m\u001b[1;32m    361\u001b[0m \u001b[0;34m\u001b[0m\u001b[0m\n\u001b[1;32m    362\u001b[0m     \u001b[0;32mdef\u001b[0m \u001b[0mfind_elements_by_id\u001b[0m\u001b[0;34m(\u001b[0m\u001b[0mself\u001b[0m\u001b[0;34m,\u001b[0m \u001b[0mid_\u001b[0m\u001b[0;34m)\u001b[0m\u001b[0;34m:\u001b[0m\u001b[0;34m\u001b[0m\u001b[0;34m\u001b[0m\u001b[0m\n",
      "\u001b[0;32m~/anaconda3/lib/python3.8/site-packages/selenium/webdriver/remote/webdriver.py\u001b[0m in \u001b[0;36mfind_element\u001b[0;34m(self, by, value)\u001b[0m\n\u001b[1;32m    974\u001b[0m                 \u001b[0mby\u001b[0m \u001b[0;34m=\u001b[0m \u001b[0mBy\u001b[0m\u001b[0;34m.\u001b[0m\u001b[0mCSS_SELECTOR\u001b[0m\u001b[0;34m\u001b[0m\u001b[0;34m\u001b[0m\u001b[0m\n\u001b[1;32m    975\u001b[0m                 \u001b[0mvalue\u001b[0m \u001b[0;34m=\u001b[0m \u001b[0;34m'[name=\"%s\"]'\u001b[0m \u001b[0;34m%\u001b[0m \u001b[0mvalue\u001b[0m\u001b[0;34m\u001b[0m\u001b[0;34m\u001b[0m\u001b[0m\n\u001b[0;32m--> 976\u001b[0;31m         return self.execute(Command.FIND_ELEMENT, {\n\u001b[0m\u001b[1;32m    977\u001b[0m             \u001b[0;34m'using'\u001b[0m\u001b[0;34m:\u001b[0m \u001b[0mby\u001b[0m\u001b[0;34m,\u001b[0m\u001b[0;34m\u001b[0m\u001b[0;34m\u001b[0m\u001b[0m\n\u001b[1;32m    978\u001b[0m             'value': value})['value']\n",
      "\u001b[0;32m~/anaconda3/lib/python3.8/site-packages/selenium/webdriver/remote/webdriver.py\u001b[0m in \u001b[0;36mexecute\u001b[0;34m(self, driver_command, params)\u001b[0m\n\u001b[1;32m    319\u001b[0m         \u001b[0mresponse\u001b[0m \u001b[0;34m=\u001b[0m \u001b[0mself\u001b[0m\u001b[0;34m.\u001b[0m\u001b[0mcommand_executor\u001b[0m\u001b[0;34m.\u001b[0m\u001b[0mexecute\u001b[0m\u001b[0;34m(\u001b[0m\u001b[0mdriver_command\u001b[0m\u001b[0;34m,\u001b[0m \u001b[0mparams\u001b[0m\u001b[0;34m)\u001b[0m\u001b[0;34m\u001b[0m\u001b[0;34m\u001b[0m\u001b[0m\n\u001b[1;32m    320\u001b[0m         \u001b[0;32mif\u001b[0m \u001b[0mresponse\u001b[0m\u001b[0;34m:\u001b[0m\u001b[0;34m\u001b[0m\u001b[0;34m\u001b[0m\u001b[0m\n\u001b[0;32m--> 321\u001b[0;31m             \u001b[0mself\u001b[0m\u001b[0;34m.\u001b[0m\u001b[0merror_handler\u001b[0m\u001b[0;34m.\u001b[0m\u001b[0mcheck_response\u001b[0m\u001b[0;34m(\u001b[0m\u001b[0mresponse\u001b[0m\u001b[0;34m)\u001b[0m\u001b[0;34m\u001b[0m\u001b[0;34m\u001b[0m\u001b[0m\n\u001b[0m\u001b[1;32m    322\u001b[0m             response['value'] = self._unwrap_value(\n\u001b[1;32m    323\u001b[0m                 response.get('value', None))\n",
      "\u001b[0;32m~/anaconda3/lib/python3.8/site-packages/selenium/webdriver/remote/errorhandler.py\u001b[0m in \u001b[0;36mcheck_response\u001b[0;34m(self, response)\u001b[0m\n\u001b[1;32m    240\u001b[0m                 \u001b[0malert_text\u001b[0m \u001b[0;34m=\u001b[0m \u001b[0mvalue\u001b[0m\u001b[0;34m[\u001b[0m\u001b[0;34m'alert'\u001b[0m\u001b[0;34m]\u001b[0m\u001b[0;34m.\u001b[0m\u001b[0mget\u001b[0m\u001b[0;34m(\u001b[0m\u001b[0;34m'text'\u001b[0m\u001b[0;34m)\u001b[0m\u001b[0;34m\u001b[0m\u001b[0;34m\u001b[0m\u001b[0m\n\u001b[1;32m    241\u001b[0m             \u001b[0;32mraise\u001b[0m \u001b[0mexception_class\u001b[0m\u001b[0;34m(\u001b[0m\u001b[0mmessage\u001b[0m\u001b[0;34m,\u001b[0m \u001b[0mscreen\u001b[0m\u001b[0;34m,\u001b[0m \u001b[0mstacktrace\u001b[0m\u001b[0;34m,\u001b[0m \u001b[0malert_text\u001b[0m\u001b[0;34m)\u001b[0m\u001b[0;34m\u001b[0m\u001b[0;34m\u001b[0m\u001b[0m\n\u001b[0;32m--> 242\u001b[0;31m         \u001b[0;32mraise\u001b[0m \u001b[0mexception_class\u001b[0m\u001b[0;34m(\u001b[0m\u001b[0mmessage\u001b[0m\u001b[0;34m,\u001b[0m \u001b[0mscreen\u001b[0m\u001b[0;34m,\u001b[0m \u001b[0mstacktrace\u001b[0m\u001b[0;34m)\u001b[0m\u001b[0;34m\u001b[0m\u001b[0;34m\u001b[0m\u001b[0m\n\u001b[0m\u001b[1;32m    243\u001b[0m \u001b[0;34m\u001b[0m\u001b[0m\n\u001b[1;32m    244\u001b[0m     \u001b[0;32mdef\u001b[0m \u001b[0m_value_or_default\u001b[0m\u001b[0;34m(\u001b[0m\u001b[0mself\u001b[0m\u001b[0;34m,\u001b[0m \u001b[0mobj\u001b[0m\u001b[0;34m,\u001b[0m \u001b[0mkey\u001b[0m\u001b[0;34m,\u001b[0m \u001b[0mdefault\u001b[0m\u001b[0;34m)\u001b[0m\u001b[0;34m:\u001b[0m\u001b[0;34m\u001b[0m\u001b[0;34m\u001b[0m\u001b[0m\n",
      "\u001b[0;31mNoSuchElementException\u001b[0m: Message: Unable to locate element: [id=\"tab-label-additional\"]\n"
     ]
    }
   ],
   "source": []
  },
  {
   "cell_type": "code",
   "execution_count": 194,
   "id": "cc9b0eec",
   "metadata": {},
   "outputs": [],
   "source": [
    "df = None"
   ]
  },
  {
   "cell_type": "code",
   "execution_count": 5,
   "id": "6e165e8a",
   "metadata": {},
   "outputs": [],
   "source": [
    "df1 = pd.read_excel('/home/wafistos/Documents/Projects/scaping_wafi/tavolashop/tavolashop-Kw.xlsx')\n",
    "df2 = pd.read_excel('/home/wafistos/Documents/Projects/scaping_wafi/tavolashop/tavolashop-Kw1.xlsx')"
   ]
  },
  {
   "cell_type": "code",
   "execution_count": 6,
   "id": "56c13cd9",
   "metadata": {},
   "outputs": [],
   "source": [
    "df = pd.concat([df1, df2], ignore_index=True)"
   ]
  },
  {
   "cell_type": "code",
   "execution_count": 8,
   "id": "bdc60772",
   "metadata": {},
   "outputs": [
    {
     "data": {
      "text/plain": [
       "(3196, 41)"
      ]
     },
     "execution_count": 8,
     "metadata": {},
     "output_type": "execute_result"
    }
   ],
   "source": [
    "df.shape"
   ]
  },
  {
   "cell_type": "code",
   "execution_count": 9,
   "id": "c9b9a080",
   "metadata": {},
   "outputs": [
    {
     "data": {
      "text/plain": [
       "Index(['sku', 'is_in_stock', 'estimated_delivery_text', 'name', 'url_key',\n",
       "       'free_colors', 'raw_materials', 'short_description', 'description',\n",
       "       'ts_dimensions_width', 'ts_dimensions_height', 'ts_dimensions_length',\n",
       "       'Weight', 'base_image', 'small_image', 'swatch_image',\n",
       "       'thumbnail_image', 'mgs_brand', 'additional_images ', 'categories1',\n",
       "       'categories2', 'categories3', 'price', 'special_price', 'visibility',\n",
       "       'tax_class_name', 'Link_url', 'qty', 'out_of_stock_qty',\n",
       "       'is_in_stock.1', 'product_online', 'allow_backorders', 'manufacturer',\n",
       "       'url_video', 'news_from_date', 'news_to_date', 'product_websites',\n",
       "       'attribute_set_code', 'product_type', 'store_view_code', 'supplier'],\n",
       "      dtype='object')"
      ]
     },
     "execution_count": 9,
     "metadata": {},
     "output_type": "execute_result"
    }
   ],
   "source": [
    "df.columns"
   ]
  },
  {
   "cell_type": "code",
   "execution_count": null,
   "id": "95adff47",
   "metadata": {},
   "outputs": [],
   "source": []
  },
  {
   "cell_type": "code",
   "execution_count": 9,
   "id": "004396e9",
   "metadata": {},
   "outputs": [
    {
     "name": "stdout",
     "output_type": "stream",
     "text": [
      "preview trouver\n",
      "Pas d images\n",
      "preview trouver\n",
      "preview trouver\n",
      "preview trouver\n",
      "preview trouver\n",
      "preview trouver\n",
      "preview trouver\n",
      "Images: ['https://www.tavolashop.com/media/catalog/product/cache/52fde94c7e92f5761de6797543ff7ff7/d/r/drawerstore---in-use.jpg', 'https://www.tavolashop.com/media/catalog/product/cache/52fde94c7e92f5761de6797543ff7ff7/d/r/drawerstore---installation-2.jpg', 'https://www.tavolashop.com/media/catalog/product/cache/52fde94c7e92f5761de6797543ff7ff7/d/r/drawerstore---installation-1.jpg', 'https://www.tavolashop.com/media/catalog/product/cache/52fde94c7e92f5761de6797543ff7ff7/d/r/drawerstore---cropped-intro-page.jpg', 'https://www.tavolashop.com/media/catalog/product/cache/52fde94c7e92f5761de6797543ff7ff7/d/r/drawerstore---comparison.jpg', 'https://www.tavolashop.com/media/catalog/product/cache/52fde94c7e92f5761de6797543ff7ff7/d/r/drawerstore---white.jpg']\n"
     ]
    }
   ],
   "source": [
    "list_images = []\n",
    "images = driver.find_elements_by_class_name('fotorama__nav__frame--thumb')\n",
    "\n",
    "if images == []:\n",
    "    image = driver.find_element_by_class_name('fotorama__img').get_attribute('src')\n",
    "    time.sleep(1)\n",
    "    list_images.append(image)\n",
    "else:\n",
    "    len(images)\n",
    "    for i in images:\n",
    "        try:\n",
    "\n",
    "            i.click()\n",
    "            time.sleep(1)\n",
    "\n",
    "            list_images.append(extrair_img())\n",
    "\n",
    "\n",
    "        except:\n",
    "            print('Pas d images')\n",
    "\n",
    "print('Images:', list_images)"
   ]
  },
  {
   "cell_type": "code",
   "execution_count": null,
   "id": "2186d413",
   "metadata": {},
   "outputs": [],
   "source": []
  },
  {
   "cell_type": "code",
   "execution_count": null,
   "id": "4cd15d52",
   "metadata": {},
   "outputs": [],
   "source": []
  },
  {
   "cell_type": "code",
   "execution_count": null,
   "id": "344a1064",
   "metadata": {},
   "outputs": [],
   "source": []
  },
  {
   "cell_type": "code",
   "execution_count": null,
   "id": "a8377752",
   "metadata": {},
   "outputs": [],
   "source": []
  },
  {
   "cell_type": "code",
   "execution_count": null,
   "id": "a3b7185d",
   "metadata": {},
   "outputs": [],
   "source": []
  },
  {
   "cell_type": "code",
   "execution_count": null,
   "id": "3bfb8175",
   "metadata": {},
   "outputs": [],
   "source": []
  },
  {
   "cell_type": "code",
   "execution_count": null,
   "id": "b27b452f",
   "metadata": {},
   "outputs": [],
   "source": []
  },
  {
   "cell_type": "code",
   "execution_count": null,
   "id": "8a5f834d",
   "metadata": {},
   "outputs": [],
   "source": []
  },
  {
   "cell_type": "code",
   "execution_count": 16,
   "id": "744e914b",
   "metadata": {},
   "outputs": [],
   "source": [
    "df['toto'] = df['sku'].str.replace('TAV-', '')"
   ]
  },
  {
   "cell_type": "code",
   "execution_count": 12,
   "id": "1be0b147",
   "metadata": {},
   "outputs": [],
   "source": [
    "pipo = pd.read_excel('/home/wafistos/Documents/Projects/scaping_wafi/tavolashop/New brand.xlsx')"
   ]
  },
  {
   "cell_type": "code",
   "execution_count": 13,
   "id": "8caead92",
   "metadata": {},
   "outputs": [
    {
     "data": {
      "text/plain": [
       "Index(['Item Code', 'Item Description', 'Classification', 'BUOM', 'BuomEAN',\n",
       "       'RSP excl. VAT (SAR)', 'RSP (SAR)', 'Jeddah'],\n",
       "      dtype='object')"
      ]
     },
     "execution_count": 13,
     "metadata": {},
     "output_type": "execute_result"
    }
   ],
   "source": [
    "pipo.columns"
   ]
  },
  {
   "cell_type": "code",
   "execution_count": 17,
   "id": "3ff01da6",
   "metadata": {},
   "outputs": [],
   "source": [
    "list_pipo  = pipo['Item Code'].to_list()\n"
   ]
  },
  {
   "cell_type": "code",
   "execution_count": 18,
   "id": "799d437f",
   "metadata": {},
   "outputs": [
    {
     "data": {
      "text/html": [
       "<div>\n",
       "<style scoped>\n",
       "    .dataframe tbody tr th:only-of-type {\n",
       "        vertical-align: middle;\n",
       "    }\n",
       "\n",
       "    .dataframe tbody tr th {\n",
       "        vertical-align: top;\n",
       "    }\n",
       "\n",
       "    .dataframe thead th {\n",
       "        text-align: right;\n",
       "    }\n",
       "</style>\n",
       "<table border=\"1\" class=\"dataframe\">\n",
       "  <thead>\n",
       "    <tr style=\"text-align: right;\">\n",
       "      <th></th>\n",
       "      <th>sku</th>\n",
       "      <th>is_in_stock</th>\n",
       "      <th>estimated_delivery_text</th>\n",
       "      <th>name</th>\n",
       "      <th>url_key</th>\n",
       "      <th>free_colors</th>\n",
       "      <th>raw_materials</th>\n",
       "      <th>short_description</th>\n",
       "      <th>description</th>\n",
       "      <th>ts_dimensions_width</th>\n",
       "      <th>...</th>\n",
       "      <th>manufacturer</th>\n",
       "      <th>url_video</th>\n",
       "      <th>news_from_date</th>\n",
       "      <th>news_to_date</th>\n",
       "      <th>product_websites</th>\n",
       "      <th>attribute_set_code</th>\n",
       "      <th>product_type</th>\n",
       "      <th>store_view_code</th>\n",
       "      <th>supplier</th>\n",
       "      <th>toto</th>\n",
       "    </tr>\n",
       "  </thead>\n",
       "  <tbody>\n",
       "    <tr>\n",
       "      <th>3</th>\n",
       "      <td>TAV-WM-17-5648-6411</td>\n",
       "      <td>0</td>\n",
       "      <td>__EMPTY__VALUE__</td>\n",
       "      <td>مقلاة بروفي ريزيست، 28 سنتم، دبليو إم إف-WMF</td>\n",
       "      <td>TAV-WM-17-5648-6411 مقلاة بروفي ريزيست- 28 سنت...</td>\n",
       "      <td>__EMPTY__VALUE__</td>\n",
       "      <td>NaN</td>\n",
       "      <td>تجمع هذه المقلاة مزايا مقلاة الستانلس ستيل وال...</td>\n",
       "      <td>الاستخدام\\nقبل استخدام المقلاة للمرة الأولى، ت...</td>\n",
       "      <td>__EMPTY__VALUE__</td>\n",
       "      <td>...</td>\n",
       "      <td>مستوردة</td>\n",
       "      <td>NaN</td>\n",
       "      <td>08/03/2021</td>\n",
       "      <td>10/02/2021</td>\n",
       "      <td>base</td>\n",
       "      <td>Default</td>\n",
       "      <td>simple</td>\n",
       "      <td>NaN</td>\n",
       "      <td>TAV</td>\n",
       "      <td>WM-17-5648-6411</td>\n",
       "    </tr>\n",
       "    <tr>\n",
       "      <th>4</th>\n",
       "      <td>TAV-WM-17-7128-6021</td>\n",
       "      <td>0</td>\n",
       "      <td>2-3 أيام عمل</td>\n",
       "      <td>مقلاة ستيك بروفي، مانعة للالتصاق، 28 سنتم، دبل...</td>\n",
       "      <td>TAV-WM-17-7128-6021 مقلاة ستيك بروفي- مانعة لل...</td>\n",
       "      <td>__EMPTY__VALUE__</td>\n",
       "      <td>NaN</td>\n",
       "      <td>تضمن المواد العالية الجودة والحرفية الممتازة و...</td>\n",
       "      <td>قبل الاستخدام الأول، يُزال أي مُلصق وتُغسل بال...</td>\n",
       "      <td>__EMPTY__VALUE__</td>\n",
       "      <td>...</td>\n",
       "      <td>مستوردة</td>\n",
       "      <td>https://fast.wistia.net/embed/iframe/d1xvngcl0c</td>\n",
       "      <td>08/03/2021</td>\n",
       "      <td>10/02/2021</td>\n",
       "      <td>base</td>\n",
       "      <td>Default</td>\n",
       "      <td>simple</td>\n",
       "      <td>NaN</td>\n",
       "      <td>TAV</td>\n",
       "      <td>WM-17-7128-6021</td>\n",
       "    </tr>\n",
       "    <tr>\n",
       "      <th>6</th>\n",
       "      <td>TAV-SW-65102600</td>\n",
       "      <td>0</td>\n",
       "      <td>2-3 أيام عمل</td>\n",
       "      <td>مقلاة سوتيه CTX مع غطاء، لأفران الحث الكهرومغن...</td>\n",
       "      <td>TAV-SW-65102600 مقلاة سوتيه CTX مع غطاء- لأفرا...</td>\n",
       "      <td>__EMPTY__VALUE__</td>\n",
       "      <td>NaN</td>\n",
       "      <td>تتميز مقلاة السوتيه CTX مع غطاء المخصصة لأفران...</td>\n",
       "      <td>NaN</td>\n",
       "      <td>__EMPTY__VALUE__</td>\n",
       "      <td>...</td>\n",
       "      <td>مستوردة</td>\n",
       "      <td>NaN</td>\n",
       "      <td>08/03/2021</td>\n",
       "      <td>10/02/2021</td>\n",
       "      <td>base</td>\n",
       "      <td>Default</td>\n",
       "      <td>simple</td>\n",
       "      <td>NaN</td>\n",
       "      <td>TAV</td>\n",
       "      <td>SW-65102600</td>\n",
       "    </tr>\n",
       "    <tr>\n",
       "      <th>16</th>\n",
       "      <td>TAV-ZG-66200-005</td>\n",
       "      <td>0</td>\n",
       "      <td>2-3 أيام عمل</td>\n",
       "      <td>طقم أواني طبخ موشن، 5 قطع، زويلينج-Zwilling</td>\n",
       "      <td>TAV-ZG-66200-005 طقم أواني طبخ موشن- 5 قطع- زو...</td>\n",
       "      <td>__EMPTY__VALUE__</td>\n",
       "      <td>NaN</td>\n",
       "      <td>إليك طقم أواني الطبخ المطلية بأكسيد الألمونيوم...</td>\n",
       "      <td>آمن للغسل في غسالة الصحون</td>\n",
       "      <td>__EMPTY__VALUE__</td>\n",
       "      <td>...</td>\n",
       "      <td>مستوردة</td>\n",
       "      <td>NaN</td>\n",
       "      <td>08/03/2021</td>\n",
       "      <td>10/02/2021</td>\n",
       "      <td>base</td>\n",
       "      <td>Default</td>\n",
       "      <td>simple</td>\n",
       "      <td>NaN</td>\n",
       "      <td>TAV</td>\n",
       "      <td>ZG-66200-005</td>\n",
       "    </tr>\n",
       "    <tr>\n",
       "      <th>18</th>\n",
       "      <td>TAV-WM-05-1497-5290</td>\n",
       "      <td>0</td>\n",
       "      <td>2-3 أيام عمل</td>\n",
       "      <td>طقم أواني طبخ فيوجن تيك باللون النحاسي الداكن،...</td>\n",
       "      <td>TAV-WM-05-1497-5290 طقم أواني طبخ فيوجن تيك با...</td>\n",
       "      <td>__EMPTY__VALUE__</td>\n",
       "      <td>NaN</td>\n",
       "      <td>تم تصنيع طقم أواني الطبخ فيوجن تيك من دبليو إم...</td>\n",
       "      <td>تُستخدم الأدوات الخشبية أو البلاستيكية فقط مع ...</td>\n",
       "      <td>__EMPTY__VALUE__</td>\n",
       "      <td>...</td>\n",
       "      <td>مستوردة</td>\n",
       "      <td>NaN</td>\n",
       "      <td>08/03/2021</td>\n",
       "      <td>10/02/2021</td>\n",
       "      <td>base</td>\n",
       "      <td>Default</td>\n",
       "      <td>simple</td>\n",
       "      <td>NaN</td>\n",
       "      <td>TAV</td>\n",
       "      <td>WM-05-1497-5290</td>\n",
       "    </tr>\n",
       "    <tr>\n",
       "      <th>...</th>\n",
       "      <td>...</td>\n",
       "      <td>...</td>\n",
       "      <td>...</td>\n",
       "      <td>...</td>\n",
       "      <td>...</td>\n",
       "      <td>...</td>\n",
       "      <td>...</td>\n",
       "      <td>...</td>\n",
       "      <td>...</td>\n",
       "      <td>...</td>\n",
       "      <td>...</td>\n",
       "      <td>...</td>\n",
       "      <td>...</td>\n",
       "      <td>...</td>\n",
       "      <td>...</td>\n",
       "      <td>...</td>\n",
       "      <td>...</td>\n",
       "      <td>...</td>\n",
       "      <td>...</td>\n",
       "      <td>...</td>\n",
       "      <td>...</td>\n",
       "    </tr>\n",
       "    <tr>\n",
       "      <th>3183</th>\n",
       "      <td>TAV-BA-359003</td>\n",
       "      <td>0</td>\n",
       "      <td>__EMPTY__VALUE__</td>\n",
       "      <td>طقم 4 ألواح جبن ومقبلات صخرية، بوسكا-Boska</td>\n",
       "      <td>TAV-BA-359003 طقم 4 ألواح جبن ومقبلات صخرية- ب...</td>\n",
       "      <td>__EMPTY__VALUE__</td>\n",
       "      <td>صخر</td>\n",
       "      <td>طقم ألواح جبن ومقبلات صخرية، 4 قطع من بوسكا</td>\n",
       "      <td>الاستخدام\\nيُستعمل الطقم لتقديم 4 نكهاتٍ للجُب...</td>\n",
       "      <td>__EMPTY__VALUE__</td>\n",
       "      <td>...</td>\n",
       "      <td>مستوردة</td>\n",
       "      <td>NaN</td>\n",
       "      <td>08/03/2021</td>\n",
       "      <td>10/02/2021</td>\n",
       "      <td>base</td>\n",
       "      <td>Default</td>\n",
       "      <td>simple</td>\n",
       "      <td>NaN</td>\n",
       "      <td>TAV</td>\n",
       "      <td>BA-359003</td>\n",
       "    </tr>\n",
       "    <tr>\n",
       "      <th>3185</th>\n",
       "      <td>TAV-BA-320091</td>\n",
       "      <td>0</td>\n",
       "      <td>2-3 أيام عمل</td>\n",
       "      <td>لوح جبن ومقبلات، 57 سنتم، بوسكا-Boska</td>\n",
       "      <td>TAV-BA-320091 لوح جبن ومقبلات- 57 سنتم- بوسكا-...</td>\n",
       "      <td>__EMPTY__VALUE__</td>\n",
       "      <td>NaN</td>\n",
       "      <td>إليك هذا اللوح الجذّاب لتقديم أنواع مختلفة من ...</td>\n",
       "      <td>لوح الجبن هذا غير آمن للغسل في غسالة الصحون.\\n...</td>\n",
       "      <td>__EMPTY__VALUE__</td>\n",
       "      <td>...</td>\n",
       "      <td>مستوردة</td>\n",
       "      <td>NaN</td>\n",
       "      <td>08/03/2021</td>\n",
       "      <td>10/02/2021</td>\n",
       "      <td>base</td>\n",
       "      <td>Default</td>\n",
       "      <td>simple</td>\n",
       "      <td>NaN</td>\n",
       "      <td>TAV</td>\n",
       "      <td>BA-320091</td>\n",
       "    </tr>\n",
       "    <tr>\n",
       "      <th>3190</th>\n",
       "      <td>TAV-MCS-MCMFISHSQ</td>\n",
       "      <td>0</td>\n",
       "      <td>2-3 أيام عمل</td>\n",
       "      <td>سلّة لتقديم المقالي ميني دولوكس، شكل مربّع، ما...</td>\n",
       "      <td>TAV-MCS-MCMFISHSQ سلّة لتقديم المقالي ميني دول...</td>\n",
       "      <td>__EMPTY__VALUE__</td>\n",
       "      <td>ستانلس ستيل</td>\n",
       "      <td>تسمح سلة ميني دولوكس المربّعة العصريّة من ماست...</td>\n",
       "      <td>طرق استعمال المنتج والعناية به\\n• يُستعمَل للت...</td>\n",
       "      <td>__EMPTY__VALUE__</td>\n",
       "      <td>...</td>\n",
       "      <td>مستوردة</td>\n",
       "      <td>NaN</td>\n",
       "      <td>08/03/2021</td>\n",
       "      <td>10/02/2021</td>\n",
       "      <td>base</td>\n",
       "      <td>Default</td>\n",
       "      <td>simple</td>\n",
       "      <td>NaN</td>\n",
       "      <td>TAV</td>\n",
       "      <td>MCS-MCMFISHSQ</td>\n",
       "    </tr>\n",
       "    <tr>\n",
       "      <th>3191</th>\n",
       "      <td>TAV-WM-06-6507-6030</td>\n",
       "      <td>0</td>\n",
       "      <td>2-3 أيام عمل</td>\n",
       "      <td>سلّة فاكهة، ستانلس ستيل، 13 سنتم، لاونج، دبليو...</td>\n",
       "      <td>TAV-WM-06-6507-6030 سلّة فاكهة- ستانلس ستيل- 1...</td>\n",
       "      <td>__EMPTY__VALUE__</td>\n",
       "      <td>ستانلس ستيل كرومارجان 18/10</td>\n",
       "      <td>بات بإمكانك تقديم الفاكهة والمعجنات بكلّ أناقة...</td>\n",
       "      <td>قبل الاستخدام، يُنظف يدويًا بالماء الدافئ والص...</td>\n",
       "      <td>__EMPTY__VALUE__</td>\n",
       "      <td>...</td>\n",
       "      <td>مستوردة</td>\n",
       "      <td>NaN</td>\n",
       "      <td>08/03/2021</td>\n",
       "      <td>10/02/2021</td>\n",
       "      <td>base</td>\n",
       "      <td>Default</td>\n",
       "      <td>simple</td>\n",
       "      <td>NaN</td>\n",
       "      <td>TAV</td>\n",
       "      <td>WM-06-6507-6030</td>\n",
       "    </tr>\n",
       "    <tr>\n",
       "      <th>3195</th>\n",
       "      <td>TAV-BN-208964</td>\n",
       "      <td>0</td>\n",
       "      <td>2-3 أيام عمل</td>\n",
       "      <td>Birkmann Round Proofing Basket, 18x8cm</td>\n",
       "      <td>TAV-BN-208964 Birkmann Round Proofing Basket- ...</td>\n",
       "      <td>__EMPTY__VALUE__</td>\n",
       "      <td>NaN</td>\n",
       "      <td>Made in Germany, Birkmann's round proofing bas...</td>\n",
       "      <td>Wipe the inside of the basket with a clean, so...</td>\n",
       "      <td>__EMPTY__VALUE__</td>\n",
       "      <td>...</td>\n",
       "      <td>مستوردة</td>\n",
       "      <td>NaN</td>\n",
       "      <td>08/03/2021</td>\n",
       "      <td>10/02/2021</td>\n",
       "      <td>base</td>\n",
       "      <td>Default</td>\n",
       "      <td>simple</td>\n",
       "      <td>NaN</td>\n",
       "      <td>TAV</td>\n",
       "      <td>BN-208964</td>\n",
       "    </tr>\n",
       "  </tbody>\n",
       "</table>\n",
       "<p>942 rows × 42 columns</p>\n",
       "</div>"
      ],
      "text/plain": [
       "                      sku  is_in_stock estimated_delivery_text  \\\n",
       "3     TAV-WM-17-5648-6411            0        __EMPTY__VALUE__   \n",
       "4     TAV-WM-17-7128-6021            0            2-3 أيام عمل   \n",
       "6         TAV-SW-65102600            0            2-3 أيام عمل   \n",
       "16       TAV-ZG-66200-005            0            2-3 أيام عمل   \n",
       "18    TAV-WM-05-1497-5290            0            2-3 أيام عمل   \n",
       "...                   ...          ...                     ...   \n",
       "3183        TAV-BA-359003            0        __EMPTY__VALUE__   \n",
       "3185        TAV-BA-320091            0            2-3 أيام عمل   \n",
       "3190    TAV-MCS-MCMFISHSQ            0            2-3 أيام عمل   \n",
       "3191  TAV-WM-06-6507-6030            0            2-3 أيام عمل   \n",
       "3195        TAV-BN-208964            0            2-3 أيام عمل   \n",
       "\n",
       "                                                   name  \\\n",
       "3          مقلاة بروفي ريزيست، 28 سنتم، دبليو إم إف-WMF   \n",
       "4     مقلاة ستيك بروفي، مانعة للالتصاق، 28 سنتم، دبل...   \n",
       "6     مقلاة سوتيه CTX مع غطاء، لأفران الحث الكهرومغن...   \n",
       "16          طقم أواني طبخ موشن، 5 قطع، زويلينج-Zwilling   \n",
       "18    طقم أواني طبخ فيوجن تيك باللون النحاسي الداكن،...   \n",
       "...                                                 ...   \n",
       "3183         طقم 4 ألواح جبن ومقبلات صخرية، بوسكا-Boska   \n",
       "3185              لوح جبن ومقبلات، 57 سنتم، بوسكا-Boska   \n",
       "3190  سلّة لتقديم المقالي ميني دولوكس، شكل مربّع، ما...   \n",
       "3191  سلّة فاكهة، ستانلس ستيل، 13 سنتم، لاونج، دبليو...   \n",
       "3195             Birkmann Round Proofing Basket, 18x8cm   \n",
       "\n",
       "                                                url_key       free_colors  \\\n",
       "3     TAV-WM-17-5648-6411 مقلاة بروفي ريزيست- 28 سنت...  __EMPTY__VALUE__   \n",
       "4     TAV-WM-17-7128-6021 مقلاة ستيك بروفي- مانعة لل...  __EMPTY__VALUE__   \n",
       "6     TAV-SW-65102600 مقلاة سوتيه CTX مع غطاء- لأفرا...  __EMPTY__VALUE__   \n",
       "16    TAV-ZG-66200-005 طقم أواني طبخ موشن- 5 قطع- زو...  __EMPTY__VALUE__   \n",
       "18    TAV-WM-05-1497-5290 طقم أواني طبخ فيوجن تيك با...  __EMPTY__VALUE__   \n",
       "...                                                 ...               ...   \n",
       "3183  TAV-BA-359003 طقم 4 ألواح جبن ومقبلات صخرية- ب...  __EMPTY__VALUE__   \n",
       "3185  TAV-BA-320091 لوح جبن ومقبلات- 57 سنتم- بوسكا-...  __EMPTY__VALUE__   \n",
       "3190  TAV-MCS-MCMFISHSQ سلّة لتقديم المقالي ميني دول...  __EMPTY__VALUE__   \n",
       "3191  TAV-WM-06-6507-6030 سلّة فاكهة- ستانلس ستيل- 1...  __EMPTY__VALUE__   \n",
       "3195  TAV-BN-208964 Birkmann Round Proofing Basket- ...  __EMPTY__VALUE__   \n",
       "\n",
       "                      raw_materials  \\\n",
       "3                               NaN   \n",
       "4                               NaN   \n",
       "6                               NaN   \n",
       "16                              NaN   \n",
       "18                              NaN   \n",
       "...                             ...   \n",
       "3183                            صخر   \n",
       "3185                            NaN   \n",
       "3190                    ستانلس ستيل   \n",
       "3191    ستانلس ستيل كرومارجان 18/10   \n",
       "3195                            NaN   \n",
       "\n",
       "                                      short_description  \\\n",
       "3     تجمع هذه المقلاة مزايا مقلاة الستانلس ستيل وال...   \n",
       "4     تضمن المواد العالية الجودة والحرفية الممتازة و...   \n",
       "6     تتميز مقلاة السوتيه CTX مع غطاء المخصصة لأفران...   \n",
       "16    إليك طقم أواني الطبخ المطلية بأكسيد الألمونيوم...   \n",
       "18    تم تصنيع طقم أواني الطبخ فيوجن تيك من دبليو إم...   \n",
       "...                                                 ...   \n",
       "3183        طقم ألواح جبن ومقبلات صخرية، 4 قطع من بوسكا   \n",
       "3185  إليك هذا اللوح الجذّاب لتقديم أنواع مختلفة من ...   \n",
       "3190  تسمح سلة ميني دولوكس المربّعة العصريّة من ماست...   \n",
       "3191  بات بإمكانك تقديم الفاكهة والمعجنات بكلّ أناقة...   \n",
       "3195  Made in Germany, Birkmann's round proofing bas...   \n",
       "\n",
       "                                            description ts_dimensions_width  \\\n",
       "3     الاستخدام\\nقبل استخدام المقلاة للمرة الأولى، ت...    __EMPTY__VALUE__   \n",
       "4     قبل الاستخدام الأول، يُزال أي مُلصق وتُغسل بال...    __EMPTY__VALUE__   \n",
       "6                                                   NaN    __EMPTY__VALUE__   \n",
       "16                            آمن للغسل في غسالة الصحون    __EMPTY__VALUE__   \n",
       "18    تُستخدم الأدوات الخشبية أو البلاستيكية فقط مع ...    __EMPTY__VALUE__   \n",
       "...                                                 ...                 ...   \n",
       "3183  الاستخدام\\nيُستعمل الطقم لتقديم 4 نكهاتٍ للجُب...    __EMPTY__VALUE__   \n",
       "3185  لوح الجبن هذا غير آمن للغسل في غسالة الصحون.\\n...    __EMPTY__VALUE__   \n",
       "3190  طرق استعمال المنتج والعناية به\\n• يُستعمَل للت...    __EMPTY__VALUE__   \n",
       "3191  قبل الاستخدام، يُنظف يدويًا بالماء الدافئ والص...    __EMPTY__VALUE__   \n",
       "3195  Wipe the inside of the basket with a clean, so...    __EMPTY__VALUE__   \n",
       "\n",
       "      ... manufacturer                                        url_video  \\\n",
       "3     ...      مستوردة                                              NaN   \n",
       "4     ...      مستوردة  https://fast.wistia.net/embed/iframe/d1xvngcl0c   \n",
       "6     ...      مستوردة                                              NaN   \n",
       "16    ...      مستوردة                                              NaN   \n",
       "18    ...      مستوردة                                              NaN   \n",
       "...   ...          ...                                              ...   \n",
       "3183  ...      مستوردة                                              NaN   \n",
       "3185  ...      مستوردة                                              NaN   \n",
       "3190  ...      مستوردة                                              NaN   \n",
       "3191  ...      مستوردة                                              NaN   \n",
       "3195  ...      مستوردة                                              NaN   \n",
       "\n",
       "     news_from_date news_to_date product_websites attribute_set_code  \\\n",
       "3        08/03/2021   10/02/2021             base            Default   \n",
       "4        08/03/2021   10/02/2021             base            Default   \n",
       "6        08/03/2021   10/02/2021             base            Default   \n",
       "16       08/03/2021   10/02/2021             base            Default   \n",
       "18       08/03/2021   10/02/2021             base            Default   \n",
       "...             ...          ...              ...                ...   \n",
       "3183     08/03/2021   10/02/2021             base            Default   \n",
       "3185     08/03/2021   10/02/2021             base            Default   \n",
       "3190     08/03/2021   10/02/2021             base            Default   \n",
       "3191     08/03/2021   10/02/2021             base            Default   \n",
       "3195     08/03/2021   10/02/2021             base            Default   \n",
       "\n",
       "     product_type store_view_code supplier             toto  \n",
       "3          simple             NaN      TAV  WM-17-5648-6411  \n",
       "4          simple             NaN      TAV  WM-17-7128-6021  \n",
       "6          simple             NaN      TAV      SW-65102600  \n",
       "16         simple             NaN      TAV     ZG-66200-005  \n",
       "18         simple             NaN      TAV  WM-05-1497-5290  \n",
       "...           ...             ...      ...              ...  \n",
       "3183       simple             NaN      TAV        BA-359003  \n",
       "3185       simple             NaN      TAV        BA-320091  \n",
       "3190       simple             NaN      TAV    MCS-MCMFISHSQ  \n",
       "3191       simple             NaN      TAV  WM-06-6507-6030  \n",
       "3195       simple             NaN      TAV        BN-208964  \n",
       "\n",
       "[942 rows x 42 columns]"
      ]
     },
     "execution_count": 18,
     "metadata": {},
     "output_type": "execute_result"
    }
   ],
   "source": [
    "df.loc[df['toto'].isin(list_pipo)]"
   ]
  },
  {
   "cell_type": "code",
   "execution_count": null,
   "id": "d179a9ce",
   "metadata": {},
   "outputs": [],
   "source": []
  },
  {
   "cell_type": "code",
   "execution_count": null,
   "id": "2aa5f5ff",
   "metadata": {},
   "outputs": [],
   "source": []
  },
  {
   "cell_type": "code",
   "execution_count": null,
   "id": "fc4f6d96",
   "metadata": {},
   "outputs": [],
   "source": []
  },
  {
   "cell_type": "code",
   "execution_count": null,
   "id": "f0c3ff30",
   "metadata": {},
   "outputs": [],
   "source": []
  },
  {
   "cell_type": "code",
   "execution_count": null,
   "id": "678d342b",
   "metadata": {},
   "outputs": [],
   "source": []
  },
  {
   "cell_type": "code",
   "execution_count": 64,
   "id": "14873ec9",
   "metadata": {},
   "outputs": [],
   "source": [
    "list_sku = pd.read_excel('New brand.xlsx')"
   ]
  },
  {
   "cell_type": "code",
   "execution_count": 65,
   "id": "108af5b5",
   "metadata": {
    "scrolled": true
   },
   "outputs": [
    {
     "data": {
      "text/plain": [
       "Index(['Item Code', 'Item Description', 'Classification', 'BUOM', 'BuomEAN',\n",
       "       'RSP excl. VAT (SAR)', 'RSP (SAR)', 'Jeddah'],\n",
       "      dtype='object')"
      ]
     },
     "execution_count": 65,
     "metadata": {},
     "output_type": "execute_result"
    }
   ],
   "source": [
    "list_sku.columns"
   ]
  },
  {
   "cell_type": "code",
   "execution_count": 71,
   "id": "9e4695e5",
   "metadata": {},
   "outputs": [],
   "source": [
    "skus = list_sku['Item Code'].to_list()"
   ]
  },
  {
   "cell_type": "code",
   "execution_count": 72,
   "id": "41fa1de8",
   "metadata": {},
   "outputs": [
    {
     "data": {
      "text/plain": [
       "1749"
      ]
     },
     "execution_count": 72,
     "metadata": {},
     "output_type": "execute_result"
    }
   ],
   "source": [
    "len(skus)"
   ]
  },
  {
   "cell_type": "code",
   "execution_count": null,
   "id": "e11a689e",
   "metadata": {},
   "outputs": [],
   "source": []
  },
  {
   "cell_type": "code",
   "execution_count": null,
   "id": "c4c82a9b",
   "metadata": {},
   "outputs": [],
   "source": []
  },
  {
   "cell_type": "code",
   "execution_count": 66,
   "id": "0f86206a",
   "metadata": {},
   "outputs": [],
   "source": [
    "list_sku_scraping = pd.read_excel('tavolashop-cookware4.xlsx')"
   ]
  },
  {
   "cell_type": "code",
   "execution_count": 67,
   "id": "03e60775",
   "metadata": {},
   "outputs": [
    {
     "data": {
      "text/plain": [
       "Index(['sku', 'is_in_stock', 'estimated_delivery_text', 'name', 'url_key',\n",
       "       'free_colors', 'raw_materials', 'short_description', 'description',\n",
       "       'ts_dimensions_width', 'ts_dimensions_height', 'ts_dimensions_length',\n",
       "       'Weight', 'base_image', 'small_image', 'swatch_image',\n",
       "       'thumbnail_image', 'mgs_brand', 'additional_images ', 'categories1',\n",
       "       'categories2', 'categories3', 'price', 'special_price', 'visibility',\n",
       "       'tax_class_name', 'Link_url', 'qty', 'out_of_stock_qty',\n",
       "       'is_in_stock.1', 'product_online', 'allow_backorders', 'manufacturer',\n",
       "       'url_video', 'news_from_date', 'news_to_date', 'product_websites',\n",
       "       'attribute_set_code', 'product_type', 'store_view_code', 'supplier'],\n",
       "      dtype='object')"
      ]
     },
     "execution_count": 67,
     "metadata": {},
     "output_type": "execute_result"
    }
   ],
   "source": [
    "list_sku_scraping.columns"
   ]
  },
  {
   "cell_type": "code",
   "execution_count": 69,
   "id": "914eef81",
   "metadata": {},
   "outputs": [],
   "source": [
    "list_sku_scraping['sku1'] =  list_sku_scraping['sku'].str.replace('TAV-', '')"
   ]
  },
  {
   "cell_type": "code",
   "execution_count": 78,
   "id": "344a54b4",
   "metadata": {},
   "outputs": [
    {
     "data": {
      "text/plain": [
       "0"
      ]
     },
     "execution_count": 78,
     "metadata": {},
     "output_type": "execute_result"
    }
   ],
   "source": [
    "list_toto = []\n",
    "for index, row in list_sku_scraping.iterrows():\n",
    "    list_sku_scraping.loc[list_sku_scraping['sku1'].isin(skus), 'scraping'] = True\n",
    "        \n",
    "len(list_toto)"
   ]
  },
  {
   "cell_type": "code",
   "execution_count": 80,
   "id": "a8b2e40a",
   "metadata": {},
   "outputs": [
    {
     "data": {
      "text/plain": [
       "787"
      ]
     },
     "execution_count": 80,
     "metadata": {},
     "output_type": "execute_result"
    }
   ],
   "source": [
    "list_sku_scraping['scraping']"
   ]
  },
  {
   "cell_type": "code",
   "execution_count": 81,
   "id": "93d0406d",
   "metadata": {},
   "outputs": [],
   "source": [
    "df_toto = list_sku_scraping.loc[list_sku_scraping['scraping'] == True]"
   ]
  },
  {
   "cell_type": "code",
   "execution_count": 83,
   "id": "bbd5fd59",
   "metadata": {},
   "outputs": [],
   "source": [
    "df_toto.to_excel('update_tavolashop.xlsx')"
   ]
  },
  {
   "cell_type": "code",
   "execution_count": 114,
   "id": "2e35b9e1",
   "metadata": {},
   "outputs": [
    {
     "name": "stdout",
     "output_type": "stream",
     "text": [
      "Color: __EMPTY__VALUE__\n"
     ]
    }
   ],
   "source": [
    "color = extraire_function('اللون', list_additional)\n",
    "if color == '':\n",
    "    color = extraire_function('الللون', list_additional)\n",
    "if color == '' or color == None:\n",
    "    color = '__EMPTY__VALUE__'\n",
    "print('Color:', color)"
   ]
  },
  {
   "cell_type": "markdown",
   "id": "237284af",
   "metadata": {},
   "source": [
    "# url video "
   ]
  },
  {
   "cell_type": "code",
   "execution_count": null,
   "id": "aa038831",
   "metadata": {},
   "outputs": [],
   "source": [
    "links_products[3:]"
   ]
  },
  {
   "cell_type": "code",
   "execution_count": null,
   "id": "a456637f",
   "metadata": {},
   "outputs": [],
   "source": []
  },
  {
   "cell_type": "code",
   "execution_count": 168,
   "id": "a3cb2e3c",
   "metadata": {},
   "outputs": [],
   "source": [
    "driver.get(links_products[12][0])"
   ]
  },
  {
   "cell_type": "code",
   "execution_count": 175,
   "id": "9aa5506d",
   "metadata": {},
   "outputs": [
    {
     "name": "stdout",
     "output_type": "stream",
     "text": [
      "0\n",
      "1\n",
      "je suis dans le 2\n",
      "test\n",
      "test\n",
      "test\n",
      "https://fast.wistia.net/embed/iframe/vew3ib0xpq?popover=true\n"
     ]
    }
   ],
   "source": [
    "videos1 = driver.find_elements_by_xpath('//*[contains(text(),\"Video\")]')\n",
    "print(len(videos))\n",
    "if len(videos) != 0:\n",
    "    toto = videos[0].get_attribute('innerHTML')\n",
    "    dic = toto.replace('[', '').replace(']', '').replace(\"'\", '')\n",
    "    toto_dic = ast.literal_eval(dic)\n",
    "    url_video = toto_dic['@id']\n",
    "    print(url_video)\n",
    "\n",
    "\n",
    "\n",
    "click_videos = driver.find_elements_by_xpath(\"//a[contains(@class, 'wistia-popover')]\")\n",
    "print(len(click_videos))\n",
    "if len(click_videos) != 0:\n",
    "    click_videos[0].click()\n",
    "    print('je suis dans le 2')\n",
    "    pip = driver.find_elements_by_xpath('//iframe')\n",
    "    len(pip)\n",
    "    regex = re.compile('^https:*')\n",
    "    for p in pip:\n",
    "        print('test')\n",
    "        \n",
    "        if regex.search(str(p.get_attribute('src'))) != None:\n",
    "            print(p.get_attribute('src'))"
   ]
  },
  {
   "cell_type": "code",
   "execution_count": null,
   "id": "7eaf0261",
   "metadata": {},
   "outputs": [],
   "source": []
  },
  {
   "cell_type": "code",
   "execution_count": 148,
   "id": "e33c355c",
   "metadata": {},
   "outputs": [
    {
     "data": {
      "text/plain": [
       "1"
      ]
     },
     "execution_count": 148,
     "metadata": {},
     "output_type": "execute_result"
    }
   ],
   "source": [
    "click_videos = driver.find_elements_by_xpath(\"//a[contains(@class, 'wistia-popover')]\")\n",
    "len(click_videos)\n",
    "pip = driver.find_elements_by_xpath('//iframe')\n",
    "len(pip)\n",
    "regex = re.compile('^https:*')\n",
    "for p in pip:\n",
    "    \n",
    "    if regex.search(str(p.get_attribute('src'))) != None:\n",
    "        print(p.get_attribute('src'))"
   ]
  },
  {
   "cell_type": "code",
   "execution_count": 149,
   "id": "c84caafb",
   "metadata": {},
   "outputs": [],
   "source": [
    "click_videos[0].click()"
   ]
  },
  {
   "cell_type": "code",
   "execution_count": 150,
   "id": "6d304d69",
   "metadata": {},
   "outputs": [
    {
     "data": {
      "text/plain": [
       "3"
      ]
     },
     "execution_count": 150,
     "metadata": {},
     "output_type": "execute_result"
    }
   ],
   "source": []
  },
  {
   "cell_type": "code",
   "execution_count": 156,
   "id": "34bfb6eb",
   "metadata": {},
   "outputs": [
    {
     "name": "stdout",
     "output_type": "stream",
     "text": [
      "https://fast.wistia.net/embed/iframe/4093iqyovk?popover=true\n"
     ]
    }
   ],
   "source": []
  },
  {
   "cell_type": "code",
   "execution_count": 154,
   "id": "c6562703",
   "metadata": {},
   "outputs": [
    {
     "name": "stdout",
     "output_type": "stream",
     "text": [
      "<re.Match object; span=(0, 6), match='https:'>\n"
     ]
    }
   ],
   "source": [
    "regex = re.compile('^https:*')\n",
    "text = 'https://fast.wistia.net/embed/iframe/4093iqyovk?popover=true'\n",
    "print(regex.search(text))"
   ]
  },
  {
   "cell_type": "code",
   "execution_count": 113,
   "id": "10e6b948",
   "metadata": {},
   "outputs": [
    {
     "data": {
      "text/plain": [
       "dict"
      ]
     },
     "execution_count": 113,
     "metadata": {},
     "output_type": "execute_result"
    }
   ],
   "source": [
    "\n",
    "type(toto_dic)"
   ]
  },
  {
   "cell_type": "code",
   "execution_count": 115,
   "id": "231a4d41",
   "metadata": {},
   "outputs": [
    {
     "data": {
      "text/plain": [
       "'https://fast.wistia.net/embed/iframe/fau7wl0ri8'"
      ]
     },
     "execution_count": 115,
     "metadata": {},
     "output_type": "execute_result"
    }
   ],
   "source": [
    "toto_dic['@id']"
   ]
  },
  {
   "cell_type": "code",
   "execution_count": 93,
   "id": "5e32fd0f",
   "metadata": {},
   "outputs": [
    {
     "name": "stdout",
     "output_type": "stream",
     "text": [
      "about:blank\n",
      "\n"
     ]
    }
   ],
   "source": [
    "for video in videos:\n",
    "    print(video.get_attribute('src'))"
   ]
  },
  {
   "cell_type": "code",
   "execution_count": null,
   "id": "614db264",
   "metadata": {},
   "outputs": [],
   "source": [
    "contains(text(),\"Go\")"
   ]
  },
  {
   "cell_type": "code",
   "execution_count": null,
   "id": "9d8e6eea",
   "metadata": {},
   "outputs": [],
   "source": []
  },
  {
   "cell_type": "code",
   "execution_count": null,
   "id": "8f5b8049",
   "metadata": {},
   "outputs": [],
   "source": []
  },
  {
   "cell_type": "code",
   "execution_count": 100,
   "id": "29622782",
   "metadata": {},
   "outputs": [
    {
     "data": {
      "text/plain": [
       "1"
      ]
     },
     "execution_count": 100,
     "metadata": {},
     "output_type": "execute_result"
    }
   ],
   "source": [
    " try:\n",
    "    in_stock1 = driver.find_element_by_class_name('stock').text\n",
    "except:\n",
    "    in_stock1 = driver.find_element_by_class_name('available').text\n",
    "if in_stock1 == 'متوفر':\n",
    "    in_stock  = 1\n",
    "else:\n",
    "    in_stock = 0\n",
    "in_stock"
   ]
  },
  {
   "cell_type": "code",
   "execution_count": 197,
   "id": "d12e8ba9",
   "metadata": {},
   "outputs": [],
   "source": [
    "df.loc[df['raw_materials'].isnull(), 'raw_materials'] = '__EMPTY__VALUE__'"
   ]
  },
  {
   "cell_type": "code",
   "execution_count": 198,
   "id": "da0b93f8",
   "metadata": {},
   "outputs": [
    {
     "data": {
      "text/plain": [
       "0                                        __EMPTY__VALUE__\n",
       "1                                        __EMPTY__VALUE__\n",
       "2       كفالة لمدة الكفالة 10 سنوات على  والطلاء. لا ت...\n",
       "3                                        __EMPTY__VALUE__\n",
       "4                                        __EMPTY__VALUE__\n",
       "                              ...                        \n",
       "2852                                     __EMPTY__VALUE__\n",
       "2853                                     __EMPTY__VALUE__\n",
       "2854                                      الأساسية نايلون\n",
       "2855                                     __EMPTY__VALUE__\n",
       "2856                                     __EMPTY__VALUE__\n",
       "Name: raw_materials, Length: 2857, dtype: object"
      ]
     },
     "execution_count": 198,
     "metadata": {},
     "output_type": "execute_result"
    }
   ],
   "source": [
    "df['raw_materials']"
   ]
  },
  {
   "cell_type": "code",
   "execution_count": 201,
   "id": "838a8056",
   "metadata": {},
   "outputs": [],
   "source": [
    "df['short_description'] = df['short_description'].str.replace(', ', '-')\n",
    "df['short_description'] = df['short_description'].str.replace('/', '-')\n",
    "df['short_description'] = df['short_description'].str.replace('\"', '-')\n",
    "df['short_description'] = df['name'].str.replace('%', '-')\n",
    "df['name'] = df['name'].str.replace('&', '-')\n",
    "df['name'] = df['name'].str.replace('+', '-', regex=False)"
   ]
  },
  {
   "cell_type": "code",
   "execution_count": 227,
   "id": "dbd56e39",
   "metadata": {},
   "outputs": [],
   "source": [
    "def toto_clean(name):\n",
    "    df[name] = df[name].str.replace(',', '-')\n",
    "    df[name] = df[name].str.replace('/', '-')\n",
    "    df[name] = df[name].str.replace('\"', '-')\n",
    "    df[name] = df[name].str.replace('%', '-')\n",
    "    df[name] = df[name].str.replace('&', '-')\n",
    "    df[name] = df[name].str.replace('+', '-', regex=False)\n",
    "    \n",
    "def ampty_value(name):\n",
    "    df.loc[df[name].isnull(), name] = '__EMPTY__VALUE__'\n",
    "    \n",
    "    \n",
    "def price_num(name):\n",
    "    try:\n",
    "        df[name] = df[name].str.replace('-', '')\n",
    "        df[name] = df[name].str.replace(',', '')\n",
    "    except:\n",
    "        pass\n",
    "    df.loc[df[name] == '__EMPTY__VALUE__', name] = 0\n",
    "    \n",
    "    df[name] = pd.to_numeric(df[name])\n",
    "    df.loc[df[name] == 0, name] = '__EMPTY__VALUE__'"
   ]
  },
  {
   "cell_type": "code",
   "execution_count": 228,
   "id": "9e6fe58b",
   "metadata": {},
   "outputs": [],
   "source": [
    "price_num('special_price')"
   ]
  },
  {
   "cell_type": "code",
   "execution_count": 231,
   "id": "f0b7f77f",
   "metadata": {},
   "outputs": [],
   "source": [
    "df['Cost'] = df['price'] * 0.70"
   ]
  },
  {
   "cell_type": "code",
   "execution_count": 237,
   "id": "a9b646a1",
   "metadata": {},
   "outputs": [],
   "source": [
    "df.to_excel('tavolashop-cookware7.xlsx')"
   ]
  },
  {
   "cell_type": "code",
   "execution_count": 233,
   "id": "7a4185d4",
   "metadata": {},
   "outputs": [],
   "source": [
    "df['url_key'] = df['url_key'].str.lower()"
   ]
  },
  {
   "cell_type": "code",
   "execution_count": 240,
   "id": "1a183821",
   "metadata": {},
   "outputs": [
    {
     "data": {
      "text/plain": [
       "0       TAV-WM-07-9468-9991 مقلاة بروفي- 28 سنتم- دبلي...\n",
       "1       TAV-SB-122-26-18 مقلاة- رمادي رصاصي- حديد زهر-...\n",
       "2       TAV-SW-32151200 مقلاة الشيف كلاسيك- 32 سنتم- س...\n",
       "3       TAV-WM-17-5648-6411 مقلاة بروفي ريزيست- 28 سنت...\n",
       "4       TAV-WM-17-7128-6021 مقلاة ستيك بروفي- مانعة لل...\n",
       "                              ...                        \n",
       "2852     TAV-AI-5708-205-050 Alfi Outdoor Food Mug- 500ml\n",
       "2853     TAV-AI-5708-205-075 Alfi Outdoor Food Mug- 750ml\n",
       "2854                  TAV-HF-LBS250 Hydro Flask Lunch Box\n",
       "2855    TAV-WA-T-666 علبة تبريد مربعة- لون ذهبي- للاست...\n",
       "2856    TAV-OP-001953 سكين للجبنة قابل للطي مع فتاحة- ...\n",
       "Name: url_key, Length: 2857, dtype: object"
      ]
     },
     "execution_count": 240,
     "metadata": {},
     "output_type": "execute_result"
    }
   ],
   "source": [
    "df['url_key']"
   ]
  },
  {
   "cell_type": "code",
   "execution_count": null,
   "id": "0a9bfe59",
   "metadata": {},
   "outputs": [],
   "source": []
  },
  {
   "cell_type": "code",
   "execution_count": null,
   "id": "0de339dc",
   "metadata": {},
   "outputs": [],
   "source": []
  },
  {
   "cell_type": "code",
   "execution_count": null,
   "id": "06955618",
   "metadata": {},
   "outputs": [],
   "source": []
  },
  {
   "cell_type": "code",
   "execution_count": null,
   "id": "be1d854a",
   "metadata": {},
   "outputs": [],
   "source": []
  },
  {
   "cell_type": "code",
   "execution_count": null,
   "id": "c5c0043a",
   "metadata": {},
   "outputs": [],
   "source": []
  },
  {
   "cell_type": "code",
   "execution_count": 12,
   "id": "a2f98f47",
   "metadata": {},
   "outputs": [],
   "source": [
    "def extrair_video_url():\n",
    "    url_video = ''\n",
    "    click_videos = driver.find_element_by_css_selector('.wistia-popover\\[height\\=337\\,playerColor\\=7b796a\\,width\\=550\\]')\n",
    "    click_videos.click()\n",
    "    time.sleep(1)\n",
    "    videos = driver.find_elements_by_xpath('//iframe')\n",
    "    for i in videos:\n",
    "        src = i.get_attribute('src')\n",
    "\n",
    "        if 'http' in src:\n",
    "            url_video = src\n",
    "          \n",
    "            \n",
    "    time.sleep(0.5)\n",
    "    close_videos = driver.find_element_by_class_name('fancybox-item')\n",
    "    close_videos.click()\n",
    "    return url_video\n",
    "\n",
    "\n",
    "def extrair_img():\n",
    "    url_image = driver.find_element_by_id('preview')\n",
    "    print('preview trouver')\n",
    "    url_image.get_attribute('innerHTML')\n",
    "    soup = BeautifulSoup(url_image.get_attribute('innerHTML'), 'html.parser')\n",
    "    src = soup.find('img')\n",
    "    src = src['src']\n",
    "    return src\n",
    "\n",
    "\n",
    "def extraire_function(word, list_word):\n",
    "    for t in list_word:\n",
    "        if word in t:\n",
    "            return t.replace(word, '').replace(':', '')"
   ]
  },
  {
   "cell_type": "code",
   "execution_count": 29,
   "id": "24c004bd",
   "metadata": {},
   "outputs": [
    {
     "ename": "NoSuchElementException",
     "evalue": "Message: Unable to locate element: [id=\"additional\"]\n",
     "output_type": "error",
     "traceback": [
      "\u001b[0;31m---------------------------------------------------------------------------\u001b[0m",
      "\u001b[0;31mNoSuchElementException\u001b[0m                    Traceback (most recent call last)",
      "\u001b[0;32m<ipython-input-29-3050a39fb115>\u001b[0m in \u001b[0;36m<module>\u001b[0;34m\u001b[0m\n\u001b[1;32m      3\u001b[0m \u001b[0;32mexcept\u001b[0m\u001b[0;34m:\u001b[0m\u001b[0;34m\u001b[0m\u001b[0;34m\u001b[0m\u001b[0m\n\u001b[1;32m      4\u001b[0m     \u001b[0;32mpass\u001b[0m\u001b[0;34m\u001b[0m\u001b[0;34m\u001b[0m\u001b[0m\n\u001b[0;32m----> 5\u001b[0;31m \u001b[0madditinal\u001b[0m \u001b[0;34m=\u001b[0m \u001b[0mdriver\u001b[0m\u001b[0;34m.\u001b[0m\u001b[0mfind_element_by_id\u001b[0m\u001b[0;34m(\u001b[0m\u001b[0;34m'additional'\u001b[0m\u001b[0;34m)\u001b[0m\u001b[0;34m\u001b[0m\u001b[0;34m\u001b[0m\u001b[0m\n\u001b[0m\u001b[1;32m      6\u001b[0m \u001b[0mlist_additional\u001b[0m \u001b[0;34m=\u001b[0m \u001b[0madditinal\u001b[0m\u001b[0;34m.\u001b[0m\u001b[0mtext\u001b[0m\u001b[0;34m.\u001b[0m\u001b[0msplit\u001b[0m\u001b[0;34m(\u001b[0m\u001b[0;34m'\\n'\u001b[0m\u001b[0;34m)\u001b[0m\u001b[0;34m\u001b[0m\u001b[0;34m\u001b[0m\u001b[0m\n\u001b[1;32m      7\u001b[0m \u001b[0mlist_additional\u001b[0m\u001b[0;34m\u001b[0m\u001b[0;34m\u001b[0m\u001b[0m\n",
      "\u001b[0;32m~/anaconda3/lib/python3.8/site-packages/selenium/webdriver/remote/webdriver.py\u001b[0m in \u001b[0;36mfind_element_by_id\u001b[0;34m(self, id_)\u001b[0m\n\u001b[1;32m    358\u001b[0m             \u001b[0melement\u001b[0m \u001b[0;34m=\u001b[0m \u001b[0mdriver\u001b[0m\u001b[0;34m.\u001b[0m\u001b[0mfind_element_by_id\u001b[0m\u001b[0;34m(\u001b[0m\u001b[0;34m'foo'\u001b[0m\u001b[0;34m)\u001b[0m\u001b[0;34m\u001b[0m\u001b[0;34m\u001b[0m\u001b[0m\n\u001b[1;32m    359\u001b[0m         \"\"\"\n\u001b[0;32m--> 360\u001b[0;31m         \u001b[0;32mreturn\u001b[0m \u001b[0mself\u001b[0m\u001b[0;34m.\u001b[0m\u001b[0mfind_element\u001b[0m\u001b[0;34m(\u001b[0m\u001b[0mby\u001b[0m\u001b[0;34m=\u001b[0m\u001b[0mBy\u001b[0m\u001b[0;34m.\u001b[0m\u001b[0mID\u001b[0m\u001b[0;34m,\u001b[0m \u001b[0mvalue\u001b[0m\u001b[0;34m=\u001b[0m\u001b[0mid_\u001b[0m\u001b[0;34m)\u001b[0m\u001b[0;34m\u001b[0m\u001b[0;34m\u001b[0m\u001b[0m\n\u001b[0m\u001b[1;32m    361\u001b[0m \u001b[0;34m\u001b[0m\u001b[0m\n\u001b[1;32m    362\u001b[0m     \u001b[0;32mdef\u001b[0m \u001b[0mfind_elements_by_id\u001b[0m\u001b[0;34m(\u001b[0m\u001b[0mself\u001b[0m\u001b[0;34m,\u001b[0m \u001b[0mid_\u001b[0m\u001b[0;34m)\u001b[0m\u001b[0;34m:\u001b[0m\u001b[0;34m\u001b[0m\u001b[0;34m\u001b[0m\u001b[0m\n",
      "\u001b[0;32m~/anaconda3/lib/python3.8/site-packages/selenium/webdriver/remote/webdriver.py\u001b[0m in \u001b[0;36mfind_element\u001b[0;34m(self, by, value)\u001b[0m\n\u001b[1;32m    974\u001b[0m                 \u001b[0mby\u001b[0m \u001b[0;34m=\u001b[0m \u001b[0mBy\u001b[0m\u001b[0;34m.\u001b[0m\u001b[0mCSS_SELECTOR\u001b[0m\u001b[0;34m\u001b[0m\u001b[0;34m\u001b[0m\u001b[0m\n\u001b[1;32m    975\u001b[0m                 \u001b[0mvalue\u001b[0m \u001b[0;34m=\u001b[0m \u001b[0;34m'[name=\"%s\"]'\u001b[0m \u001b[0;34m%\u001b[0m \u001b[0mvalue\u001b[0m\u001b[0;34m\u001b[0m\u001b[0;34m\u001b[0m\u001b[0m\n\u001b[0;32m--> 976\u001b[0;31m         return self.execute(Command.FIND_ELEMENT, {\n\u001b[0m\u001b[1;32m    977\u001b[0m             \u001b[0;34m'using'\u001b[0m\u001b[0;34m:\u001b[0m \u001b[0mby\u001b[0m\u001b[0;34m,\u001b[0m\u001b[0;34m\u001b[0m\u001b[0;34m\u001b[0m\u001b[0m\n\u001b[1;32m    978\u001b[0m             'value': value})['value']\n",
      "\u001b[0;32m~/anaconda3/lib/python3.8/site-packages/selenium/webdriver/remote/webdriver.py\u001b[0m in \u001b[0;36mexecute\u001b[0;34m(self, driver_command, params)\u001b[0m\n\u001b[1;32m    319\u001b[0m         \u001b[0mresponse\u001b[0m \u001b[0;34m=\u001b[0m \u001b[0mself\u001b[0m\u001b[0;34m.\u001b[0m\u001b[0mcommand_executor\u001b[0m\u001b[0;34m.\u001b[0m\u001b[0mexecute\u001b[0m\u001b[0;34m(\u001b[0m\u001b[0mdriver_command\u001b[0m\u001b[0;34m,\u001b[0m \u001b[0mparams\u001b[0m\u001b[0;34m)\u001b[0m\u001b[0;34m\u001b[0m\u001b[0;34m\u001b[0m\u001b[0m\n\u001b[1;32m    320\u001b[0m         \u001b[0;32mif\u001b[0m \u001b[0mresponse\u001b[0m\u001b[0;34m:\u001b[0m\u001b[0;34m\u001b[0m\u001b[0;34m\u001b[0m\u001b[0m\n\u001b[0;32m--> 321\u001b[0;31m             \u001b[0mself\u001b[0m\u001b[0;34m.\u001b[0m\u001b[0merror_handler\u001b[0m\u001b[0;34m.\u001b[0m\u001b[0mcheck_response\u001b[0m\u001b[0;34m(\u001b[0m\u001b[0mresponse\u001b[0m\u001b[0;34m)\u001b[0m\u001b[0;34m\u001b[0m\u001b[0;34m\u001b[0m\u001b[0m\n\u001b[0m\u001b[1;32m    322\u001b[0m             response['value'] = self._unwrap_value(\n\u001b[1;32m    323\u001b[0m                 response.get('value', None))\n",
      "\u001b[0;32m~/anaconda3/lib/python3.8/site-packages/selenium/webdriver/remote/errorhandler.py\u001b[0m in \u001b[0;36mcheck_response\u001b[0;34m(self, response)\u001b[0m\n\u001b[1;32m    240\u001b[0m                 \u001b[0malert_text\u001b[0m \u001b[0;34m=\u001b[0m \u001b[0mvalue\u001b[0m\u001b[0;34m[\u001b[0m\u001b[0;34m'alert'\u001b[0m\u001b[0;34m]\u001b[0m\u001b[0;34m.\u001b[0m\u001b[0mget\u001b[0m\u001b[0;34m(\u001b[0m\u001b[0;34m'text'\u001b[0m\u001b[0;34m)\u001b[0m\u001b[0;34m\u001b[0m\u001b[0;34m\u001b[0m\u001b[0m\n\u001b[1;32m    241\u001b[0m             \u001b[0;32mraise\u001b[0m \u001b[0mexception_class\u001b[0m\u001b[0;34m(\u001b[0m\u001b[0mmessage\u001b[0m\u001b[0;34m,\u001b[0m \u001b[0mscreen\u001b[0m\u001b[0;34m,\u001b[0m \u001b[0mstacktrace\u001b[0m\u001b[0;34m,\u001b[0m \u001b[0malert_text\u001b[0m\u001b[0;34m)\u001b[0m\u001b[0;34m\u001b[0m\u001b[0;34m\u001b[0m\u001b[0m\n\u001b[0;32m--> 242\u001b[0;31m         \u001b[0;32mraise\u001b[0m \u001b[0mexception_class\u001b[0m\u001b[0;34m(\u001b[0m\u001b[0mmessage\u001b[0m\u001b[0;34m,\u001b[0m \u001b[0mscreen\u001b[0m\u001b[0;34m,\u001b[0m \u001b[0mstacktrace\u001b[0m\u001b[0;34m)\u001b[0m\u001b[0;34m\u001b[0m\u001b[0;34m\u001b[0m\u001b[0m\n\u001b[0m\u001b[1;32m    243\u001b[0m \u001b[0;34m\u001b[0m\u001b[0m\n\u001b[1;32m    244\u001b[0m     \u001b[0;32mdef\u001b[0m \u001b[0m_value_or_default\u001b[0m\u001b[0;34m(\u001b[0m\u001b[0mself\u001b[0m\u001b[0;34m,\u001b[0m \u001b[0mobj\u001b[0m\u001b[0;34m,\u001b[0m \u001b[0mkey\u001b[0m\u001b[0;34m,\u001b[0m \u001b[0mdefault\u001b[0m\u001b[0;34m)\u001b[0m\u001b[0;34m:\u001b[0m\u001b[0;34m\u001b[0m\u001b[0;34m\u001b[0m\u001b[0m\n",
      "\u001b[0;31mNoSuchElementException\u001b[0m: Message: Unable to locate element: [id=\"additional\"]\n"
     ]
    }
   ],
   "source": [
    "try:\n",
    "    btn_additional = driver.find_element_by_id('tab-label-additional').click()\n",
    "except:\n",
    "    pass\n",
    "additinal = driver.find_element_by_id('additional')\n",
    "list_additional = additinal.text.split('\\n')\n",
    "list_additional"
   ]
  },
  {
   "cell_type": "code",
   "execution_count": 40,
   "id": "bdd61bd1",
   "metadata": {},
   "outputs": [],
   "source": [
    "today = pd.to_datetime('today').normalize()"
   ]
  },
  {
   "cell_type": "code",
   "execution_count": 41,
   "id": "ff22a026",
   "metadata": {},
   "outputs": [
    {
     "data": {
      "text/plain": [
       "Timestamp('2021-06-22 00:00:00')"
      ]
     },
     "execution_count": 41,
     "metadata": {},
     "output_type": "execute_result"
    }
   ],
   "source": [
    "today"
   ]
  },
  {
   "cell_type": "code",
   "execution_count": 54,
   "id": "6ee653f6",
   "metadata": {},
   "outputs": [
    {
     "ename": "AttributeError",
     "evalue": "type object 'datetime.datetime' has no attribute 'timedelta'",
     "output_type": "error",
     "traceback": [
      "\u001b[0;31m---------------------------------------------------------------------------\u001b[0m",
      "\u001b[0;31mAttributeError\u001b[0m                            Traceback (most recent call last)",
      "\u001b[0;32m<ipython-input-54-f836a2931e26>\u001b[0m in \u001b[0;36m<module>\u001b[0;34m\u001b[0m\n\u001b[0;32m----> 1\u001b[0;31m \u001b[0mdatetime\u001b[0m\u001b[0;34m.\u001b[0m\u001b[0mtoday\u001b[0m\u001b[0;34m(\u001b[0m\u001b[0;34m)\u001b[0m\u001b[0;34m.\u001b[0m\u001b[0mstrftime\u001b[0m\u001b[0;34m(\u001b[0m\u001b[0;34m\"%m/%d/%Y\"\u001b[0m\u001b[0;34m)\u001b[0m \u001b[0;34m+\u001b[0m \u001b[0mdatetime\u001b[0m\u001b[0;34m.\u001b[0m\u001b[0mtimedelta\u001b[0m\u001b[0;34m(\u001b[0m\u001b[0mdays\u001b[0m\u001b[0;34m=\u001b[0m\u001b[0;36m60\u001b[0m\u001b[0;34m)\u001b[0m\u001b[0;34m\u001b[0m\u001b[0;34m\u001b[0m\u001b[0m\n\u001b[0m",
      "\u001b[0;31mAttributeError\u001b[0m: type object 'datetime.datetime' has no attribute 'timedelta'"
     ]
    }
   ],
   "source": [
    "datetime.today().strftime(\"%m/%d/%Y\") + datetime.timedelta(days=60)"
   ]
  },
  {
   "cell_type": "code",
   "execution_count": 84,
   "id": "15dcd93c",
   "metadata": {},
   "outputs": [],
   "source": [
    "btn_additional = driver.find_element_by_id('tab-label-additional')\n",
    "driver.execute_script(\"arguments[0].click();\", btn_additional)\n",
    "time.sleep(0.5)"
   ]
  },
  {
   "cell_type": "code",
   "execution_count": null,
   "id": "2b3618d6",
   "metadata": {},
   "outputs": [],
   "source": []
  },
  {
   "cell_type": "code",
   "execution_count": 85,
   "id": "a561af21",
   "metadata": {},
   "outputs": [],
   "source": []
  },
  {
   "cell_type": "code",
   "execution_count": null,
   "id": "ca0fdd57",
   "metadata": {},
   "outputs": [],
   "source": []
  },
  {
   "cell_type": "code",
   "execution_count": null,
   "id": "316a3901",
   "metadata": {},
   "outputs": [],
   "source": []
  },
  {
   "cell_type": "code",
   "execution_count": null,
   "id": "a7d2ae34",
   "metadata": {},
   "outputs": [],
   "source": []
  },
  {
   "cell_type": "code",
   "execution_count": null,
   "id": "17f3bf4e",
   "metadata": {},
   "outputs": [],
   "source": []
  },
  {
   "cell_type": "code",
   "execution_count": null,
   "id": "494692fb",
   "metadata": {},
   "outputs": [],
   "source": []
  },
  {
   "cell_type": "code",
   "execution_count": null,
   "id": "5055fdd0",
   "metadata": {},
   "outputs": [],
   "source": []
  },
  {
   "cell_type": "code",
   "execution_count": 51,
   "id": "de750f07",
   "metadata": {},
   "outputs": [
    {
     "data": {
      "text/plain": [
       "DatetimeIndex(['2018-01-01 00:00:00', '2018-01-01 01:00:00',\n",
       "               '2018-01-01 02:00:00', '2018-01-01 03:00:00',\n",
       "               '2018-01-01 04:00:00'],\n",
       "              dtype='datetime64[ns]', freq='H')"
      ]
     },
     "execution_count": 51,
     "metadata": {},
     "output_type": "execute_result"
    }
   ],
   "source": [
    "idx = pd.date_range(\"2018-01-01\", periods=5, freq=\"H\")\n",
    "idx"
   ]
  },
  {
   "cell_type": "code",
   "execution_count": 76,
   "id": "3e224a4e",
   "metadata": {},
   "outputs": [
    {
     "data": {
      "text/plain": [
       "'تم تصنيع طقم أواني الطبخ فيوجن تيك من دبليو إم إف-WMF من مواد عالية التقنية، تضمن أداء الطبخ المتميّز.'"
      ]
     },
     "execution_count": 76,
     "metadata": {},
     "output_type": "execute_result"
    }
   ],
   "source": [
    "overview = driver.find_element_by_class_name('overview').text.split('\\n')[0]\n",
    "set_include = \"\".join(driver.find_element_by_class_name('overview').text.split('\\n')[1:])\n",
    "overview"
   ]
  },
  {
   "cell_type": "code",
   "execution_count": null,
   "id": "51b42855",
   "metadata": {},
   "outputs": [],
   "source": []
  },
  {
   "cell_type": "code",
   "execution_count": null,
   "id": "36704791",
   "metadata": {},
   "outputs": [],
   "source": []
  },
  {
   "cell_type": "code",
   "execution_count": null,
   "id": "8997a86b",
   "metadata": {},
   "outputs": [],
   "source": []
  },
  {
   "cell_type": "code",
   "execution_count": 75,
   "id": "428fbb82",
   "metadata": {},
   "outputs": [
    {
     "data": {
      "text/plain": [
       "'يحتوي الطقم على:1 قدر صغير بقطر 16 سنتم1 كسرولة قصيرة الحافة بقطر 20 سنتم1 كسرولة عالية الحافة بقطر 20 سنتم1 كسرولة عالية الحافة بقطر 24 سنتم'"
      ]
     },
     "execution_count": 75,
     "metadata": {},
     "output_type": "execute_result"
    }
   ],
   "source": [
    "set_include = \"\".join(driver.find_element_by_class_name('overview').text.split('\\n')[1:])\n",
    "set_include"
   ]
  },
  {
   "cell_type": "code",
   "execution_count": null,
   "id": "e64f9e43",
   "metadata": {},
   "outputs": [],
   "source": []
  },
  {
   "cell_type": "code",
   "execution_count": null,
   "id": "f873c3e8",
   "metadata": {},
   "outputs": [],
   "source": []
  },
  {
   "cell_type": "code",
   "execution_count": null,
   "id": "2084e75c",
   "metadata": {},
   "outputs": [],
   "source": []
  },
  {
   "cell_type": "code",
   "execution_count": null,
   "id": "05f0a50f",
   "metadata": {},
   "outputs": [],
   "source": []
  },
  {
   "cell_type": "code",
   "execution_count": null,
   "id": "901bd45a",
   "metadata": {},
   "outputs": [],
   "source": []
  },
  {
   "cell_type": "code",
   "execution_count": null,
   "id": "fc9f0f02",
   "metadata": {},
   "outputs": [],
   "source": []
  },
  {
   "cell_type": "code",
   "execution_count": null,
   "id": "9271beae",
   "metadata": {},
   "outputs": [],
   "source": []
  },
  {
   "cell_type": "code",
   "execution_count": null,
   "id": "57915d6e",
   "metadata": {},
   "outputs": [],
   "source": []
  },
  {
   "cell_type": "code",
   "execution_count": null,
   "id": "4fc6ca0d",
   "metadata": {},
   "outputs": [],
   "source": []
  },
  {
   "cell_type": "code",
   "execution_count": null,
   "id": "51a97f47",
   "metadata": {},
   "outputs": [],
   "source": []
  },
  {
   "cell_type": "code",
   "execution_count": null,
   "id": "db93fac5",
   "metadata": {},
   "outputs": [],
   "source": []
  },
  {
   "cell_type": "code",
   "execution_count": null,
   "id": "946d424b",
   "metadata": {},
   "outputs": [],
   "source": []
  },
  {
   "cell_type": "code",
   "execution_count": null,
   "id": "395932f8",
   "metadata": {},
   "outputs": [],
   "source": []
  },
  {
   "cell_type": "code",
   "execution_count": null,
   "id": "ee212c27",
   "metadata": {},
   "outputs": [],
   "source": []
  },
  {
   "cell_type": "code",
   "execution_count": null,
   "id": "c7ccd6f5",
   "metadata": {},
   "outputs": [],
   "source": []
  },
  {
   "cell_type": "code",
   "execution_count": null,
   "id": "2a466370",
   "metadata": {},
   "outputs": [],
   "source": []
  },
  {
   "cell_type": "code",
   "execution_count": null,
   "id": "cdc31ed2",
   "metadata": {},
   "outputs": [],
   "source": []
  },
  {
   "cell_type": "code",
   "execution_count": null,
   "id": "6eb495d8",
   "metadata": {},
   "outputs": [],
   "source": []
  },
  {
   "cell_type": "code",
   "execution_count": null,
   "id": "06cb368d",
   "metadata": {},
   "outputs": [],
   "source": []
  },
  {
   "cell_type": "code",
   "execution_count": 414,
   "id": "17f0e830",
   "metadata": {},
   "outputs": [
    {
     "name": "stdout",
     "output_type": "stream",
     "text": [
      "preview trouver\n"
     ]
    },
    {
     "data": {
      "text/plain": [
       "'https://www.tavolashop.com/media/catalog/product/cache/52fde94c7e92f5761de6797543ff7ff7/S/B/SB-130-28-06.jpg'"
      ]
     },
     "execution_count": 414,
     "metadata": {},
     "output_type": "execute_result"
    }
   ],
   "source": [
    "extrair_img()"
   ]
  },
  {
   "cell_type": "code",
   "execution_count": null,
   "id": "267ca090",
   "metadata": {},
   "outputs": [],
   "source": []
  },
  {
   "cell_type": "code",
   "execution_count": 482,
   "id": "6d2771ed",
   "metadata": {},
   "outputs": [
    {
     "name": "stdout",
     "output_type": "stream",
     "text": [
      "2\n"
     ]
    }
   ],
   "source": [
    "videos = driver.find_elements_by_xpath('//iframe')\n",
    "print(len(videos))\n",
    "for i in videos:\n",
    "    src = i.get_attribute('src')\n",
    "    \n",
    "    if 'http' in src:\n",
    "        print('src',src)"
   ]
  },
  {
   "cell_type": "code",
   "execution_count": null,
   "id": "e129e73e",
   "metadata": {},
   "outputs": [],
   "source": []
  },
  {
   "cell_type": "code",
   "execution_count": null,
   "id": "317afcd9",
   "metadata": {},
   "outputs": [],
   "source": []
  },
  {
   "cell_type": "code",
   "execution_count": 467,
   "id": "64b2ef3e",
   "metadata": {},
   "outputs": [
    {
     "name": "stdout",
     "output_type": "stream",
     "text": [
      "toto1\n",
      "src https://fast.wistia.net/embed/iframe/3c3y3ouwvo?popover=true\n",
      "Fin\n"
     ]
    }
   ],
   "source": [
    "try:\n",
    "    click_videos = driver.find_element_by_css_selector('.wistia-popover\\[height\\=337\\,playerColor\\=7b796a\\,width\\=550\\]')\n",
    "    click_videos.click()\n",
    "    print('toto1')\n",
    "    time.sleep(1)\n",
    "    videos = driver.find_elements_by_xpath('//iframe')\n",
    "    for i in videos:\n",
    "        src = i.get_attribute('src')\n",
    "\n",
    "        if 'http' in src:\n",
    "            print('src',src)\n",
    "    time.sleep(0.5)\n",
    "    close_videos = driver.find_element_by_class_name('fancybox-item')\n",
    "    close_videos.click()\n",
    "except:\n",
    "    click_videos = driver.find_element_by_id('w-vulcan-v2-28')\n",
    "    click_videos.click()\n",
    "    print('toto2')\n",
    "    \n",
    "    time.sleep(1)\n",
    "    videos = driver.find_elements_by_xpath('//iframe')\n",
    "    for i in videos:\n",
    "        src = i.get_attribute('src')\n",
    "        \n",
    "        if 'http' in src:\n",
    "            print('src',src)\n",
    "    time.sleep(0.5)\n",
    "print('Fin')"
   ]
  },
  {
   "cell_type": "code",
   "execution_count": null,
   "id": "0003f6f2",
   "metadata": {},
   "outputs": [],
   "source": []
  },
  {
   "cell_type": "code",
   "execution_count": 456,
   "id": "bfcc58e6",
   "metadata": {},
   "outputs": [
    {
     "name": "stdout",
     "output_type": "stream",
     "text": [
      "toto2\n"
     ]
    }
   ],
   "source": [
    "click_videos = driver.find_element_by_id('w-vulcan-v2-28')\n",
    "click_videos.click()\n",
    "print('toto2')"
   ]
  },
  {
   "cell_type": "code",
   "execution_count": null,
   "id": "49d2925f",
   "metadata": {},
   "outputs": [],
   "source": []
  },
  {
   "cell_type": "code",
   "execution_count": null,
   "id": "803cd6c7",
   "metadata": {},
   "outputs": [],
   "source": [
    "html.wf--n4-inactive.wf-worksans-n4-active.wf-worksans-i4-active.wf-worksans-n5-active.wf-worksans-i5-active.wf-worksans-n7-active.wf-worksans-i7-active.wf-tajawal-n2-active.wf-tajawal-n3-active.wf-tajawal-n4-active.wf-tajawal-n5-active.wf-tajawal-n7-active.wf-tajawal-n8-active.wf-tajawal-n9-active.wf-mbicon-n4-active.wf-active body.layout-rtl.layout01.catalog-product-view.product-instant-pot-duo-8-8l.page-layout-1column div.page-wrapper.magebig-container main#maincontent.page-main div.container.main-container div.columns.row div.main-wrap.col-12 div.column.main div.product-info-main-content div.row div.col-12.col-md-6.col-lg-7 div.product-info-main div.product-info-price div.product.attribute.overview div.value div#wistia-bx9jrvhb9k-1.wistia_embed.wistia_async_bx9jrvhb9k.wistia_embed_initialized div#wistia_chrome_23.w-chrome div#wistia_grid_29_wrapper div#wistia_grid_29_main div#wistia_grid_29_center div.w-ui-container div#w-vulcan-v2-28.w-vulcan-v2.w-css-reset div.w-vulcan--background.w-css-reset div.w-css-reset div div.w-css-reset img.w-css-reset"
   ]
  },
  {
   "cell_type": "code",
   "execution_count": 8,
   "id": "e11d9665",
   "metadata": {},
   "outputs": [],
   "source": [
    "elements = driver.find_elements_by_xpath(\"//li[contains(@class, 'category')]\")"
   ]
  },
  {
   "cell_type": "code",
   "execution_count": 9,
   "id": "66326ecd",
   "metadata": {},
   "outputs": [
    {
     "data": {
      "text/plain": [
       "1"
      ]
     },
     "execution_count": 9,
     "metadata": {},
     "output_type": "execute_result"
    }
   ],
   "source": [
    "len(elements)"
   ]
  },
  {
   "cell_type": "code",
   "execution_count": 10,
   "id": "e3776e91",
   "metadata": {},
   "outputs": [
    {
     "data": {
      "text/plain": [
       "'اواني الطبخ'"
      ]
     },
     "execution_count": 10,
     "metadata": {},
     "output_type": "execute_result"
    }
   ],
   "source": [
    "elements[0].text"
   ]
  },
  {
   "cell_type": "code",
   "execution_count": null,
   "id": "05bbdea9",
   "metadata": {},
   "outputs": [],
   "source": []
  },
  {
   "cell_type": "code",
   "execution_count": 6,
   "id": "4baef10b",
   "metadata": {},
   "outputs": [],
   "source": [
    "categories = driver.find_elements_by_class_name('items')"
   ]
  },
  {
   "cell_type": "code",
   "execution_count": 23,
   "id": "056266b8",
   "metadata": {},
   "outputs": [
    {
     "name": "stdout",
     "output_type": "stream",
     "text": [
      "size1 None\n",
      "size2   الطول 34 * العرض 31 * الارتفاع 31.7\n",
      "Size:   الطول 34 * العرض 31 * الارتفاع 31.7\n"
     ]
    }
   ],
   "source": [
    "size = extraire_function('الأبعاد', list_additional)\n",
    "\n",
    "if size == '' or size == None:\n",
    "    size = extraire_function('القياسات', list_additional)\n",
    "    print('size2', size)\n",
    "if size == '':\n",
    "    size = '__EMPTY__VALUE__'\n",
    "print('Size:', size)"
   ]
  },
  {
   "cell_type": "code",
   "execution_count": 27,
   "id": "27818412",
   "metadata": {},
   "outputs": [],
   "source": [
    "driver.get('https://www.alrugaibfurniture.com/ar/collections/benches/products/tov-oc6464')"
   ]
  },
  {
   "cell_type": "code",
   "execution_count": null,
   "id": "d120cbde",
   "metadata": {},
   "outputs": [],
   "source": []
  },
  {
   "cell_type": "code",
   "execution_count": null,
   "id": "b6ef213b",
   "metadata": {},
   "outputs": [],
   "source": []
  },
  {
   "cell_type": "code",
   "execution_count": null,
   "id": "2c461894",
   "metadata": {},
   "outputs": [],
   "source": []
  },
  {
   "cell_type": "code",
   "execution_count": 20,
   "id": "c4a1b60e",
   "metadata": {},
   "outputs": [
    {
     "data": {
      "text/plain": [
       "'  الطول 34 * العرض 31 * الارتفاع 31.7'"
      ]
     },
     "execution_count": 20,
     "metadata": {},
     "output_type": "execute_result"
    }
   ],
   "source": [
    "size = extraire_function('القياسات', list_additional)\n",
    "size"
   ]
  },
  {
   "cell_type": "code",
   "execution_count": null,
   "id": "e15906d6",
   "metadata": {},
   "outputs": [],
   "source": [
    "text = '31.3 بوصة × 14.8 بوصة عمق × 16.5 بوصة ارتفاع'\n"
   ]
  },
  {
   "cell_type": "code",
   "execution_count": null,
   "id": "43a45607",
   "metadata": {},
   "outputs": [],
   "source": []
  },
  {
   "cell_type": "code",
   "execution_count": null,
   "id": "da6dc1d3",
   "metadata": {},
   "outputs": [],
   "source": []
  },
  {
   "cell_type": "code",
   "execution_count": null,
   "id": "cc7965a4",
   "metadata": {},
   "outputs": [],
   "source": []
  },
  {
   "cell_type": "code",
   "execution_count": null,
   "id": "979aee19",
   "metadata": {},
   "outputs": [],
   "source": []
  },
  {
   "cell_type": "code",
   "execution_count": null,
   "id": "7d7832b3",
   "metadata": {},
   "outputs": [],
   "source": []
  },
  {
   "cell_type": "code",
   "execution_count": null,
   "id": "5b81f738",
   "metadata": {},
   "outputs": [],
   "source": []
  },
  {
   "cell_type": "code",
   "execution_count": null,
   "id": "ad6cda29",
   "metadata": {},
   "outputs": [],
   "source": []
  },
  {
   "cell_type": "code",
   "execution_count": null,
   "id": "d17206df",
   "metadata": {},
   "outputs": [],
   "source": []
  },
  {
   "cell_type": "code",
   "execution_count": null,
   "id": "55806781",
   "metadata": {},
   "outputs": [],
   "source": []
  },
  {
   "cell_type": "code",
   "execution_count": 444,
   "id": "0bae0013",
   "metadata": {},
   "outputs": [],
   "source": [
    "close_videos = driver.find_element_by_class_name('fancybox-item')\n",
    "close_videos.click()"
   ]
  },
  {
   "cell_type": "code",
   "execution_count": null,
   "id": "860496d1",
   "metadata": {},
   "outputs": [],
   "source": []
  },
  {
   "cell_type": "code",
   "execution_count": null,
   "id": "566cddbf",
   "metadata": {},
   "outputs": [],
   "source": [
    "product attribute overview"
   ]
  },
  {
   "cell_type": "code",
   "execution_count": null,
   "id": "ada69794",
   "metadata": {},
   "outputs": [],
   "source": []
  },
  {
   "cell_type": "code",
   "execution_count": null,
   "id": "9f1374fa",
   "metadata": {},
   "outputs": [],
   "source": []
  },
  {
   "cell_type": "code",
   "execution_count": null,
   "id": "cd9da25f",
   "metadata": {},
   "outputs": [],
   "source": []
  },
  {
   "cell_type": "code",
   "execution_count": null,
   "id": "72fe9909",
   "metadata": {},
   "outputs": [],
   "source": []
  },
  {
   "cell_type": "code",
   "execution_count": null,
   "id": "b4901e9d",
   "metadata": {},
   "outputs": [],
   "source": []
  },
  {
   "cell_type": "code",
   "execution_count": null,
   "id": "e29d8ff1",
   "metadata": {},
   "outputs": [],
   "source": []
  },
  {
   "cell_type": "code",
   "execution_count": null,
   "id": "5b9ba605",
   "metadata": {},
   "outputs": [],
   "source": []
  },
  {
   "cell_type": "code",
   "execution_count": null,
   "id": "76ae7deb",
   "metadata": {},
   "outputs": [],
   "source": []
  },
  {
   "cell_type": "code",
   "execution_count": 351,
   "id": "e6218379",
   "metadata": {},
   "outputs": [],
   "source": [
    "driver.get(links_products[7])"
   ]
  },
  {
   "cell_type": "code",
   "execution_count": null,
   "id": "e0b2a83a",
   "metadata": {},
   "outputs": [],
   "source": []
  },
  {
   "cell_type": "code",
   "execution_count": null,
   "id": "0cc7d97f",
   "metadata": {},
   "outputs": [],
   "source": []
  },
  {
   "cell_type": "code",
   "execution_count": null,
   "id": "b57591ee",
   "metadata": {},
   "outputs": [],
   "source": []
  },
  {
   "cell_type": "code",
   "execution_count": 318,
   "id": "fff0d983",
   "metadata": {},
   "outputs": [
    {
     "data": {
      "text/plain": [
       "0"
      ]
     },
     "execution_count": 318,
     "metadata": {},
     "output_type": "execute_result"
    }
   ],
   "source": [
    "iframes = driver.find_elements_by_tag_name('fancybox-frame1624028006217')\n",
    "len(iframes)"
   ]
  },
  {
   "cell_type": "code",
   "execution_count": null,
   "id": "2efd2323",
   "metadata": {},
   "outputs": [],
   "source": []
  },
  {
   "cell_type": "code",
   "execution_count": null,
   "id": "f956ef5c",
   "metadata": {},
   "outputs": [],
   "source": []
  },
  {
   "cell_type": "code",
   "execution_count": null,
   "id": "2c2d585f",
   "metadata": {},
   "outputs": [],
   "source": []
  },
  {
   "cell_type": "code",
   "execution_count": 309,
   "id": "37632d22",
   "metadata": {},
   "outputs": [
    {
     "name": "stdout",
     "output_type": "stream",
     "text": [
      "<selenium.webdriver.firefox.webelement.FirefoxWebElement (session=\"f742ecb7-73fe-4ac8-ae29-0d4fe3b151e5\", element=\"84c97160-8971-4850-b43c-236fe0719e7d\")>\n",
      "<selenium.webdriver.firefox.webelement.FirefoxWebElement (session=\"f742ecb7-73fe-4ac8-ae29-0d4fe3b151e5\", element=\"87294698-ef79-4990-8ed5-233f0a7e8a76\")>\n",
      "<selenium.webdriver.firefox.webelement.FirefoxWebElement (session=\"f742ecb7-73fe-4ac8-ae29-0d4fe3b151e5\", element=\"3d5b990b-e5e7-498b-b790-f105520b70c2\")>\n"
     ]
    }
   ],
   "source": [
    "for f in iframes:\n",
    "    print(f)"
   ]
  },
  {
   "cell_type": "code",
   "execution_count": null,
   "id": "32dbbea3",
   "metadata": {},
   "outputs": [],
   "source": []
  },
  {
   "cell_type": "code",
   "execution_count": null,
   "id": "dff52111",
   "metadata": {},
   "outputs": [],
   "source": []
  },
  {
   "cell_type": "code",
   "execution_count": null,
   "id": "26ff9242",
   "metadata": {},
   "outputs": [],
   "source": []
  },
  {
   "cell_type": "code",
   "execution_count": null,
   "id": "004433e2",
   "metadata": {},
   "outputs": [],
   "source": []
  },
  {
   "cell_type": "code",
   "execution_count": null,
   "id": "8f6fb702",
   "metadata": {},
   "outputs": [],
   "source": []
  },
  {
   "cell_type": "code",
   "execution_count": 44,
   "id": "fe61ed79",
   "metadata": {},
   "outputs": [
    {
     "data": {
      "text/plain": [
       "'غير متوفر'"
      ]
     },
     "execution_count": 44,
     "metadata": {},
     "output_type": "execute_result"
    }
   ],
   "source": []
  },
  {
   "cell_type": "code",
   "execution_count": 320,
   "id": "4088c59c",
   "metadata": {},
   "outputs": [
    {
     "data": {
      "text/plain": [
       "'https://www.tavolashop.com/sa-ar/brands/scanpan'"
      ]
     },
     "execution_count": 320,
     "metadata": {},
     "output_type": "execute_result"
    }
   ],
   "source": [
    "products_marque = driver.find_element_by_class_name('brand-link').get_attribute('href')\n",
    "products_marque"
   ]
  },
  {
   "cell_type": "code",
   "execution_count": null,
   "id": "ca674d46",
   "metadata": {},
   "outputs": [],
   "source": []
  },
  {
   "cell_type": "code",
   "execution_count": 321,
   "id": "9ff9d758",
   "metadata": {},
   "outputs": [
    {
     "data": {
      "text/plain": [
       "'https://www.tavolashop.com/media/catalog/product/cache/brand/150x/wysiwyg/brands-logos/Scanpan.png'"
      ]
     },
     "execution_count": 321,
     "metadata": {},
     "output_type": "execute_result"
    }
   ],
   "source": [
    "image_marque = driver.find_element_by_class_name('brand-image').get_attribute('src')\n",
    "image_marque"
   ]
  },
  {
   "cell_type": "code",
   "execution_count": null,
   "id": "98bab46b",
   "metadata": {},
   "outputs": [],
   "source": []
  },
  {
   "cell_type": "code",
   "execution_count": null,
   "id": "77287791",
   "metadata": {},
   "outputs": [],
   "source": []
  },
  {
   "cell_type": "code",
   "execution_count": 322,
   "id": "feb3b6e5",
   "metadata": {},
   "outputs": [],
   "source": [
    "btn_additional = driver.find_element_by_id('tab-label-additional').click()\n",
    "additinal = driver.find_element_by_id('additional')\n",
    "list_additional = additinal.text.split('\\n')"
   ]
  },
  {
   "cell_type": "code",
   "execution_count": null,
   "id": "20fee640",
   "metadata": {},
   "outputs": [],
   "source": []
  },
  {
   "cell_type": "code",
   "execution_count": null,
   "id": "c84e5a8e",
   "metadata": {},
   "outputs": [],
   "source": []
  },
  {
   "cell_type": "code",
   "execution_count": null,
   "id": "67387cd8",
   "metadata": {},
   "outputs": [],
   "source": []
  },
  {
   "cell_type": "code",
   "execution_count": 324,
   "id": "d6b6df3c",
   "metadata": {},
   "outputs": [],
   "source": [
    "color = extraire_function('اللون', list_additional)\n",
    "color"
   ]
  },
  {
   "cell_type": "code",
   "execution_count": null,
   "id": "35f30a0c",
   "metadata": {},
   "outputs": [],
   "source": []
  },
  {
   "cell_type": "code",
   "execution_count": 323,
   "id": "7406e45a",
   "metadata": {},
   "outputs": [],
   "source": [
    "color = extraire_function('الللون', list_additional)\n",
    "color"
   ]
  },
  {
   "cell_type": "code",
   "execution_count": null,
   "id": "82bee7cf",
   "metadata": {},
   "outputs": [],
   "source": []
  },
  {
   "cell_type": "code",
   "execution_count": null,
   "id": "16bc9925",
   "metadata": {},
   "outputs": [],
   "source": []
  },
  {
   "cell_type": "code",
   "execution_count": null,
   "id": "f6bc1a9f",
   "metadata": {},
   "outputs": [],
   "source": []
  },
  {
   "cell_type": "code",
   "execution_count": 325,
   "id": "2b37eb3f",
   "metadata": {},
   "outputs": [
    {
     "data": {
      "text/plain": [
       "' ألمنيوم مصبوب تحت الضغط مع طبقة تغليف من التيتانيوم والسيراميك مانعة للالتصاق'"
      ]
     },
     "execution_count": 325,
     "metadata": {},
     "output_type": "execute_result"
    }
   ],
   "source": [
    "matter = extraire_function('المادة', list_additional)\n",
    "matter"
   ]
  },
  {
   "cell_type": "code",
   "execution_count": null,
   "id": "64bf9b79",
   "metadata": {},
   "outputs": [],
   "source": []
  },
  {
   "cell_type": "code",
   "execution_count": null,
   "id": "293a48f6",
   "metadata": {},
   "outputs": [],
   "source": []
  },
  {
   "cell_type": "code",
   "execution_count": 11,
   "id": "c3920a7c",
   "metadata": {},
   "outputs": [
    {
     "ename": "NameError",
     "evalue": "name 'extraire_function' is not defined",
     "output_type": "error",
     "traceback": [
      "\u001b[0;31m---------------------------------------------------------------------------\u001b[0m",
      "\u001b[0;31mNameError\u001b[0m                                 Traceback (most recent call last)",
      "\u001b[0;32m<ipython-input-11-c14742b6e6d7>\u001b[0m in \u001b[0;36m<module>\u001b[0;34m\u001b[0m\n\u001b[0;32m----> 1\u001b[0;31m \u001b[0msize\u001b[0m \u001b[0;34m=\u001b[0m \u001b[0mextraire_function\u001b[0m\u001b[0;34m(\u001b[0m\u001b[0;34m'الأبعاد'\u001b[0m\u001b[0;34m,\u001b[0m \u001b[0mlist_additional\u001b[0m\u001b[0;34m)\u001b[0m\u001b[0;34m\u001b[0m\u001b[0;34m\u001b[0m\u001b[0m\n\u001b[0m\u001b[1;32m      2\u001b[0m \u001b[0msize\u001b[0m\u001b[0;34m\u001b[0m\u001b[0;34m\u001b[0m\u001b[0m\n",
      "\u001b[0;31mNameError\u001b[0m: name 'extraire_function' is not defined"
     ]
    }
   ],
   "source": [
    "size = extraire_function('الأبعاد', list_additional)\n",
    "size"
   ]
  },
  {
   "cell_type": "code",
   "execution_count": null,
   "id": "84010295",
   "metadata": {},
   "outputs": [],
   "source": []
  },
  {
   "cell_type": "code",
   "execution_count": null,
   "id": "edd7115f",
   "metadata": {},
   "outputs": [],
   "source": []
  },
  {
   "cell_type": "code",
   "execution_count": 327,
   "id": "d6a7c7f5",
   "metadata": {},
   "outputs": [
    {
     "data": {
      "text/plain": [
       "'  25 سنتم'"
      ]
     },
     "execution_count": 327,
     "metadata": {},
     "output_type": "execute_result"
    }
   ],
   "source": [
    "size = extraire_function('القياسات', list_additional)\n",
    "size"
   ]
  },
  {
   "cell_type": "code",
   "execution_count": null,
   "id": "3e388528",
   "metadata": {},
   "outputs": [],
   "source": []
  },
  {
   "cell_type": "code",
   "execution_count": null,
   "id": "0d3fda8b",
   "metadata": {},
   "outputs": [],
   "source": []
  },
  {
   "cell_type": "code",
   "execution_count": 328,
   "id": "5b5ec17a",
   "metadata": {},
   "outputs": [
    {
     "data": {
      "text/plain": [
       "3"
      ]
     },
     "execution_count": 328,
     "metadata": {},
     "output_type": "execute_result"
    }
   ],
   "source": [
    "images = driver.find_elements_by_class_name('fotorama__thumb')\n",
    "len(images)\n"
   ]
  },
  {
   "cell_type": "code",
   "execution_count": null,
   "id": "2dcd80b0",
   "metadata": {},
   "outputs": [],
   "source": []
  },
  {
   "cell_type": "code",
   "execution_count": null,
   "id": "5655ece2",
   "metadata": {},
   "outputs": [],
   "source": []
  },
  {
   "cell_type": "code",
   "execution_count": null,
   "id": "88057ee0",
   "metadata": {},
   "outputs": [],
   "source": []
  },
  {
   "cell_type": "code",
   "execution_count": null,
   "id": "2bcb92b7",
   "metadata": {},
   "outputs": [],
   "source": []
  },
  {
   "cell_type": "code",
   "execution_count": 364,
   "id": "5c2e7006",
   "metadata": {},
   "outputs": [
    {
     "name": "stdout",
     "output_type": "stream",
     "text": [
      "preview trouver\n"
     ]
    },
    {
     "data": {
      "text/plain": [
       "'https://www.tavolashop.com/media/catalog/product/cache/52fde94c7e92f5761de6797543ff7ff7/s/b/sb-110-20-06_5.jpg'"
      ]
     },
     "execution_count": 364,
     "metadata": {},
     "output_type": "execute_result"
    }
   ],
   "source": [
    "extrair_img()"
   ]
  },
  {
   "cell_type": "code",
   "execution_count": null,
   "id": "777fcbd9",
   "metadata": {},
   "outputs": [],
   "source": []
  },
  {
   "cell_type": "code",
   "execution_count": null,
   "id": "8765b5c3",
   "metadata": {},
   "outputs": [],
   "source": []
  },
  {
   "cell_type": "code",
   "execution_count": 360,
   "id": "f380e5cb",
   "metadata": {},
   "outputs": [],
   "source": [
    "def extrair_img():\n",
    "    url_image = driver.find_element_by_id('preview')\n",
    "    print('preview trouver')\n",
    "    url_image.get_attribute('innerHTML')\n",
    "    soup = BeautifulSoup(url_image.get_attribute('innerHTML'), 'html.parser')\n",
    "    src = soup.find('img')\n",
    "    src = src['src']\n",
    "    return src"
   ]
  },
  {
   "cell_type": "code",
   "execution_count": null,
   "id": "a6f64ee8",
   "metadata": {},
   "outputs": [],
   "source": []
  },
  {
   "cell_type": "code",
   "execution_count": 338,
   "id": "2d6714e6",
   "metadata": {},
   "outputs": [
    {
     "data": {
      "text/plain": [
       "3"
      ]
     },
     "execution_count": 338,
     "metadata": {},
     "output_type": "execute_result"
    }
   ],
   "source": [
    "images = driver.find_elements_by_class_name('fotorama__img--full')\n",
    "len(images)"
   ]
  },
  {
   "cell_type": "code",
   "execution_count": 339,
   "id": "60908daf",
   "metadata": {},
   "outputs": [
    {
     "name": "stdout",
     "output_type": "stream",
     "text": [
      "https://www.tavolashop.com/media/catalog/product/cache/52fde94c7e92f5761de6797543ff7ff7/s/w/sw-42251203_2.jpg\n",
      "https://www.tavolashop.com/media/catalog/product/cache/52fde94c7e92f5761de6797543ff7ff7/s/w/sw-42251203_1.jpg\n",
      "https://www.tavolashop.com/media/catalog/product/cache/52fde94c7e92f5761de6797543ff7ff7/s/w/sw-42251203.jpg\n"
     ]
    }
   ],
   "source": [
    "for img in images:\n",
    "    print(img.get_attribute('src'))"
   ]
  },
  {
   "cell_type": "code",
   "execution_count": 349,
   "id": "51c1e8e4",
   "metadata": {},
   "outputs": [],
   "source": []
  },
  {
   "cell_type": "code",
   "execution_count": null,
   "id": "cdb26b99",
   "metadata": {},
   "outputs": [],
   "source": []
  },
  {
   "cell_type": "code",
   "execution_count": 259,
   "id": "da64dfcc",
   "metadata": {},
   "outputs": [
    {
     "data": {
      "text/plain": [
       "'https://www.tavolashop.com/media/catalog/product/cache/3e4c96dbc6a2100a3a68e8c3c65bb4b2/s/b/sb-110-31-06-_31-cm__1_1.jpg'"
      ]
     },
     "execution_count": 259,
     "metadata": {},
     "output_type": "execute_result"
    }
   ],
   "source": [
    "image = driver.find_element_by_class_name('fotorama__img').get_attribute('src')\n",
    "image"
   ]
  },
  {
   "cell_type": "code",
   "execution_count": null,
   "id": "7188bd12",
   "metadata": {},
   "outputs": [],
   "source": []
  },
  {
   "cell_type": "code",
   "execution_count": 140,
   "id": "4bcd3bbb",
   "metadata": {},
   "outputs": [
    {
     "data": {
      "text/plain": [
       "3"
      ]
     },
     "execution_count": 140,
     "metadata": {},
     "output_type": "execute_result"
    }
   ],
   "source": [
    "url_image = driver.find_elements_by_id('magnifier-item-0')\n",
    "len(url_image)"
   ]
  },
  {
   "cell_type": "code",
   "execution_count": null,
   "id": "8c76a487",
   "metadata": {},
   "outputs": [],
   "source": []
  },
  {
   "cell_type": "code",
   "execution_count": 101,
   "id": "b4a49901",
   "metadata": {},
   "outputs": [],
   "source": [
    "list_images = []"
   ]
  },
  {
   "cell_type": "code",
   "execution_count": null,
   "id": "502af773",
   "metadata": {},
   "outputs": [],
   "source": [
    "preview"
   ]
  },
  {
   "cell_type": "code",
   "execution_count": 162,
   "id": "02fbed48",
   "metadata": {},
   "outputs": [],
   "source": [
    "def extrair_img():\n",
    "    url_image = driver.find_element_by_id('preview')\n",
    "    print('preview trouver')\n",
    "    url_image.get_attribute('innerHTML')\n",
    "    soup = BeautifulSoup(url_image.get_attribute('innerHTML'), 'html.parser')\n",
    "    src = soup.find('img')\n",
    "    src = src['src']\n",
    "    return src"
   ]
  },
  {
   "cell_type": "code",
   "execution_count": null,
   "id": "77e3cb66",
   "metadata": {},
   "outputs": [],
   "source": [
    "dfc = pd.read_excel('')"
   ]
  },
  {
   "cell_type": "code",
   "execution_count": null,
   "id": "7b1f16a8",
   "metadata": {},
   "outputs": [],
   "source": []
  },
  {
   "cell_type": "code",
   "execution_count": null,
   "id": "a9dc6073",
   "metadata": {},
   "outputs": [],
   "source": []
  },
  {
   "cell_type": "code",
   "execution_count": null,
   "id": "0c694cbe",
   "metadata": {},
   "outputs": [],
   "source": []
  },
  {
   "cell_type": "code",
   "execution_count": null,
   "id": "cd8fc303",
   "metadata": {},
   "outputs": [],
   "source": []
  },
  {
   "cell_type": "code",
   "execution_count": null,
   "id": "04f1a10a",
   "metadata": {},
   "outputs": [],
   "source": []
  }
 ],
 "metadata": {
  "interpreter": {
   "hash": "b420c905841007063f2409049de53540f8890289b5ed87b8c05eb383b59f2c06"
  },
  "kernelspec": {
   "display_name": "Python 3",
   "language": "python",
   "name": "python3"
  },
  "language_info": {
   "codemirror_mode": {
    "name": "ipython",
    "version": 3
   },
   "file_extension": ".py",
   "mimetype": "text/x-python",
   "name": "python",
   "nbconvert_exporter": "python",
   "pygments_lexer": "ipython3",
   "version": "3.8.8"
  },
  "toc": {
   "base_numbering": 1,
   "nav_menu": {},
   "number_sections": true,
   "sideBar": true,
   "skip_h1_title": false,
   "title_cell": "Table of Contents",
   "title_sidebar": "Contents",
   "toc_cell": false,
   "toc_position": {
    "height": "calc(100% - 180px)",
    "left": "10px",
    "top": "150px",
    "width": "320px"
   },
   "toc_section_display": true,
   "toc_window_display": true
  }
 },
 "nbformat": 4,
 "nbformat_minor": 5
}
