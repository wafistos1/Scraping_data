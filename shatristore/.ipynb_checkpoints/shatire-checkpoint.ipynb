{
 "cells": [
  {
   "cell_type": "code",
   "execution_count": 2,
   "id": "51b0a636",
   "metadata": {},
   "outputs": [],
   "source": [
    "#imports here\n",
    "from selenium import webdriver\n",
    "from selenium.webdriver.common.keys import Keys\n",
    "from selenium.webdriver.support import expected_conditions as EC\n",
    "from selenium.webdriver.common.by import By\n",
    "from selenium.webdriver.support.wait import WebDriverWait\n",
    "from selenium.webdriver.firefox.options import Options\n",
    "import time\n",
    "import os\n",
    "from fake_useragent import UserAgent\n",
    "from random import randint\n",
    "import pandas as pd\n",
    "import numpy as np\n",
    "import re\n",
    "from datetime import datetime\n",
    "from datetime import timedelta\n",
    "from bs4 import BeautifulSoup"
   ]
  },
  {
   "cell_type": "markdown",
   "id": "e09c5275",
   "metadata": {},
   "source": [
    "# firefox "
   ]
  },
  {
   "cell_type": "code",
   "execution_count": 3,
   "id": "e81ce385",
   "metadata": {},
   "outputs": [
    {
     "name": "stderr",
     "output_type": "stream",
     "text": [
      "Error occurred during loading data. Trying to use cache server https://fake-useragent.herokuapp.com/browsers/0.1.11\n",
      "Traceback (most recent call last):\n",
      "  File \"/home/wafistos/anaconda3/lib/python3.8/site-packages/fake_useragent/utils.py\", line 154, in load\n",
      "    for item in get_browsers(verify_ssl=verify_ssl):\n",
      "  File \"/home/wafistos/anaconda3/lib/python3.8/site-packages/fake_useragent/utils.py\", line 99, in get_browsers\n",
      "    html = html.split('<table class=\"w3-table-all notranslate\">')[1]\n",
      "IndexError: list index out of range\n"
     ]
    },
    {
     "name": "stdout",
     "output_type": "stream",
     "text": [
      "Mozilla/5.0 (Windows NT 6.2) AppleWebKit/537.36 (KHTML, like Gecko) Chrome/28.0.1464.0 Safari/537.36\n"
     ]
    },
    {
     "name": "stderr",
     "output_type": "stream",
     "text": [
      "<ipython-input-3-5315509cced7>:7: DeprecationWarning: use options instead of firefox_options\n",
      "  driver = webdriver.Firefox(firefox_options=options)\n"
     ]
    }
   ],
   "source": [
    "options = Options()\n",
    "ua = UserAgent()\n",
    "userAgent = ua.random\n",
    "print(userAgent)\n",
    "options.add_argument(f'user-agent={userAgent}')\n",
    "#options.add_argument(\"--headless\")\n",
    "driver = webdriver.Firefox(firefox_options=options)\n",
    "#     driver = webdriver.Firefox()"
   ]
  },
  {
   "cell_type": "code",
   "execution_count": 4,
   "id": "4eec53e4",
   "metadata": {},
   "outputs": [],
   "source": [
    "driver.get('https://shatristore.com/ar/household-appliances/vacuum/dwb800')"
   ]
  },
  {
   "cell_type": "code",
   "execution_count": 6,
   "id": "eae9ba2e",
   "metadata": {},
   "outputs": [
    {
     "data": {
      "text/plain": [
       "0"
      ]
     },
     "execution_count": 6,
     "metadata": {},
     "output_type": "execute_result"
    }
   ],
   "source": [
    "urls_links = driver.find_elements_by_class_name('woocommerce-LoopProduct-link')\n",
    "len(urls_links)"
   ]
  },
  {
   "cell_type": "code",
   "execution_count": 110,
   "id": "396ee38b",
   "metadata": {},
   "outputs": [],
   "source": [
    "links_products = []"
   ]
  },
  {
   "cell_type": "code",
   "execution_count": null,
   "id": "19126c9c",
   "metadata": {},
   "outputs": [],
   "source": []
  },
  {
   "cell_type": "code",
   "execution_count": 115,
   "id": "6d74f8eb",
   "metadata": {},
   "outputs": [],
   "source": [
    "for toto in urls_links:\n",
    "    \n",
    "   links_products.append(toto.get_attribute('href'))\n",
    "\n"
   ]
  },
  {
   "cell_type": "code",
   "execution_count": 116,
   "id": "7a29fc45",
   "metadata": {
    "scrolled": false
   },
   "outputs": [
    {
     "data": {
      "text/plain": [
       "[]"
      ]
     },
     "execution_count": 116,
     "metadata": {},
     "output_type": "execute_result"
    }
   ],
   "source": [
    "links_products\n"
   ]
  },
  {
   "cell_type": "code",
   "execution_count": 13,
   "id": "3e57a631",
   "metadata": {},
   "outputs": [],
   "source": [
    "list_url = [\n",
    "    \n",
    "    [\n",
    "        'https://www.sagebrookhome.com/decorative-accessories/bookends/?page=', 2\n",
    "    ],\n",
    "    [\n",
    "            'https://www.sagebrookhome.com/decorative-accessories/bowls-and-plates/?page=', 2\n",
    "    ],\n",
    "    [\n",
    "        'https://www.sagebrookhome.com/decorative-accessories/boxes/?page=', 2\n",
    "    ],\n",
    "    [\n",
    "        'https://www.sagebrookhome.com/decorative-accessories/clocks/?page=', 2\n",
    "    ],\n",
    "    [\n",
    "        'https://www.sagebrookhome.com/decorative-accessories/decorative-objects/?page=', 4\n",
    "    ],\n",
    "    [\n",
    "        'https://www.sagebrookhome.com/figurines/?page=', 5\n",
    "    ],\n",
    "    [\n",
    "        'https://www.sagebrookhome.com/decorative-accessories/frames/?page=', 2\n",
    "    ],\n",
    "    [\n",
    "        'https://www.sagebrookhome.com/decorative-accessories/sculptures/?page=', 3\n",
    "    ],\n",
    "    [\n",
    "        'https://www.sagebrookhome.com/decorative-accessories/storage/?page=', 2\n",
    "    ],\n",
    "    [\n",
    "        'https://www.sagebrookhome.com/decorative-accessories/trays/?page=', 2\n",
    "    ],\n",
    "    [\n",
    "        'https://www.sagebrookhome.com/decorative-accessories/trinkets-and-trays/?page=', 2\n",
    "    ],\n",
    "    [\n",
    "        'https://www.sagebrookhome.com/decorative-accessories/orbs/?page=', 2\n",
    "    ],\n",
    "    [\n",
    "        'https://www.sagebrookhome.com/vases-and-jars/vases/?page=', 5\n",
    "    ],\n",
    "    [\n",
    "        'https://www.sagebrookhome.com/vases-and-jars/jars/?page=', 2\n",
    "    ],\n",
    "    [\n",
    "        'https://www.sagebrookhome.com/candleholders-and-lanterns/candles/?page=', 2\n",
    "    ],\n",
    "    [\n",
    "        'https://www.sagebrookhome.com/candle-holders-and-lanterns/candles/indoor/?page=', 2\n",
    "    ],\n",
    "    [\n",
    "        'https://www.sagebrookhome.com/candleholders-and-lanterns/candleholders-and-tealights/?page=', 5\n",
    "    ],\n",
    "    [\n",
    "        'https://www.sagebrookhome.com/candleholders-and-lanterns/lanterns/?page=', 2\n",
    "    ],\n",
    "    [\n",
    "        'https://www.sagebrookhome.com/wall-decor/wall-art/?page=', 2\n",
    "    ],\n",
    "    [\n",
    "        'https://www.sagebrookhome.com/wall-decor/wall-clocks/?page=', 2\n",
    "    ],\n",
    "    [\n",
    "        'https://www.sagebrookhome.com/wall-decor/wall-flowers/?page=', 2\n",
    "    ],\n",
    "    [\n",
    "        \n",
    "    \n",
    "        'https://www.sagebrookhome.com/wall-decor/wall-hangings/new-category/?page=', 2\n",
    "    ],\n",
    "    [\n",
    "        'https://www.sagebrookhome.com/wall-decor/metal-wall/?page=', 3\n",
    "    ],\n",
    "    [\n",
    "        'https://www.sagebrookhome.com/wall-decor/mirrors/?page=', 2\n",
    "    ],\n",
    "    [\n",
    "        'https://www.sagebrookhome.com/wall-decor/wall-storage/?page=', 2\n",
    "    ],\n",
    "    [\n",
    "        'https://www.sagebrookhome.com/wall-decor/animal-heads/?page=', 2\n",
    "    ],\n",
    "    [\n",
    "        'https://www.sagebrookhome.com/furniture/accent-tables/?page=', 3\n",
    "    ],\n",
    "    [\n",
    "        'https://www.sagebrookhome.com/furniture/bar-carts-and-bars/?page=', 2\n",
    "    ],\n",
    "    [\n",
    "        'https://www.sagebrookhome.com/furniture/chairs/?page=', 2\n",
    "    ],\n",
    "    [\n",
    "        'https://www.sagebrookhome.com/furniture/consoles-and-cabinets/?page=', 2\n",
    "    ],\n",
    "    [\n",
    "        'https://www.sagebrookhome.com/furniture/shelves-bookcases/?page=', 2\n",
    "    ],\n",
    "    [\n",
    "        'https://www.sagebrookhome.com/furniture/sofas-and-loveseats/?page=', 2\n",
    "    ],\n",
    "    [\n",
    "        'https://www.sagebrookhome.com/furniture/stools-ottomans-and-benches/?page=', 2\n",
    "    ],\n",
    "    [\n",
    "        'https://www.sagebrookhome.com/lighting/desk-lamps/?page=', 2\n",
    "    ],\n",
    "    [\n",
    "        'https://www.sagebrookhome.com/lighting/floor-lamps/?page=', 3\n",
    "    ],\n",
    "    [\n",
    "        'https://www.sagebrookhome.com/lighting/table-lamps/?page=', 8\n",
    "    ],\n",
    "    [\n",
    "        'https://www.sagebrookhome.com/lighting/pendants-chandeliers/?page=', 2\n",
    "    ],\n",
    "    [\n",
    "        'https://www.sagebrookhome.com/decorative-accessories/outdoor-decor/birding/?page=', 2\n",
    "    ],\n",
    "    [\n",
    "        'https://www.sagebrookhome.com/decorative-accessories/outdoor-decor/garden-statuary/?page=', 2\n",
    "    ],\n",
    "    [\n",
    "        'https://www.sagebrookhome.com/garden/planters/?page=', 9\n",
    "    ],\n",
    "    [\n",
    "        'https://www.sagebrookhome.com/decorative-accessories/outdoor-decor/plant-stands/?page=', 2\n",
    "    ],\n",
    "    \n",
    "]"
   ]
  },
  {
   "cell_type": "code",
   "execution_count": 291,
   "id": "4537a53b",
   "metadata": {},
   "outputs": [
    {
     "data": {
      "text/plain": [
       "2"
      ]
     },
     "execution_count": 291,
     "metadata": {},
     "output_type": "execute_result"
    }
   ],
   "source": [
    "list_url[0][1]"
   ]
  },
  {
   "cell_type": "code",
   "execution_count": 4,
   "id": "c7f90b28",
   "metadata": {},
   "outputs": [],
   "source": [
    "all_df = pd.read_excel('SageBrook_update2.xlsx')"
   ]
  },
  {
   "cell_type": "code",
   "execution_count": 37,
   "id": "fe185da2",
   "metadata": {},
   "outputs": [
    {
     "data": {
      "text/plain": [
       "(1856, 39)"
      ]
     },
     "execution_count": 37,
     "metadata": {},
     "output_type": "execute_result"
    }
   ],
   "source": [
    "all_df.shape"
   ]
  },
  {
   "cell_type": "code",
   "execution_count": 9,
   "id": "7ce76371",
   "metadata": {},
   "outputs": [
    {
     "data": {
      "text/plain": [
       "0       Marble , Metal\n",
       "1       Marble , Metal\n",
       "2           Ceramic , \n",
       "3           Ceramic , \n",
       "4           Ceramic , \n",
       "             ...      \n",
       "1851           Iron , \n",
       "1852           Iron , \n",
       "1853      Polyresin , \n",
       "1854      Polyresin , \n",
       "1855      Polyresin , \n",
       "Name: raw_materials, Length: 1856, dtype: object"
      ]
     },
     "execution_count": 9,
     "metadata": {},
     "output_type": "execute_result"
    }
   ],
   "source": [
    "all_df.loc[all_df['raw_materials'] == '', 'raw_meterials'] = "
   ]
  },
  {
   "cell_type": "code",
   "execution_count": null,
   "id": "705650f6",
   "metadata": {},
   "outputs": [],
   "source": [
    "for i in range(1, urls):\n",
    "        print('Count:', i)\n",
    "        driver.get(f'{cat[0]}{i}')\n",
    "\n",
    "        urls = driver.find_elements_by_class_name('woocommerce-LoopProduct-link')\n",
    "        len(urls)\n"
   ]
  },
  {
   "cell_type": "markdown",
   "id": "1a2cda0c",
   "metadata": {},
   "source": [
    "# Urls"
   ]
  },
  {
   "cell_type": "code",
   "execution_count": 5,
   "id": "fc76bf03",
   "metadata": {
    "scrolled": true
   },
   "outputs": [
    {
     "ename": "NameError",
     "evalue": "name 'list_url' is not defined",
     "output_type": "error",
     "traceback": [
      "\u001b[0;31m---------------------------------------------------------------------------\u001b[0m",
      "\u001b[0;31mNameError\u001b[0m                                 Traceback (most recent call last)",
      "\u001b[0;32m<ipython-input-5-71cd29557d55>\u001b[0m in \u001b[0;36m<module>\u001b[0;34m\u001b[0m\n\u001b[1;32m      1\u001b[0m \u001b[0mlinks_products\u001b[0m \u001b[0;34m=\u001b[0m \u001b[0;34m[\u001b[0m\u001b[0;34m]\u001b[0m\u001b[0;34m\u001b[0m\u001b[0;34m\u001b[0m\u001b[0m\n\u001b[0;32m----> 2\u001b[0;31m \u001b[0;32mfor\u001b[0m \u001b[0mcat\u001b[0m \u001b[0;32min\u001b[0m \u001b[0mlist_url\u001b[0m\u001b[0;34m:\u001b[0m\u001b[0;34m\u001b[0m\u001b[0;34m\u001b[0m\u001b[0m\n\u001b[0m\u001b[1;32m      3\u001b[0m     \u001b[0;32mfor\u001b[0m \u001b[0mi\u001b[0m \u001b[0;32min\u001b[0m \u001b[0mrange\u001b[0m\u001b[0;34m(\u001b[0m\u001b[0;36m1\u001b[0m\u001b[0;34m,\u001b[0m \u001b[0mcat\u001b[0m\u001b[0;34m[\u001b[0m\u001b[0;36m1\u001b[0m\u001b[0;34m]\u001b[0m\u001b[0;34m)\u001b[0m\u001b[0;34m:\u001b[0m\u001b[0;34m\u001b[0m\u001b[0;34m\u001b[0m\u001b[0m\n\u001b[1;32m      4\u001b[0m         \u001b[0mprint\u001b[0m\u001b[0;34m(\u001b[0m\u001b[0;34m'Count:'\u001b[0m\u001b[0;34m,\u001b[0m \u001b[0mi\u001b[0m\u001b[0;34m)\u001b[0m\u001b[0;34m\u001b[0m\u001b[0;34m\u001b[0m\u001b[0m\n\u001b[1;32m      5\u001b[0m         \u001b[0mdriver\u001b[0m\u001b[0;34m.\u001b[0m\u001b[0mget\u001b[0m\u001b[0;34m(\u001b[0m\u001b[0;34mf'{cat[0]}{i}'\u001b[0m\u001b[0;34m)\u001b[0m\u001b[0;34m\u001b[0m\u001b[0;34m\u001b[0m\u001b[0m\n",
      "\u001b[0;31mNameError\u001b[0m: name 'list_url' is not defined"
     ]
    }
   ],
   "source": [
    "links_products = []\n",
    "for cat in list_url:\n",
    "    for i in range(1, cat[1]):\n",
    "        print('Count:', i)\n",
    "        driver.get(f'{cat[0]}{i}')\n",
    "\n",
    "        urls = driver.find_elements_by_class_name('woocommerce-LoopProduct-link')\n",
    "        len(urls)\n",
    "\n",
    "        #Forloop to get all url products\n",
    "        for url in urls:\n",
    "            links_products.append(url.get_attribute('href'))\n",
    "        #     time.sleep(0.5)\n",
    "        time.sleep(1)\n",
    "        print(len(links_products))\n",
    "now = datetime.now()\n",
    "dt_string = now.strftime(\"%d-%m-%Y-%H-%M-%S\")\n",
    "#Save link in excel files\n",
    "link_living_rooms = {\n",
    "    'liste': links_products,\n",
    "}\n",
    "\n",
    "liste_link_living_rooms = pd.DataFrame(link_living_rooms)\n",
    "liste_link_living_rooms.to_excel(f'link_sagebrook-{dt_string}.xlsx')"
   ]
  },
  {
   "cell_type": "code",
   "execution_count": 38,
   "id": "505b32e5",
   "metadata": {},
   "outputs": [
    {
     "data": {
      "text/plain": [
       "1970"
      ]
     },
     "execution_count": 38,
     "metadata": {},
     "output_type": "execute_result"
    }
   ],
   "source": [
    "len(links_products)\n",
    "\n"
   ]
  },
  {
   "cell_type": "code",
   "execution_count": 6,
   "id": "e2c8a79b",
   "metadata": {},
   "outputs": [
    {
     "name": "stdout",
     "output_type": "stream",
     "text": [
      "745\n"
     ]
    }
   ],
   "source": [
    "\n",
    "Home\n",
    "Alternative Wall Decor\n",
    "View A"
   ]
  },
  {
   "cell_type": "markdown",
   "id": "f481327f",
   "metadata": {},
   "source": [
    "# Create elements"
   ]
  },
  {
   "cell_type": "code",
   "execution_count": 7,
   "id": "b243eb50",
   "metadata": {},
   "outputs": [
    {
     "data": {
      "text/plain": [
       "19"
      ]
     },
     "execution_count": 7,
     "metadata": {},
     "output_type": "execute_result"
    }
   ],
   "source": [
    "url_links = driver.find_elements_by_xpath('//a[contains(@class, \"product-item-link\")]')\n",
    "len(url_links)"
   ]
  },
  {
   "cell_type": "code",
   "execution_count": 8,
   "id": "64df8cd0",
   "metadata": {},
   "outputs": [],
   "source": [
    "links_products = []\n",
    "for tt in url_links:\n",
    "\n",
    "    links_products.append(tt.get_attribute('href'))\n"
   ]
  },
  {
   "cell_type": "code",
   "execution_count": 41,
   "id": "1e117919",
   "metadata": {},
   "outputs": [
    {
     "name": "stdout",
     "output_type": "stream",
     "text": [
      "163054\n"
     ]
    }
   ],
   "source": [
    "sku = driver.find_element_by_xpath('//div[@itemprop=\"sku\"]')\n",
    "print(sku.text)\n",
    "//"
   ]
  },
  {
   "cell_type": "code",
   "execution_count": 43,
   "id": "1ca631e0",
   "metadata": {},
   "outputs": [
    {
     "name": "stdout",
     "output_type": "stream",
     "text": [
      "بيبي ليس مملس الشعر الرقمي\n"
     ]
    }
   ],
   "source": [
    "name = driver.find_element_by_xpath('//h1[@class=\"page-title\"]')\n",
    "print(name.text)\n",
    "//"
   ]
  },
  {
   "cell_type": "code",
   "execution_count": 48,
   "id": "78fdb1c0",
   "metadata": {},
   "outputs": [
    {
     "name": "stdout",
     "output_type": "stream",
     "text": [
      ":قبل\n",
      "ريال320.00\n"
     ]
    }
   ],
   "source": [
    "price_old = driver.find_element_by_xpath('//span[@class=\"old-price\"]')\n",
    "print(price_old.text)\n",
    "//"
   ]
  },
  {
   "cell_type": "code",
   "execution_count": 49,
   "id": "e8b8ca21",
   "metadata": {},
   "outputs": [
    {
     "name": "stdout",
     "output_type": "stream",
     "text": [
      "Now:\n",
      "ريال219.00\n"
     ]
    }
   ],
   "source": [
    "price = driver.find_element_by_xpath('//span[@class=\"special-price\"]')\n",
    "print(price.text)\n",
    "//"
   ]
  },
  {
   "cell_type": "code",
   "execution_count": null,
   "id": "75b6ae2e",
   "metadata": {},
   "outputs": [],
   "source": []
  },
  {
   "cell_type": "code",
   "execution_count": 52,
   "id": "f3a8a565",
   "metadata": {},
   "outputs": [
    {
     "name": "stdout",
     "output_type": "stream",
     "text": [
      "متوفر\n"
     ]
    }
   ],
   "source": [
    "is_in_stock = driver.find_element_by_xpath('//div[@class=\"product-info-stock-sku\"]//span').text\n",
    "print(is_in_stock.text)\n",
    "//"
   ]
  },
  {
   "cell_type": "code",
   "execution_count": null,
   "id": "46543eae",
   "metadata": {},
   "outputs": [],
   "source": []
  },
  {
   "cell_type": "code",
   "execution_count": 16,
   "id": "eed8937a",
   "metadata": {},
   "outputs": [
    {
     "data": {
      "text/plain": [
       "['معلومات اخرى',\n",
       " 'علامة تجارية دانسات',\n",
       " 'النوع شاشة تلفزيون عادي',\n",
       " 'المقاس 32 بوصه',\n",
       " 'بلد الصنع صنع في الصين',\n",
       " 'اللون أسود',\n",
       " 'الموديل (DTD32BH)',\n",
       " 'الضمان ضمان الوكيل سنتين',\n",
       " 'يو اس بي نعم',\n",
       " 'واي فاي لا',\n",
       " 'HDMI نعم',\n",
       " 'مع قاعدة نعم',\n",
       " 'دقة الشاشة اتش دي',\n",
       " 'نظام الشاشة شاشة عادية',\n",
       " 'التردد الكهربائي 50 - 60 هيرتز',\n",
       " 'الجهد الكهربائي 220/240 فولت',\n",
       " 'الابعاد 47X20X73 cm']"
      ]
     },
     "execution_count": 16,
     "metadata": {},
     "output_type": "execute_result"
    }
   ],
   "source": [
    "click_details = driver.find_element_by_xpath('//a[@id=\"tab-label-additional-title\"]')\n",
    "webdriver.ActionChains(driver).move_to_element(click_details ).click(click_details ).perform()\n",
    "details_ele = driver.find_element_by_xpath('//DIV[@id=\"additional\"]')\n",
    "details = details_ele.text.split('\\n')\n",
    "details"
   ]
  },
  {
   "cell_type": "code",
   "execution_count": null,
   "id": "b3e608b8",
   "metadata": {},
   "outputs": [],
   "source": [
    "additional"
   ]
  },
  {
   "cell_type": "code",
   "execution_count": null,
   "id": "8435bda0",
   "metadata": {},
   "outputs": [],
   "source": []
  },
  {
   "cell_type": "code",
   "execution_count": 59,
   "id": "4d04289c",
   "metadata": {},
   "outputs": [
    {
     "name": "stdout",
     "output_type": "stream",
     "text": [
      "['معلومات اخرى', 'علامة تجارية بيبي ليس', 'النوع سيراميكات ديجتال', 'درجة الحرارة 220 c', 'بخاصية البخار لا', 'بلد الصنع صنع في الصين', 'اللون أسود', 'الموديل BABST450SDE', 'الضمان ضمان الوكيل سنتين', 'التردد الكهربائي 50 - 60 هيرتز', 'الجهد الكهربائي 220/240 فولت']\n"
     ]
    }
   ],
   "source": [
    "\n",
    "print(details)"
   ]
  },
  {
   "cell_type": "code",
   "execution_count": 60,
   "id": "94863d1a",
   "metadata": {},
   "outputs": [
    {
     "name": "stdout",
     "output_type": "stream",
     "text": [
      "['اللون أسود']\n"
     ]
    }
   ],
   "source": [
    "try:\n",
    "    free_colors = [fo for fo in details if 'اللون' in fo ]\n",
    "except:\n",
    "    free_colors = ''\n",
    "//"
   ]
  },
  {
   "cell_type": "code",
   "execution_count": 61,
   "id": "1a3372fc",
   "metadata": {},
   "outputs": [
    {
     "name": "stdout",
     "output_type": "stream",
     "text": [
      "['التردد الكهربائي 50 - 60 هيرتز']\n"
     ]
    }
   ],
   "source": [
    "try:\n",
    "    hertz = [fo for fo in details if 'التردد الكهربائي' in fo][0]\n",
    "except:\n",
    "    hertz = ''\n",
    "//"
   ]
  },
  {
   "cell_type": "code",
   "execution_count": 62,
   "id": "0966b401",
   "metadata": {},
   "outputs": [
    {
     "data": {
      "text/plain": [
       "['الجهد الكهربائي 220/240 فولت']"
      ]
     },
     "execution_count": 62,
     "metadata": {},
     "output_type": "execute_result"
    }
   ],
   "source": [
    "try:\n",
    "    voltage = [fo for fo in details if 'الجهد الكهربائي' in fo][0]\n",
    "except:\n",
    "    voltage\n",
    "    //"
   ]
  },
  {
   "cell_type": "code",
   "execution_count": 8,
   "id": "f7b66af9",
   "metadata": {},
   "outputs": [
    {
     "data": {
      "text/plain": [
       "''"
      ]
     },
     "execution_count": 8,
     "metadata": {},
     "output_type": "execute_result"
    }
   ],
   "source": [
    "try:\n",
    "    power = [fo for fo in details if 'االقوة الكهربائية' in fo][0]\n",
    "    print('tit')\n",
    "except:\n",
    "    power = ''\n",
    "power"
   ]
  },
  {
   "cell_type": "code",
   "execution_count": 18,
   "id": "6d0190e6",
   "metadata": {},
   "outputs": [
    {
     "name": "stdout",
     "output_type": "stream",
     "text": [
      "tit\n"
     ]
    },
    {
     "data": {
      "text/plain": [
       "' شاشة تلفزيون عادي'"
      ]
     },
     "execution_count": 18,
     "metadata": {},
     "output_type": "execute_result"
    }
   ],
   "source": [
    "try:\n",
    "    tp = [fo for fo in details if 'النوع' in fo][0].replace('النوع', '')\n",
    "    print('tit')\n",
    "except:\n",
    "    tp = ''\n",
    "try:\n",
    "    size = [fo for fo in details if 'المقاس ' in fo][0].replace('المقاس ', '')\n",
    "    print('tit')\n",
    "except:\n",
    "    size = ''\n",
    "tp"
   ]
  },
  {
   "cell_type": "code",
   "execution_count": 20,
   "id": "7cabcd31",
   "metadata": {},
   "outputs": [
    {
     "name": "stdout",
     "output_type": "stream",
     "text": [
      "tit\n"
     ]
    },
    {
     "data": {
      "text/plain": [
       "'32 بوصه'"
      ]
     },
     "execution_count": 20,
     "metadata": {},
     "output_type": "execute_result"
    }
   ],
   "source": [
    "try:\n",
    "    size = [fo for fo in details if 'المقاس ' in fo][0].replace('المقاس ', '')\n",
    "    print('tit')\n",
    "except:\n",
    "    size = ''\n",
    "size"
   ]
  },
  {
   "cell_type": "code",
   "execution_count": null,
   "id": "2e8337ca",
   "metadata": {},
   "outputs": [],
   "source": []
  },
  {
   "cell_type": "code",
   "execution_count": 11,
   "id": "5007d22b",
   "metadata": {},
   "outputs": [
    {
     "data": {
      "text/plain": [
       "['معلومات اخرى',\n",
       " 'القوة الكهربائية 800 واط',\n",
       " 'بلد الصنع صنع في الصين',\n",
       " 'اللون الأصفر',\n",
       " 'الموديل DWB800',\n",
       " 'الضمان ضمان الوكيل سنتين',\n",
       " 'التردد الكهربائي 50 - 60 هيرتز',\n",
       " 'الجهد الكهربائي 220/240 فولت',\n",
       " 'الابعاد 33x20x22 cm']"
      ]
     },
     "execution_count": 11,
     "metadata": {},
     "output_type": "execute_result"
    }
   ],
   "source": [
    "details"
   ]
  },
  {
   "cell_type": "code",
   "execution_count": 15,
   "id": "45edcf22",
   "metadata": {},
   "outputs": [
    {
     "data": {
      "text/plain": [
       "'33x20x22'"
      ]
     },
     "execution_count": 15,
     "metadata": {},
     "output_type": "execute_result"
    }
   ],
   "source": [
    "product_size = [fo for fo in details if 'الابعاد' in fo][0].replace('الابعاد', '').replace('cm', '').strip()\n",
    "product_size\n",
    "//"
   ]
  },
  {
   "cell_type": "code",
   "execution_count": null,
   "id": "9791c823",
   "metadata": {},
   "outputs": [],
   "source": []
  },
  {
   "cell_type": "code",
   "execution_count": 14,
   "id": "b77ed7b2",
   "metadata": {},
   "outputs": [
    {
     "data": {
      "text/plain": [
       "'800'"
      ]
     },
     "execution_count": 14,
     "metadata": {},
     "output_type": "execute_result"
    }
   ],
   "source": [
    "power = [fo for fo in details if 'القوة الكهربائية' in fo][0].replace('القوة الكهربائية', '').replace('واط', '').strip()\n",
    "power\n",
    "//"
   ]
  },
  {
   "cell_type": "code",
   "execution_count": 165,
   "id": "6988a25f",
   "metadata": {},
   "outputs": [
    {
     "data": {
      "text/plain": [
       "5"
      ]
     },
     "execution_count": 165,
     "metadata": {},
     "output_type": "execute_result"
    }
   ],
   "source": [
    "cats = driver.find_elements_by_xpath('//div[@class=\"breadcrumbs\"]//li')\n",
    "len(cats)//"
   ]
  },
  {
   "cell_type": "code",
   "execution_count": 167,
   "id": "4cfbc905",
   "metadata": {},
   "outputs": [
    {
     "data": {
      "text/plain": [
       "'العنايه الشخصيه'"
      ]
     },
     "execution_count": 167,
     "metadata": {},
     "output_type": "execute_result"
    }
   ],
   "source": [
    "cat1 = cats[1].text\n",
    "cat1//"
   ]
  },
  {
   "cell_type": "code",
   "execution_count": null,
   "id": "e18256fd",
   "metadata": {},
   "outputs": [],
   "source": []
  },
  {
   "cell_type": "code",
   "execution_count": null,
   "id": "5a99cf46",
   "metadata": {},
   "outputs": [],
   "source": [
    "https://shatristore.com/pub/media/catalog/product/re-2042-3.png\n",
    "https://shatristore.com/pub/media/catalog/product/cache/8564f01c48ad13e49c920532682fbe1b/r/e/re-2042-3.png"
   ]
  },
  {
   "cell_type": "code",
   "execution_count": null,
   "id": "6cf27b95",
   "metadata": {},
   "outputs": [],
   "source": [
    "https://shatristore.com/pub/media/catalog/product/cache/8564f01c48ad13e49c920532682fbe1b/r/e/re-2042-2.png"
   ]
  },
  {
   "cell_type": "code",
   "execution_count": null,
   "id": "9bd7c308",
   "metadata": {},
   "outputs": [],
   "source": [
    "https://shatristore.com/pub/media/catalog/product/cache/2e24353f833bba322b482bccad1c1fdf/u/e/uehd-403.png"
   ]
  },
  {
   "cell_type": "code",
   "execution_count": 116,
   "id": "5bad418a",
   "metadata": {},
   "outputs": [
    {
     "data": {
      "text/plain": [
       "3"
      ]
     },
     "execution_count": 116,
     "metadata": {},
     "output_type": "execute_result"
    }
   ],
   "source": [
    "flot_imgs = driver.find_elements_by_xpath('//div[@class=\"fotorama__nav__frame fotorama__nav__frame--thumb\"]')\n",
    "len(flot_imgs)"
   ]
  },
  {
   "cell_type": "code",
   "execution_count": 135,
   "id": "a0f93f29",
   "metadata": {},
   "outputs": [
    {
     "data": {
      "text/plain": [
       "'https://shatristore.com/pub/media/catalog/product/cache/2e24353f833bba322b482bccad1c1fdf/r/e/re-2042-1.png'"
      ]
     },
     "execution_count": 135,
     "metadata": {},
     "output_type": "execute_result"
    }
   ],
   "source": [
    "toto = driver.find_element_by_class_name('fotorama__img').get_attribute('src')\n",
    "toto"
   ]
  },
  {
   "cell_type": "code",
   "execution_count": 151,
   "id": "76c479dd",
   "metadata": {},
   "outputs": [
    {
     "data": {
      "text/plain": [
       "3"
      ]
     },
     "execution_count": 151,
     "metadata": {},
     "output_type": "execute_result"
    }
   ],
   "source": [
    "flot_imgs = driver.find_elements_by_xpath('//div[@class=\"fotorama__stage__shaft fotorama__grab\"]//img')\n",
    "len(flot_imgs)"
   ]
  },
  {
   "cell_type": "code",
   "execution_count": 150,
   "id": "98a14f4c",
   "metadata": {},
   "outputs": [
    {
     "data": {
      "text/plain": [
       "'https://shatristore.com/pub/media/catalog/product/cache/2e24353f833bba322b482bccad1c1fdf/r/e/re-2042.png'"
      ]
     },
     "execution_count": 150,
     "metadata": {},
     "output_type": "execute_result"
    }
   ],
   "source": [
    "image = driver.find_element_by_class_name('fotorama__img').get_attribute('src')\n",
    "image"
   ]
  },
  {
   "cell_type": "code",
   "execution_count": null,
   "id": "53063ac4",
   "metadata": {},
   "outputs": [],
   "source": [
    "fotorama__img"
   ]
  },
  {
   "cell_type": "code",
   "execution_count": 152,
   "id": "435d95aa",
   "metadata": {},
   "outputs": [
    {
     "name": "stdout",
     "output_type": "stream",
     "text": [
      "https://shatristore.com/pub/media/catalog/product/cache/2e24353f833bba322b482bccad1c1fdf/r/e/re-2042.png\n",
      "https://shatristore.com/pub/media/catalog/product/cache/2e24353f833bba322b482bccad1c1fdf/r/e/re-2042-1.png\n",
      "https://shatristore.com/pub/media/catalog/product/cache/2e24353f833bba322b482bccad1c1fdf/r/e/re-2042-3.png\n"
     ]
    }
   ],
   "source": [
    "for img in flot_imgs:\n",
    "    print(img.get_attribute('src'))"
   ]
  },
  {
   "cell_type": "code",
   "execution_count": 153,
   "id": "e4b7ab04",
   "metadata": {},
   "outputs": [
    {
     "name": "stdout",
     "output_type": "stream",
     "text": [
      "3\n"
     ]
    }
   ],
   "source": [
    "list_images = []\n",
    "flot_imgs = driver.find_elements_by_xpath('//div[@class=\"fotorama__stage__shaft fotorama__grab\"]//img')\n",
    "print(len(flot_imgs))\n",
    "for img in flot_imgs:\n",
    "    \n",
    "    list_images.append(img.get_attribute('src'))\n",
    "    time.sleep(2)\n",
    "    \n",
    "    \n",
    "\n"
   ]
  },
  {
   "cell_type": "code",
   "execution_count": 173,
   "id": "418f87fe",
   "metadata": {},
   "outputs": [
    {
     "data": {
      "text/plain": [
       "'نيكاي'"
      ]
     },
     "execution_count": 173,
     "metadata": {},
     "output_type": "execute_result"
    }
   ],
   "source": [
    "brand = driver.find_element_by_xpath('//div[@class=\"product-brand-logo\"]/a/img').get_attribute('title')\n",
    "brand_image = driver.find_element_by_xpath('//div[@class=\"product-brand-logo\"]/a/img').get_attribute('src')\n",
    "brand\n",
    "//"
   ]
  },
  {
   "cell_type": "code",
   "execution_count": 174,
   "id": "a2675bda",
   "metadata": {},
   "outputs": [
    {
     "data": {
      "text/plain": [
       "'https://shatristore.com/pub/media/mageplaza/brand/nikai-_logo-ready_2.png'"
      ]
     },
     "execution_count": 174,
     "metadata": {},
     "output_type": "execute_result"
    }
   ],
   "source": [
    "brand_image = driver.find_element_by_xpath('//div[@class=\"product-brand-logo\"]/a/img').get_attribute('src')\n",
    "brand_image\n",
    "//"
   ]
  },
  {
   "cell_type": "code",
   "execution_count": null,
   "id": "84b4ad11",
   "metadata": {},
   "outputs": [],
   "source": []
  },
  {
   "cell_type": "code",
   "execution_count": null,
   "id": "91322267",
   "metadata": {},
   "outputs": [],
   "source": []
  },
  {
   "cell_type": "code",
   "execution_count": null,
   "id": "3d74aac0",
   "metadata": {},
   "outputs": [],
   "source": []
  },
  {
   "cell_type": "code",
   "execution_count": 154,
   "id": "8fbb2527",
   "metadata": {},
   "outputs": [
    {
     "data": {
      "text/plain": [
       "['https://shatristore.com/pub/media/catalog/product/cache/2e24353f833bba322b482bccad1c1fdf/r/e/re-2042.png',\n",
       " 'https://shatristore.com/pub/media/catalog/product/cache/2e24353f833bba322b482bccad1c1fdf/r/e/re-2042-1.png',\n",
       " 'https://shatristore.com/pub/media/catalog/product/cache/2e24353f833bba322b482bccad1c1fdf/r/e/re-2042-3.png']"
      ]
     },
     "execution_count": 154,
     "metadata": {},
     "output_type": "execute_result"
    }
   ],
   "source": [
    "list_images"
   ]
  },
  {
   "cell_type": "code",
   "execution_count": 73,
   "id": "ebafe101",
   "metadata": {},
   "outputs": [
    {
     "name": "stdout",
     "output_type": "stream",
     "text": [
      "width 210.8 depth 105.4 92.7 71.6\n"
     ]
    }
   ],
   "source": [
    "click_dimension = driver.find_elements_by_class_name('product-tab-heading')[0]\n",
    "click_dimension.click()\n",
    "time.sleep(0.5)\n",
    "dimension = driver.find_elements_by_xpath('//div[@data-tab-class=\"Dimensions\"]/p')\n",
    "width = dimension[0].text.split(' ')[-2].replace('(', '')\n",
    "depth = dimension[1].text.split(' ')[-2].replace('(', '')\n",
    "height = dimension[2].text.split(' ')[-2].replace('(', '')\n",
    "weight = dimension[3].text.split(' ')[-2].replace('(', '')\n",
    "\n",
    "print('width',width, 'depth',depth, height, weight)"
   ]
  },
  {
   "cell_type": "code",
   "execution_count": 67,
   "id": "6f7f185b",
   "metadata": {},
   "outputs": [
    {
     "name": "stdout",
     "output_type": "stream",
     "text": [
      "Width: 83\" (210.8 cm) Depth: 41 1/2\" (105.4 cm) Height: 36 1/2\" (92.7 cm) Weight: 159 lb (71.6 kg)\n"
     ]
    }
   ],
   "source": [
    "dimensions = driver.find_elements_by_xpath('//div[@data-tab-class=\"Dimensions\"]/p')\n",
    "width = dimensions[0].text\n",
    "depth = dimensions[1].text\n",
    "height = dimensions[2].text\n",
    "weight = dimensions[3].text\n",
    "\n",
    "print(width, depth, height, weight)"
   ]
  },
  {
   "cell_type": "code",
   "execution_count": 61,
   "id": "93eb6234",
   "metadata": {},
   "outputs": [
    {
     "data": {
      "text/plain": [
       "'Brown'"
      ]
     },
     "execution_count": 61,
     "metadata": {},
     "output_type": "execute_result"
    }
   ],
   "source": [
    "\n"
   ]
  },
  {
   "cell_type": "code",
   "execution_count": 50,
   "id": "c6148cf4",
   "metadata": {},
   "outputs": [
    {
     "name": "stdout",
     "output_type": "stream",
     "text": [
      "i 0\n",
      "Frame Construction: Kiln dried, laminated, and select hardwoods that are precision machined for fluid and consistent shape.\n",
      "i 1\n",
      "Padding: Pattern cut urethane foam that is padded with felt polyester fibers, assuring the important qualities of comfort, loft, resilience, and good recovery.\n",
      "i 2\n",
      "Seat: A high resilient, high density foam core wrapped with virgin polyester fibers, assuring luxurious comfort and pleasing crown appearance. This is then covered with a special ticking for pillow soft comfort.\n",
      "i 3\n",
      "Seat Back: Filled with precision cut foam and highly resilient polyester fibers or filled with 100% virgin polyester fibers enclosed in a special ticking for pillow soft comfort.\n",
      "i 4\n",
      "Color Family: Brown\n",
      "i 5\n",
      "SKU: SS387-03-087\n",
      "i 6\n",
      "Brand: Hooker Furniture\n",
      "i 7\n",
      "Category: Living Room\n",
      "i 8\n",
      "Description: Exton Stationary Sofa\n",
      "i 9\n",
      "Leather Type: Aniline\n",
      "i 10\n",
      "Status: Active\n",
      "i 11\n",
      "Type: Sofas, Three Cushion Sofas\n"
     ]
    }
   ],
   "source": [
    "for i, detail in enumerate(details):\n",
    "    print('i', i)\n",
    "    print( detail.text)"
   ]
  },
  {
   "cell_type": "code",
   "execution_count": 60,
   "id": "15be3fda",
   "metadata": {},
   "outputs": [
    {
     "data": {
      "text/plain": [
       "'Leather'"
      ]
     },
     "execution_count": 60,
     "metadata": {},
     "output_type": "execute_result"
    }
   ],
   "source": [
    "click_material = driver.find_elements_by_class_name('product-tab-heading')\n",
    "click_material[2].click()\n",
    "toto = driver.find_elements_by_xpath('//div[@data-tab-class=\"DesignElementsFeatures\"]/p')\n",
    "raw_materials = toto[0].text.replace('Material:', '').strip()\n",
    "raw_materials\n"
   ]
  },
  {
   "cell_type": "code",
   "execution_count": 102,
   "id": "2506ca2a",
   "metadata": {},
   "outputs": [
    {
     "data": {
      "text/plain": [
       "'Brown'"
      ]
     },
     "execution_count": 102,
     "metadata": {},
     "output_type": "execute_result"
    }
   ],
   "source": [
    "free_colors = ''\n",
    "click_other = driver.find_elements_by_class_name('product-tab-heading')\n",
    "click_other[3].click()\n",
    "details = driver.find_elements_by_xpath('//div[@data-tab-class=\"OtherDetails\"]/p')\n",
    "for det in details:\n",
    "    if  'Color Family:' in det.text:\n",
    "        free_colors = det.text.replace('Color Family:', '').strip()\n",
    "# free_colors = details[4].text.replace('Color Family:', '').strip()\n",
    "free_colors"
   ]
  },
  {
   "cell_type": "code",
   "execution_count": 89,
   "id": "7dddc23d",
   "metadata": {},
   "outputs": [
    {
     "data": {
      "text/plain": [
       "['https://images2.imgix.net/p4dbimg/5/images/old-english-saddle.jpg',\n",
       " 'https://images2.imgix.net/p4dbimg/5/images/ss387-03-087-silo.jpg']"
      ]
     },
     "execution_count": 89,
     "metadata": {},
     "output_type": "execute_result"
    }
   ],
   "source": [
    "list_images = []\n",
    "images = driver.find_elements_by_xpath('//a[@class=\"mz-thumb\"]')\n",
    "for img in images:\n",
    "    img.click()\n",
    "    toto = driver.find_element_by_xpath('//figure/img')\n",
    "    list_images.append(toto.get_attribute('src').split('?')[0])\n",
    "    time.sleep(0.8)\n",
    "list_images "
   ]
  },
  {
   "cell_type": "code",
   "execution_count": 84,
   "id": "20ef5ee0",
   "metadata": {},
   "outputs": [
    {
     "name": "stdout",
     "output_type": "stream",
     "text": [
      "https://images2.imgix.net/p4dbimg/5/images/ss387-03-087-silo.jpg\n"
     ]
    }
   ],
   "source": []
  },
  {
   "cell_type": "code",
   "execution_count": null,
   "id": "425703f1",
   "metadata": {},
   "outputs": [],
   "source": []
  },
  {
   "cell_type": "code",
   "execution_count": null,
   "id": "a923d28f",
   "metadata": {},
   "outputs": [],
   "source": []
  },
  {
   "cell_type": "code",
   "execution_count": null,
   "id": "5d479390",
   "metadata": {},
   "outputs": [],
   "source": []
  },
  {
   "cell_type": "code",
   "execution_count": null,
   "id": "3588d935",
   "metadata": {},
   "outputs": [],
   "source": []
  },
  {
   "cell_type": "code",
   "execution_count": null,
   "id": "1c831f3c",
   "metadata": {},
   "outputs": [],
   "source": []
  },
  {
   "cell_type": "code",
   "execution_count": 29,
   "id": "45239f58",
   "metadata": {},
   "outputs": [
    {
     "ename": "NoSuchElementException",
     "evalue": "Message: Unable to locate element: //div[contains(text(),\"Style\")]\n",
     "output_type": "error",
     "traceback": [
      "\u001b[0;31m---------------------------------------------------------------------------\u001b[0m",
      "\u001b[0;31mNoSuchElementException\u001b[0m                    Traceback (most recent call last)",
      "\u001b[0;32m<ipython-input-29-d3429a8eb199>\u001b[0m in \u001b[0;36m<module>\u001b[0;34m\u001b[0m\n\u001b[0;32m----> 1\u001b[0;31m \u001b[0mlist_elements\u001b[0m \u001b[0;34m=\u001b[0m \u001b[0mdriver\u001b[0m\u001b[0;34m.\u001b[0m\u001b[0mfind_element_by_xpath\u001b[0m\u001b[0;34m(\u001b[0m\u001b[0;34m'//div[contains(text(),\"Style\")]'\u001b[0m\u001b[0;34m)\u001b[0m\u001b[0;34m.\u001b[0m\u001b[0mtext\u001b[0m\u001b[0;34m\u001b[0m\u001b[0;34m\u001b[0m\u001b[0m\n\u001b[0m\u001b[1;32m      2\u001b[0m \u001b[0mraw_material_list\u001b[0m \u001b[0;34m=\u001b[0m \u001b[0mlist_elements\u001b[0m\u001b[0;34m.\u001b[0m\u001b[0msplit\u001b[0m\u001b[0;34m(\u001b[0m\u001b[0;34m'\\n'\u001b[0m\u001b[0;34m)\u001b[0m\u001b[0;34m\u001b[0m\u001b[0;34m\u001b[0m\u001b[0m\n\u001b[1;32m      3\u001b[0m \u001b[0mraw_material\u001b[0m \u001b[0;34m=\u001b[0m \u001b[0;34m[\u001b[0m\u001b[0mele\u001b[0m \u001b[0;32mfor\u001b[0m \u001b[0mele\u001b[0m \u001b[0;32min\u001b[0m \u001b[0mraw_material_list\u001b[0m \u001b[0;32mif\u001b[0m \u001b[0;34m'Material'\u001b[0m \u001b[0;32min\u001b[0m \u001b[0mele\u001b[0m\u001b[0;34m]\u001b[0m\u001b[0;34m[\u001b[0m\u001b[0;36m0\u001b[0m\u001b[0;34m]\u001b[0m\u001b[0;34m.\u001b[0m\u001b[0msplit\u001b[0m\u001b[0;34m(\u001b[0m\u001b[0;34m':'\u001b[0m\u001b[0;34m)\u001b[0m\u001b[0;34m[\u001b[0m\u001b[0;36m1\u001b[0m\u001b[0;34m]\u001b[0m\u001b[0;34m.\u001b[0m\u001b[0mstrip\u001b[0m\u001b[0;34m(\u001b[0m\u001b[0;34m)\u001b[0m\u001b[0;34m\u001b[0m\u001b[0;34m\u001b[0m\u001b[0m\n\u001b[1;32m      4\u001b[0m \u001b[0mraw_material\u001b[0m\u001b[0;34m\u001b[0m\u001b[0;34m\u001b[0m\u001b[0m\n",
      "\u001b[0;32m~/anaconda3/lib/python3.8/site-packages/selenium/webdriver/remote/webdriver.py\u001b[0m in \u001b[0;36mfind_element_by_xpath\u001b[0;34m(self, xpath)\u001b[0m\n\u001b[1;32m    392\u001b[0m             \u001b[0melement\u001b[0m \u001b[0;34m=\u001b[0m \u001b[0mdriver\u001b[0m\u001b[0;34m.\u001b[0m\u001b[0mfind_element_by_xpath\u001b[0m\u001b[0;34m(\u001b[0m\u001b[0;34m'//div/td[1]'\u001b[0m\u001b[0;34m)\u001b[0m\u001b[0;34m\u001b[0m\u001b[0;34m\u001b[0m\u001b[0m\n\u001b[1;32m    393\u001b[0m         \"\"\"\n\u001b[0;32m--> 394\u001b[0;31m         \u001b[0;32mreturn\u001b[0m \u001b[0mself\u001b[0m\u001b[0;34m.\u001b[0m\u001b[0mfind_element\u001b[0m\u001b[0;34m(\u001b[0m\u001b[0mby\u001b[0m\u001b[0;34m=\u001b[0m\u001b[0mBy\u001b[0m\u001b[0;34m.\u001b[0m\u001b[0mXPATH\u001b[0m\u001b[0;34m,\u001b[0m \u001b[0mvalue\u001b[0m\u001b[0;34m=\u001b[0m\u001b[0mxpath\u001b[0m\u001b[0;34m)\u001b[0m\u001b[0;34m\u001b[0m\u001b[0;34m\u001b[0m\u001b[0m\n\u001b[0m\u001b[1;32m    395\u001b[0m \u001b[0;34m\u001b[0m\u001b[0m\n\u001b[1;32m    396\u001b[0m     \u001b[0;32mdef\u001b[0m \u001b[0mfind_elements_by_xpath\u001b[0m\u001b[0;34m(\u001b[0m\u001b[0mself\u001b[0m\u001b[0;34m,\u001b[0m \u001b[0mxpath\u001b[0m\u001b[0;34m)\u001b[0m\u001b[0;34m:\u001b[0m\u001b[0;34m\u001b[0m\u001b[0;34m\u001b[0m\u001b[0m\n",
      "\u001b[0;32m~/anaconda3/lib/python3.8/site-packages/selenium/webdriver/remote/webdriver.py\u001b[0m in \u001b[0;36mfind_element\u001b[0;34m(self, by, value)\u001b[0m\n\u001b[1;32m    974\u001b[0m                 \u001b[0mby\u001b[0m \u001b[0;34m=\u001b[0m \u001b[0mBy\u001b[0m\u001b[0;34m.\u001b[0m\u001b[0mCSS_SELECTOR\u001b[0m\u001b[0;34m\u001b[0m\u001b[0;34m\u001b[0m\u001b[0m\n\u001b[1;32m    975\u001b[0m                 \u001b[0mvalue\u001b[0m \u001b[0;34m=\u001b[0m \u001b[0;34m'[name=\"%s\"]'\u001b[0m \u001b[0;34m%\u001b[0m \u001b[0mvalue\u001b[0m\u001b[0;34m\u001b[0m\u001b[0;34m\u001b[0m\u001b[0m\n\u001b[0;32m--> 976\u001b[0;31m         return self.execute(Command.FIND_ELEMENT, {\n\u001b[0m\u001b[1;32m    977\u001b[0m             \u001b[0;34m'using'\u001b[0m\u001b[0;34m:\u001b[0m \u001b[0mby\u001b[0m\u001b[0;34m,\u001b[0m\u001b[0;34m\u001b[0m\u001b[0;34m\u001b[0m\u001b[0m\n\u001b[1;32m    978\u001b[0m             'value': value})['value']\n",
      "\u001b[0;32m~/anaconda3/lib/python3.8/site-packages/selenium/webdriver/remote/webdriver.py\u001b[0m in \u001b[0;36mexecute\u001b[0;34m(self, driver_command, params)\u001b[0m\n\u001b[1;32m    319\u001b[0m         \u001b[0mresponse\u001b[0m \u001b[0;34m=\u001b[0m \u001b[0mself\u001b[0m\u001b[0;34m.\u001b[0m\u001b[0mcommand_executor\u001b[0m\u001b[0;34m.\u001b[0m\u001b[0mexecute\u001b[0m\u001b[0;34m(\u001b[0m\u001b[0mdriver_command\u001b[0m\u001b[0;34m,\u001b[0m \u001b[0mparams\u001b[0m\u001b[0;34m)\u001b[0m\u001b[0;34m\u001b[0m\u001b[0;34m\u001b[0m\u001b[0m\n\u001b[1;32m    320\u001b[0m         \u001b[0;32mif\u001b[0m \u001b[0mresponse\u001b[0m\u001b[0;34m:\u001b[0m\u001b[0;34m\u001b[0m\u001b[0;34m\u001b[0m\u001b[0m\n\u001b[0;32m--> 321\u001b[0;31m             \u001b[0mself\u001b[0m\u001b[0;34m.\u001b[0m\u001b[0merror_handler\u001b[0m\u001b[0;34m.\u001b[0m\u001b[0mcheck_response\u001b[0m\u001b[0;34m(\u001b[0m\u001b[0mresponse\u001b[0m\u001b[0;34m)\u001b[0m\u001b[0;34m\u001b[0m\u001b[0;34m\u001b[0m\u001b[0m\n\u001b[0m\u001b[1;32m    322\u001b[0m             response['value'] = self._unwrap_value(\n\u001b[1;32m    323\u001b[0m                 response.get('value', None))\n",
      "\u001b[0;32m~/anaconda3/lib/python3.8/site-packages/selenium/webdriver/remote/errorhandler.py\u001b[0m in \u001b[0;36mcheck_response\u001b[0;34m(self, response)\u001b[0m\n\u001b[1;32m    240\u001b[0m                 \u001b[0malert_text\u001b[0m \u001b[0;34m=\u001b[0m \u001b[0mvalue\u001b[0m\u001b[0;34m[\u001b[0m\u001b[0;34m'alert'\u001b[0m\u001b[0;34m]\u001b[0m\u001b[0;34m.\u001b[0m\u001b[0mget\u001b[0m\u001b[0;34m(\u001b[0m\u001b[0;34m'text'\u001b[0m\u001b[0;34m)\u001b[0m\u001b[0;34m\u001b[0m\u001b[0;34m\u001b[0m\u001b[0m\n\u001b[1;32m    241\u001b[0m             \u001b[0;32mraise\u001b[0m \u001b[0mexception_class\u001b[0m\u001b[0;34m(\u001b[0m\u001b[0mmessage\u001b[0m\u001b[0;34m,\u001b[0m \u001b[0mscreen\u001b[0m\u001b[0;34m,\u001b[0m \u001b[0mstacktrace\u001b[0m\u001b[0;34m,\u001b[0m \u001b[0malert_text\u001b[0m\u001b[0;34m)\u001b[0m\u001b[0;34m\u001b[0m\u001b[0;34m\u001b[0m\u001b[0m\n\u001b[0;32m--> 242\u001b[0;31m         \u001b[0;32mraise\u001b[0m \u001b[0mexception_class\u001b[0m\u001b[0;34m(\u001b[0m\u001b[0mmessage\u001b[0m\u001b[0;34m,\u001b[0m \u001b[0mscreen\u001b[0m\u001b[0;34m,\u001b[0m \u001b[0mstacktrace\u001b[0m\u001b[0;34m)\u001b[0m\u001b[0;34m\u001b[0m\u001b[0;34m\u001b[0m\u001b[0m\n\u001b[0m\u001b[1;32m    243\u001b[0m \u001b[0;34m\u001b[0m\u001b[0m\n\u001b[1;32m    244\u001b[0m     \u001b[0;32mdef\u001b[0m \u001b[0m_value_or_default\u001b[0m\u001b[0;34m(\u001b[0m\u001b[0mself\u001b[0m\u001b[0;34m,\u001b[0m \u001b[0mobj\u001b[0m\u001b[0;34m,\u001b[0m \u001b[0mkey\u001b[0m\u001b[0;34m,\u001b[0m \u001b[0mdefault\u001b[0m\u001b[0;34m)\u001b[0m\u001b[0;34m:\u001b[0m\u001b[0;34m\u001b[0m\u001b[0;34m\u001b[0m\u001b[0m\n",
      "\u001b[0;31mNoSuchElementException\u001b[0m: Message: Unable to locate element: //div[contains(text(),\"Style\")]\n"
     ]
    }
   ],
   "source": [
    "list_elements = driver.find_element_by_xpath('//div[contains(text(),\"Style\")]').text\n",
    "raw_material_list = list_elements.split('\\n')\n",
    "raw_material = [ele for ele in raw_material_list if 'Material' in ele][0].split(':')[1].strip()\n",
    "raw_material"
   ]
  },
  {
   "cell_type": "code",
   "execution_count": null,
   "id": "c7994776",
   "metadata": {},
   "outputs": [],
   "source": []
  },
  {
   "cell_type": "code",
   "execution_count": null,
   "id": "47948402",
   "metadata": {},
   "outputs": [],
   "source": []
  },
  {
   "cell_type": "code",
   "execution_count": 47,
   "id": "19f2e607",
   "metadata": {},
   "outputs": [
    {
     "data": {
      "text/plain": [
       "(0, 0, 0)"
      ]
     },
     "execution_count": 47,
     "metadata": {},
     "output_type": "execute_result"
    }
   ],
   "source": [
    "pich = 'Dimensions In Centimeters: w- 215.01 x d- 307.54 x h- 134.8'"
   ]
  },
  {
   "cell_type": "code",
   "execution_count": 131,
   "id": "77da91f5",
   "metadata": {},
   "outputs": [
    {
     "name": "stdout",
     "output_type": "stream",
     "text": [
      "84.65\n"
     ]
    }
   ],
   "source": [
    "pich = 'Dimensions In Inches: w-84.65 x d-121.08 x h-53.07'\n",
    "regex = re.compile(r'Dimensions In Inches: w-(?P<width>\\s*\\d*.?\\d+\\s*) x d-(?P<lenght>\\s*\\d*.?\\d+\\s*) x h-(?P<hight>\\s*\\d*.?\\d+\\s*)')\n",
    "p = re.match(regex, pich)\n",
    "print(p['width'])"
   ]
  },
  {
   "cell_type": "code",
   "execution_count": 65,
   "id": "2396b013",
   "metadata": {},
   "outputs": [
    {
     "name": "stdout",
     "output_type": "stream",
     "text": [
      "W: 215.01\n",
      "H: 134.8\n",
      "L: 307.54\n"
     ]
    },
    {
     "data": {
      "text/plain": [
       "(215.01, 307.54, 134.8)"
      ]
     },
     "execution_count": 65,
     "metadata": {},
     "output_type": "execute_result"
    }
   ],
   "source": [
    "clear_size(pich)"
   ]
  },
  {
   "cell_type": "code",
   "execution_count": 64,
   "id": "ee7ad6cc",
   "metadata": {},
   "outputs": [],
   "source": [
    "def clear_size(text):\n",
    "    regex = re.compile(r'Dimensions In Inches:w- (?P<width>\\s*\\d*.?\\d+\\s*) x d- (?P<lenght>\\s*\\d*.?\\d+\\s*) x h- (?P<hight>\\s*\\d*.?\\d+\\s*)')\n",
    "    p = re.match(regex, text)\n",
    "    \n",
    "    if p != None:   \n",
    "        width = p['width']   \n",
    "        lenght = p['lenght'] \n",
    "        height = p['hight'] \n",
    "        print('W:', width)\n",
    "        print('H:', height)\n",
    "        print('L:', lenght)\n",
    "        return float(width) , float(lenght) , float(height) \n",
    "    else:\n",
    "        width = 0  \n",
    "        lenght = 0\n",
    "        height = 0\n",
    "        return width, lenght, height"
   ]
  },
  {
   "cell_type": "code",
   "execution_count": null,
   "id": "0c041d77",
   "metadata": {},
   "outputs": [],
   "source": []
  },
  {
   "cell_type": "code",
   "execution_count": 28,
   "id": "8cc03281",
   "metadata": {},
   "outputs": [
    {
     "data": {
      "text/plain": [
       "'25.4x25.4x33.02'"
      ]
     },
     "execution_count": 28,
     "metadata": {},
     "output_type": "execute_result"
    }
   ],
   "source": []
  },
  {
   "cell_type": "markdown",
   "id": "f57e48a4",
   "metadata": {},
   "source": [
    "# Regex size"
   ]
  },
  {
   "cell_type": "code",
   "execution_count": 192,
   "id": "215e7d42",
   "metadata": {
    "scrolled": true
   },
   "outputs": [
    {
     "data": {
      "text/plain": [
       "'Glass'"
      ]
     },
     "execution_count": 192,
     "metadata": {},
     "output_type": "execute_result"
    }
   ],
   "source": [
    "matters2 = driver.find_elements_by_xpath(\"//div[contains(@class, 'product__material2')]/span\")\n",
    "matter2 = matters2[1].text\n",
    "matter2\n",
    "   "
   ]
  },
  {
   "cell_type": "code",
   "execution_count": 40,
   "id": "184fd98b",
   "metadata": {},
   "outputs": [],
   "source": [
    "df = pd.read_excel('spring_model.xlsx')"
   ]
  },
  {
   "cell_type": "code",
   "execution_count": 102,
   "id": "9c343065",
   "metadata": {},
   "outputs": [
    {
     "data": {
      "text/plain": [
       "4"
      ]
     },
     "execution_count": 102,
     "metadata": {},
     "output_type": "execute_result"
    }
   ],
   "source": [
    "len(links_products)"
   ]
  },
  {
   "cell_type": "code",
   "execution_count": 136,
   "id": "97bdf67b",
   "metadata": {},
   "outputs": [
    {
     "name": "stdout",
     "output_type": "stream",
     "text": [
      "Dimensions In Inches: w-84.65 x d-121.08 x h-53.07\n",
      "W: 84.65\n",
      "H: 53.07\n",
      "L: 121.08\n"
     ]
    }
   ],
   "source": [
    "dimension = driver.find_element_by_xpath('//div[contains(text(),\"Dimensions In Inches:\")]').text\n",
    "print(dimension) \n",
    "    \n",
    "   \n",
    "width , height , length = clear_size(dimension)"
   ]
  },
  {
   "cell_type": "code",
   "execution_count": 95,
   "id": "3f29408b",
   "metadata": {},
   "outputs": [
    {
     "data": {
      "text/plain": [
       "'Living Room'"
      ]
     },
     "execution_count": 95,
     "metadata": {},
     "output_type": "execute_result"
    }
   ],
   "source": [
    "cats = driver.find_elements_by_xpath('//li[@itemprop=\"itemListElement\"]/a/span')\n",
    "cat1 = cats[-4].text\n",
    "cat2 = cats[-3].text\n",
    "cat3 = cats[-2].text"
   ]
  },
  {
   "cell_type": "code",
   "execution_count": null,
   "id": "440fb6c9",
   "metadata": {},
   "outputs": [],
   "source": []
  },
  {
   "cell_type": "code",
   "execution_count": null,
   "id": "59ddab29",
   "metadata": {},
   "outputs": [],
   "source": []
  },
  {
   "cell_type": "code",
   "execution_count": 40,
   "id": "9ddef47b",
   "metadata": {},
   "outputs": [],
   "source": [
    "driver.get('https://www.sagebrookhome.com/15520-s-2-10-12-bowl-with-handles-gold/')"
   ]
  },
  {
   "cell_type": "markdown",
   "id": "3a1f4268",
   "metadata": {},
   "source": [
    "# Debut de la fonction"
   ]
  },
  {
   "cell_type": "code",
   "execution_count": 10,
   "id": "14f4125f",
   "metadata": {
    "scrolled": true
   },
   "outputs": [
    {
     "name": "stdout",
     "output_type": "stream",
     "text": [
      "***********************************************************\n",
      "Count: 0\n",
      "URl: https://shatristore.com/ar/household-appliances/vacuum/dwb800\n",
      "Cat1: أجهزة المنزل\n",
      "Cat2: مكانس كهربائية\n",
      "Cat3: \n",
      "0\n",
      "len list images 0\n",
      "Sku: TRI-57024\n",
      "Title: ديوالت جهاز لضخ الهواء 800 واط\n",
      "Price: 299.00\n",
      "Price old: 440.00\n",
      "Description: -\n",
      "Colors: الأصفر\n",
      "Matter: \n",
      "URl: https://shatristore.com/ar/household-appliances/vacuum/dwb800\n",
      "Image add \n",
      "***********************************************************\n",
      "Count: 1\n",
      "URl: https://shatristore.com/ar/household-appliances/vacuum/gbl800\n",
      "Cat1: أجهزة المنزل\n",
      "Cat2: مكانس كهربائية\n",
      "Cat3: \n",
      "2\n",
      "len list images 2\n",
      "Sku: TRI-57013\n",
      "Title: بوش جهاز ضخ الهواء مع خاصية شفط الغبار 800 واط\n",
      "Price: 299.00\n",
      "Price old: 440.00\n",
      "Description: -\n",
      "Colors: أزرق\n",
      "Matter: \n",
      "URl: https://shatristore.com/ar/household-appliances/vacuum/gbl800\n",
      "Image add https://shatristore.com/pub/media/catalog/product/cache/2e24353f833bba322b482bccad1c1fdf/g/b/gbl_800_e.png,https://shatristore.com/pub/media/catalog/product/cache/2e24353f833bba322b482bccad1c1fdf/g/b/gbl_800_e-1.png\n",
      "***********************************************************\n",
      "Count: 2\n",
      "URl: https://shatristore.com/ar/household-appliances/vacuum/%D8%A8%D9%8A%D8%B3%D9%8A%D9%84-%D9%85%D9%83%D9%86%D8%B3%D8%A9-%D9%83%D9%87%D8%B1%D8%A8%D8%A7%D8%A6%D9%8A%D8%A9-%D8%A7%D9%84%D8%B9%D9%85%D9%88%D8%AF%D9%8A%D8%A9-450-%D9%88%D8%A7%D8%B7%D8%8C-0.5-%D9%84%D8%AA%D8%B1\n",
      "Cat1: أجهزة المنزل\n",
      "Cat2: مكانس كهربائية\n",
      "Cat3: \n",
      "3\n",
      "len list images 3\n",
      "Sku: TRI-51562\n",
      "Title: بيسيل مكنسة كهربائية العمودية 450 واط، 0.5 لتر\n",
      "Price: 219.00\n",
      "Price old: 320.00\n",
      "Description: -0.5 لتر\n",
      "Colors: أسود\n",
      "Matter: \n",
      "URl: https://shatristore.com/ar/household-appliances/vacuum/%D8%A8%D9%8A%D8%B3%D9%8A%D9%84-%D9%85%D9%83%D9%86%D8%B3%D8%A9-%D9%83%D9%87%D8%B1%D8%A8%D8%A7%D8%A6%D9%8A%D8%A9-%D8%A7%D9%84%D8%B9%D9%85%D9%88%D8%AF%D9%8A%D8%A9-450-%D9%88%D8%A7%D8%B7%D8%8C-0.5-%D9%84%D8%AA%D8%B1\n",
      "Image add https://shatristore.com/pub/media/catalog/product/cache/2e24353f833bba322b482bccad1c1fdf/2/0/2024e.png,https://shatristore.com/pub/media/catalog/product/cache/2e24353f833bba322b482bccad1c1fdf/2/0/2024e-1.png,https://shatristore.com/pub/media/catalog/product/cache/2e24353f833bba322b482bccad1c1fdf/2/0/2024e-3.png\n",
      "***********************************************************\n",
      "Count: 3\n",
      "URl: https://shatristore.com/ar/household-appliances/vacuum/2155e-21\n",
      "Cat1: أجهزة المنزل\n",
      "Cat2: مكانس كهربائية\n",
      "Cat3: \n",
      "3\n",
      "len list images 3\n",
      "Sku: TRI-51561\n",
      "Title: بيسيل مكنسة كهربائية بطه بدون كيس1500واط، 21 لتر\n",
      "Price: 399.00\n",
      "Price old: 580.00\n",
      "Description:  مكانس بطة علبة-21 لتر\n",
      "Colors: أزرق\n",
      "Matter: \n",
      "URl: https://shatristore.com/ar/household-appliances/vacuum/2155e-21\n",
      "Image add https://shatristore.com/pub/media/catalog/product/cache/2e24353f833bba322b482bccad1c1fdf/2/1/2155e.png,https://shatristore.com/pub/media/catalog/product/cache/2e24353f833bba322b482bccad1c1fdf/2/1/2155e-1.png,https://shatristore.com/pub/media/catalog/product/cache/2e24353f833bba322b482bccad1c1fdf/2/1/2155e-3.png\n",
      "***********************************************************\n",
      "Count: 4\n",
      "URl: https://shatristore.com/ar/household-appliances/vacuum/2026i-23\n",
      "Cat1: أجهزة المنزل\n",
      "Cat2: مكانس كهربائية\n",
      "Cat3: \n",
      "3\n",
      "len list images 3\n",
      "Sku: TRI-51560\n",
      "Title: بيسيل مكنسة كهربائية برميل جاف ورطب 1500واط، 23 لتر\n",
      "Price: 649.00\n",
      "Price old: 950.00\n",
      "Description:  مكانس برميل-23 لتر\n",
      "Colors: أخضر\n",
      "Matter: \n",
      "URl: https://shatristore.com/ar/household-appliances/vacuum/2026i-23\n",
      "Image add https://shatristore.com/pub/media/catalog/product/cache/2e24353f833bba322b482bccad1c1fdf/2/0/20261.png,https://shatristore.com/pub/media/catalog/product/cache/2e24353f833bba322b482bccad1c1fdf/b/i/bissell_2026e-3_1.png,https://shatristore.com/pub/media/catalog/product/cache/2e24353f833bba322b482bccad1c1fdf/b/i/bissell_2026e-2_1.png\n",
      "***********************************************************\n",
      "Count: 5\n",
      "URl: https://shatristore.com/ar/household-appliances/vacuum/2026e-21\n",
      "Cat1: أجهزة المنزل\n",
      "Cat2: مكانس كهربائية\n",
      "Cat3: \n",
      "3\n",
      "len list images 3\n",
      "Sku: TRI-51559\n",
      "Title: بيسيل مكنسة كهربائية برميل جاف ورطب 1500واط، 21 لتر\n",
      "Price: 579.00\n",
      "Price old: 840.00\n",
      "Description:  مكانس برميل-21 لتر\n",
      "Colors: أخضر\n",
      "Matter: \n",
      "URl: https://shatristore.com/ar/household-appliances/vacuum/2026e-21\n",
      "Image add https://shatristore.com/pub/media/catalog/product/cache/2e24353f833bba322b482bccad1c1fdf/b/i/bissell_2026e.png,https://shatristore.com/pub/media/catalog/product/cache/2e24353f833bba322b482bccad1c1fdf/b/i/bissell_2026e-1.png,https://shatristore.com/pub/media/catalog/product/cache/2e24353f833bba322b482bccad1c1fdf/b/i/bissell_2026e-3.png\n",
      "***********************************************************\n",
      "Count: 6\n",
      "URl: https://shatristore.com/ar/household-appliances/vacuum/%D9%87%D9%8A%D8%AA%D8%A7%D8%B4%D9%8A-%D9%85%D9%83%D9%86%D8%B3%D8%A9-%D9%83%D9%87%D8%B1%D8%A8%D8%A7%D8%A6%D9%8A%D8%A9-%D8%A8%D9%83%D9%8A%D8%B3%D8%8C-1300-%D9%88%D8%A7%D8%B7\n",
      "Cat1: أجهزة المنزل\n",
      "Cat2: مكانس كهربائية\n",
      "Cat3: \n",
      "0\n",
      "len list images 0\n",
      "Sku: TRI-51314\n",
      "Title: هيتاشي مكنسة كهربائية بكيس، 1300 واط\n",
      "Price: 379.00\n",
      "Price old: 550.00\n",
      "Description:  مكانس بطة بكيس-5 لتر\n",
      "Colors: أبيض\n",
      "Matter: \n",
      "URl: https://shatristore.com/ar/household-appliances/vacuum/%D9%87%D9%8A%D8%AA%D8%A7%D8%B4%D9%8A-%D9%85%D9%83%D9%86%D8%B3%D8%A9-%D9%83%D9%87%D8%B1%D8%A8%D8%A7%D8%A6%D9%8A%D8%A9-%D8%A8%D9%83%D9%8A%D8%B3%D8%8C-1300-%D9%88%D8%A7%D8%B7\n",
      "Image add \n",
      "***********************************************************\n",
      "Count: 7\n",
      "URl: https://shatristore.com/ar/household-appliances/vacuum/%D8%B1%D9%8A%D8%A8%D9%88%D9%86-%D9%85%D9%83%D9%86%D8%B3%D8%A9-%D9%83%D9%87%D8%B1%D8%A8%D8%A7%D8%A6%D9%8A%D8%A9-%D8%A8%D8%B1%D9%85%D9%8A%D9%84%D8%8C-2000-%D9%88%D8%A7%D8%B7-1\n",
      "Cat1: أجهزة المنزل\n",
      "Cat2: مكانس كهربائية\n",
      "Cat3: \n",
      "0\n",
      "len list images 0\n",
      "Sku: TRI-51548\n",
      "Title: ريبون مكنسة كهربائية برميل، 2000 واط\n",
      "Price: 179.00\n",
      "Price old: 260.00\n",
      "Description:  مكانس برميل-18 لتر\n",
      "Colors: أسود\n",
      "Matter: \n",
      "URl: https://shatristore.com/ar/household-appliances/vacuum/%D8%B1%D9%8A%D8%A8%D9%88%D9%86-%D9%85%D9%83%D9%86%D8%B3%D8%A9-%D9%83%D9%87%D8%B1%D8%A8%D8%A7%D8%A6%D9%8A%D8%A9-%D8%A8%D8%B1%D9%85%D9%8A%D9%84%D8%8C-2000-%D9%88%D8%A7%D8%B7-1\n",
      "Image add \n",
      "***********************************************************\n",
      "Count: 8\n",
      "URl: https://shatristore.com/ar/household-appliances/vacuum/%D8%A8%D8%A7%D9%86%D8%A7%D8%B3%D9%88%D9%86%D9%8A%D9%83-%D9%85%D9%83%D9%86%D8%B3%D8%A9-%D8%A8%D8%B1%D9%85%D9%8A%D9%84-%D8%8C-2300-%D9%88%D8%A7%D8%B7\n",
      "Cat1: أجهزة المنزل\n",
      "Cat2: مكانس كهربائية\n",
      "Cat3: \n",
      "2\n",
      "len list images 2\n",
      "Sku: TRI-51538\n",
      "Title: باناسونيك مكنسة برميل ، 2300 واط\n",
      "Price: 1,059.00\n",
      "Price old: 1,540.00\n",
      "Description:  مكانس برميل-21 لتر\n",
      "Colors: كروم\n",
      "Matter: \n",
      "URl: https://shatristore.com/ar/household-appliances/vacuum/%D8%A8%D8%A7%D9%86%D8%A7%D8%B3%D9%88%D9%86%D9%8A%D9%83-%D9%85%D9%83%D9%86%D8%B3%D8%A9-%D8%A8%D8%B1%D9%85%D9%8A%D9%84-%D8%8C-2300-%D9%88%D8%A7%D8%B7\n",
      "Image add https://shatristore.com/pub/media/catalog/product/cache/2e24353f833bba322b482bccad1c1fdf/m/c/mc-yl989.png,https://shatristore.com/pub/media/catalog/product/cache/2e24353f833bba322b482bccad1c1fdf/m/c/mc-yl989-1.png\n",
      "***********************************************************\n",
      "Count: 9\n",
      "URl: https://shatristore.com/ar/household-appliances/vacuum/1200-1\n",
      "Cat1: أجهزة المنزل\n",
      "Cat2: مكانس كهربائية\n",
      "Cat3: \n",
      "0\n",
      "len list images 0\n",
      "Sku: TRI-57038\n",
      "Title: سان فورد جهاز لضخ الماء ، 1200واط\n",
      "Price: 319.00\n",
      "Price old: 470.00\n",
      "Description: -5 لتر\n",
      "Colors: الأصفر\n",
      "Matter: \n",
      "URl: https://shatristore.com/ar/household-appliances/vacuum/1200-1\n",
      "Image add \n",
      "***********************************************************\n",
      "Count: 10\n",
      "URl: https://shatristore.com/ar/household-appliances/vacuum/%D8%A8%D8%A7%D9%86%D8%A7%D8%B3%D9%88%D9%86%D9%8A%D9%83-%D9%85%D9%83%D9%86%D8%B3%D8%A9-%D9%83%D9%87%D8%B1%D8%A8%D8%A7%D8%A6%D9%8A%D8%A9-%D8%A8%D8%B1%D9%85%D9%8A%D9%84%D8%8C-2300-%D9%88%D8%A7%D8%B7-3\n",
      "Cat1: أجهزة المنزل\n",
      "Cat2: مكانس كهربائية\n",
      "Cat3: \n",
      "2\n",
      "len list images 2\n",
      "Sku: TRI-51544\n",
      "Title: باناسونيك مكنسة كهربائية برميل، 2300 واط\n",
      "Price: 739.00\n",
      "Price old: 1,080.00\n",
      "Description:  مكانس برميل-21 لتر\n",
      "Colors: أسود\n",
      "Matter: \n",
      "URl: https://shatristore.com/ar/household-appliances/vacuum/%D8%A8%D8%A7%D9%86%D8%A7%D8%B3%D9%88%D9%86%D9%8A%D9%83-%D9%85%D9%83%D9%86%D8%B3%D8%A9-%D9%83%D9%87%D8%B1%D8%A8%D8%A7%D8%A6%D9%8A%D8%A9-%D8%A8%D8%B1%D9%85%D9%8A%D9%84%D8%8C-2300-%D9%88%D8%A7%D8%B7-3\n",
      "Image add https://shatristore.com/pub/media/catalog/product/cache/2e24353f833bba322b482bccad1c1fdf/m/c/mc-yl798.png,https://shatristore.com/pub/media/catalog/product/cache/2e24353f833bba322b482bccad1c1fdf/m/c/mc-yl798-1.png\n",
      "***********************************************************\n",
      "Count: 11\n",
      "URl: https://shatristore.com/ar/household-appliances/vacuum/%D8%A8%D8%A7%D9%86%D8%A7%D8%B3%D9%88%D9%86%D9%8A%D9%83-%D9%85%D9%83%D9%86%D8%B3%D8%A9-%D9%83%D9%87%D8%B1%D8%A8%D8%A7%D8%A6%D9%8A%D8%A9-%D8%A8%D8%B1%D9%85%D9%8A%D9%84%D8%8C-2200-%D9%88%D8%A7%D8%B7-2\n"
     ]
    },
    {
     "name": "stdout",
     "output_type": "stream",
     "text": [
      "Cat1: أجهزة المنزل\n",
      "Cat2: مكانس كهربائية\n",
      "Cat3: \n",
      "0\n",
      "len list images 0\n",
      "Sku: TRI-51543\n",
      "Title: باناسونيك مكنسة كهربائية برميل، 2200 واط\n",
      "Price: 689.00\n",
      "Price old: 1,000.00\n",
      "Description:  مكانس برميل-21 لتر\n",
      "Colors: أسود\n",
      "Matter: \n",
      "URl: https://shatristore.com/ar/household-appliances/vacuum/%D8%A8%D8%A7%D9%86%D8%A7%D8%B3%D9%88%D9%86%D9%8A%D9%83-%D9%85%D9%83%D9%86%D8%B3%D8%A9-%D9%83%D9%87%D8%B1%D8%A8%D8%A7%D8%A6%D9%8A%D8%A9-%D8%A8%D8%B1%D9%85%D9%8A%D9%84%D8%8C-2200-%D9%88%D8%A7%D8%B7-2\n",
      "Image add \n",
      "***********************************************************\n",
      "Count: 12\n",
      "URl: https://shatristore.com/ar/household-appliances/vacuum/%D8%AC%D9%8A-%D9%81%D9%8A-%D8%B3%D9%8A-%D8%A8%D8%B1%D9%88-%D9%85%D9%83%D9%86%D8%B3%D8%A9-%D9%83%D9%87%D8%B1%D8%A8%D8%A7%D8%A6%D9%8A%D8%A9-%D8%A8%D8%B1%D9%85%D9%8A%D9%84%D8%8C-1600-%D9%88%D8%A7%D8%B7\n",
      "Cat1: أجهزة المنزل\n",
      "Cat2: مكانس كهربائية\n",
      "Cat3: \n",
      "2\n",
      "len list images 2\n",
      "Sku: TRI-51542\n",
      "Title: جي في سي برو مكنسة كهربائية برميل، 1600 واط\n",
      "Price: 189.00\n",
      "Price old: 389.00\n",
      "Description:  مكانس برميل-18 لتر\n",
      "Colors: روز\n",
      "Matter: \n",
      "URl: https://shatristore.com/ar/household-appliances/vacuum/%D8%AC%D9%8A-%D9%81%D9%8A-%D8%B3%D9%8A-%D8%A8%D8%B1%D9%88-%D9%85%D9%83%D9%86%D8%B3%D8%A9-%D9%83%D9%87%D8%B1%D8%A8%D8%A7%D8%A6%D9%8A%D8%A9-%D8%A8%D8%B1%D9%85%D9%8A%D9%84%D8%8C-1600-%D9%88%D8%A7%D8%B7\n",
      "Image add https://shatristore.com/pub/media/catalog/product/cache/2e24353f833bba322b482bccad1c1fdf/g/v/gvc-1600_.png,https://shatristore.com/pub/media/catalog/product/cache/2e24353f833bba322b482bccad1c1fdf/g/v/gvc-1600-1.png\n",
      "***********************************************************\n",
      "Count: 13\n",
      "URl: https://shatristore.com/ar/household-appliances/vacuum/%D8%AC%D9%8A-%D9%81%D9%8A-%D8%B3%D9%8A-%D8%A8%D8%B1%D9%88-%D9%85%D9%83%D9%86%D8%B3%D8%A9-%D9%83%D9%87%D8%B1%D8%A8%D8%A7%D8%A6%D9%8A%D8%A9-%D8%A8%D8%B1%D9%85%D9%8A%D9%84%D8%8C-1800-%D9%88%D8%A7%D8%B7\n",
      "Cat1: أجهزة المنزل\n",
      "Cat2: مكانس كهربائية\n",
      "Cat3: \n",
      "2\n",
      "len list images 2\n",
      "Sku: TRI-51541\n",
      "Title: جي في سي برو مكنسة كهربائية برميل، 1800 واط\n",
      "Price: 219.00\n",
      "Price old: 439.00\n",
      "Description:  مكانس برميل-21 لتر\n",
      "Colors: ذهبي\n",
      "Matter: \n",
      "URl: https://shatristore.com/ar/household-appliances/vacuum/%D8%AC%D9%8A-%D9%81%D9%8A-%D8%B3%D9%8A-%D8%A8%D8%B1%D9%88-%D9%85%D9%83%D9%86%D8%B3%D8%A9-%D9%83%D9%87%D8%B1%D8%A8%D8%A7%D8%A6%D9%8A%D8%A9-%D8%A8%D8%B1%D9%85%D9%8A%D9%84%D8%8C-1800-%D9%88%D8%A7%D8%B7\n",
      "Image add https://shatristore.com/pub/media/catalog/product/cache/2e24353f833bba322b482bccad1c1fdf/g/v/gvcv-1800.png,https://shatristore.com/pub/media/catalog/product/cache/2e24353f833bba322b482bccad1c1fdf/g/v/gvcv-1800-1.png\n",
      "***********************************************************\n",
      "Count: 14\n",
      "URl: https://shatristore.com/ar/household-appliances/vacuum/%D8%AC%D9%8A-%D9%81%D9%8A-%D8%B3%D9%8A-%D8%A8%D8%B1%D9%88-%D9%85%D9%83%D9%86%D8%B3%D8%A9-%D9%83%D9%87%D8%B1%D8%A8%D8%A7%D8%A6%D9%8A%D8%A9-%D8%A8%D8%B1%D9%85%D9%8A%D9%84%D8%8C-2000-%D9%88%D8%A7%D8%B7\n",
      "Cat1: أجهزة المنزل\n",
      "Cat2: مكانس كهربائية\n",
      "Cat3: \n",
      "2\n",
      "len list images 2\n",
      "Sku: TRI-51540\n",
      "Title: جي في سي برو مكنسة كهربائية برميل، 2000 واط\n",
      "Price: 229.00\n",
      "Price old: 449.00\n",
      "Description:  مكانس برميل-21 لتر\n",
      "Colors: أحمر\n",
      "Matter: \n",
      "URl: https://shatristore.com/ar/household-appliances/vacuum/%D8%AC%D9%8A-%D9%81%D9%8A-%D8%B3%D9%8A-%D8%A8%D8%B1%D9%88-%D9%85%D9%83%D9%86%D8%B3%D8%A9-%D9%83%D9%87%D8%B1%D8%A8%D8%A7%D8%A6%D9%8A%D8%A9-%D8%A8%D8%B1%D9%85%D9%8A%D9%84%D8%8C-2000-%D9%88%D8%A7%D8%B7\n",
      "Image add https://shatristore.com/pub/media/catalog/product/cache/2e24353f833bba322b482bccad1c1fdf/g/v/gvc-2000.png,https://shatristore.com/pub/media/catalog/product/cache/2e24353f833bba322b482bccad1c1fdf/g/v/gvc-2000-1.png\n",
      "***********************************************************\n",
      "Count: 15\n",
      "URl: https://shatristore.com/ar/household-appliances/vacuum/%D8%AC%D9%8A-%D9%81%D9%8A-%D8%B3%D9%8A-%D8%A8%D8%B1%D9%88-%D9%85%D9%83%D9%86%D8%B3%D8%A9-%D9%83%D9%87%D8%B1%D8%A8%D8%A7%D8%A6%D9%8A%D8%A9-%D8%A8%D8%B1%D9%85%D9%8A%D9%84%D8%8C-2300-%D9%88%D8%A7%D8%B7\n",
      "Cat1: أجهزة المنزل\n",
      "Cat2: مكانس كهربائية\n",
      "Cat3: \n",
      "2\n",
      "len list images 2\n",
      "Sku: TRI-51539\n",
      "Title: جي في سي برو مكنسة كهربائية برميل، 2000 واط\n",
      "Price: 259.00\n",
      "Price old: 529.00\n",
      "Description:  مكانس برميل-21 لتر\n",
      "Colors: أسود\n",
      "Matter: \n",
      "URl: https://shatristore.com/ar/household-appliances/vacuum/%D8%AC%D9%8A-%D9%81%D9%8A-%D8%B3%D9%8A-%D8%A8%D8%B1%D9%88-%D9%85%D9%83%D9%86%D8%B3%D8%A9-%D9%83%D9%87%D8%B1%D8%A8%D8%A7%D8%A6%D9%8A%D8%A9-%D8%A8%D8%B1%D9%85%D9%8A%D9%84%D8%8C-2300-%D9%88%D8%A7%D8%B7\n",
      "Image add https://shatristore.com/pub/media/catalog/product/cache/2e24353f833bba322b482bccad1c1fdf/g/v/gvc-2300.png,https://shatristore.com/pub/media/catalog/product/cache/2e24353f833bba322b482bccad1c1fdf/g/v/gvc-2300-1.png\n",
      "***********************************************************\n",
      "Count: 16\n",
      "URl: https://shatristore.com/ar/household-appliances/vacuum/%D8%A8%D8%A7%D9%86%D8%A7%D8%B3%D9%88%D9%86%D9%8A%D9%83-%D9%85%D9%83%D9%86%D8%B3%D8%A9-%D9%83%D9%87%D8%B1%D8%A8%D8%A7%D8%A6%D9%8A%D8%A9-%D8%A8%D8%B1%D9%85%D9%8A%D9%84%D8%8C-2100-%D9%88%D8%A7%D8%B7\n",
      "Cat1: أجهزة المنزل\n",
      "Cat2: مكانس كهربائية\n",
      "Cat3: \n",
      "2\n",
      "len list images 2\n",
      "Sku: TRI-51537\n",
      "Title: باناسونيك مكنسة كهربائية برميل، 2100 واط\n",
      "Price: 619.00\n",
      "Price old: 900.00\n",
      "Description:  مكانس برميل-18 لتر\n",
      "Colors: أسود\n",
      "Matter: \n",
      "URl: https://shatristore.com/ar/household-appliances/vacuum/%D8%A8%D8%A7%D9%86%D8%A7%D8%B3%D9%88%D9%86%D9%8A%D9%83-%D9%85%D9%83%D9%86%D8%B3%D8%A9-%D9%83%D9%87%D8%B1%D8%A8%D8%A7%D8%A6%D9%8A%D8%A9-%D8%A8%D8%B1%D9%85%D9%8A%D9%84%D8%8C-2100-%D9%88%D8%A7%D8%B7\n",
      "Image add https://shatristore.com/pub/media/catalog/product/cache/2e24353f833bba322b482bccad1c1fdf/m/c/mc-yl778a747-1.png,https://shatristore.com/pub/media/catalog/product/cache/2e24353f833bba322b482bccad1c1fdf/m/c/mc-yl778a747.png\n",
      "***********************************************************\n",
      "Count: 17\n",
      "URl: https://shatristore.com/ar/household-appliances/vacuum/%D9%87%D9%8A%D8%AA%D8%A7%D8%B4%D9%8A-%D9%85%D9%83%D9%86%D8%B3%D8%A9-%D9%83%D9%87%D8%B1%D8%A8%D8%A7%D8%A6%D9%8A%D8%A9-%D8%A8%D8%B1%D9%85%D9%8A%D9%84-%D8%8C-2100-%D9%88%D8%A7%D8%B7\n",
      "Cat1: أجهزة المنزل\n",
      "Cat2: مكانس كهربائية\n",
      "Cat3: \n",
      "2\n",
      "len list images 2\n",
      "Sku: TRI-51536\n",
      "Title: هيتاشي مكنسة كهربائية برميل ، 2100 واط\n",
      "Price: 659.00\n",
      "Price old: 960.00\n",
      "Description:  مكانس برميل-21 لتر\n",
      "Colors: أحمر\n",
      "Matter: \n",
      "URl: https://shatristore.com/ar/household-appliances/vacuum/%D9%87%D9%8A%D8%AA%D8%A7%D8%B4%D9%8A-%D9%85%D9%83%D9%86%D8%B3%D8%A9-%D9%83%D9%87%D8%B1%D8%A8%D8%A7%D8%A6%D9%8A%D8%A9-%D8%A8%D8%B1%D9%85%D9%8A%D9%84-%D8%8C-2100-%D9%88%D8%A7%D8%B7\n",
      "Image add https://shatristore.com/pub/media/catalog/product/cache/2e24353f833bba322b482bccad1c1fdf/c/v/cv-960-1.png,https://shatristore.com/pub/media/catalog/product/cache/2e24353f833bba322b482bccad1c1fdf/c/v/cv-960_.png\n",
      "***********************************************************\n",
      "Count: 18\n",
      "URl: https://shatristore.com/ar/household-appliances/vacuum/%D8%AF%D8%A7%D9%86%D8%B3%D8%A7%D8%AA-%D9%85%D9%83%D9%86%D8%B3%D8%A9-%D9%83%D9%87%D8%B1%D8%A8%D8%A7%D8%A6%D9%8A%D8%A9-%D8%A8%D8%B1%D9%85%D9%8A%D9%84%D8%8C-1400-%D9%88%D8%A7%D8%B7-2\n",
      "Cat1: أجهزة المنزل\n",
      "Cat2: مكانس كهربائية\n",
      "Cat3: \n",
      "0\n",
      "len list images 0\n",
      "Sku: TRI-51535\n",
      "Title: دانسات مكنسة كهربائية برميل، 1400 واط\n",
      "Price: 169.00\n",
      "Price old: 250.00\n",
      "Description:  مكانس برميل-21 لتر\n",
      "Colors: ذهبي\n",
      "Matter: \n",
      "URl: https://shatristore.com/ar/household-appliances/vacuum/%D8%AF%D8%A7%D9%86%D8%B3%D8%A7%D8%AA-%D9%85%D9%83%D9%86%D8%B3%D8%A9-%D9%83%D9%87%D8%B1%D8%A8%D8%A7%D8%A6%D9%8A%D8%A9-%D8%A8%D8%B1%D9%85%D9%8A%D9%84%D8%8C-1400-%D9%88%D8%A7%D8%B7-2\n",
      "Image add \n",
      "***********************************************************\n",
      "Count: 19\n",
      "URl: https://shatristore.com/ar/household-appliances/vacuum/%D8%AC%D9%8A-%D9%81%D9%8A-%D8%B3%D9%8A-%D8%A8%D8%B1%D9%88-%D9%85%D9%83%D9%86%D8%B3%D8%A9-%D8%A8%D8%B7%D9%87%D8%8C-%D8%A8%D8%AF%D9%88%D9%86-%D9%83%D9%8A%D8%B3%D8%8C-2200-%D9%88%D8%A7%D8%B7\n",
      "Cat1: أجهزة المنزل\n",
      "Cat2: مكانس كهربائية\n",
      "Cat3: \n",
      "2\n",
      "len list images 2\n",
      "Sku: TRI-51533\n",
      "Title: جي في سي برو مكنسة بطه، بدون كيس، 2200 واط\n",
      "Price: 229.00\n",
      "Price old: 449.00\n",
      "Description:  مكانس بطة علبة-4 لتر\n",
      "Colors: أحمر\n",
      "Matter: \n",
      "URl: https://shatristore.com/ar/household-appliances/vacuum/%D8%AC%D9%8A-%D9%81%D9%8A-%D8%B3%D9%8A-%D8%A8%D8%B1%D9%88-%D9%85%D9%83%D9%86%D8%B3%D8%A9-%D8%A8%D8%B7%D9%87%D8%8C-%D8%A8%D8%AF%D9%88%D9%86-%D9%83%D9%8A%D8%B3%D8%8C-2200-%D9%88%D8%A7%D8%B7\n",
      "Image add https://shatristore.com/pub/media/catalog/product/cache/2e24353f833bba322b482bccad1c1fdf/1/_/1_120.png,https://shatristore.com/pub/media/catalog/product/cache/2e24353f833bba322b482bccad1c1fdf/2/_/2_64.png\n",
      "***********************************************************\n",
      "Count: 20\n",
      "URl: https://shatristore.com/ar/household-appliances/vacuum/%D8%AC%D9%8A-%D9%81%D9%8A-%D8%B3%D9%8A-%D8%A8%D8%B1%D9%88-%D9%85%D9%83%D9%86%D8%B3%D8%A9-%D9%83%D9%87%D8%B1%D8%A8%D8%A7%D8%A6%D9%8A%D8%A9-%D8%A8%D8%B7%D9%87-%D9%83%D9%8A%D8%B3%D8%8C-2200-%D9%88%D8%A7%D8%B7-1\n"
     ]
    },
    {
     "name": "stdout",
     "output_type": "stream",
     "text": [
      "Cat1: أجهزة المنزل\n",
      "Cat2: مكانس كهربائية\n",
      "Cat3: \n",
      "2\n",
      "len list images 2\n",
      "Sku: TRI-51532\n",
      "Title: جي في سي برو مكنسة كهربائية بطه كيس، 2200 واط\n",
      "Price: 219.00\n",
      "Price old: 439.00\n",
      "Description:  مكانس بطة بكيس-4 لتر\n",
      "Colors: أحمر\n",
      "Matter: \n",
      "URl: https://shatristore.com/ar/household-appliances/vacuum/%D8%AC%D9%8A-%D9%81%D9%8A-%D8%B3%D9%8A-%D8%A8%D8%B1%D9%88-%D9%85%D9%83%D9%86%D8%B3%D8%A9-%D9%83%D9%87%D8%B1%D8%A8%D8%A7%D8%A6%D9%8A%D8%A9-%D8%A8%D8%B7%D9%87-%D9%83%D9%8A%D8%B3%D8%8C-2200-%D9%88%D8%A7%D8%B7-1\n",
      "Image add https://shatristore.com/pub/media/catalog/product/cache/2e24353f833bba322b482bccad1c1fdf/1/_/1_119.png,https://shatristore.com/pub/media/catalog/product/cache/2e24353f833bba322b482bccad1c1fdf/2/_/2_63.png\n",
      "***********************************************************\n",
      "Count: 21\n",
      "URl: https://shatristore.com/ar/household-appliances/vacuum/%D8%AC%D9%8A-%D9%81%D9%8A-%D8%B3%D9%8A-%D8%A8%D8%B1%D9%88-%D9%85%D9%83%D9%86%D8%B3%D8%A9-%D8%A8%D8%B7%D9%87%D8%8C-%D8%A8%D8%AF%D9%88%D9%86-%D9%83%D9%8A%D8%B3%D8%8C-1800-%D9%88%D8%A7%D8%B7\n",
      "Cat1: أجهزة المنزل\n",
      "Cat2: مكانس كهربائية\n",
      "Cat3: \n",
      "2\n",
      "len list images 2\n",
      "Sku: TRI-51531\n",
      "Title: جي في سي برو مكنسة بطه، بدون كيس، 1800 واط\n",
      "Price: 189.00\n",
      "Price old: 379.00\n",
      "Description:  مكانس بطة علبة-4 لتر\n",
      "Colors: أزرق\n",
      "Matter: \n",
      "URl: https://shatristore.com/ar/household-appliances/vacuum/%D8%AC%D9%8A-%D9%81%D9%8A-%D8%B3%D9%8A-%D8%A8%D8%B1%D9%88-%D9%85%D9%83%D9%86%D8%B3%D8%A9-%D8%A8%D8%B7%D9%87%D8%8C-%D8%A8%D8%AF%D9%88%D9%86-%D9%83%D9%8A%D8%B3%D8%8C-1800-%D9%88%D8%A7%D8%B7\n",
      "Image add https://shatristore.com/pub/media/catalog/product/cache/2e24353f833bba322b482bccad1c1fdf/1/_/1_118.png,https://shatristore.com/pub/media/catalog/product/cache/2e24353f833bba322b482bccad1c1fdf/2/_/2_62.png\n",
      "***********************************************************\n",
      "Count: 22\n",
      "URl: https://shatristore.com/ar/household-appliances/vacuum/%D8%AC%D9%8A-%D9%81%D9%8A-%D8%B3%D9%8A-%D8%A8%D8%B1%D9%88-%D9%85%D9%83%D9%86%D8%B3%D8%A9-%D9%83%D9%87%D8%B1%D8%A8%D8%A7%D8%A6%D9%8A%D8%A9-%D8%A8%D8%B7%D9%87-%D9%83%D9%8A%D8%B3%D8%8C-2200-%D9%88%D8%A7%D8%B7\n",
      "Cat1: أجهزة المنزل\n",
      "Cat2: مكانس كهربائية\n",
      "Cat3: \n",
      "0\n",
      "len list images 0\n",
      "Sku: TRI-51530\n",
      "Title: جي في سي برو مكنسة كهربائية بطه كيس، 800 واط\n",
      "Price: 199.00\n",
      "Price old: 389.00\n",
      "Description:  مكانس بطة بكيس-5 لتر\n",
      "Colors: أحمر\n",
      "Matter: \n",
      "URl: https://shatristore.com/ar/household-appliances/vacuum/%D8%AC%D9%8A-%D9%81%D9%8A-%D8%B3%D9%8A-%D8%A8%D8%B1%D9%88-%D9%85%D9%83%D9%86%D8%B3%D8%A9-%D9%83%D9%87%D8%B1%D8%A8%D8%A7%D8%A6%D9%8A%D8%A9-%D8%A8%D8%B7%D9%87-%D9%83%D9%8A%D8%B3%D8%8C-2200-%D9%88%D8%A7%D8%B7\n",
      "Image add \n",
      "***********************************************************\n",
      "Count: 23\n",
      "URl: https://shatristore.com/ar/household-appliances/vacuum/%D8%A8%D8%A7%D9%86%D8%A7%D8%B3%D9%88%D9%86%D9%8A%D9%83-%D9%85%D9%83%D9%86%D8%B3%D8%A9-%D9%83%D9%87%D8%B1%D8%A8%D8%A7%D8%A6%D9%8A%D8%A9-%D8%A8%D8%B7%D9%87%D8%8C-%D8%A8%D8%AF%D9%88%D9%86-%D9%83%D9%8A%D8%B3%D8%8C-1600-%D9%88%D8%A7%D8%B7\n",
      "Cat1: أجهزة المنزل\n",
      "Cat2: مكانس كهربائية\n",
      "Cat3: \n",
      "2\n",
      "len list images 2\n",
      "Sku: TRI-51522\n",
      "Title: باناسونيك مكنسة كهربائية بطه، بدون كيس، 1600 واط\n",
      "Price: 349.00\n",
      "Price old: 510.00\n",
      "Description:  مكانس بطة علبة-2.5 لتر\n",
      "Colors: أزرق\n",
      "Matter: \n",
      "URl: https://shatristore.com/ar/household-appliances/vacuum/%D8%A8%D8%A7%D9%86%D8%A7%D8%B3%D9%88%D9%86%D9%8A%D9%83-%D9%85%D9%83%D9%86%D8%B3%D8%A9-%D9%83%D9%87%D8%B1%D8%A8%D8%A7%D8%A6%D9%8A%D8%A9-%D8%A8%D8%B7%D9%87%D8%8C-%D8%A8%D8%AF%D9%88%D9%86-%D9%83%D9%8A%D8%B3%D8%8C-1600-%D9%88%D8%A7%D8%B7\n",
      "Image add https://shatristore.com/pub/media/catalog/product/cache/2e24353f833bba322b482bccad1c1fdf/1/_/1_339.png,https://shatristore.com/pub/media/catalog/product/cache/2e24353f833bba322b482bccad1c1fdf/2/_/2_205.png\n",
      "***********************************************************\n",
      "Count: 24\n",
      "URl: https://shatristore.com/ar/household-appliances/vacuum/%D9%87%D9%88%D9%81%D8%B1-%D9%85%D9%83%D9%86%D8%B3%D8%A9-%D9%83%D9%87%D8%B1%D8%A8%D8%A7%D8%A6%D9%8A%D8%A9-%D8%BA%D8%B3%D9%8A%D9%84-%D8%A7%D9%84%D8%B3%D8%AC%D8%A7%D8%AF%D8%8C-1200-%D9%88%D8%A7%D8%B7\n",
      "Cat1: أجهزة المنزل\n",
      "Cat2: مكانس كهربائية\n",
      "Cat3: \n",
      "3\n",
      "len list images 3\n",
      "Sku: TRI-51521\n",
      "Title: هوفر مكنسة كهربائية غسيل السجاد، 1200 واط\n",
      "Price: 1,149.00\n",
      "Price old: 1,670.00\n",
      "Description:  مكانس برميل-3.2 لتر\n",
      "Colors: أحمر\n",
      "Matter: \n",
      "URl: https://shatristore.com/ar/household-appliances/vacuum/%D9%87%D9%88%D9%81%D8%B1-%D9%85%D9%83%D9%86%D8%B3%D8%A9-%D9%83%D9%87%D8%B1%D8%A8%D8%A7%D8%A6%D9%8A%D8%A9-%D8%BA%D8%B3%D9%8A%D9%84-%D8%A7%D9%84%D8%B3%D8%AC%D8%A7%D8%AF%D8%8C-1200-%D9%88%D8%A7%D8%B7\n",
      "Image add https://shatristore.com/pub/media/catalog/product/cache/2e24353f833bba322b482bccad1c1fdf/1/_/1_338.png,https://shatristore.com/pub/media/catalog/product/cache/2e24353f833bba322b482bccad1c1fdf/c/w/cwgdh012.png,https://shatristore.com/pub/media/catalog/product/cache/2e24353f833bba322b482bccad1c1fdf/c/w/cwgdh012-2.png\n",
      "***********************************************************\n",
      "Count: 25\n",
      "URl: https://shatristore.com/ar/household-appliances/vacuum/%D9%87%D9%88%D9%81%D8%B1-%D9%85%D9%83%D9%86%D8%B3%D8%A9-%D9%83%D9%87%D8%B1%D8%A8%D8%A7%D8%A6%D9%8A%D8%A9-%D8%BA%D8%B3%D9%8A%D9%84-%D8%A7%D9%84%D8%B3%D8%AC%D8%A7%D8%AF%D8%8C-1350-%D9%88%D8%A7%D8%B7\n",
      "Cat1: أجهزة المنزل\n",
      "Cat2: مكانس كهربائية\n",
      "Cat3: \n"
     ]
    },
    {
     "ename": "NoSuchElementException",
     "evalue": "Message: Unable to locate element: .fotorama__img\n",
     "output_type": "error",
     "traceback": [
      "\u001b[0;31m---------------------------------------------------------------------------\u001b[0m",
      "\u001b[0;31mNoSuchElementException\u001b[0m                    Traceback (most recent call last)",
      "\u001b[0;32m<ipython-input-10-48c485bcc99b>\u001b[0m in \u001b[0;36m<module>\u001b[0;34m\u001b[0m\n\u001b[1;32m    130\u001b[0m         \u001b[0mbrand_image\u001b[0m \u001b[0;34m=\u001b[0m \u001b[0;34m''\u001b[0m\u001b[0;34m\u001b[0m\u001b[0;34m\u001b[0m\u001b[0m\n\u001b[1;32m    131\u001b[0m \u001b[0;31m# Images*********************************************************************************\u001b[0m\u001b[0;34m\u001b[0m\u001b[0;34m\u001b[0m\u001b[0;34m\u001b[0m\u001b[0m\n\u001b[0;32m--> 132\u001b[0;31m     \u001b[0mimage\u001b[0m \u001b[0;34m=\u001b[0m \u001b[0mdriver\u001b[0m\u001b[0;34m.\u001b[0m\u001b[0mfind_element_by_class_name\u001b[0m\u001b[0;34m(\u001b[0m\u001b[0;34m'fotorama__img'\u001b[0m\u001b[0;34m)\u001b[0m\u001b[0;34m.\u001b[0m\u001b[0mget_attribute\u001b[0m\u001b[0;34m(\u001b[0m\u001b[0;34m'src'\u001b[0m\u001b[0;34m)\u001b[0m\u001b[0;34m\u001b[0m\u001b[0;34m\u001b[0m\u001b[0m\n\u001b[0m\u001b[1;32m    133\u001b[0m     \u001b[0mlist_images\u001b[0m \u001b[0;34m=\u001b[0m \u001b[0;34m[\u001b[0m\u001b[0;34m]\u001b[0m\u001b[0;34m\u001b[0m\u001b[0;34m\u001b[0m\u001b[0m\n\u001b[1;32m    134\u001b[0m     \u001b[0mflot_imgs\u001b[0m \u001b[0;34m=\u001b[0m \u001b[0mdriver\u001b[0m\u001b[0;34m.\u001b[0m\u001b[0mfind_elements_by_xpath\u001b[0m\u001b[0;34m(\u001b[0m\u001b[0;34m'//div[@class=\"fotorama__stage__shaft fotorama__grab\"]//img'\u001b[0m\u001b[0;34m)\u001b[0m\u001b[0;34m\u001b[0m\u001b[0;34m\u001b[0m\u001b[0m\n",
      "\u001b[0;32m~/anaconda3/lib/python3.8/site-packages/selenium/webdriver/remote/webdriver.py\u001b[0m in \u001b[0;36mfind_element_by_class_name\u001b[0;34m(self, name)\u001b[0m\n\u001b[1;32m    562\u001b[0m             \u001b[0melement\u001b[0m \u001b[0;34m=\u001b[0m \u001b[0mdriver\u001b[0m\u001b[0;34m.\u001b[0m\u001b[0mfind_element_by_class_name\u001b[0m\u001b[0;34m(\u001b[0m\u001b[0;34m'foo'\u001b[0m\u001b[0;34m)\u001b[0m\u001b[0;34m\u001b[0m\u001b[0;34m\u001b[0m\u001b[0m\n\u001b[1;32m    563\u001b[0m         \"\"\"\n\u001b[0;32m--> 564\u001b[0;31m         \u001b[0;32mreturn\u001b[0m \u001b[0mself\u001b[0m\u001b[0;34m.\u001b[0m\u001b[0mfind_element\u001b[0m\u001b[0;34m(\u001b[0m\u001b[0mby\u001b[0m\u001b[0;34m=\u001b[0m\u001b[0mBy\u001b[0m\u001b[0;34m.\u001b[0m\u001b[0mCLASS_NAME\u001b[0m\u001b[0;34m,\u001b[0m \u001b[0mvalue\u001b[0m\u001b[0;34m=\u001b[0m\u001b[0mname\u001b[0m\u001b[0;34m)\u001b[0m\u001b[0;34m\u001b[0m\u001b[0;34m\u001b[0m\u001b[0m\n\u001b[0m\u001b[1;32m    565\u001b[0m \u001b[0;34m\u001b[0m\u001b[0m\n\u001b[1;32m    566\u001b[0m     \u001b[0;32mdef\u001b[0m \u001b[0mfind_elements_by_class_name\u001b[0m\u001b[0;34m(\u001b[0m\u001b[0mself\u001b[0m\u001b[0;34m,\u001b[0m \u001b[0mname\u001b[0m\u001b[0;34m)\u001b[0m\u001b[0;34m:\u001b[0m\u001b[0;34m\u001b[0m\u001b[0;34m\u001b[0m\u001b[0m\n",
      "\u001b[0;32m~/anaconda3/lib/python3.8/site-packages/selenium/webdriver/remote/webdriver.py\u001b[0m in \u001b[0;36mfind_element\u001b[0;34m(self, by, value)\u001b[0m\n\u001b[1;32m    974\u001b[0m                 \u001b[0mby\u001b[0m \u001b[0;34m=\u001b[0m \u001b[0mBy\u001b[0m\u001b[0;34m.\u001b[0m\u001b[0mCSS_SELECTOR\u001b[0m\u001b[0;34m\u001b[0m\u001b[0;34m\u001b[0m\u001b[0m\n\u001b[1;32m    975\u001b[0m                 \u001b[0mvalue\u001b[0m \u001b[0;34m=\u001b[0m \u001b[0;34m'[name=\"%s\"]'\u001b[0m \u001b[0;34m%\u001b[0m \u001b[0mvalue\u001b[0m\u001b[0;34m\u001b[0m\u001b[0;34m\u001b[0m\u001b[0m\n\u001b[0;32m--> 976\u001b[0;31m         return self.execute(Command.FIND_ELEMENT, {\n\u001b[0m\u001b[1;32m    977\u001b[0m             \u001b[0;34m'using'\u001b[0m\u001b[0;34m:\u001b[0m \u001b[0mby\u001b[0m\u001b[0;34m,\u001b[0m\u001b[0;34m\u001b[0m\u001b[0;34m\u001b[0m\u001b[0m\n\u001b[1;32m    978\u001b[0m             'value': value})['value']\n",
      "\u001b[0;32m~/anaconda3/lib/python3.8/site-packages/selenium/webdriver/remote/webdriver.py\u001b[0m in \u001b[0;36mexecute\u001b[0;34m(self, driver_command, params)\u001b[0m\n\u001b[1;32m    319\u001b[0m         \u001b[0mresponse\u001b[0m \u001b[0;34m=\u001b[0m \u001b[0mself\u001b[0m\u001b[0;34m.\u001b[0m\u001b[0mcommand_executor\u001b[0m\u001b[0;34m.\u001b[0m\u001b[0mexecute\u001b[0m\u001b[0;34m(\u001b[0m\u001b[0mdriver_command\u001b[0m\u001b[0;34m,\u001b[0m \u001b[0mparams\u001b[0m\u001b[0;34m)\u001b[0m\u001b[0;34m\u001b[0m\u001b[0;34m\u001b[0m\u001b[0m\n\u001b[1;32m    320\u001b[0m         \u001b[0;32mif\u001b[0m \u001b[0mresponse\u001b[0m\u001b[0;34m:\u001b[0m\u001b[0;34m\u001b[0m\u001b[0;34m\u001b[0m\u001b[0m\n\u001b[0;32m--> 321\u001b[0;31m             \u001b[0mself\u001b[0m\u001b[0;34m.\u001b[0m\u001b[0merror_handler\u001b[0m\u001b[0;34m.\u001b[0m\u001b[0mcheck_response\u001b[0m\u001b[0;34m(\u001b[0m\u001b[0mresponse\u001b[0m\u001b[0;34m)\u001b[0m\u001b[0;34m\u001b[0m\u001b[0;34m\u001b[0m\u001b[0m\n\u001b[0m\u001b[1;32m    322\u001b[0m             response['value'] = self._unwrap_value(\n\u001b[1;32m    323\u001b[0m                 response.get('value', None))\n",
      "\u001b[0;32m~/anaconda3/lib/python3.8/site-packages/selenium/webdriver/remote/errorhandler.py\u001b[0m in \u001b[0;36mcheck_response\u001b[0;34m(self, response)\u001b[0m\n\u001b[1;32m    240\u001b[0m                 \u001b[0malert_text\u001b[0m \u001b[0;34m=\u001b[0m \u001b[0mvalue\u001b[0m\u001b[0;34m[\u001b[0m\u001b[0;34m'alert'\u001b[0m\u001b[0;34m]\u001b[0m\u001b[0;34m.\u001b[0m\u001b[0mget\u001b[0m\u001b[0;34m(\u001b[0m\u001b[0;34m'text'\u001b[0m\u001b[0;34m)\u001b[0m\u001b[0;34m\u001b[0m\u001b[0;34m\u001b[0m\u001b[0m\n\u001b[1;32m    241\u001b[0m             \u001b[0;32mraise\u001b[0m \u001b[0mexception_class\u001b[0m\u001b[0;34m(\u001b[0m\u001b[0mmessage\u001b[0m\u001b[0;34m,\u001b[0m \u001b[0mscreen\u001b[0m\u001b[0;34m,\u001b[0m \u001b[0mstacktrace\u001b[0m\u001b[0;34m,\u001b[0m \u001b[0malert_text\u001b[0m\u001b[0;34m)\u001b[0m\u001b[0;34m\u001b[0m\u001b[0;34m\u001b[0m\u001b[0m\n\u001b[0;32m--> 242\u001b[0;31m         \u001b[0;32mraise\u001b[0m \u001b[0mexception_class\u001b[0m\u001b[0;34m(\u001b[0m\u001b[0mmessage\u001b[0m\u001b[0;34m,\u001b[0m \u001b[0mscreen\u001b[0m\u001b[0;34m,\u001b[0m \u001b[0mstacktrace\u001b[0m\u001b[0;34m)\u001b[0m\u001b[0;34m\u001b[0m\u001b[0;34m\u001b[0m\u001b[0m\n\u001b[0m\u001b[1;32m    243\u001b[0m \u001b[0;34m\u001b[0m\u001b[0m\n\u001b[1;32m    244\u001b[0m     \u001b[0;32mdef\u001b[0m \u001b[0m_value_or_default\u001b[0m\u001b[0;34m(\u001b[0m\u001b[0mself\u001b[0m\u001b[0;34m,\u001b[0m \u001b[0mobj\u001b[0m\u001b[0;34m,\u001b[0m \u001b[0mkey\u001b[0m\u001b[0;34m,\u001b[0m \u001b[0mdefault\u001b[0m\u001b[0;34m)\u001b[0m\u001b[0;34m:\u001b[0m\u001b[0;34m\u001b[0m\u001b[0;34m\u001b[0m\u001b[0m\n",
      "\u001b[0;31mNoSuchElementException\u001b[0m: Message: Unable to locate element: .fotorama__img\n"
     ]
    }
   ],
   "source": [
    "now = datetime.now()\n",
    "dt_string = now.strftime(\"%d-%m-%Y-%H-%M-%S\")\n",
    "count = 0\n",
    "#ForLoop main\n",
    "name_excel = 'shatristore_test2.xlsx'\n",
    "df = pd.read_excel('Model of Shatri.xlsx')\n",
    "for i, product in enumerate(links_products):\n",
    "\n",
    "    link_url = ''\n",
    "    series = None\n",
    "    \n",
    "    try:\n",
    "        print('***********************************************************')\n",
    "        print('Count:', i)\n",
    "        print('URl:', product)\n",
    "        driver.get(product)\n",
    "        time.sleep(1)\n",
    "        link_url = str(product)\n",
    "    except:\n",
    "        continue\n",
    "    \n",
    "#**********************************************************************\n",
    "#**********************************************************************\n",
    "\n",
    "    time.sleep(1)\n",
    "    try:\n",
    "        sku = driver.find_element_by_xpath('//div[@itemprop=\"sku\"]').text\n",
    "        sku = 'TRI'+ '-' +sku\n",
    "    except:\n",
    "        print('pas de produit')\n",
    "        continue\n",
    "    name = driver.find_element_by_xpath('//h1[@class=\"page-title\"]').text\n",
    "    cats = driver.find_elements_by_xpath('//div[@class=\"breadcrumbs\"]//li')\n",
    "    try:\n",
    "        categories1 =  cats[1].text\n",
    "    except:\n",
    "        categories1 = ''\n",
    "    try:\n",
    "        categories2 =  cats[2].text\n",
    "    except:\n",
    "        categories2 = ''\n",
    "    try:\n",
    "        categories3 =  cats[3].text\n",
    "        if categories3 == name:\n",
    "            categories3 = ''\n",
    "    except:\n",
    "        categories3 = ''\n",
    "    print('Cat1:', categories1)\n",
    "    print('Cat2:', categories2)\n",
    "    print('Cat3:', categories3)\n",
    "    name = driver.find_element_by_xpath('//h1[@class=\"page-title\"]').text\n",
    "    url_key = (f'{sku}-{name}').replace(',', '-').replace('*', '-').replace('،', '-').replace('/', '-').replace('%', '').replace('\"', '').strip()\n",
    "    \n",
    "    price = driver.find_element_by_xpath('//span[@class=\"special-price\"]').text.replace('Now:', '').replace('ريال', '').replace('\\n', '').strip()\n",
    "    try:\n",
    "        special_price =  driver.find_element_by_xpath('//span[@class=\"old-price\"]').text.replace(':', '').replace('قبل', '').replace('ريال', '').replace('\\n', '').strip()\n",
    "    except:\n",
    "        special_price = 0\n",
    "    is_in_stock = driver.find_element_by_xpath('//div[@class=\"product-info-stock-sku\"]//span').text\n",
    "# Description*********************************************************************************\n",
    "    time.sleep(1)\n",
    "    n_scrolls = 1\n",
    "#     for j in range(0, n_scrolls):\n",
    "#         driver.execute_script(\"window.scrollTo(0, document.body.scrollHeight);\")\n",
    "#         time.sleep(0.5)\n",
    "    click_details = driver.find_element_by_id(\"tab-label-additional-title\")\n",
    "#     driver.execute_script(\"arguments[0].click();\", click_details)\n",
    "    click_details.click()\n",
    "    details_ele = driver.find_element_by_xpath('//div[@id=\"additional\"]')\n",
    "    details = details_ele.text.split('\\n')\n",
    "    \n",
    "#*****************************************************************************************************    \n",
    "        \n",
    "\n",
    "    raw_materials = ''\n",
    "#*****************************************************************************************************    \n",
    "    try:\n",
    "        free_colors = [fo for fo in details if 'اللون' in fo ][0].replace('اللون', '').strip()\n",
    "    except:\n",
    "        free_colors = ''\n",
    "# free_colors = details[4].text.replace('Color Family:', '').strip()\n",
    "\n",
    "#*****************************************************************************************************   \n",
    "    try:\n",
    "        hertz = [fo for fo in details if 'التردد الكهربائي' in fo][0].replace('التردد الكهربائي', '').replace('هيرتز', '').strip()\n",
    "    except:\n",
    "        hertz = ''\n",
    "#*****************************************************************************************************   \n",
    "    try:\n",
    "        voltage = [fo for fo in details if 'الجهد الكهربائي' in fo][0].replace('الجهد الكهربائي', '').replace('فولت', '').strip()\n",
    "    except:\n",
    "        voltage\n",
    "#*****************************************************************************************************   \n",
    "    try:\n",
    "        power = [fo for fo in details if 'القوة الكهربائية' in fo][0].replace('القوة الكهربائية', '').replace('واط', '').strip()\n",
    "    except:\n",
    "        power = ''\n",
    "#*****************************************************************************************************   \n",
    "    try:\n",
    "        brands = [fo for fo in details if 'علامة تجارية' in fo][0]\n",
    "    except:\n",
    "        brands = ''\n",
    "# ********************************************************************************\n",
    "    try:\n",
    "        products_size = [fo for fo in details if 'الابعاد' in fo][0].replace('الابعاد', '').replace('CM', '').replace('cm', '').strip()\n",
    "    except:\n",
    "        products_size = ''\n",
    "\n",
    "# Description*********************************************************************************\n",
    "    try:\n",
    "        tp = [fo for fo in details if 'النوع' in fo][0].replace('النوع', '')\n",
    "    \n",
    "    except:\n",
    "        tp = ''\n",
    "    try:\n",
    "        size = [fo for fo in details if 'المقاس ' in fo][0].replace('المقاس ', '')\n",
    "        \n",
    "    except:\n",
    "        size = ''\n",
    "    description =  tp + '-' + size \n",
    "    \n",
    "    short_description = name\n",
    "\n",
    "# brand*********************************************************************************\n",
    "    try:\n",
    "        mgs_brand = driver.find_element_by_xpath('//div[@class=\"product-brand-logo\"]/a/img').get_attribute('title')\n",
    "        brand_image = driver.find_element_by_xpath('//div[@class=\"product-brand-logo\"]/a/img').get_attribute('src')\n",
    "    except:\n",
    "        mgs_brand = ''\n",
    "        brand_image = ''\n",
    "# Images*********************************************************************************\n",
    "    image = driver.find_element_by_class_name('fotorama__img').get_attribute('src')\n",
    "    list_images = []\n",
    "    flot_imgs = driver.find_elements_by_xpath('//div[@class=\"fotorama__stage__shaft fotorama__grab\"]//img')\n",
    "    print(len(flot_imgs))\n",
    "    for img in flot_imgs:\n",
    "\n",
    "        list_images.append(img.get_attribute('src'))\n",
    "        time.sleep(1)\n",
    "        \n",
    "            \n",
    "    print('len list images',len(list_images))\n",
    "    base_image = image\n",
    "    small_image = image\n",
    "    swatch_image = image\n",
    "    thumbnail_image = image\n",
    "#************************************************************************** \n",
    "    print('Sku:', sku)\n",
    "    print('Title:', name)\n",
    "    print('Price:', price)\n",
    "    print('Price old:',special_price)\n",
    "    print('Description:',description)\n",
    "    print('Colors:',free_colors)\n",
    "    print('Matter:',raw_materials)\n",
    "#     print('Size:',Dimensions)\n",
    "    \n",
    "    print('URl:',link_url)\n",
    "    \n",
    "        \n",
    "    timage = ','.join(list_images)\n",
    "#         list_input_images2.append(timage)\n",
    "    print('Image add',timage)\n",
    "    \n",
    "\n",
    "    additional_images = timage\n",
    "        #         list_input_images2.append(t)\n",
    "#*******************************************************\n",
    "    two_month = datetime.now() + timedelta(days=60)\n",
    "    two_month = two_month.strftime(\"%m/%d/%Y\")\n",
    "    today = datetime.today().strftime(\"%m/%d/%Y\")\n",
    "#*******************************************************\n",
    "    \n",
    "    series = pd.Series([sku,\n",
    "                        '', # store_view_code\n",
    "                        '', # attribute_set_code\n",
    "                        '', # product_websites\n",
    "                        tp, # product_type\n",
    "                        name,\n",
    "                        description,\n",
    "                         short_description,\n",
    "                         url_key,\n",
    "                        link_url,\n",
    "                        '',#cost\n",
    "                        price ,\n",
    "                        special_price,\n",
    "                         categories1,\n",
    "                         categories2,\n",
    "                         categories3,\n",
    "                        '',# categories\n",
    "                         free_colors,\n",
    "                        raw_materials,\n",
    "                        power,\n",
    "                        voltage,\n",
    "                        hertz,\n",
    "                        products_size,\n",
    "                        mgs_brand,\n",
    "                         base_image,\n",
    "                         small_image,\n",
    "                         swatch_image,\n",
    "                         thumbnail_image,\n",
    "                         additional_images ,\n",
    "                        is_in_stock,\n",
    "                        'product_online', \n",
    "                        0,\n",
    "                        -5,\n",
    "                        is_in_stock,\n",
    "                        'Catalog, Search',\n",
    "                        'Taxable Goods',\n",
    "                        'مستوردة',\n",
    "                         today,\n",
    "                         two_month,\n",
    "                         '', # news_to_date\testimated_delivery_enable\n",
    "                         '', # estimated_delivery_text\n",
    "                         ' TRI',\n",
    "\n",
    "                        ],  index=df.columns)\n",
    "    #df.append(df1)\n",
    "    df = df.append(series, ignore_index=True)\n",
    "    df.to_excel( f'{name_excel}', index = False)\n"
   ]
  },
  {
   "cell_type": "code",
   "execution_count": 25,
   "id": "7f598c74",
   "metadata": {},
   "outputs": [],
   "source": [
    "df = pd.read_excel('/home/wafistos/Documents/Projects/scaping_wafi/shatristore/shatristore_test.xlsx')"
   ]
  },
  {
   "cell_type": "code",
   "execution_count": 26,
   "id": "4608bd60",
   "metadata": {},
   "outputs": [],
   "source": [
    "df.loc[df['name'] == df['categories3'], 'categories3'] = ''"
   ]
  },
  {
   "cell_type": "code",
   "execution_count": 27,
   "id": "feb6f665",
   "metadata": {},
   "outputs": [
    {
     "data": {
      "text/plain": [
       "0     NaN\n",
       "1     NaN\n",
       "2     NaN\n",
       "3     NaN\n",
       "4     NaN\n",
       "     ... \n",
       "58    NaN\n",
       "59    NaN\n",
       "60    NaN\n",
       "61    NaN\n",
       "62    NaN\n",
       "Name: categories3, Length: 63, dtype: object"
      ]
     },
     "execution_count": 27,
     "metadata": {},
     "output_type": "execute_result"
    }
   ],
   "source": [
    "df['categories3']"
   ]
  },
  {
   "cell_type": "code",
   "execution_count": 28,
   "id": "1456e5c8",
   "metadata": {},
   "outputs": [],
   "source": [
    "df.to_excel('test_Shatristore.xlsx')"
   ]
  },
  {
   "cell_type": "code",
   "execution_count": null,
   "id": "7f11b88a",
   "metadata": {},
   "outputs": [],
   "source": []
  },
  {
   "cell_type": "code",
   "execution_count": null,
   "id": "3759b800",
   "metadata": {},
   "outputs": [],
   "source": []
  },
  {
   "cell_type": "code",
   "execution_count": null,
   "id": "4c37fa8a",
   "metadata": {},
   "outputs": [],
   "source": []
  },
  {
   "cell_type": "code",
   "execution_count": 13,
   "id": "46df2486",
   "metadata": {},
   "outputs": [],
   "source": [
    "click_details = driver.find_element_by_id(\"tab-label-additional-title\")\n",
    "click_details.click()"
   ]
  },
  {
   "cell_type": "code",
   "execution_count": null,
   "id": "f7e77e3b",
   "metadata": {},
   "outputs": [],
   "source": []
  },
  {
   "cell_type": "code",
   "execution_count": 177,
   "id": "3c13f8fe",
   "metadata": {},
   "outputs": [
    {
     "name": "stdout",
     "output_type": "stream",
     "text": [
      "len list images 1\n"
     ]
    }
   ],
   "source": [
    "list_images = []\n",
    "images = driver.find_elements_by_xpath('//a[@class=\"mz-thumb\"]')\n",
    "if len(images) > 0:\n",
    "    for img in images:\n",
    "        time.sleep(0.8)\n",
    "        driver.execute_script(\"arguments[0].click();\", img)\n",
    "        toto = driver.find_element_by_xpath('//figure/img')\n",
    "\n",
    "        list_images.append(toto.get_attribute('src').split('?')[0])\n",
    "else:\n",
    "    try:\n",
    "        images2 = driver.find_element_by_id('itemimage')\n",
    "        list_images.append(images2.get_attribute('src').split('?')[0])\n",
    "    except:\n",
    "        pass\n",
    "        \n",
    "            \n",
    "print('len list images',len(list_images))"
   ]
  },
  {
   "cell_type": "code",
   "execution_count": 184,
   "id": "5c74fffe",
   "metadata": {},
   "outputs": [
    {
     "ename": "IndexError",
     "evalue": "list index out of range",
     "output_type": "error",
     "traceback": [
      "\u001b[0;31m---------------------------------------------------------------------------\u001b[0m",
      "\u001b[0;31mIndexError\u001b[0m                                Traceback (most recent call last)",
      "\u001b[0;32m<ipython-input-184-d054465e1704>\u001b[0m in \u001b[0;36m<module>\u001b[0;34m\u001b[0m\n\u001b[1;32m      1\u001b[0m \u001b[0mclick_other\u001b[0m \u001b[0;34m=\u001b[0m \u001b[0mdriver\u001b[0m\u001b[0;34m.\u001b[0m\u001b[0mfind_elements_by_class_name\u001b[0m\u001b[0;34m(\u001b[0m\u001b[0;34m'product-tab-heading'\u001b[0m\u001b[0;34m)\u001b[0m\u001b[0;34m\u001b[0m\u001b[0;34m\u001b[0m\u001b[0m\n\u001b[0;32m----> 2\u001b[0;31m \u001b[0mclick_other\u001b[0m\u001b[0;34m[\u001b[0m\u001b[0;36m3\u001b[0m\u001b[0;34m]\u001b[0m\u001b[0;34m.\u001b[0m\u001b[0mclick\u001b[0m\u001b[0;34m(\u001b[0m\u001b[0;34m)\u001b[0m\u001b[0;34m\u001b[0m\u001b[0;34m\u001b[0m\u001b[0m\n\u001b[0m\u001b[1;32m      3\u001b[0m \u001b[0mdetails\u001b[0m \u001b[0;34m=\u001b[0m \u001b[0mdriver\u001b[0m\u001b[0;34m.\u001b[0m\u001b[0mfind_elements_by_xpath\u001b[0m\u001b[0;34m(\u001b[0m\u001b[0;34m'//div[@data-tab-class=\"OtherDetails\"]/p'\u001b[0m\u001b[0;34m)\u001b[0m\u001b[0;34m\u001b[0m\u001b[0;34m\u001b[0m\u001b[0m\n\u001b[1;32m      4\u001b[0m \u001b[0mfree_colors\u001b[0m \u001b[0;34m=\u001b[0m \u001b[0;34m''\u001b[0m\u001b[0;34m\u001b[0m\u001b[0;34m\u001b[0m\u001b[0m\n\u001b[1;32m      5\u001b[0m \u001b[0;32mfor\u001b[0m \u001b[0mdet\u001b[0m \u001b[0;32min\u001b[0m \u001b[0mdetails\u001b[0m\u001b[0;34m:\u001b[0m\u001b[0;34m\u001b[0m\u001b[0;34m\u001b[0m\u001b[0m\n",
      "\u001b[0;31mIndexError\u001b[0m: list index out of range"
     ]
    }
   ],
   "source": [
    "click_other = driver.find_elements_by_class_name('product-tab-heading')\n",
    "click_other[3].click()\n",
    "details = driver.find_elements_by_xpath('//div[@data-tab-class=\"OtherDetails\"]/p')\n",
    "free_colors = ''\n",
    "for det in details:\n",
    "    if  'Color Family:' in det.text:\n",
    "        free_colors = det.text.replace('Color Family:', '').strip()"
   ]
  },
  {
   "cell_type": "code",
   "execution_count": null,
   "id": "a8bb9a25",
   "metadata": {},
   "outputs": [],
   "source": []
  },
  {
   "cell_type": "code",
   "execution_count": null,
   "id": "9a8178f9",
   "metadata": {},
   "outputs": [],
   "source": []
  },
  {
   "cell_type": "code",
   "execution_count": 133,
   "id": "26d09891",
   "metadata": {},
   "outputs": [],
   "source": [
    "driver.get('https://arthomefurnishings.com/shop/starlite-california-king-upholstered-panel-bed-with-storage/')"
   ]
  },
  {
   "cell_type": "code",
   "execution_count": 100,
   "id": "6d970833",
   "metadata": {},
   "outputs": [
    {
     "data": {
      "text/plain": [
       "'325.6'"
      ]
     },
     "execution_count": 100,
     "metadata": {},
     "output_type": "execute_result"
    }
   ],
   "source": [
    "weights = driver.find_element_by_xpath('//div[contains(text(),\"Weight:\")]').text.replace('Weight:', '').replace('.lbs', '').strip()\n",
    "\n",
    "weights"
   ]
  },
  {
   "cell_type": "code",
   "execution_count": 73,
   "id": "6a210f1f",
   "metadata": {},
   "outputs": [],
   "source": [
    "https://www.sagebrookhome.com/decorative-accessories/bowls-and-plates/"
   ]
  },
  {
   "cell_type": "code",
   "execution_count": 201,
   "id": "bf71b203",
   "metadata": {},
   "outputs": [
    {
     "name": "stdout",
     "output_type": "stream",
     "text": [
      "0\n",
      "len list images 0\n"
     ]
    }
   ],
   "source": [
    "list_images = []\n",
    "image = driver.find_element_by_class_name('fotorama__img').get_attribute('src')\n",
    "flot_imgs = driver.find_elements_by_xpath('//div[@class=\"fotorama__stage__shaft fotorama__grab\"]//img')\n",
    "print(len(flot_imgs))\n",
    "for img in flot_imgs:\n",
    "\n",
    "    list_images.append(img.get_attribute('src'))\n",
    "    time.sleep(2)\n",
    "\n",
    "\n",
    "print('len list images',len(list_images))"
   ]
  },
  {
   "cell_type": "markdown",
   "id": "b7d8d492",
   "metadata": {},
   "source": [
    "# Fin de la fonction"
   ]
  },
  {
   "cell_type": "code",
   "execution_count": 3,
   "id": "3a22a88f",
   "metadata": {},
   "outputs": [
    {
     "ename": "XMLSyntaxError",
     "evalue": "internal error: Huge input lookup, line 2, column 10050239 (<string>, line 2)",
     "output_type": "error",
     "traceback": [
      "Traceback \u001b[0;36m(most recent call last)\u001b[0m:\n",
      "  File \u001b[1;32m\"/home/wafistos/anaconda3/lib/python3.8/site-packages/IPython/core/interactiveshell.py\"\u001b[0m, line \u001b[1;32m3437\u001b[0m, in \u001b[1;35mrun_code\u001b[0m\n    exec(code_obj, self.user_global_ns, self.user_ns)\n",
      "  File \u001b[1;32m\"<ipython-input-3-3273f3db9bc1>\"\u001b[0m, line \u001b[1;32m1\u001b[0m, in \u001b[1;35m<module>\u001b[0m\n    df = pd.read_excel('/home/wafistos/Documents/Projects/scaping_wafi/Scraping_Midas/midas_update_midas.xlsx')\n",
      "  File \u001b[1;32m\"/home/wafistos/anaconda3/lib/python3.8/site-packages/pandas/util/_decorators.py\"\u001b[0m, line \u001b[1;32m299\u001b[0m, in \u001b[1;35mwrapper\u001b[0m\n    return func(*args, **kwargs)\n",
      "  File \u001b[1;32m\"/home/wafistos/anaconda3/lib/python3.8/site-packages/pandas/io/excel/_base.py\"\u001b[0m, line \u001b[1;32m336\u001b[0m, in \u001b[1;35mread_excel\u001b[0m\n    io = ExcelFile(io, storage_options=storage_options, engine=engine)\n",
      "  File \u001b[1;32m\"/home/wafistos/anaconda3/lib/python3.8/site-packages/pandas/io/excel/_base.py\"\u001b[0m, line \u001b[1;32m1131\u001b[0m, in \u001b[1;35m__init__\u001b[0m\n    self._reader = self._engines[engine](self._io, storage_options=storage_options)\n",
      "  File \u001b[1;32m\"/home/wafistos/anaconda3/lib/python3.8/site-packages/pandas/io/excel/_openpyxl.py\"\u001b[0m, line \u001b[1;32m475\u001b[0m, in \u001b[1;35m__init__\u001b[0m\n    super().__init__(filepath_or_buffer, storage_options=storage_options)\n",
      "  File \u001b[1;32m\"/home/wafistos/anaconda3/lib/python3.8/site-packages/pandas/io/excel/_base.py\"\u001b[0m, line \u001b[1;32m391\u001b[0m, in \u001b[1;35m__init__\u001b[0m\n    self.book = self.load_workbook(self.handles.handle)\n",
      "  File \u001b[1;32m\"/home/wafistos/anaconda3/lib/python3.8/site-packages/pandas/io/excel/_openpyxl.py\"\u001b[0m, line \u001b[1;32m486\u001b[0m, in \u001b[1;35mload_workbook\u001b[0m\n    return load_workbook(\n",
      "  File \u001b[1;32m\"/home/wafistos/anaconda3/lib/python3.8/site-packages/openpyxl/reader/excel.py\"\u001b[0m, line \u001b[1;32m317\u001b[0m, in \u001b[1;35mload_workbook\u001b[0m\n    reader.read()\n",
      "  File \u001b[1;32m\"/home/wafistos/anaconda3/lib/python3.8/site-packages/openpyxl/reader/excel.py\"\u001b[0m, line \u001b[1;32m282\u001b[0m, in \u001b[1;35mread\u001b[0m\n    self.read_worksheets()\n",
      "  File \u001b[1;32m\"/home/wafistos/anaconda3/lib/python3.8/site-packages/openpyxl/reader/excel.py\"\u001b[0m, line \u001b[1;32m216\u001b[0m, in \u001b[1;35mread_worksheets\u001b[0m\n    rels = get_dependents(self.archive, rels_path)\n",
      "  File \u001b[1;32m\"/home/wafistos/anaconda3/lib/python3.8/site-packages/openpyxl/packaging/relationship.py\"\u001b[0m, line \u001b[1;32m131\u001b[0m, in \u001b[1;35mget_dependents\u001b[0m\n    node = fromstring(src)\n",
      "  File \u001b[1;32m\"src/lxml/etree.pyx\"\u001b[0m, line \u001b[1;32m3237\u001b[0m, in \u001b[1;35mlxml.etree.fromstring\u001b[0m\n",
      "  File \u001b[1;32m\"src/lxml/parser.pxi\"\u001b[0m, line \u001b[1;32m1896\u001b[0m, in \u001b[1;35mlxml.etree._parseMemoryDocument\u001b[0m\n",
      "  File \u001b[1;32m\"src/lxml/parser.pxi\"\u001b[0m, line \u001b[1;32m1784\u001b[0m, in \u001b[1;35mlxml.etree._parseDoc\u001b[0m\n",
      "  File \u001b[1;32m\"src/lxml/parser.pxi\"\u001b[0m, line \u001b[1;32m1141\u001b[0m, in \u001b[1;35mlxml.etree._BaseParser._parseDoc\u001b[0m\n",
      "  File \u001b[1;32m\"src/lxml/parser.pxi\"\u001b[0m, line \u001b[1;32m615\u001b[0m, in \u001b[1;35mlxml.etree._ParserContext._handleParseResultDoc\u001b[0m\n",
      "  File \u001b[1;32m\"src/lxml/parser.pxi\"\u001b[0m, line \u001b[1;32m725\u001b[0m, in \u001b[1;35mlxml.etree._handleParseResult\u001b[0m\n",
      "\u001b[0;36m  File \u001b[0;32m\"src/lxml/parser.pxi\"\u001b[0;36m, line \u001b[0;32m654\u001b[0;36m, in \u001b[0;35mlxml.etree._raiseParseError\u001b[0;36m\u001b[0m\n",
      "\u001b[0;36m  File \u001b[0;32m\"<string>\"\u001b[0;36m, line \u001b[0;32m2\u001b[0m\n\u001b[0;31mXMLSyntaxError\u001b[0m\u001b[0;31m:\u001b[0m internal error: Huge input lookup, line 2, column 10050239\n"
     ]
    }
   ],
   "source": [
    "df = pd.read_excel('/home/wafistos/Documents/Projects/scaping_wafi/Scraping_Midas/midas_update_midas.xlsx')"
   ]
  },
  {
   "cell_type": "code",
   "execution_count": 49,
   "id": "53a97f1e",
   "metadata": {},
   "outputs": [],
   "source": [
    "df.loc[df['special_price'] == 0, 'special_price'] = '__EMPTY__VALUE__'"
   ]
  },
  {
   "cell_type": "code",
   "execution_count": 127,
   "id": "800d2ed3",
   "metadata": {},
   "outputs": [
    {
     "name": "stdout",
     "output_type": "stream",
     "text": [
      "Dimensions In Inches: w-84.65 x d-121.08 x h-53.07\n"
     ]
    }
   ],
   "source": [
    "dimension = driver.find_element_by_xpath('//div[contains(text(),\"Dimensions In Inches:\")]').text\n",
    "print(dimension)\n",
    "    \n",
    "   \n",
    "width , height , length = clear_size(dimension)"
   ]
  },
  {
   "cell_type": "code",
   "execution_count": 124,
   "id": "23372af2",
   "metadata": {},
   "outputs": [
    {
     "data": {
      "text/plain": [
       "(0, 0, 0)"
      ]
     },
     "execution_count": 124,
     "metadata": {},
     "output_type": "execute_result"
    }
   ],
   "source": [
    "clear_size('Dimensions In Inches: w-84.65 x d-121.08 x h-53.07')"
   ]
  },
  {
   "cell_type": "code",
   "execution_count": 50,
   "id": "ee125233",
   "metadata": {},
   "outputs": [],
   "source": [
    "driver.get('https://www.alrugaibfurniture.com/ar/collections/rugs/products/fusion-rug-blue-multi-colored')"
   ]
  },
  {
   "cell_type": "code",
   "execution_count": 51,
   "id": "5a71234a",
   "metadata": {},
   "outputs": [
    {
     "data": {
      "text/plain": [
       "3"
      ]
     },
     "execution_count": 51,
     "metadata": {},
     "output_type": "execute_result"
    }
   ],
   "source": [
    "list_products_other = driver.find_elements_by_class_name('block-swatch__item-text')\n",
    "len(list_products_other)"
   ]
  },
  {
   "cell_type": "code",
   "execution_count": 52,
   "id": "1933edf4",
   "metadata": {},
   "outputs": [],
   "source": [
    "list_products_other[0].click()"
   ]
  },
  {
   "cell_type": "code",
   "execution_count": 191,
   "id": "2d9bba02",
   "metadata": {},
   "outputs": [],
   "source": [
    "df "
   ]
  },
  {
   "cell_type": "code",
   "execution_count": 192,
   "id": "770e17a7",
   "metadata": {},
   "outputs": [],
   "source": [
    "df1 = pd.read_excel('hooker_all_pro.xlsx')\n",
    "df2 = pd.read_excel('hooker_all_pro1.xlsx')\n",
    "\n",
    "\n",
    "\n",
    "\n",
    "\n",
    "\n"
   ]
  },
  {
   "cell_type": "code",
   "execution_count": 193,
   "id": "e37621fb",
   "metadata": {},
   "outputs": [],
   "source": [
    "df = pd.concat([df1, df2], ignore_index=True)"
   ]
  },
  {
   "cell_type": "code",
   "execution_count": 253,
   "id": "a58e1ccf",
   "metadata": {},
   "outputs": [
    {
     "data": {
      "text/plain": [
       "(1795, 38)"
      ]
     },
     "execution_count": 253,
     "metadata": {},
     "output_type": "execute_result"
    }
   ],
   "source": [
    "df.shape"
   ]
  },
  {
   "cell_type": "code",
   "execution_count": 252,
   "id": "41ddaca3",
   "metadata": {},
   "outputs": [
    {
     "data": {
      "text/html": [
       "<div>\n",
       "<style scoped>\n",
       "    .dataframe tbody tr th:only-of-type {\n",
       "        vertical-align: middle;\n",
       "    }\n",
       "\n",
       "    .dataframe tbody tr th {\n",
       "        vertical-align: top;\n",
       "    }\n",
       "\n",
       "    .dataframe thead th {\n",
       "        text-align: right;\n",
       "    }\n",
       "</style>\n",
       "<table border=\"1\" class=\"dataframe\">\n",
       "  <thead>\n",
       "    <tr style=\"text-align: right;\">\n",
       "      <th></th>\n",
       "      <th>sku</th>\n",
       "      <th>name</th>\n",
       "      <th>url_key</th>\n",
       "      <th>free_colors</th>\n",
       "      <th>raw_materials</th>\n",
       "      <th>short_description</th>\n",
       "      <th>description</th>\n",
       "      <th>ts_dimensions_width</th>\n",
       "      <th>ts_dimensions_height</th>\n",
       "      <th>ts_dimensions_length</th>\n",
       "      <th>...</th>\n",
       "      <th>allow_backorders</th>\n",
       "      <th>manufacturer</th>\n",
       "      <th>news_from_date</th>\n",
       "      <th>news_to_date</th>\n",
       "      <th>product_websites</th>\n",
       "      <th>attribute_set_code</th>\n",
       "      <th>product_type</th>\n",
       "      <th>store_view_code</th>\n",
       "      <th>supplier</th>\n",
       "      <th>estimated_delivery_enable</th>\n",
       "    </tr>\n",
       "  </thead>\n",
       "  <tbody>\n",
       "    <tr>\n",
       "      <th>0</th>\n",
       "      <td>ROG-SS195-03-083</td>\n",
       "      <td>Hooker Furniture Living Room Chester Tufted St...</td>\n",
       "      <td>ROG-SS195-03-083-Hooker Furniture Living Room ...</td>\n",
       "      <td>Brown</td>\n",
       "      <td>Leather</td>\n",
       "      <td>Hooker Furniture Upholstery is a designer-insp...</td>\n",
       "      <td>NaN</td>\n",
       "      <td>240.0</td>\n",
       "      <td>80.0</td>\n",
       "      <td>104.1</td>\n",
       "      <td>...</td>\n",
       "      <td>1</td>\n",
       "      <td>مستوردة</td>\n",
       "      <td>07/17/2021</td>\n",
       "      <td>09/15/2021</td>\n",
       "      <td>base</td>\n",
       "      <td>Default</td>\n",
       "      <td>simple</td>\n",
       "      <td>NaN</td>\n",
       "      <td>ROG</td>\n",
       "      <td>Static Text</td>\n",
       "    </tr>\n",
       "    <tr>\n",
       "      <th>1</th>\n",
       "      <td>ROG-SS387-03-087</td>\n",
       "      <td>Hooker Furniture Living Room Exton Stationary ...</td>\n",
       "      <td>ROG-SS387-03-087-Hooker Furniture Living Room ...</td>\n",
       "      <td>Brown</td>\n",
       "      <td>Leather</td>\n",
       "      <td>Developed by one of America's premier manufact...</td>\n",
       "      <td>NaN</td>\n",
       "      <td>210.8</td>\n",
       "      <td>92.7</td>\n",
       "      <td>105.4</td>\n",
       "      <td>...</td>\n",
       "      <td>1</td>\n",
       "      <td>مستوردة</td>\n",
       "      <td>07/17/2021</td>\n",
       "      <td>09/15/2021</td>\n",
       "      <td>base</td>\n",
       "      <td>Default</td>\n",
       "      <td>simple</td>\n",
       "      <td>NaN</td>\n",
       "      <td>ROG</td>\n",
       "      <td>Static Text</td>\n",
       "    </tr>\n",
       "    <tr>\n",
       "      <th>2</th>\n",
       "      <td>ROG-SS519-03-087</td>\n",
       "      <td>Hooker Furniture Living Room Yates Stationary ...</td>\n",
       "      <td>ROG-SS519-03-087-Hooker Furniture Living Room ...</td>\n",
       "      <td>__EMPTY__VALUE__</td>\n",
       "      <td>Leather</td>\n",
       "      <td>Developed by one of America's premier manufact...</td>\n",
       "      <td>NaN</td>\n",
       "      <td>235.0</td>\n",
       "      <td>90.2</td>\n",
       "      <td>105.4</td>\n",
       "      <td>...</td>\n",
       "      <td>1</td>\n",
       "      <td>مستوردة</td>\n",
       "      <td>07/17/2021</td>\n",
       "      <td>09/15/2021</td>\n",
       "      <td>base</td>\n",
       "      <td>Default</td>\n",
       "      <td>simple</td>\n",
       "      <td>NaN</td>\n",
       "      <td>ROG</td>\n",
       "      <td>Static Text</td>\n",
       "    </tr>\n",
       "    <tr>\n",
       "      <th>3</th>\n",
       "      <td>ROG-5865-52004-95</td>\n",
       "      <td>Hooker Furniture Living Room Sanctuary Proper ...</td>\n",
       "      <td>ROG-5865-52004-95-Hooker Furniture Living Room...</td>\n",
       "      <td>Beige</td>\n",
       "      <td>__EMPTY__VALUE__</td>\n",
       "      <td>In a flawless, sophisticated contemporary silh...</td>\n",
       "      <td>NaN</td>\n",
       "      <td>181.6</td>\n",
       "      <td>73.7</td>\n",
       "      <td>81.3</td>\n",
       "      <td>...</td>\n",
       "      <td>1</td>\n",
       "      <td>مستوردة</td>\n",
       "      <td>07/17/2021</td>\n",
       "      <td>09/15/2021</td>\n",
       "      <td>base</td>\n",
       "      <td>Default</td>\n",
       "      <td>simple</td>\n",
       "      <td>NaN</td>\n",
       "      <td>ROG</td>\n",
       "      <td>Static Text</td>\n",
       "    </tr>\n",
       "    <tr>\n",
       "      <th>4</th>\n",
       "      <td>ROG-SS185-03-089</td>\n",
       "      <td>Hooker Furniture Living Room Montgomery Sofa</td>\n",
       "      <td>ROG-SS185-03-089-Hooker Furniture Living Room ...</td>\n",
       "      <td>Brown</td>\n",
       "      <td>Leather</td>\n",
       "      <td>Developed by one of America's premier manufact...</td>\n",
       "      <td>NaN</td>\n",
       "      <td>210.8</td>\n",
       "      <td>90.2</td>\n",
       "      <td>102.9</td>\n",
       "      <td>...</td>\n",
       "      <td>1</td>\n",
       "      <td>مستوردة</td>\n",
       "      <td>07/17/2021</td>\n",
       "      <td>09/15/2021</td>\n",
       "      <td>base</td>\n",
       "      <td>Default</td>\n",
       "      <td>simple</td>\n",
       "      <td>NaN</td>\n",
       "      <td>ROG</td>\n",
       "      <td>Static Text</td>\n",
       "    </tr>\n",
       "    <tr>\n",
       "      <th>...</th>\n",
       "      <td>...</td>\n",
       "      <td>...</td>\n",
       "      <td>...</td>\n",
       "      <td>...</td>\n",
       "      <td>...</td>\n",
       "      <td>...</td>\n",
       "      <td>...</td>\n",
       "      <td>...</td>\n",
       "      <td>...</td>\n",
       "      <td>...</td>\n",
       "      <td>...</td>\n",
       "      <td>...</td>\n",
       "      <td>...</td>\n",
       "      <td>...</td>\n",
       "      <td>...</td>\n",
       "      <td>...</td>\n",
       "      <td>...</td>\n",
       "      <td>...</td>\n",
       "      <td>...</td>\n",
       "      <td>...</td>\n",
       "      <td>...</td>\n",
       "    </tr>\n",
       "    <tr>\n",
       "      <th>1790</th>\n",
       "      <td>ROG-5371-70202</td>\n",
       "      <td>Hooker Furniture Home Entertainment Clermont T...</td>\n",
       "      <td>ROG-5371-70202-Hooker Furniture Home Entertain...</td>\n",
       "      <td>__EMPTY__VALUE__</td>\n",
       "      <td>Cherry Veneers</td>\n",
       "      <td>The charming Clermont Two Piece Entertainment ...</td>\n",
       "      <td>NaN</td>\n",
       "      <td>188.6</td>\n",
       "      <td>224.8</td>\n",
       "      <td>53.3</td>\n",
       "      <td>...</td>\n",
       "      <td>1</td>\n",
       "      <td>مستوردة</td>\n",
       "      <td>07/18/2021</td>\n",
       "      <td>09/16/2021</td>\n",
       "      <td>base</td>\n",
       "      <td>Default</td>\n",
       "      <td>simple</td>\n",
       "      <td>NaN</td>\n",
       "      <td>ROG</td>\n",
       "      <td>Static Text</td>\n",
       "    </tr>\n",
       "    <tr>\n",
       "      <th>1791</th>\n",
       "      <td>ROG-5323-55202</td>\n",
       "      <td>Hooker Furniture Home Entertainment Tynecastle...</td>\n",
       "      <td>ROG-5323-55202-Hooker Furniture Home Entertain...</td>\n",
       "      <td>__EMPTY__VALUE__</td>\n",
       "      <td>Highly Figured Alder Veneers</td>\n",
       "      <td>Sophisticated and architectural in form, the T...</td>\n",
       "      <td>NaN</td>\n",
       "      <td>215.9</td>\n",
       "      <td>238.8</td>\n",
       "      <td>53.3</td>\n",
       "      <td>...</td>\n",
       "      <td>1</td>\n",
       "      <td>مستوردة</td>\n",
       "      <td>07/18/2021</td>\n",
       "      <td>09/16/2021</td>\n",
       "      <td>base</td>\n",
       "      <td>Default</td>\n",
       "      <td>simple</td>\n",
       "      <td>NaN</td>\n",
       "      <td>ROG</td>\n",
       "      <td>Static Text</td>\n",
       "    </tr>\n",
       "    <tr>\n",
       "      <th>1792</th>\n",
       "      <td>ROG-5271-70222</td>\n",
       "      <td>Hooker Furniture Home Entertainment Clermont F...</td>\n",
       "      <td>ROG-5271-70222-Hooker Furniture Home Entertain...</td>\n",
       "      <td>__EMPTY__VALUE__</td>\n",
       "      <td>Cherry Veneers</td>\n",
       "      <td>The Clermont Four Piece Wall Group is crafted ...</td>\n",
       "      <td>NaN</td>\n",
       "      <td>320.0</td>\n",
       "      <td>224.8</td>\n",
       "      <td>53.3</td>\n",
       "      <td>...</td>\n",
       "      <td>1</td>\n",
       "      <td>مستوردة</td>\n",
       "      <td>07/18/2021</td>\n",
       "      <td>09/16/2021</td>\n",
       "      <td>base</td>\n",
       "      <td>Default</td>\n",
       "      <td>simple</td>\n",
       "      <td>NaN</td>\n",
       "      <td>ROG</td>\n",
       "      <td>Static Text</td>\n",
       "    </tr>\n",
       "    <tr>\n",
       "      <th>1793</th>\n",
       "      <td>ROG-5371-70222</td>\n",
       "      <td>Hooker Furniture Home Entertainment Clermont F...</td>\n",
       "      <td>ROG-5371-70222-Hooker Furniture Home Entertain...</td>\n",
       "      <td>__EMPTY__VALUE__</td>\n",
       "      <td>Cherry Veneers</td>\n",
       "      <td>The charming Clermont Four Piece Wall Group is...</td>\n",
       "      <td>NaN</td>\n",
       "      <td>320.0</td>\n",
       "      <td>224.8</td>\n",
       "      <td>53.3</td>\n",
       "      <td>...</td>\n",
       "      <td>1</td>\n",
       "      <td>مستوردة</td>\n",
       "      <td>07/18/2021</td>\n",
       "      <td>09/16/2021</td>\n",
       "      <td>base</td>\n",
       "      <td>Default</td>\n",
       "      <td>simple</td>\n",
       "      <td>NaN</td>\n",
       "      <td>ROG</td>\n",
       "      <td>Static Text</td>\n",
       "    </tr>\n",
       "    <tr>\n",
       "      <th>1794</th>\n",
       "      <td>ROG-5107-70222</td>\n",
       "      <td>Hooker Furniture Home Entertainment Sorella Fo...</td>\n",
       "      <td>ROG-5107-70222-Hooker Furniture Home Entertain...</td>\n",
       "      <td>__EMPTY__VALUE__</td>\n",
       "      <td>Cherry Veneers</td>\n",
       "      <td>There are many comfortable ways to spend quali...</td>\n",
       "      <td>NaN</td>\n",
       "      <td>309.9</td>\n",
       "      <td>238.8</td>\n",
       "      <td>57.8</td>\n",
       "      <td>...</td>\n",
       "      <td>1</td>\n",
       "      <td>مستوردة</td>\n",
       "      <td>07/18/2021</td>\n",
       "      <td>09/16/2021</td>\n",
       "      <td>base</td>\n",
       "      <td>Default</td>\n",
       "      <td>simple</td>\n",
       "      <td>NaN</td>\n",
       "      <td>ROG</td>\n",
       "      <td>Static Text</td>\n",
       "    </tr>\n",
       "  </tbody>\n",
       "</table>\n",
       "<p>1794 rows × 38 columns</p>\n",
       "</div>"
      ],
      "text/plain": [
       "                    sku                                               name  \\\n",
       "0      ROG-SS195-03-083  Hooker Furniture Living Room Chester Tufted St...   \n",
       "1      ROG-SS387-03-087  Hooker Furniture Living Room Exton Stationary ...   \n",
       "2      ROG-SS519-03-087  Hooker Furniture Living Room Yates Stationary ...   \n",
       "3     ROG-5865-52004-95  Hooker Furniture Living Room Sanctuary Proper ...   \n",
       "4      ROG-SS185-03-089       Hooker Furniture Living Room Montgomery Sofa   \n",
       "...                 ...                                                ...   \n",
       "1790     ROG-5371-70202  Hooker Furniture Home Entertainment Clermont T...   \n",
       "1791     ROG-5323-55202  Hooker Furniture Home Entertainment Tynecastle...   \n",
       "1792     ROG-5271-70222  Hooker Furniture Home Entertainment Clermont F...   \n",
       "1793     ROG-5371-70222  Hooker Furniture Home Entertainment Clermont F...   \n",
       "1794     ROG-5107-70222  Hooker Furniture Home Entertainment Sorella Fo...   \n",
       "\n",
       "                                                url_key       free_colors  \\\n",
       "0     ROG-SS195-03-083-Hooker Furniture Living Room ...             Brown   \n",
       "1     ROG-SS387-03-087-Hooker Furniture Living Room ...             Brown   \n",
       "2     ROG-SS519-03-087-Hooker Furniture Living Room ...  __EMPTY__VALUE__   \n",
       "3     ROG-5865-52004-95-Hooker Furniture Living Room...             Beige   \n",
       "4     ROG-SS185-03-089-Hooker Furniture Living Room ...             Brown   \n",
       "...                                                 ...               ...   \n",
       "1790  ROG-5371-70202-Hooker Furniture Home Entertain...  __EMPTY__VALUE__   \n",
       "1791  ROG-5323-55202-Hooker Furniture Home Entertain...  __EMPTY__VALUE__   \n",
       "1792  ROG-5271-70222-Hooker Furniture Home Entertain...  __EMPTY__VALUE__   \n",
       "1793  ROG-5371-70222-Hooker Furniture Home Entertain...  __EMPTY__VALUE__   \n",
       "1794  ROG-5107-70222-Hooker Furniture Home Entertain...  __EMPTY__VALUE__   \n",
       "\n",
       "                     raw_materials  \\\n",
       "0                          Leather   \n",
       "1                          Leather   \n",
       "2                          Leather   \n",
       "3                 __EMPTY__VALUE__   \n",
       "4                          Leather   \n",
       "...                            ...   \n",
       "1790                Cherry Veneers   \n",
       "1791  Highly Figured Alder Veneers   \n",
       "1792                Cherry Veneers   \n",
       "1793                Cherry Veneers   \n",
       "1794                Cherry Veneers   \n",
       "\n",
       "                                      short_description  description  \\\n",
       "0     Hooker Furniture Upholstery is a designer-insp...          NaN   \n",
       "1     Developed by one of America's premier manufact...          NaN   \n",
       "2     Developed by one of America's premier manufact...          NaN   \n",
       "3     In a flawless, sophisticated contemporary silh...          NaN   \n",
       "4     Developed by one of America's premier manufact...          NaN   \n",
       "...                                                 ...          ...   \n",
       "1790  The charming Clermont Two Piece Entertainment ...          NaN   \n",
       "1791  Sophisticated and architectural in form, the T...          NaN   \n",
       "1792  The Clermont Four Piece Wall Group is crafted ...          NaN   \n",
       "1793  The charming Clermont Four Piece Wall Group is...          NaN   \n",
       "1794  There are many comfortable ways to spend quali...          NaN   \n",
       "\n",
       "     ts_dimensions_width ts_dimensions_height  ts_dimensions_length  ...  \\\n",
       "0                  240.0                 80.0                 104.1  ...   \n",
       "1                  210.8                 92.7                 105.4  ...   \n",
       "2                  235.0                 90.2                 105.4  ...   \n",
       "3                  181.6                 73.7                  81.3  ...   \n",
       "4                  210.8                 90.2                 102.9  ...   \n",
       "...                  ...                  ...                   ...  ...   \n",
       "1790               188.6                224.8                  53.3  ...   \n",
       "1791               215.9                238.8                  53.3  ...   \n",
       "1792               320.0                224.8                  53.3  ...   \n",
       "1793               320.0                224.8                  53.3  ...   \n",
       "1794               309.9                238.8                  57.8  ...   \n",
       "\n",
       "     allow_backorders manufacturer news_from_date news_to_date  \\\n",
       "0                   1      مستوردة     07/17/2021   09/15/2021   \n",
       "1                   1      مستوردة     07/17/2021   09/15/2021   \n",
       "2                   1      مستوردة     07/17/2021   09/15/2021   \n",
       "3                   1      مستوردة     07/17/2021   09/15/2021   \n",
       "4                   1      مستوردة     07/17/2021   09/15/2021   \n",
       "...               ...          ...            ...          ...   \n",
       "1790                1      مستوردة     07/18/2021   09/16/2021   \n",
       "1791                1      مستوردة     07/18/2021   09/16/2021   \n",
       "1792                1      مستوردة     07/18/2021   09/16/2021   \n",
       "1793                1      مستوردة     07/18/2021   09/16/2021   \n",
       "1794                1      مستوردة     07/18/2021   09/16/2021   \n",
       "\n",
       "     product_websites attribute_set_code product_type store_view_code  \\\n",
       "0                base            Default       simple             NaN   \n",
       "1                base            Default       simple             NaN   \n",
       "2                base            Default       simple             NaN   \n",
       "3                base            Default       simple             NaN   \n",
       "4                base            Default       simple             NaN   \n",
       "...               ...                ...          ...             ...   \n",
       "1790             base            Default       simple             NaN   \n",
       "1791             base            Default       simple             NaN   \n",
       "1792             base            Default       simple             NaN   \n",
       "1793             base            Default       simple             NaN   \n",
       "1794             base            Default       simple             NaN   \n",
       "\n",
       "     supplier estimated_delivery_enable  \n",
       "0         ROG               Static Text  \n",
       "1         ROG               Static Text  \n",
       "2         ROG               Static Text  \n",
       "3         ROG               Static Text  \n",
       "4         ROG               Static Text  \n",
       "...       ...                       ...  \n",
       "1790      ROG               Static Text  \n",
       "1791      ROG               Static Text  \n",
       "1792      ROG               Static Text  \n",
       "1793      ROG               Static Text  \n",
       "1794      ROG               Static Text  \n",
       "\n",
       "[1794 rows x 38 columns]"
      ]
     },
     "execution_count": 252,
     "metadata": {},
     "output_type": "execute_result"
    }
   ],
   "source": [
    "df.drop_duplicates(subset=['sku'])"
   ]
  },
  {
   "cell_type": "code",
   "execution_count": 251,
   "id": "69c4e4c6",
   "metadata": {},
   "outputs": [],
   "source": [
    "df.to_excel('Hooker_update_all.xlsx')\n"
   ]
  },
  {
   "cell_type": "code",
   "execution_count": 196,
   "id": "10b93eb2",
   "metadata": {},
   "outputs": [],
   "source": [
    "df['small_image'] =  df['base_image']\n",
    "df['swatch_image'] =  df['base_image']\n",
    "df['thumbnail_image'] =  df['base_image']\n",
    "df['attribute_set_code'] = 'Default'\n",
    "df['product_websites'] = 'base'\n"
   ]
  },
  {
   "cell_type": "code",
   "execution_count": 197,
   "id": "7deef635",
   "metadata": {},
   "outputs": [],
   "source": [
    "df['allow_backorders'] = df['is_in_stock']\n",
    "df['estimated_delivery_enable'] = 'Static Text'"
   ]
  },
  {
   "cell_type": "code",
   "execution_count": 198,
   "id": "f2909c74",
   "metadata": {},
   "outputs": [],
   "source": [
    "df['url_key'] = df['url_key'].str.replace(', ', '-')\n",
    "df['url_key'] = df['url_key'].str.replace('/', '-')\n",
    "df['url_key'] = df['url_key'].str.replace('\"', '-')\n",
    "df['url_key'] = df['url_key'].str.replace('%', '-')\n",
    "df['url_key'] = df['url_key'].str.replace('+', '-', regex=False)"
   ]
  },
  {
   "cell_type": "code",
   "execution_count": null,
   "id": "c5fbd6f2",
   "metadata": {},
   "outputs": [],
   "source": []
  },
  {
   "cell_type": "code",
   "execution_count": 199,
   "id": "07978719",
   "metadata": {},
   "outputs": [],
   "source": [
    "df.loc[df['ts_dimensions_width'] == 0, 'ts_dimensions_width'] = '__EMPTY__VALUE__'"
   ]
  },
  {
   "cell_type": "code",
   "execution_count": 200,
   "id": "8e2627e1",
   "metadata": {},
   "outputs": [],
   "source": [
    "df.loc[df['ts_dimensions_height'] == 0, 'ts_dimensions_height'] = '__EMPTY__VALUE__'"
   ]
  },
  {
   "cell_type": "code",
   "execution_count": 201,
   "id": "b86ba161",
   "metadata": {},
   "outputs": [],
   "source": [
    "df.loc[df['Weight'] == 0, 'Weight'] = '__EMPTY__VALUE__'"
   ]
  },
  {
   "cell_type": "code",
   "execution_count": 247,
   "id": "e3c25505",
   "metadata": {},
   "outputs": [],
   "source": [
    "df['free_colors'] = df['free_colors'].fillna(0)"
   ]
  },
  {
   "cell_type": "code",
   "execution_count": 250,
   "id": "adc3cfa1",
   "metadata": {},
   "outputs": [
    {
     "data": {
      "text/plain": [
       "0                Brown\n",
       "1                Brown\n",
       "2     __EMPTY__VALUE__\n",
       "3                Beige\n",
       "4                Brown\n",
       "            ...       \n",
       "95               Brown\n",
       "96               Brown\n",
       "97               Brown\n",
       "98               Brown\n",
       "99               Brown\n",
       "Name: free_colors, Length: 100, dtype: object"
      ]
     },
     "execution_count": 250,
     "metadata": {},
     "output_type": "execute_result"
    }
   ],
   "source": [
    "df['free_colors'].head(100)"
   ]
  },
  {
   "cell_type": "code",
   "execution_count": null,
   "id": "8d559cf4",
   "metadata": {},
   "outputs": [],
   "source": []
  },
  {
   "cell_type": "code",
   "execution_count": 249,
   "id": "40aadb38",
   "metadata": {},
   "outputs": [],
   "source": [
    "df.loc[df['free_colors'] == 0, 'free_colors'] =  '__EMPTY__VALUE__'"
   ]
  },
  {
   "cell_type": "code",
   "execution_count": 239,
   "id": "c8be9a14",
   "metadata": {},
   "outputs": [],
   "source": [
    "datatypes = df.dtypes"
   ]
  },
  {
   "cell_type": "code",
   "execution_count": 240,
   "id": "9d5f3bde",
   "metadata": {},
   "outputs": [
    {
     "data": {
      "text/plain": [
       "sku                           object\n",
       "name                          object\n",
       "url_key                       object\n",
       "free_colors                   object\n",
       "raw_materials                 object\n",
       "short_description             object\n",
       "description                  float64\n",
       "ts_dimensions_width           object\n",
       "ts_dimensions_height          object\n",
       "ts_dimensions_length         float64\n",
       "Weight                        object\n",
       "base_image                    object\n",
       "small_image                   object\n",
       "swatch_image                  object\n",
       "thumbnail_image               object\n",
       "additional_images             object\n",
       "categories1                   object\n",
       "categories2                   object\n",
       "categories3                   object\n",
       "price                         object\n",
       "special_price                 object\n",
       "visibility                    object\n",
       "tax_class_name                object\n",
       "Link_url                      object\n",
       "qty                            int64\n",
       "out_of_stock_qty               int64\n",
       "is_in_stock                    int64\n",
       "product_online                 int64\n",
       "allow_backorders               int64\n",
       "manufacturer                  object\n",
       "news_from_date                object\n",
       "news_to_date                  object\n",
       "product_websites              object\n",
       "attribute_set_code            object\n",
       "product_type                  object\n",
       "store_view_code              float64\n",
       "supplier                      object\n",
       "estimated_delivery_enable     object\n",
       "dtype: object"
      ]
     },
     "execution_count": 240,
     "metadata": {},
     "output_type": "execute_result"
    }
   ],
   "source": [
    "datatypes"
   ]
  },
  {
   "cell_type": "code",
   "execution_count": 233,
   "id": "8852be3f",
   "metadata": {},
   "outputs": [
    {
     "data": {
      "text/plain": [
       "0     Leather\n",
       "1     Leather\n",
       "2     Leather\n",
       "3         NaN\n",
       "4     Leather\n",
       "       ...   \n",
       "95    Leather\n",
       "96    Leather\n",
       "97    Leather\n",
       "98    Leather\n",
       "99        NaN\n",
       "Name: raw_materials, Length: 100, dtype: object"
      ]
     },
     "execution_count": 233,
     "metadata": {},
     "output_type": "execute_result"
    }
   ],
   "source": [
    "df['raw_materials'].head(100)"
   ]
  },
  {
   "cell_type": "code",
   "execution_count": 29,
   "id": "1f2cea67",
   "metadata": {},
   "outputs": [],
   "source": [
    "df = pd.concat([df, df24], ignore_index=True)\n"
   ]
  },
  {
   "cell_type": "code",
   "execution_count": 45,
   "id": "e9367e21",
   "metadata": {},
   "outputs": [],
   "source": [
    "df = pd.concat([df, df8], ignore_index=True)\n"
   ]
  },
  {
   "cell_type": "code",
   "execution_count": 32,
   "id": "3ea0a4ee",
   "metadata": {},
   "outputs": [],
   "source": [
    "df.drop_duplicates(subset=['sku'], inplace=True)\n"
   ]
  },
  {
   "cell_type": "code",
   "execution_count": 41,
   "id": "19815700",
   "metadata": {},
   "outputs": [
    {
     "data": {
      "text/plain": [
       "0       https://www.youtube.com/embed/8fnWUF6KunU?enab...\n",
       "1       https://www.youtube.com/embed/szRbzB13zdI?enab...\n",
       "2                                       javascript:false;\n",
       "3       https://www.youtube.com/embed/-C7txhyQd00?enab...\n",
       "4       https://www.youtube.com/embed/M2-B_gSSBPI?enab...\n",
       "                              ...                        \n",
       "1872                                    javascript:false;\n",
       "1873                                    javascript:false;\n",
       "1874                                    javascript:false;\n",
       "1875                                    javascript:false;\n",
       "1876                                    javascript:false;\n",
       "Name: video_url, Length: 1856, dtype: object"
      ]
     },
     "execution_count": 41,
     "metadata": {},
     "output_type": "execute_result"
    }
   ],
   "source": [
    "df.loc[df['video_url'] == ' javascript:false;'] = ''"
   ]
  },
  {
   "cell_type": "code",
   "execution_count": null,
   "id": "a7d6372d",
   "metadata": {},
   "outputs": [],
   "source": []
  },
  {
   "cell_type": "code",
   "execution_count": 35,
   "id": "ce779ebb",
   "metadata": {},
   "outputs": [
    {
     "data": {
      "text/plain": [
       "Index(['sku', 'name', 'url_key', 'short_description', 'description',\n",
       "       'free_colors', 'raw_materials', 'ts_dimensions_width',\n",
       "       'ts_dimensions_height', 'ts_dimensions_length', 'Weight', 'base_image',\n",
       "       'small_image', 'swatch_image', 'thumbnail_image', 'additional_images ',\n",
       "       'categories1', 'categories2', 'categories3', 'price', 'special_price',\n",
       "       'visibility', 'tax_class_name', 'Link_url', 'video_url', 'qty',\n",
       "       'out_of_stock_qty', 'is_in_stock', 'product_online', 'allow_backorders',\n",
       "       'manufacturer', 'news_from_date', 'news_to_date', 'product_websites',\n",
       "       'attribute_set_code', 'product_type', 'store_view_code', 'supplier'],\n",
       "      dtype='object')"
      ]
     },
     "execution_count": 35,
     "metadata": {},
     "output_type": "execute_result"
    }
   ],
   "source": [
    "df.columns"
   ]
  },
  {
   "cell_type": "code",
   "execution_count": 203,
   "id": "0ba4e69e",
   "metadata": {},
   "outputs": [],
   "source": [
    "df.loc[df['special_price'] == 0, 'special_price'] = '__EMPTY__VALUE__'"
   ]
  },
  {
   "cell_type": "code",
   "execution_count": 204,
   "id": "dd23175e",
   "metadata": {},
   "outputs": [],
   "source": [
    "df.loc[df['price'] == 0, 'price'] = '__EMPTY__VALUE__'"
   ]
  },
  {
   "cell_type": "code",
   "execution_count": 214,
   "id": "1e0615e0",
   "metadata": {},
   "outputs": [],
   "source": [
    "df['url_key'] = 'ROG-' +  df['url_key']"
   ]
  },
  {
   "cell_type": "code",
   "execution_count": 215,
   "id": "afc7377b",
   "metadata": {},
   "outputs": [
    {
     "data": {
      "text/plain": [
       "0       ROG-SS195-03-083-Hooker Furniture Living Room ...\n",
       "1       ROG-SS387-03-087-Hooker Furniture Living Room ...\n",
       "2       ROG-SS519-03-087-Hooker Furniture Living Room ...\n",
       "3       ROG-5865-52004-95-Hooker Furniture Living Room...\n",
       "4       ROG-SS185-03-089-Hooker Furniture Living Room ...\n",
       "                              ...                        \n",
       "1790    ROG-5371-70202-Hooker Furniture Home Entertain...\n",
       "1791    ROG-5323-55202-Hooker Furniture Home Entertain...\n",
       "1792    ROG-5271-70222-Hooker Furniture Home Entertain...\n",
       "1793    ROG-5371-70222-Hooker Furniture Home Entertain...\n",
       "1794    ROG-5107-70222-Hooker Furniture Home Entertain...\n",
       "Name: url_key, Length: 1795, dtype: object"
      ]
     },
     "execution_count": 215,
     "metadata": {},
     "output_type": "execute_result"
    }
   ],
   "source": [
    "df['url_key']"
   ]
  },
  {
   "cell_type": "code",
   "execution_count": 57,
   "id": "cddb2888",
   "metadata": {},
   "outputs": [],
   "source": [
    "df_all.to_excel('SageBrook_update2.xlsx')"
   ]
  },
  {
   "cell_type": "code",
   "execution_count": null,
   "id": "a23abcb0",
   "metadata": {},
   "outputs": [],
   "source": []
  },
  {
   "cell_type": "code",
   "execution_count": null,
   "id": "5fb33f3d",
   "metadata": {},
   "outputs": [],
   "source": [
    "df"
   ]
  },
  {
   "cell_type": "code",
   "execution_count": null,
   "id": "3991cdec",
   "metadata": {},
   "outputs": [],
   "source": []
  },
  {
   "cell_type": "code",
   "execution_count": null,
   "id": "291a3247",
   "metadata": {},
   "outputs": [],
   "source": []
  },
  {
   "cell_type": "code",
   "execution_count": null,
   "id": "2ceacf9c",
   "metadata": {},
   "outputs": [],
   "source": []
  },
  {
   "cell_type": "code",
   "execution_count": null,
   "id": "6308ec78",
   "metadata": {},
   "outputs": [],
   "source": []
  },
  {
   "cell_type": "code",
   "execution_count": null,
   "id": "53f9b991",
   "metadata": {},
   "outputs": [],
   "source": []
  },
  {
   "cell_type": "code",
   "execution_count": null,
   "id": "15550f0d",
   "metadata": {},
   "outputs": [],
   "source": []
  },
  {
   "cell_type": "code",
   "execution_count": null,
   "id": "9baa0d22",
   "metadata": {},
   "outputs": [],
   "source": []
  },
  {
   "cell_type": "code",
   "execution_count": null,
   "id": "f2899e3a",
   "metadata": {},
   "outputs": [],
   "source": []
  },
  {
   "cell_type": "code",
   "execution_count": null,
   "id": "714493c7",
   "metadata": {},
   "outputs": [],
   "source": []
  },
  {
   "cell_type": "code",
   "execution_count": null,
   "id": "e9eb60dd",
   "metadata": {},
   "outputs": [],
   "source": []
  }
 ],
 "metadata": {
  "celltoolbar": "Raw Cell Format",
  "kernelspec": {
   "display_name": "Python 3",
   "language": "python",
   "name": "python3"
  },
  "language_info": {
   "codemirror_mode": {
    "name": "ipython",
    "version": 3
   },
   "file_extension": ".py",
   "mimetype": "text/x-python",
   "name": "python",
   "nbconvert_exporter": "python",
   "pygments_lexer": "ipython3",
   "version": "3.8.8"
  },
  "toc": {
   "base_numbering": 1,
   "nav_menu": {},
   "number_sections": true,
   "sideBar": true,
   "skip_h1_title": false,
   "title_cell": "Table of Contents",
   "title_sidebar": "Contents",
   "toc_cell": false,
   "toc_position": {
    "height": "calc(100% - 180px)",
    "left": "10px",
    "top": "150px",
    "width": "352px"
   },
   "toc_section_display": true,
   "toc_window_display": true
  }
 },
 "nbformat": 4,
 "nbformat_minor": 5
}
